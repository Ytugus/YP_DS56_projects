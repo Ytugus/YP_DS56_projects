{
 "cells": [
  {
   "cell_type": "markdown",
   "metadata": {
    "toc": true
   },
   "source": [
    "<h1>Содержание<span class=\"tocSkip\"></span></h1>\n",
    "<div class=\"toc\"><ul class=\"toc-item\"><li><span><a href=\"#Подготовка-данных\" data-toc-modified-id=\"Подготовка-данных-1\"><span class=\"toc-item-num\">1&nbsp;&nbsp;</span>Подготовка данных</a></span><ul class=\"toc-item\"><li><span><a href=\"#Знакомство-с-данными\" data-toc-modified-id=\"Знакомство-с-данными-1.1\"><span class=\"toc-item-num\">1.1&nbsp;&nbsp;</span>Знакомство с данными</a></span></li><li><span><a href=\"#Расчет-эффективности-обогащения\" data-toc-modified-id=\"Расчет-эффективности-обогащения-1.2\"><span class=\"toc-item-num\">1.2&nbsp;&nbsp;</span>Расчет эффективности обогащения</a></span></li><li><span><a href=\"#Анализ-признаков,-недоступных-в-тестовой-выборке\" data-toc-modified-id=\"Анализ-признаков,-недоступных-в-тестовой-выборке-1.3\"><span class=\"toc-item-num\">1.3&nbsp;&nbsp;</span>Анализ признаков, недоступных в тестовой выборке</a></span></li><li><span><a href=\"#Предобработка-данных\" data-toc-modified-id=\"Предобработка-данных-1.4\"><span class=\"toc-item-num\">1.4&nbsp;&nbsp;</span>Предобработка данных</a></span></li><li><span><a href=\"#Вывод\" data-toc-modified-id=\"Вывод-1.5\"><span class=\"toc-item-num\">1.5&nbsp;&nbsp;</span>Вывод</a></span></li></ul></li><li><span><a href=\"#Анализ-данных\" data-toc-modified-id=\"Анализ-данных-2\"><span class=\"toc-item-num\">2&nbsp;&nbsp;</span>Анализ данных</a></span><ul class=\"toc-item\"><li><span><a href=\"#Анализ-концентрация-металлов-(Au,-Ag,-Pb)-на-различных-этапах-очистки\" data-toc-modified-id=\"Анализ-концентрация-металлов-(Au,-Ag,-Pb)-на-различных-этапах-очистки-2.1\"><span class=\"toc-item-num\">2.1&nbsp;&nbsp;</span>Анализ концентрация металлов (Au, Ag, Pb) на различных этапах очистки</a></span></li><li><span><a href=\"#Сравнение-распределения-размеров-гранул-сырья-на-обучающей-и-тестовой-выборках\" data-toc-modified-id=\"Сравнение-распределения-размеров-гранул-сырья-на-обучающей-и-тестовой-выборках-2.2\"><span class=\"toc-item-num\">2.2&nbsp;&nbsp;</span>Сравнение распределения размеров гранул сырья на обучающей и тестовой выборках</a></span></li><li><span><a href=\"#Исследуем-суммарную-концентрацию-всех-веществ-на-разных-стадиях:-в-сырье,-в-черновом-и-финальном-концентратах.\" data-toc-modified-id=\"Исследуем-суммарную-концентрацию-всех-веществ-на-разных-стадиях:-в-сырье,-в-черновом-и-финальном-концентратах.-2.3\"><span class=\"toc-item-num\">2.3&nbsp;&nbsp;</span>Исследуем суммарную концентрацию всех веществ на разных стадиях: в сырье, в черновом и финальном концентратах.</a></span></li><li><span><a href=\"#Вывод\" data-toc-modified-id=\"Вывод-2.4\"><span class=\"toc-item-num\">2.4&nbsp;&nbsp;</span>Вывод</a></span></li></ul></li><li><span><a href=\"#Модель\" data-toc-modified-id=\"Модель-3\"><span class=\"toc-item-num\">3&nbsp;&nbsp;</span>Модель</a></span><ul class=\"toc-item\"><li><span><a href=\"#Функция-для-вычисления-итогового-sMAPE\" data-toc-modified-id=\"Функция-для-вычисления-итогового-sMAPE-3.1\"><span class=\"toc-item-num\">3.1&nbsp;&nbsp;</span>Функция для вычисления итогового sMAPE</a></span></li><li><span><a href=\"#Обучим-и-проверим-несколько-моделей\" data-toc-modified-id=\"Обучим-и-проверим-несколько-моделей-3.2\"><span class=\"toc-item-num\">3.2&nbsp;&nbsp;</span>Обучим и проверим несколько моделей</a></span></li><li><span><a href=\"#Проверка-качества-на-тестовой-выборке\" data-toc-modified-id=\"Проверка-качества-на-тестовой-выборке-3.3\"><span class=\"toc-item-num\">3.3&nbsp;&nbsp;</span>Проверка качества на тестовой выборке</a></span></li><li><span><a href=\"#Вывод\" data-toc-modified-id=\"Вывод-3.4\"><span class=\"toc-item-num\">3.4&nbsp;&nbsp;</span>Вывод</a></span></li></ul></li><li><span><a href=\"#Общий-вывод\" data-toc-modified-id=\"Общий-вывод-4\"><span class=\"toc-item-num\">4&nbsp;&nbsp;</span>Общий вывод</a></span></li><li><span><a href=\"#Чек-лист-готовности-проекта\" data-toc-modified-id=\"Чек-лист-готовности-проекта-5\"><span class=\"toc-item-num\">5&nbsp;&nbsp;</span>Чек-лист готовности проекта</a></span></li></ul></div>"
   ]
  },
  {
   "cell_type": "markdown",
   "metadata": {},
   "source": [
    "# Восстановление золота из руды"
   ]
  },
  {
   "cell_type": "markdown",
   "metadata": {},
   "source": [
    "Подготовьте прототип модели машинного обучения для «Цифры». Компания разрабатывает решения для эффективной работы промышленных предприятий.\n",
    "\n",
    "Модель должна предсказать коэффициент восстановления золота из золотосодержащей руды. Используйте данные с параметрами добычи и очистки. \n",
    "\n",
    "Модель поможет оптимизировать производство, чтобы не запускать предприятие с убыточными характеристиками.\n",
    "\n",
    "Вам нужно:\n",
    "\n",
    "1. Подготовить данные;\n",
    "2. Провести исследовательский анализ данных;\n",
    "3. Построить и обучить модель.\n",
    "\n",
    "Чтобы выполнить проект, обращайтесь к библиотекам *pandas*, *matplotlib* и *sklearn.* Вам поможет их документация."
   ]
  },
  {
   "cell_type": "markdown",
   "metadata": {},
   "source": [
    "# Цель проекта"
   ]
  },
  {
   "cell_type": "markdown",
   "metadata": {},
   "source": [
    "Подготовьте прототип модели машинного обучения для компании"
   ]
  },
  {
   "cell_type": "markdown",
   "metadata": {},
   "source": [
    "# Описание данных"
   ]
  },
  {
   "cell_type": "markdown",
   "metadata": {},
   "source": [
    "**Технологический процесс:**\n",
    "- Rougher feed — исходное сырье\n",
    "- Rougher additions (или reagent additions) — флотационные реагенты: Xanthate, Sulphate, Depressant\n",
    "- Xanthate — ксантогенат (промотер, или активатор флотации);\n",
    "- Sulphate — сульфат (на данном производстве сульфид натрия);\n",
    "- Depressant — депрессант (силикат натрия).\n",
    "- Rougher process (англ. «грубый процесс») — флотация\n",
    "- Rougher tails — отвальные хвосты\n",
    "- Float banks — флотационная установка\n",
    "- Cleaner process — очистка\n",
    "- Rougher Au — черновой концентрат золота\n",
    "- Final Au — финальный концентрат золота\n",
    "\n",
    "**Параметры этапов:**\n",
    "- air amount — объём воздуха\n",
    "- fluid levels — уровень жидкости\n",
    "- feed size — размер гранул сырья\n",
    "- feed rate — скорость подачи\n",
    "\n",
    "**Наименование признаков должно быть такое:**\n",
    "\n",
    "[этап].[тип_параметра].[название_параметра]\n",
    "\n",
    "Пример: rougher.input.feed_ag\n",
    "\n",
    "**Возможные значения для блока [этап]:**\n",
    "- rougher — флотация\n",
    "- primary_cleaner — первичная очистка\n",
    "- secondary_cleaner — вторичная очистка\n",
    "- final — финальные характеристик\n",
    "\n",
    "**Возможные значения для блока [тип_параметра]:**\n",
    "- input — параметры сырья\n",
    "- output — параметры продукта\n",
    "- state — параметры, характеризующие текущее состояние этапа\n",
    "- calculation — расчётные характеристики"
   ]
  },
  {
   "cell_type": "markdown",
   "metadata": {},
   "source": [
    "# План работы"
   ]
  },
  {
   "cell_type": "markdown",
   "metadata": {},
   "source": [
    "- Общяя подготовка данных к анализу и построению моделей\n",
    " - Ознакомимся с датафреймом, отметим его особенности для дальнейшей работы\n",
    " - Проверим насколько эффективность обогащения рассчитана правильно, вычислим MAE между нашими расчётами и значением признака\n",
    " - Проведем предобработку данных\n",
    " \n",
    "- Анализ данных\n",
    " - Проанализируем концетрацию металлов на разных стадиях обработки\n",
    " - Сравним распределение размеров гранул сырья на выборках\n",
    " - Исследуем суммарные концентрации всех веществ на разных стадиях\n",
    " \n",
    "- Построение моделей\n",
    " - Напишем функцию для метрики sMAPE\n",
    " - Построим модели\n",
    " - Проверим качество модели на тестовой выборке"
   ]
  },
  {
   "cell_type": "markdown",
   "metadata": {},
   "source": [
    "## Подготовка данных"
   ]
  },
  {
   "cell_type": "markdown",
   "metadata": {},
   "source": [
    "### Знакомство с данными"
   ]
  },
  {
   "cell_type": "markdown",
   "metadata": {},
   "source": [
    "Импортируем все необходимые библиотеки"
   ]
  },
  {
   "cell_type": "code",
   "execution_count": 1,
   "metadata": {},
   "outputs": [],
   "source": [
    "import pandas as pd\n",
    "import numpy as np\n",
    "import matplotlib.pyplot as plt\n",
    "import seaborn as sns\n",
    "import math\n",
    "\n",
    "from sklearn.metrics import mean_absolute_error, make_scorer\n",
    "\n",
    "from sklearn.model_selection import train_test_split, cross_val_score\n",
    "\n",
    "from sklearn.tree import DecisionTreeRegressor\n",
    "from sklearn.ensemble import RandomForestRegressor\n",
    "from sklearn.linear_model import LinearRegression\n",
    "\n",
    "from sklearn.dummy import DummyRegressor\n",
    "\n",
    "from sklearn.preprocessing import StandardScaler "
   ]
  },
  {
   "cell_type": "markdown",
   "metadata": {},
   "source": [
    "Запишем данные выборок в переменные, посмотрим на первые несколько строк и выведим info"
   ]
  },
  {
   "cell_type": "code",
   "execution_count": 2,
   "metadata": {},
   "outputs": [],
   "source": [
    "data_train = pd.read_csv('/datasets/gold_recovery_train_new.csv')\n",
    "data_test = pd.read_csv('/datasets/gold_recovery_test_new.csv')\n",
    "data_full = pd.read_csv('/datasets/gold_recovery_full_new.csv')"
   ]
  },
  {
   "cell_type": "code",
   "execution_count": 3,
   "metadata": {
    "scrolled": true
   },
   "outputs": [
    {
     "data": {
      "text/html": [
       "<div>\n",
       "<style scoped>\n",
       "    .dataframe tbody tr th:only-of-type {\n",
       "        vertical-align: middle;\n",
       "    }\n",
       "\n",
       "    .dataframe tbody tr th {\n",
       "        vertical-align: top;\n",
       "    }\n",
       "\n",
       "    .dataframe thead th {\n",
       "        text-align: right;\n",
       "    }\n",
       "</style>\n",
       "<table border=\"1\" class=\"dataframe\">\n",
       "  <thead>\n",
       "    <tr style=\"text-align: right;\">\n",
       "      <th></th>\n",
       "      <th>date</th>\n",
       "      <th>final.output.concentrate_ag</th>\n",
       "      <th>final.output.concentrate_pb</th>\n",
       "      <th>final.output.concentrate_sol</th>\n",
       "      <th>final.output.concentrate_au</th>\n",
       "      <th>final.output.recovery</th>\n",
       "      <th>final.output.tail_ag</th>\n",
       "      <th>final.output.tail_pb</th>\n",
       "      <th>final.output.tail_sol</th>\n",
       "      <th>final.output.tail_au</th>\n",
       "      <th>...</th>\n",
       "      <th>secondary_cleaner.state.floatbank4_a_air</th>\n",
       "      <th>secondary_cleaner.state.floatbank4_a_level</th>\n",
       "      <th>secondary_cleaner.state.floatbank4_b_air</th>\n",
       "      <th>secondary_cleaner.state.floatbank4_b_level</th>\n",
       "      <th>secondary_cleaner.state.floatbank5_a_air</th>\n",
       "      <th>secondary_cleaner.state.floatbank5_a_level</th>\n",
       "      <th>secondary_cleaner.state.floatbank5_b_air</th>\n",
       "      <th>secondary_cleaner.state.floatbank5_b_level</th>\n",
       "      <th>secondary_cleaner.state.floatbank6_a_air</th>\n",
       "      <th>secondary_cleaner.state.floatbank6_a_level</th>\n",
       "    </tr>\n",
       "  </thead>\n",
       "  <tbody>\n",
       "    <tr>\n",
       "      <th>0</th>\n",
       "      <td>2016-01-15 00:00:00</td>\n",
       "      <td>6.055403</td>\n",
       "      <td>9.889648</td>\n",
       "      <td>5.507324</td>\n",
       "      <td>42.192020</td>\n",
       "      <td>70.541216</td>\n",
       "      <td>10.411962</td>\n",
       "      <td>0.895447</td>\n",
       "      <td>16.904297</td>\n",
       "      <td>2.143149</td>\n",
       "      <td>...</td>\n",
       "      <td>14.016835</td>\n",
       "      <td>-502.488007</td>\n",
       "      <td>12.099931</td>\n",
       "      <td>-504.715942</td>\n",
       "      <td>9.925633</td>\n",
       "      <td>-498.310211</td>\n",
       "      <td>8.079666</td>\n",
       "      <td>-500.470978</td>\n",
       "      <td>14.151341</td>\n",
       "      <td>-605.841980</td>\n",
       "    </tr>\n",
       "    <tr>\n",
       "      <th>1</th>\n",
       "      <td>2016-01-15 01:00:00</td>\n",
       "      <td>6.029369</td>\n",
       "      <td>9.968944</td>\n",
       "      <td>5.257781</td>\n",
       "      <td>42.701629</td>\n",
       "      <td>69.266198</td>\n",
       "      <td>10.462676</td>\n",
       "      <td>0.927452</td>\n",
       "      <td>16.634514</td>\n",
       "      <td>2.224930</td>\n",
       "      <td>...</td>\n",
       "      <td>13.992281</td>\n",
       "      <td>-505.503262</td>\n",
       "      <td>11.950531</td>\n",
       "      <td>-501.331529</td>\n",
       "      <td>10.039245</td>\n",
       "      <td>-500.169983</td>\n",
       "      <td>7.984757</td>\n",
       "      <td>-500.582168</td>\n",
       "      <td>13.998353</td>\n",
       "      <td>-599.787184</td>\n",
       "    </tr>\n",
       "    <tr>\n",
       "      <th>2</th>\n",
       "      <td>2016-01-15 02:00:00</td>\n",
       "      <td>6.055926</td>\n",
       "      <td>10.213995</td>\n",
       "      <td>5.383759</td>\n",
       "      <td>42.657501</td>\n",
       "      <td>68.116445</td>\n",
       "      <td>10.507046</td>\n",
       "      <td>0.953716</td>\n",
       "      <td>16.208849</td>\n",
       "      <td>2.257889</td>\n",
       "      <td>...</td>\n",
       "      <td>14.015015</td>\n",
       "      <td>-502.520901</td>\n",
       "      <td>11.912783</td>\n",
       "      <td>-501.133383</td>\n",
       "      <td>10.070913</td>\n",
       "      <td>-500.129135</td>\n",
       "      <td>8.013877</td>\n",
       "      <td>-500.517572</td>\n",
       "      <td>14.028663</td>\n",
       "      <td>-601.427363</td>\n",
       "    </tr>\n",
       "    <tr>\n",
       "      <th>3</th>\n",
       "      <td>2016-01-15 03:00:00</td>\n",
       "      <td>6.047977</td>\n",
       "      <td>9.977019</td>\n",
       "      <td>4.858634</td>\n",
       "      <td>42.689819</td>\n",
       "      <td>68.347543</td>\n",
       "      <td>10.422762</td>\n",
       "      <td>0.883763</td>\n",
       "      <td>16.532835</td>\n",
       "      <td>2.146849</td>\n",
       "      <td>...</td>\n",
       "      <td>14.036510</td>\n",
       "      <td>-500.857308</td>\n",
       "      <td>11.999550</td>\n",
       "      <td>-501.193686</td>\n",
       "      <td>9.970366</td>\n",
       "      <td>-499.201640</td>\n",
       "      <td>7.977324</td>\n",
       "      <td>-500.255908</td>\n",
       "      <td>14.005551</td>\n",
       "      <td>-599.996129</td>\n",
       "    </tr>\n",
       "    <tr>\n",
       "      <th>4</th>\n",
       "      <td>2016-01-15 04:00:00</td>\n",
       "      <td>6.148599</td>\n",
       "      <td>10.142511</td>\n",
       "      <td>4.939416</td>\n",
       "      <td>42.774141</td>\n",
       "      <td>66.927016</td>\n",
       "      <td>10.360302</td>\n",
       "      <td>0.792826</td>\n",
       "      <td>16.525686</td>\n",
       "      <td>2.055292</td>\n",
       "      <td>...</td>\n",
       "      <td>14.027298</td>\n",
       "      <td>-499.838632</td>\n",
       "      <td>11.953070</td>\n",
       "      <td>-501.053894</td>\n",
       "      <td>9.925709</td>\n",
       "      <td>-501.686727</td>\n",
       "      <td>7.894242</td>\n",
       "      <td>-500.356035</td>\n",
       "      <td>13.996647</td>\n",
       "      <td>-601.496691</td>\n",
       "    </tr>\n",
       "  </tbody>\n",
       "</table>\n",
       "<p>5 rows × 87 columns</p>\n",
       "</div>"
      ],
      "text/plain": [
       "                  date  final.output.concentrate_ag  \\\n",
       "0  2016-01-15 00:00:00                     6.055403   \n",
       "1  2016-01-15 01:00:00                     6.029369   \n",
       "2  2016-01-15 02:00:00                     6.055926   \n",
       "3  2016-01-15 03:00:00                     6.047977   \n",
       "4  2016-01-15 04:00:00                     6.148599   \n",
       "\n",
       "   final.output.concentrate_pb  final.output.concentrate_sol  \\\n",
       "0                     9.889648                      5.507324   \n",
       "1                     9.968944                      5.257781   \n",
       "2                    10.213995                      5.383759   \n",
       "3                     9.977019                      4.858634   \n",
       "4                    10.142511                      4.939416   \n",
       "\n",
       "   final.output.concentrate_au  final.output.recovery  final.output.tail_ag  \\\n",
       "0                    42.192020              70.541216             10.411962   \n",
       "1                    42.701629              69.266198             10.462676   \n",
       "2                    42.657501              68.116445             10.507046   \n",
       "3                    42.689819              68.347543             10.422762   \n",
       "4                    42.774141              66.927016             10.360302   \n",
       "\n",
       "   final.output.tail_pb  final.output.tail_sol  final.output.tail_au  ...  \\\n",
       "0              0.895447              16.904297              2.143149  ...   \n",
       "1              0.927452              16.634514              2.224930  ...   \n",
       "2              0.953716              16.208849              2.257889  ...   \n",
       "3              0.883763              16.532835              2.146849  ...   \n",
       "4              0.792826              16.525686              2.055292  ...   \n",
       "\n",
       "   secondary_cleaner.state.floatbank4_a_air  \\\n",
       "0                                 14.016835   \n",
       "1                                 13.992281   \n",
       "2                                 14.015015   \n",
       "3                                 14.036510   \n",
       "4                                 14.027298   \n",
       "\n",
       "   secondary_cleaner.state.floatbank4_a_level  \\\n",
       "0                                 -502.488007   \n",
       "1                                 -505.503262   \n",
       "2                                 -502.520901   \n",
       "3                                 -500.857308   \n",
       "4                                 -499.838632   \n",
       "\n",
       "   secondary_cleaner.state.floatbank4_b_air  \\\n",
       "0                                 12.099931   \n",
       "1                                 11.950531   \n",
       "2                                 11.912783   \n",
       "3                                 11.999550   \n",
       "4                                 11.953070   \n",
       "\n",
       "   secondary_cleaner.state.floatbank4_b_level  \\\n",
       "0                                 -504.715942   \n",
       "1                                 -501.331529   \n",
       "2                                 -501.133383   \n",
       "3                                 -501.193686   \n",
       "4                                 -501.053894   \n",
       "\n",
       "   secondary_cleaner.state.floatbank5_a_air  \\\n",
       "0                                  9.925633   \n",
       "1                                 10.039245   \n",
       "2                                 10.070913   \n",
       "3                                  9.970366   \n",
       "4                                  9.925709   \n",
       "\n",
       "   secondary_cleaner.state.floatbank5_a_level  \\\n",
       "0                                 -498.310211   \n",
       "1                                 -500.169983   \n",
       "2                                 -500.129135   \n",
       "3                                 -499.201640   \n",
       "4                                 -501.686727   \n",
       "\n",
       "   secondary_cleaner.state.floatbank5_b_air  \\\n",
       "0                                  8.079666   \n",
       "1                                  7.984757   \n",
       "2                                  8.013877   \n",
       "3                                  7.977324   \n",
       "4                                  7.894242   \n",
       "\n",
       "   secondary_cleaner.state.floatbank5_b_level  \\\n",
       "0                                 -500.470978   \n",
       "1                                 -500.582168   \n",
       "2                                 -500.517572   \n",
       "3                                 -500.255908   \n",
       "4                                 -500.356035   \n",
       "\n",
       "   secondary_cleaner.state.floatbank6_a_air  \\\n",
       "0                                 14.151341   \n",
       "1                                 13.998353   \n",
       "2                                 14.028663   \n",
       "3                                 14.005551   \n",
       "4                                 13.996647   \n",
       "\n",
       "   secondary_cleaner.state.floatbank6_a_level  \n",
       "0                                 -605.841980  \n",
       "1                                 -599.787184  \n",
       "2                                 -601.427363  \n",
       "3                                 -599.996129  \n",
       "4                                 -601.496691  \n",
       "\n",
       "[5 rows x 87 columns]"
      ]
     },
     "execution_count": 3,
     "metadata": {},
     "output_type": "execute_result"
    }
   ],
   "source": [
    "data_train.head()"
   ]
  },
  {
   "cell_type": "code",
   "execution_count": 4,
   "metadata": {
    "scrolled": true
   },
   "outputs": [
    {
     "name": "stdout",
     "output_type": "stream",
     "text": [
      "<class 'pandas.core.frame.DataFrame'>\n",
      "RangeIndex: 14149 entries, 0 to 14148\n",
      "Data columns (total 87 columns):\n",
      " #   Column                                              Non-Null Count  Dtype  \n",
      "---  ------                                              --------------  -----  \n",
      " 0   date                                                14149 non-null  object \n",
      " 1   final.output.concentrate_ag                         14148 non-null  float64\n",
      " 2   final.output.concentrate_pb                         14148 non-null  float64\n",
      " 3   final.output.concentrate_sol                        13938 non-null  float64\n",
      " 4   final.output.concentrate_au                         14149 non-null  float64\n",
      " 5   final.output.recovery                               14149 non-null  float64\n",
      " 6   final.output.tail_ag                                14149 non-null  float64\n",
      " 7   final.output.tail_pb                                14049 non-null  float64\n",
      " 8   final.output.tail_sol                               14144 non-null  float64\n",
      " 9   final.output.tail_au                                14149 non-null  float64\n",
      " 10  primary_cleaner.input.sulfate                       14129 non-null  float64\n",
      " 11  primary_cleaner.input.depressant                    14117 non-null  float64\n",
      " 12  primary_cleaner.input.feed_size                     14149 non-null  float64\n",
      " 13  primary_cleaner.input.xanthate                      14049 non-null  float64\n",
      " 14  primary_cleaner.output.concentrate_ag               14149 non-null  float64\n",
      " 15  primary_cleaner.output.concentrate_pb               14063 non-null  float64\n",
      " 16  primary_cleaner.output.concentrate_sol              13863 non-null  float64\n",
      " 17  primary_cleaner.output.concentrate_au               14149 non-null  float64\n",
      " 18  primary_cleaner.output.tail_ag                      14148 non-null  float64\n",
      " 19  primary_cleaner.output.tail_pb                      14134 non-null  float64\n",
      " 20  primary_cleaner.output.tail_sol                     14103 non-null  float64\n",
      " 21  primary_cleaner.output.tail_au                      14149 non-null  float64\n",
      " 22  primary_cleaner.state.floatbank8_a_air              14145 non-null  float64\n",
      " 23  primary_cleaner.state.floatbank8_a_level            14148 non-null  float64\n",
      " 24  primary_cleaner.state.floatbank8_b_air              14145 non-null  float64\n",
      " 25  primary_cleaner.state.floatbank8_b_level            14148 non-null  float64\n",
      " 26  primary_cleaner.state.floatbank8_c_air              14147 non-null  float64\n",
      " 27  primary_cleaner.state.floatbank8_c_level            14148 non-null  float64\n",
      " 28  primary_cleaner.state.floatbank8_d_air              14146 non-null  float64\n",
      " 29  primary_cleaner.state.floatbank8_d_level            14148 non-null  float64\n",
      " 30  rougher.calculation.sulfate_to_au_concentrate       14148 non-null  float64\n",
      " 31  rougher.calculation.floatbank10_sulfate_to_au_feed  14148 non-null  float64\n",
      " 32  rougher.calculation.floatbank11_sulfate_to_au_feed  14148 non-null  float64\n",
      " 33  rougher.calculation.au_pb_ratio                     14149 non-null  float64\n",
      " 34  rougher.input.feed_ag                               14149 non-null  float64\n",
      " 35  rougher.input.feed_pb                               14049 non-null  float64\n",
      " 36  rougher.input.feed_rate                             14141 non-null  float64\n",
      " 37  rougher.input.feed_size                             14005 non-null  float64\n",
      " 38  rougher.input.feed_sol                              14071 non-null  float64\n",
      " 39  rougher.input.feed_au                               14149 non-null  float64\n",
      " 40  rougher.input.floatbank10_sulfate                   14120 non-null  float64\n",
      " 41  rougher.input.floatbank10_xanthate                  14141 non-null  float64\n",
      " 42  rougher.input.floatbank11_sulfate                   14113 non-null  float64\n",
      " 43  rougher.input.floatbank11_xanthate                  13721 non-null  float64\n",
      " 44  rougher.output.concentrate_ag                       14149 non-null  float64\n",
      " 45  rougher.output.concentrate_pb                       14149 non-null  float64\n",
      " 46  rougher.output.concentrate_sol                      14127 non-null  float64\n",
      " 47  rougher.output.concentrate_au                       14149 non-null  float64\n",
      " 48  rougher.output.recovery                             14149 non-null  float64\n",
      " 49  rougher.output.tail_ag                              14148 non-null  float64\n",
      " 50  rougher.output.tail_pb                              14149 non-null  float64\n",
      " 51  rougher.output.tail_sol                             14149 non-null  float64\n",
      " 52  rougher.output.tail_au                              14149 non-null  float64\n",
      " 53  rougher.state.floatbank10_a_air                     14148 non-null  float64\n",
      " 54  rougher.state.floatbank10_a_level                   14148 non-null  float64\n",
      " 55  rougher.state.floatbank10_b_air                     14148 non-null  float64\n",
      " 56  rougher.state.floatbank10_b_level                   14148 non-null  float64\n",
      " 57  rougher.state.floatbank10_c_air                     14148 non-null  float64\n",
      " 58  rougher.state.floatbank10_c_level                   14148 non-null  float64\n",
      " 59  rougher.state.floatbank10_d_air                     14149 non-null  float64\n",
      " 60  rougher.state.floatbank10_d_level                   14149 non-null  float64\n",
      " 61  rougher.state.floatbank10_e_air                     13713 non-null  float64\n",
      " 62  rougher.state.floatbank10_e_level                   14149 non-null  float64\n",
      " 63  rougher.state.floatbank10_f_air                     14149 non-null  float64\n",
      " 64  rougher.state.floatbank10_f_level                   14149 non-null  float64\n",
      " 65  secondary_cleaner.output.tail_ag                    14147 non-null  float64\n",
      " 66  secondary_cleaner.output.tail_pb                    14139 non-null  float64\n",
      " 67  secondary_cleaner.output.tail_sol                   12544 non-null  float64\n",
      " 68  secondary_cleaner.output.tail_au                    14149 non-null  float64\n",
      " 69  secondary_cleaner.state.floatbank2_a_air            13932 non-null  float64\n",
      " 70  secondary_cleaner.state.floatbank2_a_level          14148 non-null  float64\n",
      " 71  secondary_cleaner.state.floatbank2_b_air            14128 non-null  float64\n",
      " 72  secondary_cleaner.state.floatbank2_b_level          14148 non-null  float64\n",
      " 73  secondary_cleaner.state.floatbank3_a_air            14145 non-null  float64\n",
      " 74  secondary_cleaner.state.floatbank3_a_level          14148 non-null  float64\n",
      " 75  secondary_cleaner.state.floatbank3_b_air            14148 non-null  float64\n",
      " 76  secondary_cleaner.state.floatbank3_b_level          14148 non-null  float64\n",
      " 77  secondary_cleaner.state.floatbank4_a_air            14143 non-null  float64\n",
      " 78  secondary_cleaner.state.floatbank4_a_level          14148 non-null  float64\n",
      " 79  secondary_cleaner.state.floatbank4_b_air            14148 non-null  float64\n",
      " 80  secondary_cleaner.state.floatbank4_b_level          14148 non-null  float64\n",
      " 81  secondary_cleaner.state.floatbank5_a_air            14148 non-null  float64\n",
      " 82  secondary_cleaner.state.floatbank5_a_level          14148 non-null  float64\n",
      " 83  secondary_cleaner.state.floatbank5_b_air            14148 non-null  float64\n",
      " 84  secondary_cleaner.state.floatbank5_b_level          14148 non-null  float64\n",
      " 85  secondary_cleaner.state.floatbank6_a_air            14147 non-null  float64\n",
      " 86  secondary_cleaner.state.floatbank6_a_level          14148 non-null  float64\n",
      "dtypes: float64(86), object(1)\n",
      "memory usage: 9.4+ MB\n"
     ]
    }
   ],
   "source": [
    "data_train.info()"
   ]
  },
  {
   "cell_type": "code",
   "execution_count": 5,
   "metadata": {
    "scrolled": true
   },
   "outputs": [
    {
     "data": {
      "text/html": [
       "<div>\n",
       "<style scoped>\n",
       "    .dataframe tbody tr th:only-of-type {\n",
       "        vertical-align: middle;\n",
       "    }\n",
       "\n",
       "    .dataframe tbody tr th {\n",
       "        vertical-align: top;\n",
       "    }\n",
       "\n",
       "    .dataframe thead th {\n",
       "        text-align: right;\n",
       "    }\n",
       "</style>\n",
       "<table border=\"1\" class=\"dataframe\">\n",
       "  <thead>\n",
       "    <tr style=\"text-align: right;\">\n",
       "      <th></th>\n",
       "      <th>date</th>\n",
       "      <th>primary_cleaner.input.sulfate</th>\n",
       "      <th>primary_cleaner.input.depressant</th>\n",
       "      <th>primary_cleaner.input.feed_size</th>\n",
       "      <th>primary_cleaner.input.xanthate</th>\n",
       "      <th>primary_cleaner.state.floatbank8_a_air</th>\n",
       "      <th>primary_cleaner.state.floatbank8_a_level</th>\n",
       "      <th>primary_cleaner.state.floatbank8_b_air</th>\n",
       "      <th>primary_cleaner.state.floatbank8_b_level</th>\n",
       "      <th>primary_cleaner.state.floatbank8_c_air</th>\n",
       "      <th>...</th>\n",
       "      <th>secondary_cleaner.state.floatbank4_a_air</th>\n",
       "      <th>secondary_cleaner.state.floatbank4_a_level</th>\n",
       "      <th>secondary_cleaner.state.floatbank4_b_air</th>\n",
       "      <th>secondary_cleaner.state.floatbank4_b_level</th>\n",
       "      <th>secondary_cleaner.state.floatbank5_a_air</th>\n",
       "      <th>secondary_cleaner.state.floatbank5_a_level</th>\n",
       "      <th>secondary_cleaner.state.floatbank5_b_air</th>\n",
       "      <th>secondary_cleaner.state.floatbank5_b_level</th>\n",
       "      <th>secondary_cleaner.state.floatbank6_a_air</th>\n",
       "      <th>secondary_cleaner.state.floatbank6_a_level</th>\n",
       "    </tr>\n",
       "  </thead>\n",
       "  <tbody>\n",
       "    <tr>\n",
       "      <th>0</th>\n",
       "      <td>2016-09-01 00:59:59</td>\n",
       "      <td>210.800909</td>\n",
       "      <td>14.993118</td>\n",
       "      <td>8.080000</td>\n",
       "      <td>1.005021</td>\n",
       "      <td>1398.981301</td>\n",
       "      <td>-500.225577</td>\n",
       "      <td>1399.144926</td>\n",
       "      <td>-499.919735</td>\n",
       "      <td>1400.102998</td>\n",
       "      <td>...</td>\n",
       "      <td>12.023554</td>\n",
       "      <td>-497.795834</td>\n",
       "      <td>8.016656</td>\n",
       "      <td>-501.289139</td>\n",
       "      <td>7.946562</td>\n",
       "      <td>-432.317850</td>\n",
       "      <td>4.872511</td>\n",
       "      <td>-500.037437</td>\n",
       "      <td>26.705889</td>\n",
       "      <td>-499.709414</td>\n",
       "    </tr>\n",
       "    <tr>\n",
       "      <th>1</th>\n",
       "      <td>2016-09-01 01:59:59</td>\n",
       "      <td>215.392455</td>\n",
       "      <td>14.987471</td>\n",
       "      <td>8.080000</td>\n",
       "      <td>0.990469</td>\n",
       "      <td>1398.777912</td>\n",
       "      <td>-500.057435</td>\n",
       "      <td>1398.055362</td>\n",
       "      <td>-499.778182</td>\n",
       "      <td>1396.151033</td>\n",
       "      <td>...</td>\n",
       "      <td>12.058140</td>\n",
       "      <td>-498.695773</td>\n",
       "      <td>8.130979</td>\n",
       "      <td>-499.634209</td>\n",
       "      <td>7.958270</td>\n",
       "      <td>-525.839648</td>\n",
       "      <td>4.878850</td>\n",
       "      <td>-500.162375</td>\n",
       "      <td>25.019940</td>\n",
       "      <td>-499.819438</td>\n",
       "    </tr>\n",
       "    <tr>\n",
       "      <th>2</th>\n",
       "      <td>2016-09-01 02:59:59</td>\n",
       "      <td>215.259946</td>\n",
       "      <td>12.884934</td>\n",
       "      <td>7.786667</td>\n",
       "      <td>0.996043</td>\n",
       "      <td>1398.493666</td>\n",
       "      <td>-500.868360</td>\n",
       "      <td>1398.860436</td>\n",
       "      <td>-499.764529</td>\n",
       "      <td>1398.075709</td>\n",
       "      <td>...</td>\n",
       "      <td>11.962366</td>\n",
       "      <td>-498.767484</td>\n",
       "      <td>8.096893</td>\n",
       "      <td>-500.827423</td>\n",
       "      <td>8.071056</td>\n",
       "      <td>-500.801673</td>\n",
       "      <td>4.905125</td>\n",
       "      <td>-499.828510</td>\n",
       "      <td>24.994862</td>\n",
       "      <td>-500.622559</td>\n",
       "    </tr>\n",
       "    <tr>\n",
       "      <th>3</th>\n",
       "      <td>2016-09-01 03:59:59</td>\n",
       "      <td>215.336236</td>\n",
       "      <td>12.006805</td>\n",
       "      <td>7.640000</td>\n",
       "      <td>0.863514</td>\n",
       "      <td>1399.618111</td>\n",
       "      <td>-498.863574</td>\n",
       "      <td>1397.440120</td>\n",
       "      <td>-499.211024</td>\n",
       "      <td>1400.129303</td>\n",
       "      <td>...</td>\n",
       "      <td>12.033091</td>\n",
       "      <td>-498.350935</td>\n",
       "      <td>8.074946</td>\n",
       "      <td>-499.474407</td>\n",
       "      <td>7.897085</td>\n",
       "      <td>-500.868509</td>\n",
       "      <td>4.931400</td>\n",
       "      <td>-499.963623</td>\n",
       "      <td>24.948919</td>\n",
       "      <td>-498.709987</td>\n",
       "    </tr>\n",
       "    <tr>\n",
       "      <th>4</th>\n",
       "      <td>2016-09-01 04:59:59</td>\n",
       "      <td>199.099327</td>\n",
       "      <td>10.682530</td>\n",
       "      <td>7.530000</td>\n",
       "      <td>0.805575</td>\n",
       "      <td>1401.268123</td>\n",
       "      <td>-500.808305</td>\n",
       "      <td>1398.128818</td>\n",
       "      <td>-499.504543</td>\n",
       "      <td>1402.172226</td>\n",
       "      <td>...</td>\n",
       "      <td>12.025367</td>\n",
       "      <td>-500.786497</td>\n",
       "      <td>8.054678</td>\n",
       "      <td>-500.397500</td>\n",
       "      <td>8.107890</td>\n",
       "      <td>-509.526725</td>\n",
       "      <td>4.957674</td>\n",
       "      <td>-500.360026</td>\n",
       "      <td>25.003331</td>\n",
       "      <td>-500.856333</td>\n",
       "    </tr>\n",
       "  </tbody>\n",
       "</table>\n",
       "<p>5 rows × 53 columns</p>\n",
       "</div>"
      ],
      "text/plain": [
       "                  date  primary_cleaner.input.sulfate  \\\n",
       "0  2016-09-01 00:59:59                     210.800909   \n",
       "1  2016-09-01 01:59:59                     215.392455   \n",
       "2  2016-09-01 02:59:59                     215.259946   \n",
       "3  2016-09-01 03:59:59                     215.336236   \n",
       "4  2016-09-01 04:59:59                     199.099327   \n",
       "\n",
       "   primary_cleaner.input.depressant  primary_cleaner.input.feed_size  \\\n",
       "0                         14.993118                         8.080000   \n",
       "1                         14.987471                         8.080000   \n",
       "2                         12.884934                         7.786667   \n",
       "3                         12.006805                         7.640000   \n",
       "4                         10.682530                         7.530000   \n",
       "\n",
       "   primary_cleaner.input.xanthate  primary_cleaner.state.floatbank8_a_air  \\\n",
       "0                        1.005021                             1398.981301   \n",
       "1                        0.990469                             1398.777912   \n",
       "2                        0.996043                             1398.493666   \n",
       "3                        0.863514                             1399.618111   \n",
       "4                        0.805575                             1401.268123   \n",
       "\n",
       "   primary_cleaner.state.floatbank8_a_level  \\\n",
       "0                               -500.225577   \n",
       "1                               -500.057435   \n",
       "2                               -500.868360   \n",
       "3                               -498.863574   \n",
       "4                               -500.808305   \n",
       "\n",
       "   primary_cleaner.state.floatbank8_b_air  \\\n",
       "0                             1399.144926   \n",
       "1                             1398.055362   \n",
       "2                             1398.860436   \n",
       "3                             1397.440120   \n",
       "4                             1398.128818   \n",
       "\n",
       "   primary_cleaner.state.floatbank8_b_level  \\\n",
       "0                               -499.919735   \n",
       "1                               -499.778182   \n",
       "2                               -499.764529   \n",
       "3                               -499.211024   \n",
       "4                               -499.504543   \n",
       "\n",
       "   primary_cleaner.state.floatbank8_c_air  ...  \\\n",
       "0                             1400.102998  ...   \n",
       "1                             1396.151033  ...   \n",
       "2                             1398.075709  ...   \n",
       "3                             1400.129303  ...   \n",
       "4                             1402.172226  ...   \n",
       "\n",
       "   secondary_cleaner.state.floatbank4_a_air  \\\n",
       "0                                 12.023554   \n",
       "1                                 12.058140   \n",
       "2                                 11.962366   \n",
       "3                                 12.033091   \n",
       "4                                 12.025367   \n",
       "\n",
       "   secondary_cleaner.state.floatbank4_a_level  \\\n",
       "0                                 -497.795834   \n",
       "1                                 -498.695773   \n",
       "2                                 -498.767484   \n",
       "3                                 -498.350935   \n",
       "4                                 -500.786497   \n",
       "\n",
       "   secondary_cleaner.state.floatbank4_b_air  \\\n",
       "0                                  8.016656   \n",
       "1                                  8.130979   \n",
       "2                                  8.096893   \n",
       "3                                  8.074946   \n",
       "4                                  8.054678   \n",
       "\n",
       "   secondary_cleaner.state.floatbank4_b_level  \\\n",
       "0                                 -501.289139   \n",
       "1                                 -499.634209   \n",
       "2                                 -500.827423   \n",
       "3                                 -499.474407   \n",
       "4                                 -500.397500   \n",
       "\n",
       "   secondary_cleaner.state.floatbank5_a_air  \\\n",
       "0                                  7.946562   \n",
       "1                                  7.958270   \n",
       "2                                  8.071056   \n",
       "3                                  7.897085   \n",
       "4                                  8.107890   \n",
       "\n",
       "   secondary_cleaner.state.floatbank5_a_level  \\\n",
       "0                                 -432.317850   \n",
       "1                                 -525.839648   \n",
       "2                                 -500.801673   \n",
       "3                                 -500.868509   \n",
       "4                                 -509.526725   \n",
       "\n",
       "   secondary_cleaner.state.floatbank5_b_air  \\\n",
       "0                                  4.872511   \n",
       "1                                  4.878850   \n",
       "2                                  4.905125   \n",
       "3                                  4.931400   \n",
       "4                                  4.957674   \n",
       "\n",
       "   secondary_cleaner.state.floatbank5_b_level  \\\n",
       "0                                 -500.037437   \n",
       "1                                 -500.162375   \n",
       "2                                 -499.828510   \n",
       "3                                 -499.963623   \n",
       "4                                 -500.360026   \n",
       "\n",
       "   secondary_cleaner.state.floatbank6_a_air  \\\n",
       "0                                 26.705889   \n",
       "1                                 25.019940   \n",
       "2                                 24.994862   \n",
       "3                                 24.948919   \n",
       "4                                 25.003331   \n",
       "\n",
       "   secondary_cleaner.state.floatbank6_a_level  \n",
       "0                                 -499.709414  \n",
       "1                                 -499.819438  \n",
       "2                                 -500.622559  \n",
       "3                                 -498.709987  \n",
       "4                                 -500.856333  \n",
       "\n",
       "[5 rows x 53 columns]"
      ]
     },
     "execution_count": 5,
     "metadata": {},
     "output_type": "execute_result"
    }
   ],
   "source": [
    "data_test.head()"
   ]
  },
  {
   "cell_type": "code",
   "execution_count": 6,
   "metadata": {
    "scrolled": true
   },
   "outputs": [
    {
     "name": "stdout",
     "output_type": "stream",
     "text": [
      "<class 'pandas.core.frame.DataFrame'>\n",
      "RangeIndex: 5290 entries, 0 to 5289\n",
      "Data columns (total 53 columns):\n",
      " #   Column                                      Non-Null Count  Dtype  \n",
      "---  ------                                      --------------  -----  \n",
      " 0   date                                        5290 non-null   object \n",
      " 1   primary_cleaner.input.sulfate               5286 non-null   float64\n",
      " 2   primary_cleaner.input.depressant            5285 non-null   float64\n",
      " 3   primary_cleaner.input.feed_size             5290 non-null   float64\n",
      " 4   primary_cleaner.input.xanthate              5286 non-null   float64\n",
      " 5   primary_cleaner.state.floatbank8_a_air      5290 non-null   float64\n",
      " 6   primary_cleaner.state.floatbank8_a_level    5290 non-null   float64\n",
      " 7   primary_cleaner.state.floatbank8_b_air      5290 non-null   float64\n",
      " 8   primary_cleaner.state.floatbank8_b_level    5290 non-null   float64\n",
      " 9   primary_cleaner.state.floatbank8_c_air      5290 non-null   float64\n",
      " 10  primary_cleaner.state.floatbank8_c_level    5290 non-null   float64\n",
      " 11  primary_cleaner.state.floatbank8_d_air      5290 non-null   float64\n",
      " 12  primary_cleaner.state.floatbank8_d_level    5290 non-null   float64\n",
      " 13  rougher.input.feed_ag                       5290 non-null   float64\n",
      " 14  rougher.input.feed_pb                       5290 non-null   float64\n",
      " 15  rougher.input.feed_rate                     5287 non-null   float64\n",
      " 16  rougher.input.feed_size                     5289 non-null   float64\n",
      " 17  rougher.input.feed_sol                      5269 non-null   float64\n",
      " 18  rougher.input.feed_au                       5290 non-null   float64\n",
      " 19  rougher.input.floatbank10_sulfate           5285 non-null   float64\n",
      " 20  rougher.input.floatbank10_xanthate          5290 non-null   float64\n",
      " 21  rougher.input.floatbank11_sulfate           5282 non-null   float64\n",
      " 22  rougher.input.floatbank11_xanthate          5265 non-null   float64\n",
      " 23  rougher.state.floatbank10_a_air             5290 non-null   float64\n",
      " 24  rougher.state.floatbank10_a_level           5290 non-null   float64\n",
      " 25  rougher.state.floatbank10_b_air             5290 non-null   float64\n",
      " 26  rougher.state.floatbank10_b_level           5290 non-null   float64\n",
      " 27  rougher.state.floatbank10_c_air             5290 non-null   float64\n",
      " 28  rougher.state.floatbank10_c_level           5290 non-null   float64\n",
      " 29  rougher.state.floatbank10_d_air             5290 non-null   float64\n",
      " 30  rougher.state.floatbank10_d_level           5290 non-null   float64\n",
      " 31  rougher.state.floatbank10_e_air             5290 non-null   float64\n",
      " 32  rougher.state.floatbank10_e_level           5290 non-null   float64\n",
      " 33  rougher.state.floatbank10_f_air             5290 non-null   float64\n",
      " 34  rougher.state.floatbank10_f_level           5290 non-null   float64\n",
      " 35  secondary_cleaner.state.floatbank2_a_air    5287 non-null   float64\n",
      " 36  secondary_cleaner.state.floatbank2_a_level  5290 non-null   float64\n",
      " 37  secondary_cleaner.state.floatbank2_b_air    5288 non-null   float64\n",
      " 38  secondary_cleaner.state.floatbank2_b_level  5290 non-null   float64\n",
      " 39  secondary_cleaner.state.floatbank3_a_air    5281 non-null   float64\n",
      " 40  secondary_cleaner.state.floatbank3_a_level  5290 non-null   float64\n",
      " 41  secondary_cleaner.state.floatbank3_b_air    5290 non-null   float64\n",
      " 42  secondary_cleaner.state.floatbank3_b_level  5290 non-null   float64\n",
      " 43  secondary_cleaner.state.floatbank4_a_air    5290 non-null   float64\n",
      " 44  secondary_cleaner.state.floatbank4_a_level  5290 non-null   float64\n",
      " 45  secondary_cleaner.state.floatbank4_b_air    5290 non-null   float64\n",
      " 46  secondary_cleaner.state.floatbank4_b_level  5290 non-null   float64\n",
      " 47  secondary_cleaner.state.floatbank5_a_air    5290 non-null   float64\n",
      " 48  secondary_cleaner.state.floatbank5_a_level  5290 non-null   float64\n",
      " 49  secondary_cleaner.state.floatbank5_b_air    5290 non-null   float64\n",
      " 50  secondary_cleaner.state.floatbank5_b_level  5290 non-null   float64\n",
      " 51  secondary_cleaner.state.floatbank6_a_air    5290 non-null   float64\n",
      " 52  secondary_cleaner.state.floatbank6_a_level  5290 non-null   float64\n",
      "dtypes: float64(52), object(1)\n",
      "memory usage: 2.1+ MB\n"
     ]
    }
   ],
   "source": [
    "data_test.info()"
   ]
  },
  {
   "cell_type": "code",
   "execution_count": 7,
   "metadata": {},
   "outputs": [
    {
     "data": {
      "text/html": [
       "<div>\n",
       "<style scoped>\n",
       "    .dataframe tbody tr th:only-of-type {\n",
       "        vertical-align: middle;\n",
       "    }\n",
       "\n",
       "    .dataframe tbody tr th {\n",
       "        vertical-align: top;\n",
       "    }\n",
       "\n",
       "    .dataframe thead th {\n",
       "        text-align: right;\n",
       "    }\n",
       "</style>\n",
       "<table border=\"1\" class=\"dataframe\">\n",
       "  <thead>\n",
       "    <tr style=\"text-align: right;\">\n",
       "      <th></th>\n",
       "      <th>date</th>\n",
       "      <th>final.output.concentrate_ag</th>\n",
       "      <th>final.output.concentrate_pb</th>\n",
       "      <th>final.output.concentrate_sol</th>\n",
       "      <th>final.output.concentrate_au</th>\n",
       "      <th>final.output.recovery</th>\n",
       "      <th>final.output.tail_ag</th>\n",
       "      <th>final.output.tail_pb</th>\n",
       "      <th>final.output.tail_sol</th>\n",
       "      <th>final.output.tail_au</th>\n",
       "      <th>...</th>\n",
       "      <th>secondary_cleaner.state.floatbank4_a_air</th>\n",
       "      <th>secondary_cleaner.state.floatbank4_a_level</th>\n",
       "      <th>secondary_cleaner.state.floatbank4_b_air</th>\n",
       "      <th>secondary_cleaner.state.floatbank4_b_level</th>\n",
       "      <th>secondary_cleaner.state.floatbank5_a_air</th>\n",
       "      <th>secondary_cleaner.state.floatbank5_a_level</th>\n",
       "      <th>secondary_cleaner.state.floatbank5_b_air</th>\n",
       "      <th>secondary_cleaner.state.floatbank5_b_level</th>\n",
       "      <th>secondary_cleaner.state.floatbank6_a_air</th>\n",
       "      <th>secondary_cleaner.state.floatbank6_a_level</th>\n",
       "    </tr>\n",
       "  </thead>\n",
       "  <tbody>\n",
       "    <tr>\n",
       "      <th>0</th>\n",
       "      <td>2016-01-15 00:00:00</td>\n",
       "      <td>6.055403</td>\n",
       "      <td>9.889648</td>\n",
       "      <td>5.507324</td>\n",
       "      <td>42.192020</td>\n",
       "      <td>70.541216</td>\n",
       "      <td>10.411962</td>\n",
       "      <td>0.895447</td>\n",
       "      <td>16.904297</td>\n",
       "      <td>2.143149</td>\n",
       "      <td>...</td>\n",
       "      <td>14.016835</td>\n",
       "      <td>-502.488007</td>\n",
       "      <td>12.099931</td>\n",
       "      <td>-504.715942</td>\n",
       "      <td>9.925633</td>\n",
       "      <td>-498.310211</td>\n",
       "      <td>8.079666</td>\n",
       "      <td>-500.470978</td>\n",
       "      <td>14.151341</td>\n",
       "      <td>-605.841980</td>\n",
       "    </tr>\n",
       "    <tr>\n",
       "      <th>1</th>\n",
       "      <td>2016-01-15 01:00:00</td>\n",
       "      <td>6.029369</td>\n",
       "      <td>9.968944</td>\n",
       "      <td>5.257781</td>\n",
       "      <td>42.701629</td>\n",
       "      <td>69.266198</td>\n",
       "      <td>10.462676</td>\n",
       "      <td>0.927452</td>\n",
       "      <td>16.634514</td>\n",
       "      <td>2.224930</td>\n",
       "      <td>...</td>\n",
       "      <td>13.992281</td>\n",
       "      <td>-505.503262</td>\n",
       "      <td>11.950531</td>\n",
       "      <td>-501.331529</td>\n",
       "      <td>10.039245</td>\n",
       "      <td>-500.169983</td>\n",
       "      <td>7.984757</td>\n",
       "      <td>-500.582168</td>\n",
       "      <td>13.998353</td>\n",
       "      <td>-599.787184</td>\n",
       "    </tr>\n",
       "    <tr>\n",
       "      <th>2</th>\n",
       "      <td>2016-01-15 02:00:00</td>\n",
       "      <td>6.055926</td>\n",
       "      <td>10.213995</td>\n",
       "      <td>5.383759</td>\n",
       "      <td>42.657501</td>\n",
       "      <td>68.116445</td>\n",
       "      <td>10.507046</td>\n",
       "      <td>0.953716</td>\n",
       "      <td>16.208849</td>\n",
       "      <td>2.257889</td>\n",
       "      <td>...</td>\n",
       "      <td>14.015015</td>\n",
       "      <td>-502.520901</td>\n",
       "      <td>11.912783</td>\n",
       "      <td>-501.133383</td>\n",
       "      <td>10.070913</td>\n",
       "      <td>-500.129135</td>\n",
       "      <td>8.013877</td>\n",
       "      <td>-500.517572</td>\n",
       "      <td>14.028663</td>\n",
       "      <td>-601.427363</td>\n",
       "    </tr>\n",
       "    <tr>\n",
       "      <th>3</th>\n",
       "      <td>2016-01-15 03:00:00</td>\n",
       "      <td>6.047977</td>\n",
       "      <td>9.977019</td>\n",
       "      <td>4.858634</td>\n",
       "      <td>42.689819</td>\n",
       "      <td>68.347543</td>\n",
       "      <td>10.422762</td>\n",
       "      <td>0.883763</td>\n",
       "      <td>16.532835</td>\n",
       "      <td>2.146849</td>\n",
       "      <td>...</td>\n",
       "      <td>14.036510</td>\n",
       "      <td>-500.857308</td>\n",
       "      <td>11.999550</td>\n",
       "      <td>-501.193686</td>\n",
       "      <td>9.970366</td>\n",
       "      <td>-499.201640</td>\n",
       "      <td>7.977324</td>\n",
       "      <td>-500.255908</td>\n",
       "      <td>14.005551</td>\n",
       "      <td>-599.996129</td>\n",
       "    </tr>\n",
       "    <tr>\n",
       "      <th>4</th>\n",
       "      <td>2016-01-15 04:00:00</td>\n",
       "      <td>6.148599</td>\n",
       "      <td>10.142511</td>\n",
       "      <td>4.939416</td>\n",
       "      <td>42.774141</td>\n",
       "      <td>66.927016</td>\n",
       "      <td>10.360302</td>\n",
       "      <td>0.792826</td>\n",
       "      <td>16.525686</td>\n",
       "      <td>2.055292</td>\n",
       "      <td>...</td>\n",
       "      <td>14.027298</td>\n",
       "      <td>-499.838632</td>\n",
       "      <td>11.953070</td>\n",
       "      <td>-501.053894</td>\n",
       "      <td>9.925709</td>\n",
       "      <td>-501.686727</td>\n",
       "      <td>7.894242</td>\n",
       "      <td>-500.356035</td>\n",
       "      <td>13.996647</td>\n",
       "      <td>-601.496691</td>\n",
       "    </tr>\n",
       "  </tbody>\n",
       "</table>\n",
       "<p>5 rows × 87 columns</p>\n",
       "</div>"
      ],
      "text/plain": [
       "                  date  final.output.concentrate_ag  \\\n",
       "0  2016-01-15 00:00:00                     6.055403   \n",
       "1  2016-01-15 01:00:00                     6.029369   \n",
       "2  2016-01-15 02:00:00                     6.055926   \n",
       "3  2016-01-15 03:00:00                     6.047977   \n",
       "4  2016-01-15 04:00:00                     6.148599   \n",
       "\n",
       "   final.output.concentrate_pb  final.output.concentrate_sol  \\\n",
       "0                     9.889648                      5.507324   \n",
       "1                     9.968944                      5.257781   \n",
       "2                    10.213995                      5.383759   \n",
       "3                     9.977019                      4.858634   \n",
       "4                    10.142511                      4.939416   \n",
       "\n",
       "   final.output.concentrate_au  final.output.recovery  final.output.tail_ag  \\\n",
       "0                    42.192020              70.541216             10.411962   \n",
       "1                    42.701629              69.266198             10.462676   \n",
       "2                    42.657501              68.116445             10.507046   \n",
       "3                    42.689819              68.347543             10.422762   \n",
       "4                    42.774141              66.927016             10.360302   \n",
       "\n",
       "   final.output.tail_pb  final.output.tail_sol  final.output.tail_au  ...  \\\n",
       "0              0.895447              16.904297              2.143149  ...   \n",
       "1              0.927452              16.634514              2.224930  ...   \n",
       "2              0.953716              16.208849              2.257889  ...   \n",
       "3              0.883763              16.532835              2.146849  ...   \n",
       "4              0.792826              16.525686              2.055292  ...   \n",
       "\n",
       "   secondary_cleaner.state.floatbank4_a_air  \\\n",
       "0                                 14.016835   \n",
       "1                                 13.992281   \n",
       "2                                 14.015015   \n",
       "3                                 14.036510   \n",
       "4                                 14.027298   \n",
       "\n",
       "   secondary_cleaner.state.floatbank4_a_level  \\\n",
       "0                                 -502.488007   \n",
       "1                                 -505.503262   \n",
       "2                                 -502.520901   \n",
       "3                                 -500.857308   \n",
       "4                                 -499.838632   \n",
       "\n",
       "   secondary_cleaner.state.floatbank4_b_air  \\\n",
       "0                                 12.099931   \n",
       "1                                 11.950531   \n",
       "2                                 11.912783   \n",
       "3                                 11.999550   \n",
       "4                                 11.953070   \n",
       "\n",
       "   secondary_cleaner.state.floatbank4_b_level  \\\n",
       "0                                 -504.715942   \n",
       "1                                 -501.331529   \n",
       "2                                 -501.133383   \n",
       "3                                 -501.193686   \n",
       "4                                 -501.053894   \n",
       "\n",
       "   secondary_cleaner.state.floatbank5_a_air  \\\n",
       "0                                  9.925633   \n",
       "1                                 10.039245   \n",
       "2                                 10.070913   \n",
       "3                                  9.970366   \n",
       "4                                  9.925709   \n",
       "\n",
       "   secondary_cleaner.state.floatbank5_a_level  \\\n",
       "0                                 -498.310211   \n",
       "1                                 -500.169983   \n",
       "2                                 -500.129135   \n",
       "3                                 -499.201640   \n",
       "4                                 -501.686727   \n",
       "\n",
       "   secondary_cleaner.state.floatbank5_b_air  \\\n",
       "0                                  8.079666   \n",
       "1                                  7.984757   \n",
       "2                                  8.013877   \n",
       "3                                  7.977324   \n",
       "4                                  7.894242   \n",
       "\n",
       "   secondary_cleaner.state.floatbank5_b_level  \\\n",
       "0                                 -500.470978   \n",
       "1                                 -500.582168   \n",
       "2                                 -500.517572   \n",
       "3                                 -500.255908   \n",
       "4                                 -500.356035   \n",
       "\n",
       "   secondary_cleaner.state.floatbank6_a_air  \\\n",
       "0                                 14.151341   \n",
       "1                                 13.998353   \n",
       "2                                 14.028663   \n",
       "3                                 14.005551   \n",
       "4                                 13.996647   \n",
       "\n",
       "   secondary_cleaner.state.floatbank6_a_level  \n",
       "0                                 -605.841980  \n",
       "1                                 -599.787184  \n",
       "2                                 -601.427363  \n",
       "3                                 -599.996129  \n",
       "4                                 -601.496691  \n",
       "\n",
       "[5 rows x 87 columns]"
      ]
     },
     "execution_count": 7,
     "metadata": {},
     "output_type": "execute_result"
    }
   ],
   "source": [
    "data_full.head()"
   ]
  },
  {
   "cell_type": "code",
   "execution_count": 8,
   "metadata": {
    "scrolled": true
   },
   "outputs": [
    {
     "name": "stdout",
     "output_type": "stream",
     "text": [
      "<class 'pandas.core.frame.DataFrame'>\n",
      "RangeIndex: 19439 entries, 0 to 19438\n",
      "Data columns (total 87 columns):\n",
      " #   Column                                              Non-Null Count  Dtype  \n",
      "---  ------                                              --------------  -----  \n",
      " 0   date                                                19439 non-null  object \n",
      " 1   final.output.concentrate_ag                         19438 non-null  float64\n",
      " 2   final.output.concentrate_pb                         19438 non-null  float64\n",
      " 3   final.output.concentrate_sol                        19228 non-null  float64\n",
      " 4   final.output.concentrate_au                         19439 non-null  float64\n",
      " 5   final.output.recovery                               19439 non-null  float64\n",
      " 6   final.output.tail_ag                                19438 non-null  float64\n",
      " 7   final.output.tail_pb                                19338 non-null  float64\n",
      " 8   final.output.tail_sol                               19433 non-null  float64\n",
      " 9   final.output.tail_au                                19439 non-null  float64\n",
      " 10  primary_cleaner.input.sulfate                       19415 non-null  float64\n",
      " 11  primary_cleaner.input.depressant                    19402 non-null  float64\n",
      " 12  primary_cleaner.input.feed_size                     19439 non-null  float64\n",
      " 13  primary_cleaner.input.xanthate                      19335 non-null  float64\n",
      " 14  primary_cleaner.output.concentrate_ag               19439 non-null  float64\n",
      " 15  primary_cleaner.output.concentrate_pb               19323 non-null  float64\n",
      " 16  primary_cleaner.output.concentrate_sol              19069 non-null  float64\n",
      " 17  primary_cleaner.output.concentrate_au               19439 non-null  float64\n",
      " 18  primary_cleaner.output.tail_ag                      19435 non-null  float64\n",
      " 19  primary_cleaner.output.tail_pb                      19418 non-null  float64\n",
      " 20  primary_cleaner.output.tail_sol                     19377 non-null  float64\n",
      " 21  primary_cleaner.output.tail_au                      19439 non-null  float64\n",
      " 22  primary_cleaner.state.floatbank8_a_air              19435 non-null  float64\n",
      " 23  primary_cleaner.state.floatbank8_a_level            19438 non-null  float64\n",
      " 24  primary_cleaner.state.floatbank8_b_air              19435 non-null  float64\n",
      " 25  primary_cleaner.state.floatbank8_b_level            19438 non-null  float64\n",
      " 26  primary_cleaner.state.floatbank8_c_air              19437 non-null  float64\n",
      " 27  primary_cleaner.state.floatbank8_c_level            19438 non-null  float64\n",
      " 28  primary_cleaner.state.floatbank8_d_air              19436 non-null  float64\n",
      " 29  primary_cleaner.state.floatbank8_d_level            19438 non-null  float64\n",
      " 30  rougher.calculation.sulfate_to_au_concentrate       19437 non-null  float64\n",
      " 31  rougher.calculation.floatbank10_sulfate_to_au_feed  19437 non-null  float64\n",
      " 32  rougher.calculation.floatbank11_sulfate_to_au_feed  19437 non-null  float64\n",
      " 33  rougher.calculation.au_pb_ratio                     19439 non-null  float64\n",
      " 34  rougher.input.feed_ag                               19439 non-null  float64\n",
      " 35  rougher.input.feed_pb                               19339 non-null  float64\n",
      " 36  rougher.input.feed_rate                             19428 non-null  float64\n",
      " 37  rougher.input.feed_size                             19294 non-null  float64\n",
      " 38  rougher.input.feed_sol                              19340 non-null  float64\n",
      " 39  rougher.input.feed_au                               19439 non-null  float64\n",
      " 40  rougher.input.floatbank10_sulfate                   19405 non-null  float64\n",
      " 41  rougher.input.floatbank10_xanthate                  19431 non-null  float64\n",
      " 42  rougher.input.floatbank11_sulfate                   19395 non-null  float64\n",
      " 43  rougher.input.floatbank11_xanthate                  18986 non-null  float64\n",
      " 44  rougher.output.concentrate_ag                       19439 non-null  float64\n",
      " 45  rougher.output.concentrate_pb                       19439 non-null  float64\n",
      " 46  rougher.output.concentrate_sol                      19416 non-null  float64\n",
      " 47  rougher.output.concentrate_au                       19439 non-null  float64\n",
      " 48  rougher.output.recovery                             19439 non-null  float64\n",
      " 49  rougher.output.tail_ag                              19438 non-null  float64\n",
      " 50  rougher.output.tail_pb                              19439 non-null  float64\n",
      " 51  rougher.output.tail_sol                             19439 non-null  float64\n",
      " 52  rougher.output.tail_au                              19439 non-null  float64\n",
      " 53  rougher.state.floatbank10_a_air                     19438 non-null  float64\n",
      " 54  rougher.state.floatbank10_a_level                   19438 non-null  float64\n",
      " 55  rougher.state.floatbank10_b_air                     19438 non-null  float64\n",
      " 56  rougher.state.floatbank10_b_level                   19438 non-null  float64\n",
      " 57  rougher.state.floatbank10_c_air                     19438 non-null  float64\n",
      " 58  rougher.state.floatbank10_c_level                   19438 non-null  float64\n",
      " 59  rougher.state.floatbank10_d_air                     19439 non-null  float64\n",
      " 60  rougher.state.floatbank10_d_level                   19439 non-null  float64\n",
      " 61  rougher.state.floatbank10_e_air                     19003 non-null  float64\n",
      " 62  rougher.state.floatbank10_e_level                   19439 non-null  float64\n",
      " 63  rougher.state.floatbank10_f_air                     19439 non-null  float64\n",
      " 64  rougher.state.floatbank10_f_level                   19439 non-null  float64\n",
      " 65  secondary_cleaner.output.tail_ag                    19437 non-null  float64\n",
      " 66  secondary_cleaner.output.tail_pb                    19427 non-null  float64\n",
      " 67  secondary_cleaner.output.tail_sol                   17691 non-null  float64\n",
      " 68  secondary_cleaner.output.tail_au                    19439 non-null  float64\n",
      " 69  secondary_cleaner.state.floatbank2_a_air            19219 non-null  float64\n",
      " 70  secondary_cleaner.state.floatbank2_a_level          19438 non-null  float64\n",
      " 71  secondary_cleaner.state.floatbank2_b_air            19416 non-null  float64\n",
      " 72  secondary_cleaner.state.floatbank2_b_level          19438 non-null  float64\n",
      " 73  secondary_cleaner.state.floatbank3_a_air            19426 non-null  float64\n",
      " 74  secondary_cleaner.state.floatbank3_a_level          19438 non-null  float64\n",
      " 75  secondary_cleaner.state.floatbank3_b_air            19438 non-null  float64\n",
      " 76  secondary_cleaner.state.floatbank3_b_level          19438 non-null  float64\n",
      " 77  secondary_cleaner.state.floatbank4_a_air            19433 non-null  float64\n",
      " 78  secondary_cleaner.state.floatbank4_a_level          19438 non-null  float64\n",
      " 79  secondary_cleaner.state.floatbank4_b_air            19438 non-null  float64\n",
      " 80  secondary_cleaner.state.floatbank4_b_level          19438 non-null  float64\n",
      " 81  secondary_cleaner.state.floatbank5_a_air            19438 non-null  float64\n",
      " 82  secondary_cleaner.state.floatbank5_a_level          19438 non-null  float64\n",
      " 83  secondary_cleaner.state.floatbank5_b_air            19438 non-null  float64\n",
      " 84  secondary_cleaner.state.floatbank5_b_level          19438 non-null  float64\n",
      " 85  secondary_cleaner.state.floatbank6_a_air            19437 non-null  float64\n",
      " 86  secondary_cleaner.state.floatbank6_a_level          19438 non-null  float64\n",
      "dtypes: float64(86), object(1)\n",
      "memory usage: 12.9+ MB\n"
     ]
    }
   ],
   "source": [
    "data_full.info()"
   ]
  },
  {
   "cell_type": "markdown",
   "metadata": {},
   "source": [
    "Для начала переведем date в подходящий тип"
   ]
  },
  {
   "cell_type": "code",
   "execution_count": 9,
   "metadata": {},
   "outputs": [],
   "source": [
    "data_train['date'] = pd.to_datetime(data_train['date'], format='%Y-%m-%d %H:%M:%S')\n",
    "data_test['date'] = pd.to_datetime(data_test['date'], format='%Y-%m-%d %H:%M:%S')\n",
    "data_full['date'] = pd.to_datetime(data_full['date'], format='%Y-%m-%d %H:%M:%S')"
   ]
  },
  {
   "cell_type": "markdown",
   "metadata": {},
   "source": [
    "Замечаем пропуски в данных, отмечаем, что в data_train и data_full 87 столбцов, а в data_test 53\n",
    "\n",
    "Узнаем точное количество пропусков в данных"
   ]
  },
  {
   "cell_type": "code",
   "execution_count": 10,
   "metadata": {},
   "outputs": [
    {
     "data": {
      "text/plain": [
       "4100"
      ]
     },
     "execution_count": 10,
     "metadata": {},
     "output_type": "execute_result"
    }
   ],
   "source": [
    "data_train.isna().sum().sum()"
   ]
  },
  {
   "cell_type": "code",
   "execution_count": 11,
   "metadata": {},
   "outputs": [
    {
     "data": {
      "text/plain": [
       "90"
      ]
     },
     "execution_count": 11,
     "metadata": {},
     "output_type": "execute_result"
    }
   ],
   "source": [
    "data_test.isna().sum().sum()"
   ]
  },
  {
   "cell_type": "code",
   "execution_count": 12,
   "metadata": {},
   "outputs": [
    {
     "data": {
      "text/plain": [
       "4481"
      ]
     },
     "execution_count": 12,
     "metadata": {},
     "output_type": "execute_result"
    }
   ],
   "source": [
    "data_full.isna().sum().sum()"
   ]
  },
  {
   "cell_type": "markdown",
   "metadata": {},
   "source": [
    "Достаточно большое количесвто пропусков, в дальнейшем проведем обработку\n",
    "\n",
    "Проверим на наличие дубликатов"
   ]
  },
  {
   "cell_type": "code",
   "execution_count": 13,
   "metadata": {},
   "outputs": [
    {
     "data": {
      "text/plain": [
       "0"
      ]
     },
     "execution_count": 13,
     "metadata": {},
     "output_type": "execute_result"
    }
   ],
   "source": [
    "data_full.duplicated().sum()"
   ]
  },
  {
   "cell_type": "markdown",
   "metadata": {},
   "source": [
    "Проверку на аномальные выбросы/невозможные значения решаю на данном этапе не делать, тк в дальнейшем предполагается анализировать разные графики, что позволит судить о наличии и количестве аномалий"
   ]
  },
  {
   "cell_type": "markdown",
   "metadata": {},
   "source": [
    "### Расчет эффективности обогащения "
   ]
  },
  {
   "cell_type": "markdown",
   "metadata": {},
   "source": [
    "Проверим насколько эффективность обогащения рассчитана правильно, вычислим MAE между нашими расчётами и значением признака rougher.output.recovery.\n",
    "\n",
    "Для этого рассчитаем эффективность обогащения используя такие параметры:\n",
    "- C — доля золота в концентрате после флотации/очистки;\n",
    "- F — доля золота в сырье/концентрате до флотации/очистки;\n",
    "- T — доля золота в отвальных хвостах после флотации/очистки."
   ]
  },
  {
   "cell_type": "code",
   "execution_count": 14,
   "metadata": {},
   "outputs": [],
   "source": [
    "C = data_train['rougher.output.concentrate_au']\n",
    "F = data_train['rougher.input.feed_au']\n",
    "T = data_train['rougher.output.tail_au']"
   ]
  },
  {
   "cell_type": "code",
   "execution_count": 15,
   "metadata": {},
   "outputs": [],
   "source": [
    "recovery = C * (F - T) / (F * (C - T)) * 100"
   ]
  },
  {
   "cell_type": "markdown",
   "metadata": {},
   "source": [
    "Теперь посчитаем MAE между нашими расчётами и значением признака и выведим."
   ]
  },
  {
   "cell_type": "code",
   "execution_count": 16,
   "metadata": {},
   "outputs": [
    {
     "data": {
      "text/plain": [
       "9.73512347450521e-15"
      ]
     },
     "execution_count": 16,
     "metadata": {},
     "output_type": "execute_result"
    }
   ],
   "source": [
    "mean_absolute_error(data_train['rougher.output.recovery'], recovery)"
   ]
  },
  {
   "cell_type": "markdown",
   "metadata": {},
   "source": [
    "Поскольку число мало, то наш рассчет примерно равен медиане целевого признака, что хорошо =)"
   ]
  },
  {
   "cell_type": "markdown",
   "metadata": {},
   "source": [
    "###  Анализ признаков, недоступных в тестовой выборке"
   ]
  },
  {
   "cell_type": "markdown",
   "metadata": {},
   "source": [
    "Ранее мы отметили, что количество столбцов в data_test меньше, чем в остальных датафреймах, а именно 53 против 87, те не хватает 34 столбца, посмотрим какие"
   ]
  },
  {
   "cell_type": "code",
   "execution_count": 17,
   "metadata": {
    "scrolled": true
   },
   "outputs": [
    {
     "data": {
      "text/plain": [
       "{'final.output.concentrate_ag',\n",
       " 'final.output.concentrate_au',\n",
       " 'final.output.concentrate_pb',\n",
       " 'final.output.concentrate_sol',\n",
       " 'final.output.recovery',\n",
       " 'final.output.tail_ag',\n",
       " 'final.output.tail_au',\n",
       " 'final.output.tail_pb',\n",
       " 'final.output.tail_sol',\n",
       " 'primary_cleaner.output.concentrate_ag',\n",
       " 'primary_cleaner.output.concentrate_au',\n",
       " 'primary_cleaner.output.concentrate_pb',\n",
       " 'primary_cleaner.output.concentrate_sol',\n",
       " 'primary_cleaner.output.tail_ag',\n",
       " 'primary_cleaner.output.tail_au',\n",
       " 'primary_cleaner.output.tail_pb',\n",
       " 'primary_cleaner.output.tail_sol',\n",
       " 'rougher.calculation.au_pb_ratio',\n",
       " 'rougher.calculation.floatbank10_sulfate_to_au_feed',\n",
       " 'rougher.calculation.floatbank11_sulfate_to_au_feed',\n",
       " 'rougher.calculation.sulfate_to_au_concentrate',\n",
       " 'rougher.output.concentrate_ag',\n",
       " 'rougher.output.concentrate_au',\n",
       " 'rougher.output.concentrate_pb',\n",
       " 'rougher.output.concentrate_sol',\n",
       " 'rougher.output.recovery',\n",
       " 'rougher.output.tail_ag',\n",
       " 'rougher.output.tail_au',\n",
       " 'rougher.output.tail_pb',\n",
       " 'rougher.output.tail_sol',\n",
       " 'secondary_cleaner.output.tail_ag',\n",
       " 'secondary_cleaner.output.tail_au',\n",
       " 'secondary_cleaner.output.tail_pb',\n",
       " 'secondary_cleaner.output.tail_sol'}"
      ]
     },
     "execution_count": 17,
     "metadata": {},
     "output_type": "execute_result"
    }
   ],
   "source": [
    "data_test_missing_columns = set(data_train.columns) - set(data_test.columns)\n",
    "data_test_missing_columns"
   ]
  },
  {
   "cell_type": "markdown",
   "metadata": {},
   "source": [
    "Как мы видим, в data_test отсутствуют как простые признаки, так и целевые(rougher.output.recovery и final.output.recovery), необходимые для конечного построения моделей и подсчета метрик. Из данной ситуации, я вижу два выхода:\n",
    "- Мы добавляем из data_full в data_test только целевые признаки, а также удаляем из data_train все остальные невошедшие в data_test признаки во избежание невозможности построить модель\n",
    "- Мы добавляем из data_full в data_test все отсутствующие признаки\n",
    "\n",
    "В описании проекта, говорится, что некоторые параметры недоступны, потому что замеряются и/или рассчитываются значительно позже, те второй вариант отпадает"
   ]
  },
  {
   "cell_type": "markdown",
   "metadata": {},
   "source": [
    "### Предобработка данных"
   ]
  },
  {
   "cell_type": "markdown",
   "metadata": {},
   "source": [
    "Удаляем пропуски в данных"
   ]
  },
  {
   "cell_type": "code",
   "execution_count": 18,
   "metadata": {},
   "outputs": [],
   "source": [
    "data_train = data_train.ffill(axis=0)\n",
    "data_test = data_test.ffill(axis=0)\n",
    "data_full = data_full.ffill(axis=0)"
   ]
  },
  {
   "cell_type": "markdown",
   "metadata": {},
   "source": [
    "Заполняем data_test_54 только целевым признаком, а из data_train_54 удаляем признаки"
   ]
  },
  {
   "cell_type": "code",
   "execution_count": 19,
   "metadata": {},
   "outputs": [],
   "source": [
    "#создаем датафрейм добавляя 2 целевых признака \n",
    "data_test_54 = data_test.merge(data_full[['date', 'final.output.recovery', 'rougher.output.recovery']], how='left', on='date')\n",
    "#создаем датафрейм с пропущенными столбцами \n",
    "data_test_54_missing_columns = data_full.drop(data_test_54, axis=1)\n",
    "#создаем датафрейм убирая отсутствующие признаки\n",
    "data_train_54 = data_train.drop(data_test_54_missing_columns, axis=1)"
   ]
  },
  {
   "cell_type": "markdown",
   "metadata": {},
   "source": [
    "Удаляем date за ненадобностью"
   ]
  },
  {
   "cell_type": "code",
   "execution_count": 20,
   "metadata": {},
   "outputs": [],
   "source": [
    "data_train_54 = data_train_54.drop('date', axis=1)\n",
    "data_test_54 = data_test_54.drop('date', axis=1)"
   ]
  },
  {
   "cell_type": "markdown",
   "metadata": {},
   "source": [
    "### Вывод"
   ]
  },
  {
   "cell_type": "markdown",
   "metadata": {},
   "source": [
    "Мы ознакомились с датафреймом, отметили его особенности для дальнейшей работы, проверили на наличе дубликатов. Проверку на аномальные выбросы/невозможные значения решаю на данном этапе не делать, тк в дальнейшем предполагается анализировать разные графики, что позволит судить о наличии и количестве аномалий.\n",
    "\n",
    "Расчет эффективности и сравнение со значением признака выявил, что  средняя абсолютная погрешность крайне мала, что означает, что расчет точный.  \n",
    "\n",
    "Анализ признаков, недоступных в тестовой выборке показал, что в data_test отсутствовали как простые, так и целевые, признаки, рассмотрели решение двумя путями: В первом случаи мы добавили только целевые признаки, а отсутствующие не целевые удалил в data_train, чтобы в дальнейшем построить корректную модел. Во втором случаи вы добавили все отсутствующие признаки, что бы предсказание модели из data_train были, возможно, точнее. Выбор сделали в первого\n",
    "\n",
    "Так же мы обработали пропуски в данных методом ffill, тк в описании проекта дается информация, что ближайшие по индексу(времени) значения достаточно близки. "
   ]
  },
  {
   "cell_type": "markdown",
   "metadata": {},
   "source": [
    "## Анализ данных"
   ]
  },
  {
   "cell_type": "markdown",
   "metadata": {},
   "source": [
    "### Анализ концентрация металлов (Au, Ag, Pb) на различных этапах очистки"
   ]
  },
  {
   "cell_type": "markdown",
   "metadata": {},
   "source": [
    "Этапы очистки для анализа концентрации можно условно разделить на 4 этапа, а именно:\n",
    "- Концентрация во входящем материале\n",
    "- Концетрация после флотации\n",
    "- Концетрация после первичной обработки\n",
    "- Концетрация после вторичной обработки, те финальная\n",
    "\n",
    "Исходя из этого данные в датафрейме будут иметь следющий вид:\n",
    "- rougher.input.[наименование металла]\n",
    "- rougher.output.[наименование металла]\n",
    "- primary_cleaner.output.[наименование металла]\n",
    "- final.output.[наименование металла]\n",
    "\n",
    "Создадим отдельные таблицы для каждого металла с необходимыми столбцами"
   ]
  },
  {
   "cell_type": "code",
   "execution_count": 21,
   "metadata": {},
   "outputs": [],
   "source": [
    "au = data_full[['rougher.input.feed_au',\n",
    "'rougher.output.concentrate_au',\n",
    "'primary_cleaner.output.concentrate_au',\n",
    "'final.output.concentrate_au']]\n",
    "\n",
    "ag = data_full[['rougher.input.feed_ag',\n",
    "'rougher.output.concentrate_ag',\n",
    "'primary_cleaner.output.concentrate_ag',\n",
    "'final.output.concentrate_ag']]\n",
    "\n",
    "pb = data_full[['rougher.input.feed_pb',\n",
    "'rougher.output.concentrate_pb',\n",
    "'primary_cleaner.output.concentrate_pb',\n",
    "'final.output.concentrate_pb']]"
   ]
  },
  {
   "cell_type": "markdown",
   "metadata": {},
   "source": [
    "Построим графики по каждому из металлов и сделаем выводы\n",
    "\n",
    "Золото"
   ]
  },
  {
   "cell_type": "code",
   "execution_count": 22,
   "metadata": {},
   "outputs": [
    {
     "data": {
      "image/png": "[encoded data removed]",
      "text/plain": [
       "<Figure size 1097.12x576 with 1 Axes>"
      ]
     },
     "metadata": {
      "needs_background": "light"
     },
     "output_type": "display_data"
    }
   ],
   "source": [
    "sns.displot(data=au, kind='hist', height=8, aspect=1.5, bins=50);\n",
    "plt.xlabel('Концентрация');\n",
    "plt.ylabel('Количество наблюдений');\n",
    "plt.title('Концентрация золота на разных этапах очистки сырья');"
   ]
  },
  {
   "cell_type": "markdown",
   "metadata": {},
   "source": [
    "Видим, что в целом данные распределенны нормально, есть некоторое количество нулевых значений в каждом этапе, что, скорее всего является аномалией. Заметно, как с каждым последующим этапом концентрация увеличивалась\n",
    "\n",
    "Серебро"
   ]
  },
  {
   "cell_type": "code",
   "execution_count": 23,
   "metadata": {},
   "outputs": [
    {
     "data": {
      "image/png": "[encoded data removed]",
      "text/plain": [
       "<Figure size 1097.12x576 with 1 Axes>"
      ]
     },
     "metadata": {
      "needs_background": "light"
     },
     "output_type": "display_data"
    }
   ],
   "source": [
    "sns.displot(data=ag, kind='hist', height=8, aspect=1.5, bins=50);\n",
    "plt.xlabel('Концентрация');\n",
    "plt.ylabel('Количество наблюдений');\n",
    "plt.title('Концентрация серебра на разных этапах очистки сырья');"
   ]
  },
  {
   "cell_type": "markdown",
   "metadata": {},
   "source": [
    "Видим, что в целом данные распределенны нормально, но с перекосами, а концентрация во входящем материале в \"середине\" вообще имеет аномальный провал, есть некоторое количество нулевых значений в каждом этапе, что, скорее всего является аномалией. Интересно, что концентрация без обработки и после флотации выше, чем в последующих этапах, возможно это специфика материала.\n",
    "\n",
    "Свинец"
   ]
  },
  {
   "cell_type": "code",
   "execution_count": 24,
   "metadata": {},
   "outputs": [
    {
     "data": {
      "image/png": "[encoded data removed]",
      "text/plain": [
       "<Figure size 1097.12x576 with 1 Axes>"
      ]
     },
     "metadata": {
      "needs_background": "light"
     },
     "output_type": "display_data"
    }
   ],
   "source": [
    "sns.displot(data=pb, kind='hist', height=8, aspect=1.5, bins=50);\n",
    "plt.xlabel('Концентрация');\n",
    "plt.ylabel('Количество наблюдений');\n",
    "plt.title('Концентрация свинца на разных этапах очистки сырья');"
   ]
  },
  {
   "cell_type": "markdown",
   "metadata": {},
   "source": [
    "Видим, что в целом данные распределенны нормально, есть некоторое количество нулевых значений в каждом этапе, что, скорее всего является аномалией. Заметно, как с каждым последующим этапом концентрация увеличивалась, но остановилась после первичной обработки, то материал, возможно, не нужно вторично обрабатывать."
   ]
  },
  {
   "cell_type": "markdown",
   "metadata": {},
   "source": [
    "###  Сравнение распределения размеров гранул сырья на обучающей и тестовой выборках"
   ]
  },
  {
   "cell_type": "markdown",
   "metadata": {},
   "source": [
    "Сравнение распределения размеров гранул сырья покажет сильно ли отличаются они друг от друга. Если сильно, оценка модели будет неправильной. Поскольку у нас выборок 4, треин и тест на 54 и 86 столбцов,то выберем какую-нибудь одну.\n",
    "\n",
    "Информация о размерах гранул сырья находится в столбце rougher.input.feed_size"
   ]
  },
  {
   "cell_type": "code",
   "execution_count": 25,
   "metadata": {},
   "outputs": [
    {
     "data": {
      "image/png": "[encoded data removed]",
      "text/plain": [
       "<Figure size 864x576 with 1 Axes>"
      ]
     },
     "metadata": {
      "needs_background": "light"
     },
     "output_type": "display_data"
    }
   ],
   "source": [
    "plt.figure(figsize=(12, 8))\n",
    "sns.kdeplot(data_train_54['rougher.input.feed_size'], shade=True, legend=True);\n",
    "sns.kdeplot(data_test_54['rougher.input.feed_size'], shade=True, legend=True);\n",
    "plt.grid(True)\n",
    "plt.xlabel('Размер гранул');\n",
    "plt.ylabel('Соотношение наблюдений');\n",
    "plt.title('Распределение размеров гранул сырья');\n",
    "plt.legend(['data_train', 'data_test']);"
   ]
  },
  {
   "cell_type": "markdown",
   "metadata": {},
   "source": [
    "Видем, что большая часть площади одного рисунка на графике находится на втором рисунке, те распределение размеров гранул сырья на обучающей и тестовой выборках можно назвать не сильно разными."
   ]
  },
  {
   "cell_type": "markdown",
   "metadata": {},
   "source": [
    "### Исследуем суммарную концентрацию всех веществ на разных стадиях: в сырье, в черновом и финальном концентратах. "
   ]
  },
  {
   "cell_type": "markdown",
   "metadata": {},
   "source": [
    "В этом этапе нам нужно будет посчитать суммарную концетрацию всех веществ на стадиях:\n",
    "- Концентрация во входящем материале, те rougher.input.[наименование вещества]\n",
    "- Концетрация после флотации, те rougher.output.[наименование вещества]\n",
    "- Концетрация после вторичной обработки, те финальная, те final.output.[наименование вещества]\n",
    "\n",
    "Веществ у нас всего 4: au, ag, pb и sol\n",
    "\n",
    "Создадим отдельные таблицы для каждого этапа с суммой концентрации всех веществ"
   ]
  },
  {
   "cell_type": "code",
   "execution_count": 26,
   "metadata": {},
   "outputs": [],
   "source": [
    "rougher_input_concentrate = data_full['rougher.input.feed_au'] + data_full['rougher.input.feed_ag'] + data_full['rougher.input.feed_pb'] + data_full['rougher.input.feed_sol']\n",
    "\n",
    "rougher_output_concentrate = data_full['rougher.output.concentrate_au'] + data_full['rougher.output.concentrate_ag'] + data_full['rougher.output.concentrate_pb'] + data_full['rougher.output.concentrate_sol']\n",
    "\n",
    "final_output_concentrate = data_full['final.output.concentrate_au'] + data_full['final.output.concentrate_ag'] + data_full['final.output.concentrate_pb'] +data_full['final.output.concentrate_sol']"
   ]
  },
  {
   "cell_type": "markdown",
   "metadata": {},
   "source": [
    "Построим график по этим значениям"
   ]
  },
  {
   "cell_type": "code",
   "execution_count": 27,
   "metadata": {},
   "outputs": [
    {
     "data": {
      "image/png": "[encoded data removed]",
      "text/plain": [
       "<Figure size 864x576 with 1 Axes>"
      ]
     },
     "metadata": {
      "needs_background": "light"
     },
     "output_type": "display_data"
    }
   ],
   "source": [
    "plt.figure(figsize=(12, 8))\n",
    "sns.kdeplot(rougher_input_concentrate, shade=True, legend=True);\n",
    "sns.kdeplot(rougher_output_concentrate, shade=True, legend=True);\n",
    "sns.kdeplot(final_output_concentrate, shade=True, legend=True)\n",
    "plt.grid(True) \n",
    "plt.xlabel('Концентрация');\n",
    "plt.ylabel('Соотношение наблюдений');\n",
    "plt.title('Суммарную концентрацию всех веществ на разных стадиях');\n",
    "plt.legend(['rougher_input_concentrate', 'rougher_output_concentrate', 'final_output_concentrate']);"
   ]
  },
  {
   "cell_type": "markdown",
   "metadata": {},
   "source": [
    "Видим, что есть незначительное число нулевых значений. Решаем их удалить, тк они могут повлиять на следующие этапы."
   ]
  },
  {
   "cell_type": "code",
   "execution_count": 28,
   "metadata": {},
   "outputs": [],
   "source": [
    "data_train_54 = data_train_54.query('@rougher_input_concentrate > 1 & @rougher_output_concentrate > 30 & @final_output_concentrate > 30')"
   ]
  },
  {
   "cell_type": "markdown",
   "metadata": {},
   "source": [
    "### Вывод"
   ]
  },
  {
   "cell_type": "markdown",
   "metadata": {},
   "source": [
    "Анализ данных показал, что в большинстве данные распределенны нормально, что присутствуют, возможно, аномалии.\n",
    "\n",
    "Этап анализа концентрации металлов на различных этапах очистки показал, что разные вещества по разному реагируют, на очистку. Например золото с каждым этапом лишь увеличивало свою концентрацию, а серебро после этапа первичной обработки наоборот теряло концентрацию в последующих обработках.\n",
    "\n",
    "Сравнение распределения размеров гранул сырья на обучающей и тестовой выборках выявило, что рисунки на графике досточно похожи, те оценка модели будет точнее\n",
    "\n",
    "Суммарная концентрация веществ на различных этапах очистки показала, что есть некоторое количество нулевых значений, но так как некоторые вещества теряют концетрацию от разных этапов очистки, то преполагаю, что это особеность вещества которое тоже можно учесть в обучении моделей"
   ]
  },
  {
   "cell_type": "markdown",
   "metadata": {},
   "source": [
    "## Модель"
   ]
  },
  {
   "cell_type": "markdown",
   "metadata": {},
   "source": [
    "### Функция для вычисления итогового sMAPE"
   ]
  },
  {
   "cell_type": "markdown",
   "metadata": {},
   "source": [
    "Напишем функцию для подсчета метрики sMAPE и для итоговой метрики"
   ]
  },
  {
   "cell_type": "code",
   "execution_count": 31,
   "metadata": {},
   "outputs": [],
   "source": [
    "def smape(target, predict):\n",
    "    return (1 / len(target)) * np.sum((np.abs(target - predict))/( (np.abs(target) + np.abs(predict)) / 2)) * 100"
   ]
  },
  {
   "cell_type": "code",
   "execution_count": 32,
   "metadata": {},
   "outputs": [],
   "source": [
    "smape_scorer = make_scorer(smape, greater_is_better = False)"
   ]
  },
  {
   "cell_type": "code",
   "execution_count": 33,
   "metadata": {},
   "outputs": [],
   "source": [
    "def final_smape(rougher, final):\n",
    "    return abs(0.25 * rougher + 0.75 * final)"
   ]
  },
  {
   "cell_type": "markdown",
   "metadata": {},
   "source": [
    "### Обучим и проверим несколько моделей"
   ]
  },
  {
   "cell_type": "markdown",
   "metadata": {},
   "source": [
    "Для начала создадим target и features из data_train_54"
   ]
  },
  {
   "cell_type": "code",
   "execution_count": 34,
   "metadata": {},
   "outputs": [],
   "source": [
    "features_train_54 = data_train_54.drop(['rougher.output.recovery', 'final.output.recovery'], axis=1)\n",
    "target_train_54_rougher = data_train_54['rougher.output.recovery']\n",
    "target_train_54_final = data_train_54['final.output.recovery']"
   ]
  },
  {
   "cell_type": "markdown",
   "metadata": {},
   "source": [
    "Проведем стандартизацию признаков, тк разброс значений от столбца к столбцу может различаться на целые порядки"
   ]
  },
  {
   "cell_type": "code",
   "execution_count": 35,
   "metadata": {},
   "outputs": [],
   "source": [
    "numeric = ['primary_cleaner.input.depressant', 'primary_cleaner.input.feed_size', 'primary_cleaner.input.sulfate',\n",
    " 'primary_cleaner.input.xanthate', 'primary_cleaner.state.floatbank8_a_air', 'primary_cleaner.state.floatbank8_a_level',\n",
    " 'primary_cleaner.state.floatbank8_b_air', 'primary_cleaner.state.floatbank8_b_level', 'primary_cleaner.state.floatbank8_c_air',\n",
    " 'primary_cleaner.state.floatbank8_c_level', 'primary_cleaner.state.floatbank8_d_air', 'primary_cleaner.state.floatbank8_d_level',\n",
    " 'rougher.input.feed_ag', 'rougher.input.feed_au', 'rougher.input.feed_pb', 'rougher.input.feed_rate',\n",
    " 'rougher.input.feed_size', 'rougher.input.feed_sol', 'rougher.input.floatbank10_sulfate',\n",
    " 'rougher.input.floatbank10_xanthate', 'rougher.input.floatbank11_sulfate',\n",
    " 'rougher.input.floatbank11_xanthate', 'rougher.state.floatbank10_a_air',\n",
    " 'rougher.state.floatbank10_a_level', 'rougher.state.floatbank10_b_air', 'rougher.state.floatbank10_b_level',\n",
    " 'rougher.state.floatbank10_c_air', 'rougher.state.floatbank10_c_level', 'rougher.state.floatbank10_d_air',\n",
    " 'rougher.state.floatbank10_d_level', 'rougher.state.floatbank10_e_air', 'rougher.state.floatbank10_e_level',\n",
    " 'rougher.state.floatbank10_f_air', 'rougher.state.floatbank10_f_level', 'secondary_cleaner.state.floatbank2_a_air',\n",
    " 'secondary_cleaner.state.floatbank2_a_level', 'secondary_cleaner.state.floatbank2_b_air', 'secondary_cleaner.state.floatbank2_b_level',\n",
    " 'secondary_cleaner.state.floatbank3_a_air', 'secondary_cleaner.state.floatbank3_a_level', 'secondary_cleaner.state.floatbank3_b_air',\n",
    " 'secondary_cleaner.state.floatbank3_b_level', 'secondary_cleaner.state.floatbank4_a_air', 'secondary_cleaner.state.floatbank4_a_level',\n",
    " 'secondary_cleaner.state.floatbank4_b_air', 'secondary_cleaner.state.floatbank4_b_level', 'secondary_cleaner.state.floatbank5_a_air',\n",
    " 'secondary_cleaner.state.floatbank5_a_level', 'secondary_cleaner.state.floatbank5_b_air', 'secondary_cleaner.state.floatbank5_b_level',\n",
    " 'secondary_cleaner.state.floatbank6_a_air', 'secondary_cleaner.state.floatbank6_a_level']\n",
    "\n",
    "scaler = StandardScaler()\n",
    "scaler.fit(features_train_54[numeric]) \n",
    "\n",
    "\n",
    "features_train_54[numeric] = scaler.transform(features_train_54[numeric])\n",
    "\n",
    "pd.options.mode.chained_assignment = None"
   ]
  },
  {
   "cell_type": "markdown",
   "metadata": {},
   "source": [
    "Теперь обучим разные модели регрессии и посмотрим какие результаты это даст\n",
    "\n",
    "**Дерево решений**"
   ]
  },
  {
   "cell_type": "code",
   "execution_count": 36,
   "metadata": {},
   "outputs": [
    {
     "name": "stdout",
     "output_type": "stream",
     "text": [
      "CPU times: user 28.4 s, sys: 56.4 ms, total: 28.5 s\n",
      "Wall time: 28.5 s\n"
     ]
    }
   ],
   "source": [
    "%%time\n",
    "best_model_dtr = None\n",
    "best_result_dtr_54 = 100\n",
    "best_depth_dtr = 0\n",
    "\n",
    "for depth in range(1, 11):\n",
    "    \n",
    "    model_dtr = DecisionTreeRegressor(random_state=12345, max_depth=depth)\n",
    "    \n",
    "    smape_rougher = cross_val_score(model_dtr,\n",
    "                                    features_train_54,\n",
    "                                    target_train_54_rougher,\n",
    "                                    scoring=smape_scorer,\n",
    "                                    cv=5)\n",
    "    \n",
    "    \n",
    "    smape_final = cross_val_score(model_dtr,\n",
    "                                    features_train_54,\n",
    "                                    target_train_54_final,\n",
    "                                    scoring=smape_scorer,\n",
    "                                    cv=5)\n",
    "    \n",
    "    smape_rougher_mean = smape_rougher.mean()\n",
    "    smape_final_mean = smape_final.mean()\n",
    "    \n",
    "    result_dtr = final_smape(smape_rougher_mean, smape_final_mean)\n",
    "    \n",
    "    if result_dtr < best_result_dtr_54:\n",
    "        \n",
    "        best_model_dtr = model_dtr\n",
    "        best_result_dtr_54 = result_dtr\n",
    "        best_depth_dtr = depth"
   ]
  },
  {
   "cell_type": "code",
   "execution_count": 37,
   "metadata": {},
   "outputs": [
    {
     "name": "stdout",
     "output_type": "stream",
     "text": [
      "sMAPE наилучшей модели на валидационной выборке: 10.961 с параметром max_depth = 2\n"
     ]
    }
   ],
   "source": [
    "print(\"sMAPE наилучшей модели на валидационной выборке:\", round(best_result_dtr_54, 3),\n",
    "      'с параметром max_depth =', best_depth_dtr)"
   ]
  },
  {
   "cell_type": "markdown",
   "metadata": {},
   "source": [
    "**Линейная регрессия**"
   ]
  },
  {
   "cell_type": "code",
   "execution_count": 38,
   "metadata": {},
   "outputs": [
    {
     "name": "stdout",
     "output_type": "stream",
     "text": [
      "CPU times: user 1.12 s, sys: 1.6 s, total: 2.72 s\n",
      "Wall time: 2.66 s\n"
     ]
    }
   ],
   "source": [
    "%%time\n",
    "model_lr = LinearRegression()\n",
    "    \n",
    "smape_rougher = cross_val_score(model_lr,\n",
    "                                    features_train_54,\n",
    "                                    target_train_54_rougher,\n",
    "                                    scoring=smape_scorer,\n",
    "                                    cv=5)\n",
    "    \n",
    "smape_final = cross_val_score(model_lr,\n",
    "                                    features_train_54,\n",
    "                                    target_train_54_final,\n",
    "                                    scoring=smape_scorer,\n",
    "                                    cv=5)\n",
    "    \n",
    "smape_rougher_mean = smape_rougher.mean()\n",
    "smape_final_mean = smape_final.mean()\n",
    "    \n",
    "result_lr_54 = final_smape(smape_rougher_mean, smape_final_mean)"
   ]
  },
  {
   "cell_type": "code",
   "execution_count": 39,
   "metadata": {},
   "outputs": [
    {
     "name": "stdout",
     "output_type": "stream",
     "text": [
      "sMAPE модели на валидационной выборке: 12.183\n"
     ]
    }
   ],
   "source": [
    "print(\"sMAPE модели на валидационной выборке:\", round(result_lr_54, 3))"
   ]
  },
  {
   "cell_type": "markdown",
   "metadata": {},
   "source": [
    "**Cлучайный лес**"
   ]
  },
  {
   "cell_type": "code",
   "execution_count": 40,
   "metadata": {},
   "outputs": [
    {
     "name": "stdout",
     "output_type": "stream",
     "text": [
      "CPU times: user 1min 59s, sys: 66.1 ms, total: 1min 59s\n",
      "Wall time: 2min\n"
     ]
    }
   ],
   "source": [
    "%%time\n",
    "best_model_rfr = None\n",
    "\n",
    "best_result_rfr_54 = 100\n",
    "\n",
    "best_est_rfr = 0\n",
    "\n",
    "best_depth_rfr = 0\n",
    "\n",
    "for est in range(10, 51, 10):\n",
    "    \n",
    "    for depth in range (1, 6):\n",
    "        \n",
    "        model_rfr = RandomForestRegressor(random_state=12345, n_estimators=est, max_depth=depth)\n",
    "        \n",
    "        smape_rougher = cross_val_score(model_dtr,\n",
    "                                    features_train_54,\n",
    "                                    target_train_54_rougher,\n",
    "                                    scoring=smape_scorer,\n",
    "                                    cv=5)\n",
    "    \n",
    "    \n",
    "        smape_final = cross_val_score(model_dtr,\n",
    "                                    features_train_54,\n",
    "                                    target_train_54_final,\n",
    "                                    scoring=smape_scorer,\n",
    "                                    cv=5)\n",
    "        \n",
    "        smape_rougher_mean = smape_rougher.mean()\n",
    "        smape_final_mean = smape_final.mean()\n",
    "    \n",
    "        result_rfr = final_smape(smape_rougher_mean, smape_final_mean)\n",
    "        \n",
    "        if result_rfr < best_result_rfr_54:\n",
    "            \n",
    "            best_model_rfr = model_rfr\n",
    "            best_result_rfr_54 = result_rfr\n",
    "            best_est_rfr = est\n",
    "            best_depth_rfr = depth"
   ]
  },
  {
   "cell_type": "code",
   "execution_count": 41,
   "metadata": {},
   "outputs": [
    {
     "name": "stdout",
     "output_type": "stream",
     "text": [
      "sMAPE наилучшей модели на валидационной выборке: 15.057 с параметром max_depth = 1 и параметром n_estimators= 10\n"
     ]
    }
   ],
   "source": [
    "print(\"sMAPE наилучшей модели на валидационной выборке:\", round(best_result_rfr_54, 3),\n",
    "      'с параметром max_depth =', best_depth_rfr, 'и параметром n_estimators=', best_est_rfr)"
   ]
  },
  {
   "cell_type": "markdown",
   "metadata": {},
   "source": [
    "Лучше всех на валидационной выборке показала себя модель дерево решений с параметром max_depth = 2, ее и протестируем"
   ]
  },
  {
   "cell_type": "markdown",
   "metadata": {},
   "source": [
    "### Проверка качества на тестовой выборке"
   ]
  },
  {
   "cell_type": "markdown",
   "metadata": {},
   "source": [
    "Для начала создадим target и features из data_test_86"
   ]
  },
  {
   "cell_type": "code",
   "execution_count": 42,
   "metadata": {},
   "outputs": [],
   "source": [
    "features_test_54 = data_test_54.drop(['rougher.output.recovery', 'final.output.recovery'], axis=1)\n",
    "target_test_54_rougher = data_test_54['rougher.output.recovery']\n",
    "target_test_54_final = data_test_54['final.output.recovery']"
   ]
  },
  {
   "cell_type": "markdown",
   "metadata": {},
   "source": [
    "Стандартизируем признаки"
   ]
  },
  {
   "cell_type": "code",
   "execution_count": 43,
   "metadata": {},
   "outputs": [],
   "source": [
    "features_test_54[numeric] = scaler.transform(features_test_54[numeric])\n",
    "\n",
    "pd.options.mode.chained_assignment = None"
   ]
  },
  {
   "cell_type": "markdown",
   "metadata": {},
   "source": [
    "Проверим модель дерево решений с параметрами max_depth=2 на тестовой выборке"
   ]
  },
  {
   "cell_type": "code",
   "execution_count": 44,
   "metadata": {},
   "outputs": [],
   "source": [
    "model_rfr_54 = DecisionTreeRegressor(random_state=12345, max_depth=2)\n",
    "\n",
    "model_rfr_rougher = model_rfr_54\n",
    "model_rfr_rougher.fit(features_train_54, target_train_54_rougher)\n",
    "\n",
    "model_rfr_final = model_rfr_54\n",
    "model_rfr_final.fit( features_train_54, target_train_54_final)\n",
    "\n",
    "predictions_rfr_rougher = model_rfr_rougher.predict(features_test_54)\n",
    "predictions_rfr_final = model_rfr_final.predict(features_test_54)\n",
    "\n",
    "smape_rougher_rfr = smape(target_test_54_rougher, predictions_rfr_rougher)\n",
    "smape_final_rfr = smape(target_test_54_final, predictions_rfr_final)\n",
    "\n",
    "result_test_rfr = final_smape(smape_rougher_rfr, smape_final_rfr)"
   ]
  },
  {
   "cell_type": "code",
   "execution_count": 45,
   "metadata": {},
   "outputs": [
    {
     "data": {
      "text/plain": [
       "13.461831449244693"
      ]
     },
     "execution_count": 45,
     "metadata": {},
     "output_type": "execute_result"
    }
   ],
   "source": [
    "result_test_rfr"
   ]
  },
  {
   "cell_type": "code",
   "execution_count": 46,
   "metadata": {},
   "outputs": [
    {
     "data": {
      "text/plain": [
       "10.280681227100352"
      ]
     },
     "execution_count": 46,
     "metadata": {},
     "output_type": "execute_result"
    }
   ],
   "source": [
    "dummy_regr_for_rougher = DummyRegressor(strategy=\"mean\")\n",
    "dummy_regr_for_final = DummyRegressor(strategy=\"mean\")\n",
    "\n",
    "dummy_regr_for_rougher.fit(features_train_54, target_train_54_rougher)\n",
    "dummy_regr_for_final.fit(features_train_54, target_train_54_final)\n",
    "\n",
    "dummy_predicted_rougher = dummy_regr_for_rougher.predict(features_test_54)\n",
    "dummy_predicted_final = dummy_regr_for_final.predict(features_test_54)\n",
    "\n",
    "smape_for_const_rougher = smape(target_test_54_rougher, dummy_predicted_rougher)\n",
    "smape_for_const_final = smape(target_test_54_final, dummy_predicted_final)\n",
    "\n",
    "final_smape_for_const = final_smape(smape_for_const_rougher, smape_for_const_final)\n",
    "\n",
    "final_smape_for_const"
   ]
  },
  {
   "cell_type": "markdown",
   "metadata": {},
   "source": [
    "### Вывод"
   ]
  },
  {
   "cell_type": "markdown",
   "metadata": {},
   "source": [
    "Построенные нами модели работают, наилучшая модель дерево решений с параметром max_depth = 2 показала на тестовой выборке sMAPE 13.4, что чуть выше этой же модели на валидационной выборке, sMAPE 10.9. Дамми тест, показал 10.2"
   ]
  },
  {
   "cell_type": "markdown",
   "metadata": {},
   "source": [
    "## Общий вывод"
   ]
  },
  {
   "cell_type": "markdown",
   "metadata": {},
   "source": [
    "В ходе работы были мы ознакомились с датафреймом, отметили его особенноси, проверили на дубликаты, извинили тип данных столбца date для удобства.Проверку на аномальные выбросы/невозможные значения решаю на данном этапе не делать, тк в дальнейшем предполагается анализировать разные графики, что позволит судить о наличии и количестве аномалий, удалили пропуски. Расчет эффективности и сравнение со значением признака выявил, что средняя абсолютная погрешность крайне мала, что означает, что расчет точный.\n",
    "\n",
    "Анализ признаков, недоступных в тестовой выборке показал, что в data_test отсутствовали как простые, так и целевые, признаки, рассмотрели решение двумя путями: В первом случаи мы добавили только целевые признаки, а отсутствующие не целевые удалил в data_train, чтобы в дальнейшем построить корректную модел. Во втором случаи вы добавили все отсутствующие признаки, что бы предсказание модели из data_train были, возможно, точнее. Выбор сделали в первого\n",
    "\n",
    "Анализ данных, показал, что в большинстве данные распределенны нормально, что присутствуют, возможно, аномалии.\n",
    "\n",
    "Этап анализа концентрации металлов на различных этапах очистки показал, что разные вещества по разному реагируют, на очистку. Например золото с каждым этапом лишь увеличивало свою концентрацию, а серебро после этапа первичной обработки наоборот теряло концентрацию в последующих обработках.\n",
    "\n",
    "Сравнение распределения размеров гранул сырья на обучающей и тестовой выборках выявило, что рисунки на графике досточно похожи, те оценка модели будет точнее\n",
    "\n",
    "Суммарная концентрация веществ на различных этапах очистки показала, что есть некоторое количество нулевых значений, но так как некоторые вещества теряют концетрацию от разных этапов очистки, то преполагаю, что это особеность вещества которое тоже можно учесть в обучении моделей\n",
    "\n",
    "На этапе проверки моделей мы построили, разбили наши выборки на признаки и целевые признаки, провели стандартизацию, а после обучили модели, на лучшей провели тест, результаты метрики sMAPE приблизительно похожи, 13.4 против 10.9. Дамми тест, показал 10.2, те константная модель показывает лучший результат, чем обученная нами модель. Преполагаю лишь, что\n",
    "такой результат получился, в частности, из-за некоректной выгрузке, некоторые параметры недоступны, потому что замеряются и/или рассчитываются значительно позже. Из-за этого в тестовой выборке отсутствуют некоторые признаки, которые могут быть в обучающей. Также в тестовом наборе нет целевых признаков. =)"
   ]
  },
  {
   "cell_type": "code",
   "execution_count": null,
   "metadata": {},
   "outputs": [],
   "source": []
  }
 ],
 "metadata": {
  "ExecuteTimeLog": [
   {
    "duration": 1458,
    "start_time": "2023-02-23T19:16:42.287Z"
   },
   {
    "duration": 3122,
    "start_time": "2023-02-23T19:20:37.107Z"
   },
   {
    "duration": 26,
    "start_time": "2023-02-23T19:21:04.251Z"
   },
   {
    "duration": 26,
    "start_time": "2023-02-23T19:21:17.433Z"
   },
   {
    "duration": 23,
    "start_time": "2023-02-23T19:22:07.689Z"
   },
   {
    "duration": 22,
    "start_time": "2023-02-23T19:22:08.673Z"
   },
   {
    "duration": 31,
    "start_time": "2023-02-23T19:22:09.377Z"
   },
   {
    "duration": 29,
    "start_time": "2023-02-23T19:22:09.808Z"
   },
   {
    "duration": 13,
    "start_time": "2023-02-23T20:05:57.508Z"
   },
   {
    "duration": 8,
    "start_time": "2023-02-23T20:06:09.371Z"
   },
   {
    "duration": 12,
    "start_time": "2023-02-23T20:19:36.680Z"
   },
   {
    "duration": 9,
    "start_time": "2023-02-23T20:19:47.006Z"
   },
   {
    "duration": 7,
    "start_time": "2023-02-23T20:20:30.110Z"
   },
   {
    "duration": 9,
    "start_time": "2023-02-23T20:20:30.479Z"
   },
   {
    "duration": 128,
    "start_time": "2023-02-23T21:29:41.927Z"
   },
   {
    "duration": 23,
    "start_time": "2023-02-23T21:29:51.866Z"
   },
   {
    "duration": 101,
    "start_time": "2023-02-23T21:30:20.809Z"
   },
   {
    "duration": 7079,
    "start_time": "2023-02-23T21:33:38.713Z"
   },
   {
    "duration": 6831,
    "start_time": "2023-02-23T21:34:02.471Z"
   },
   {
    "duration": 9630,
    "start_time": "2023-02-23T21:34:23.454Z"
   },
   {
    "duration": 9450,
    "start_time": "2023-02-23T21:34:48.590Z"
   },
   {
    "duration": 17700,
    "start_time": "2023-02-23T21:35:14.182Z"
   },
   {
    "duration": 7203,
    "start_time": "2023-02-23T21:37:20.989Z"
   },
   {
    "duration": 104,
    "start_time": "2023-02-23T21:42:21.227Z"
   },
   {
    "duration": 10,
    "start_time": "2023-02-23T21:42:36.276Z"
   },
   {
    "duration": 397,
    "start_time": "2023-02-23T21:42:50.587Z"
   },
   {
    "duration": 17,
    "start_time": "2023-02-23T21:43:47.459Z"
   },
   {
    "duration": 290,
    "start_time": "2023-02-23T21:44:01.661Z"
   },
   {
    "duration": 242,
    "start_time": "2023-02-23T21:44:18.923Z"
   },
   {
    "duration": 6867,
    "start_time": "2023-02-23T21:45:28.501Z"
   },
   {
    "duration": 6694,
    "start_time": "2023-02-23T21:46:03.251Z"
   },
   {
    "duration": 3086,
    "start_time": "2023-02-23T21:51:50.112Z"
   },
   {
    "duration": 3532,
    "start_time": "2023-02-23T21:52:23.304Z"
   },
   {
    "duration": 3153,
    "start_time": "2023-02-23T21:53:10.296Z"
   },
   {
    "duration": 3273,
    "start_time": "2023-02-23T21:53:21.231Z"
   },
   {
    "duration": 3570,
    "start_time": "2023-02-23T21:53:36.912Z"
   },
   {
    "duration": 7294,
    "start_time": "2023-02-23T21:58:57.190Z"
   },
   {
    "duration": 8072,
    "start_time": "2023-02-23T21:59:16.845Z"
   },
   {
    "duration": 10,
    "start_time": "2023-02-23T22:00:07.726Z"
   },
   {
    "duration": 13,
    "start_time": "2023-02-23T22:00:35.605Z"
   },
   {
    "duration": 11,
    "start_time": "2023-02-23T22:00:46.149Z"
   },
   {
    "duration": 5,
    "start_time": "2023-02-23T22:00:50.661Z"
   },
   {
    "duration": 24,
    "start_time": "2023-02-23T22:03:34.078Z"
   },
   {
    "duration": 9,
    "start_time": "2023-02-23T22:43:09.335Z"
   },
   {
    "duration": 3,
    "start_time": "2023-02-23T22:43:26.409Z"
   },
   {
    "duration": 6,
    "start_time": "2023-02-23T22:43:45.386Z"
   },
   {
    "duration": 222,
    "start_time": "2023-02-23T22:49:03.416Z"
   },
   {
    "duration": 7,
    "start_time": "2023-02-23T22:49:57.767Z"
   },
   {
    "duration": 43,
    "start_time": "2023-02-23T23:08:00.923Z"
   },
   {
    "duration": 26,
    "start_time": "2023-02-23T23:08:57.761Z"
   },
   {
    "duration": 17,
    "start_time": "2023-02-23T23:17:12.110Z"
   },
   {
    "duration": 14,
    "start_time": "2023-02-23T23:17:17.572Z"
   },
   {
    "duration": 26,
    "start_time": "2023-02-23T23:18:07.461Z"
   },
   {
    "duration": 11,
    "start_time": "2023-02-23T23:18:19.125Z"
   },
   {
    "duration": 25,
    "start_time": "2023-02-23T23:18:26.989Z"
   },
   {
    "duration": 5,
    "start_time": "2023-02-23T23:21:55.540Z"
   },
   {
    "duration": 4,
    "start_time": "2023-02-23T23:22:07.763Z"
   },
   {
    "duration": 12,
    "start_time": "2023-02-23T23:22:22.267Z"
   },
   {
    "duration": 11,
    "start_time": "2023-02-23T23:22:30.755Z"
   },
   {
    "duration": 27,
    "start_time": "2023-02-23T23:22:36.227Z"
   },
   {
    "duration": 8,
    "start_time": "2023-02-23T23:22:54.923Z"
   },
   {
    "duration": 12,
    "start_time": "2023-02-24T00:09:22.526Z"
   },
   {
    "duration": 12,
    "start_time": "2023-02-24T00:10:19.740Z"
   },
   {
    "duration": 5,
    "start_time": "2023-02-24T00:10:30.868Z"
   },
   {
    "duration": 9,
    "start_time": "2023-02-24T00:17:26.819Z"
   },
   {
    "duration": 36,
    "start_time": "2023-02-24T00:17:31.946Z"
   },
   {
    "duration": 11,
    "start_time": "2023-02-24T00:17:55.131Z"
   },
   {
    "duration": 1272,
    "start_time": "2023-02-24T00:18:17.019Z"
   },
   {
    "duration": 699,
    "start_time": "2023-02-24T00:18:19.034Z"
   },
   {
    "duration": 23,
    "start_time": "2023-02-24T00:18:19.735Z"
   },
   {
    "duration": 17,
    "start_time": "2023-02-24T00:18:20.034Z"
   },
   {
    "duration": 22,
    "start_time": "2023-02-24T00:18:20.451Z"
   },
   {
    "duration": 14,
    "start_time": "2023-02-24T00:18:20.794Z"
   },
   {
    "duration": 24,
    "start_time": "2023-02-24T00:18:21.155Z"
   },
   {
    "duration": 18,
    "start_time": "2023-02-24T00:18:21.474Z"
   },
   {
    "duration": 7,
    "start_time": "2023-02-24T00:18:22.122Z"
   },
   {
    "duration": 6,
    "start_time": "2023-02-24T00:18:22.434Z"
   },
   {
    "duration": 8,
    "start_time": "2023-02-24T00:18:22.706Z"
   },
   {
    "duration": 95,
    "start_time": "2023-02-24T00:18:23.258Z"
   },
   {
    "duration": 3,
    "start_time": "2023-02-24T00:18:24.070Z"
   },
   {
    "duration": 6,
    "start_time": "2023-02-24T00:18:24.330Z"
   },
   {
    "duration": 5,
    "start_time": "2023-02-24T00:18:24.826Z"
   },
   {
    "duration": 7,
    "start_time": "2023-02-24T00:18:25.938Z"
   },
   {
    "duration": 12,
    "start_time": "2023-02-24T00:18:27.154Z"
   },
   {
    "duration": 5,
    "start_time": "2023-02-24T00:18:29.018Z"
   },
   {
    "duration": 101,
    "start_time": "2023-02-24T00:18:32.778Z"
   },
   {
    "duration": 31,
    "start_time": "2023-02-24T00:21:27.058Z"
   },
   {
    "duration": 31,
    "start_time": "2023-02-24T00:21:58.939Z"
   },
   {
    "duration": 37,
    "start_time": "2023-02-24T00:22:35.419Z"
   },
   {
    "duration": 10,
    "start_time": "2023-02-24T00:22:52.882Z"
   },
   {
    "duration": 7,
    "start_time": "2023-02-24T00:24:00.929Z"
   },
   {
    "duration": 27,
    "start_time": "2023-02-24T00:24:05.825Z"
   },
   {
    "duration": 32,
    "start_time": "2023-02-24T00:24:52.401Z"
   },
   {
    "duration": 15,
    "start_time": "2023-02-24T00:25:39.601Z"
   },
   {
    "duration": 37,
    "start_time": "2023-02-24T00:25:46.816Z"
   },
   {
    "duration": 28,
    "start_time": "2023-02-24T00:26:17.801Z"
   },
   {
    "duration": 12,
    "start_time": "2023-02-24T00:28:10.536Z"
   },
   {
    "duration": 7,
    "start_time": "2023-02-24T00:29:11.384Z"
   },
   {
    "duration": 36,
    "start_time": "2023-02-24T00:34:27.031Z"
   },
   {
    "duration": 12,
    "start_time": "2023-02-24T00:34:33.295Z"
   },
   {
    "duration": 13,
    "start_time": "2023-02-24T00:35:05.006Z"
   },
   {
    "duration": 29,
    "start_time": "2023-02-24T00:35:35.871Z"
   },
   {
    "duration": 16,
    "start_time": "2023-02-24T00:37:23.564Z"
   },
   {
    "duration": 32,
    "start_time": "2023-02-24T00:37:28.445Z"
   },
   {
    "duration": 12,
    "start_time": "2023-02-24T00:37:56.942Z"
   },
   {
    "duration": 24,
    "start_time": "2023-02-24T00:39:27.004Z"
   },
   {
    "duration": 3,
    "start_time": "2023-02-24T00:39:36.636Z"
   },
   {
    "duration": 1254,
    "start_time": "2023-02-24T00:39:52.252Z"
   },
   {
    "duration": 684,
    "start_time": "2023-02-24T00:39:54.131Z"
   },
   {
    "duration": 24,
    "start_time": "2023-02-24T00:39:55.212Z"
   },
   {
    "duration": 16,
    "start_time": "2023-02-24T00:39:55.619Z"
   },
   {
    "duration": 20,
    "start_time": "2023-02-24T00:39:56.332Z"
   },
   {
    "duration": 12,
    "start_time": "2023-02-24T00:39:56.787Z"
   },
   {
    "duration": 19,
    "start_time": "2023-02-24T00:39:57.340Z"
   },
   {
    "duration": 17,
    "start_time": "2023-02-24T00:39:57.803Z"
   },
   {
    "duration": 8,
    "start_time": "2023-02-24T00:39:58.523Z"
   },
   {
    "duration": 6,
    "start_time": "2023-02-24T00:39:58.771Z"
   },
   {
    "duration": 10,
    "start_time": "2023-02-24T00:39:58.995Z"
   },
   {
    "duration": 94,
    "start_time": "2023-02-24T00:39:59.398Z"
   },
   {
    "duration": 3,
    "start_time": "2023-02-24T00:39:59.979Z"
   },
   {
    "duration": 6,
    "start_time": "2023-02-24T00:40:00.179Z"
   },
   {
    "duration": 5,
    "start_time": "2023-02-24T00:40:00.587Z"
   },
   {
    "duration": 7,
    "start_time": "2023-02-24T00:40:01.708Z"
   },
   {
    "duration": 12,
    "start_time": "2023-02-24T00:40:02.970Z"
   },
   {
    "duration": 5,
    "start_time": "2023-02-24T00:40:03.363Z"
   },
   {
    "duration": 12,
    "start_time": "2023-02-24T00:40:04.339Z"
   },
   {
    "duration": 7,
    "start_time": "2023-02-24T00:40:04.714Z"
   },
   {
    "duration": 16,
    "start_time": "2023-02-24T00:40:05.418Z"
   },
   {
    "duration": 2,
    "start_time": "2023-02-24T00:40:05.795Z"
   },
   {
    "duration": 35,
    "start_time": "2023-02-24T00:43:51.554Z"
   },
   {
    "duration": 10,
    "start_time": "2023-02-24T00:44:47.945Z"
   },
   {
    "duration": 6,
    "start_time": "2023-02-24T00:44:51.610Z"
   },
   {
    "duration": 7,
    "start_time": "2023-02-24T00:44:58.617Z"
   },
   {
    "duration": 45,
    "start_time": "2023-02-24T16:25:51.835Z"
   },
   {
    "duration": 1540,
    "start_time": "2023-02-24T16:26:09.340Z"
   },
   {
    "duration": 1788,
    "start_time": "2023-02-24T16:26:11.628Z"
   },
   {
    "duration": 24,
    "start_time": "2023-02-24T16:26:13.418Z"
   },
   {
    "duration": 17,
    "start_time": "2023-02-24T16:26:13.444Z"
   },
   {
    "duration": 24,
    "start_time": "2023-02-24T16:26:14.147Z"
   },
   {
    "duration": 14,
    "start_time": "2023-02-24T16:26:14.523Z"
   },
   {
    "duration": 21,
    "start_time": "2023-02-24T16:26:15.420Z"
   },
   {
    "duration": 26,
    "start_time": "2023-02-24T16:26:15.900Z"
   },
   {
    "duration": 10,
    "start_time": "2023-02-24T16:26:16.772Z"
   },
   {
    "duration": 5,
    "start_time": "2023-02-24T16:26:17.156Z"
   },
   {
    "duration": 10,
    "start_time": "2023-02-24T16:26:17.395Z"
   },
   {
    "duration": 93,
    "start_time": "2023-02-24T16:26:17.923Z"
   },
   {
    "duration": 2,
    "start_time": "2023-02-24T16:26:18.699Z"
   },
   {
    "duration": 6,
    "start_time": "2023-02-24T16:26:18.871Z"
   },
   {
    "duration": 5,
    "start_time": "2023-02-24T16:26:19.218Z"
   },
   {
    "duration": 6,
    "start_time": "2023-02-24T16:26:20.003Z"
   },
   {
    "duration": 13,
    "start_time": "2023-02-24T16:26:21.027Z"
   },
   {
    "duration": 5,
    "start_time": "2023-02-24T16:26:21.538Z"
   },
   {
    "duration": 12,
    "start_time": "2023-02-24T16:26:22.955Z"
   },
   {
    "duration": 7,
    "start_time": "2023-02-24T16:26:23.331Z"
   },
   {
    "duration": 15,
    "start_time": "2023-02-24T16:26:23.995Z"
   },
   {
    "duration": 3,
    "start_time": "2023-02-24T16:26:24.266Z"
   },
   {
    "duration": 36,
    "start_time": "2023-02-24T16:26:24.763Z"
   },
   {
    "duration": 5,
    "start_time": "2023-02-24T16:26:28.308Z"
   },
   {
    "duration": 13,
    "start_time": "2023-02-24T16:26:36.419Z"
   },
   {
    "duration": 356,
    "start_time": "2023-02-24T16:26:51.459Z"
   },
   {
    "duration": 115,
    "start_time": "2023-02-24T16:31:49.091Z"
   },
   {
    "duration": 2182,
    "start_time": "2023-02-24T16:31:54.218Z"
   },
   {
    "duration": 924,
    "start_time": "2023-02-24T16:32:43.450Z"
   },
   {
    "duration": 982,
    "start_time": "2023-02-24T16:32:57.074Z"
   },
   {
    "duration": 328,
    "start_time": "2023-02-24T16:34:03.227Z"
   },
   {
    "duration": 980,
    "start_time": "2023-02-24T16:35:39.683Z"
   },
   {
    "duration": 994,
    "start_time": "2023-02-24T16:35:47.506Z"
   },
   {
    "duration": 1124,
    "start_time": "2023-02-24T16:39:44.648Z"
   },
   {
    "duration": 1063,
    "start_time": "2023-02-24T16:40:08.977Z"
   },
   {
    "duration": 1111,
    "start_time": "2023-02-24T16:41:57.761Z"
   },
   {
    "duration": 987,
    "start_time": "2023-02-24T16:42:38.591Z"
   },
   {
    "duration": 997,
    "start_time": "2023-02-24T16:42:45.792Z"
   },
   {
    "duration": 875,
    "start_time": "2023-02-24T16:42:58.417Z"
   },
   {
    "duration": 1077,
    "start_time": "2023-02-24T16:43:04.249Z"
   },
   {
    "duration": 44,
    "start_time": "2023-02-24T16:48:55.281Z"
   },
   {
    "duration": 13,
    "start_time": "2023-02-24T16:49:26.941Z"
   },
   {
    "duration": 13,
    "start_time": "2023-02-24T16:49:50.246Z"
   },
   {
    "duration": 906,
    "start_time": "2023-02-24T16:49:57.959Z"
   },
   {
    "duration": 997,
    "start_time": "2023-02-24T16:53:07.269Z"
   },
   {
    "duration": 955,
    "start_time": "2023-02-24T16:56:05.516Z"
   },
   {
    "duration": 1149,
    "start_time": "2023-02-24T16:57:07.180Z"
   },
   {
    "duration": 1618,
    "start_time": "2023-02-24T16:59:15.085Z"
   },
   {
    "duration": 962,
    "start_time": "2023-02-24T16:59:48.770Z"
   },
   {
    "duration": 1945,
    "start_time": "2023-02-24T16:59:52.123Z"
   },
   {
    "duration": 1474,
    "start_time": "2023-02-24T17:00:31.770Z"
   },
   {
    "duration": 1373,
    "start_time": "2023-02-24T17:02:15.322Z"
   },
   {
    "duration": 725,
    "start_time": "2023-02-24T17:02:17.430Z"
   },
   {
    "duration": 24,
    "start_time": "2023-02-24T17:02:18.157Z"
   },
   {
    "duration": 16,
    "start_time": "2023-02-24T17:02:18.185Z"
   },
   {
    "duration": 22,
    "start_time": "2023-02-24T17:02:18.465Z"
   },
   {
    "duration": 14,
    "start_time": "2023-02-24T17:02:18.745Z"
   },
   {
    "duration": 21,
    "start_time": "2023-02-24T17:02:18.994Z"
   },
   {
    "duration": 19,
    "start_time": "2023-02-24T17:02:19.218Z"
   },
   {
    "duration": 8,
    "start_time": "2023-02-24T17:02:19.617Z"
   },
   {
    "duration": 7,
    "start_time": "2023-02-24T17:02:19.809Z"
   },
   {
    "duration": 10,
    "start_time": "2023-02-24T17:02:19.986Z"
   },
   {
    "duration": 98,
    "start_time": "2023-02-24T17:02:20.345Z"
   },
   {
    "duration": 3,
    "start_time": "2023-02-24T17:02:21.074Z"
   },
   {
    "duration": 6,
    "start_time": "2023-02-24T17:02:21.257Z"
   },
   {
    "duration": 4,
    "start_time": "2023-02-24T17:02:21.618Z"
   },
   {
    "duration": 9,
    "start_time": "2023-02-24T17:02:22.378Z"
   },
   {
    "duration": 13,
    "start_time": "2023-02-24T17:02:23.161Z"
   },
   {
    "duration": 5,
    "start_time": "2023-02-24T17:02:23.361Z"
   },
   {
    "duration": 13,
    "start_time": "2023-02-24T17:02:23.746Z"
   },
   {
    "duration": 7,
    "start_time": "2023-02-24T17:02:23.929Z"
   },
   {
    "duration": 15,
    "start_time": "2023-02-24T17:02:24.306Z"
   },
   {
    "duration": 3,
    "start_time": "2023-02-24T17:02:24.497Z"
   },
   {
    "duration": 35,
    "start_time": "2023-02-24T17:02:24.889Z"
   },
   {
    "duration": 6,
    "start_time": "2023-02-24T17:02:26.066Z"
   },
   {
    "duration": 995,
    "start_time": "2023-02-24T17:02:27.498Z"
   },
   {
    "duration": 1976,
    "start_time": "2023-02-24T17:02:30.482Z"
   },
   {
    "duration": 110,
    "start_time": "2023-02-24T17:03:27.122Z"
   },
   {
    "duration": 217,
    "start_time": "2023-02-24T17:03:35.202Z"
   },
   {
    "duration": 1027,
    "start_time": "2023-02-24T17:03:42.483Z"
   },
   {
    "duration": 1983,
    "start_time": "2023-02-24T17:03:55.770Z"
   },
   {
    "duration": 972,
    "start_time": "2023-02-24T17:05:01.889Z"
   },
   {
    "duration": 1801,
    "start_time": "2023-02-24T17:05:11.497Z"
   },
   {
    "duration": 744,
    "start_time": "2023-02-24T17:05:18.073Z"
   },
   {
    "duration": 1668,
    "start_time": "2023-02-24T17:05:22.048Z"
   },
   {
    "duration": 1320,
    "start_time": "2023-02-24T17:05:28.904Z"
   },
   {
    "duration": 1198,
    "start_time": "2023-02-24T17:05:47.545Z"
   },
   {
    "duration": 1371,
    "start_time": "2023-02-24T17:05:55.944Z"
   },
   {
    "duration": 1148,
    "start_time": "2023-02-24T17:06:48.896Z"
   },
   {
    "duration": 10,
    "start_time": "2023-02-24T17:45:31.206Z"
   },
   {
    "duration": 607,
    "start_time": "2023-02-24T17:46:10.509Z"
   },
   {
    "duration": 786,
    "start_time": "2023-02-24T17:46:23.390Z"
   },
   {
    "duration": 486,
    "start_time": "2023-02-24T17:48:34.813Z"
   },
   {
    "duration": 835,
    "start_time": "2023-02-24T17:49:14.774Z"
   },
   {
    "duration": 915,
    "start_time": "2023-02-24T19:05:37.126Z"
   },
   {
    "duration": 871,
    "start_time": "2023-02-24T19:06:55.847Z"
   },
   {
    "duration": 784,
    "start_time": "2023-02-24T19:07:12.102Z"
   },
   {
    "duration": 1066,
    "start_time": "2023-02-24T19:10:01.506Z"
   },
   {
    "duration": 432,
    "start_time": "2023-02-24T19:11:24.203Z"
   },
   {
    "duration": 863,
    "start_time": "2023-02-24T19:13:01.741Z"
   },
   {
    "duration": 837,
    "start_time": "2023-02-24T19:13:20.068Z"
   },
   {
    "duration": 312,
    "start_time": "2023-02-24T19:14:00.482Z"
   },
   {
    "duration": 475,
    "start_time": "2023-02-24T19:14:21.915Z"
   },
   {
    "duration": 382,
    "start_time": "2023-02-24T19:14:37.290Z"
   },
   {
    "duration": 350,
    "start_time": "2023-02-24T19:15:51.506Z"
   },
   {
    "duration": 406,
    "start_time": "2023-02-24T19:15:58.505Z"
   },
   {
    "duration": 432,
    "start_time": "2023-02-24T19:16:37.601Z"
   },
   {
    "duration": 438,
    "start_time": "2023-02-24T19:17:31.811Z"
   },
   {
    "duration": 440,
    "start_time": "2023-02-24T19:18:07.161Z"
   },
   {
    "duration": 382,
    "start_time": "2023-02-24T19:18:17.281Z"
   },
   {
    "duration": 451,
    "start_time": "2023-02-24T19:18:57.707Z"
   },
   {
    "duration": 462,
    "start_time": "2023-02-24T19:21:39.415Z"
   },
   {
    "duration": 429,
    "start_time": "2023-02-24T19:22:06.751Z"
   },
   {
    "duration": 469,
    "start_time": "2023-02-24T19:22:32.631Z"
   },
   {
    "duration": 381,
    "start_time": "2023-02-24T19:22:34.075Z"
   },
   {
    "duration": 436,
    "start_time": "2023-02-24T19:25:46.606Z"
   },
   {
    "duration": 422,
    "start_time": "2023-02-24T19:25:53.965Z"
   },
   {
    "duration": 7,
    "start_time": "2023-02-24T19:27:17.013Z"
   },
   {
    "duration": 459,
    "start_time": "2023-02-24T19:29:01.005Z"
   },
   {
    "duration": 7,
    "start_time": "2023-02-24T19:56:15.006Z"
   },
   {
    "duration": 1043,
    "start_time": "2023-02-24T19:59:03.271Z"
   },
   {
    "duration": 35,
    "start_time": "2023-02-24T20:17:24.880Z"
   },
   {
    "duration": 33,
    "start_time": "2023-02-24T20:17:45.171Z"
   },
   {
    "duration": 31,
    "start_time": "2023-02-24T20:18:51.313Z"
   },
   {
    "duration": 59,
    "start_time": "2023-02-24T21:29:34.317Z"
   },
   {
    "duration": 4,
    "start_time": "2023-02-24T21:30:01.896Z"
   },
   {
    "duration": 3,
    "start_time": "2023-02-24T21:36:49.064Z"
   },
   {
    "duration": 3,
    "start_time": "2023-02-24T21:36:51.117Z"
   },
   {
    "duration": 3,
    "start_time": "2023-02-24T21:39:01.469Z"
   },
   {
    "duration": 3,
    "start_time": "2023-02-24T21:41:41.475Z"
   },
   {
    "duration": 19,
    "start_time": "2023-02-24T21:48:50.253Z"
   },
   {
    "duration": 26,
    "start_time": "2023-02-24T21:49:40.447Z"
   },
   {
    "duration": 28,
    "start_time": "2023-02-24T21:50:23.864Z"
   },
   {
    "duration": 1526,
    "start_time": "2023-02-24T21:51:36.135Z"
   },
   {
    "duration": 735,
    "start_time": "2023-02-24T21:51:38.941Z"
   },
   {
    "duration": 26,
    "start_time": "2023-02-24T21:51:40.183Z"
   },
   {
    "duration": 19,
    "start_time": "2023-02-24T21:51:40.454Z"
   },
   {
    "duration": 21,
    "start_time": "2023-02-24T21:51:40.726Z"
   },
   {
    "duration": 14,
    "start_time": "2023-02-24T21:51:40.958Z"
   },
   {
    "duration": 22,
    "start_time": "2023-02-24T21:51:41.159Z"
   },
   {
    "duration": 19,
    "start_time": "2023-02-24T21:51:41.350Z"
   },
   {
    "duration": 11,
    "start_time": "2023-02-24T21:51:41.734Z"
   },
   {
    "duration": 6,
    "start_time": "2023-02-24T21:51:41.926Z"
   },
   {
    "duration": 9,
    "start_time": "2023-02-24T21:51:42.117Z"
   },
   {
    "duration": 90,
    "start_time": "2023-02-24T21:51:42.493Z"
   },
   {
    "duration": 3,
    "start_time": "2023-02-24T21:51:43.197Z"
   },
   {
    "duration": 6,
    "start_time": "2023-02-24T21:51:43.381Z"
   },
   {
    "duration": 4,
    "start_time": "2023-02-24T21:51:43.702Z"
   },
   {
    "duration": 7,
    "start_time": "2023-02-24T21:51:44.381Z"
   },
   {
    "duration": 15,
    "start_time": "2023-02-24T21:51:45.502Z"
   },
   {
    "duration": 5,
    "start_time": "2023-02-24T21:51:45.742Z"
   },
   {
    "duration": 14,
    "start_time": "2023-02-24T21:51:46.350Z"
   },
   {
    "duration": 9,
    "start_time": "2023-02-24T21:51:46.710Z"
   },
   {
    "duration": 16,
    "start_time": "2023-02-24T21:51:47.454Z"
   },
   {
    "duration": 2,
    "start_time": "2023-02-24T21:51:48.182Z"
   },
   {
    "duration": 35,
    "start_time": "2023-02-24T21:51:50.253Z"
   },
   {
    "duration": 5,
    "start_time": "2023-02-24T21:51:52.062Z"
   },
   {
    "duration": 1192,
    "start_time": "2023-02-24T21:51:52.438Z"
   },
   {
    "duration": 1232,
    "start_time": "2023-02-24T21:51:53.632Z"
   },
   {
    "duration": 1294,
    "start_time": "2023-02-24T21:51:54.866Z"
   },
   {
    "duration": 453,
    "start_time": "2023-02-24T21:52:03.326Z"
   },
   {
    "duration": 7,
    "start_time": "2023-02-24T21:52:06.718Z"
   },
   {
    "duration": 933,
    "start_time": "2023-02-24T21:52:07.951Z"
   },
   {
    "duration": 3,
    "start_time": "2023-02-24T21:52:12.157Z"
   },
   {
    "duration": 3,
    "start_time": "2023-02-24T21:52:12.869Z"
   },
   {
    "duration": 3,
    "start_time": "2023-02-24T21:52:13.557Z"
   },
   {
    "duration": 155,
    "start_time": "2023-02-24T21:52:15.383Z"
   },
   {
    "duration": 26,
    "start_time": "2023-02-24T21:53:34.885Z"
   },
   {
    "duration": 36,
    "start_time": "2023-02-24T22:05:47.938Z"
   },
   {
    "duration": 33,
    "start_time": "2023-02-24T22:06:19.028Z"
   },
   {
    "duration": 11,
    "start_time": "2023-02-24T22:06:40.713Z"
   },
   {
    "duration": 34,
    "start_time": "2023-02-24T22:06:41.234Z"
   },
   {
    "duration": 20,
    "start_time": "2023-02-24T22:07:18.753Z"
   },
   {
    "duration": 38,
    "start_time": "2023-02-24T22:08:09.929Z"
   },
   {
    "duration": 29,
    "start_time": "2023-02-24T22:08:13.849Z"
   },
   {
    "duration": 8,
    "start_time": "2023-02-24T22:08:26.568Z"
   },
   {
    "duration": 1374,
    "start_time": "2023-02-24T22:10:09.728Z"
   },
   {
    "duration": 718,
    "start_time": "2023-02-24T22:10:11.104Z"
   },
   {
    "duration": 32,
    "start_time": "2023-02-24T22:10:11.824Z"
   },
   {
    "duration": 18,
    "start_time": "2023-02-24T22:10:11.858Z"
   },
   {
    "duration": 19,
    "start_time": "2023-02-24T22:10:12.663Z"
   },
   {
    "duration": 13,
    "start_time": "2023-02-24T22:10:13.110Z"
   },
   {
    "duration": 22,
    "start_time": "2023-02-24T22:10:13.704Z"
   },
   {
    "duration": 18,
    "start_time": "2023-02-24T22:10:14.159Z"
   },
   {
    "duration": 10,
    "start_time": "2023-02-24T22:10:15.095Z"
   },
   {
    "duration": 13,
    "start_time": "2023-02-24T22:10:15.487Z"
   },
   {
    "duration": 8,
    "start_time": "2023-02-24T22:10:15.703Z"
   },
   {
    "duration": 114,
    "start_time": "2023-02-24T22:10:16.119Z"
   },
   {
    "duration": 3,
    "start_time": "2023-02-24T22:10:16.831Z"
   },
   {
    "duration": 7,
    "start_time": "2023-02-24T22:10:16.999Z"
   },
   {
    "duration": 8,
    "start_time": "2023-02-24T22:10:17.359Z"
   },
   {
    "duration": 7,
    "start_time": "2023-02-24T22:10:18.103Z"
   },
   {
    "duration": 18,
    "start_time": "2023-02-24T22:10:18.832Z"
   },
   {
    "duration": 5,
    "start_time": "2023-02-24T22:10:19.007Z"
   },
   {
    "duration": 14,
    "start_time": "2023-02-24T22:10:19.410Z"
   },
   {
    "duration": 8,
    "start_time": "2023-02-24T22:10:19.575Z"
   },
   {
    "duration": 20,
    "start_time": "2023-02-24T22:10:20.118Z"
   },
   {
    "duration": 6,
    "start_time": "2023-02-24T22:10:21.855Z"
   },
   {
    "duration": 1231,
    "start_time": "2023-02-24T22:10:22.647Z"
   },
   {
    "duration": 1256,
    "start_time": "2023-02-24T22:10:23.880Z"
   },
   {
    "duration": 1139,
    "start_time": "2023-02-24T22:10:26.119Z"
   },
   {
    "duration": 441,
    "start_time": "2023-02-24T22:10:28.919Z"
   },
   {
    "duration": 7,
    "start_time": "2023-02-24T22:10:31.503Z"
   },
   {
    "duration": 961,
    "start_time": "2023-02-24T22:10:32.119Z"
   },
   {
    "duration": 3,
    "start_time": "2023-02-24T22:10:38.983Z"
   },
   {
    "duration": 2,
    "start_time": "2023-02-24T22:10:40.039Z"
   },
   {
    "duration": 3,
    "start_time": "2023-02-24T22:10:41.087Z"
   },
   {
    "duration": 7,
    "start_time": "2023-02-24T22:10:45.543Z"
   },
   {
    "duration": 45911,
    "start_time": "2023-02-24T22:31:07.196Z"
   },
   {
    "duration": 116,
    "start_time": "2023-02-24T22:32:23.722Z"
   },
   {
    "duration": 4,
    "start_time": "2023-02-24T22:32:36.188Z"
   },
   {
    "duration": 24,
    "start_time": "2023-02-24T22:34:30.545Z"
   },
   {
    "duration": 72,
    "start_time": "2023-02-24T22:34:46.386Z"
   },
   {
    "duration": 174,
    "start_time": "2023-02-24T22:35:07.201Z"
   },
   {
    "duration": 113,
    "start_time": "2023-02-24T22:35:16.009Z"
   },
   {
    "duration": 29,
    "start_time": "2023-02-24T22:35:19.890Z"
   },
   {
    "duration": 4,
    "start_time": "2023-02-24T22:38:21.064Z"
   },
   {
    "duration": 616,
    "start_time": "2023-02-24T22:41:27.055Z"
   },
   {
    "duration": 46006,
    "start_time": "2023-02-24T22:41:37.287Z"
   },
   {
    "duration": 5,
    "start_time": "2023-02-24T22:42:26.407Z"
   },
   {
    "duration": 4,
    "start_time": "2023-02-24T22:42:46.087Z"
   },
   {
    "duration": 5,
    "start_time": "2023-02-24T22:42:54.447Z"
   },
   {
    "duration": 4,
    "start_time": "2023-02-24T22:43:00.567Z"
   },
   {
    "duration": 60575,
    "start_time": "2023-02-24T22:47:37.073Z"
   },
   {
    "duration": 4,
    "start_time": "2023-02-24T22:48:42.438Z"
   },
   {
    "duration": 4,
    "start_time": "2023-02-24T22:50:15.094Z"
   },
   {
    "duration": 60854,
    "start_time": "2023-02-24T22:50:23.207Z"
   },
   {
    "duration": 3,
    "start_time": "2023-02-24T22:52:22.678Z"
   },
   {
    "duration": 4,
    "start_time": "2023-02-24T22:52:32.213Z"
   },
   {
    "duration": 396,
    "start_time": "2023-02-24T22:54:53.855Z"
   },
   {
    "duration": 60519,
    "start_time": "2023-02-24T22:55:21.150Z"
   },
   {
    "duration": 3,
    "start_time": "2023-02-24T22:57:00.077Z"
   },
   {
    "duration": 10,
    "start_time": "2023-02-24T22:57:05.701Z"
   },
   {
    "duration": 13,
    "start_time": "2023-02-24T22:57:23.862Z"
   },
   {
    "duration": 10,
    "start_time": "2023-02-24T22:59:30.092Z"
   },
   {
    "duration": 3177,
    "start_time": "2023-02-24T22:59:37.476Z"
   },
   {
    "duration": 3,
    "start_time": "2023-02-24T22:59:42.556Z"
   },
   {
    "duration": 35,
    "start_time": "2023-02-24T23:08:11.834Z"
   },
   {
    "duration": 17,
    "start_time": "2023-02-24T23:10:31.421Z"
   },
   {
    "duration": 46,
    "start_time": "2023-02-24T23:10:44.458Z"
   },
   {
    "duration": 3206,
    "start_time": "2023-02-24T23:11:12.554Z"
   },
   {
    "duration": 3,
    "start_time": "2023-02-24T23:11:22.674Z"
   },
   {
    "duration": 6,
    "start_time": "2023-02-24T23:11:54.577Z"
   },
   {
    "duration": 3349,
    "start_time": "2023-02-24T23:11:58.906Z"
   },
   {
    "duration": 4,
    "start_time": "2023-02-24T23:12:12.393Z"
   },
   {
    "duration": 1392,
    "start_time": "2023-02-24T23:14:31.832Z"
   },
   {
    "duration": 718,
    "start_time": "2023-02-24T23:14:33.936Z"
   },
   {
    "duration": 26,
    "start_time": "2023-02-24T23:14:34.655Z"
   },
   {
    "duration": 20,
    "start_time": "2023-02-24T23:14:34.889Z"
   },
   {
    "duration": 23,
    "start_time": "2023-02-24T23:14:35.272Z"
   },
   {
    "duration": 13,
    "start_time": "2023-02-24T23:14:35.504Z"
   },
   {
    "duration": 24,
    "start_time": "2023-02-24T23:14:35.736Z"
   },
   {
    "duration": 19,
    "start_time": "2023-02-24T23:14:35.904Z"
   },
   {
    "duration": 9,
    "start_time": "2023-02-24T23:14:36.249Z"
   },
   {
    "duration": 6,
    "start_time": "2023-02-24T23:14:36.424Z"
   },
   {
    "duration": 9,
    "start_time": "2023-02-24T23:14:36.600Z"
   },
   {
    "duration": 96,
    "start_time": "2023-02-24T23:14:36.952Z"
   },
   {
    "duration": 5,
    "start_time": "2023-02-24T23:14:37.648Z"
   },
   {
    "duration": 6,
    "start_time": "2023-02-24T23:14:37.832Z"
   },
   {
    "duration": 5,
    "start_time": "2023-02-24T23:14:38.184Z"
   },
   {
    "duration": 6,
    "start_time": "2023-02-24T23:14:38.920Z"
   },
   {
    "duration": 15,
    "start_time": "2023-02-24T23:14:39.833Z"
   },
   {
    "duration": 6,
    "start_time": "2023-02-24T23:14:40.095Z"
   },
   {
    "duration": 14,
    "start_time": "2023-02-24T23:14:40.736Z"
   },
   {
    "duration": 8,
    "start_time": "2023-02-24T23:14:41.056Z"
   },
   {
    "duration": 26,
    "start_time": "2023-02-24T23:14:41.617Z"
   },
   {
    "duration": 5,
    "start_time": "2023-02-24T23:14:43.064Z"
   },
   {
    "duration": 1156,
    "start_time": "2023-02-24T23:14:43.408Z"
   },
   {
    "duration": 1310,
    "start_time": "2023-02-24T23:14:44.566Z"
   },
   {
    "duration": 1300,
    "start_time": "2023-02-24T23:14:45.878Z"
   },
   {
    "duration": 472,
    "start_time": "2023-02-24T23:14:50.112Z"
   },
   {
    "duration": 11,
    "start_time": "2023-02-24T23:14:55.033Z"
   },
   {
    "duration": 960,
    "start_time": "2023-02-24T23:14:56.497Z"
   },
   {
    "duration": 39,
    "start_time": "2023-02-24T23:15:03.777Z"
   },
   {
    "duration": 38,
    "start_time": "2023-02-24T23:15:07.417Z"
   },
   {
    "duration": 34,
    "start_time": "2023-02-24T23:15:31.992Z"
   },
   {
    "duration": 39,
    "start_time": "2023-02-24T23:15:43.625Z"
   },
   {
    "duration": 27,
    "start_time": "2023-02-24T23:15:43.888Z"
   },
   {
    "duration": 4,
    "start_time": "2023-02-24T23:16:17.216Z"
   },
   {
    "duration": 3,
    "start_time": "2023-02-24T23:16:17.592Z"
   },
   {
    "duration": 4,
    "start_time": "2023-02-24T23:16:17.904Z"
   },
   {
    "duration": 11,
    "start_time": "2023-02-24T23:16:19.881Z"
   },
   {
    "duration": 59926,
    "start_time": "2023-02-24T23:16:22.400Z"
   },
   {
    "duration": 4,
    "start_time": "2023-02-24T23:17:27.656Z"
   },
   {
    "duration": 3336,
    "start_time": "2023-02-24T23:17:28.719Z"
   },
   {
    "duration": 4,
    "start_time": "2023-02-24T23:17:33.374Z"
   },
   {
    "duration": 4,
    "start_time": "2023-02-24T23:19:23.470Z"
   },
   {
    "duration": 94842,
    "start_time": "2023-02-24T23:26:36.991Z"
   },
   {
    "duration": 4,
    "start_time": "2023-02-24T23:28:33.717Z"
   },
   {
    "duration": 13675,
    "start_time": "2023-02-24T23:29:49.719Z"
   },
   {
    "duration": 4,
    "start_time": "2023-02-24T23:30:05.950Z"
   },
   {
    "duration": 10563,
    "start_time": "2023-02-24T23:31:30.541Z"
   },
   {
    "duration": 4,
    "start_time": "2023-02-24T23:32:11.460Z"
   },
   {
    "duration": 30860,
    "start_time": "2023-02-24T23:33:23.726Z"
   },
   {
    "duration": 4,
    "start_time": "2023-02-24T23:34:03.365Z"
   },
   {
    "duration": 1413,
    "start_time": "2023-02-24T23:58:09.282Z"
   },
   {
    "duration": 706,
    "start_time": "2023-02-24T23:58:11.942Z"
   },
   {
    "duration": 24,
    "start_time": "2023-02-24T23:58:12.650Z"
   },
   {
    "duration": 17,
    "start_time": "2023-02-24T23:58:12.676Z"
   },
   {
    "duration": 20,
    "start_time": "2023-02-24T23:58:13.319Z"
   },
   {
    "duration": 14,
    "start_time": "2023-02-24T23:58:13.758Z"
   },
   {
    "duration": 20,
    "start_time": "2023-02-24T23:58:14.126Z"
   },
   {
    "duration": 19,
    "start_time": "2023-02-24T23:58:14.422Z"
   },
   {
    "duration": 8,
    "start_time": "2023-02-24T23:58:14.838Z"
   },
   {
    "duration": 6,
    "start_time": "2023-02-24T23:58:15.006Z"
   },
   {
    "duration": 10,
    "start_time": "2023-02-24T23:58:15.189Z"
   },
   {
    "duration": 107,
    "start_time": "2023-02-24T23:58:15.510Z"
   },
   {
    "duration": 2,
    "start_time": "2023-02-24T23:58:16.494Z"
   },
   {
    "duration": 6,
    "start_time": "2023-02-24T23:58:16.662Z"
   },
   {
    "duration": 5,
    "start_time": "2023-02-24T23:58:17.022Z"
   },
   {
    "duration": 7,
    "start_time": "2023-02-24T23:58:17.734Z"
   },
   {
    "duration": 12,
    "start_time": "2023-02-24T23:58:18.461Z"
   },
   {
    "duration": 5,
    "start_time": "2023-02-24T23:58:18.662Z"
   },
   {
    "duration": 16,
    "start_time": "2023-02-24T23:58:19.328Z"
   },
   {
    "duration": 8,
    "start_time": "2023-02-24T23:58:19.573Z"
   },
   {
    "duration": 22,
    "start_time": "2023-02-24T23:58:20.198Z"
   },
   {
    "duration": 5,
    "start_time": "2023-02-24T23:58:21.791Z"
   },
   {
    "duration": 1125,
    "start_time": "2023-02-24T23:58:22.630Z"
   },
   {
    "duration": 1215,
    "start_time": "2023-02-24T23:58:24.662Z"
   },
   {
    "duration": 1210,
    "start_time": "2023-02-24T23:58:26.853Z"
   },
   {
    "duration": 457,
    "start_time": "2023-02-24T23:58:29.430Z"
   },
   {
    "duration": 7,
    "start_time": "2023-02-24T23:58:31.318Z"
   },
   {
    "duration": 870,
    "start_time": "2023-02-24T23:58:31.998Z"
   },
   {
    "duration": 21,
    "start_time": "2023-02-24T23:58:33.926Z"
   },
   {
    "duration": 3,
    "start_time": "2023-02-24T23:58:36.422Z"
   },
   {
    "duration": 2,
    "start_time": "2023-02-24T23:58:36.951Z"
   },
   {
    "duration": 3,
    "start_time": "2023-02-24T23:58:37.501Z"
   },
   {
    "duration": 7,
    "start_time": "2023-02-24T23:58:39.702Z"
   },
   {
    "duration": 28958,
    "start_time": "2023-02-25T00:02:56.836Z"
   },
   {
    "duration": 4,
    "start_time": "2023-02-25T00:03:43.428Z"
   },
   {
    "duration": 2995,
    "start_time": "2023-02-25T00:03:44.659Z"
   },
   {
    "duration": 4,
    "start_time": "2023-02-25T00:03:49.259Z"
   },
   {
    "duration": 30933,
    "start_time": "2023-02-25T00:03:55.579Z"
   },
   {
    "duration": 3,
    "start_time": "2023-02-25T00:04:50.491Z"
   },
   {
    "duration": 5,
    "start_time": "2023-02-25T00:09:21.329Z"
   },
   {
    "duration": 5,
    "start_time": "2023-02-25T00:17:12.782Z"
   },
   {
    "duration": 4,
    "start_time": "2023-02-25T00:17:31.799Z"
   },
   {
    "duration": 7804,
    "start_time": "2023-02-25T00:21:43.349Z"
   },
   {
    "duration": 3,
    "start_time": "2023-02-25T00:22:03.878Z"
   },
   {
    "duration": 4,
    "start_time": "2023-02-25T00:22:24.301Z"
   },
   {
    "duration": 3,
    "start_time": "2023-02-25T00:22:29.517Z"
   },
   {
    "duration": 3,
    "start_time": "2023-02-25T00:24:32.211Z"
   },
   {
    "duration": 1385,
    "start_time": "2023-02-25T00:25:47.212Z"
   },
   {
    "duration": 727,
    "start_time": "2023-02-25T00:25:49.524Z"
   },
   {
    "duration": 26,
    "start_time": "2023-02-25T00:25:50.325Z"
   },
   {
    "duration": 17,
    "start_time": "2023-02-25T00:25:50.836Z"
   },
   {
    "duration": 21,
    "start_time": "2023-02-25T00:25:51.364Z"
   },
   {
    "duration": 12,
    "start_time": "2023-02-25T00:25:51.796Z"
   },
   {
    "duration": 21,
    "start_time": "2023-02-25T00:25:52.548Z"
   },
   {
    "duration": 17,
    "start_time": "2023-02-25T00:25:52.955Z"
   },
   {
    "duration": 8,
    "start_time": "2023-02-25T00:25:53.764Z"
   },
   {
    "duration": 7,
    "start_time": "2023-02-25T00:25:54.139Z"
   },
   {
    "duration": 9,
    "start_time": "2023-02-25T00:25:54.411Z"
   },
   {
    "duration": 94,
    "start_time": "2023-02-25T00:25:55.036Z"
   },
   {
    "duration": 3,
    "start_time": "2023-02-25T00:25:56.188Z"
   },
   {
    "duration": 6,
    "start_time": "2023-02-25T00:25:56.539Z"
   },
   {
    "duration": 5,
    "start_time": "2023-02-25T00:25:57.131Z"
   },
   {
    "duration": 6,
    "start_time": "2023-02-25T00:25:58.354Z"
   },
   {
    "duration": 15,
    "start_time": "2023-02-25T00:25:59.756Z"
   },
   {
    "duration": 5,
    "start_time": "2023-02-25T00:26:00.123Z"
   },
   {
    "duration": 15,
    "start_time": "2023-02-25T00:26:00.748Z"
   },
   {
    "duration": 7,
    "start_time": "2023-02-25T00:26:01.071Z"
   },
   {
    "duration": 21,
    "start_time": "2023-02-25T00:26:01.683Z"
   },
   {
    "duration": 5,
    "start_time": "2023-02-25T00:26:03.387Z"
   },
   {
    "duration": 1176,
    "start_time": "2023-02-25T00:26:04.291Z"
   },
   {
    "duration": 1247,
    "start_time": "2023-02-25T00:26:06.436Z"
   },
   {
    "duration": 1227,
    "start_time": "2023-02-25T00:26:08.572Z"
   },
   {
    "duration": 433,
    "start_time": "2023-02-25T00:26:11.228Z"
   },
   {
    "duration": 7,
    "start_time": "2023-02-25T00:26:13.131Z"
   },
   {
    "duration": 893,
    "start_time": "2023-02-25T00:26:15.091Z"
   },
   {
    "duration": 23,
    "start_time": "2023-02-25T00:26:16.750Z"
   },
   {
    "duration": 3,
    "start_time": "2023-02-25T00:26:18.827Z"
   },
   {
    "duration": 3,
    "start_time": "2023-02-25T00:26:19.147Z"
   },
   {
    "duration": 3,
    "start_time": "2023-02-25T00:26:19.498Z"
   },
   {
    "duration": 7,
    "start_time": "2023-02-25T00:26:20.436Z"
   },
   {
    "duration": 28299,
    "start_time": "2023-02-25T00:26:21.068Z"
   },
   {
    "duration": 4,
    "start_time": "2023-02-25T00:26:49.369Z"
   },
   {
    "duration": 2779,
    "start_time": "2023-02-25T00:27:00.076Z"
   },
   {
    "duration": 5,
    "start_time": "2023-02-25T00:27:08.242Z"
   },
   {
    "duration": 30409,
    "start_time": "2023-02-25T00:27:10.483Z"
   },
   {
    "duration": 3,
    "start_time": "2023-02-25T00:28:08.067Z"
   },
   {
    "duration": 4,
    "start_time": "2023-02-25T00:28:10.507Z"
   },
   {
    "duration": 7645,
    "start_time": "2023-02-25T00:28:11.539Z"
   },
   {
    "duration": 4,
    "start_time": "2023-02-25T00:28:21.043Z"
   },
   {
    "duration": 3,
    "start_time": "2023-02-25T00:29:50.516Z"
   },
   {
    "duration": 123,
    "start_time": "2023-02-25T00:31:45.371Z"
   },
   {
    "duration": 14,
    "start_time": "2023-02-25T00:32:06.188Z"
   },
   {
    "duration": 13,
    "start_time": "2023-02-25T00:32:39.611Z"
   },
   {
    "duration": 9,
    "start_time": "2023-02-25T00:33:28.652Z"
   },
   {
    "duration": 434,
    "start_time": "2023-02-25T00:34:56.596Z"
   },
   {
    "duration": 4,
    "start_time": "2023-02-25T00:34:58.698Z"
   },
   {
    "duration": 10,
    "start_time": "2023-02-25T00:35:00.530Z"
   },
   {
    "duration": 1418,
    "start_time": "2023-02-25T00:35:19.299Z"
   },
   {
    "duration": 702,
    "start_time": "2023-02-25T00:35:23.578Z"
   },
   {
    "duration": 24,
    "start_time": "2023-02-25T00:35:24.282Z"
   },
   {
    "duration": 18,
    "start_time": "2023-02-25T00:35:24.402Z"
   },
   {
    "duration": 21,
    "start_time": "2023-02-25T00:35:25.075Z"
   },
   {
    "duration": 14,
    "start_time": "2023-02-25T00:35:25.546Z"
   },
   {
    "duration": 22,
    "start_time": "2023-02-25T00:35:26.075Z"
   },
   {
    "duration": 19,
    "start_time": "2023-02-25T00:35:26.578Z"
   },
   {
    "duration": 3,
    "start_time": "2023-02-25T00:37:43.323Z"
   },
   {
    "duration": 686,
    "start_time": "2023-02-25T00:37:44.058Z"
   },
   {
    "duration": 25,
    "start_time": "2023-02-25T00:37:44.746Z"
   },
   {
    "duration": 18,
    "start_time": "2023-02-25T00:37:45.290Z"
   },
   {
    "duration": 20,
    "start_time": "2023-02-25T00:37:45.594Z"
   },
   {
    "duration": 13,
    "start_time": "2023-02-25T00:37:45.978Z"
   },
   {
    "duration": 22,
    "start_time": "2023-02-25T00:37:46.490Z"
   },
   {
    "duration": 17,
    "start_time": "2023-02-25T00:37:46.922Z"
   },
   {
    "duration": 8,
    "start_time": "2023-02-25T00:37:48.130Z"
   },
   {
    "duration": 1361,
    "start_time": "2023-02-25T00:37:57.019Z"
   },
   {
    "duration": 762,
    "start_time": "2023-02-25T00:37:58.382Z"
   },
   {
    "duration": 28,
    "start_time": "2023-02-25T00:37:59.146Z"
   },
   {
    "duration": 18,
    "start_time": "2023-02-25T00:37:59.738Z"
   },
   {
    "duration": 23,
    "start_time": "2023-02-25T00:38:00.034Z"
   },
   {
    "duration": 13,
    "start_time": "2023-02-25T00:38:00.283Z"
   },
   {
    "duration": 19,
    "start_time": "2023-02-25T00:38:00.582Z"
   },
   {
    "duration": 17,
    "start_time": "2023-02-25T00:38:01.686Z"
   },
   {
    "duration": 7,
    "start_time": "2023-02-25T00:38:02.402Z"
   },
   {
    "duration": 5,
    "start_time": "2023-02-25T00:38:02.642Z"
   },
   {
    "duration": 9,
    "start_time": "2023-02-25T00:38:02.906Z"
   },
   {
    "duration": 94,
    "start_time": "2023-02-25T00:38:03.242Z"
   },
   {
    "duration": 3,
    "start_time": "2023-02-25T00:38:04.578Z"
   },
   {
    "duration": 6,
    "start_time": "2023-02-25T00:38:04.809Z"
   },
   {
    "duration": 6,
    "start_time": "2023-02-25T00:38:05.283Z"
   },
   {
    "duration": 8,
    "start_time": "2023-02-25T00:38:06.586Z"
   },
   {
    "duration": 12,
    "start_time": "2023-02-25T00:38:08.034Z"
   },
   {
    "duration": 5,
    "start_time": "2023-02-25T00:38:08.506Z"
   },
   {
    "duration": 14,
    "start_time": "2023-02-25T00:38:09.210Z"
   },
   {
    "duration": 6,
    "start_time": "2023-02-25T00:38:09.626Z"
   },
   {
    "duration": 25,
    "start_time": "2023-02-25T00:38:10.218Z"
   },
   {
    "duration": 6,
    "start_time": "2023-02-25T00:38:11.930Z"
   },
   {
    "duration": 1131,
    "start_time": "2023-02-25T00:38:12.774Z"
   },
   {
    "duration": 1143,
    "start_time": "2023-02-25T00:38:13.906Z"
   },
   {
    "duration": 1164,
    "start_time": "2023-02-25T00:38:16.410Z"
   },
   {
    "duration": 437,
    "start_time": "2023-02-25T00:38:19.242Z"
   },
   {
    "duration": 7,
    "start_time": "2023-02-25T00:38:22.002Z"
   },
   {
    "duration": 930,
    "start_time": "2023-02-25T00:38:23.650Z"
   },
   {
    "duration": 27,
    "start_time": "2023-02-25T00:38:25.897Z"
   },
   {
    "duration": 3,
    "start_time": "2023-02-25T00:38:28.449Z"
   },
   {
    "duration": 2,
    "start_time": "2023-02-25T00:38:28.922Z"
   },
   {
    "duration": 2,
    "start_time": "2023-02-25T00:38:29.298Z"
   },
   {
    "duration": 8,
    "start_time": "2023-02-25T00:38:30.282Z"
   },
   {
    "duration": 27920,
    "start_time": "2023-02-25T00:38:30.986Z"
   },
   {
    "duration": 3,
    "start_time": "2023-02-25T00:38:58.908Z"
   },
   {
    "duration": 2472,
    "start_time": "2023-02-25T00:39:04.890Z"
   },
   {
    "duration": 4,
    "start_time": "2023-02-25T00:39:08.810Z"
   },
   {
    "duration": 29902,
    "start_time": "2023-02-25T00:39:11.578Z"
   },
   {
    "duration": 4,
    "start_time": "2023-02-25T00:39:44.650Z"
   },
   {
    "duration": 5,
    "start_time": "2023-02-25T00:39:46.705Z"
   },
   {
    "duration": 413,
    "start_time": "2023-02-25T00:39:48.193Z"
   },
   {
    "duration": 3,
    "start_time": "2023-02-25T00:39:49.330Z"
   },
   {
    "duration": 9,
    "start_time": "2023-02-25T00:39:50.574Z"
   },
   {
    "duration": 13320,
    "start_time": "2023-02-25T00:41:56.175Z"
   },
   {
    "duration": 4,
    "start_time": "2023-02-25T00:42:11.573Z"
   },
   {
    "duration": 4,
    "start_time": "2023-02-25T00:42:14.001Z"
   },
   {
    "duration": 458,
    "start_time": "2023-02-25T00:42:17.122Z"
   },
   {
    "duration": 4,
    "start_time": "2023-02-25T00:42:18.529Z"
   },
   {
    "duration": 11,
    "start_time": "2023-02-25T00:42:19.409Z"
   },
   {
    "duration": 3337,
    "start_time": "2023-02-25T00:44:20.819Z"
   },
   {
    "duration": 3,
    "start_time": "2023-02-25T00:44:25.775Z"
   },
   {
    "duration": 10,
    "start_time": "2023-02-25T00:44:27.202Z"
   },
   {
    "duration": 6,
    "start_time": "2023-02-25T00:49:47.585Z"
   },
   {
    "duration": 5,
    "start_time": "2023-02-25T00:49:54.744Z"
   },
   {
    "duration": 8,
    "start_time": "2023-02-25T00:49:58.594Z"
   },
   {
    "duration": 8,
    "start_time": "2023-02-25T00:50:34.848Z"
   },
   {
    "duration": 1205,
    "start_time": "2023-02-25T00:51:41.417Z"
   },
   {
    "duration": 1137,
    "start_time": "2023-02-25T00:51:47.778Z"
   },
   {
    "duration": 8,
    "start_time": "2023-02-25T00:51:59.040Z"
   },
   {
    "duration": 415,
    "start_time": "2023-02-25T00:52:07.904Z"
   },
   {
    "duration": 907,
    "start_time": "2023-02-25T00:52:14.873Z"
   },
   {
    "duration": 1420,
    "start_time": "2023-02-25T00:56:59.615Z"
   },
   {
    "duration": 696,
    "start_time": "2023-02-25T00:57:02.281Z"
   },
   {
    "duration": 23,
    "start_time": "2023-02-25T00:57:03.496Z"
   },
   {
    "duration": 19,
    "start_time": "2023-02-25T00:57:04.553Z"
   },
   {
    "duration": 21,
    "start_time": "2023-02-25T00:57:05.110Z"
   },
   {
    "duration": 16,
    "start_time": "2023-02-25T00:57:05.493Z"
   },
   {
    "duration": 21,
    "start_time": "2023-02-25T00:57:05.822Z"
   },
   {
    "duration": 18,
    "start_time": "2023-02-25T00:57:06.185Z"
   },
   {
    "duration": 8,
    "start_time": "2023-02-25T00:57:06.901Z"
   },
   {
    "duration": 7,
    "start_time": "2023-02-25T00:57:07.276Z"
   },
   {
    "duration": 9,
    "start_time": "2023-02-25T00:57:07.593Z"
   },
   {
    "duration": 95,
    "start_time": "2023-02-25T00:57:08.309Z"
   },
   {
    "duration": 3,
    "start_time": "2023-02-25T00:57:09.694Z"
   },
   {
    "duration": 6,
    "start_time": "2023-02-25T00:57:10.149Z"
   },
   {
    "duration": 5,
    "start_time": "2023-02-25T00:57:10.760Z"
   },
   {
    "duration": 6,
    "start_time": "2023-02-25T00:57:12.649Z"
   },
   {
    "duration": 13,
    "start_time": "2023-02-25T00:57:14.393Z"
   },
   {
    "duration": 5,
    "start_time": "2023-02-25T00:57:15.346Z"
   },
   {
    "duration": 15,
    "start_time": "2023-02-25T00:57:16.373Z"
   },
   {
    "duration": 7,
    "start_time": "2023-02-25T00:57:17.557Z"
   },
   {
    "duration": 21,
    "start_time": "2023-02-25T00:57:18.613Z"
   },
   {
    "duration": 6,
    "start_time": "2023-02-25T00:57:29.505Z"
   },
   {
    "duration": 1185,
    "start_time": "2023-02-25T00:57:30.505Z"
   },
   {
    "duration": 1165,
    "start_time": "2023-02-25T00:57:34.349Z"
   },
   {
    "duration": 1189,
    "start_time": "2023-02-25T00:57:38.478Z"
   },
   {
    "duration": 445,
    "start_time": "2023-02-25T00:57:42.707Z"
   },
   {
    "duration": 8,
    "start_time": "2023-02-25T00:57:44.683Z"
   },
   {
    "duration": 880,
    "start_time": "2023-02-25T00:57:48.910Z"
   },
   {
    "duration": 24,
    "start_time": "2023-02-25T00:58:05.069Z"
   },
   {
    "duration": 4,
    "start_time": "2023-02-25T00:58:07.361Z"
   },
   {
    "duration": 2,
    "start_time": "2023-02-25T00:58:08.117Z"
   },
   {
    "duration": 3,
    "start_time": "2023-02-25T00:58:08.641Z"
   },
   {
    "duration": 7,
    "start_time": "2023-02-25T00:58:09.717Z"
   },
   {
    "duration": 28165,
    "start_time": "2023-02-25T00:58:10.981Z"
   },
   {
    "duration": 3,
    "start_time": "2023-02-25T00:58:43.015Z"
   },
   {
    "duration": 2739,
    "start_time": "2023-02-25T00:58:44.718Z"
   },
   {
    "duration": 3,
    "start_time": "2023-02-25T00:58:49.781Z"
   },
   {
    "duration": 30326,
    "start_time": "2023-02-25T00:59:10.954Z"
   },
   {
    "duration": 4,
    "start_time": "2023-02-25T01:00:20.085Z"
   },
   {
    "duration": 5,
    "start_time": "2023-02-25T01:00:24.005Z"
   },
   {
    "duration": 8137,
    "start_time": "2023-02-25T01:00:25.101Z"
   },
   {
    "duration": 4,
    "start_time": "2023-02-25T01:00:43.609Z"
   },
   {
    "duration": 9,
    "start_time": "2023-02-25T01:00:45.109Z"
   },
   {
    "duration": 1375,
    "start_time": "2023-02-25T01:06:43.844Z"
   },
   {
    "duration": 723,
    "start_time": "2023-02-25T01:06:46.116Z"
   },
   {
    "duration": 23,
    "start_time": "2023-02-25T01:06:46.940Z"
   },
   {
    "duration": 19,
    "start_time": "2023-02-25T01:06:47.587Z"
   },
   {
    "duration": 22,
    "start_time": "2023-02-25T01:06:48.387Z"
   },
   {
    "duration": 13,
    "start_time": "2023-02-25T01:06:48.763Z"
   },
   {
    "duration": 21,
    "start_time": "2023-02-25T01:06:49.108Z"
   },
   {
    "duration": 25,
    "start_time": "2023-02-25T01:06:49.699Z"
   },
   {
    "duration": 7,
    "start_time": "2023-02-25T01:06:50.403Z"
   },
   {
    "duration": 5,
    "start_time": "2023-02-25T01:06:50.763Z"
   },
   {
    "duration": 10,
    "start_time": "2023-02-25T01:06:51.083Z"
   },
   {
    "duration": 97,
    "start_time": "2023-02-25T01:06:51.714Z"
   },
   {
    "duration": 2,
    "start_time": "2023-02-25T01:06:52.955Z"
   },
   {
    "duration": 5,
    "start_time": "2023-02-25T01:06:53.307Z"
   },
   {
    "duration": 5,
    "start_time": "2023-02-25T01:06:53.899Z"
   },
   {
    "duration": 9,
    "start_time": "2023-02-25T01:06:55.122Z"
   },
   {
    "duration": 13,
    "start_time": "2023-02-25T01:06:56.283Z"
   },
   {
    "duration": 6,
    "start_time": "2023-02-25T01:06:56.554Z"
   },
   {
    "duration": 14,
    "start_time": "2023-02-25T01:06:57.123Z"
   },
   {
    "duration": 7,
    "start_time": "2023-02-25T01:06:57.651Z"
   },
   {
    "duration": 22,
    "start_time": "2023-02-25T01:06:58.203Z"
   },
   {
    "duration": 5,
    "start_time": "2023-02-25T01:06:59.915Z"
   },
   {
    "duration": 1210,
    "start_time": "2023-02-25T01:07:00.764Z"
   },
   {
    "duration": 1228,
    "start_time": "2023-02-25T01:07:02.812Z"
   },
   {
    "duration": 1095,
    "start_time": "2023-02-25T01:07:04.828Z"
   },
   {
    "duration": 440,
    "start_time": "2023-02-25T01:07:07.723Z"
   },
   {
    "duration": 8,
    "start_time": "2023-02-25T01:07:09.674Z"
   },
   {
    "duration": 932,
    "start_time": "2023-02-25T01:07:11.923Z"
   },
   {
    "duration": 24,
    "start_time": "2023-02-25T01:07:13.866Z"
   },
   {
    "duration": 3,
    "start_time": "2023-02-25T01:07:16.099Z"
   },
   {
    "duration": 2,
    "start_time": "2023-02-25T01:07:16.724Z"
   },
   {
    "duration": 2,
    "start_time": "2023-02-25T01:07:16.963Z"
   },
   {
    "duration": 7,
    "start_time": "2023-02-25T01:07:17.939Z"
   },
   {
    "duration": 28415,
    "start_time": "2023-02-25T01:07:19.131Z"
   },
   {
    "duration": 4,
    "start_time": "2023-02-25T01:07:49.187Z"
   },
   {
    "duration": 30527,
    "start_time": "2023-02-25T01:08:50.835Z"
   },
   {
    "duration": 4,
    "start_time": "2023-02-25T01:09:33.485Z"
   },
   {
    "duration": 4,
    "start_time": "2023-02-25T01:09:35.602Z"
   },
   {
    "duration": 7703,
    "start_time": "2023-02-25T01:09:36.906Z"
   },
   {
    "duration": 4,
    "start_time": "2023-02-25T01:10:13.466Z"
   },
   {
    "duration": 9,
    "start_time": "2023-02-25T01:10:14.506Z"
   },
   {
    "duration": 1370,
    "start_time": "2023-02-25T01:12:33.450Z"
   },
   {
    "duration": 737,
    "start_time": "2023-02-25T01:12:35.242Z"
   },
   {
    "duration": 26,
    "start_time": "2023-02-25T01:12:35.981Z"
   },
   {
    "duration": 19,
    "start_time": "2023-02-25T01:12:36.009Z"
   },
   {
    "duration": 41,
    "start_time": "2023-02-25T01:12:36.030Z"
   },
   {
    "duration": 14,
    "start_time": "2023-02-25T01:12:36.098Z"
   },
   {
    "duration": 21,
    "start_time": "2023-02-25T01:12:36.290Z"
   },
   {
    "duration": 18,
    "start_time": "2023-02-25T01:12:36.466Z"
   },
   {
    "duration": 8,
    "start_time": "2023-02-25T01:12:36.826Z"
   },
   {
    "duration": 7,
    "start_time": "2023-02-25T01:12:37.001Z"
   },
   {
    "duration": 11,
    "start_time": "2023-02-25T01:12:37.177Z"
   },
   {
    "duration": 90,
    "start_time": "2023-02-25T01:12:39.138Z"
   },
   {
    "duration": 3,
    "start_time": "2023-02-25T01:12:40.441Z"
   },
   {
    "duration": 7,
    "start_time": "2023-02-25T01:12:41.977Z"
   },
   {
    "duration": 5,
    "start_time": "2023-02-25T01:12:42.626Z"
   },
   {
    "duration": 7,
    "start_time": "2023-02-25T01:12:44.729Z"
   },
   {
    "duration": 13,
    "start_time": "2023-02-25T01:12:52.386Z"
   },
   {
    "duration": 5,
    "start_time": "2023-02-25T01:12:52.913Z"
   },
   {
    "duration": 13,
    "start_time": "2023-02-25T01:12:53.746Z"
   },
   {
    "duration": 7,
    "start_time": "2023-02-25T01:12:54.153Z"
   },
   {
    "duration": 28,
    "start_time": "2023-02-25T01:13:56.577Z"
   },
   {
    "duration": 25,
    "start_time": "2023-02-25T01:14:01.913Z"
   },
   {
    "duration": 12,
    "start_time": "2023-02-25T01:14:16.450Z"
   },
   {
    "duration": 1277,
    "start_time": "2023-02-25T01:14:41.410Z"
   },
   {
    "duration": 697,
    "start_time": "2023-02-25T01:14:43.425Z"
   },
   {
    "duration": 33,
    "start_time": "2023-02-25T01:14:44.124Z"
   },
   {
    "duration": 17,
    "start_time": "2023-02-25T01:14:44.714Z"
   },
   {
    "duration": 21,
    "start_time": "2023-02-25T01:14:45.145Z"
   },
   {
    "duration": 13,
    "start_time": "2023-02-25T01:14:45.513Z"
   },
   {
    "duration": 21,
    "start_time": "2023-02-25T01:14:45.930Z"
   },
   {
    "duration": 18,
    "start_time": "2023-02-25T01:14:46.337Z"
   },
   {
    "duration": 8,
    "start_time": "2023-02-25T01:14:47.001Z"
   },
   {
    "duration": 7,
    "start_time": "2023-02-25T01:14:47.305Z"
   },
   {
    "duration": 9,
    "start_time": "2023-02-25T01:14:47.569Z"
   },
   {
    "duration": 100,
    "start_time": "2023-02-25T01:14:48.033Z"
   },
   {
    "duration": 3,
    "start_time": "2023-02-25T01:14:48.929Z"
   },
   {
    "duration": 5,
    "start_time": "2023-02-25T01:14:49.137Z"
   },
   {
    "duration": 6,
    "start_time": "2023-02-25T01:14:49.536Z"
   },
   {
    "duration": 6,
    "start_time": "2023-02-25T01:14:50.361Z"
   },
   {
    "duration": 12,
    "start_time": "2023-02-25T01:14:51.577Z"
   },
   {
    "duration": 6,
    "start_time": "2023-02-25T01:14:51.816Z"
   },
   {
    "duration": 13,
    "start_time": "2023-02-25T01:14:52.289Z"
   },
   {
    "duration": 7,
    "start_time": "2023-02-25T01:14:52.505Z"
   },
   {
    "duration": 12,
    "start_time": "2023-02-25T01:14:52.920Z"
   },
   {
    "duration": 6,
    "start_time": "2023-02-25T01:14:54.201Z"
   },
   {
    "duration": 1145,
    "start_time": "2023-02-25T01:14:54.633Z"
   },
   {
    "duration": 1301,
    "start_time": "2023-02-25T01:14:55.780Z"
   },
   {
    "duration": 1204,
    "start_time": "2023-02-25T01:14:57.082Z"
   },
   {
    "duration": 381,
    "start_time": "2023-02-25T01:15:00.193Z"
   },
   {
    "duration": 7,
    "start_time": "2023-02-25T01:15:02.177Z"
   },
   {
    "duration": 942,
    "start_time": "2023-02-25T01:15:04.537Z"
   },
   {
    "duration": 26,
    "start_time": "2023-02-25T01:15:06.593Z"
   },
   {
    "duration": 3,
    "start_time": "2023-02-25T01:15:08.881Z"
   },
   {
    "duration": 3,
    "start_time": "2023-02-25T01:15:09.496Z"
   },
   {
    "duration": 2,
    "start_time": "2023-02-25T01:15:09.905Z"
   },
   {
    "duration": 7,
    "start_time": "2023-02-25T01:15:11.081Z"
   },
   {
    "duration": 27784,
    "start_time": "2023-02-25T01:15:11.776Z"
   },
   {
    "duration": 4,
    "start_time": "2023-02-25T01:15:39.562Z"
   },
   {
    "duration": 2930,
    "start_time": "2023-02-25T01:15:49.729Z"
   },
   {
    "duration": 3,
    "start_time": "2023-02-25T01:15:56.769Z"
   },
   {
    "duration": 29461,
    "start_time": "2023-02-25T01:16:00.729Z"
   },
   {
    "duration": 3,
    "start_time": "2023-02-25T01:16:34.936Z"
   },
   {
    "duration": 5,
    "start_time": "2023-02-25T01:16:39.944Z"
   },
   {
    "duration": 7507,
    "start_time": "2023-02-25T01:16:41.329Z"
   },
   {
    "duration": 4,
    "start_time": "2023-02-25T01:16:53.176Z"
   },
   {
    "duration": 11,
    "start_time": "2023-02-25T01:16:55.209Z"
   },
   {
    "duration": 1355,
    "start_time": "2023-02-25T01:39:24.039Z"
   },
   {
    "duration": 712,
    "start_time": "2023-02-25T01:39:26.226Z"
   },
   {
    "duration": 22,
    "start_time": "2023-02-25T01:39:28.163Z"
   },
   {
    "duration": 19,
    "start_time": "2023-02-25T01:39:28.466Z"
   },
   {
    "duration": 19,
    "start_time": "2023-02-25T01:39:29.002Z"
   },
   {
    "duration": 13,
    "start_time": "2023-02-25T01:39:29.410Z"
   },
   {
    "duration": 23,
    "start_time": "2023-02-25T01:39:30.019Z"
   },
   {
    "duration": 17,
    "start_time": "2023-02-25T01:39:30.427Z"
   },
   {
    "duration": 8,
    "start_time": "2023-02-25T01:39:31.003Z"
   },
   {
    "duration": 6,
    "start_time": "2023-02-25T01:39:31.322Z"
   },
   {
    "duration": 9,
    "start_time": "2023-02-25T01:39:31.586Z"
   },
   {
    "duration": 98,
    "start_time": "2023-02-25T01:39:32.082Z"
   },
   {
    "duration": 3,
    "start_time": "2023-02-25T01:39:33.018Z"
   },
   {
    "duration": 6,
    "start_time": "2023-02-25T01:39:33.234Z"
   },
   {
    "duration": 4,
    "start_time": "2023-02-25T01:39:33.666Z"
   },
   {
    "duration": 6,
    "start_time": "2023-02-25T01:39:35.050Z"
   },
   {
    "duration": 14,
    "start_time": "2023-02-25T01:39:36.618Z"
   },
   {
    "duration": 6,
    "start_time": "2023-02-25T01:39:37.034Z"
   },
   {
    "duration": 15,
    "start_time": "2023-02-25T01:39:37.810Z"
   },
   {
    "duration": 7,
    "start_time": "2023-02-25T01:39:38.218Z"
   },
   {
    "duration": 12,
    "start_time": "2023-02-25T01:39:38.946Z"
   },
   {
    "duration": 6,
    "start_time": "2023-02-25T01:39:41.010Z"
   },
   {
    "duration": 1112,
    "start_time": "2023-02-25T01:39:41.931Z"
   },
   {
    "duration": 1177,
    "start_time": "2023-02-25T01:39:43.970Z"
   },
   {
    "duration": 1201,
    "start_time": "2023-02-25T01:39:46.050Z"
   },
   {
    "duration": 405,
    "start_time": "2023-02-25T01:39:49.954Z"
   },
   {
    "duration": 1454,
    "start_time": "2023-02-25T01:43:21.937Z"
   },
   {
    "duration": 673,
    "start_time": "2023-02-25T01:43:24.418Z"
   },
   {
    "duration": 23,
    "start_time": "2023-02-25T01:43:25.131Z"
   },
   {
    "duration": 18,
    "start_time": "2023-02-25T01:43:28.290Z"
   },
   {
    "duration": 21,
    "start_time": "2023-02-25T01:43:28.561Z"
   },
   {
    "duration": 13,
    "start_time": "2023-02-25T01:43:28.761Z"
   },
   {
    "duration": 20,
    "start_time": "2023-02-25T01:43:28.922Z"
   },
   {
    "duration": 17,
    "start_time": "2023-02-25T01:43:29.097Z"
   },
   {
    "duration": 8,
    "start_time": "2023-02-25T01:43:29.417Z"
   },
   {
    "duration": 6,
    "start_time": "2023-02-25T01:43:29.577Z"
   },
   {
    "duration": 9,
    "start_time": "2023-02-25T01:43:29.737Z"
   },
   {
    "duration": 89,
    "start_time": "2023-02-25T01:43:30.202Z"
   },
   {
    "duration": 2,
    "start_time": "2023-02-25T01:43:31.505Z"
   },
   {
    "duration": 5,
    "start_time": "2023-02-25T01:43:32.233Z"
   },
   {
    "duration": 6,
    "start_time": "2023-02-25T01:43:33.808Z"
   },
   {
    "duration": 1419,
    "start_time": "2023-02-25T01:46:55.914Z"
   },
   {
    "duration": 708,
    "start_time": "2023-02-25T01:46:58.784Z"
   },
   {
    "duration": 26,
    "start_time": "2023-02-25T01:47:00.065Z"
   },
   {
    "duration": 19,
    "start_time": "2023-02-25T01:47:01.312Z"
   },
   {
    "duration": 21,
    "start_time": "2023-02-25T01:47:02.112Z"
   },
   {
    "duration": 13,
    "start_time": "2023-02-25T01:47:02.416Z"
   },
   {
    "duration": 21,
    "start_time": "2023-02-25T01:47:02.704Z"
   },
   {
    "duration": 18,
    "start_time": "2023-02-25T01:47:03.064Z"
   },
   {
    "duration": 8,
    "start_time": "2023-02-25T01:47:03.663Z"
   },
   {
    "duration": 5,
    "start_time": "2023-02-25T01:47:03.984Z"
   },
   {
    "duration": 10,
    "start_time": "2023-02-25T01:47:04.224Z"
   },
   {
    "duration": 95,
    "start_time": "2023-02-25T01:47:04.632Z"
   },
   {
    "duration": 2,
    "start_time": "2023-02-25T01:47:05.473Z"
   },
   {
    "duration": 6,
    "start_time": "2023-02-25T01:47:05.896Z"
   },
   {
    "duration": 6,
    "start_time": "2023-02-25T01:47:06.376Z"
   },
   {
    "duration": 9,
    "start_time": "2023-02-25T01:47:07.528Z"
   },
   {
    "duration": 13,
    "start_time": "2023-02-25T01:47:09.040Z"
   },
   {
    "duration": 109,
    "start_time": "2023-02-25T01:47:10.104Z"
   },
   {
    "duration": 13,
    "start_time": "2023-02-25T01:47:47.953Z"
   },
   {
    "duration": 8,
    "start_time": "2023-02-25T01:47:49.144Z"
   },
   {
    "duration": 13,
    "start_time": "2023-02-25T01:47:51.193Z"
   },
   {
    "duration": 11,
    "start_time": "2023-02-25T01:47:54.792Z"
   },
   {
    "duration": 6,
    "start_time": "2023-02-25T01:48:01.272Z"
   },
   {
    "duration": 1158,
    "start_time": "2023-02-25T01:48:02.488Z"
   },
   {
    "duration": 1205,
    "start_time": "2023-02-25T01:48:03.648Z"
   },
   {
    "duration": 1299,
    "start_time": "2023-02-25T01:48:04.855Z"
   },
   {
    "duration": 463,
    "start_time": "2023-02-25T01:48:09.208Z"
   },
   {
    "duration": 7,
    "start_time": "2023-02-25T01:48:10.929Z"
   },
   {
    "duration": 868,
    "start_time": "2023-02-25T01:48:12.712Z"
   },
   {
    "duration": 15,
    "start_time": "2023-02-25T01:48:14.578Z"
   },
   {
    "duration": 3,
    "start_time": "2023-02-25T01:48:16.576Z"
   },
   {
    "duration": 3,
    "start_time": "2023-02-25T01:48:17.592Z"
   },
   {
    "duration": 3,
    "start_time": "2023-02-25T01:48:18.127Z"
   },
   {
    "duration": 7,
    "start_time": "2023-02-25T01:48:20.256Z"
   },
   {
    "duration": 426,
    "start_time": "2023-02-25T01:48:21.616Z"
   },
   {
    "duration": 4,
    "start_time": "2023-02-25T01:48:53.680Z"
   },
   {
    "duration": 43,
    "start_time": "2023-02-25T01:49:13.416Z"
   },
   {
    "duration": 3,
    "start_time": "2023-02-25T01:49:18.512Z"
   },
   {
    "duration": 27,
    "start_time": "2023-02-25T01:50:07.912Z"
   },
   {
    "duration": 1309,
    "start_time": "2023-02-25T01:50:46.704Z"
   },
   {
    "duration": 721,
    "start_time": "2023-02-25T01:50:49.216Z"
   },
   {
    "duration": 28,
    "start_time": "2023-02-25T01:50:49.939Z"
   },
   {
    "duration": 18,
    "start_time": "2023-02-25T01:50:49.969Z"
   },
   {
    "duration": 20,
    "start_time": "2023-02-25T01:50:49.989Z"
   },
   {
    "duration": 14,
    "start_time": "2023-02-25T01:50:50.071Z"
   },
   {
    "duration": 21,
    "start_time": "2023-02-25T01:50:50.248Z"
   },
   {
    "duration": 17,
    "start_time": "2023-02-25T01:50:50.431Z"
   },
   {
    "duration": 7,
    "start_time": "2023-02-25T01:50:50.800Z"
   },
   {
    "duration": 6,
    "start_time": "2023-02-25T01:50:51.288Z"
   },
   {
    "duration": 9,
    "start_time": "2023-02-25T01:50:51.656Z"
   },
   {
    "duration": 100,
    "start_time": "2023-02-25T01:50:52.231Z"
   },
   {
    "duration": 2,
    "start_time": "2023-02-25T01:50:53.344Z"
   },
   {
    "duration": 5,
    "start_time": "2023-02-25T01:50:53.775Z"
   },
   {
    "duration": 4,
    "start_time": "2023-02-25T01:50:54.200Z"
   },
   {
    "duration": 8,
    "start_time": "2023-02-25T01:50:54.880Z"
   },
   {
    "duration": 13,
    "start_time": "2023-02-25T01:50:56.464Z"
   },
   {
    "duration": 15,
    "start_time": "2023-02-25T01:50:57.119Z"
   },
   {
    "duration": 8,
    "start_time": "2023-02-25T01:50:57.519Z"
   },
   {
    "duration": 13,
    "start_time": "2023-02-25T01:50:58.199Z"
   },
   {
    "duration": 8,
    "start_time": "2023-02-25T01:50:58.687Z"
   },
   {
    "duration": 6,
    "start_time": "2023-02-25T01:51:00.175Z"
   },
   {
    "duration": 1205,
    "start_time": "2023-02-25T01:51:00.554Z"
   },
   {
    "duration": 1259,
    "start_time": "2023-02-25T01:51:01.761Z"
   },
   {
    "duration": 1109,
    "start_time": "2023-02-25T01:51:03.022Z"
   },
   {
    "duration": 467,
    "start_time": "2023-02-25T01:51:06.912Z"
   },
   {
    "duration": 8,
    "start_time": "2023-02-25T01:51:09.264Z"
   },
   {
    "duration": 899,
    "start_time": "2023-02-25T01:51:10.184Z"
   },
   {
    "duration": 14,
    "start_time": "2023-02-25T01:51:11.744Z"
   },
   {
    "duration": 3,
    "start_time": "2023-02-25T01:51:13.919Z"
   },
   {
    "duration": 2,
    "start_time": "2023-02-25T01:51:14.327Z"
   },
   {
    "duration": 3,
    "start_time": "2023-02-25T01:51:14.695Z"
   },
   {
    "duration": 5,
    "start_time": "2023-02-25T01:51:15.976Z"
   },
   {
    "duration": 28589,
    "start_time": "2023-02-25T01:51:17.047Z"
   },
   {
    "duration": 4,
    "start_time": "2023-02-25T01:52:02.799Z"
   },
   {
    "duration": 3039,
    "start_time": "2023-02-25T01:52:05.624Z"
   },
   {
    "duration": 3,
    "start_time": "2023-02-25T01:52:14.087Z"
   },
   {
    "duration": 30081,
    "start_time": "2023-02-25T01:52:16.592Z"
   },
   {
    "duration": 4,
    "start_time": "2023-02-25T01:54:37.174Z"
   },
   {
    "duration": 4,
    "start_time": "2023-02-25T01:54:40.439Z"
   },
   {
    "duration": 7659,
    "start_time": "2023-02-25T01:54:43.006Z"
   },
   {
    "duration": 4,
    "start_time": "2023-02-25T01:54:52.742Z"
   },
   {
    "duration": 9,
    "start_time": "2023-02-25T01:54:54.239Z"
   },
   {
    "duration": 13,
    "start_time": "2023-02-25T01:57:48.519Z"
   },
   {
    "duration": 7,
    "start_time": "2023-02-25T01:57:57.599Z"
   },
   {
    "duration": 29681,
    "start_time": "2023-02-25T01:58:06.894Z"
   },
   {
    "duration": 3,
    "start_time": "2023-02-25T01:59:02.990Z"
   },
   {
    "duration": 7577,
    "start_time": "2023-02-25T01:59:08.902Z"
   },
   {
    "duration": 4,
    "start_time": "2023-02-25T01:59:17.645Z"
   },
   {
    "duration": 11,
    "start_time": "2023-02-25T02:00:31.694Z"
   },
   {
    "duration": 6,
    "start_time": "2023-02-25T02:00:40.805Z"
   },
   {
    "duration": 499363,
    "start_time": "2023-02-25T02:01:04.702Z"
   },
   {
    "duration": 3,
    "start_time": "2023-02-25T02:11:18.354Z"
   },
   {
    "duration": 64400,
    "start_time": "2023-02-25T02:11:41.338Z"
   },
   {
    "duration": 4,
    "start_time": "2023-02-25T02:13:07.137Z"
   },
   {
    "duration": 64784,
    "start_time": "2023-02-25T02:13:15.929Z"
   },
   {
    "duration": 4,
    "start_time": "2023-02-25T02:14:24.039Z"
   },
   {
    "duration": 16644,
    "start_time": "2023-02-25T02:14:28.031Z"
   },
   {
    "duration": 5,
    "start_time": "2023-02-25T02:14:47.279Z"
   },
   {
    "duration": 1282,
    "start_time": "2023-02-25T02:21:12.500Z"
   },
   {
    "duration": 722,
    "start_time": "2023-02-25T02:21:14.994Z"
   },
   {
    "duration": 26,
    "start_time": "2023-02-25T02:21:15.757Z"
   },
   {
    "duration": 21,
    "start_time": "2023-02-25T02:21:16.363Z"
   },
   {
    "duration": 21,
    "start_time": "2023-02-25T02:21:16.644Z"
   },
   {
    "duration": 14,
    "start_time": "2023-02-25T02:21:17.068Z"
   },
   {
    "duration": 22,
    "start_time": "2023-02-25T02:21:17.452Z"
   },
   {
    "duration": 18,
    "start_time": "2023-02-25T02:21:17.883Z"
   },
   {
    "duration": 9,
    "start_time": "2023-02-25T02:21:18.666Z"
   },
   {
    "duration": 7,
    "start_time": "2023-02-25T02:21:19.018Z"
   },
   {
    "duration": 10,
    "start_time": "2023-02-25T02:21:19.283Z"
   },
   {
    "duration": 94,
    "start_time": "2023-02-25T02:21:19.890Z"
   },
   {
    "duration": 3,
    "start_time": "2023-02-25T02:21:21.115Z"
   },
   {
    "duration": 6,
    "start_time": "2023-02-25T02:21:21.659Z"
   },
   {
    "duration": 5,
    "start_time": "2023-02-25T02:21:22.282Z"
   },
   {
    "duration": 6,
    "start_time": "2023-02-25T02:21:23.698Z"
   },
   {
    "duration": 13,
    "start_time": "2023-02-25T02:21:25.387Z"
   },
   {
    "duration": 22,
    "start_time": "2023-02-25T02:21:26.083Z"
   },
   {
    "duration": 9,
    "start_time": "2023-02-25T02:21:26.723Z"
   },
   {
    "duration": 124,
    "start_time": "2023-02-25T02:21:27.315Z"
   },
   {
    "duration": 14,
    "start_time": "2023-02-25T02:21:50.971Z"
   },
   {
    "duration": 1343,
    "start_time": "2023-02-25T02:23:58.873Z"
   },
   {
    "duration": 693,
    "start_time": "2023-02-25T02:24:00.220Z"
   },
   {
    "duration": 24,
    "start_time": "2023-02-25T02:24:00.915Z"
   },
   {
    "duration": 20,
    "start_time": "2023-02-25T02:24:00.952Z"
   },
   {
    "duration": 27,
    "start_time": "2023-02-25T02:24:01.473Z"
   },
   {
    "duration": 13,
    "start_time": "2023-02-25T02:24:01.793Z"
   },
   {
    "duration": 20,
    "start_time": "2023-02-25T02:24:02.330Z"
   },
   {
    "duration": 18,
    "start_time": "2023-02-25T02:24:02.778Z"
   },
   {
    "duration": 10,
    "start_time": "2023-02-25T02:24:03.457Z"
   },
   {
    "duration": 7,
    "start_time": "2023-02-25T02:24:03.952Z"
   },
   {
    "duration": 10,
    "start_time": "2023-02-25T02:24:04.202Z"
   },
   {
    "duration": 93,
    "start_time": "2023-02-25T02:24:04.641Z"
   },
   {
    "duration": 3,
    "start_time": "2023-02-25T02:24:05.545Z"
   },
   {
    "duration": 6,
    "start_time": "2023-02-25T02:24:05.745Z"
   },
   {
    "duration": 6,
    "start_time": "2023-02-25T02:24:06.233Z"
   },
   {
    "duration": 7,
    "start_time": "2023-02-25T02:24:07.073Z"
   },
   {
    "duration": 11,
    "start_time": "2023-02-25T02:24:08.410Z"
   },
   {
    "duration": 22,
    "start_time": "2023-02-25T02:24:09.065Z"
   },
   {
    "duration": 10,
    "start_time": "2023-02-25T02:24:09.774Z"
   },
   {
    "duration": 13,
    "start_time": "2023-02-25T02:24:10.438Z"
   },
   {
    "duration": 6,
    "start_time": "2023-02-25T02:24:12.264Z"
   },
   {
    "duration": 1116,
    "start_time": "2023-02-25T02:24:13.097Z"
   },
   {
    "duration": 1150,
    "start_time": "2023-02-25T02:24:14.288Z"
   },
   {
    "duration": 1225,
    "start_time": "2023-02-25T02:24:16.441Z"
   },
   {
    "duration": 110,
    "start_time": "2023-02-25T02:24:19.585Z"
   },
   {
    "duration": 439,
    "start_time": "2023-02-25T02:25:04.410Z"
   },
   {
    "duration": 8,
    "start_time": "2023-02-25T02:25:09.153Z"
   },
   {
    "duration": 900,
    "start_time": "2023-02-25T02:25:10.177Z"
   },
   {
    "duration": 34,
    "start_time": "2023-02-25T02:25:13.801Z"
   },
   {
    "duration": 3,
    "start_time": "2023-02-25T02:25:35.417Z"
   },
   {
    "duration": 2,
    "start_time": "2023-02-25T02:25:35.770Z"
   },
   {
    "duration": 3,
    "start_time": "2023-02-25T02:25:36.113Z"
   },
   {
    "duration": 4,
    "start_time": "2023-02-25T02:27:37.361Z"
   },
   {
    "duration": 3,
    "start_time": "2023-02-25T02:27:41.208Z"
   },
   {
    "duration": 7,
    "start_time": "2023-02-25T02:27:50.536Z"
   },
   {
    "duration": 6,
    "start_time": "2023-02-25T02:28:16.304Z"
   },
   {
    "duration": 28274,
    "start_time": "2023-02-25T02:28:35.977Z"
   },
   {
    "duration": 4,
    "start_time": "2023-02-25T02:29:17.679Z"
   },
   {
    "duration": 3077,
    "start_time": "2023-02-25T02:29:22.776Z"
   },
   {
    "duration": 4,
    "start_time": "2023-02-25T02:29:36.241Z"
   },
   {
    "duration": 510361,
    "start_time": "2023-02-25T02:29:38.360Z"
   },
   {
    "duration": 3,
    "start_time": "2023-02-25T02:38:28.517Z"
   },
   {
    "duration": 10,
    "start_time": "2023-02-25T02:38:36.004Z"
   },
   {
    "duration": 5,
    "start_time": "2023-02-25T02:38:48.020Z"
   },
   {
    "duration": 16860,
    "start_time": "2023-02-25T02:38:51.907Z"
   },
   {
    "duration": 4,
    "start_time": "2023-02-25T02:39:10.235Z"
   },
   {
    "duration": 11,
    "start_time": "2023-02-25T02:39:11.795Z"
   },
   {
    "duration": 3,
    "start_time": "2023-02-25T02:42:48.619Z"
   },
   {
    "duration": 1281,
    "start_time": "2023-02-25T02:43:31.778Z"
   },
   {
    "duration": 697,
    "start_time": "2023-02-25T02:43:34.034Z"
   },
   {
    "duration": 25,
    "start_time": "2023-02-25T02:43:35.171Z"
   },
   {
    "duration": 21,
    "start_time": "2023-02-25T02:43:36.945Z"
   },
   {
    "duration": 21,
    "start_time": "2023-02-25T02:43:38.027Z"
   },
   {
    "duration": 13,
    "start_time": "2023-02-25T02:43:38.425Z"
   },
   {
    "duration": 20,
    "start_time": "2023-02-25T02:43:39.298Z"
   },
   {
    "duration": 18,
    "start_time": "2023-02-25T02:43:39.778Z"
   },
   {
    "duration": 7,
    "start_time": "2023-02-25T02:43:44.778Z"
   },
   {
    "duration": 6,
    "start_time": "2023-02-25T02:43:45.042Z"
   },
   {
    "duration": 10,
    "start_time": "2023-02-25T02:43:45.419Z"
   },
   {
    "duration": 17,
    "start_time": "2023-02-25T02:46:59.763Z"
   },
   {
    "duration": 1458,
    "start_time": "2023-02-25T02:47:25.739Z"
   },
   {
    "duration": 699,
    "start_time": "2023-02-25T02:47:28.362Z"
   },
   {
    "duration": 27,
    "start_time": "2023-02-25T02:47:29.482Z"
   },
   {
    "duration": 19,
    "start_time": "2023-02-25T02:47:30.642Z"
   },
   {
    "duration": 22,
    "start_time": "2023-02-25T02:47:31.378Z"
   },
   {
    "duration": 13,
    "start_time": "2023-02-25T02:47:31.787Z"
   },
   {
    "duration": 20,
    "start_time": "2023-02-25T02:47:32.243Z"
   },
   {
    "duration": 17,
    "start_time": "2023-02-25T02:47:32.673Z"
   },
   {
    "duration": 12,
    "start_time": "2023-02-25T02:47:33.442Z"
   },
   {
    "duration": 8,
    "start_time": "2023-02-25T02:47:34.233Z"
   },
   {
    "duration": 6,
    "start_time": "2023-02-25T02:47:34.842Z"
   },
   {
    "duration": 8,
    "start_time": "2023-02-25T02:47:35.442Z"
   },
   {
    "duration": 99,
    "start_time": "2023-02-25T02:47:37.113Z"
   },
   {
    "duration": 134,
    "start_time": "2023-02-25T02:49:37.235Z"
   },
   {
    "duration": 10,
    "start_time": "2023-02-25T02:49:54.907Z"
   },
   {
    "duration": 28,
    "start_time": "2023-02-25T02:50:21.994Z"
   },
   {
    "duration": 22,
    "start_time": "2023-02-25T02:50:44.299Z"
   },
   {
    "duration": 3,
    "start_time": "2023-02-25T02:50:54.722Z"
   },
   {
    "duration": 6,
    "start_time": "2023-02-25T02:50:55.066Z"
   },
   {
    "duration": 5,
    "start_time": "2023-02-25T02:50:55.530Z"
   },
   {
    "duration": 6,
    "start_time": "2023-02-25T02:51:28.962Z"
   },
   {
    "duration": 3,
    "start_time": "2023-02-25T02:51:41.067Z"
   },
   {
    "duration": 4,
    "start_time": "2023-02-25T02:51:53.043Z"
   },
   {
    "duration": 10,
    "start_time": "2023-02-25T02:52:24.211Z"
   },
   {
    "duration": 4,
    "start_time": "2023-02-25T02:53:23.786Z"
   },
   {
    "duration": 9,
    "start_time": "2023-02-25T02:53:58.290Z"
   },
   {
    "duration": 11,
    "start_time": "2023-02-25T02:54:06.777Z"
   },
   {
    "duration": 3,
    "start_time": "2023-02-25T02:54:07.090Z"
   },
   {
    "duration": 6,
    "start_time": "2023-02-25T02:55:08.105Z"
   },
   {
    "duration": 1165,
    "start_time": "2023-02-25T02:55:08.898Z"
   },
   {
    "duration": 1155,
    "start_time": "2023-02-25T02:55:10.098Z"
   },
   {
    "duration": 1180,
    "start_time": "2023-02-25T02:55:12.169Z"
   },
   {
    "duration": 383,
    "start_time": "2023-02-25T02:55:15.289Z"
   },
   {
    "duration": 6,
    "start_time": "2023-02-25T02:55:18.642Z"
   },
   {
    "duration": 933,
    "start_time": "2023-02-25T02:55:20.449Z"
   },
   {
    "duration": 7,
    "start_time": "2023-02-25T02:57:08.274Z"
   },
   {
    "duration": 899,
    "start_time": "2023-02-25T02:57:09.273Z"
   },
   {
    "duration": 33,
    "start_time": "2023-02-25T02:57:21.641Z"
   },
   {
    "duration": 3,
    "start_time": "2023-02-25T02:58:21.321Z"
   },
   {
    "duration": 3,
    "start_time": "2023-02-25T02:58:21.696Z"
   },
   {
    "duration": 2,
    "start_time": "2023-02-25T02:58:21.977Z"
   },
   {
    "duration": 3,
    "start_time": "2023-02-25T02:58:35.889Z"
   },
   {
    "duration": 6,
    "start_time": "2023-02-25T02:58:36.304Z"
   },
   {
    "duration": 5,
    "start_time": "2023-02-25T02:58:37.425Z"
   },
   {
    "duration": 28262,
    "start_time": "2023-02-25T02:58:39.856Z"
   },
   {
    "duration": 3,
    "start_time": "2023-02-25T02:59:31.968Z"
   },
   {
    "duration": 3133,
    "start_time": "2023-02-25T02:59:35.824Z"
   },
   {
    "duration": 3,
    "start_time": "2023-02-25T02:59:41.247Z"
   },
   {
    "duration": 4,
    "start_time": "2023-02-25T03:00:24.144Z"
   },
   {
    "duration": 2781,
    "start_time": "2023-02-25T03:00:27.480Z"
   },
   {
    "duration": 3,
    "start_time": "2023-02-25T03:00:33.736Z"
   },
   {
    "duration": 28257,
    "start_time": "2023-02-25T03:03:02.080Z"
   },
   {
    "duration": 4,
    "start_time": "2023-02-25T03:03:37.191Z"
   },
   {
    "duration": 1302,
    "start_time": "2023-02-25T03:14:53.901Z"
   },
   {
    "duration": 694,
    "start_time": "2023-02-25T03:14:55.508Z"
   },
   {
    "duration": 26,
    "start_time": "2023-02-25T03:14:56.589Z"
   },
   {
    "duration": 19,
    "start_time": "2023-02-25T03:14:57.178Z"
   },
   {
    "duration": 20,
    "start_time": "2023-02-25T03:14:57.403Z"
   },
   {
    "duration": 13,
    "start_time": "2023-02-25T03:14:57.635Z"
   },
   {
    "duration": 20,
    "start_time": "2023-02-25T03:14:57.837Z"
   },
   {
    "duration": 17,
    "start_time": "2023-02-25T03:14:58.275Z"
   },
   {
    "duration": 13,
    "start_time": "2023-02-25T03:14:59.171Z"
   },
   {
    "duration": 8,
    "start_time": "2023-02-25T03:15:01.411Z"
   },
   {
    "duration": 6,
    "start_time": "2023-02-25T03:15:01.828Z"
   },
   {
    "duration": 8,
    "start_time": "2023-02-25T03:15:03.652Z"
   },
   {
    "duration": 92,
    "start_time": "2023-02-25T03:15:08.524Z"
   },
   {
    "duration": 23,
    "start_time": "2023-02-25T03:15:13.665Z"
   },
   {
    "duration": 3,
    "start_time": "2023-02-25T03:15:22.140Z"
   },
   {
    "duration": 18,
    "start_time": "2023-02-25T03:15:22.772Z"
   },
   {
    "duration": 5,
    "start_time": "2023-02-25T03:15:23.444Z"
   },
   {
    "duration": 5,
    "start_time": "2023-02-25T03:15:29.115Z"
   },
   {
    "duration": 456,
    "start_time": "2023-02-25T03:16:02.748Z"
   },
   {
    "duration": 1294,
    "start_time": "2023-02-25T03:27:43.583Z"
   },
   {
    "duration": 722,
    "start_time": "2023-02-25T03:27:45.805Z"
   },
   {
    "duration": 26,
    "start_time": "2023-02-25T03:27:47.061Z"
   },
   {
    "duration": 18,
    "start_time": "2023-02-25T03:27:48.278Z"
   },
   {
    "duration": 19,
    "start_time": "2023-02-25T03:27:49.269Z"
   },
   {
    "duration": 12,
    "start_time": "2023-02-25T03:27:49.684Z"
   },
   {
    "duration": 19,
    "start_time": "2023-02-25T03:27:50.157Z"
   },
   {
    "duration": 16,
    "start_time": "2023-02-25T03:27:50.565Z"
   },
   {
    "duration": 13,
    "start_time": "2023-02-25T03:27:51.429Z"
   },
   {
    "duration": 8,
    "start_time": "2023-02-25T03:28:00.150Z"
   },
   {
    "duration": 6,
    "start_time": "2023-02-25T03:28:00.589Z"
   },
   {
    "duration": 8,
    "start_time": "2023-02-25T03:28:00.932Z"
   },
   {
    "duration": 94,
    "start_time": "2023-02-25T03:28:01.509Z"
   },
   {
    "duration": 2,
    "start_time": "2023-02-25T03:28:02.708Z"
   },
   {
    "duration": 5,
    "start_time": "2023-02-25T03:28:03.091Z"
   },
   {
    "duration": 5,
    "start_time": "2023-02-25T03:28:03.812Z"
   },
   {
    "duration": 5,
    "start_time": "2023-02-25T03:28:11.852Z"
   },
   {
    "duration": 23,
    "start_time": "2023-02-25T03:32:46.250Z"
   },
   {
    "duration": 17,
    "start_time": "2023-02-25T03:33:16.115Z"
   },
   {
    "duration": 25,
    "start_time": "2023-02-25T03:34:28.714Z"
   },
   {
    "duration": 16,
    "start_time": "2023-02-25T03:34:36.436Z"
   },
   {
    "duration": 23,
    "start_time": "2023-02-25T03:34:48.865Z"
   },
   {
    "duration": 3,
    "start_time": "2023-02-25T03:35:10.130Z"
   },
   {
    "duration": 40,
    "start_time": "2023-02-25T03:35:21.522Z"
   },
   {
    "duration": 34,
    "start_time": "2023-02-25T03:35:48.482Z"
   },
   {
    "duration": 37,
    "start_time": "2023-02-25T03:36:10.228Z"
   },
   {
    "duration": 15,
    "start_time": "2023-02-25T03:36:17.225Z"
   },
   {
    "duration": 115,
    "start_time": "2023-02-25T03:37:13.106Z"
   },
   {
    "duration": 38,
    "start_time": "2023-02-25T03:37:31.401Z"
   },
   {
    "duration": 14,
    "start_time": "2023-02-25T03:38:10.801Z"
   },
   {
    "duration": 1318,
    "start_time": "2023-02-25T03:38:37.864Z"
   },
   {
    "duration": 694,
    "start_time": "2023-02-25T03:38:39.184Z"
   },
   {
    "duration": 24,
    "start_time": "2023-02-25T03:38:39.880Z"
   },
   {
    "duration": 19,
    "start_time": "2023-02-25T03:38:39.906Z"
   },
   {
    "duration": 18,
    "start_time": "2023-02-25T03:38:40.488Z"
   },
   {
    "duration": 12,
    "start_time": "2023-02-25T03:38:40.943Z"
   },
   {
    "duration": 20,
    "start_time": "2023-02-25T03:38:41.385Z"
   },
   {
    "duration": 18,
    "start_time": "2023-02-25T03:38:41.679Z"
   },
   {
    "duration": 12,
    "start_time": "2023-02-25T03:38:42.104Z"
   },
   {
    "duration": 9,
    "start_time": "2023-02-25T03:38:42.503Z"
   },
   {
    "duration": 6,
    "start_time": "2023-02-25T03:38:42.703Z"
   },
   {
    "duration": 8,
    "start_time": "2023-02-25T03:38:42.903Z"
   },
   {
    "duration": 96,
    "start_time": "2023-02-25T03:38:43.304Z"
   },
   {
    "duration": 3,
    "start_time": "2023-02-25T03:38:44.023Z"
   },
   {
    "duration": 6,
    "start_time": "2023-02-25T03:38:44.208Z"
   },
   {
    "duration": 6,
    "start_time": "2023-02-25T03:38:44.567Z"
   },
   {
    "duration": 4,
    "start_time": "2023-02-25T03:38:45.304Z"
   },
   {
    "duration": 23,
    "start_time": "2023-02-25T03:38:47.160Z"
   },
   {
    "duration": 16,
    "start_time": "2023-02-25T03:38:47.984Z"
   },
   {
    "duration": 22,
    "start_time": "2023-02-25T03:38:50.208Z"
   },
   {
    "duration": 22,
    "start_time": "2023-02-25T03:39:49.881Z"
   },
   {
    "duration": 7,
    "start_time": "2023-02-25T03:42:38.286Z"
   },
   {
    "duration": 1164,
    "start_time": "2023-02-25T03:42:39.399Z"
   },
   {
    "duration": 1169,
    "start_time": "2023-02-25T03:42:41.366Z"
   },
   {
    "duration": 1108,
    "start_time": "2023-02-25T03:42:42.538Z"
   },
   {
    "duration": 398,
    "start_time": "2023-02-25T03:43:01.967Z"
   },
   {
    "duration": 7,
    "start_time": "2023-02-25T03:43:08.374Z"
   },
   {
    "duration": 867,
    "start_time": "2023-02-25T03:43:09.718Z"
   },
   {
    "duration": 137,
    "start_time": "2023-02-25T03:45:06.534Z"
   },
   {
    "duration": 28,
    "start_time": "2023-02-25T03:46:14.856Z"
   },
   {
    "duration": 4,
    "start_time": "2023-02-25T03:46:18.940Z"
   },
   {
    "duration": 2,
    "start_time": "2023-02-25T03:46:19.213Z"
   },
   {
    "duration": 2,
    "start_time": "2023-02-25T03:46:19.573Z"
   },
   {
    "duration": 8,
    "start_time": "2023-02-25T03:48:22.212Z"
   },
   {
    "duration": 8,
    "start_time": "2023-02-25T03:48:39.341Z"
   },
   {
    "duration": 28517,
    "start_time": "2023-02-25T03:51:08.211Z"
   },
   {
    "duration": 4,
    "start_time": "2023-02-25T03:51:39.883Z"
   },
   {
    "duration": 46011,
    "start_time": "2023-02-25T03:52:29.323Z"
   },
   {
    "duration": 4,
    "start_time": "2023-02-25T03:53:20.538Z"
   },
   {
    "duration": 46034,
    "start_time": "2023-02-25T03:53:39.147Z"
   },
   {
    "duration": 4,
    "start_time": "2023-02-25T03:54:28.674Z"
   },
   {
    "duration": 28417,
    "start_time": "2023-02-25T03:54:45.643Z"
   },
   {
    "duration": 4,
    "start_time": "2023-02-25T03:55:17.017Z"
   },
   {
    "duration": 1445,
    "start_time": "2023-02-25T04:02:07.441Z"
   },
   {
    "duration": 707,
    "start_time": "2023-02-25T04:02:09.992Z"
   },
   {
    "duration": 24,
    "start_time": "2023-02-25T04:02:10.701Z"
   },
   {
    "duration": 20,
    "start_time": "2023-02-25T04:02:11.143Z"
   },
   {
    "duration": 21,
    "start_time": "2023-02-25T04:02:11.464Z"
   },
   {
    "duration": 11,
    "start_time": "2023-02-25T04:02:11.720Z"
   },
   {
    "duration": 19,
    "start_time": "2023-02-25T04:02:11.961Z"
   },
   {
    "duration": 16,
    "start_time": "2023-02-25T04:02:12.216Z"
   },
   {
    "duration": 13,
    "start_time": "2023-02-25T04:02:12.680Z"
   },
   {
    "duration": 7,
    "start_time": "2023-02-25T04:02:13.160Z"
   },
   {
    "duration": 5,
    "start_time": "2023-02-25T04:02:13.376Z"
   },
   {
    "duration": 8,
    "start_time": "2023-02-25T04:02:13.592Z"
   },
   {
    "duration": 98,
    "start_time": "2023-02-25T04:02:13.984Z"
   },
   {
    "duration": 3,
    "start_time": "2023-02-25T04:02:14.777Z"
   },
   {
    "duration": 5,
    "start_time": "2023-02-25T04:02:14.976Z"
   },
   {
    "duration": 5,
    "start_time": "2023-02-25T04:02:15.353Z"
   },
   {
    "duration": 5,
    "start_time": "2023-02-25T04:02:16.096Z"
   },
   {
    "duration": 24,
    "start_time": "2023-02-25T04:02:17.240Z"
   },
   {
    "duration": 17,
    "start_time": "2023-02-25T04:02:17.680Z"
   },
   {
    "duration": 25,
    "start_time": "2023-02-25T04:02:18.081Z"
   },
   {
    "duration": 24,
    "start_time": "2023-02-25T04:02:18.472Z"
   },
   {
    "duration": 6,
    "start_time": "2023-02-25T04:02:19.656Z"
   },
   {
    "duration": 1133,
    "start_time": "2023-02-25T04:02:20.033Z"
   },
   {
    "duration": 1261,
    "start_time": "2023-02-25T04:02:21.168Z"
   },
   {
    "duration": 1120,
    "start_time": "2023-02-25T04:02:22.431Z"
   },
   {
    "duration": 407,
    "start_time": "2023-02-25T04:02:26.073Z"
   },
   {
    "duration": 7,
    "start_time": "2023-02-25T04:02:27.777Z"
   },
   {
    "duration": 892,
    "start_time": "2023-02-25T04:02:31.579Z"
   },
   {
    "duration": 28,
    "start_time": "2023-02-25T04:02:34.392Z"
   },
   {
    "duration": 3,
    "start_time": "2023-02-25T04:02:40.440Z"
   },
   {
    "duration": 3,
    "start_time": "2023-02-25T04:02:40.823Z"
   },
   {
    "duration": 3,
    "start_time": "2023-02-25T04:02:42.016Z"
   },
   {
    "duration": 8,
    "start_time": "2023-02-25T04:02:44.328Z"
   },
   {
    "duration": 8,
    "start_time": "2023-02-25T04:02:44.880Z"
   },
   {
    "duration": 46444,
    "start_time": "2023-02-25T04:02:48.961Z"
   },
   {
    "duration": 4,
    "start_time": "2023-02-25T04:03:42.200Z"
   },
   {
    "duration": 28307,
    "start_time": "2023-02-25T04:03:45.201Z"
   },
   {
    "duration": 3,
    "start_time": "2023-02-25T04:04:21.320Z"
   },
   {
    "duration": 168,
    "start_time": "2023-02-25T04:04:23.560Z"
   },
   {
    "duration": 3665,
    "start_time": "2023-02-25T04:05:07.896Z"
   },
   {
    "duration": 3,
    "start_time": "2023-02-25T04:06:46.432Z"
   },
   {
    "duration": 2695,
    "start_time": "2023-02-25T04:07:19.863Z"
   },
   {
    "duration": 3,
    "start_time": "2023-02-25T04:07:25.312Z"
   },
   {
    "duration": 152796,
    "start_time": "2023-02-25T04:07:39.439Z"
   },
   {
    "duration": 4,
    "start_time": "2023-02-25T04:11:13.374Z"
   },
   {
    "duration": 95877,
    "start_time": "2023-02-25T04:11:43.430Z"
   },
   {
    "duration": 3,
    "start_time": "2023-02-25T04:14:03.750Z"
   },
   {
    "duration": 5,
    "start_time": "2023-02-25T04:18:15.723Z"
   },
   {
    "duration": 1578,
    "start_time": "2023-02-25T04:20:16.276Z"
   },
   {
    "duration": 3,
    "start_time": "2023-02-25T04:20:21.851Z"
   },
   {
    "duration": 1936,
    "start_time": "2023-02-25T04:23:07.881Z"
   },
   {
    "duration": 3,
    "start_time": "2023-02-25T04:23:10.641Z"
   },
   {
    "duration": 11,
    "start_time": "2023-02-25T04:23:15.178Z"
   },
   {
    "duration": 10,
    "start_time": "2023-02-25T04:24:24.954Z"
   },
   {
    "duration": 143227,
    "start_time": "2023-02-25T04:27:13.689Z"
   },
   {
    "duration": 4,
    "start_time": "2023-02-25T04:29:42.448Z"
   },
   {
    "duration": 2539,
    "start_time": "2023-02-25T04:30:00.176Z"
   },
   {
    "duration": 4,
    "start_time": "2023-02-25T04:30:04.310Z"
   },
   {
    "duration": 2496,
    "start_time": "2023-02-25T04:30:33.984Z"
   },
   {
    "duration": 4,
    "start_time": "2023-02-25T04:30:37.382Z"
   },
   {
    "duration": 2429,
    "start_time": "2023-02-25T04:30:43.472Z"
   },
   {
    "duration": 1612,
    "start_time": "2023-02-25T04:30:50.494Z"
   },
   {
    "duration": 3,
    "start_time": "2023-02-25T04:30:54.663Z"
   },
   {
    "duration": 2206,
    "start_time": "2023-02-25T04:30:59.030Z"
   },
   {
    "duration": 4,
    "start_time": "2023-02-25T04:31:01.821Z"
   },
   {
    "duration": 2088,
    "start_time": "2023-02-25T04:31:07.934Z"
   },
   {
    "duration": 4,
    "start_time": "2023-02-25T04:31:11.150Z"
   },
   {
    "duration": 2372,
    "start_time": "2023-02-25T04:31:15.687Z"
   },
   {
    "duration": 4,
    "start_time": "2023-02-25T04:31:18.646Z"
   },
   {
    "duration": 1770,
    "start_time": "2023-02-25T04:31:24.070Z"
   },
   {
    "duration": 3,
    "start_time": "2023-02-25T04:31:26.359Z"
   },
   {
    "duration": 583,
    "start_time": "2023-02-25T04:31:29.470Z"
   },
   {
    "duration": 4,
    "start_time": "2023-02-25T04:31:30.790Z"
   },
   {
    "duration": 717,
    "start_time": "2023-02-25T04:31:33.670Z"
   },
   {
    "duration": 3,
    "start_time": "2023-02-25T04:31:34.822Z"
   },
   {
    "duration": 917,
    "start_time": "2023-02-25T04:31:37.726Z"
   },
   {
    "duration": 1101,
    "start_time": "2023-02-25T04:31:43.760Z"
   },
   {
    "duration": 4,
    "start_time": "2023-02-25T04:31:45.406Z"
   },
   {
    "duration": 1279,
    "start_time": "2023-02-25T04:31:47.966Z"
   },
   {
    "duration": 3,
    "start_time": "2023-02-25T04:31:50.086Z"
   },
   {
    "duration": 1316,
    "start_time": "2023-02-25T04:33:16.703Z"
   },
   {
    "duration": 708,
    "start_time": "2023-02-25T04:33:19.013Z"
   },
   {
    "duration": 23,
    "start_time": "2023-02-25T04:33:20.126Z"
   },
   {
    "duration": 18,
    "start_time": "2023-02-25T04:33:21.293Z"
   },
   {
    "duration": 19,
    "start_time": "2023-02-25T04:33:21.759Z"
   },
   {
    "duration": 12,
    "start_time": "2023-02-25T04:33:22.157Z"
   },
   {
    "duration": 19,
    "start_time": "2023-02-25T04:33:22.470Z"
   },
   {
    "duration": 17,
    "start_time": "2023-02-25T04:33:22.846Z"
   },
   {
    "duration": 12,
    "start_time": "2023-02-25T04:33:23.501Z"
   },
   {
    "duration": 8,
    "start_time": "2023-02-25T04:33:23.949Z"
   },
   {
    "duration": 5,
    "start_time": "2023-02-25T04:33:24.173Z"
   },
   {
    "duration": 8,
    "start_time": "2023-02-25T04:33:24.373Z"
   },
   {
    "duration": 99,
    "start_time": "2023-02-25T04:33:24.797Z"
   },
   {
    "duration": 6,
    "start_time": "2023-02-25T04:33:25.652Z"
   },
   {
    "duration": 5,
    "start_time": "2023-02-25T04:33:25.877Z"
   },
   {
    "duration": 5,
    "start_time": "2023-02-25T04:33:26.326Z"
   },
   {
    "duration": 5,
    "start_time": "2023-02-25T04:33:27.229Z"
   },
   {
    "duration": 21,
    "start_time": "2023-02-25T04:33:28.333Z"
   },
   {
    "duration": 17,
    "start_time": "2023-02-25T04:33:28.893Z"
   },
   {
    "duration": 19,
    "start_time": "2023-02-25T04:33:29.825Z"
   },
   {
    "duration": 23,
    "start_time": "2023-02-25T04:33:31.269Z"
   },
   {
    "duration": 6,
    "start_time": "2023-02-25T04:33:32.989Z"
   },
   {
    "duration": 1135,
    "start_time": "2023-02-25T04:33:33.822Z"
   },
   {
    "duration": 1190,
    "start_time": "2023-02-25T04:33:34.960Z"
   },
   {
    "duration": 1157,
    "start_time": "2023-02-25T04:33:37.213Z"
   },
   {
    "duration": 444,
    "start_time": "2023-02-25T04:33:40.125Z"
   },
   {
    "duration": 8,
    "start_time": "2023-02-25T04:33:43.477Z"
   },
   {
    "duration": 951,
    "start_time": "2023-02-25T04:33:45.133Z"
   },
   {
    "duration": 48,
    "start_time": "2023-02-25T04:33:47.398Z"
   },
   {
    "duration": 3,
    "start_time": "2023-02-25T04:33:50.525Z"
   },
   {
    "duration": 3,
    "start_time": "2023-02-25T04:33:51.109Z"
   },
   {
    "duration": 3,
    "start_time": "2023-02-25T04:33:51.556Z"
   },
   {
    "duration": 6,
    "start_time": "2023-02-25T04:33:52.796Z"
   },
   {
    "duration": 9,
    "start_time": "2023-02-25T04:33:53.317Z"
   },
   {
    "duration": 142777,
    "start_time": "2023-02-25T04:33:54.541Z"
   },
   {
    "duration": 3,
    "start_time": "2023-02-25T04:36:24.677Z"
   },
   {
    "duration": 94393,
    "start_time": "2023-02-25T04:36:27.580Z"
   },
   {
    "duration": 3,
    "start_time": "2023-02-25T04:38:08.237Z"
   },
   {
    "duration": 3413,
    "start_time": "2023-02-25T04:38:15.749Z"
   },
   {
    "duration": 3,
    "start_time": "2023-02-25T04:38:22.132Z"
   },
   {
    "duration": 3060,
    "start_time": "2023-02-25T04:38:23.700Z"
   },
   {
    "duration": 3,
    "start_time": "2023-02-25T04:38:27.876Z"
   },
   {
    "duration": 264549,
    "start_time": "2023-02-25T04:38:30.700Z"
   },
   {
    "duration": 4,
    "start_time": "2023-02-25T04:43:52.762Z"
   },
   {
    "duration": 192175,
    "start_time": "2023-02-25T04:44:20.450Z"
   },
   {
    "duration": 4,
    "start_time": "2023-02-25T04:48:07.433Z"
   },
   {
    "duration": 5,
    "start_time": "2023-02-25T04:48:14.624Z"
   },
   {
    "duration": 2525,
    "start_time": "2023-02-25T04:48:18.752Z"
   },
   {
    "duration": 4,
    "start_time": "2023-02-25T04:48:22.368Z"
   },
   {
    "duration": 2483,
    "start_time": "2023-02-25T04:48:31.729Z"
   },
   {
    "duration": 4,
    "start_time": "2023-02-25T04:48:36.512Z"
   },
   {
    "duration": 9,
    "start_time": "2023-02-25T04:48:39.673Z"
   },
   {
    "duration": 1469,
    "start_time": "2023-02-25T04:49:17.681Z"
   },
   {
    "duration": 4,
    "start_time": "2023-02-25T04:49:20.712Z"
   },
   {
    "duration": 12822,
    "start_time": "2023-02-25T04:49:28.880Z"
   },
   {
    "duration": 4,
    "start_time": "2023-02-25T04:49:45.992Z"
   },
   {
    "duration": 2438,
    "start_time": "2023-02-25T04:49:58.176Z"
   },
   {
    "duration": 5,
    "start_time": "2023-02-25T04:50:01.239Z"
   },
   {
    "duration": 2405,
    "start_time": "2023-02-25T04:50:05.968Z"
   },
   {
    "duration": 3,
    "start_time": "2023-02-25T04:50:08.849Z"
   },
   {
    "duration": 2171,
    "start_time": "2023-02-25T04:50:12.024Z"
   },
   {
    "duration": 4,
    "start_time": "2023-02-25T04:50:16.036Z"
   },
   {
    "duration": 2105,
    "start_time": "2023-02-25T04:50:29.903Z"
   },
   {
    "duration": 4,
    "start_time": "2023-02-25T04:50:32.864Z"
   },
   {
    "duration": 2004,
    "start_time": "2023-02-25T04:50:35.760Z"
   },
   {
    "duration": 4,
    "start_time": "2023-02-25T04:50:38.271Z"
   },
   {
    "duration": 1798,
    "start_time": "2023-02-25T04:50:42.488Z"
   },
   {
    "duration": 3,
    "start_time": "2023-02-25T04:50:44.752Z"
   },
   {
    "duration": 1630,
    "start_time": "2023-02-25T04:50:47.608Z"
   },
   {
    "duration": 4,
    "start_time": "2023-02-25T04:50:49.711Z"
   },
   {
    "duration": 45,
    "start_time": "2023-02-25T04:51:29.127Z"
   },
   {
    "duration": 3,
    "start_time": "2023-02-25T04:51:46.408Z"
   },
   {
    "duration": 3,
    "start_time": "2023-02-25T04:51:46.855Z"
   },
   {
    "duration": 3,
    "start_time": "2023-02-25T04:51:47.399Z"
   },
   {
    "duration": 7,
    "start_time": "2023-02-25T04:51:49.127Z"
   },
   {
    "duration": 8,
    "start_time": "2023-02-25T04:51:51.471Z"
   },
   {
    "duration": 142395,
    "start_time": "2023-02-25T04:51:52.615Z"
   },
   {
    "duration": 4,
    "start_time": "2023-02-25T04:54:18.862Z"
   },
   {
    "duration": 3537,
    "start_time": "2023-02-25T04:54:32.518Z"
   },
   {
    "duration": 4,
    "start_time": "2023-02-25T04:54:36.238Z"
   },
   {
    "duration": 1401,
    "start_time": "2023-02-25T04:54:55.766Z"
   },
   {
    "duration": 685,
    "start_time": "2023-02-25T04:54:58.046Z"
   },
   {
    "duration": 23,
    "start_time": "2023-02-25T04:54:59.142Z"
   },
   {
    "duration": 19,
    "start_time": "2023-02-25T04:55:01.277Z"
   },
   {
    "duration": 21,
    "start_time": "2023-02-25T04:55:01.781Z"
   },
   {
    "duration": 13,
    "start_time": "2023-02-25T04:55:02.124Z"
   },
   {
    "duration": 19,
    "start_time": "2023-02-25T04:55:02.359Z"
   },
   {
    "duration": 19,
    "start_time": "2023-02-25T04:55:02.549Z"
   },
   {
    "duration": 12,
    "start_time": "2023-02-25T04:55:02.909Z"
   },
   {
    "duration": 7,
    "start_time": "2023-02-25T04:55:03.285Z"
   },
   {
    "duration": 6,
    "start_time": "2023-02-25T04:55:03.477Z"
   },
   {
    "duration": 7,
    "start_time": "2023-02-25T04:55:03.702Z"
   },
   {
    "duration": 103,
    "start_time": "2023-02-25T04:55:06.253Z"
   },
   {
    "duration": 3,
    "start_time": "2023-02-25T04:55:08.053Z"
   },
   {
    "duration": 35,
    "start_time": "2023-02-25T04:55:08.429Z"
   },
   {
    "duration": 6,
    "start_time": "2023-02-25T04:55:09.637Z"
   },
   {
    "duration": 5,
    "start_time": "2023-02-25T04:55:10.869Z"
   },
   {
    "duration": 24,
    "start_time": "2023-02-25T04:55:12.293Z"
   },
   {
    "duration": 15,
    "start_time": "2023-02-25T04:55:12.910Z"
   },
   {
    "duration": 23,
    "start_time": "2023-02-25T04:55:13.533Z"
   },
   {
    "duration": 23,
    "start_time": "2023-02-25T04:55:14.229Z"
   },
   {
    "duration": 6,
    "start_time": "2023-02-25T04:55:15.813Z"
   },
   {
    "duration": 1136,
    "start_time": "2023-02-25T04:55:16.533Z"
   },
   {
    "duration": 1189,
    "start_time": "2023-02-25T04:55:17.671Z"
   },
   {
    "duration": 1109,
    "start_time": "2023-02-25T04:55:19.701Z"
   },
   {
    "duration": 378,
    "start_time": "2023-02-25T04:55:22.286Z"
   },
   {
    "duration": 7,
    "start_time": "2023-02-25T04:55:24.757Z"
   },
   {
    "duration": 933,
    "start_time": "2023-02-25T04:55:26.542Z"
   },
   {
    "duration": 49,
    "start_time": "2023-02-25T04:55:28.597Z"
   },
   {
    "duration": 3,
    "start_time": "2023-02-25T04:55:31.053Z"
   },
   {
    "duration": 3,
    "start_time": "2023-02-25T04:55:32.181Z"
   },
   {
    "duration": 3,
    "start_time": "2023-02-25T04:55:32.877Z"
   },
   {
    "duration": 6,
    "start_time": "2023-02-25T04:55:34.669Z"
   },
   {
    "duration": 10,
    "start_time": "2023-02-25T04:55:35.220Z"
   },
   {
    "duration": 144911,
    "start_time": "2023-02-25T04:55:36.374Z"
   },
   {
    "duration": 4,
    "start_time": "2023-02-25T04:58:01.287Z"
   },
   {
    "duration": 1287,
    "start_time": "2023-02-25T04:58:33.901Z"
   },
   {
    "duration": 715,
    "start_time": "2023-02-25T04:58:35.997Z"
   },
   {
    "duration": 26,
    "start_time": "2023-02-25T04:58:36.714Z"
   },
   {
    "duration": 19,
    "start_time": "2023-02-25T04:58:36.941Z"
   },
   {
    "duration": 20,
    "start_time": "2023-02-25T04:58:37.421Z"
   },
   {
    "duration": 12,
    "start_time": "2023-02-25T04:58:37.876Z"
   },
   {
    "duration": 22,
    "start_time": "2023-02-25T04:58:38.372Z"
   },
   {
    "duration": 17,
    "start_time": "2023-02-25T04:58:38.908Z"
   },
   {
    "duration": 12,
    "start_time": "2023-02-25T04:58:39.964Z"
   },
   {
    "duration": 7,
    "start_time": "2023-02-25T04:58:41.620Z"
   },
   {
    "duration": 6,
    "start_time": "2023-02-25T04:58:42.020Z"
   },
   {
    "duration": 8,
    "start_time": "2023-02-25T04:58:42.484Z"
   },
   {
    "duration": 101,
    "start_time": "2023-02-25T04:58:44.293Z"
   },
   {
    "duration": 3,
    "start_time": "2023-02-25T04:58:46.780Z"
   },
   {
    "duration": 6,
    "start_time": "2023-02-25T04:58:47.133Z"
   },
   {
    "duration": 6,
    "start_time": "2023-02-25T04:58:47.837Z"
   },
   {
    "duration": 4,
    "start_time": "2023-02-25T04:58:52.572Z"
   },
   {
    "duration": 23,
    "start_time": "2023-02-25T04:58:55.964Z"
   },
   {
    "duration": 18,
    "start_time": "2023-02-25T05:01:20.037Z"
   },
   {
    "duration": 12,
    "start_time": "2023-02-25T05:01:30.832Z"
   },
   {
    "duration": 6,
    "start_time": "2023-02-25T05:01:33.660Z"
   },
   {
    "duration": 1143,
    "start_time": "2023-02-25T05:01:34.821Z"
   },
   {
    "duration": 1238,
    "start_time": "2023-02-25T05:01:36.828Z"
   },
   {
    "duration": 1136,
    "start_time": "2023-02-25T05:01:38.068Z"
   },
   {
    "duration": 391,
    "start_time": "2023-02-25T05:01:54.301Z"
   },
   {
    "duration": 8,
    "start_time": "2023-02-25T05:01:57.228Z"
   },
   {
    "duration": 895,
    "start_time": "2023-02-25T05:01:58.373Z"
   },
   {
    "duration": 14,
    "start_time": "2023-02-25T05:02:38.261Z"
   },
   {
    "duration": 3,
    "start_time": "2023-02-25T05:02:47.093Z"
   },
   {
    "duration": 2,
    "start_time": "2023-02-25T05:02:47.492Z"
   },
   {
    "duration": 3,
    "start_time": "2023-02-25T05:02:47.868Z"
   },
   {
    "duration": 7,
    "start_time": "2023-02-25T05:02:59.613Z"
   },
   {
    "duration": 58198,
    "start_time": "2023-02-25T05:03:26.079Z"
   },
   {
    "duration": 4,
    "start_time": "2023-02-25T05:06:20.516Z"
   },
   {
    "duration": 2736,
    "start_time": "2023-02-25T05:06:36.324Z"
   },
   {
    "duration": 4,
    "start_time": "2023-02-25T05:07:20.492Z"
   },
   {
    "duration": 978619,
    "start_time": "2023-02-25T05:09:04.751Z"
   },
   {
    "duration": 4,
    "start_time": "2023-02-25T05:28:39.224Z"
   },
   {
    "duration": 5,
    "start_time": "2023-02-25T05:29:25.539Z"
   },
   {
    "duration": 314,
    "start_time": "2023-02-25T05:30:23.031Z"
   },
   {
    "duration": 4,
    "start_time": "2023-02-25T05:30:25.135Z"
   },
   {
    "duration": 10,
    "start_time": "2023-02-25T05:30:49.705Z"
   },
   {
    "duration": 3,
    "start_time": "2023-02-25T05:32:48.592Z"
   },
   {
    "duration": 114,
    "start_time": "2023-02-25T05:34:49.158Z"
   },
   {
    "duration": 36,
    "start_time": "2023-02-25T05:35:03.190Z"
   },
   {
    "duration": 36,
    "start_time": "2023-02-25T05:35:36.574Z"
   },
   {
    "duration": 10,
    "start_time": "2023-02-25T05:35:43.622Z"
   },
   {
    "duration": 10,
    "start_time": "2023-02-25T05:35:46.053Z"
   },
   {
    "duration": 698,
    "start_time": "2023-02-25T05:35:55.941Z"
   },
   {
    "duration": 5,
    "start_time": "2023-02-25T05:36:17.255Z"
   },
   {
    "duration": 4,
    "start_time": "2023-02-25T05:38:47.196Z"
   },
   {
    "duration": 29,
    "start_time": "2023-02-25T05:39:29.466Z"
   },
   {
    "duration": 8,
    "start_time": "2023-02-25T05:40:23.314Z"
   },
   {
    "duration": 1393,
    "start_time": "2023-02-25T05:40:40.657Z"
   },
   {
    "duration": 700,
    "start_time": "2023-02-25T05:40:43.330Z"
   },
   {
    "duration": 33,
    "start_time": "2023-02-25T05:40:44.032Z"
   },
   {
    "duration": 18,
    "start_time": "2023-02-25T05:40:44.160Z"
   },
   {
    "duration": 20,
    "start_time": "2023-02-25T05:40:44.416Z"
   },
   {
    "duration": 13,
    "start_time": "2023-02-25T05:40:44.672Z"
   },
   {
    "duration": 20,
    "start_time": "2023-02-25T05:40:44.889Z"
   },
   {
    "duration": 18,
    "start_time": "2023-02-25T05:40:45.073Z"
   },
   {
    "duration": 13,
    "start_time": "2023-02-25T05:40:45.440Z"
   },
   {
    "duration": 8,
    "start_time": "2023-02-25T05:40:45.824Z"
   },
   {
    "duration": 5,
    "start_time": "2023-02-25T05:40:46.009Z"
   },
   {
    "duration": 8,
    "start_time": "2023-02-25T05:40:46.192Z"
   },
   {
    "duration": 98,
    "start_time": "2023-02-25T05:40:46.601Z"
   },
   {
    "duration": 4,
    "start_time": "2023-02-25T05:40:47.367Z"
   },
   {
    "duration": 6,
    "start_time": "2023-02-25T05:40:47.536Z"
   },
   {
    "duration": 5,
    "start_time": "2023-02-25T05:40:47.880Z"
   },
   {
    "duration": 5,
    "start_time": "2023-02-25T05:40:48.568Z"
   },
   {
    "duration": 23,
    "start_time": "2023-02-25T05:40:49.304Z"
   },
   {
    "duration": 15,
    "start_time": "2023-02-25T05:40:49.681Z"
   },
   {
    "duration": 11,
    "start_time": "2023-02-25T05:40:50.176Z"
   },
   {
    "duration": 6,
    "start_time": "2023-02-25T05:40:52.057Z"
   },
   {
    "duration": 1166,
    "start_time": "2023-02-25T05:40:52.760Z"
   },
   {
    "duration": 1234,
    "start_time": "2023-02-25T05:40:54.809Z"
   },
   {
    "duration": 1206,
    "start_time": "2023-02-25T05:40:56.959Z"
   },
   {
    "duration": 385,
    "start_time": "2023-02-25T05:40:59.977Z"
   },
   {
    "duration": 8,
    "start_time": "2023-02-25T05:41:01.936Z"
   },
   {
    "duration": 860,
    "start_time": "2023-02-25T05:41:03.705Z"
   },
   {
    "duration": 16,
    "start_time": "2023-02-25T05:41:05.464Z"
   },
   {
    "duration": 4,
    "start_time": "2023-02-25T05:41:09.656Z"
   },
   {
    "duration": 3,
    "start_time": "2023-02-25T05:41:12.560Z"
   },
   {
    "duration": 3,
    "start_time": "2023-02-25T05:41:40.488Z"
   },
   {
    "duration": 3,
    "start_time": "2023-02-25T05:41:41.658Z"
   },
   {
    "duration": 3,
    "start_time": "2023-02-25T05:41:41.935Z"
   },
   {
    "duration": 7,
    "start_time": "2023-02-25T05:41:43.176Z"
   },
   {
    "duration": 32,
    "start_time": "2023-02-25T05:41:45.912Z"
   },
   {
    "duration": 28549,
    "start_time": "2023-02-25T05:41:50.556Z"
   },
   {
    "duration": 4,
    "start_time": "2023-02-25T05:42:28.130Z"
   },
   {
    "duration": 2664,
    "start_time": "2023-02-25T05:42:34.096Z"
   },
   {
    "duration": 4,
    "start_time": "2023-02-25T05:42:38.895Z"
   },
   {
    "duration": 120148,
    "start_time": "2023-02-25T05:42:41.744Z"
   },
   {
    "duration": 4,
    "start_time": "2023-02-25T05:45:57.846Z"
   },
   {
    "duration": 5,
    "start_time": "2023-02-25T05:47:18.782Z"
   },
   {
    "duration": 10,
    "start_time": "2023-02-25T05:47:19.924Z"
   },
   {
    "duration": 308,
    "start_time": "2023-02-25T05:47:22.485Z"
   },
   {
    "duration": 4,
    "start_time": "2023-02-25T05:47:29.141Z"
   },
   {
    "duration": 10,
    "start_time": "2023-02-25T05:50:50.412Z"
   },
   {
    "duration": 40,
    "start_time": "2023-02-27T06:52:25.388Z"
   },
   {
    "duration": 1888,
    "start_time": "2023-02-27T07:02:36.860Z"
   }
  ],
  "kernelspec": {
   "display_name": "Python 3 (ipykernel)",
   "language": "python",
   "name": "python3"
  },
  "language_info": {
   "codemirror_mode": {
    "name": "ipython",
    "version": 3
   },
   "file_extension": ".py",
   "mimetype": "text/x-python",
   "name": "python",
   "nbconvert_exporter": "python",
   "pygments_lexer": "ipython3",
   "version": "3.9.13"
  },
  "toc": {
   "base_numbering": 1,
   "nav_menu": {},
   "number_sections": true,
   "sideBar": true,
   "skip_h1_title": true,
   "title_cell": "Содержание",
   "title_sidebar": "Contents",
   "toc_cell": true,
   "toc_position": {
    "height": "calc(100% - 180px)",
    "left": "10px",
    "top": "150px",
    "width": "165px"
   },
   "toc_section_display": true,
   "toc_window_display": true
  }
 },
 "nbformat": 4,
 "nbformat_minor": 2
}
