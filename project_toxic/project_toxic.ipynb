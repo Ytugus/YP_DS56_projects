{
 "cells": [
  {
   "cell_type": "markdown",
   "metadata": {
    "toc": true
   },
   "source": [
    "<h1>Содержание<span class=\"tocSkip\"></span></h1>\n",
    "<div class=\"toc\"><ul class=\"toc-item\"><li><span><a href=\"#Подготовка\" data-toc-modified-id=\"Подготовка-1\"><span class=\"toc-item-num\">1&nbsp;&nbsp;</span>Подготовка</a></span><ul class=\"toc-item\"><li><span><a href=\"#Вывод\" data-toc-modified-id=\"Вывод-1.1\"><span class=\"toc-item-num\">1.1&nbsp;&nbsp;</span>Вывод</a></span></li></ul></li><li><span><a href=\"#Обучение\" data-toc-modified-id=\"Обучение-2\"><span class=\"toc-item-num\">2&nbsp;&nbsp;</span>Обучение</a></span><ul class=\"toc-item\"><li><span><a href=\"#Логистическая-регрессия\" data-toc-modified-id=\"Логистическая-регрессия-2.1\"><span class=\"toc-item-num\">2.1&nbsp;&nbsp;</span>Логистическая регрессия</a></span></li><li><span><a href=\"#Дерево-решений\" data-toc-modified-id=\"Дерево-решений-2.2\"><span class=\"toc-item-num\">2.2&nbsp;&nbsp;</span>Дерево решений</a></span></li><li><span><a href=\"#Тестирование\" data-toc-modified-id=\"Тестирование-2.3\"><span class=\"toc-item-num\">2.3&nbsp;&nbsp;</span>Тестирование</a></span></li><li><span><a href=\"#Вывод\" data-toc-modified-id=\"Вывод-2.4\"><span class=\"toc-item-num\">2.4&nbsp;&nbsp;</span>Вывод</a></span></li></ul></li><li><span><a href=\"#Выводы\" data-toc-modified-id=\"Выводы-3\"><span class=\"toc-item-num\">3&nbsp;&nbsp;</span>Выводы</a></span></li><li><span><a href=\"#Чек-лист-проверки\" data-toc-modified-id=\"Чек-лист-проверки-4\"><span class=\"toc-item-num\">4&nbsp;&nbsp;</span>Чек-лист проверки</a></span></li></ul></div>"
   ]
  },
  {
   "cell_type": "markdown",
   "metadata": {},
   "source": [
    "# Проект для «Викишоп»"
   ]
  },
  {
   "cell_type": "markdown",
   "metadata": {},
   "source": [
    "Интернет-магазин «Викишоп» запускает новый сервис. Теперь пользователи могут редактировать и дополнять описания товаров, как в вики-сообществах. То есть клиенты предлагают свои правки и комментируют изменения других. Магазину нужен инструмент, который будет искать токсичные комментарии и отправлять их на модерацию. \n",
    "\n",
    "Обучите модель классифицировать комментарии на позитивные и негативные. В вашем распоряжении набор данных с разметкой о токсичности правок.\n",
    "\n",
    "Постройте модель со значением метрики качества *F1* не меньше 0.75. \n",
    "\n",
    "**Инструкция по выполнению проекта**\n",
    "\n",
    "1. Загрузите и подготовьте данные.\n",
    "2. Обучите разные модели. \n",
    "3. Сделайте выводы.\n",
    "\n",
    "Для выполнения проекта применять *BERT* необязательно, но вы можете попробовать.\n",
    "\n",
    "**Описание данных**\n",
    "\n",
    "Данные находятся в файле `toxic_comments.csv`. Столбец *text* в нём содержит текст комментария, а *toxic* — целевой признак."
   ]
  },
  {
   "cell_type": "markdown",
   "metadata": {},
   "source": [
    "## Подготовка"
   ]
  },
  {
   "cell_type": "markdown",
   "metadata": {},
   "source": [
    "Импортируем все необходимые библиотеки"
   ]
  },
  {
   "cell_type": "code",
   "execution_count": 1,
   "metadata": {},
   "outputs": [],
   "source": [
    "import warnings\n",
    "warnings.filterwarnings(\"ignore\")\n",
    "\n",
    "import pandas as pd\n",
    "import numpy as np\n",
    "\n",
    "import matplotlib.pyplot as plt\n",
    "import seaborn as sns\n",
    "\n",
    "from sklearn.model_selection import train_test_split, cross_val_score, GridSearchCV\n",
    "\n",
    "from sklearn.tree import DecisionTreeClassifier\n",
    "from sklearn.linear_model import LogisticRegression\n",
    "\n",
    "from sklearn.pipeline import Pipeline\n",
    "from sklearn.feature_extraction.text import TfidfVectorizer\n",
    "\n",
    "from sklearn.metrics import f1_score\n",
    "\n",
    "import re\n",
    "import nltk\n",
    "import spacy\n",
    "\n",
    "from nltk.stem.wordnet import WordNetLemmatizer\n",
    "from nltk.corpus import stopwords as nltk_stopwords\n",
    "from nltk.corpus import wordnet"
   ]
  },
  {
   "cell_type": "markdown",
   "metadata": {},
   "source": [
    "Запишем данные в переменную, посмотрим на несколько строк и выведим info"
   ]
  },
  {
   "cell_type": "code",
   "execution_count": 2,
   "metadata": {},
   "outputs": [],
   "source": [
    "data = pd.read_csv('/datasets/toxic_comments.csv')"
   ]
  },
  {
   "cell_type": "code",
   "execution_count": 3,
   "metadata": {},
   "outputs": [
    {
     "data": {
      "text/html": [
       "<div>\n",
       "<style scoped>\n",
       "    .dataframe tbody tr th:only-of-type {\n",
       "        vertical-align: middle;\n",
       "    }\n",
       "\n",
       "    .dataframe tbody tr th {\n",
       "        vertical-align: top;\n",
       "    }\n",
       "\n",
       "    .dataframe thead th {\n",
       "        text-align: right;\n",
       "    }\n",
       "</style>\n",
       "<table border=\"1\" class=\"dataframe\">\n",
       "  <thead>\n",
       "    <tr style=\"text-align: right;\">\n",
       "      <th></th>\n",
       "      <th>Unnamed: 0</th>\n",
       "      <th>text</th>\n",
       "      <th>toxic</th>\n",
       "    </tr>\n",
       "  </thead>\n",
       "  <tbody>\n",
       "    <tr>\n",
       "      <th>0</th>\n",
       "      <td>0</td>\n",
       "      <td>Explanation\\nWhy the edits made under my usern...</td>\n",
       "      <td>0</td>\n",
       "    </tr>\n",
       "    <tr>\n",
       "      <th>1</th>\n",
       "      <td>1</td>\n",
       "      <td>D'aww! He matches this background colour I'm s...</td>\n",
       "      <td>0</td>\n",
       "    </tr>\n",
       "    <tr>\n",
       "      <th>2</th>\n",
       "      <td>2</td>\n",
       "      <td>Hey man, I'm really not trying to edit war. It...</td>\n",
       "      <td>0</td>\n",
       "    </tr>\n",
       "    <tr>\n",
       "      <th>3</th>\n",
       "      <td>3</td>\n",
       "      <td>\"\\nMore\\nI can't make any real suggestions on ...</td>\n",
       "      <td>0</td>\n",
       "    </tr>\n",
       "    <tr>\n",
       "      <th>4</th>\n",
       "      <td>4</td>\n",
       "      <td>You, sir, are my hero. Any chance you remember...</td>\n",
       "      <td>0</td>\n",
       "    </tr>\n",
       "    <tr>\n",
       "      <th>5</th>\n",
       "      <td>5</td>\n",
       "      <td>\"\\n\\nCongratulations from me as well, use the ...</td>\n",
       "      <td>0</td>\n",
       "    </tr>\n",
       "    <tr>\n",
       "      <th>6</th>\n",
       "      <td>6</td>\n",
       "      <td>COCKSUCKER BEFORE YOU PISS AROUND ON MY WORK</td>\n",
       "      <td>1</td>\n",
       "    </tr>\n",
       "    <tr>\n",
       "      <th>7</th>\n",
       "      <td>7</td>\n",
       "      <td>Your vandalism to the Matt Shirvington article...</td>\n",
       "      <td>0</td>\n",
       "    </tr>\n",
       "    <tr>\n",
       "      <th>8</th>\n",
       "      <td>8</td>\n",
       "      <td>Sorry if the word 'nonsense' was offensive to ...</td>\n",
       "      <td>0</td>\n",
       "    </tr>\n",
       "    <tr>\n",
       "      <th>9</th>\n",
       "      <td>9</td>\n",
       "      <td>alignment on this subject and which are contra...</td>\n",
       "      <td>0</td>\n",
       "    </tr>\n",
       "  </tbody>\n",
       "</table>\n",
       "</div>"
      ],
      "text/plain": [
       "   Unnamed: 0                                               text  toxic\n",
       "0           0  Explanation\\nWhy the edits made under my usern...      0\n",
       "1           1  D'aww! He matches this background colour I'm s...      0\n",
       "2           2  Hey man, I'm really not trying to edit war. It...      0\n",
       "3           3  \"\\nMore\\nI can't make any real suggestions on ...      0\n",
       "4           4  You, sir, are my hero. Any chance you remember...      0\n",
       "5           5  \"\\n\\nCongratulations from me as well, use the ...      0\n",
       "6           6       COCKSUCKER BEFORE YOU PISS AROUND ON MY WORK      1\n",
       "7           7  Your vandalism to the Matt Shirvington article...      0\n",
       "8           8  Sorry if the word 'nonsense' was offensive to ...      0\n",
       "9           9  alignment on this subject and which are contra...      0"
      ]
     },
     "execution_count": 3,
     "metadata": {},
     "output_type": "execute_result"
    }
   ],
   "source": [
    "data.head(10)"
   ]
  },
  {
   "cell_type": "code",
   "execution_count": 4,
   "metadata": {},
   "outputs": [
    {
     "name": "stdout",
     "output_type": "stream",
     "text": [
      "<class 'pandas.core.frame.DataFrame'>\n",
      "RangeIndex: 159292 entries, 0 to 159291\n",
      "Data columns (total 3 columns):\n",
      " #   Column      Non-Null Count   Dtype \n",
      "---  ------      --------------   ----- \n",
      " 0   Unnamed: 0  159292 non-null  int64 \n",
      " 1   text        159292 non-null  object\n",
      " 2   toxic       159292 non-null  int64 \n",
      "dtypes: int64(2), object(1)\n",
      "memory usage: 3.6+ MB\n"
     ]
    }
   ],
   "source": [
    "data.info()"
   ]
  },
  {
   "cell_type": "markdown",
   "metadata": {},
   "source": [
    "Видим, что в датасете есть столбец \"Unnamed: 0\" которого нет в описании данных, удалим его. Отметим что нет пропусков в данных"
   ]
  },
  {
   "cell_type": "code",
   "execution_count": 5,
   "metadata": {},
   "outputs": [],
   "source": [
    "data = data.drop('Unnamed: 0', axis=1)"
   ]
  },
  {
   "cell_type": "markdown",
   "metadata": {},
   "source": [
    "Проверим на дубликаты"
   ]
  },
  {
   "cell_type": "code",
   "execution_count": 6,
   "metadata": {},
   "outputs": [
    {
     "data": {
      "text/plain": [
       "0"
      ]
     },
     "execution_count": 6,
     "metadata": {},
     "output_type": "execute_result"
    }
   ],
   "source": [
    "data.duplicated().sum()"
   ]
  },
  {
   "cell_type": "markdown",
   "metadata": {},
   "source": [
    "Теперь посмотрим как распределены классы целевого значения"
   ]
  },
  {
   "cell_type": "code",
   "execution_count": 7,
   "metadata": {},
   "outputs": [
    {
     "data": {
      "image/png": "[encoded data removed]",
      "text/plain": [
       "<Figure size 720x432 with 1 Axes>"
      ]
     },
     "metadata": {
      "needs_background": "light"
     },
     "output_type": "display_data"
    }
   ],
   "source": [
    "data['toxic'].value_counts().plot(kind='bar',title='Распределение токсичных комментариев', figsize=(10, 6));"
   ]
  },
  {
   "cell_type": "code",
   "execution_count": 8,
   "metadata": {},
   "outputs": [
    {
     "data": {
      "text/plain": [
       "0    0.898388\n",
       "1    0.101612\n",
       "Name: toxic, dtype: float64"
      ]
     },
     "execution_count": 8,
     "metadata": {},
     "output_type": "execute_result"
    }
   ],
   "source": [
    "data['toxic'].value_counts(normalize=True)"
   ]
  },
  {
   "cell_type": "markdown",
   "metadata": {},
   "source": [
    "Отмечаем явный дисбаланс классов, соотношение обычных комментариев к токсичным 9 к 1. Учтем это в дальнейшем при обучении моделей и разбиении данных на выборки\n",
    "\n",
    "Для дальнейшей работы с текстом проведем очистку от разных символов"
   ]
  },
  {
   "cell_type": "code",
   "execution_count": 9,
   "metadata": {},
   "outputs": [],
   "source": [
    "def clear_text(text):\n",
    "    \n",
    "    ct = re.sub(r'[^a-zA-Z]', ' ', text)\n",
    "    ct = ct.split()\n",
    "    ct = \" \".join(ct)\n",
    "    \n",
    "    return ct.lower()"
   ]
  },
  {
   "cell_type": "markdown",
   "metadata": {},
   "source": [
    "Проверим правильность работы"
   ]
  },
  {
   "cell_type": "code",
   "execution_count": 10,
   "metadata": {},
   "outputs": [],
   "source": [
    "data['text'] = data['text'].apply(clear_text)"
   ]
  },
  {
   "cell_type": "code",
   "execution_count": 11,
   "metadata": {},
   "outputs": [
    {
     "data": {
      "text/html": [
       "<div>\n",
       "<style scoped>\n",
       "    .dataframe tbody tr th:only-of-type {\n",
       "        vertical-align: middle;\n",
       "    }\n",
       "\n",
       "    .dataframe tbody tr th {\n",
       "        vertical-align: top;\n",
       "    }\n",
       "\n",
       "    .dataframe thead th {\n",
       "        text-align: right;\n",
       "    }\n",
       "</style>\n",
       "<table border=\"1\" class=\"dataframe\">\n",
       "  <thead>\n",
       "    <tr style=\"text-align: right;\">\n",
       "      <th></th>\n",
       "      <th>text</th>\n",
       "      <th>toxic</th>\n",
       "    </tr>\n",
       "  </thead>\n",
       "  <tbody>\n",
       "    <tr>\n",
       "      <th>0</th>\n",
       "      <td>explanation why the edits made under my userna...</td>\n",
       "      <td>0</td>\n",
       "    </tr>\n",
       "    <tr>\n",
       "      <th>1</th>\n",
       "      <td>d aww he matches this background colour i m se...</td>\n",
       "      <td>0</td>\n",
       "    </tr>\n",
       "    <tr>\n",
       "      <th>2</th>\n",
       "      <td>hey man i m really not trying to edit war it s...</td>\n",
       "      <td>0</td>\n",
       "    </tr>\n",
       "    <tr>\n",
       "      <th>3</th>\n",
       "      <td>more i can t make any real suggestions on impr...</td>\n",
       "      <td>0</td>\n",
       "    </tr>\n",
       "    <tr>\n",
       "      <th>4</th>\n",
       "      <td>you sir are my hero any chance you remember wh...</td>\n",
       "      <td>0</td>\n",
       "    </tr>\n",
       "  </tbody>\n",
       "</table>\n",
       "</div>"
      ],
      "text/plain": [
       "                                                text  toxic\n",
       "0  explanation why the edits made under my userna...      0\n",
       "1  d aww he matches this background colour i m se...      0\n",
       "2  hey man i m really not trying to edit war it s...      0\n",
       "3  more i can t make any real suggestions on impr...      0\n",
       "4  you sir are my hero any chance you remember wh...      0"
      ]
     },
     "execution_count": 11,
     "metadata": {},
     "output_type": "execute_result"
    }
   ],
   "source": [
    "data.head()"
   ]
  },
  {
   "cell_type": "markdown",
   "metadata": {},
   "source": [
    "Теперь лемматизируем наш текст"
   ]
  },
  {
   "cell_type": "code",
   "execution_count": 12,
   "metadata": {},
   "outputs": [],
   "source": [
    "nlp = spacy.load('en_core_web_sm')"
   ]
  },
  {
   "cell_type": "code",
   "execution_count": 13,
   "metadata": {},
   "outputs": [],
   "source": [
    "def lemmatize(text): \n",
    "      \n",
    "    lemm = nlp(text) \n",
    "    lemm = \" \".join([token.lemma_ for token in lemm])  \n",
    "    return \" \".join(lemm.split())"
   ]
  },
  {
   "cell_type": "markdown",
   "metadata": {},
   "source": [
    "Проверим правильность работы"
   ]
  },
  {
   "cell_type": "code",
   "execution_count": 14,
   "metadata": {},
   "outputs": [],
   "source": [
    "data['text'] = data['text'].apply(lemmatize)"
   ]
  },
  {
   "cell_type": "code",
   "execution_count": 15,
   "metadata": {
    "scrolled": true
   },
   "outputs": [
    {
     "data": {
      "text/html": [
       "<div>\n",
       "<style scoped>\n",
       "    .dataframe tbody tr th:only-of-type {\n",
       "        vertical-align: middle;\n",
       "    }\n",
       "\n",
       "    .dataframe tbody tr th {\n",
       "        vertical-align: top;\n",
       "    }\n",
       "\n",
       "    .dataframe thead th {\n",
       "        text-align: right;\n",
       "    }\n",
       "</style>\n",
       "<table border=\"1\" class=\"dataframe\">\n",
       "  <thead>\n",
       "    <tr style=\"text-align: right;\">\n",
       "      <th></th>\n",
       "      <th>text</th>\n",
       "      <th>toxic</th>\n",
       "    </tr>\n",
       "  </thead>\n",
       "  <tbody>\n",
       "    <tr>\n",
       "      <th>0</th>\n",
       "      <td>explanation why the edit make under my usernam...</td>\n",
       "      <td>0</td>\n",
       "    </tr>\n",
       "    <tr>\n",
       "      <th>1</th>\n",
       "      <td>d aww he match this background colour I m seem...</td>\n",
       "      <td>0</td>\n",
       "    </tr>\n",
       "    <tr>\n",
       "      <th>2</th>\n",
       "      <td>hey man I m really not try to edit war it s ju...</td>\n",
       "      <td>0</td>\n",
       "    </tr>\n",
       "    <tr>\n",
       "      <th>3</th>\n",
       "      <td>more I can t make any real suggestion on impro...</td>\n",
       "      <td>0</td>\n",
       "    </tr>\n",
       "    <tr>\n",
       "      <th>4</th>\n",
       "      <td>you sir be my hero any chance you remember wha...</td>\n",
       "      <td>0</td>\n",
       "    </tr>\n",
       "  </tbody>\n",
       "</table>\n",
       "</div>"
      ],
      "text/plain": [
       "                                                text  toxic\n",
       "0  explanation why the edit make under my usernam...      0\n",
       "1  d aww he match this background colour I m seem...      0\n",
       "2  hey man I m really not try to edit war it s ju...      0\n",
       "3  more I can t make any real suggestion on impro...      0\n",
       "4  you sir be my hero any chance you remember wha...      0"
      ]
     },
     "execution_count": 15,
     "metadata": {},
     "output_type": "execute_result"
    }
   ],
   "source": [
    "data.head()"
   ]
  },
  {
   "cell_type": "markdown",
   "metadata": {},
   "source": [
    "Очистка текста и лемматизация сработали как надо"
   ]
  },
  {
   "cell_type": "markdown",
   "metadata": {},
   "source": [
    "### Вывод"
   ]
  },
  {
   "cell_type": "markdown",
   "metadata": {},
   "source": [
    "Мы ознакомились с датафреймом, отметили его особенности для дальнейшей работы. В ходе проверки, мы обнаружили и удалили аномальный столбец 'Unnamed: 0' и проверили на наличие дубликатов. Нами был исследован баланс классов, заметен явный дисбаланс, соотношение обычных комментариев к токсичным 9 к 1, обработкой дисбаланса займемся в следующем шаге. Функции лемматизации и очистки работают исправно."
   ]
  },
  {
   "cell_type": "markdown",
   "metadata": {},
   "source": [
    "## Обучение"
   ]
  },
  {
   "cell_type": "markdown",
   "metadata": {},
   "source": [
    "Перед началом обучения моделей нам необходимо разбить данные на обучающую и тестовую выборки в соотношении 9:1, те 90 и 10 в процентах. Также укажем параметр stratify, чтобы баланс(дисбаланс =) ) классов не нарушился"
   ]
  },
  {
   "cell_type": "code",
   "execution_count": 16,
   "metadata": {},
   "outputs": [],
   "source": [
    "train, test = train_test_split(data, test_size=0.1, random_state=5432, stratify=data['toxic'])"
   ]
  },
  {
   "cell_type": "markdown",
   "metadata": {},
   "source": [
    "Проверим, все ли нормально"
   ]
  },
  {
   "cell_type": "code",
   "execution_count": 17,
   "metadata": {},
   "outputs": [
    {
     "name": "stdout",
     "output_type": "stream",
     "text": [
      "(143362, 2)\n",
      "\n",
      "0    0.89839\n",
      "1    0.10161\n",
      "Name: toxic, dtype: float64\n",
      "-----------------------------------------------\n",
      "\n",
      "(15930, 2)\n",
      "\n",
      "0    0.898368\n",
      "1    0.101632\n",
      "Name: toxic, dtype: float64\n",
      "-----------------------------------------------\n",
      "\n"
     ]
    }
   ],
   "source": [
    "for i in [train, test]:\n",
    "    print(i.shape)\n",
    "    print()\n",
    "    print(i['toxic'].value_counts(normalize=True))\n",
    "    print('-----------------------------------------------')\n",
    "    print()"
   ]
  },
  {
   "cell_type": "markdown",
   "metadata": {},
   "source": [
    "Создадим переменные для признаков и целевого признака для всех 3 выборок"
   ]
  },
  {
   "cell_type": "code",
   "execution_count": 18,
   "metadata": {},
   "outputs": [],
   "source": [
    "features_train = train.drop('toxic', axis=1)\n",
    "target_train = train['toxic']"
   ]
  },
  {
   "cell_type": "code",
   "execution_count": 19,
   "metadata": {},
   "outputs": [],
   "source": [
    "features_test = test.drop('toxic', axis=1)\n",
    "target_test = test['toxic']"
   ]
  },
  {
   "cell_type": "markdown",
   "metadata": {},
   "source": [
    "С дисбалансом данных бороться решили путем добавления гиперпараметра class_weight=\"balanced\" в модели обучения, векторизацию и и удаление стоп слов проведем в пайплайне. Можно обучать модели"
   ]
  },
  {
   "cell_type": "markdown",
   "metadata": {},
   "source": [
    "### Логистическая регрессия"
   ]
  },
  {
   "cell_type": "markdown",
   "metadata": {},
   "source": [
    "Для начала уберем ошибку разделения, она мешает обучать модели"
   ]
  },
  {
   "cell_type": "code",
   "execution_count": 20,
   "metadata": {},
   "outputs": [],
   "source": [
    "features_train = features_train.text"
   ]
  },
  {
   "cell_type": "markdown",
   "metadata": {},
   "source": [
    "Напишем пайплайн"
   ]
  },
  {
   "cell_type": "code",
   "execution_count": 21,
   "metadata": {},
   "outputs": [],
   "source": [
    "pipeline_lr = Pipeline([(\"vect\", TfidfVectorizer(stop_words='english', sublinear_tf=True)), \n",
    "                        (\"lr\", LogisticRegression())]\n",
    "                      )"
   ]
  },
  {
   "cell_type": "markdown",
   "metadata": {},
   "source": [
    "Напишем параметры гридсёрча"
   ]
  },
  {
   "cell_type": "code",
   "execution_count": 22,
   "metadata": {},
   "outputs": [],
   "source": [
    "parameters_lr = {'lr__C': (1, 5, 10),\n",
    "              'lr__random_state': ([5432]),\n",
    "              'lr__class_weight': (['balanced'])\n",
    "                }"
   ]
  },
  {
   "cell_type": "markdown",
   "metadata": {},
   "source": [
    "Обучим модель и выведим результаты"
   ]
  },
  {
   "cell_type": "code",
   "execution_count": 23,
   "metadata": {
    "scrolled": true
   },
   "outputs": [
    {
     "name": "stdout",
     "output_type": "stream",
     "text": [
      "Лучший показатель метрики F1 на кросс-валидации = 0.77\n",
      "\n",
      "Гиперпараметры лучшей модели {'lr__C': 10, 'lr__class_weight': 'balanced', 'lr__random_state': 5432}\n",
      "\n",
      "CPU times: user 4min 25s, sys: 4min 18s, total: 8min 44s\n",
      "Wall time: 8min 45s\n"
     ]
    }
   ],
   "source": [
    "%%time\n",
    "\n",
    "grid_lr = GridSearchCV(pipeline_lr, parameters_lr, scoring='f1', cv=3, n_jobs=-1)\n",
    "grid_lr.fit(features_train, target_train)\n",
    "\n",
    "print('Лучший показатель метрики F1 на кросс-валидации =', round(grid_lr.best_score_, 2))\n",
    "print()\n",
    "print('Гиперпараметры лучшей модели', grid_lr.best_params_)\n",
    "print()"
   ]
  },
  {
   "cell_type": "markdown",
   "metadata": {},
   "source": [
    "### Дерево решений"
   ]
  },
  {
   "cell_type": "markdown",
   "metadata": {},
   "source": [
    "Повторим все действия из предыдущего пункта"
   ]
  },
  {
   "cell_type": "code",
   "execution_count": 24,
   "metadata": {},
   "outputs": [],
   "source": [
    "pipeline_dtс = Pipeline([(\"vect\", TfidfVectorizer(stop_words='english', sublinear_tf=True)), \n",
    "                        (\"dtc\", DecisionTreeClassifier())]\n",
    "                      )"
   ]
  },
  {
   "cell_type": "code",
   "execution_count": 25,
   "metadata": {},
   "outputs": [],
   "source": [
    "parameters_dtс = {'dtc__max_depth': (range(1, 11, 2)),\n",
    "              'dtc__random_state': ([5432]), \n",
    "              'dtc__class_weight': (['balanced'])}"
   ]
  },
  {
   "cell_type": "code",
   "execution_count": 26,
   "metadata": {},
   "outputs": [
    {
     "name": "stdout",
     "output_type": "stream",
     "text": [
      "Лучший показатель метрики F1 на кросс-валидации = 0.57\n",
      "\n",
      "Гиперпараметры лучшей модели {'dtc__class_weight': 'balanced', 'dtc__max_depth': 9, 'dtc__random_state': 5432}\n",
      "\n",
      "CPU times: user 2min 22s, sys: 255 ms, total: 2min 22s\n",
      "Wall time: 2min 22s\n"
     ]
    }
   ],
   "source": [
    "%%time\n",
    "\n",
    "grid_dtс = GridSearchCV(pipeline_dtс, parameters_dtс, scoring='f1', cv=3, n_jobs=-1)\n",
    "grid_dtс.fit(features_train, target_train)\n",
    "\n",
    "print('Лучший показатель метрики F1 на кросс-валидации =', round(grid_dtс.best_score_, 2))\n",
    "print()\n",
    "print('Гиперпараметры лучшей модели', grid_dtс.best_params_)\n",
    "print()"
   ]
  },
  {
   "cell_type": "markdown",
   "metadata": {},
   "source": [
    "### Тестирование"
   ]
  },
  {
   "cell_type": "markdown",
   "metadata": {},
   "source": [
    "Выведем результаты обучения моделей в таблице для наглядности"
   ]
  },
  {
   "cell_type": "code",
   "execution_count": 27,
   "metadata": {},
   "outputs": [
    {
     "data": {
      "text/html": [
       "<div>\n",
       "<style scoped>\n",
       "    .dataframe tbody tr th:only-of-type {\n",
       "        vertical-align: middle;\n",
       "    }\n",
       "\n",
       "    .dataframe tbody tr th {\n",
       "        vertical-align: top;\n",
       "    }\n",
       "\n",
       "    .dataframe thead th {\n",
       "        text-align: right;\n",
       "    }\n",
       "</style>\n",
       "<table border=\"1\" class=\"dataframe\">\n",
       "  <thead>\n",
       "    <tr style=\"text-align: right;\">\n",
       "      <th></th>\n",
       "      <th>F1</th>\n",
       "    </tr>\n",
       "  </thead>\n",
       "  <tbody>\n",
       "    <tr>\n",
       "      <th>LogisticRegression</th>\n",
       "      <td>0.77</td>\n",
       "    </tr>\n",
       "    <tr>\n",
       "      <th>DecisionTreeClassifier</th>\n",
       "      <td>0.57</td>\n",
       "    </tr>\n",
       "  </tbody>\n",
       "</table>\n",
       "</div>"
      ],
      "text/plain": [
       "                          F1\n",
       "LogisticRegression      0.77\n",
       "DecisionTreeClassifier  0.57"
      ]
     },
     "execution_count": 27,
     "metadata": {},
     "output_type": "execute_result"
    }
   ],
   "source": [
    "data_models = pd.DataFrame(\n",
    "    [round(grid_lr.best_score_, 2), round(grid_dtс.best_score_, 2)], \n",
    "     index=['LogisticRegression', 'DecisionTreeClassifier'], \n",
    "     columns=['F1']\n",
    ")\n",
    "data_models"
   ]
  },
  {
   "cell_type": "markdown",
   "metadata": {},
   "source": [
    "Лучше на обучающей выборке показала себя модель логистической регресси, ее мы и возьмем для тестирования.\n",
    "\n",
    "Для начала уберем ошибку разделения, она мешает обучать модели"
   ]
  },
  {
   "cell_type": "code",
   "execution_count": 28,
   "metadata": {},
   "outputs": [],
   "source": [
    "features_test = features_test.text"
   ]
  },
  {
   "cell_type": "markdown",
   "metadata": {},
   "source": [
    "Теперь обучим предсказание и выведим результат метрики"
   ]
  },
  {
   "cell_type": "code",
   "execution_count": 29,
   "metadata": {},
   "outputs": [
    {
     "name": "stdout",
     "output_type": "stream",
     "text": [
      "Метрика F1 на тестовой выборке = 0.76\n"
     ]
    }
   ],
   "source": [
    "pred = grid_lr.predict(features_test)\n",
    "f1 = f1_score(target_test, pred)\n",
    "print('Метрика F1 на тестовой выборке =', round(f1, 2))"
   ]
  },
  {
   "cell_type": "markdown",
   "metadata": {},
   "source": [
    "Значение метрики удовлетворяет поставленной задаче в значении не меньше 75."
   ]
  },
  {
   "cell_type": "markdown",
   "metadata": {},
   "source": [
    "### Вывод"
   ]
  },
  {
   "cell_type": "markdown",
   "metadata": {},
   "source": [
    "До обучения моделей мы разбили наши данные на обучающую и тестовую выборки в соотношении 9:1, те 90 и 10 в процентах,а после мы создали переменные для моделей.\n",
    "\n",
    "Обучение моделей показало, что лучший результат метрики F1 показывает логистической регресси, на ней мы провели тестирование в ходе которого значение метрики F1 = 0.76, что удовлетворяет заданию."
   ]
  },
  {
   "cell_type": "markdown",
   "metadata": {},
   "source": [
    "## Выводы"
   ]
  },
  {
   "cell_type": "markdown",
   "metadata": {},
   "source": [
    "В ходе работы были мы ознакомились с датафреймом для дальнейшей работы, отметили его особенноси, проверили на дубликаты, удалили аномальный столбец 'Unnamed: 0'. Исследование баланса классов показало наличие сильного \"скоса\", нейтральных комментариев больше, чем токсичных в 9 раз, исправить это мы решили с помощью гиперпараметра class_weight = \"balanced\" который мы применили во время обучения моделей. Так же мы \"упрастили\" текст лемметизацией, очистили его от разного рода символов и привели к нижнему регистру для удобства.\n",
    "\n",
    "Перед обучением моделей мы разбили наши данные на две выборки:обучающую и тестовую, а затем разбили их на признаки и целевой признак, проверили их, чтобы дисбаланс не нарушился, ткже исправили ошибки разделения.\n",
    "\n",
    "Само обучение показало, что наилучший результат логистической регрессии F1 = 0.77 достигается при 'lr__C': 5, а лучший результат дерева решений F1 = 0.55 при 'dtc__max_depth': 9. Можно заметить, что результат метрики у последней модели ниже, из этого можно выдвинуть гипотезу, что \"деревянные\" модели работают с текстами не лучшим образом.\n",
    "\n",
    "Для тестирования мы выбрали логистическую регрессию и результатом является метрика F1 = 0.76, что удовлетворяет поставленной задачи в достижении значения метрики большей или равной 0.75, те обученная нами модель работает на должном уровне"
   ]
  },
  {
   "cell_type": "code",
   "execution_count": null,
   "metadata": {},
   "outputs": [],
   "source": []
  }
 ],
 "metadata": {
  "ExecuteTimeLog": [
   {
    "duration": 1474,
    "start_time": "2023-04-18T12:49:26.109Z"
   },
   {
    "duration": 157,
    "start_time": "2023-04-18T13:08:06.213Z"
   },
   {
    "duration": 2881,
    "start_time": "2023-04-18T13:08:15.253Z"
   },
   {
    "duration": 17,
    "start_time": "2023-04-18T13:08:22.815Z"
   },
   {
    "duration": 11,
    "start_time": "2023-04-18T13:08:47.846Z"
   },
   {
    "duration": 39,
    "start_time": "2023-04-18T13:08:52.312Z"
   },
   {
    "duration": 2697,
    "start_time": "2023-04-18T13:10:08.508Z"
   },
   {
    "duration": 1234,
    "start_time": "2023-04-18T13:10:11.207Z"
   },
   {
    "duration": 39,
    "start_time": "2023-04-18T13:10:12.443Z"
   },
   {
    "duration": 66,
    "start_time": "2023-04-18T13:10:12.485Z"
   },
   {
    "duration": 1309,
    "start_time": "2023-04-18T13:16:45.926Z"
   },
   {
    "duration": 949,
    "start_time": "2023-04-18T13:16:50.330Z"
   },
   {
    "duration": 13,
    "start_time": "2023-04-18T13:16:52.004Z"
   },
   {
    "duration": 33,
    "start_time": "2023-04-18T13:16:54.602Z"
   },
   {
    "duration": 8,
    "start_time": "2023-04-18T13:17:20.131Z"
   },
   {
    "duration": 7,
    "start_time": "2023-04-18T13:17:45.451Z"
   },
   {
    "duration": 12,
    "start_time": "2023-04-18T13:20:24.799Z"
   },
   {
    "duration": 30,
    "start_time": "2023-04-18T13:20:28.065Z"
   },
   {
    "duration": 224,
    "start_time": "2023-04-18T13:21:33.370Z"
   },
   {
    "duration": 208,
    "start_time": "2023-04-18T13:27:07.397Z"
   },
   {
    "duration": 124,
    "start_time": "2023-04-18T13:48:39.948Z"
   },
   {
    "duration": 131,
    "start_time": "2023-04-18T13:50:10.926Z"
   },
   {
    "duration": 123,
    "start_time": "2023-04-18T13:50:44.491Z"
   },
   {
    "duration": 8,
    "start_time": "2023-04-18T13:51:24.918Z"
   },
   {
    "duration": 4,
    "start_time": "2023-04-18T13:58:58.526Z"
   },
   {
    "duration": 3,
    "start_time": "2023-04-18T14:13:25.416Z"
   },
   {
    "duration": 4001,
    "start_time": "2023-04-18T14:13:49.321Z"
   },
   {
    "duration": 7,
    "start_time": "2023-04-18T14:14:05.393Z"
   },
   {
    "duration": 1243,
    "start_time": "2023-04-18T14:39:46.074Z"
   },
   {
    "duration": 3,
    "start_time": "2023-04-18T14:41:17.339Z"
   },
   {
    "duration": 3,
    "start_time": "2023-04-18T14:42:19.225Z"
   },
   {
    "duration": 128,
    "start_time": "2023-04-18T14:42:45.781Z"
   },
   {
    "duration": 2945,
    "start_time": "2023-04-18T14:42:54.785Z"
   },
   {
    "duration": 8,
    "start_time": "2023-04-18T14:42:59.901Z"
   },
   {
    "duration": 4,
    "start_time": "2023-04-18T14:44:32.430Z"
   },
   {
    "duration": 1663,
    "start_time": "2023-04-18T14:44:43.327Z"
   },
   {
    "duration": 8,
    "start_time": "2023-04-18T14:44:46.426Z"
   },
   {
    "duration": 1746,
    "start_time": "2023-04-18T16:31:43.867Z"
   },
   {
    "duration": 3428,
    "start_time": "2023-04-18T16:31:45.615Z"
   },
   {
    "duration": 9,
    "start_time": "2023-04-18T16:31:49.045Z"
   },
   {
    "duration": 27,
    "start_time": "2023-04-18T16:31:49.056Z"
   },
   {
    "duration": 13,
    "start_time": "2023-04-18T16:31:49.084Z"
   },
   {
    "duration": 210,
    "start_time": "2023-04-18T16:31:49.098Z"
   },
   {
    "duration": 197,
    "start_time": "2023-04-18T16:31:49.309Z"
   },
   {
    "duration": 6,
    "start_time": "2023-04-18T16:31:49.508Z"
   },
   {
    "duration": 9,
    "start_time": "2023-04-18T16:31:49.516Z"
   },
   {
    "duration": 3263,
    "start_time": "2023-04-18T16:31:49.527Z"
   },
   {
    "duration": 7,
    "start_time": "2023-04-18T16:31:52.791Z"
   },
   {
    "duration": 4,
    "start_time": "2023-04-18T16:31:52.799Z"
   },
   {
    "duration": 5,
    "start_time": "2023-04-18T16:31:52.804Z"
   },
   {
    "duration": 2345,
    "start_time": "2023-04-18T16:31:52.810Z"
   },
   {
    "duration": 7,
    "start_time": "2023-04-18T16:31:55.156Z"
   },
   {
    "duration": 1404,
    "start_time": "2023-04-18T16:38:16.224Z"
   },
   {
    "duration": 669,
    "start_time": "2023-04-18T16:38:17.630Z"
   },
   {
    "duration": 11,
    "start_time": "2023-04-18T16:38:18.300Z"
   },
   {
    "duration": 28,
    "start_time": "2023-04-18T16:38:18.312Z"
   },
   {
    "duration": 9,
    "start_time": "2023-04-18T16:38:18.342Z"
   },
   {
    "duration": 216,
    "start_time": "2023-04-18T16:38:18.352Z"
   },
   {
    "duration": 204,
    "start_time": "2023-04-18T16:38:18.570Z"
   },
   {
    "duration": 19,
    "start_time": "2023-04-18T16:38:18.776Z"
   },
   {
    "duration": 3,
    "start_time": "2023-04-18T16:38:18.797Z"
   },
   {
    "duration": 3329,
    "start_time": "2023-04-18T16:38:18.802Z"
   },
   {
    "duration": 7,
    "start_time": "2023-04-18T16:38:22.133Z"
   },
   {
    "duration": 3,
    "start_time": "2023-04-18T16:38:22.142Z"
   },
   {
    "duration": 4,
    "start_time": "2023-04-18T16:38:22.147Z"
   },
   {
    "duration": 2351,
    "start_time": "2023-04-18T16:38:22.153Z"
   },
   {
    "duration": 7,
    "start_time": "2023-04-18T16:38:24.506Z"
   },
   {
    "duration": 1473,
    "start_time": "2023-04-18T16:44:07.102Z"
   },
   {
    "duration": 743,
    "start_time": "2023-04-18T16:44:08.577Z"
   },
   {
    "duration": 11,
    "start_time": "2023-04-18T16:44:09.321Z"
   },
   {
    "duration": 43,
    "start_time": "2023-04-18T16:44:09.334Z"
   },
   {
    "duration": 10,
    "start_time": "2023-04-18T16:44:09.378Z"
   },
   {
    "duration": 219,
    "start_time": "2023-04-18T16:44:09.393Z"
   },
   {
    "duration": 218,
    "start_time": "2023-04-18T16:44:09.614Z"
   },
   {
    "duration": 6,
    "start_time": "2023-04-18T16:44:09.834Z"
   },
   {
    "duration": 11,
    "start_time": "2023-04-18T16:44:09.842Z"
   },
   {
    "duration": 3367,
    "start_time": "2023-04-18T16:44:09.855Z"
   },
   {
    "duration": 8,
    "start_time": "2023-04-18T16:44:13.223Z"
   },
   {
    "duration": 8,
    "start_time": "2023-04-18T16:44:13.233Z"
   },
   {
    "duration": 8,
    "start_time": "2023-04-18T16:44:13.242Z"
   },
   {
    "duration": 331,
    "start_time": "2023-04-18T16:44:13.251Z"
   },
   {
    "duration": 0,
    "start_time": "2023-04-18T16:44:13.584Z"
   },
   {
    "duration": 3,
    "start_time": "2023-04-18T16:44:52.717Z"
   },
   {
    "duration": 1464,
    "start_time": "2023-04-18T16:44:58.521Z"
   },
   {
    "duration": 751,
    "start_time": "2023-04-18T16:44:59.987Z"
   },
   {
    "duration": 11,
    "start_time": "2023-04-18T16:45:00.740Z"
   },
   {
    "duration": 77,
    "start_time": "2023-04-18T16:45:00.753Z"
   },
   {
    "duration": 44,
    "start_time": "2023-04-18T16:45:00.832Z"
   },
   {
    "duration": 246,
    "start_time": "2023-04-18T16:45:00.878Z"
   },
   {
    "duration": 232,
    "start_time": "2023-04-18T16:45:01.126Z"
   },
   {
    "duration": 8,
    "start_time": "2023-04-18T16:45:01.359Z"
   },
   {
    "duration": 66,
    "start_time": "2023-04-18T16:45:01.368Z"
   },
   {
    "duration": 3391,
    "start_time": "2023-04-18T16:45:01.436Z"
   },
   {
    "duration": 7,
    "start_time": "2023-04-18T16:45:04.828Z"
   },
   {
    "duration": 9,
    "start_time": "2023-04-18T16:45:04.836Z"
   },
   {
    "duration": 15,
    "start_time": "2023-04-18T16:45:04.847Z"
   },
   {
    "duration": 69378,
    "start_time": "2023-04-18T16:45:04.864Z"
   },
   {
    "duration": 8,
    "start_time": "2023-04-18T16:46:14.244Z"
   },
   {
    "duration": 30,
    "start_time": "2023-04-18T16:48:08.845Z"
   },
   {
    "duration": 6,
    "start_time": "2023-04-18T16:48:48.014Z"
   },
   {
    "duration": 158,
    "start_time": "2023-04-18T16:49:11.337Z"
   },
   {
    "duration": 7,
    "start_time": "2023-04-18T16:57:51.362Z"
   },
   {
    "duration": 1366,
    "start_time": "2023-04-18T16:58:29.447Z"
   },
   {
    "duration": 721,
    "start_time": "2023-04-18T16:58:30.815Z"
   },
   {
    "duration": 10,
    "start_time": "2023-04-18T16:58:31.539Z"
   },
   {
    "duration": 72,
    "start_time": "2023-04-18T16:58:31.551Z"
   },
   {
    "duration": 28,
    "start_time": "2023-04-18T16:58:31.625Z"
   },
   {
    "duration": 244,
    "start_time": "2023-04-18T16:58:31.654Z"
   },
   {
    "duration": 194,
    "start_time": "2023-04-18T16:58:31.900Z"
   },
   {
    "duration": 7,
    "start_time": "2023-04-18T16:58:32.096Z"
   },
   {
    "duration": 3,
    "start_time": "2023-04-18T16:58:32.105Z"
   },
   {
    "duration": 3305,
    "start_time": "2023-04-18T16:58:32.109Z"
   },
   {
    "duration": 8,
    "start_time": "2023-04-18T16:58:35.416Z"
   },
   {
    "duration": 5,
    "start_time": "2023-04-18T16:58:35.426Z"
   },
   {
    "duration": 5,
    "start_time": "2023-04-18T16:58:35.433Z"
   },
   {
    "duration": 69265,
    "start_time": "2023-04-18T16:58:35.440Z"
   },
   {
    "duration": 6,
    "start_time": "2023-04-18T16:59:44.707Z"
   },
   {
    "duration": 118,
    "start_time": "2023-04-18T17:50:18.924Z"
   },
   {
    "duration": 22,
    "start_time": "2023-04-18T17:51:02.414Z"
   },
   {
    "duration": 60,
    "start_time": "2023-04-18T17:51:07.476Z"
   },
   {
    "duration": 86,
    "start_time": "2023-04-18T17:51:58.314Z"
   },
   {
    "duration": 9,
    "start_time": "2023-04-18T17:52:01.479Z"
   },
   {
    "duration": 506,
    "start_time": "2023-04-18T17:55:32.196Z"
   },
   {
    "duration": 6,
    "start_time": "2023-04-18T17:55:51.505Z"
   },
   {
    "duration": 6,
    "start_time": "2023-04-18T17:56:02.817Z"
   },
   {
    "duration": 9,
    "start_time": "2023-04-18T18:00:03.519Z"
   },
   {
    "duration": 43,
    "start_time": "2023-04-18T18:00:40.808Z"
   },
   {
    "duration": 47,
    "start_time": "2023-04-18T18:00:44.903Z"
   },
   {
    "duration": 9,
    "start_time": "2023-04-18T18:01:58.039Z"
   },
   {
    "duration": 8,
    "start_time": "2023-04-18T18:02:03.407Z"
   },
   {
    "duration": 12,
    "start_time": "2023-04-18T18:02:07.023Z"
   },
   {
    "duration": 9,
    "start_time": "2023-04-18T18:02:14.817Z"
   },
   {
    "duration": 11,
    "start_time": "2023-04-18T18:02:24.007Z"
   },
   {
    "duration": 10,
    "start_time": "2023-04-18T18:02:59.542Z"
   },
   {
    "duration": 1538,
    "start_time": "2023-04-18T18:03:34.704Z"
   },
   {
    "duration": 702,
    "start_time": "2023-04-18T18:03:36.244Z"
   },
   {
    "duration": 11,
    "start_time": "2023-04-18T18:03:36.947Z"
   },
   {
    "duration": 43,
    "start_time": "2023-04-18T18:03:36.959Z"
   },
   {
    "duration": 10,
    "start_time": "2023-04-18T18:03:37.004Z"
   },
   {
    "duration": 234,
    "start_time": "2023-04-18T18:03:37.016Z"
   },
   {
    "duration": 124,
    "start_time": "2023-04-18T18:03:37.252Z"
   },
   {
    "duration": 7,
    "start_time": "2023-04-18T18:03:37.377Z"
   },
   {
    "duration": 3,
    "start_time": "2023-04-18T18:03:37.394Z"
   },
   {
    "duration": 3633,
    "start_time": "2023-04-18T18:03:37.398Z"
   },
   {
    "duration": 6,
    "start_time": "2023-04-18T18:03:41.033Z"
   },
   {
    "duration": 4,
    "start_time": "2023-04-18T18:03:41.041Z"
   },
   {
    "duration": 4,
    "start_time": "2023-04-18T18:03:41.046Z"
   },
   {
    "duration": 75809,
    "start_time": "2023-04-18T18:03:41.052Z"
   },
   {
    "duration": 7,
    "start_time": "2023-04-18T18:04:56.862Z"
   },
   {
    "duration": 69,
    "start_time": "2023-04-18T18:04:56.871Z"
   },
   {
    "duration": 130,
    "start_time": "2023-04-18T18:04:56.941Z"
   },
   {
    "duration": 0,
    "start_time": "2023-04-18T18:04:57.073Z"
   },
   {
    "duration": 22,
    "start_time": "2023-04-18T18:05:42.413Z"
   },
   {
    "duration": 14,
    "start_time": "2023-04-18T18:05:55.542Z"
   },
   {
    "duration": 12,
    "start_time": "2023-04-18T18:05:58.630Z"
   },
   {
    "duration": 17,
    "start_time": "2023-04-18T18:06:30.345Z"
   },
   {
    "duration": 6,
    "start_time": "2023-04-18T18:06:30.774Z"
   },
   {
    "duration": 7,
    "start_time": "2023-04-18T18:06:31.045Z"
   },
   {
    "duration": 1509,
    "start_time": "2023-04-18T18:25:31.518Z"
   },
   {
    "duration": 704,
    "start_time": "2023-04-18T18:25:33.029Z"
   },
   {
    "duration": 10,
    "start_time": "2023-04-18T18:25:33.735Z"
   },
   {
    "duration": 47,
    "start_time": "2023-04-18T18:25:33.747Z"
   },
   {
    "duration": 11,
    "start_time": "2023-04-18T18:25:33.796Z"
   },
   {
    "duration": 231,
    "start_time": "2023-04-18T18:25:33.809Z"
   },
   {
    "duration": 171,
    "start_time": "2023-04-18T18:25:34.042Z"
   },
   {
    "duration": 8,
    "start_time": "2023-04-18T18:25:34.215Z"
   },
   {
    "duration": 4,
    "start_time": "2023-04-18T18:25:34.225Z"
   },
   {
    "duration": 3431,
    "start_time": "2023-04-18T18:25:34.232Z"
   },
   {
    "duration": 7,
    "start_time": "2023-04-18T18:25:37.665Z"
   },
   {
    "duration": 5,
    "start_time": "2023-04-18T18:25:37.673Z"
   },
   {
    "duration": 4,
    "start_time": "2023-04-18T18:25:37.679Z"
   },
   {
    "duration": 70175,
    "start_time": "2023-04-18T18:25:37.694Z"
   },
   {
    "duration": 6,
    "start_time": "2023-04-18T18:26:47.871Z"
   },
   {
    "duration": 61,
    "start_time": "2023-04-18T18:26:47.879Z"
   },
   {
    "duration": 8,
    "start_time": "2023-04-18T18:26:47.941Z"
   },
   {
    "duration": 11,
    "start_time": "2023-04-18T18:26:47.950Z"
   },
   {
    "duration": 10,
    "start_time": "2023-04-18T18:26:47.962Z"
   },
   {
    "duration": 9,
    "start_time": "2023-04-18T20:30:04.638Z"
   },
   {
    "duration": 1765,
    "start_time": "2023-04-18T20:30:19.712Z"
   },
   {
    "duration": 3593,
    "start_time": "2023-04-18T20:30:21.479Z"
   },
   {
    "duration": 12,
    "start_time": "2023-04-18T20:30:25.073Z"
   },
   {
    "duration": 66,
    "start_time": "2023-04-18T20:30:25.086Z"
   },
   {
    "duration": 22,
    "start_time": "2023-04-18T20:30:25.154Z"
   },
   {
    "duration": 241,
    "start_time": "2023-04-18T20:30:25.178Z"
   },
   {
    "duration": 141,
    "start_time": "2023-04-18T20:30:25.425Z"
   },
   {
    "duration": 9,
    "start_time": "2023-04-18T20:30:25.568Z"
   },
   {
    "duration": 7,
    "start_time": "2023-04-18T20:30:25.579Z"
   },
   {
    "duration": 4181,
    "start_time": "2023-04-18T20:30:25.588Z"
   },
   {
    "duration": 6,
    "start_time": "2023-04-18T20:30:29.771Z"
   },
   {
    "duration": 6,
    "start_time": "2023-04-18T20:30:29.779Z"
   },
   {
    "duration": 5,
    "start_time": "2023-04-18T20:30:29.786Z"
   },
   {
    "duration": 80351,
    "start_time": "2023-04-18T20:30:29.793Z"
   },
   {
    "duration": 6,
    "start_time": "2023-04-18T20:31:50.146Z"
   },
   {
    "duration": 71,
    "start_time": "2023-04-18T20:31:50.154Z"
   },
   {
    "duration": 8,
    "start_time": "2023-04-18T20:31:50.227Z"
   },
   {
    "duration": 12,
    "start_time": "2023-04-18T20:31:50.236Z"
   },
   {
    "duration": 9,
    "start_time": "2023-04-18T20:31:50.249Z"
   },
   {
    "duration": 6,
    "start_time": "2023-04-18T20:43:56.345Z"
   },
   {
    "duration": 969,
    "start_time": "2023-04-18T20:44:52.128Z"
   },
   {
    "duration": 929,
    "start_time": "2023-04-18T20:51:00.802Z"
   },
   {
    "duration": 4,
    "start_time": "2023-04-18T20:55:56.828Z"
   },
   {
    "duration": 4,
    "start_time": "2023-04-18T20:56:09.587Z"
   },
   {
    "duration": 9,
    "start_time": "2023-04-18T20:56:40.275Z"
   },
   {
    "duration": 4,
    "start_time": "2023-04-18T20:56:46.875Z"
   },
   {
    "duration": 813,
    "start_time": "2023-04-18T20:57:09.980Z"
   },
   {
    "duration": 859,
    "start_time": "2023-04-18T20:58:12.484Z"
   },
   {
    "duration": 2419,
    "start_time": "2023-04-18T20:59:07.347Z"
   },
   {
    "duration": 1625,
    "start_time": "2023-04-18T21:11:57.377Z"
   },
   {
    "duration": 905,
    "start_time": "2023-04-18T21:11:59.004Z"
   },
   {
    "duration": 11,
    "start_time": "2023-04-18T21:11:59.911Z"
   },
   {
    "duration": 38,
    "start_time": "2023-04-18T21:11:59.924Z"
   },
   {
    "duration": 11,
    "start_time": "2023-04-18T21:11:59.964Z"
   },
   {
    "duration": 248,
    "start_time": "2023-04-18T21:11:59.976Z"
   },
   {
    "duration": 148,
    "start_time": "2023-04-18T21:12:00.226Z"
   },
   {
    "duration": 9,
    "start_time": "2023-04-18T21:12:00.375Z"
   },
   {
    "duration": 28,
    "start_time": "2023-04-18T21:12:00.385Z"
   },
   {
    "duration": 4053,
    "start_time": "2023-04-18T21:12:00.415Z"
   },
   {
    "duration": 7,
    "start_time": "2023-04-18T21:12:04.470Z"
   },
   {
    "duration": 20,
    "start_time": "2023-04-18T21:12:04.478Z"
   },
   {
    "duration": 9,
    "start_time": "2023-04-18T21:12:04.500Z"
   },
   {
    "duration": 75700,
    "start_time": "2023-04-18T21:12:04.511Z"
   },
   {
    "duration": 7,
    "start_time": "2023-04-18T21:13:20.213Z"
   },
   {
    "duration": 64,
    "start_time": "2023-04-18T21:13:20.222Z"
   },
   {
    "duration": 29,
    "start_time": "2023-04-18T21:13:20.288Z"
   },
   {
    "duration": 15,
    "start_time": "2023-04-18T21:13:20.319Z"
   },
   {
    "duration": 6,
    "start_time": "2023-04-18T21:13:20.336Z"
   },
   {
    "duration": 232,
    "start_time": "2023-04-18T21:13:20.344Z"
   },
   {
    "duration": 904,
    "start_time": "2023-04-18T21:13:20.578Z"
   },
   {
    "duration": 68,
    "start_time": "2023-04-18T21:13:55.501Z"
   },
   {
    "duration": 5,
    "start_time": "2023-04-18T21:13:59.101Z"
   },
   {
    "duration": 66,
    "start_time": "2023-04-18T21:14:19.173Z"
   },
   {
    "duration": 3,
    "start_time": "2023-04-18T21:14:19.917Z"
   },
   {
    "duration": 110,
    "start_time": "2023-04-18T21:15:20.949Z"
   },
   {
    "duration": 90,
    "start_time": "2023-04-18T21:17:55.669Z"
   },
   {
    "duration": 922,
    "start_time": "2023-04-18T21:18:39.805Z"
   },
   {
    "duration": 972,
    "start_time": "2023-04-18T21:19:38.572Z"
   },
   {
    "duration": 886,
    "start_time": "2023-04-18T21:20:30.900Z"
   },
   {
    "duration": 801,
    "start_time": "2023-04-18T21:22:29.308Z"
   },
   {
    "duration": 962,
    "start_time": "2023-04-18T21:22:48.269Z"
   },
   {
    "duration": 1645466,
    "start_time": "2023-04-18T21:38:45.859Z"
   },
   {
    "duration": 1666,
    "start_time": "2023-04-18T22:07:30.759Z"
   },
   {
    "duration": 868,
    "start_time": "2023-04-18T22:07:32.427Z"
   },
   {
    "duration": 14,
    "start_time": "2023-04-18T22:07:33.838Z"
   },
   {
    "duration": 43,
    "start_time": "2023-04-18T22:07:34.510Z"
   },
   {
    "duration": 11,
    "start_time": "2023-04-18T22:07:35.390Z"
   },
   {
    "duration": 237,
    "start_time": "2023-04-18T22:07:36.261Z"
   },
   {
    "duration": 144,
    "start_time": "2023-04-18T22:07:37.310Z"
   },
   {
    "duration": 9,
    "start_time": "2023-04-18T22:07:37.925Z"
   },
   {
    "duration": 3,
    "start_time": "2023-04-18T22:07:38.605Z"
   },
   {
    "duration": 4020,
    "start_time": "2023-04-18T22:07:39.509Z"
   },
   {
    "duration": 8,
    "start_time": "2023-04-18T22:07:43.531Z"
   },
   {
    "duration": 3,
    "start_time": "2023-04-18T22:07:44.742Z"
   },
   {
    "duration": 3,
    "start_time": "2023-04-18T22:07:45.094Z"
   },
   {
    "duration": 84661,
    "start_time": "2023-04-18T22:07:45.854Z"
   },
   {
    "duration": 9,
    "start_time": "2023-04-18T22:09:10.517Z"
   },
   {
    "duration": 62,
    "start_time": "2023-04-18T22:13:01.817Z"
   },
   {
    "duration": 8,
    "start_time": "2023-04-18T22:13:02.571Z"
   },
   {
    "duration": 12,
    "start_time": "2023-04-18T22:13:03.780Z"
   },
   {
    "duration": 5,
    "start_time": "2023-04-18T22:13:04.131Z"
   },
   {
    "duration": 3,
    "start_time": "2023-04-18T22:14:42.556Z"
   },
   {
    "duration": 3,
    "start_time": "2023-04-18T22:16:33.205Z"
   },
   {
    "duration": 3,
    "start_time": "2023-04-18T22:21:51.659Z"
   },
   {
    "duration": 496849,
    "start_time": "2023-04-18T22:29:17.274Z"
   },
   {
    "duration": 504155,
    "start_time": "2023-04-18T22:38:34.976Z"
   },
   {
    "duration": 7,
    "start_time": "2023-04-18T22:48:46.908Z"
   },
   {
    "duration": 1589,
    "start_time": "2023-04-18T22:58:35.262Z"
   },
   {
    "duration": 847,
    "start_time": "2023-04-18T22:58:36.853Z"
   },
   {
    "duration": 24,
    "start_time": "2023-04-18T22:58:37.701Z"
   },
   {
    "duration": 35,
    "start_time": "2023-04-18T22:58:37.728Z"
   },
   {
    "duration": 11,
    "start_time": "2023-04-18T22:58:37.764Z"
   },
   {
    "duration": 251,
    "start_time": "2023-04-18T22:58:37.776Z"
   },
   {
    "duration": 164,
    "start_time": "2023-04-18T22:58:38.029Z"
   },
   {
    "duration": 8,
    "start_time": "2023-04-18T22:58:38.195Z"
   },
   {
    "duration": 6,
    "start_time": "2023-04-18T22:58:38.205Z"
   },
   {
    "duration": 4110,
    "start_time": "2023-04-18T22:58:38.215Z"
   },
   {
    "duration": 7,
    "start_time": "2023-04-18T22:58:42.328Z"
   },
   {
    "duration": 5,
    "start_time": "2023-04-18T22:58:42.336Z"
   },
   {
    "duration": 8,
    "start_time": "2023-04-18T22:58:42.343Z"
   },
   {
    "duration": 1704,
    "start_time": "2023-04-18T22:59:00.891Z"
   },
   {
    "duration": 859,
    "start_time": "2023-04-18T22:59:02.597Z"
   },
   {
    "duration": 11,
    "start_time": "2023-04-18T22:59:03.458Z"
   },
   {
    "duration": 51,
    "start_time": "2023-04-18T22:59:03.472Z"
   },
   {
    "duration": 11,
    "start_time": "2023-04-18T22:59:03.526Z"
   },
   {
    "duration": 219,
    "start_time": "2023-04-18T22:59:03.539Z"
   },
   {
    "duration": 166,
    "start_time": "2023-04-18T22:59:03.760Z"
   },
   {
    "duration": 9,
    "start_time": "2023-04-18T22:59:03.928Z"
   },
   {
    "duration": 7,
    "start_time": "2023-04-18T22:59:03.938Z"
   },
   {
    "duration": 3920,
    "start_time": "2023-04-18T22:59:03.947Z"
   },
   {
    "duration": 7,
    "start_time": "2023-04-18T22:59:07.868Z"
   },
   {
    "duration": 5,
    "start_time": "2023-04-18T22:59:07.877Z"
   },
   {
    "duration": 3,
    "start_time": "2023-04-18T22:59:07.884Z"
   },
   {
    "duration": 83891,
    "start_time": "2023-04-18T22:59:07.889Z"
   },
   {
    "duration": 6,
    "start_time": "2023-04-18T23:00:31.782Z"
   },
   {
    "duration": 77,
    "start_time": "2023-04-18T23:00:31.790Z"
   },
   {
    "duration": 8,
    "start_time": "2023-04-18T23:00:31.868Z"
   },
   {
    "duration": 50,
    "start_time": "2023-04-18T23:00:31.877Z"
   },
   {
    "duration": 23,
    "start_time": "2023-04-18T23:00:31.928Z"
   },
   {
    "duration": 31,
    "start_time": "2023-04-18T23:00:31.952Z"
   },
   {
    "duration": 19,
    "start_time": "2023-04-18T23:00:31.984Z"
   },
   {
    "duration": 22,
    "start_time": "2023-04-18T23:00:32.005Z"
   },
   {
    "duration": 503402,
    "start_time": "2023-04-18T23:00:32.029Z"
   },
   {
    "duration": 3,
    "start_time": "2023-04-18T23:10:23.131Z"
   },
   {
    "duration": 3,
    "start_time": "2023-04-18T23:10:23.507Z"
   },
   {
    "duration": 193,
    "start_time": "2023-04-18T23:10:58.227Z"
   },
   {
    "duration": 3,
    "start_time": "2023-04-18T23:11:45.476Z"
   },
   {
    "duration": 95,
    "start_time": "2023-04-18T23:11:47.388Z"
   },
   {
    "duration": 4,
    "start_time": "2023-04-18T23:12:40.858Z"
   },
   {
    "duration": 3,
    "start_time": "2023-04-18T23:12:42.138Z"
   },
   {
    "duration": 135723,
    "start_time": "2023-04-18T23:12:42.763Z"
   },
   {
    "duration": 6,
    "start_time": "2023-04-18T23:21:28.760Z"
   },
   {
    "duration": 19,
    "start_time": "2023-04-18T23:21:53.055Z"
   },
   {
    "duration": 10,
    "start_time": "2023-04-18T23:22:38.432Z"
   },
   {
    "duration": 639,
    "start_time": "2023-04-18T23:23:14.921Z"
   },
   {
    "duration": 9,
    "start_time": "2023-04-18T23:23:16.951Z"
   },
   {
    "duration": 9,
    "start_time": "2023-04-18T23:23:23.626Z"
   },
   {
    "duration": 11,
    "start_time": "2023-04-18T23:31:15.949Z"
   },
   {
    "duration": 17,
    "start_time": "2023-04-18T23:31:21.917Z"
   },
   {
    "duration": 7,
    "start_time": "2023-04-18T23:31:37.221Z"
   },
   {
    "duration": 11,
    "start_time": "2023-04-18T23:35:28.139Z"
   },
   {
    "duration": 52,
    "start_time": "2023-04-18T23:36:16.427Z"
   },
   {
    "duration": 573,
    "start_time": "2023-04-18T23:37:36.410Z"
   },
   {
    "duration": 6,
    "start_time": "2023-04-18T23:40:33.449Z"
   },
   {
    "duration": 13,
    "start_time": "2023-04-18T23:42:14.217Z"
   },
   {
    "duration": 13,
    "start_time": "2023-04-18T23:42:59.841Z"
   },
   {
    "duration": 13,
    "start_time": "2023-04-18T23:43:17.360Z"
   },
   {
    "duration": 13,
    "start_time": "2023-04-18T23:43:26.353Z"
   },
   {
    "duration": 1629,
    "start_time": "2023-04-18T23:49:21.286Z"
   },
   {
    "duration": 911,
    "start_time": "2023-04-18T23:49:22.917Z"
   },
   {
    "duration": 12,
    "start_time": "2023-04-18T23:49:23.833Z"
   },
   {
    "duration": 42,
    "start_time": "2023-04-18T23:49:23.847Z"
   },
   {
    "duration": 22,
    "start_time": "2023-04-18T23:49:23.891Z"
   },
   {
    "duration": 238,
    "start_time": "2023-04-18T23:49:23.915Z"
   },
   {
    "duration": 147,
    "start_time": "2023-04-18T23:49:24.155Z"
   },
   {
    "duration": 23,
    "start_time": "2023-04-18T23:49:24.304Z"
   },
   {
    "duration": 3,
    "start_time": "2023-04-18T23:49:24.331Z"
   },
   {
    "duration": 4036,
    "start_time": "2023-04-18T23:49:24.336Z"
   },
   {
    "duration": 6,
    "start_time": "2023-04-18T23:49:28.374Z"
   },
   {
    "duration": 9,
    "start_time": "2023-04-18T23:49:28.382Z"
   },
   {
    "duration": 30,
    "start_time": "2023-04-18T23:49:28.393Z"
   },
   {
    "duration": 79076,
    "start_time": "2023-04-18T23:49:28.426Z"
   },
   {
    "duration": 22,
    "start_time": "2023-04-18T23:50:47.504Z"
   },
   {
    "duration": 55,
    "start_time": "2023-04-18T23:50:47.528Z"
   },
   {
    "duration": 8,
    "start_time": "2023-04-18T23:50:47.585Z"
   },
   {
    "duration": 31,
    "start_time": "2023-04-18T23:50:47.594Z"
   },
   {
    "duration": 6,
    "start_time": "2023-04-18T23:50:47.627Z"
   },
   {
    "duration": 5,
    "start_time": "2023-04-18T23:50:47.635Z"
   },
   {
    "duration": 3,
    "start_time": "2023-04-18T23:50:47.642Z"
   },
   {
    "duration": 4,
    "start_time": "2023-04-18T23:50:47.647Z"
   },
   {
    "duration": 493074,
    "start_time": "2023-04-18T23:50:47.652Z"
   },
   {
    "duration": 86,
    "start_time": "2023-04-18T23:59:00.733Z"
   },
   {
    "duration": 24,
    "start_time": "2023-04-18T23:59:00.822Z"
   },
   {
    "duration": 131903,
    "start_time": "2023-04-18T23:59:00.848Z"
   },
   {
    "duration": 136,
    "start_time": "2023-04-19T00:01:12.754Z"
   },
   {
    "duration": 0,
    "start_time": "2023-04-19T00:01:12.892Z"
   },
   {
    "duration": 0,
    "start_time": "2023-04-19T00:01:12.893Z"
   },
   {
    "duration": 12,
    "start_time": "2023-04-19T00:09:00.943Z"
   },
   {
    "duration": 8,
    "start_time": "2023-04-19T00:09:37.725Z"
   },
   {
    "duration": 3,
    "start_time": "2023-04-19T00:09:40.231Z"
   },
   {
    "duration": 659,
    "start_time": "2023-04-19T00:09:41.279Z"
   },
   {
    "duration": 66,
    "start_time": "2023-04-19T08:09:42.475Z"
   },
   {
    "duration": 4413,
    "start_time": "2023-04-19T08:57:44.855Z"
   },
   {
    "duration": 3465,
    "start_time": "2023-04-19T08:57:51.610Z"
   },
   {
    "duration": 17,
    "start_time": "2023-04-19T08:57:56.116Z"
   },
   {
    "duration": 40,
    "start_time": "2023-04-19T08:57:56.867Z"
   },
   {
    "duration": 10,
    "start_time": "2023-04-19T08:57:57.803Z"
   },
   {
    "duration": 230,
    "start_time": "2023-04-19T08:57:58.419Z"
   },
   {
    "duration": 144,
    "start_time": "2023-04-19T08:57:59.675Z"
   },
   {
    "duration": 9,
    "start_time": "2023-04-19T08:58:00.302Z"
   },
   {
    "duration": 3,
    "start_time": "2023-04-19T08:58:06.250Z"
   },
   {
    "duration": 4046,
    "start_time": "2023-04-19T08:58:08.179Z"
   },
   {
    "duration": 7,
    "start_time": "2023-04-19T08:58:13.859Z"
   },
   {
    "duration": 558,
    "start_time": "2023-04-19T08:59:18.523Z"
   },
   {
    "duration": 3,
    "start_time": "2023-04-19T09:01:07.971Z"
   },
   {
    "duration": 2348327,
    "start_time": "2023-04-19T09:01:14.706Z"
   },
   {
    "duration": 8,
    "start_time": "2023-04-19T09:40:23.035Z"
   },
   {
    "duration": 56,
    "start_time": "2023-04-19T09:41:26.102Z"
   },
   {
    "duration": 9,
    "start_time": "2023-04-19T09:41:27.503Z"
   },
   {
    "duration": 15,
    "start_time": "2023-04-19T09:41:34.109Z"
   },
   {
    "duration": 5,
    "start_time": "2023-04-19T09:41:34.493Z"
   },
   {
    "duration": 6,
    "start_time": "2023-04-19T09:41:35.789Z"
   },
   {
    "duration": 3,
    "start_time": "2023-04-19T09:41:36.230Z"
   },
   {
    "duration": 5,
    "start_time": "2023-04-19T09:41:36.982Z"
   },
   {
    "duration": 525529,
    "start_time": "2023-04-19T09:41:37.860Z"
   },
   {
    "duration": 10,
    "start_time": "2023-04-19T09:50:23.391Z"
   },
   {
    "duration": 3,
    "start_time": "2023-04-19T09:50:23.404Z"
   },
   {
    "duration": 142794,
    "start_time": "2023-04-19T09:50:23.409Z"
   },
   {
    "duration": 9,
    "start_time": "2023-04-19T09:52:46.204Z"
   },
   {
    "duration": 5,
    "start_time": "2023-04-19T09:52:46.215Z"
   },
   {
    "duration": 741,
    "start_time": "2023-04-19T09:52:46.221Z"
   }
  ],
  "kernelspec": {
   "display_name": "Python 3 (ipykernel)",
   "language": "python",
   "name": "python3"
  },
  "language_info": {
   "codemirror_mode": {
    "name": "ipython",
    "version": 3
   },
   "file_extension": ".py",
   "mimetype": "text/x-python",
   "name": "python",
   "nbconvert_exporter": "python",
   "pygments_lexer": "ipython3",
   "version": "3.9.13"
  },
  "toc": {
   "base_numbering": 1,
   "nav_menu": {},
   "number_sections": true,
   "sideBar": true,
   "skip_h1_title": true,
   "title_cell": "Содержание",
   "title_sidebar": "Contents",
   "toc_cell": true,
   "toc_position": {
    "height": "calc(100% - 180px)",
    "left": "10px",
    "top": "150px",
    "width": "302.391px"
   },
   "toc_section_display": true,
   "toc_window_display": false
  }
 },
 "nbformat": 4,
 "nbformat_minor": 2
}
