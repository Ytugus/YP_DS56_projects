{
 "cells": [
  {
   "cell_type": "markdown",
   "metadata": {
    "toc": true
   },
   "source": [
    "<h1>Содержание<span class=\"tocSkip\"></span></h1>\n",
    "<div class=\"toc\"><ul class=\"toc-item\"><li><span><a href=\"#Подготовка-данных\" data-toc-modified-id=\"Подготовка-данных-1\"><span class=\"toc-item-num\">1&nbsp;&nbsp;</span>Подготовка данных</a></span><ul class=\"toc-item\"><li><span><a href=\"#Знакомство-с-данными\" data-toc-modified-id=\"Знакомство-с-данными-1.1\"><span class=\"toc-item-num\">1.1&nbsp;&nbsp;</span>Знакомство с данными</a></span></li><li><span><a href=\"#Предобработка-данных\" data-toc-modified-id=\"Предобработка-данных-1.2\"><span class=\"toc-item-num\">1.2&nbsp;&nbsp;</span>Предобработка данных</a></span></li><li><span><a href=\"#Вывод\" data-toc-modified-id=\"Вывод-1.3\"><span class=\"toc-item-num\">1.3&nbsp;&nbsp;</span>Вывод</a></span></li></ul></li><li><span><a href=\"#Обучение-моделей\" data-toc-modified-id=\"Обучение-моделей-2\"><span class=\"toc-item-num\">2&nbsp;&nbsp;</span>Обучение моделей</a></span><ul class=\"toc-item\"><li><span><a href=\"#Вывод\" data-toc-modified-id=\"Вывод-2.1\"><span class=\"toc-item-num\">2.1&nbsp;&nbsp;</span>Вывод</a></span></li></ul></li><li><span><a href=\"#Анализ-моделей\" data-toc-modified-id=\"Анализ-моделей-3\"><span class=\"toc-item-num\">3&nbsp;&nbsp;</span>Анализ моделей</a></span><ul class=\"toc-item\"><li><span><a href=\"#Вывод\" data-toc-modified-id=\"Вывод-3.1\"><span class=\"toc-item-num\">3.1&nbsp;&nbsp;</span>Вывод</a></span></li></ul></li><li><span><a href=\"#Общий-вывод\" data-toc-modified-id=\"Общий-вывод-4\"><span class=\"toc-item-num\">4&nbsp;&nbsp;</span>Общий вывод</a></span></li><li><span><a href=\"#Чек-лист-проверки\" data-toc-modified-id=\"Чек-лист-проверки-5\"><span class=\"toc-item-num\">5&nbsp;&nbsp;</span>Чек-лист проверки</a></span></li></ul></div>"
   ]
  },
  {
   "cell_type": "markdown",
   "metadata": {},
   "source": [
    "# Определение стоимости автомобилей"
   ]
  },
  {
   "cell_type": "markdown",
   "metadata": {},
   "source": [
    "Сервис по продаже автомобилей с пробегом «Не бит, не крашен» разрабатывает приложение для привлечения новых клиентов. В нём можно быстро узнать рыночную стоимость своего автомобиля. В вашем распоряжении исторические данные: технические характеристики, комплектации и цены автомобилей. Вам нужно построить модель для определения стоимости. \n",
    "\n",
    "Заказчику важны:\n",
    "\n",
    "- качество предсказания;\n",
    "- скорость предсказания;\n",
    "- время обучения."
   ]
  },
  {
   "cell_type": "markdown",
   "metadata": {},
   "source": [
    "# Цель проекта"
   ]
  },
  {
   "cell_type": "markdown",
   "metadata": {},
   "source": [
    "Построить модель способную оперделить рыночную стоимость автомобиля сервиса. Метрика RMSE должна быть не больше 2500"
   ]
  },
  {
   "cell_type": "markdown",
   "metadata": {},
   "source": [
    "# Описание данных"
   ]
  },
  {
   "cell_type": "markdown",
   "metadata": {},
   "source": [
    "**Признаки**\n",
    "\n",
    "- DateCrawled — дата скачивания анкеты из базы\n",
    "- VehicleType — тип автомобильного кузова\n",
    "- RegistrationYear — год регистрации автомобиля\n",
    "- Gearbox — тип коробки передач\n",
    "- Power — мощность (л. с.)\n",
    "- Model — модель автомобиля\n",
    "- Kilometer — пробег (км)\n",
    "- RegistrationMonth — месяц регистрации автомобиля\n",
    "- FuelType — тип топлива\n",
    "- Brand — марка автомобиля\n",
    "- Repaired — была машина в ремонте или нет\n",
    "- DateCreated — дата создания анкеты\n",
    "- NumberOfPictures — количество фотографий автомобиля\n",
    "- PostalCode — почтовый индекс владельца анкеты (пользователя)\n",
    "- LastSeen — дата последней активности пользователя\n",
    "\n",
    "**Целевой признак**\n",
    "\n",
    "- Price — цена (евро)"
   ]
  },
  {
   "cell_type": "markdown",
   "metadata": {},
   "source": [
    "# План работы"
   ]
  },
  {
   "cell_type": "markdown",
   "metadata": {},
   "source": [
    "- Подготовить данные\n",
    " - Ознакомимся с датафреймом, отметим его особенности для дальнейшей работы\n",
    " - Проверим на дубликаты\n",
    " - Избавимся от аномалий\n",
    " - Избавимся от пропусков\n",
    " - Проверим на неявные дубликаты\n",
    "- Обучить модели\n",
    " - Разделим выборку\n",
    " - Закодируем данные\n",
    "- Проанализировать модели\n"
   ]
  },
  {
   "cell_type": "markdown",
   "metadata": {},
   "source": [
    "## Подготовка данных"
   ]
  },
  {
   "cell_type": "markdown",
   "metadata": {},
   "source": [
    "### Знакомство с данными"
   ]
  },
  {
   "cell_type": "markdown",
   "metadata": {},
   "source": [
    "Импортируем все необходимые библиотеки"
   ]
  },
  {
   "cell_type": "code",
   "execution_count": 1,
   "metadata": {},
   "outputs": [],
   "source": [
    "import warnings\n",
    "warnings.filterwarnings(\"ignore\")\n",
    "\n",
    "import time\n",
    "\n",
    "import pandas as pd\n",
    "import numpy as np\n",
    "\n",
    "import matplotlib.pyplot as plt\n",
    "import seaborn as sns\n",
    "\n",
    "from sklearn.model_selection import train_test_split\n",
    "\n",
    "from sklearn.metrics import mean_squared_error\n",
    "\n",
    "from sklearn.preprocessing import (\n",
    "    OneHotEncoder,\n",
    "    StandardScaler\n",
    ")\n",
    "\n",
    "from sklearn.linear_model import LinearRegression\n",
    "from catboost import CatBoostRegressor\n",
    "from lightgbm import LGBMRegressor\n",
    "from sklearn.dummy import DummyRegressor"
   ]
  },
  {
   "cell_type": "markdown",
   "metadata": {},
   "source": [
    "Запишем данные в переменную, посмотрим на несколько строк и выведим info"
   ]
  },
  {
   "cell_type": "code",
   "execution_count": 2,
   "metadata": {},
   "outputs": [],
   "source": [
    "data = pd.read_csv('/datasets/autos.csv')"
   ]
  },
  {
   "cell_type": "code",
   "execution_count": 3,
   "metadata": {},
   "outputs": [
    {
     "data": {
      "text/html": [
       "<div>\n",
       "<style scoped>\n",
       "    .dataframe tbody tr th:only-of-type {\n",
       "        vertical-align: middle;\n",
       "    }\n",
       "\n",
       "    .dataframe tbody tr th {\n",
       "        vertical-align: top;\n",
       "    }\n",
       "\n",
       "    .dataframe thead th {\n",
       "        text-align: right;\n",
       "    }\n",
       "</style>\n",
       "<table border=\"1\" class=\"dataframe\">\n",
       "  <thead>\n",
       "    <tr style=\"text-align: right;\">\n",
       "      <th></th>\n",
       "      <th>DateCrawled</th>\n",
       "      <th>Price</th>\n",
       "      <th>VehicleType</th>\n",
       "      <th>RegistrationYear</th>\n",
       "      <th>Gearbox</th>\n",
       "      <th>Power</th>\n",
       "      <th>Model</th>\n",
       "      <th>Kilometer</th>\n",
       "      <th>RegistrationMonth</th>\n",
       "      <th>FuelType</th>\n",
       "      <th>Brand</th>\n",
       "      <th>Repaired</th>\n",
       "      <th>DateCreated</th>\n",
       "      <th>NumberOfPictures</th>\n",
       "      <th>PostalCode</th>\n",
       "      <th>LastSeen</th>\n",
       "    </tr>\n",
       "  </thead>\n",
       "  <tbody>\n",
       "    <tr>\n",
       "      <th>0</th>\n",
       "      <td>2016-03-24 11:52:17</td>\n",
       "      <td>480</td>\n",
       "      <td>NaN</td>\n",
       "      <td>1993</td>\n",
       "      <td>manual</td>\n",
       "      <td>0</td>\n",
       "      <td>golf</td>\n",
       "      <td>150000</td>\n",
       "      <td>0</td>\n",
       "      <td>petrol</td>\n",
       "      <td>volkswagen</td>\n",
       "      <td>NaN</td>\n",
       "      <td>2016-03-24 00:00:00</td>\n",
       "      <td>0</td>\n",
       "      <td>70435</td>\n",
       "      <td>2016-04-07 03:16:57</td>\n",
       "    </tr>\n",
       "    <tr>\n",
       "      <th>1</th>\n",
       "      <td>2016-03-24 10:58:45</td>\n",
       "      <td>18300</td>\n",
       "      <td>coupe</td>\n",
       "      <td>2011</td>\n",
       "      <td>manual</td>\n",
       "      <td>190</td>\n",
       "      <td>NaN</td>\n",
       "      <td>125000</td>\n",
       "      <td>5</td>\n",
       "      <td>gasoline</td>\n",
       "      <td>audi</td>\n",
       "      <td>yes</td>\n",
       "      <td>2016-03-24 00:00:00</td>\n",
       "      <td>0</td>\n",
       "      <td>66954</td>\n",
       "      <td>2016-04-07 01:46:50</td>\n",
       "    </tr>\n",
       "    <tr>\n",
       "      <th>2</th>\n",
       "      <td>2016-03-14 12:52:21</td>\n",
       "      <td>9800</td>\n",
       "      <td>suv</td>\n",
       "      <td>2004</td>\n",
       "      <td>auto</td>\n",
       "      <td>163</td>\n",
       "      <td>grand</td>\n",
       "      <td>125000</td>\n",
       "      <td>8</td>\n",
       "      <td>gasoline</td>\n",
       "      <td>jeep</td>\n",
       "      <td>NaN</td>\n",
       "      <td>2016-03-14 00:00:00</td>\n",
       "      <td>0</td>\n",
       "      <td>90480</td>\n",
       "      <td>2016-04-05 12:47:46</td>\n",
       "    </tr>\n",
       "    <tr>\n",
       "      <th>3</th>\n",
       "      <td>2016-03-17 16:54:04</td>\n",
       "      <td>1500</td>\n",
       "      <td>small</td>\n",
       "      <td>2001</td>\n",
       "      <td>manual</td>\n",
       "      <td>75</td>\n",
       "      <td>golf</td>\n",
       "      <td>150000</td>\n",
       "      <td>6</td>\n",
       "      <td>petrol</td>\n",
       "      <td>volkswagen</td>\n",
       "      <td>no</td>\n",
       "      <td>2016-03-17 00:00:00</td>\n",
       "      <td>0</td>\n",
       "      <td>91074</td>\n",
       "      <td>2016-03-17 17:40:17</td>\n",
       "    </tr>\n",
       "    <tr>\n",
       "      <th>4</th>\n",
       "      <td>2016-03-31 17:25:20</td>\n",
       "      <td>3600</td>\n",
       "      <td>small</td>\n",
       "      <td>2008</td>\n",
       "      <td>manual</td>\n",
       "      <td>69</td>\n",
       "      <td>fabia</td>\n",
       "      <td>90000</td>\n",
       "      <td>7</td>\n",
       "      <td>gasoline</td>\n",
       "      <td>skoda</td>\n",
       "      <td>no</td>\n",
       "      <td>2016-03-31 00:00:00</td>\n",
       "      <td>0</td>\n",
       "      <td>60437</td>\n",
       "      <td>2016-04-06 10:17:21</td>\n",
       "    </tr>\n",
       "    <tr>\n",
       "      <th>5</th>\n",
       "      <td>2016-04-04 17:36:23</td>\n",
       "      <td>650</td>\n",
       "      <td>sedan</td>\n",
       "      <td>1995</td>\n",
       "      <td>manual</td>\n",
       "      <td>102</td>\n",
       "      <td>3er</td>\n",
       "      <td>150000</td>\n",
       "      <td>10</td>\n",
       "      <td>petrol</td>\n",
       "      <td>bmw</td>\n",
       "      <td>yes</td>\n",
       "      <td>2016-04-04 00:00:00</td>\n",
       "      <td>0</td>\n",
       "      <td>33775</td>\n",
       "      <td>2016-04-06 19:17:07</td>\n",
       "    </tr>\n",
       "    <tr>\n",
       "      <th>6</th>\n",
       "      <td>2016-04-01 20:48:51</td>\n",
       "      <td>2200</td>\n",
       "      <td>convertible</td>\n",
       "      <td>2004</td>\n",
       "      <td>manual</td>\n",
       "      <td>109</td>\n",
       "      <td>2_reihe</td>\n",
       "      <td>150000</td>\n",
       "      <td>8</td>\n",
       "      <td>petrol</td>\n",
       "      <td>peugeot</td>\n",
       "      <td>no</td>\n",
       "      <td>2016-04-01 00:00:00</td>\n",
       "      <td>0</td>\n",
       "      <td>67112</td>\n",
       "      <td>2016-04-05 18:18:39</td>\n",
       "    </tr>\n",
       "    <tr>\n",
       "      <th>7</th>\n",
       "      <td>2016-03-21 18:54:38</td>\n",
       "      <td>0</td>\n",
       "      <td>sedan</td>\n",
       "      <td>1980</td>\n",
       "      <td>manual</td>\n",
       "      <td>50</td>\n",
       "      <td>other</td>\n",
       "      <td>40000</td>\n",
       "      <td>7</td>\n",
       "      <td>petrol</td>\n",
       "      <td>volkswagen</td>\n",
       "      <td>no</td>\n",
       "      <td>2016-03-21 00:00:00</td>\n",
       "      <td>0</td>\n",
       "      <td>19348</td>\n",
       "      <td>2016-03-25 16:47:58</td>\n",
       "    </tr>\n",
       "    <tr>\n",
       "      <th>8</th>\n",
       "      <td>2016-04-04 23:42:13</td>\n",
       "      <td>14500</td>\n",
       "      <td>bus</td>\n",
       "      <td>2014</td>\n",
       "      <td>manual</td>\n",
       "      <td>125</td>\n",
       "      <td>c_max</td>\n",
       "      <td>30000</td>\n",
       "      <td>8</td>\n",
       "      <td>petrol</td>\n",
       "      <td>ford</td>\n",
       "      <td>NaN</td>\n",
       "      <td>2016-04-04 00:00:00</td>\n",
       "      <td>0</td>\n",
       "      <td>94505</td>\n",
       "      <td>2016-04-04 23:42:13</td>\n",
       "    </tr>\n",
       "    <tr>\n",
       "      <th>9</th>\n",
       "      <td>2016-03-17 10:53:50</td>\n",
       "      <td>999</td>\n",
       "      <td>small</td>\n",
       "      <td>1998</td>\n",
       "      <td>manual</td>\n",
       "      <td>101</td>\n",
       "      <td>golf</td>\n",
       "      <td>150000</td>\n",
       "      <td>0</td>\n",
       "      <td>NaN</td>\n",
       "      <td>volkswagen</td>\n",
       "      <td>NaN</td>\n",
       "      <td>2016-03-17 00:00:00</td>\n",
       "      <td>0</td>\n",
       "      <td>27472</td>\n",
       "      <td>2016-03-31 17:17:06</td>\n",
       "    </tr>\n",
       "  </tbody>\n",
       "</table>\n",
       "</div>"
      ],
      "text/plain": [
       "           DateCrawled  Price  VehicleType  RegistrationYear Gearbox  Power  \\\n",
       "0  2016-03-24 11:52:17    480          NaN              1993  manual      0   \n",
       "1  2016-03-24 10:58:45  18300        coupe              2011  manual    190   \n",
       "2  2016-03-14 12:52:21   9800          suv              2004    auto    163   \n",
       "3  2016-03-17 16:54:04   1500        small              2001  manual     75   \n",
       "4  2016-03-31 17:25:20   3600        small              2008  manual     69   \n",
       "5  2016-04-04 17:36:23    650        sedan              1995  manual    102   \n",
       "6  2016-04-01 20:48:51   2200  convertible              2004  manual    109   \n",
       "7  2016-03-21 18:54:38      0        sedan              1980  manual     50   \n",
       "8  2016-04-04 23:42:13  14500          bus              2014  manual    125   \n",
       "9  2016-03-17 10:53:50    999        small              1998  manual    101   \n",
       "\n",
       "     Model  Kilometer  RegistrationMonth  FuelType       Brand Repaired  \\\n",
       "0     golf     150000                  0    petrol  volkswagen      NaN   \n",
       "1      NaN     125000                  5  gasoline        audi      yes   \n",
       "2    grand     125000                  8  gasoline        jeep      NaN   \n",
       "3     golf     150000                  6    petrol  volkswagen       no   \n",
       "4    fabia      90000                  7  gasoline       skoda       no   \n",
       "5      3er     150000                 10    petrol         bmw      yes   \n",
       "6  2_reihe     150000                  8    petrol     peugeot       no   \n",
       "7    other      40000                  7    petrol  volkswagen       no   \n",
       "8    c_max      30000                  8    petrol        ford      NaN   \n",
       "9     golf     150000                  0       NaN  volkswagen      NaN   \n",
       "\n",
       "           DateCreated  NumberOfPictures  PostalCode             LastSeen  \n",
       "0  2016-03-24 00:00:00                 0       70435  2016-04-07 03:16:57  \n",
       "1  2016-03-24 00:00:00                 0       66954  2016-04-07 01:46:50  \n",
       "2  2016-03-14 00:00:00                 0       90480  2016-04-05 12:47:46  \n",
       "3  2016-03-17 00:00:00                 0       91074  2016-03-17 17:40:17  \n",
       "4  2016-03-31 00:00:00                 0       60437  2016-04-06 10:17:21  \n",
       "5  2016-04-04 00:00:00                 0       33775  2016-04-06 19:17:07  \n",
       "6  2016-04-01 00:00:00                 0       67112  2016-04-05 18:18:39  \n",
       "7  2016-03-21 00:00:00                 0       19348  2016-03-25 16:47:58  \n",
       "8  2016-04-04 00:00:00                 0       94505  2016-04-04 23:42:13  \n",
       "9  2016-03-17 00:00:00                 0       27472  2016-03-31 17:17:06  "
      ]
     },
     "execution_count": 3,
     "metadata": {},
     "output_type": "execute_result"
    }
   ],
   "source": [
    "data.head(10)"
   ]
  },
  {
   "cell_type": "code",
   "execution_count": 4,
   "metadata": {},
   "outputs": [
    {
     "name": "stdout",
     "output_type": "stream",
     "text": [
      "<class 'pandas.core.frame.DataFrame'>\n",
      "RangeIndex: 354369 entries, 0 to 354368\n",
      "Data columns (total 16 columns):\n",
      " #   Column             Non-Null Count   Dtype \n",
      "---  ------             --------------   ----- \n",
      " 0   DateCrawled        354369 non-null  object\n",
      " 1   Price              354369 non-null  int64 \n",
      " 2   VehicleType        316879 non-null  object\n",
      " 3   RegistrationYear   354369 non-null  int64 \n",
      " 4   Gearbox            334536 non-null  object\n",
      " 5   Power              354369 non-null  int64 \n",
      " 6   Model              334664 non-null  object\n",
      " 7   Kilometer          354369 non-null  int64 \n",
      " 8   RegistrationMonth  354369 non-null  int64 \n",
      " 9   FuelType           321474 non-null  object\n",
      " 10  Brand              354369 non-null  object\n",
      " 11  Repaired           283215 non-null  object\n",
      " 12  DateCreated        354369 non-null  object\n",
      " 13  NumberOfPictures   354369 non-null  int64 \n",
      " 14  PostalCode         354369 non-null  int64 \n",
      " 15  LastSeen           354369 non-null  object\n",
      "dtypes: int64(7), object(9)\n",
      "memory usage: 43.3+ MB\n"
     ]
    }
   ],
   "source": [
    "data.info()"
   ]
  },
  {
   "cell_type": "markdown",
   "metadata": {},
   "source": [
    "По первым 10 строкам видно, что есть нулевые значения в Price и Power, это, вероятно, аномалии, так же есть много пропусков, особенно в Repaired, посчитаем их"
   ]
  },
  {
   "cell_type": "code",
   "execution_count": 5,
   "metadata": {},
   "outputs": [
    {
     "data": {
      "text/plain": [
       "DateCrawled              0\n",
       "Price                    0\n",
       "VehicleType          37490\n",
       "RegistrationYear         0\n",
       "Gearbox              19833\n",
       "Power                    0\n",
       "Model                19705\n",
       "Kilometer                0\n",
       "RegistrationMonth        0\n",
       "FuelType             32895\n",
       "Brand                    0\n",
       "Repaired             71154\n",
       "DateCreated              0\n",
       "NumberOfPictures         0\n",
       "PostalCode               0\n",
       "LastSeen                 0\n",
       "dtype: int64"
      ]
     },
     "execution_count": 5,
     "metadata": {},
     "output_type": "execute_result"
    }
   ],
   "source": [
    "data.isna().sum()"
   ]
  },
  {
   "cell_type": "markdown",
   "metadata": {},
   "source": [
    "Посмотрим на весь датасет построив гистограммы"
   ]
  },
  {
   "cell_type": "code",
   "execution_count": 6,
   "metadata": {},
   "outputs": [
    {
     "data": {
      "image/png": "[encoded data removed]",
      "text/plain": [
       "<Figure size 1080x1440 with 9 Axes>"
      ]
     },
     "metadata": {
      "needs_background": "light"
     },
     "output_type": "display_data"
    }
   ],
   "source": [
    "data.hist(figsize=(15, 20));"
   ]
  },
  {
   "cell_type": "markdown",
   "metadata": {},
   "source": [
    "Отметим, что в Price большое количество строк находится близко к нулю, RegistrationYear и Power не отображаются нормально, тк есть большие аномалии,а в Kilometer на первый взгляд все нормально. Так же заметим, что в NumberOfPictures одни нули. Можно приступать к предобработке данных."
   ]
  },
  {
   "cell_type": "markdown",
   "metadata": {},
   "source": [
    "### Предобработка данных"
   ]
  },
  {
   "cell_type": "markdown",
   "metadata": {},
   "source": [
    "Для начала проверим на дубликаты"
   ]
  },
  {
   "cell_type": "code",
   "execution_count": 7,
   "metadata": {},
   "outputs": [
    {
     "data": {
      "text/plain": [
       "4"
      ]
     },
     "execution_count": 7,
     "metadata": {},
     "output_type": "execute_result"
    }
   ],
   "source": [
    "data.duplicated().sum()"
   ]
  },
  {
   "cell_type": "markdown",
   "metadata": {},
   "source": [
    "Удалим их"
   ]
  },
  {
   "cell_type": "code",
   "execution_count": 8,
   "metadata": {},
   "outputs": [],
   "source": [
    "data.drop_duplicates(inplace=True)"
   ]
  },
  {
   "cell_type": "markdown",
   "metadata": {},
   "source": [
    "Теперь избавимся от ненужных столбцов не влияющих на обучение моделей, а именно:\n",
    "- DateCrawled, DateCreated и LastSeen, тк это просто даты скачиваний, созданий объявлений и дата активности пользователя \n",
    "- PostalCode, тк просто почтовый индекс пользователя\n",
    "- NumberOfPictures, тк количество фотографий в каждой строке равно нулю"
   ]
  },
  {
   "cell_type": "code",
   "execution_count": 9,
   "metadata": {},
   "outputs": [],
   "source": [
    "data.drop(columns = ['DateCrawled', 'DateCreated', 'LastSeen', 'NumberOfPictures', 'PostalCode'], inplace=True)"
   ]
  },
  {
   "cell_type": "markdown",
   "metadata": {},
   "source": [
    "Теперь посмотрим на аномальные значения в Price, RegistrationYear и Power, затем обработаем их.\n",
    "\n",
    "Начнем с Price"
   ]
  },
  {
   "cell_type": "code",
   "execution_count": 10,
   "metadata": {},
   "outputs": [
    {
     "data": {
      "image/png": "[encoded data removed]",
      "text/plain": [
       "<Figure size 864x576 with 1 Axes>"
      ]
     },
     "metadata": {
      "needs_background": "light"
     },
     "output_type": "display_data"
    }
   ],
   "source": [
    "plt.figure(figsize=(12, 8))\n",
    "sns.histplot(data=data, x=\"Price\", bins=100)\n",
    "plt.grid(True)\n",
    "plt.xlabel('Цена');\n",
    "plt.ylabel('Количество');\n",
    "plt.title('Распределение по цене');"
   ]
  },
  {
   "cell_type": "markdown",
   "metadata": {},
   "source": [
    "Видим, что много значений возле нуля, посмотрим сколько их"
   ]
  },
  {
   "cell_type": "code",
   "execution_count": 11,
   "metadata": {},
   "outputs": [
    {
     "data": {
      "text/plain": [
       "Price                13314\n",
       "VehicleType           8436\n",
       "RegistrationYear     13314\n",
       "Gearbox               9795\n",
       "Power                13314\n",
       "Model                10642\n",
       "Kilometer            13314\n",
       "RegistrationMonth    13314\n",
       "FuelType              8768\n",
       "Brand                13314\n",
       "Repaired              6517\n",
       "dtype: int64"
      ]
     },
     "execution_count": 11,
     "metadata": {},
     "output_type": "execute_result"
    }
   ],
   "source": [
    "data.query('Price < 100').count()"
   ]
  },
  {
   "cell_type": "markdown",
   "metadata": {},
   "source": [
    "Видим, что 13314 строк имеют цену нижу 100 евро, их мы сочтем за аномалии, добавим обновленные данные в новый датафрейм"
   ]
  },
  {
   "cell_type": "code",
   "execution_count": 12,
   "metadata": {},
   "outputs": [],
   "source": [
    "data_new = data.query('Price >= 100')"
   ]
  },
  {
   "cell_type": "markdown",
   "metadata": {},
   "source": [
    "Теперь посмотрим на RegistrationYear"
   ]
  },
  {
   "cell_type": "code",
   "execution_count": 13,
   "metadata": {},
   "outputs": [
    {
     "data": {
      "text/plain": [
       "(1950.0, 2023.0)"
      ]
     },
     "execution_count": 13,
     "metadata": {},
     "output_type": "execute_result"
    },
    {
     "data": {
      "image/png": "[encoded data removed]",
      "text/plain": [
       "<Figure size 864x576 with 1 Axes>"
      ]
     },
     "metadata": {
      "needs_background": "light"
     },
     "output_type": "display_data"
    }
   ],
   "source": [
    "plt.figure(figsize=(12, 8))\n",
    "sns.boxplot(data=data_new, x=\"RegistrationYear\")\n",
    "plt.grid(True)\n",
    "plt.xlabel('Год');\n",
    "plt.ylabel('Количество');\n",
    "plt.title('Распределение по годам');\n",
    "plt.xlim([1950, 2023])"
   ]
  },
  {
   "cell_type": "markdown",
   "metadata": {},
   "source": [
    "Применили ограничение по оси \"х\", тк много аномальных значений, график получается растянутым. Посмотрим сколько значений до 1950 и после 2016(год выгрузки датафрейма)."
   ]
  },
  {
   "cell_type": "code",
   "execution_count": 14,
   "metadata": {},
   "outputs": [
    {
     "data": {
      "text/plain": [
       "Price                13832\n",
       "VehicleType             96\n",
       "RegistrationYear     13832\n",
       "Gearbox              12080\n",
       "Power                13832\n",
       "Model                11927\n",
       "Kilometer            13832\n",
       "RegistrationMonth    13832\n",
       "FuelType              8561\n",
       "Brand                13832\n",
       "Repaired              7853\n",
       "dtype: int64"
      ]
     },
     "execution_count": 14,
     "metadata": {},
     "output_type": "execute_result"
    }
   ],
   "source": [
    "data_new.query('RegistrationYear < 1950').count() + data_new.query('RegistrationYear > 2016').count()"
   ]
  },
  {
   "cell_type": "markdown",
   "metadata": {},
   "source": [
    "Видим, что 13832 строк не вписываются в заданный диапазон, удалим их"
   ]
  },
  {
   "cell_type": "code",
   "execution_count": 15,
   "metadata": {},
   "outputs": [],
   "source": [
    "data_new = data_new.query('RegistrationYear >= 1950')\n",
    "data_new = data_new.query('RegistrationYear < 2017')"
   ]
  },
  {
   "cell_type": "markdown",
   "metadata": {},
   "source": [
    "Теперь посмотрим на Power"
   ]
  },
  {
   "cell_type": "code",
   "execution_count": 16,
   "metadata": {},
   "outputs": [
    {
     "data": {
      "text/plain": [
       "(0.0, 1000.0)"
      ]
     },
     "execution_count": 16,
     "metadata": {},
     "output_type": "execute_result"
    },
    {
     "data": {
      "image/png": "[encoded data removed]",
      "text/plain": [
       "<Figure size 864x576 with 1 Axes>"
      ]
     },
     "metadata": {
      "needs_background": "light"
     },
     "output_type": "display_data"
    }
   ],
   "source": [
    "plt.figure(figsize=(12, 8))\n",
    "sns.boxplot(data=data_new, x=\"Power\")\n",
    "plt.grid(True)\n",
    "plt.xlabel('Мощнасть');\n",
    "plt.ylabel('Количество');\n",
    "plt.title('Распределение по мощности');\n",
    "plt.xlim([0, 1000])"
   ]
  },
  {
   "cell_type": "markdown",
   "metadata": {},
   "source": [
    "Применили ограничение по оси \"х\", тк много аномальных значений, график получается растянутым. Преполагаем, что мощность машины не может быть меньше 20 и быть больше 1000, посмотрим сколько не входит в данный диапазон"
   ]
  },
  {
   "cell_type": "code",
   "execution_count": 17,
   "metadata": {},
   "outputs": [
    {
     "data": {
      "text/plain": [
       "Price                32182\n",
       "VehicleType          24113\n",
       "RegistrationYear     32182\n",
       "Gearbox              22866\n",
       "Power                32182\n",
       "Model                27941\n",
       "Kilometer            32182\n",
       "RegistrationMonth    32182\n",
       "FuelType             24411\n",
       "Brand                32182\n",
       "Repaired             16230\n",
       "dtype: int64"
      ]
     },
     "execution_count": 17,
     "metadata": {},
     "output_type": "execute_result"
    }
   ],
   "source": [
    "data_new.query('Power < 20').count() + data_new.query('Power > 1000').count()"
   ]
  },
  {
   "cell_type": "markdown",
   "metadata": {},
   "source": [
    "Видим, что 32182 строк не вписываются в заданный диапазон, удалим их"
   ]
  },
  {
   "cell_type": "code",
   "execution_count": 18,
   "metadata": {},
   "outputs": [],
   "source": [
    "data_new = data_new.query('Power >= 20')\n",
    "data_new = data_new.query('Power < 1001')"
   ]
  },
  {
   "cell_type": "markdown",
   "metadata": {},
   "source": [
    "Посмотрим сколько мы убрали данных от изначального датафрейма"
   ]
  },
  {
   "cell_type": "code",
   "execution_count": 19,
   "metadata": {},
   "outputs": [
    {
     "name": "stdout",
     "output_type": "stream",
     "text": [
      "Потеряно 17 % от изначального датафрейма\n"
     ]
    }
   ],
   "source": [
    "print('Потеряно', round((1-data_new.shape[0]/data.shape[0]) * 100), '% от изначального датафрейма')"
   ]
  },
  {
   "cell_type": "markdown",
   "metadata": {},
   "source": [
    "Будем считать сохранение больше 80 процентов от изначального датафрейма удовлетворительным\n",
    "\n",
    "Теперь обработаем пропуски в данных"
   ]
  },
  {
   "cell_type": "code",
   "execution_count": 20,
   "metadata": {},
   "outputs": [
    {
     "data": {
      "text/plain": [
       "Price                    0\n",
       "VehicleType          10807\n",
       "RegistrationYear         0\n",
       "Gearbox               5246\n",
       "Power                    0\n",
       "Model                10887\n",
       "Kilometer                0\n",
       "RegistrationMonth        0\n",
       "FuelType             15307\n",
       "Brand                    0\n",
       "Repaired             42426\n",
       "dtype: int64"
      ]
     },
     "execution_count": 20,
     "metadata": {},
     "output_type": "execute_result"
    }
   ],
   "source": [
    "data_new.isna().sum()"
   ]
  },
  {
   "cell_type": "markdown",
   "metadata": {},
   "source": [
    "Тк пропусков много, то удалить мы их не можем. Посмотрим на уникальные значения столбцов с пропусками, так мы проверим данные на неявные дубликаты и заодно посмотрим, может мы заменить пустые значения на что-то уже существующие"
   ]
  },
  {
   "cell_type": "code",
   "execution_count": 21,
   "metadata": {},
   "outputs": [
    {
     "data": {
      "text/plain": [
       "array(['coupe', 'suv', 'small', 'sedan', 'convertible', 'bus', 'wagon',\n",
       "       nan, 'other'], dtype=object)"
      ]
     },
     "execution_count": 21,
     "metadata": {},
     "output_type": "execute_result"
    }
   ],
   "source": [
    "data_new['VehicleType'].unique()"
   ]
  },
  {
   "cell_type": "markdown",
   "metadata": {},
   "source": [
    "Можем записать все пропуски как other"
   ]
  },
  {
   "cell_type": "code",
   "execution_count": 22,
   "metadata": {},
   "outputs": [],
   "source": [
    "data_new['VehicleType'] = data_new['VehicleType'].fillna('other')"
   ]
  },
  {
   "cell_type": "code",
   "execution_count": 23,
   "metadata": {},
   "outputs": [
    {
     "data": {
      "text/plain": [
       "array(['manual', 'auto', nan], dtype=object)"
      ]
     },
     "execution_count": 23,
     "metadata": {},
     "output_type": "execute_result"
    }
   ],
   "source": [
    "data_new['Gearbox'].unique()"
   ]
  },
  {
   "cell_type": "markdown",
   "metadata": {},
   "source": [
    "Тк коробок передач больше, чем две, то пропуски можно записать как other"
   ]
  },
  {
   "cell_type": "code",
   "execution_count": 24,
   "metadata": {},
   "outputs": [],
   "source": [
    "data_new['Gearbox'] = data_new['Gearbox'].fillna('other')"
   ]
  },
  {
   "cell_type": "code",
   "execution_count": 25,
   "metadata": {},
   "outputs": [
    {
     "data": {
      "text/plain": [
       "array([nan, 'grand', 'golf', 'fabia', '3er', '2_reihe', 'c_max',\n",
       "       '3_reihe', 'passat', 'navara', 'polo', 'twingo', 'a_klasse',\n",
       "       'scirocco', '5er', 'arosa', 'other', 'civic', 'transporter',\n",
       "       'punto', 'e_klasse', 'clio', 'kadett', 'one', 'fortwo', '1er',\n",
       "       'b_klasse', 'a8', 'jetta', 'fiesta', 'c_klasse', 'micra', 'vito',\n",
       "       'sprinter', 'astra', '156', 'escort', 'forester', 'xc_reihe',\n",
       "       'scenic', 'ka', 'a1', 'focus', 'a4', 'tt', 'a6', 'jazz', 'omega',\n",
       "       'slk', '7er', 'combo', 'corsa', '80', '147', 'z_reihe', 'sorento',\n",
       "       'ibiza', 'mustang', 'eos', 'touran', 'getz', 'insignia', 'almera',\n",
       "       'megane', 'a3', 'lupo', 'r19', 'caddy', 'mondeo', 'cordoba',\n",
       "       'colt', 'impreza', 'vectra', 'berlingo', 'tiguan', '6_reihe', 'c4',\n",
       "       'panda', 'up', 'i_reihe', 'ceed', 'kangoo', '5_reihe', 'yeti',\n",
       "       'octavia', 'zafira', 'mii', 'rx_reihe', '6er', 'modus', 'fox',\n",
       "       'matiz', 'beetle', 'rio', 'touareg', 'logan', 'spider', 'cuore',\n",
       "       's_max', 'a2', 'galaxy', 'c3', 'viano', 's_klasse', '1_reihe',\n",
       "       'sharan', 'avensis', 'roomster', 'sl', 'kaefer', 'santa', 'leon',\n",
       "       'cooper', '4_reihe', 'a5', 'sportage', 'laguna', 'ptcruiser',\n",
       "       'clk', 'primera', 'espace', 'exeo', '159', 'transit', 'juke',\n",
       "       'x_reihe', 'v40', 'carisma', 'accord', 'corolla', 'lanos',\n",
       "       'phaeton', 'verso', 'swift', 'rav', 'qashqai', 'picanto',\n",
       "       'boxster', 'superb', 'stilo', 'alhambra', 'roadster', 'ypsilon',\n",
       "       'galant', 'justy', '90', 'sirion', 'signum', 'crossfire', 'agila',\n",
       "       'duster', 'v50', 'mx_reihe', '500', 'meriva', 'c_reihe',\n",
       "       'v_klasse', 'm_klasse', 'yaris', 'c5', 'aygo', 'seicento', 'cc',\n",
       "       'carnival', 'fusion', '911', 'bora', 'forfour', 'cl', 'tigra',\n",
       "       '300c', '100', 'cr_reihe', 'spark', 'kuga', 'x_type', 'ducato',\n",
       "       's_type', 'x_trail', 'toledo', 'altea', 'voyager', 'calibra',\n",
       "       'v70', 'bravo', 'tucson', 'c1', 'citigo', 'jimny', 'cayenne',\n",
       "       'wrangler', 'lybra', 'lancer', 'captiva', 'discovery',\n",
       "       'freelander', 'sandero', 'q7', 'note', 'antara', '900', 'cherokee',\n",
       "       'clubman', 'defender', 'cx_reihe', 'legacy', 'pajero', 'auris',\n",
       "       'c2', 'niva', 's60', 'm_reihe', 'nubira', 'vivaro', 'g_klasse',\n",
       "       'lodgy', 'range_rover', '601', '850', 'q3', 'serie_2', 'glk',\n",
       "       'charade', 'croma', 'outlander', 'doblo', 'musa', '9000', 'kalos',\n",
       "       'v60', '200', '145', 'b_max', 'range_rover_sport', 'aveo', 'move',\n",
       "       'rangerover', 'q5', 'range_rover_evoque', 'materia', 'delta',\n",
       "       'terios', 'gl', 'kalina', 'elefantino', 'i3', 'samara', 'amarok',\n",
       "       'kappa', 'serie_3'], dtype=object)"
      ]
     },
     "execution_count": 25,
     "metadata": {},
     "output_type": "execute_result"
    }
   ],
   "source": [
    "data_new['Model'].unique()"
   ]
  },
  {
   "cell_type": "markdown",
   "metadata": {},
   "source": [
    "Определить к каким моделям можно отнести пропуски не получится, поэтому запишем как unknown"
   ]
  },
  {
   "cell_type": "code",
   "execution_count": 26,
   "metadata": {},
   "outputs": [],
   "source": [
    "data_new['Model'] = data_new['Model'].fillna('unknown')"
   ]
  },
  {
   "cell_type": "code",
   "execution_count": 27,
   "metadata": {},
   "outputs": [
    {
     "data": {
      "text/plain": [
       "array(['gasoline', 'petrol', nan, 'lpg', 'other', 'hybrid', 'cng',\n",
       "       'electric'], dtype=object)"
      ]
     },
     "execution_count": 27,
     "metadata": {},
     "output_type": "execute_result"
    }
   ],
   "source": [
    "data_new['FuelType'].unique()"
   ]
  },
  {
   "cell_type": "markdown",
   "metadata": {},
   "source": [
    "Можем записать все пропуски как other"
   ]
  },
  {
   "cell_type": "code",
   "execution_count": 28,
   "metadata": {},
   "outputs": [],
   "source": [
    "data_new['FuelType'] = data_new['FuelType'].fillna('other')"
   ]
  },
  {
   "cell_type": "code",
   "execution_count": 29,
   "metadata": {},
   "outputs": [
    {
     "data": {
      "text/plain": [
       "array(['yes', nan, 'no'], dtype=object)"
      ]
     },
     "execution_count": 29,
     "metadata": {},
     "output_type": "execute_result"
    }
   ],
   "source": [
    "data_new['Repaired'].unique()"
   ]
  },
  {
   "cell_type": "markdown",
   "metadata": {},
   "source": [
    "Определить была ли машина в ремонте не получится, поэтому запишем как unknown"
   ]
  },
  {
   "cell_type": "code",
   "execution_count": 30,
   "metadata": {},
   "outputs": [],
   "source": [
    "data_new['Repaired'] = data_new['Repaired'].fillna('unknown')"
   ]
  },
  {
   "cell_type": "markdown",
   "metadata": {},
   "source": [
    "Проверим, избавились ли мы от пропусков"
   ]
  },
  {
   "cell_type": "code",
   "execution_count": 31,
   "metadata": {
    "scrolled": true
   },
   "outputs": [
    {
     "data": {
      "text/plain": [
       "Price                0\n",
       "VehicleType          0\n",
       "RegistrationYear     0\n",
       "Gearbox              0\n",
       "Power                0\n",
       "Model                0\n",
       "Kilometer            0\n",
       "RegistrationMonth    0\n",
       "FuelType             0\n",
       "Brand                0\n",
       "Repaired             0\n",
       "dtype: int64"
      ]
     },
     "execution_count": 31,
     "metadata": {},
     "output_type": "execute_result"
    }
   ],
   "source": [
    "data_new.isna().sum()"
   ]
  },
  {
   "cell_type": "markdown",
   "metadata": {},
   "source": [
    "Так же проверим на неявные дубликаты столбец Brand"
   ]
  },
  {
   "cell_type": "code",
   "execution_count": 32,
   "metadata": {},
   "outputs": [
    {
     "data": {
      "text/plain": [
       "array(['audi', 'jeep', 'volkswagen', 'skoda', 'bmw', 'peugeot', 'ford',\n",
       "       'mazda', 'nissan', 'renault', 'mercedes_benz', 'seat', 'honda',\n",
       "       'fiat', 'opel', 'mini', 'smart', 'hyundai', 'alfa_romeo', 'subaru',\n",
       "       'volvo', 'mitsubishi', 'kia', 'suzuki', 'lancia', 'citroen',\n",
       "       'toyota', 'chevrolet', 'dacia', 'daihatsu', 'chrysler',\n",
       "       'sonstige_autos', 'jaguar', 'daewoo', 'rover', 'porsche', 'saab',\n",
       "       'trabant', 'land_rover', 'lada'], dtype=object)"
      ]
     },
     "execution_count": 32,
     "metadata": {},
     "output_type": "execute_result"
    }
   ],
   "source": [
    "data_new['Brand'].unique()"
   ]
  },
  {
   "cell_type": "markdown",
   "metadata": {},
   "source": [
    "### Вывод"
   ]
  },
  {
   "cell_type": "markdown",
   "metadata": {},
   "source": [
    "Мы ознакомились с датафреймом, отметили его особенности для дальнейшей работы. В ходе проверки, мы обнаружили и удалили аномальные значения в столбцах Price, RegistrationYear и Power, объем удаленных данных составил 17 процентов от изначального датафрейма, что мы сочли удовлетворительным. Нами были обработаны пропуски, все они заменены на более подходящие значения изходя их данных. Также мы проверили и удалили явные дубликаты, проверка на неявные дубликаты показала их отсутствие."
   ]
  },
  {
   "cell_type": "markdown",
   "metadata": {},
   "source": [
    "## Обучение моделей"
   ]
  },
  {
   "cell_type": "markdown",
   "metadata": {},
   "source": [
    "Перед началом обучения моделей нужно: Разделить данные на выборки, закодировать данные техникой OHE, тк у нас есть категоральные признаки, стандартизировать, тк численные признаки от столбца к столбцу имеют разную размерность\n",
    "\n",
    "Разделите исходные данные на обучающую, валидационную и тестовую выборки в соотношении 3:1:1, те 60, 20 и 20 в процентах"
   ]
  },
  {
   "cell_type": "code",
   "execution_count": 33,
   "metadata": {},
   "outputs": [],
   "source": [
    "train, valid_test = train_test_split(data_new, test_size=0.4, random_state=54321)"
   ]
  },
  {
   "cell_type": "code",
   "execution_count": 34,
   "metadata": {},
   "outputs": [],
   "source": [
    "valid, test = train_test_split(valid_test, test_size=0.5, random_state=54321)"
   ]
  },
  {
   "cell_type": "markdown",
   "metadata": {},
   "source": [
    "Создадим переменные для признаков и целевого признака для всех 3 выборок"
   ]
  },
  {
   "cell_type": "code",
   "execution_count": 35,
   "metadata": {},
   "outputs": [],
   "source": [
    "features_train = train.drop('Price', axis=1)\n",
    "target_train = train['Price']"
   ]
  },
  {
   "cell_type": "code",
   "execution_count": 36,
   "metadata": {},
   "outputs": [],
   "source": [
    "features_valid = valid.drop('Price', axis=1)\n",
    "target_valid = valid['Price']"
   ]
  },
  {
   "cell_type": "code",
   "execution_count": 37,
   "metadata": {},
   "outputs": [],
   "source": [
    "features_test = test.drop('Price', axis=1)\n",
    "target_test = test['Price']"
   ]
  },
  {
   "cell_type": "markdown",
   "metadata": {},
   "source": [
    "Теперь закодируем категориальные данные техникой OHE"
   ]
  },
  {
   "cell_type": "code",
   "execution_count": 38,
   "metadata": {},
   "outputs": [],
   "source": [
    "ohe_features = features_train.select_dtypes(include='object').columns.to_list()"
   ]
  },
  {
   "cell_type": "code",
   "execution_count": 39,
   "metadata": {},
   "outputs": [],
   "source": [
    "encoder_ohe = OneHotEncoder(handle_unknown='ignore', sparse=False)\n",
    "encoder_ohe.fit(features_train[ohe_features])\n",
    "\n",
    "pd.options.mode.chained_assignment = None"
   ]
  },
  {
   "cell_type": "code",
   "execution_count": 40,
   "metadata": {},
   "outputs": [],
   "source": [
    "features_train[encoder_ohe.get_feature_names()] = encoder_ohe.transform(features_train[ohe_features])\n",
    "\n",
    "features_train = features_train.drop(ohe_features, axis=1)"
   ]
  },
  {
   "cell_type": "code",
   "execution_count": 41,
   "metadata": {},
   "outputs": [],
   "source": [
    "features_valid[encoder_ohe.get_feature_names()] = encoder_ohe.transform(features_valid[ohe_features])\n",
    "\n",
    "features_valid = features_valid.drop(ohe_features, axis=1)"
   ]
  },
  {
   "cell_type": "code",
   "execution_count": 42,
   "metadata": {},
   "outputs": [],
   "source": [
    "features_test[encoder_ohe.get_feature_names()] = encoder_ohe.transform(features_test[ohe_features])\n",
    "\n",
    "features_test = features_test.drop(ohe_features, axis=1)"
   ]
  },
  {
   "cell_type": "markdown",
   "metadata": {},
   "source": [
    "Теперь приведем численные данные к одному масштабу методом стандартизации"
   ]
  },
  {
   "cell_type": "code",
   "execution_count": 43,
   "metadata": {},
   "outputs": [],
   "source": [
    "numeric = ['RegistrationYear', 'Power', 'Kilometer', 'RegistrationMonth',]"
   ]
  },
  {
   "cell_type": "code",
   "execution_count": 44,
   "metadata": {},
   "outputs": [],
   "source": [
    "scaler = StandardScaler()\n",
    "scaler.fit(features_train[numeric])\n",
    "\n",
    "pd.options.mode.chained_assignment = None"
   ]
  },
  {
   "cell_type": "code",
   "execution_count": 45,
   "metadata": {},
   "outputs": [],
   "source": [
    "features_train[numeric] = scaler.transform(features_train[numeric])\n",
    "features_valid[numeric] = scaler.transform(features_valid[numeric])\n",
    "features_test[numeric] = scaler.transform(features_test[numeric])"
   ]
  },
  {
   "cell_type": "markdown",
   "metadata": {},
   "source": [
    "Обучим три модели: модели градиентного бустинга LightGBM и CatBoost и модель линейной регрессии, так же попробуем модели градиентного бустинга с различными гиперпараметрами\n",
    "\n",
    "LinearRegression"
   ]
  },
  {
   "cell_type": "code",
   "execution_count": 46,
   "metadata": {},
   "outputs": [],
   "source": [
    "start_time_lr = time.time()\n",
    "    \n",
    "model_lr = LinearRegression()\n",
    "model_lr.fit(features_train, target_train)\n",
    "    \n",
    "model_time_lr = time.time() - start_time_lr\n",
    "start_time_lr = time.time()\n",
    "    \n",
    "predictions_lr = model_lr.predict(features_valid)\n",
    "    \n",
    "predictions_time_lr = time.time() - start_time_lr\n",
    "    \n",
    "result_lr = mean_squared_error(target_valid, predictions_lr)\n",
    "result_lr = result_lr ** 0.5"
   ]
  },
  {
   "cell_type": "code",
   "execution_count": 47,
   "metadata": {},
   "outputs": [
    {
     "data": {
      "text/plain": [
       "[28.452855825424194, 0.23425841331481934, 2593.1250564133857]"
      ]
     },
     "execution_count": 47,
     "metadata": {},
     "output_type": "execute_result"
    }
   ],
   "source": [
    "lr = [model_time_lr, predictions_time_lr, result_lr]\n",
    "lr"
   ]
  },
  {
   "cell_type": "markdown",
   "metadata": {},
   "source": [
    "CatBoost"
   ]
  },
  {
   "cell_type": "code",
   "execution_count": 48,
   "metadata": {},
   "outputs": [],
   "source": [
    "start_time_cat_1 = time.time()\n",
    "\n",
    "model_cat_1 = CatBoostRegressor(random_state=54321, depth=10, iterations=150, logging_level='Silent')\n",
    "model_cat_1.fit(features_train, target_train)\n",
    "\n",
    "model_time_cat_1 = time.time() - start_time_cat_1\n",
    "start_time_cat_1 = time.time()\n",
    "\n",
    "predictions_cat_1 = model_cat_1.predict(features_valid)\n",
    "\n",
    "predictions_time_cat_1 = time.time() - start_time_cat_1\n",
    "\n",
    "result_cat_1 = mean_squared_error(target_valid, predictions_cat_1)\n",
    "result_cat_1 = result_cat_1 ** 0.5"
   ]
  },
  {
   "cell_type": "code",
   "execution_count": 49,
   "metadata": {},
   "outputs": [
    {
     "data": {
      "text/plain": [
       "[10.265698671340942, 0.08870625495910645, 1555.0911250408762]"
      ]
     },
     "execution_count": 49,
     "metadata": {},
     "output_type": "execute_result"
    }
   ],
   "source": [
    "cat_1 = [model_time_cat_1, predictions_time_cat_1, result_cat_1]\n",
    "cat_1"
   ]
  },
  {
   "cell_type": "code",
   "execution_count": 50,
   "metadata": {},
   "outputs": [],
   "source": [
    "start_time_cat_2 = time.time()\n",
    "\n",
    "model_cat_2 = CatBoostRegressor(random_state=54321, learning_rate=0.1, depth=15, iterations=100, logging_level='Silent')\n",
    "model_cat_2.fit(features_train, target_train)\n",
    "\n",
    "model_time_cat_2 = time.time() - start_time_cat_2\n",
    "start_time_cat_2 = time.time()\n",
    "\n",
    "predictions_cat_2 = model_cat_2.predict(features_valid)\n",
    "\n",
    "predictions_time_cat_2 = time.time() - start_time_cat_2\n",
    "\n",
    "result_cat_2 = mean_squared_error(target_valid, predictions_cat_2)\n",
    "result_cat_2 = result_cat_2 ** 0.5"
   ]
  },
  {
   "cell_type": "code",
   "execution_count": 51,
   "metadata": {},
   "outputs": [
    {
     "data": {
      "text/plain": [
       "[73.04460787773132, 0.07113504409790039, 1615.0955939831986]"
      ]
     },
     "execution_count": 51,
     "metadata": {},
     "output_type": "execute_result"
    }
   ],
   "source": [
    "cat_2 = [model_time_cat_2, predictions_time_cat_2, result_cat_2]\n",
    "cat_2"
   ]
  },
  {
   "cell_type": "code",
   "execution_count": 52,
   "metadata": {},
   "outputs": [],
   "source": [
    "start_time_cat_3 = time.time()\n",
    "\n",
    "model_cat_3 = CatBoostRegressor(random_state=54321, learning_rate=0.5, depth=5, iterations=200, logging_level='Silent')\n",
    "model_cat_3.fit(features_train, target_train)\n",
    "\n",
    "model_time_cat_3 = time.time() - start_time_cat_3\n",
    "start_time_cat_3 = time.time()\n",
    "\n",
    "predictions_cat_3 = model_cat_3.predict(features_valid)\n",
    "\n",
    "predictions_time_cat_3 = time.time() - start_time_cat_3\n",
    "\n",
    "result_cat_3 = mean_squared_error(target_valid, predictions_cat_3)\n",
    "result_cat_3 = result_cat_3 ** 0.5"
   ]
  },
  {
   "cell_type": "code",
   "execution_count": 53,
   "metadata": {},
   "outputs": [
    {
     "data": {
      "text/plain": [
       "[7.098975419998169, 0.06762862205505371, 1615.1283876373986]"
      ]
     },
     "execution_count": 53,
     "metadata": {},
     "output_type": "execute_result"
    }
   ],
   "source": [
    "cat_3 = [model_time_cat_3, predictions_time_cat_3, result_cat_3]\n",
    "cat_3"
   ]
  },
  {
   "cell_type": "markdown",
   "metadata": {},
   "source": [
    "LightGBM"
   ]
  },
  {
   "cell_type": "code",
   "execution_count": 54,
   "metadata": {},
   "outputs": [],
   "source": [
    "start_time_lgbmr_1 = time.time()\n",
    "\n",
    "model_lgbmr_1 = LGBMRegressor(random_state=54321, max_depth=10, n_estimators=150)\n",
    "model_lgbmr_1.fit(features_train, target_train)\n",
    "\n",
    "model_time_lgbmr_1 = time.time() - start_time_lgbmr_1\n",
    "start_time_lgbmr_1 = time.time()\n",
    "\n",
    "predictions_lgbmr_1 = model_lgbmr_1.predict(features_valid)\n",
    "\n",
    "predictions_time_lgbmr_1 = time.time() - start_time_lgbmr_1\n",
    "\n",
    "result_lgbmr_1 = mean_squared_error(target_valid, predictions_lgbmr_1)\n",
    "result_lgbmr_1 = result_lgbmr_1 ** 0.5"
   ]
  },
  {
   "cell_type": "code",
   "execution_count": 55,
   "metadata": {},
   "outputs": [
    {
     "data": {
      "text/plain": [
       "[8.677432298660278, 0.9977982044219971, 1635.0893013032164]"
      ]
     },
     "execution_count": 55,
     "metadata": {},
     "output_type": "execute_result"
    }
   ],
   "source": [
    "lgbmr_1 = [model_time_lgbmr_1, predictions_time_lgbmr_1, result_lgbmr_1]\n",
    "lgbmr_1"
   ]
  },
  {
   "cell_type": "code",
   "execution_count": 56,
   "metadata": {},
   "outputs": [],
   "source": [
    "start_time_lgbmr_2 = time.time()\n",
    "\n",
    "model_lgbmr_2 = LGBMRegressor(random_state=54321, learning_rate=0.1, max_depth=15, n_estimators=50)\n",
    "model_lgbmr_2.fit(features_train, target_train)\n",
    "\n",
    "model_time_lgbmr_2 = time.time() - start_time_lgbmr_2\n",
    "start_time_lgbmr_2 = time.time()\n",
    "\n",
    "predictions_lgbmr_2 = model_lgbmr_2.predict(features_valid)\n",
    "\n",
    "predictions_time_lgbmr_2 = time.time() - start_time_lgbmr_2\n",
    "\n",
    "result_lgbmr_2 = mean_squared_error(target_valid, predictions_lgbmr_2)\n",
    "result_lgbmr_2 = result_lgbmr_2 ** 0.5"
   ]
  },
  {
   "cell_type": "code",
   "execution_count": 57,
   "metadata": {},
   "outputs": [
    {
     "data": {
      "text/plain": [
       "[32.20408010482788, 0.501777172088623, 1741.1771221999384]"
      ]
     },
     "execution_count": 57,
     "metadata": {},
     "output_type": "execute_result"
    }
   ],
   "source": [
    "lgbmr_2 = [model_time_lgbmr_2, predictions_time_lgbmr_2, result_lgbmr_2]\n",
    "lgbmr_2"
   ]
  },
  {
   "cell_type": "code",
   "execution_count": 58,
   "metadata": {},
   "outputs": [],
   "source": [
    "start_time_lgbmr_3 = time.time()\n",
    "\n",
    "model_lgbmr_3 = LGBMRegressor(random_state=54321, learning_rate=0.5, max_depth=5, n_estimators=200)\n",
    "model_lgbmr_3.fit(features_train, target_train)\n",
    "\n",
    "model_time_lgbmr_3 = time.time() - start_time_lgbmr_3\n",
    "start_time_lgbmr_3 = time.time()\n",
    "\n",
    "predictions_lgbmr_3 = model_lgbmr_3.predict(features_valid)\n",
    "\n",
    "predictions_time_lgbmr_3 = time.time() - start_time_lgbmr_3\n",
    "\n",
    "result_lgbmr_3 = mean_squared_error(target_valid, predictions_lgbmr_3)\n",
    "result_lgbmr_3 = result_lgbmr_3 ** 0.5"
   ]
  },
  {
   "cell_type": "code",
   "execution_count": 59,
   "metadata": {},
   "outputs": [
    {
     "data": {
      "text/plain": [
       "[11.015601396560669, 0.8056743144989014, 1603.4777793573885]"
      ]
     },
     "execution_count": 59,
     "metadata": {},
     "output_type": "execute_result"
    }
   ],
   "source": [
    "lgbmr_3 = [model_time_lgbmr_3, predictions_time_lgbmr_3, result_lgbmr_3]\n",
    "lgbmr_3"
   ]
  },
  {
   "cell_type": "code",
   "execution_count": 60,
   "metadata": {},
   "outputs": [],
   "source": [
    "data_models = pd.DataFrame(\n",
    "    [lr, cat_1, cat_2, cat_3, lgbmr_1, lgbmr_2, lgbmr_3], \n",
    "     columns=['Время обучения', 'Время предсказания', 'RMSE'], \n",
    "     index=['LinearRegression','CatBoost 1','CatBoost 2', 'CatBoost 3', 'LightGBM 1', 'LightGBM 2', 'LightGBM 3']\n",
    ")"
   ]
  },
  {
   "cell_type": "code",
   "execution_count": 61,
   "metadata": {},
   "outputs": [
    {
     "data": {
      "text/html": [
       "<div>\n",
       "<style scoped>\n",
       "    .dataframe tbody tr th:only-of-type {\n",
       "        vertical-align: middle;\n",
       "    }\n",
       "\n",
       "    .dataframe tbody tr th {\n",
       "        vertical-align: top;\n",
       "    }\n",
       "\n",
       "    .dataframe thead th {\n",
       "        text-align: right;\n",
       "    }\n",
       "</style>\n",
       "<table border=\"1\" class=\"dataframe\">\n",
       "  <thead>\n",
       "    <tr style=\"text-align: right;\">\n",
       "      <th></th>\n",
       "      <th>Время обучения</th>\n",
       "      <th>Время предсказания</th>\n",
       "      <th>RMSE</th>\n",
       "    </tr>\n",
       "  </thead>\n",
       "  <tbody>\n",
       "    <tr>\n",
       "      <th>LinearRegression</th>\n",
       "      <td>28.452856</td>\n",
       "      <td>0.234258</td>\n",
       "      <td>2593.125056</td>\n",
       "    </tr>\n",
       "    <tr>\n",
       "      <th>CatBoost 1</th>\n",
       "      <td>10.265699</td>\n",
       "      <td>0.088706</td>\n",
       "      <td>1555.091125</td>\n",
       "    </tr>\n",
       "    <tr>\n",
       "      <th>CatBoost 2</th>\n",
       "      <td>73.044608</td>\n",
       "      <td>0.071135</td>\n",
       "      <td>1615.095594</td>\n",
       "    </tr>\n",
       "    <tr>\n",
       "      <th>CatBoost 3</th>\n",
       "      <td>7.098975</td>\n",
       "      <td>0.067629</td>\n",
       "      <td>1615.128388</td>\n",
       "    </tr>\n",
       "    <tr>\n",
       "      <th>LightGBM 1</th>\n",
       "      <td>8.677432</td>\n",
       "      <td>0.997798</td>\n",
       "      <td>1635.089301</td>\n",
       "    </tr>\n",
       "    <tr>\n",
       "      <th>LightGBM 2</th>\n",
       "      <td>32.204080</td>\n",
       "      <td>0.501777</td>\n",
       "      <td>1741.177122</td>\n",
       "    </tr>\n",
       "    <tr>\n",
       "      <th>LightGBM 3</th>\n",
       "      <td>11.015601</td>\n",
       "      <td>0.805674</td>\n",
       "      <td>1603.477779</td>\n",
       "    </tr>\n",
       "  </tbody>\n",
       "</table>\n",
       "</div>"
      ],
      "text/plain": [
       "                  Время обучения  Время предсказания         RMSE\n",
       "LinearRegression       28.452856            0.234258  2593.125056\n",
       "CatBoost 1             10.265699            0.088706  1555.091125\n",
       "CatBoost 2             73.044608            0.071135  1615.095594\n",
       "CatBoost 3              7.098975            0.067629  1615.128388\n",
       "LightGBM 1              8.677432            0.997798  1635.089301\n",
       "LightGBM 2             32.204080            0.501777  1741.177122\n",
       "LightGBM 3             11.015601            0.805674  1603.477779"
      ]
     },
     "execution_count": 61,
     "metadata": {},
     "output_type": "execute_result"
    }
   ],
   "source": [
    "data_models"
   ]
  },
  {
   "cell_type": "markdown",
   "metadata": {},
   "source": [
    "### Вывод"
   ]
  },
  {
   "cell_type": "markdown",
   "metadata": {},
   "source": [
    "В ходе обучения моделей нами были созданы выборки по которым будут обучаться модели. В выборках мы перекодировали категориальные данные техникой OHE, также стандартизировали все численные данные.\n",
    "\n",
    "Обучение моделей выявило, что точнее всех (меньшую ошибку) работает модель градиентного бустинга CatBoost с гиперпараметрами depth=10 и iterations=150, а быстрее всех модель градиентного бустинга CatBoost с гиперпараметрами learning_rate=0.5, depth=5 и iterations=200. Модели LightGBM показали себя немного менее точными и быстрыми, но очень близко к CatBoost. Модель же LinearRegression показала себя хуже всех, метрика RMSE равна 2593.1, что больше необходимого значения поставленного задачей.\n",
    "\n",
    "Для проведения проверки на тестовых данных нами выбрана модель градиентного бустинга CatBoost с гиперпараметрами depth=10 и iterations=150."
   ]
  },
  {
   "cell_type": "markdown",
   "metadata": {},
   "source": [
    "## Анализ моделей"
   ]
  },
  {
   "cell_type": "markdown",
   "metadata": {},
   "source": [
    "Проведем проверку лучшей модели на тестовой выборке"
   ]
  },
  {
   "cell_type": "code",
   "execution_count": 62,
   "metadata": {},
   "outputs": [],
   "source": [
    "start_time_cat_best = time.time()\n",
    "\n",
    "model_cat_best = CatBoostRegressor(random_state=54321, depth=10, iterations=150, logging_level='Silent')\n",
    "model_cat_best.fit(features_train, target_train)\n",
    "\n",
    "model_time_cat_best = time.time() - start_time_cat_best\n",
    "start_time_cat_best = time.time()\n",
    "\n",
    "predictions_cat_best = model_cat_best.predict(features_test)\n",
    "\n",
    "predictions_time_cat_best = time.time() - start_time_cat_best\n",
    "\n",
    "result_cat_best = mean_squared_error(target_test, predictions_cat_best)\n",
    "result_cat_best = result_cat_best ** 0.5"
   ]
  },
  {
   "cell_type": "code",
   "execution_count": 63,
   "metadata": {},
   "outputs": [
    {
     "data": {
      "text/plain": [
       "[9.720098733901978, 0.07810568809509277, 1551.0288495935984]"
      ]
     },
     "execution_count": 63,
     "metadata": {},
     "output_type": "execute_result"
    }
   ],
   "source": [
    "cat_best = [model_time_cat_best, predictions_time_cat_best, result_cat_best]\n",
    "cat_best"
   ]
  },
  {
   "cell_type": "markdown",
   "metadata": {},
   "source": [
    "Теперь сравним нашу модель на тестовой выборке с Dummy моделью"
   ]
  },
  {
   "cell_type": "code",
   "execution_count": 64,
   "metadata": {},
   "outputs": [
    {
     "data": {
      "text/plain": [
       "4599.20855155393"
      ]
     },
     "execution_count": 64,
     "metadata": {},
     "output_type": "execute_result"
    }
   ],
   "source": [
    "dummy_model = DummyRegressor(strategy='mean')\n",
    "dummy_model.fit(features_train,target_train)\n",
    "predictions_dummy = dummy_model.predict(features_test)\n",
    "result_dummy = mean_squared_error(target_test, predictions_dummy)\n",
    "result_dummy = result_dummy ** 0.5\n",
    "result_dummy"
   ]
  },
  {
   "cell_type": "markdown",
   "metadata": {},
   "source": [
    "### Вывод"
   ]
  },
  {
   "cell_type": "markdown",
   "metadata": {},
   "source": [
    "Лучшая модель на валидационной выборке показала на тестовой выборке RMSE = 1551, время обучения модели = 11.2 секунды, а время предсказания = 0.1 секунды. Проверка константной моделью показало RMSE = 4600"
   ]
  },
  {
   "cell_type": "markdown",
   "metadata": {},
   "source": [
    "## Общий вывод"
   ]
  },
  {
   "cell_type": "markdown",
   "metadata": {},
   "source": [
    "В ходе проведения работы мы ознакомились с датафреймом, отметили его особенности для дальнейшей работы. В ходе проверки, мы обнаружили и удалили аномальные значения в столбцах Price, RegistrationYear и Power, объем удаленных данных составил 17 процентов от изначального датафрейма, что мы сочли удовлетворительным. Нами были обработаны пропуски, все они заменены на более подходящие значения изходя их данных. Также мы проверили и удалили явные дубликаты, проверка на неявные дубликаты показала их отсутствие.\n",
    "\n",
    "До обучения моделей нами были разбиты данные на обучающую, валидационную и тестовую выборки в соотношении 3:1:1, те 60, 20 и 20 в процентах, затем в выборках были преобразованы категориальные данные техникой OHE, а численные данные приведенны к одному масштабу методом стандартизации. Обучение моделей показало, что хуже всего данные обучаются на линейной регрессии, метрика rmse = 2593, что не удовлетворяет требованию (rmse не должно привышать границу в 2500) задачи. Модели LightGBM и CatBoost показали очень схожий результат, метрика rmse во всех экспериментах была около значения в 1600. Наилучший результат CatBoost с гиперпараметрами depth=10 и iterations=150, её мы и выбрали для тестирования.\n",
    "\n",
    "Тест наилучшей модели показал такие результаты:RMSE = 1551, время обучения модели = 11.2 секунды, время предсказания = 0.1 секунды. Тест на константной модели дал результат RMSE = 4600. Исходя из всех данных делаем вывод, что с поставленной целью мы справились =).  "
   ]
  },
  {
   "cell_type": "code",
   "execution_count": null,
   "metadata": {},
   "outputs": [],
   "source": []
  }
 ],
 "metadata": {
  "ExecuteTimeLog": [
   {
    "duration": 1526,
    "start_time": "2023-04-04T15:04:48.383Z"
   },
   {
    "duration": 1320,
    "start_time": "2023-04-04T15:05:53.148Z"
   },
   {
    "duration": 23,
    "start_time": "2023-04-04T15:06:13.436Z"
   },
   {
    "duration": 184,
    "start_time": "2023-04-04T15:06:25.757Z"
   },
   {
    "duration": 197,
    "start_time": "2023-04-04T15:34:08.113Z"
   },
   {
    "duration": 352,
    "start_time": "2023-04-04T15:40:42.773Z"
   },
   {
    "duration": 171,
    "start_time": "2023-04-04T15:40:50.735Z"
   },
   {
    "duration": 1563,
    "start_time": "2023-04-04T15:45:28.222Z"
   },
   {
    "duration": 33,
    "start_time": "2023-04-04T16:12:17.419Z"
   },
   {
    "duration": 122,
    "start_time": "2023-04-04T16:12:27.181Z"
   },
   {
    "duration": 525,
    "start_time": "2023-04-04T16:33:50.108Z"
   },
   {
    "duration": 622,
    "start_time": "2023-04-04T16:34:09.985Z"
   },
   {
    "duration": 438,
    "start_time": "2023-04-04T16:34:29.447Z"
   },
   {
    "duration": 392,
    "start_time": "2023-04-04T16:35:28.503Z"
   },
   {
    "duration": 417,
    "start_time": "2023-04-04T16:35:33.839Z"
   },
   {
    "duration": 388,
    "start_time": "2023-04-04T16:35:38.118Z"
   },
   {
    "duration": 386,
    "start_time": "2023-04-04T16:35:49.607Z"
   },
   {
    "duration": 363,
    "start_time": "2023-04-04T16:36:20.862Z"
   },
   {
    "duration": 39,
    "start_time": "2023-04-04T16:39:48.033Z"
   },
   {
    "duration": 54,
    "start_time": "2023-04-04T16:40:03.280Z"
   },
   {
    "duration": 186,
    "start_time": "2023-04-04T16:40:12.809Z"
   },
   {
    "duration": 37,
    "start_time": "2023-04-04T16:40:25.438Z"
   },
   {
    "duration": 33,
    "start_time": "2023-04-04T16:40:59.616Z"
   },
   {
    "duration": 29,
    "start_time": "2023-04-04T16:41:15.007Z"
   },
   {
    "duration": 45,
    "start_time": "2023-04-04T16:41:20.086Z"
   },
   {
    "duration": 9,
    "start_time": "2023-04-04T16:42:08.919Z"
   },
   {
    "duration": 16,
    "start_time": "2023-04-04T16:43:38.805Z"
   },
   {
    "duration": 37,
    "start_time": "2023-04-04T16:43:52.175Z"
   },
   {
    "duration": 24,
    "start_time": "2023-04-04T16:45:18.351Z"
   },
   {
    "duration": 18,
    "start_time": "2023-04-04T16:45:39.156Z"
   },
   {
    "duration": 25,
    "start_time": "2023-04-04T16:46:40.607Z"
   },
   {
    "duration": 19,
    "start_time": "2023-04-04T16:46:48.108Z"
   },
   {
    "duration": 25,
    "start_time": "2023-04-04T16:46:51.992Z"
   },
   {
    "duration": 17,
    "start_time": "2023-04-04T16:49:07.971Z"
   },
   {
    "duration": 17,
    "start_time": "2023-04-04T16:49:22.116Z"
   },
   {
    "duration": 18,
    "start_time": "2023-04-04T16:49:24.612Z"
   },
   {
    "duration": 22,
    "start_time": "2023-04-04T16:49:46.636Z"
   },
   {
    "duration": 15,
    "start_time": "2023-04-04T16:54:03.187Z"
   },
   {
    "duration": 1289,
    "start_time": "2023-04-04T16:54:36.466Z"
   },
   {
    "duration": 906,
    "start_time": "2023-04-04T16:54:38.514Z"
   },
   {
    "duration": 22,
    "start_time": "2023-04-04T16:54:39.422Z"
   },
   {
    "duration": 164,
    "start_time": "2023-04-04T16:54:39.850Z"
   },
   {
    "duration": 154,
    "start_time": "2023-04-04T16:54:40.450Z"
   },
   {
    "duration": 1073,
    "start_time": "2023-04-04T16:54:41.473Z"
   },
   {
    "duration": 35,
    "start_time": "2023-04-04T16:54:43.962Z"
   },
   {
    "duration": 380,
    "start_time": "2023-04-04T16:54:45.210Z"
   },
   {
    "duration": 26,
    "start_time": "2023-04-04T16:54:46.771Z"
   },
   {
    "duration": 35,
    "start_time": "2023-04-04T16:54:48.427Z"
   },
   {
    "duration": 109,
    "start_time": "2023-04-04T16:54:57.818Z"
   },
   {
    "duration": 463,
    "start_time": "2023-04-04T16:56:12.882Z"
   },
   {
    "duration": 152,
    "start_time": "2023-04-04T16:56:45.450Z"
   },
   {
    "duration": 57443,
    "start_time": "2023-04-04T16:56:55.586Z"
   },
   {
    "duration": 199,
    "start_time": "2023-04-04T16:58:24.449Z"
   },
   {
    "duration": 147,
    "start_time": "2023-04-04T17:00:38.904Z"
   },
   {
    "duration": 186,
    "start_time": "2023-04-04T17:00:50.161Z"
   },
   {
    "duration": 165,
    "start_time": "2023-04-04T17:00:58.208Z"
   },
   {
    "duration": 205,
    "start_time": "2023-04-04T17:01:11.944Z"
   },
   {
    "duration": 11,
    "start_time": "2023-04-04T17:07:08.823Z"
   },
   {
    "duration": 11,
    "start_time": "2023-04-04T17:07:59.175Z"
   },
   {
    "duration": 35,
    "start_time": "2023-04-04T17:08:36.374Z"
   },
   {
    "duration": 9,
    "start_time": "2023-04-04T17:09:15.726Z"
   },
   {
    "duration": 23,
    "start_time": "2023-04-04T17:09:18.725Z"
   },
   {
    "duration": 91,
    "start_time": "2023-04-04T17:12:30.040Z"
   },
   {
    "duration": 67,
    "start_time": "2023-04-04T17:12:38.364Z"
   },
   {
    "duration": 93,
    "start_time": "2023-04-04T17:12:48.181Z"
   },
   {
    "duration": 177,
    "start_time": "2023-04-04T17:16:47.907Z"
   },
   {
    "duration": 182,
    "start_time": "2023-04-04T17:17:09.931Z"
   },
   {
    "duration": 145,
    "start_time": "2023-04-04T17:17:15.699Z"
   },
   {
    "duration": 100,
    "start_time": "2023-04-04T17:18:40.602Z"
   },
   {
    "duration": 28,
    "start_time": "2023-04-04T17:21:37.383Z"
   },
   {
    "duration": 32,
    "start_time": "2023-04-04T17:21:59.537Z"
   },
   {
    "duration": 30,
    "start_time": "2023-04-04T17:22:01.721Z"
   },
   {
    "duration": 31,
    "start_time": "2023-04-04T17:22:31.890Z"
   },
   {
    "duration": 1219,
    "start_time": "2023-04-04T17:31:49.919Z"
   },
   {
    "duration": 962,
    "start_time": "2023-04-04T17:31:51.910Z"
   },
   {
    "duration": 37,
    "start_time": "2023-04-04T17:31:52.874Z"
   },
   {
    "duration": 181,
    "start_time": "2023-04-04T17:31:52.913Z"
   },
   {
    "duration": 169,
    "start_time": "2023-04-04T17:31:53.382Z"
   },
   {
    "duration": 1172,
    "start_time": "2023-04-04T17:31:54.782Z"
   },
   {
    "duration": 29,
    "start_time": "2023-04-04T17:32:02.103Z"
   },
   {
    "duration": 484,
    "start_time": "2023-04-04T17:32:07.551Z"
   },
   {
    "duration": 26,
    "start_time": "2023-04-04T17:32:11.877Z"
   },
   {
    "duration": 34,
    "start_time": "2023-04-04T17:34:51.717Z"
   },
   {
    "duration": 192,
    "start_time": "2023-04-04T17:35:00.845Z"
   },
   {
    "duration": 24,
    "start_time": "2023-04-04T17:35:10.317Z"
   },
   {
    "duration": 58,
    "start_time": "2023-04-04T17:35:21.828Z"
   },
   {
    "duration": 306,
    "start_time": "2023-04-04T17:35:27.677Z"
   },
   {
    "duration": 36,
    "start_time": "2023-04-04T17:35:37.504Z"
   },
   {
    "duration": 63,
    "start_time": "2023-04-04T17:37:12.654Z"
   },
   {
    "duration": 4,
    "start_time": "2023-04-04T17:44:22.227Z"
   },
   {
    "duration": 4,
    "start_time": "2023-04-04T17:44:53.042Z"
   },
   {
    "duration": 5,
    "start_time": "2023-04-04T17:51:55.104Z"
   },
   {
    "duration": 84,
    "start_time": "2023-04-04T17:54:05.920Z"
   },
   {
    "duration": 76,
    "start_time": "2023-04-04T18:05:03.611Z"
   },
   {
    "duration": 74,
    "start_time": "2023-04-04T18:05:12.413Z"
   },
   {
    "duration": 180,
    "start_time": "2023-04-04T18:06:07.018Z"
   },
   {
    "duration": 160,
    "start_time": "2023-04-04T18:06:21.282Z"
   },
   {
    "duration": 1154,
    "start_time": "2023-04-04T18:07:24.332Z"
   },
   {
    "duration": 968,
    "start_time": "2023-04-04T18:07:26.201Z"
   },
   {
    "duration": 40,
    "start_time": "2023-04-04T18:07:27.171Z"
   },
   {
    "duration": 184,
    "start_time": "2023-04-04T18:07:27.595Z"
   },
   {
    "duration": 170,
    "start_time": "2023-04-04T18:07:28.451Z"
   },
   {
    "duration": 1167,
    "start_time": "2023-04-04T18:07:29.500Z"
   },
   {
    "duration": 555,
    "start_time": "2023-04-04T18:08:13.491Z"
   },
   {
    "duration": 570,
    "start_time": "2023-04-04T18:08:43.858Z"
   },
   {
    "duration": 38,
    "start_time": "2023-04-04T18:08:46.546Z"
   },
   {
    "duration": 415,
    "start_time": "2023-04-04T18:08:48.014Z"
   },
   {
    "duration": 18,
    "start_time": "2023-04-04T18:08:49.227Z"
   },
   {
    "duration": 44,
    "start_time": "2023-04-04T18:08:50.203Z"
   },
   {
    "duration": 193,
    "start_time": "2023-04-04T18:08:50.908Z"
   },
   {
    "duration": 23,
    "start_time": "2023-04-04T18:08:52.019Z"
   },
   {
    "duration": 58,
    "start_time": "2023-04-04T18:08:52.922Z"
   },
   {
    "duration": 237,
    "start_time": "2023-04-04T18:08:53.622Z"
   },
   {
    "duration": 52,
    "start_time": "2023-04-04T18:08:54.658Z"
   },
   {
    "duration": 45,
    "start_time": "2023-04-04T18:08:55.824Z"
   },
   {
    "duration": 4,
    "start_time": "2023-04-04T18:08:56.946Z"
   },
   {
    "duration": 97,
    "start_time": "2023-04-04T18:08:57.932Z"
   },
   {
    "duration": 81,
    "start_time": "2023-04-04T18:09:00.819Z"
   },
   {
    "duration": 90,
    "start_time": "2023-04-04T18:09:01.354Z"
   },
   {
    "duration": 37,
    "start_time": "2023-04-04T18:09:52.027Z"
   },
   {
    "duration": 26,
    "start_time": "2023-04-04T18:10:35.459Z"
   },
   {
    "duration": 24,
    "start_time": "2023-04-04T18:11:05.029Z"
   },
   {
    "duration": 18,
    "start_time": "2023-04-04T18:11:37.035Z"
   },
   {
    "duration": 27,
    "start_time": "2023-04-04T18:11:42.420Z"
   },
   {
    "duration": 1308,
    "start_time": "2023-04-04T18:16:27.510Z"
   },
   {
    "duration": 985,
    "start_time": "2023-04-04T18:16:29.489Z"
   },
   {
    "duration": 25,
    "start_time": "2023-04-04T18:16:30.476Z"
   },
   {
    "duration": 152,
    "start_time": "2023-04-04T18:16:31.017Z"
   },
   {
    "duration": 170,
    "start_time": "2023-04-04T18:16:31.751Z"
   },
   {
    "duration": 1129,
    "start_time": "2023-04-04T18:16:32.326Z"
   },
   {
    "duration": 535,
    "start_time": "2023-04-04T18:16:34.602Z"
   },
   {
    "duration": 557,
    "start_time": "2023-04-04T18:16:35.584Z"
   },
   {
    "duration": 35,
    "start_time": "2023-04-04T18:16:36.816Z"
   },
   {
    "duration": 381,
    "start_time": "2023-04-04T18:16:38.160Z"
   },
   {
    "duration": 26,
    "start_time": "2023-04-04T18:16:39.321Z"
   },
   {
    "duration": 38,
    "start_time": "2023-04-04T18:16:40.240Z"
   },
   {
    "duration": 187,
    "start_time": "2023-04-04T18:16:41.167Z"
   },
   {
    "duration": 28,
    "start_time": "2023-04-04T18:16:42.759Z"
   },
   {
    "duration": 69,
    "start_time": "2023-04-04T18:16:44.777Z"
   },
   {
    "duration": 247,
    "start_time": "2023-04-04T18:16:45.710Z"
   },
   {
    "duration": 28,
    "start_time": "2023-04-04T18:16:47.343Z"
   },
   {
    "duration": 43,
    "start_time": "2023-04-04T18:16:49.120Z"
   },
   {
    "duration": 4,
    "start_time": "2023-04-04T18:16:51.778Z"
   },
   {
    "duration": 94,
    "start_time": "2023-04-04T18:16:54.432Z"
   },
   {
    "duration": 29,
    "start_time": "2023-04-04T18:17:09.107Z"
   },
   {
    "duration": 37,
    "start_time": "2023-04-04T18:18:10.288Z"
   },
   {
    "duration": 28,
    "start_time": "2023-04-04T18:18:31.776Z"
   },
   {
    "duration": 51,
    "start_time": "2023-04-04T18:19:20.743Z"
   },
   {
    "duration": 17,
    "start_time": "2023-04-04T18:19:40.143Z"
   },
   {
    "duration": 19,
    "start_time": "2023-04-04T18:20:02.455Z"
   },
   {
    "duration": 19,
    "start_time": "2023-04-04T18:21:18.566Z"
   },
   {
    "duration": 18,
    "start_time": "2023-04-04T18:21:35.255Z"
   },
   {
    "duration": 19,
    "start_time": "2023-04-04T18:22:22.366Z"
   },
   {
    "duration": 38,
    "start_time": "2023-04-04T18:22:44.580Z"
   },
   {
    "duration": 18,
    "start_time": "2023-04-04T18:23:16.150Z"
   },
   {
    "duration": 35,
    "start_time": "2023-04-04T18:24:19.483Z"
   },
   {
    "duration": 90,
    "start_time": "2023-04-04T18:24:59.150Z"
   },
   {
    "duration": 27,
    "start_time": "2023-04-04T18:25:44.373Z"
   },
   {
    "duration": 101,
    "start_time": "2023-04-04T18:33:49.268Z"
   },
   {
    "duration": 1654,
    "start_time": "2023-04-07T17:47:40.593Z"
   },
   {
    "duration": 2987,
    "start_time": "2023-04-07T17:47:45.563Z"
   },
   {
    "duration": 19,
    "start_time": "2023-04-07T17:47:48.552Z"
   },
   {
    "duration": 123,
    "start_time": "2023-04-07T17:47:49.347Z"
   },
   {
    "duration": 114,
    "start_time": "2023-04-07T17:47:50.402Z"
   },
   {
    "duration": 1090,
    "start_time": "2023-04-07T17:47:51.323Z"
   },
   {
    "duration": 479,
    "start_time": "2023-04-07T17:47:53.962Z"
   },
   {
    "duration": 511,
    "start_time": "2023-04-07T17:47:55.282Z"
   },
   {
    "duration": 34,
    "start_time": "2023-04-07T17:47:56.282Z"
   },
   {
    "duration": 459,
    "start_time": "2023-04-07T17:47:57.419Z"
   },
   {
    "duration": 18,
    "start_time": "2023-04-07T17:47:58.810Z"
   },
   {
    "duration": 31,
    "start_time": "2023-04-07T17:47:59.450Z"
   },
   {
    "duration": 166,
    "start_time": "2023-04-07T17:48:00.098Z"
   },
   {
    "duration": 25,
    "start_time": "2023-04-07T17:48:00.794Z"
   },
   {
    "duration": 58,
    "start_time": "2023-04-07T17:48:01.578Z"
   },
   {
    "duration": 150,
    "start_time": "2023-04-07T17:48:02.737Z"
   },
   {
    "duration": 27,
    "start_time": "2023-04-07T17:48:03.657Z"
   },
   {
    "duration": 47,
    "start_time": "2023-04-07T17:48:04.337Z"
   },
   {
    "duration": 4,
    "start_time": "2023-04-07T17:48:04.978Z"
   },
   {
    "duration": 58,
    "start_time": "2023-04-07T17:48:05.609Z"
   },
   {
    "duration": 17,
    "start_time": "2023-04-07T17:48:06.250Z"
   },
   {
    "duration": 15,
    "start_time": "2023-04-07T17:48:06.890Z"
   },
   {
    "duration": 19,
    "start_time": "2023-04-07T17:48:07.226Z"
   },
   {
    "duration": 16,
    "start_time": "2023-04-07T17:48:08.995Z"
   },
   {
    "duration": 21,
    "start_time": "2023-04-07T17:48:10.018Z"
   },
   {
    "duration": 15,
    "start_time": "2023-04-07T17:48:11.913Z"
   },
   {
    "duration": 17,
    "start_time": "2023-04-07T17:48:12.434Z"
   },
   {
    "duration": 16,
    "start_time": "2023-04-07T17:48:14.346Z"
   },
   {
    "duration": 19,
    "start_time": "2023-04-07T17:48:14.874Z"
   },
   {
    "duration": 15,
    "start_time": "2023-04-07T17:48:16.394Z"
   },
   {
    "duration": 54,
    "start_time": "2023-04-07T17:48:17.802Z"
   },
   {
    "duration": 20,
    "start_time": "2023-04-07T17:48:19.337Z"
   },
   {
    "duration": 128,
    "start_time": "2023-04-07T18:01:17.654Z"
   },
   {
    "duration": 15,
    "start_time": "2023-04-07T18:01:32.311Z"
   },
   {
    "duration": 16,
    "start_time": "2023-04-07T18:08:14.509Z"
   },
   {
    "duration": 14,
    "start_time": "2023-04-07T18:08:56.469Z"
   },
   {
    "duration": 4,
    "start_time": "2023-04-07T18:09:50.852Z"
   },
   {
    "duration": 15,
    "start_time": "2023-04-07T18:10:00.084Z"
   },
   {
    "duration": 78,
    "start_time": "2023-04-07T18:10:24.307Z"
   },
   {
    "duration": 22,
    "start_time": "2023-04-07T18:32:26.001Z"
   },
   {
    "duration": 24,
    "start_time": "2023-04-07T18:39:49.051Z"
   },
   {
    "duration": 24,
    "start_time": "2023-04-07T18:40:02.347Z"
   },
   {
    "duration": 32,
    "start_time": "2023-04-07T18:41:47.987Z"
   },
   {
    "duration": 1091,
    "start_time": "2023-04-07T18:42:57.170Z"
   },
   {
    "duration": 19,
    "start_time": "2023-04-07T18:43:03.729Z"
   },
   {
    "duration": 4,
    "start_time": "2023-04-07T18:45:47.664Z"
   },
   {
    "duration": 21,
    "start_time": "2023-04-07T18:45:53.805Z"
   },
   {
    "duration": 4,
    "start_time": "2023-04-07T18:47:23.320Z"
   },
   {
    "duration": 4,
    "start_time": "2023-04-07T18:55:29.584Z"
   },
   {
    "duration": 918,
    "start_time": "2023-04-07T18:55:44.156Z"
   },
   {
    "duration": 1108,
    "start_time": "2023-04-07T19:04:25.097Z"
   },
   {
    "duration": 1028,
    "start_time": "2023-04-07T19:05:11.513Z"
   },
   {
    "duration": 51,
    "start_time": "2023-04-07T19:08:21.786Z"
   },
   {
    "duration": 1549,
    "start_time": "2023-04-07T19:09:48.215Z"
   },
   {
    "duration": 3114,
    "start_time": "2023-04-07T19:09:50.550Z"
   },
   {
    "duration": 19,
    "start_time": "2023-04-07T19:09:53.667Z"
   },
   {
    "duration": 116,
    "start_time": "2023-04-07T19:09:54.354Z"
   },
   {
    "duration": 123,
    "start_time": "2023-04-07T19:09:55.319Z"
   },
   {
    "duration": 1104,
    "start_time": "2023-04-07T19:09:55.966Z"
   },
   {
    "duration": 538,
    "start_time": "2023-04-07T19:09:57.927Z"
   },
   {
    "duration": 559,
    "start_time": "2023-04-07T19:09:58.467Z"
   },
   {
    "duration": 48,
    "start_time": "2023-04-07T19:09:59.134Z"
   },
   {
    "duration": 503,
    "start_time": "2023-04-07T19:09:59.727Z"
   },
   {
    "duration": 27,
    "start_time": "2023-04-07T19:10:00.232Z"
   },
   {
    "duration": 37,
    "start_time": "2023-04-07T19:10:00.511Z"
   },
   {
    "duration": 179,
    "start_time": "2023-04-07T19:10:01.239Z"
   },
   {
    "duration": 24,
    "start_time": "2023-04-07T19:10:01.863Z"
   },
   {
    "duration": 67,
    "start_time": "2023-04-07T19:10:02.479Z"
   },
   {
    "duration": 152,
    "start_time": "2023-04-07T19:10:03.391Z"
   },
   {
    "duration": 35,
    "start_time": "2023-04-07T19:10:04.422Z"
   },
   {
    "duration": 51,
    "start_time": "2023-04-07T19:10:05.258Z"
   },
   {
    "duration": 3,
    "start_time": "2023-04-07T19:10:05.967Z"
   },
   {
    "duration": 67,
    "start_time": "2023-04-07T19:10:06.359Z"
   },
   {
    "duration": 18,
    "start_time": "2023-04-07T19:10:06.754Z"
   },
   {
    "duration": 15,
    "start_time": "2023-04-07T19:10:07.260Z"
   },
   {
    "duration": 15,
    "start_time": "2023-04-07T19:10:07.470Z"
   },
   {
    "duration": 17,
    "start_time": "2023-04-07T19:10:07.870Z"
   },
   {
    "duration": 18,
    "start_time": "2023-04-07T19:10:08.055Z"
   },
   {
    "duration": 20,
    "start_time": "2023-04-07T19:10:09.259Z"
   },
   {
    "duration": 22,
    "start_time": "2023-04-07T19:10:09.543Z"
   },
   {
    "duration": 15,
    "start_time": "2023-04-07T19:10:10.974Z"
   },
   {
    "duration": 18,
    "start_time": "2023-04-07T19:10:11.398Z"
   },
   {
    "duration": 23,
    "start_time": "2023-04-07T19:10:12.344Z"
   },
   {
    "duration": 55,
    "start_time": "2023-04-07T19:10:13.591Z"
   },
   {
    "duration": 22,
    "start_time": "2023-04-07T19:10:35.007Z"
   },
   {
    "duration": 20,
    "start_time": "2023-04-07T19:10:36.719Z"
   },
   {
    "duration": 78,
    "start_time": "2023-04-07T19:10:37.711Z"
   },
   {
    "duration": 19,
    "start_time": "2023-04-07T19:10:40.351Z"
   },
   {
    "duration": 1495,
    "start_time": "2023-04-07T19:11:02.590Z"
   },
   {
    "duration": 3230,
    "start_time": "2023-04-07T19:11:05.094Z"
   },
   {
    "duration": 19,
    "start_time": "2023-04-07T19:11:08.326Z"
   },
   {
    "duration": 109,
    "start_time": "2023-04-07T19:11:08.790Z"
   },
   {
    "duration": 101,
    "start_time": "2023-04-07T19:11:09.494Z"
   },
   {
    "duration": 1026,
    "start_time": "2023-04-07T19:11:10.230Z"
   },
   {
    "duration": 490,
    "start_time": "2023-04-07T19:11:12.118Z"
   },
   {
    "duration": 550,
    "start_time": "2023-04-07T19:11:13.038Z"
   },
   {
    "duration": 39,
    "start_time": "2023-04-07T19:11:13.647Z"
   },
   {
    "duration": 438,
    "start_time": "2023-04-07T19:11:14.263Z"
   },
   {
    "duration": 23,
    "start_time": "2023-04-07T19:11:15.174Z"
   },
   {
    "duration": 37,
    "start_time": "2023-04-07T19:11:15.913Z"
   },
   {
    "duration": 158,
    "start_time": "2023-04-07T19:11:16.670Z"
   },
   {
    "duration": 25,
    "start_time": "2023-04-07T19:11:17.462Z"
   },
   {
    "duration": 61,
    "start_time": "2023-04-07T19:11:18.095Z"
   },
   {
    "duration": 147,
    "start_time": "2023-04-07T19:11:18.694Z"
   },
   {
    "duration": 29,
    "start_time": "2023-04-07T19:11:19.359Z"
   },
   {
    "duration": 55,
    "start_time": "2023-04-07T19:11:19.999Z"
   },
   {
    "duration": 4,
    "start_time": "2023-04-07T19:11:20.471Z"
   },
   {
    "duration": 56,
    "start_time": "2023-04-07T19:11:20.966Z"
   },
   {
    "duration": 20,
    "start_time": "2023-04-07T19:11:21.502Z"
   },
   {
    "duration": 16,
    "start_time": "2023-04-07T19:11:22.062Z"
   },
   {
    "duration": 17,
    "start_time": "2023-04-07T19:11:22.286Z"
   },
   {
    "duration": 16,
    "start_time": "2023-04-07T19:11:22.670Z"
   },
   {
    "duration": 19,
    "start_time": "2023-04-07T19:11:22.854Z"
   },
   {
    "duration": 20,
    "start_time": "2023-04-07T19:11:23.206Z"
   },
   {
    "duration": 17,
    "start_time": "2023-04-07T19:11:23.574Z"
   },
   {
    "duration": 27,
    "start_time": "2023-04-07T19:11:23.990Z"
   },
   {
    "duration": 30,
    "start_time": "2023-04-07T19:11:24.311Z"
   },
   {
    "duration": 17,
    "start_time": "2023-04-07T19:11:25.039Z"
   },
   {
    "duration": 58,
    "start_time": "2023-04-07T19:11:25.582Z"
   },
   {
    "duration": 19,
    "start_time": "2023-04-07T19:11:26.463Z"
   },
   {
    "duration": 16,
    "start_time": "2023-04-07T19:11:28.149Z"
   },
   {
    "duration": 76,
    "start_time": "2023-04-07T19:11:28.454Z"
   },
   {
    "duration": 18,
    "start_time": "2023-04-07T19:11:29.694Z"
   },
   {
    "duration": 1060,
    "start_time": "2023-04-07T19:11:33.734Z"
   },
   {
    "duration": 1753,
    "start_time": "2023-04-09T11:30:19.816Z"
   },
   {
    "duration": 3027,
    "start_time": "2023-04-09T11:30:22.436Z"
   },
   {
    "duration": 21,
    "start_time": "2023-04-09T11:30:25.465Z"
   },
   {
    "duration": 125,
    "start_time": "2023-04-09T11:30:26.108Z"
   },
   {
    "duration": 128,
    "start_time": "2023-04-09T11:30:27.732Z"
   },
   {
    "duration": 1340,
    "start_time": "2023-04-09T11:30:29.428Z"
   },
   {
    "duration": 585,
    "start_time": "2023-04-09T11:30:32.758Z"
   },
   {
    "duration": 608,
    "start_time": "2023-04-09T11:30:34.172Z"
   },
   {
    "duration": 40,
    "start_time": "2023-04-09T11:30:37.189Z"
   },
   {
    "duration": 446,
    "start_time": "2023-04-09T11:30:39.958Z"
   },
   {
    "duration": 38,
    "start_time": "2023-04-09T11:30:41.834Z"
   },
   {
    "duration": 36,
    "start_time": "2023-04-09T11:30:45.699Z"
   },
   {
    "duration": 212,
    "start_time": "2023-04-09T11:30:46.964Z"
   },
   {
    "duration": 53,
    "start_time": "2023-04-09T11:30:48.464Z"
   },
   {
    "duration": 100,
    "start_time": "2023-04-09T11:30:52.077Z"
   },
   {
    "duration": 166,
    "start_time": "2023-04-09T11:31:00.959Z"
   },
   {
    "duration": 35,
    "start_time": "2023-04-09T11:31:03.216Z"
   },
   {
    "duration": 77,
    "start_time": "2023-04-09T11:31:05.607Z"
   },
   {
    "duration": 5,
    "start_time": "2023-04-09T11:31:06.780Z"
   },
   {
    "duration": 64,
    "start_time": "2023-04-09T11:31:16.909Z"
   },
   {
    "duration": 17,
    "start_time": "2023-04-09T11:31:20.587Z"
   },
   {
    "duration": 15,
    "start_time": "2023-04-09T11:31:21.603Z"
   },
   {
    "duration": 20,
    "start_time": "2023-04-09T11:31:22.019Z"
   },
   {
    "duration": 16,
    "start_time": "2023-04-09T11:31:52.460Z"
   },
   {
    "duration": 19,
    "start_time": "2023-04-09T11:31:53.300Z"
   },
   {
    "duration": 16,
    "start_time": "2023-04-09T11:31:54.284Z"
   },
   {
    "duration": 27,
    "start_time": "2023-04-09T11:31:54.627Z"
   },
   {
    "duration": 17,
    "start_time": "2023-04-09T11:31:55.219Z"
   },
   {
    "duration": 18,
    "start_time": "2023-04-09T11:31:55.579Z"
   },
   {
    "duration": 23,
    "start_time": "2023-04-09T11:31:56.523Z"
   },
   {
    "duration": 69,
    "start_time": "2023-04-09T11:31:57.100Z"
   },
   {
    "duration": 19,
    "start_time": "2023-04-09T11:31:59.996Z"
   },
   {
    "duration": 137,
    "start_time": "2023-04-09T11:33:52.580Z"
   },
   {
    "duration": 37,
    "start_time": "2023-04-09T11:36:03.172Z"
   },
   {
    "duration": 84,
    "start_time": "2023-04-09T11:39:14.921Z"
   },
   {
    "duration": 38,
    "start_time": "2023-04-09T11:47:06.823Z"
   },
   {
    "duration": 14,
    "start_time": "2023-04-09T11:50:32.872Z"
   },
   {
    "duration": 9,
    "start_time": "2023-04-09T11:50:33.382Z"
   },
   {
    "duration": 8,
    "start_time": "2023-04-09T11:50:33.911Z"
   },
   {
    "duration": 17,
    "start_time": "2023-04-09T11:50:54.526Z"
   },
   {
    "duration": 854,
    "start_time": "2023-04-09T11:50:55.807Z"
   },
   {
    "duration": 55232,
    "start_time": "2023-04-09T11:51:02.607Z"
   },
   {
    "duration": 65,
    "start_time": "2023-04-09T11:52:35.334Z"
   },
   {
    "duration": 21,
    "start_time": "2023-04-09T11:57:45.069Z"
   },
   {
    "duration": 16,
    "start_time": "2023-04-09T11:58:06.173Z"
   },
   {
    "duration": 68,
    "start_time": "2023-04-09T11:58:19.039Z"
   },
   {
    "duration": 15,
    "start_time": "2023-04-09T12:02:31.861Z"
   },
   {
    "duration": 1557,
    "start_time": "2023-04-09T12:04:13.660Z"
   },
   {
    "duration": 952,
    "start_time": "2023-04-09T12:04:16.283Z"
   },
   {
    "duration": 25,
    "start_time": "2023-04-09T12:04:18.084Z"
   },
   {
    "duration": 193,
    "start_time": "2023-04-09T12:04:18.716Z"
   },
   {
    "duration": 118,
    "start_time": "2023-04-09T12:04:19.603Z"
   },
   {
    "duration": 1124,
    "start_time": "2023-04-09T12:04:20.588Z"
   },
   {
    "duration": 511,
    "start_time": "2023-04-09T12:04:23.203Z"
   },
   {
    "duration": 554,
    "start_time": "2023-04-09T12:04:24.132Z"
   },
   {
    "duration": 36,
    "start_time": "2023-04-09T12:04:25.091Z"
   },
   {
    "duration": 509,
    "start_time": "2023-04-09T12:04:25.907Z"
   },
   {
    "duration": 24,
    "start_time": "2023-04-09T12:04:26.531Z"
   },
   {
    "duration": 34,
    "start_time": "2023-04-09T12:04:27.331Z"
   },
   {
    "duration": 173,
    "start_time": "2023-04-09T12:04:28.083Z"
   },
   {
    "duration": 25,
    "start_time": "2023-04-09T12:04:29.059Z"
   },
   {
    "duration": 62,
    "start_time": "2023-04-09T12:04:29.699Z"
   },
   {
    "duration": 156,
    "start_time": "2023-04-09T12:04:30.259Z"
   },
   {
    "duration": 31,
    "start_time": "2023-04-09T12:04:30.859Z"
   },
   {
    "duration": 55,
    "start_time": "2023-04-09T12:04:31.498Z"
   },
   {
    "duration": 5,
    "start_time": "2023-04-09T12:04:32.114Z"
   },
   {
    "duration": 67,
    "start_time": "2023-04-09T12:04:32.714Z"
   },
   {
    "duration": 19,
    "start_time": "2023-04-09T12:04:33.380Z"
   },
   {
    "duration": 15,
    "start_time": "2023-04-09T12:04:34.107Z"
   },
   {
    "duration": 19,
    "start_time": "2023-04-09T12:04:34.514Z"
   },
   {
    "duration": 24,
    "start_time": "2023-04-09T12:04:35.179Z"
   },
   {
    "duration": 20,
    "start_time": "2023-04-09T12:04:35.490Z"
   },
   {
    "duration": 26,
    "start_time": "2023-04-09T12:04:36.187Z"
   },
   {
    "duration": 18,
    "start_time": "2023-04-09T12:04:36.490Z"
   },
   {
    "duration": 26,
    "start_time": "2023-04-09T12:04:37.138Z"
   },
   {
    "duration": 30,
    "start_time": "2023-04-09T12:04:37.461Z"
   },
   {
    "duration": 18,
    "start_time": "2023-04-09T12:04:38.203Z"
   },
   {
    "duration": 69,
    "start_time": "2023-04-09T12:04:39.090Z"
   },
   {
    "duration": 22,
    "start_time": "2023-04-09T12:04:40.195Z"
   },
   {
    "duration": 80,
    "start_time": "2023-04-09T12:04:47.915Z"
   },
   {
    "duration": 38,
    "start_time": "2023-04-09T12:04:48.418Z"
   },
   {
    "duration": 15,
    "start_time": "2023-04-09T12:04:49.795Z"
   },
   {
    "duration": 9,
    "start_time": "2023-04-09T12:04:50.156Z"
   },
   {
    "duration": 9,
    "start_time": "2023-04-09T12:04:50.498Z"
   },
   {
    "duration": 18,
    "start_time": "2023-04-09T12:05:13.715Z"
   },
   {
    "duration": 56498,
    "start_time": "2023-04-09T12:05:15.027Z"
   },
   {
    "duration": 16243,
    "start_time": "2023-04-09T12:07:14.940Z"
   },
   {
    "duration": 16922,
    "start_time": "2023-04-09T12:08:03.455Z"
   },
   {
    "duration": 57,
    "start_time": "2023-04-09T12:09:16.069Z"
   },
   {
    "duration": 41,
    "start_time": "2023-04-09T12:09:27.357Z"
   },
   {
    "duration": 184,
    "start_time": "2023-04-09T12:14:10.979Z"
   },
   {
    "duration": 3,
    "start_time": "2023-04-09T12:17:19.912Z"
   },
   {
    "duration": 19,
    "start_time": "2023-04-09T12:18:11.407Z"
   },
   {
    "duration": 17,
    "start_time": "2023-04-09T12:18:24.207Z"
   },
   {
    "duration": 16,
    "start_time": "2023-04-09T12:18:48.576Z"
   },
   {
    "duration": 178,
    "start_time": "2023-04-09T12:19:11.415Z"
   },
   {
    "duration": 101,
    "start_time": "2023-04-09T12:19:17.982Z"
   },
   {
    "duration": 48,
    "start_time": "2023-04-09T12:19:25.482Z"
   },
   {
    "duration": 62,
    "start_time": "2023-04-09T12:19:29.888Z"
   },
   {
    "duration": 1504,
    "start_time": "2023-04-09T12:20:32.062Z"
   },
   {
    "duration": 913,
    "start_time": "2023-04-09T12:20:34.354Z"
   },
   {
    "duration": 18,
    "start_time": "2023-04-09T12:20:35.269Z"
   },
   {
    "duration": 152,
    "start_time": "2023-04-09T12:20:35.766Z"
   },
   {
    "duration": 159,
    "start_time": "2023-04-09T12:20:36.598Z"
   },
   {
    "duration": 1174,
    "start_time": "2023-04-09T12:20:37.534Z"
   },
   {
    "duration": 528,
    "start_time": "2023-04-09T12:20:40.222Z"
   },
   {
    "duration": 664,
    "start_time": "2023-04-09T12:20:41.566Z"
   },
   {
    "duration": 48,
    "start_time": "2023-04-09T12:20:42.934Z"
   },
   {
    "duration": 527,
    "start_time": "2023-04-09T12:20:43.702Z"
   },
   {
    "duration": 32,
    "start_time": "2023-04-09T12:20:45.021Z"
   },
   {
    "duration": 39,
    "start_time": "2023-04-09T12:20:45.855Z"
   },
   {
    "duration": 206,
    "start_time": "2023-04-09T12:20:46.566Z"
   },
   {
    "duration": 26,
    "start_time": "2023-04-09T12:20:47.670Z"
   },
   {
    "duration": 66,
    "start_time": "2023-04-09T12:20:48.366Z"
   },
   {
    "duration": 167,
    "start_time": "2023-04-09T12:20:48.926Z"
   },
   {
    "duration": 37,
    "start_time": "2023-04-09T12:20:49.541Z"
   },
   {
    "duration": 54,
    "start_time": "2023-04-09T12:20:50.166Z"
   },
   {
    "duration": 4,
    "start_time": "2023-04-09T12:20:50.694Z"
   },
   {
    "duration": 59,
    "start_time": "2023-04-09T12:20:51.261Z"
   },
   {
    "duration": 22,
    "start_time": "2023-04-09T12:20:51.893Z"
   },
   {
    "duration": 21,
    "start_time": "2023-04-09T12:20:52.725Z"
   },
   {
    "duration": 19,
    "start_time": "2023-04-09T12:20:53.021Z"
   },
   {
    "duration": 18,
    "start_time": "2023-04-09T12:20:53.717Z"
   },
   {
    "duration": 22,
    "start_time": "2023-04-09T12:20:54.197Z"
   },
   {
    "duration": 24,
    "start_time": "2023-04-09T12:20:55.334Z"
   },
   {
    "duration": 33,
    "start_time": "2023-04-09T12:20:55.766Z"
   },
   {
    "duration": 27,
    "start_time": "2023-04-09T12:20:56.702Z"
   },
   {
    "duration": 20,
    "start_time": "2023-04-09T12:20:57.182Z"
   },
   {
    "duration": 18,
    "start_time": "2023-04-09T12:20:58.989Z"
   },
   {
    "duration": 109,
    "start_time": "2023-04-09T12:20:59.797Z"
   },
   {
    "duration": 26,
    "start_time": "2023-04-09T12:21:01.648Z"
   },
   {
    "duration": 88,
    "start_time": "2023-04-09T12:21:08.566Z"
   },
   {
    "duration": 29,
    "start_time": "2023-04-09T12:21:09.110Z"
   },
   {
    "duration": 15,
    "start_time": "2023-04-09T12:21:09.894Z"
   },
   {
    "duration": 9,
    "start_time": "2023-04-09T12:21:10.262Z"
   },
   {
    "duration": 10,
    "start_time": "2023-04-09T12:21:10.655Z"
   },
   {
    "duration": 21,
    "start_time": "2023-04-09T12:21:21.150Z"
   },
   {
    "duration": 127,
    "start_time": "2023-04-09T12:21:35.310Z"
   },
   {
    "duration": 59,
    "start_time": "2023-04-09T12:21:49.056Z"
   },
   {
    "duration": 45,
    "start_time": "2023-04-09T12:21:59.782Z"
   },
   {
    "duration": 54,
    "start_time": "2023-04-09T12:22:40.917Z"
   },
   {
    "duration": 55411,
    "start_time": "2023-04-09T12:23:33.462Z"
   },
   {
    "duration": 16248,
    "start_time": "2023-04-09T12:24:38.877Z"
   },
   {
    "duration": 17175,
    "start_time": "2023-04-09T12:25:07.589Z"
   },
   {
    "duration": 3,
    "start_time": "2023-04-09T12:26:01.285Z"
   },
   {
    "duration": 19,
    "start_time": "2023-04-09T12:26:02.164Z"
   },
   {
    "duration": 184,
    "start_time": "2023-04-09T12:26:08.109Z"
   },
   {
    "duration": 78,
    "start_time": "2023-04-09T12:35:37.459Z"
   },
   {
    "duration": 4,
    "start_time": "2023-04-09T12:35:58.034Z"
   },
   {
    "duration": 4,
    "start_time": "2023-04-09T12:49:02.035Z"
   },
   {
    "duration": 4,
    "start_time": "2023-04-09T12:59:37.084Z"
   },
   {
    "duration": 21,
    "start_time": "2023-04-09T13:01:47.987Z"
   },
   {
    "duration": 4,
    "start_time": "2023-04-09T13:02:05.157Z"
   },
   {
    "duration": 14,
    "start_time": "2023-04-09T13:02:07.026Z"
   },
   {
    "duration": 12,
    "start_time": "2023-04-09T13:05:15.105Z"
   },
   {
    "duration": 14,
    "start_time": "2023-04-09T13:05:54.455Z"
   },
   {
    "duration": 42642,
    "start_time": "2023-04-09T13:06:24.801Z"
   },
   {
    "duration": 42184,
    "start_time": "2023-04-09T13:07:20.761Z"
   },
   {
    "duration": 4,
    "start_time": "2023-04-09T13:08:08.792Z"
   },
   {
    "duration": 11,
    "start_time": "2023-04-09T13:15:01.318Z"
   },
   {
    "duration": 70716,
    "start_time": "2023-04-09T13:15:06.244Z"
   },
   {
    "duration": 11,
    "start_time": "2023-04-09T13:16:52.837Z"
   },
   {
    "duration": 5,
    "start_time": "2023-04-09T13:32:07.193Z"
   },
   {
    "duration": 5,
    "start_time": "2023-04-09T13:32:23.425Z"
   },
   {
    "duration": 1707,
    "start_time": "2023-04-09T13:32:44.322Z"
   },
   {
    "duration": 1047,
    "start_time": "2023-04-09T13:32:47.722Z"
   },
   {
    "duration": 29,
    "start_time": "2023-04-09T13:32:49.634Z"
   },
   {
    "duration": 173,
    "start_time": "2023-04-09T13:32:50.321Z"
   },
   {
    "duration": 164,
    "start_time": "2023-04-09T13:32:51.105Z"
   },
   {
    "duration": 1394,
    "start_time": "2023-04-09T13:32:51.677Z"
   },
   {
    "duration": 621,
    "start_time": "2023-04-09T13:32:53.690Z"
   },
   {
    "duration": 665,
    "start_time": "2023-04-09T13:32:54.697Z"
   },
   {
    "duration": 46,
    "start_time": "2023-04-09T13:32:55.364Z"
   },
   {
    "duration": 413,
    "start_time": "2023-04-09T13:32:56.233Z"
   },
   {
    "duration": 25,
    "start_time": "2023-04-09T13:32:57.269Z"
   },
   {
    "duration": 34,
    "start_time": "2023-04-09T13:32:57.985Z"
   },
   {
    "duration": 185,
    "start_time": "2023-04-09T13:32:58.884Z"
   },
   {
    "duration": 27,
    "start_time": "2023-04-09T13:32:59.691Z"
   },
   {
    "duration": 76,
    "start_time": "2023-04-09T13:33:00.394Z"
   },
   {
    "duration": 215,
    "start_time": "2023-04-09T13:33:01.232Z"
   },
   {
    "duration": 53,
    "start_time": "2023-04-09T13:33:02.633Z"
   },
   {
    "duration": 61,
    "start_time": "2023-04-09T13:33:03.497Z"
   },
   {
    "duration": 4,
    "start_time": "2023-04-09T13:33:04.305Z"
   },
   {
    "duration": 74,
    "start_time": "2023-04-09T13:33:05.682Z"
   },
   {
    "duration": 38,
    "start_time": "2023-04-09T13:33:06.441Z"
   },
   {
    "duration": 37,
    "start_time": "2023-04-09T13:33:07.136Z"
   },
   {
    "duration": 17,
    "start_time": "2023-04-09T13:33:07.387Z"
   },
   {
    "duration": 23,
    "start_time": "2023-04-09T13:33:07.963Z"
   },
   {
    "duration": 28,
    "start_time": "2023-04-09T13:33:08.224Z"
   },
   {
    "duration": 28,
    "start_time": "2023-04-09T13:33:09.600Z"
   },
   {
    "duration": 34,
    "start_time": "2023-04-09T13:33:09.974Z"
   },
   {
    "duration": 24,
    "start_time": "2023-04-09T13:33:10.769Z"
   },
   {
    "duration": 17,
    "start_time": "2023-04-09T13:33:11.089Z"
   },
   {
    "duration": 17,
    "start_time": "2023-04-09T13:33:11.809Z"
   },
   {
    "duration": 90,
    "start_time": "2023-04-09T13:33:12.336Z"
   },
   {
    "duration": 44,
    "start_time": "2023-04-09T13:33:13.041Z"
   },
   {
    "duration": 125,
    "start_time": "2023-04-09T13:33:14.651Z"
   },
   {
    "duration": 42,
    "start_time": "2023-04-09T13:33:14.980Z"
   },
   {
    "duration": 23,
    "start_time": "2023-04-09T13:33:15.874Z"
   },
   {
    "duration": 15,
    "start_time": "2023-04-09T13:33:16.442Z"
   },
   {
    "duration": 24,
    "start_time": "2023-04-09T13:33:17.433Z"
   },
   {
    "duration": 16,
    "start_time": "2023-04-09T13:33:18.269Z"
   },
   {
    "duration": 42,
    "start_time": "2023-04-09T13:33:18.969Z"
   },
   {
    "duration": 65086,
    "start_time": "2023-04-09T13:33:21.581Z"
   },
   {
    "duration": 24134,
    "start_time": "2023-04-09T13:34:28.616Z"
   },
   {
    "duration": 24311,
    "start_time": "2023-04-09T13:34:56.369Z"
   },
   {
    "duration": 3,
    "start_time": "2023-04-09T13:35:22.166Z"
   },
   {
    "duration": 21,
    "start_time": "2023-04-09T13:35:22.673Z"
   },
   {
    "duration": 221,
    "start_time": "2023-04-09T13:35:23.488Z"
   },
   {
    "duration": 38577,
    "start_time": "2023-04-09T13:35:25.365Z"
   },
   {
    "duration": 39874,
    "start_time": "2023-04-09T13:36:22.875Z"
   },
   {
    "duration": 4,
    "start_time": "2023-04-09T13:37:19.566Z"
   },
   {
    "duration": 6,
    "start_time": "2023-04-09T13:37:32.765Z"
   },
   {
    "duration": 11858,
    "start_time": "2023-04-09T13:58:00.658Z"
   },
   {
    "duration": 4,
    "start_time": "2023-04-09T13:59:12.226Z"
   },
   {
    "duration": 4,
    "start_time": "2023-04-09T13:59:27.114Z"
   },
   {
    "duration": 11265,
    "start_time": "2023-04-09T13:59:55.968Z"
   },
   {
    "duration": 4,
    "start_time": "2023-04-09T14:00:07.235Z"
   },
   {
    "duration": 11897,
    "start_time": "2023-04-09T14:00:43.834Z"
   },
   {
    "duration": 11361,
    "start_time": "2023-04-09T14:01:13.577Z"
   },
   {
    "duration": 12182,
    "start_time": "2023-04-09T14:03:09.094Z"
   },
   {
    "duration": 17,
    "start_time": "2023-04-09T14:03:22.661Z"
   },
   {
    "duration": 1159,
    "start_time": "2023-04-09T14:06:33.969Z"
   },
   {
    "duration": 83910,
    "start_time": "2023-04-09T14:06:56.224Z"
   },
   {
    "duration": 8,
    "start_time": "2023-04-09T14:08:22.273Z"
   },
   {
    "duration": 16,
    "start_time": "2023-04-09T14:30:46.216Z"
   },
   {
    "duration": 8301,
    "start_time": "2023-04-09T14:31:43.103Z"
   },
   {
    "duration": 10,
    "start_time": "2023-04-09T14:31:54.238Z"
   },
   {
    "duration": 1576,
    "start_time": "2023-04-09T15:47:06.934Z"
   },
   {
    "duration": 2585,
    "start_time": "2023-04-09T15:47:10.370Z"
   },
   {
    "duration": 19,
    "start_time": "2023-04-09T15:47:12.956Z"
   },
   {
    "duration": 129,
    "start_time": "2023-04-09T15:47:18.131Z"
   },
   {
    "duration": 125,
    "start_time": "2023-04-09T15:47:21.586Z"
   },
   {
    "duration": 1064,
    "start_time": "2023-04-09T15:47:22.466Z"
   },
   {
    "duration": 426,
    "start_time": "2023-04-09T15:47:25.017Z"
   },
   {
    "duration": 454,
    "start_time": "2023-04-09T15:47:26.162Z"
   },
   {
    "duration": 31,
    "start_time": "2023-04-09T15:47:27.274Z"
   },
   {
    "duration": 357,
    "start_time": "2023-04-09T15:47:27.890Z"
   },
   {
    "duration": 17,
    "start_time": "2023-04-09T15:47:28.273Z"
   },
   {
    "duration": 29,
    "start_time": "2023-04-09T15:47:28.626Z"
   },
   {
    "duration": 145,
    "start_time": "2023-04-09T15:47:29.002Z"
   },
   {
    "duration": 21,
    "start_time": "2023-04-09T15:47:29.377Z"
   },
   {
    "duration": 61,
    "start_time": "2023-04-09T15:47:29.746Z"
   },
   {
    "duration": 137,
    "start_time": "2023-04-09T15:47:30.106Z"
   },
   {
    "duration": 25,
    "start_time": "2023-04-09T15:47:30.466Z"
   },
   {
    "duration": 41,
    "start_time": "2023-04-09T15:47:31.082Z"
   },
   {
    "duration": 4,
    "start_time": "2023-04-09T15:47:31.849Z"
   },
   {
    "duration": 70,
    "start_time": "2023-04-09T15:47:32.537Z"
   },
   {
    "duration": 17,
    "start_time": "2023-04-09T15:47:33.921Z"
   },
   {
    "duration": 17,
    "start_time": "2023-04-09T15:47:34.570Z"
   },
   {
    "duration": 18,
    "start_time": "2023-04-09T15:47:34.801Z"
   },
   {
    "duration": 18,
    "start_time": "2023-04-09T15:47:35.234Z"
   },
   {
    "duration": 22,
    "start_time": "2023-04-09T15:47:35.722Z"
   },
   {
    "duration": 18,
    "start_time": "2023-04-09T15:47:36.426Z"
   },
   {
    "duration": 26,
    "start_time": "2023-04-09T15:47:36.730Z"
   },
   {
    "duration": 20,
    "start_time": "2023-04-09T15:47:37.306Z"
   },
   {
    "duration": 20,
    "start_time": "2023-04-09T15:47:37.602Z"
   },
   {
    "duration": 22,
    "start_time": "2023-04-09T15:47:38.225Z"
   },
   {
    "duration": 76,
    "start_time": "2023-04-09T15:47:38.747Z"
   },
   {
    "duration": 22,
    "start_time": "2023-04-09T15:47:39.562Z"
   },
   {
    "duration": 58,
    "start_time": "2023-04-09T15:47:41.818Z"
   },
   {
    "duration": 22,
    "start_time": "2023-04-09T15:47:42.130Z"
   },
   {
    "duration": 12,
    "start_time": "2023-04-09T15:47:42.873Z"
   },
   {
    "duration": 9,
    "start_time": "2023-04-09T15:47:43.178Z"
   },
   {
    "duration": 7,
    "start_time": "2023-04-09T15:47:43.450Z"
   },
   {
    "duration": 15,
    "start_time": "2023-04-09T15:47:44.195Z"
   },
   {
    "duration": 40,
    "start_time": "2023-04-09T15:47:44.673Z"
   },
   {
    "duration": 46101,
    "start_time": "2023-04-09T15:47:46.249Z"
   },
   {
    "duration": 14081,
    "start_time": "2023-04-09T15:48:44.722Z"
   },
   {
    "duration": 19817,
    "start_time": "2023-04-09T15:51:02.076Z"
   },
   {
    "duration": 3,
    "start_time": "2023-04-09T15:51:25.801Z"
   },
   {
    "duration": 31,
    "start_time": "2023-04-09T15:51:26.443Z"
   },
   {
    "duration": 192,
    "start_time": "2023-04-09T15:51:26.961Z"
   },
   {
    "duration": 19444,
    "start_time": "2023-04-09T15:51:29.720Z"
   },
   {
    "duration": 4,
    "start_time": "2023-04-09T15:51:53.753Z"
   },
   {
    "duration": 10752,
    "start_time": "2023-04-09T15:52:22.041Z"
   },
   {
    "duration": 4,
    "start_time": "2023-04-09T15:52:34.817Z"
   },
   {
    "duration": 82447,
    "start_time": "2023-04-09T15:52:43.009Z"
   },
   {
    "duration": 9,
    "start_time": "2023-04-09T15:54:14.924Z"
   },
   {
    "duration": 6754,
    "start_time": "2023-04-09T15:54:16.161Z"
   },
   {
    "duration": 5,
    "start_time": "2023-04-09T15:54:25.408Z"
   },
   {
    "duration": 6326,
    "start_time": "2023-04-09T15:54:40.697Z"
   },
   {
    "duration": 5,
    "start_time": "2023-04-09T15:54:48.479Z"
   },
   {
    "duration": 41209,
    "start_time": "2023-04-09T16:04:44.728Z"
   },
   {
    "duration": 4,
    "start_time": "2023-04-09T16:05:28.077Z"
   },
   {
    "duration": 19149,
    "start_time": "2023-04-09T16:07:49.406Z"
   },
   {
    "duration": 4,
    "start_time": "2023-04-09T16:08:11.660Z"
   },
   {
    "duration": 8316,
    "start_time": "2023-04-09T16:09:22.940Z"
   },
   {
    "duration": 4,
    "start_time": "2023-04-09T16:09:38.364Z"
   },
   {
    "duration": 4,
    "start_time": "2023-04-09T16:13:04.922Z"
   },
   {
    "duration": 8,
    "start_time": "2023-04-09T16:13:07.274Z"
   },
   {
    "duration": 121,
    "start_time": "2023-04-09T16:13:30.850Z"
   },
   {
    "duration": 5,
    "start_time": "2023-04-09T16:13:42.330Z"
   },
   {
    "duration": 9,
    "start_time": "2023-04-09T16:13:45.003Z"
   },
   {
    "duration": 4,
    "start_time": "2023-04-09T16:13:51.490Z"
   },
   {
    "duration": 8,
    "start_time": "2023-04-09T16:13:53.026Z"
   },
   {
    "duration": 4,
    "start_time": "2023-04-09T16:14:18.306Z"
   },
   {
    "duration": 8,
    "start_time": "2023-04-09T16:14:18.738Z"
   },
   {
    "duration": 8,
    "start_time": "2023-04-09T16:15:00.346Z"
   },
   {
    "duration": 8,
    "start_time": "2023-04-09T16:15:37.794Z"
   },
   {
    "duration": 11342,
    "start_time": "2023-04-09T16:29:54.366Z"
   },
   {
    "duration": 5,
    "start_time": "2023-04-09T16:30:08.677Z"
   },
   {
    "duration": 5,
    "start_time": "2023-04-09T16:31:41.341Z"
   },
   {
    "duration": 10,
    "start_time": "2023-04-09T16:35:46.380Z"
   },
   {
    "duration": 1666,
    "start_time": "2023-04-09T17:01:00.060Z"
   },
   {
    "duration": 997,
    "start_time": "2023-04-09T17:01:03.164Z"
   },
   {
    "duration": 22,
    "start_time": "2023-04-09T17:01:04.870Z"
   },
   {
    "duration": 144,
    "start_time": "2023-04-09T17:01:05.492Z"
   },
   {
    "duration": 132,
    "start_time": "2023-04-09T17:01:06.092Z"
   },
   {
    "duration": 1223,
    "start_time": "2023-04-09T17:01:06.538Z"
   },
   {
    "duration": 545,
    "start_time": "2023-04-09T17:01:08.948Z"
   },
   {
    "duration": 596,
    "start_time": "2023-04-09T17:01:10.179Z"
   },
   {
    "duration": 41,
    "start_time": "2023-04-09T17:01:11.411Z"
   },
   {
    "duration": 377,
    "start_time": "2023-04-09T17:01:12.299Z"
   },
   {
    "duration": 19,
    "start_time": "2023-04-09T17:01:13.267Z"
   },
   {
    "duration": 32,
    "start_time": "2023-04-09T17:01:13.723Z"
   },
   {
    "duration": 174,
    "start_time": "2023-04-09T17:01:14.107Z"
   },
   {
    "duration": 44,
    "start_time": "2023-04-09T17:01:14.477Z"
   },
   {
    "duration": 74,
    "start_time": "2023-04-09T17:01:14.859Z"
   },
   {
    "duration": 168,
    "start_time": "2023-04-09T17:01:15.228Z"
   },
   {
    "duration": 31,
    "start_time": "2023-04-09T17:01:15.627Z"
   },
   {
    "duration": 52,
    "start_time": "2023-04-09T17:01:16.050Z"
   },
   {
    "duration": 4,
    "start_time": "2023-04-09T17:01:16.419Z"
   },
   {
    "duration": 92,
    "start_time": "2023-04-09T17:01:16.778Z"
   },
   {
    "duration": 20,
    "start_time": "2023-04-09T17:01:17.155Z"
   },
   {
    "duration": 18,
    "start_time": "2023-04-09T17:01:17.531Z"
   },
   {
    "duration": 19,
    "start_time": "2023-04-09T17:01:17.739Z"
   },
   {
    "duration": 18,
    "start_time": "2023-04-09T17:01:18.123Z"
   },
   {
    "duration": 21,
    "start_time": "2023-04-09T17:01:18.307Z"
   },
   {
    "duration": 19,
    "start_time": "2023-04-09T17:01:18.666Z"
   },
   {
    "duration": 20,
    "start_time": "2023-04-09T17:01:18.851Z"
   },
   {
    "duration": 18,
    "start_time": "2023-04-09T17:01:19.203Z"
   },
   {
    "duration": 19,
    "start_time": "2023-04-09T17:01:19.378Z"
   },
   {
    "duration": 21,
    "start_time": "2023-04-09T17:01:19.731Z"
   },
   {
    "duration": 75,
    "start_time": "2023-04-09T17:01:20.379Z"
   },
   {
    "duration": 23,
    "start_time": "2023-04-09T17:01:21.019Z"
   },
   {
    "duration": 65,
    "start_time": "2023-04-09T17:01:22.610Z"
   },
   {
    "duration": 26,
    "start_time": "2023-04-09T17:01:22.963Z"
   },
   {
    "duration": 13,
    "start_time": "2023-04-09T17:01:23.660Z"
   },
   {
    "duration": 9,
    "start_time": "2023-04-09T17:01:23.954Z"
   },
   {
    "duration": 8,
    "start_time": "2023-04-09T17:01:24.274Z"
   },
   {
    "duration": 16,
    "start_time": "2023-04-09T17:01:24.899Z"
   },
   {
    "duration": 47,
    "start_time": "2023-04-09T17:01:25.747Z"
   },
   {
    "duration": 66621,
    "start_time": "2023-04-09T17:01:26.787Z"
   },
   {
    "duration": 24983,
    "start_time": "2023-04-09T17:02:34.974Z"
   },
   {
    "duration": 21526,
    "start_time": "2023-04-09T17:03:48.739Z"
   },
   {
    "duration": 3,
    "start_time": "2023-04-09T17:04:12.178Z"
   },
   {
    "duration": 16,
    "start_time": "2023-04-09T17:04:13.562Z"
   },
   {
    "duration": 165,
    "start_time": "2023-04-09T17:04:27.621Z"
   },
   {
    "duration": 28759,
    "start_time": "2023-04-09T17:04:29.482Z"
   },
   {
    "duration": 4,
    "start_time": "2023-04-09T17:05:25.755Z"
   },
   {
    "duration": 10359,
    "start_time": "2023-04-09T17:05:27.778Z"
   },
   {
    "duration": 4,
    "start_time": "2023-04-09T17:05:39.562Z"
   },
   {
    "duration": 73120,
    "start_time": "2023-04-09T17:05:40.842Z"
   },
   {
    "duration": 4,
    "start_time": "2023-04-09T17:07:02.098Z"
   },
   {
    "duration": 7171,
    "start_time": "2023-04-09T17:07:02.985Z"
   },
   {
    "duration": 5,
    "start_time": "2023-04-09T17:07:10.817Z"
   },
   {
    "duration": 9753,
    "start_time": "2023-04-09T17:07:12.282Z"
   },
   {
    "duration": 5,
    "start_time": "2023-04-09T17:07:24.681Z"
   },
   {
    "duration": 32711,
    "start_time": "2023-04-09T17:07:25.946Z"
   },
   {
    "duration": 4,
    "start_time": "2023-04-09T17:08:01.130Z"
   },
   {
    "duration": 11826,
    "start_time": "2023-04-09T17:08:12.225Z"
   },
   {
    "duration": 4,
    "start_time": "2023-04-09T17:08:27.345Z"
   },
   {
    "duration": 4,
    "start_time": "2023-04-09T17:08:29.521Z"
   },
   {
    "duration": 9,
    "start_time": "2023-04-09T17:08:32.426Z"
   },
   {
    "duration": 9802,
    "start_time": "2023-04-09T17:08:36.611Z"
   },
   {
    "duration": 4,
    "start_time": "2023-04-09T17:08:48.537Z"
   },
   {
    "duration": 6,
    "start_time": "2023-04-09T17:08:51.481Z"
   }
  ],
  "kernelspec": {
   "display_name": "Python 3 (ipykernel)",
   "language": "python",
   "name": "python3"
  },
  "language_info": {
   "codemirror_mode": {
    "name": "ipython",
    "version": 3
   },
   "file_extension": ".py",
   "mimetype": "text/x-python",
   "name": "python",
   "nbconvert_exporter": "python",
   "pygments_lexer": "ipython3",
   "version": "3.9.13"
  },
  "toc": {
   "base_numbering": 1,
   "nav_menu": {},
   "number_sections": true,
   "sideBar": true,
   "skip_h1_title": true,
   "title_cell": "Содержание",
   "title_sidebar": "Contents",
   "toc_cell": true,
   "toc_position": {
    "height": "calc(100% - 180px)",
    "left": "10px",
    "top": "150px",
    "width": "254.188px"
   },
   "toc_section_display": true,
   "toc_window_display": false
  }
 },
 "nbformat": 4,
 "nbformat_minor": 2
}
