{
 "cells": [
  {
   "cell_type": "markdown",
   "metadata": {
    "toc": true
   },
   "source": [
    "<h1>Содержание<span class=\"tocSkip\"></span></h1>\n",
    "<div class=\"toc\"><ul class=\"toc-item\"><li><span><a href=\"#Подготовка\" data-toc-modified-id=\"Подготовка-1\"><span class=\"toc-item-num\">1&nbsp;&nbsp;</span>Подготовка</a></span><ul class=\"toc-item\"><li><span><a href=\"#Вывод\" data-toc-modified-id=\"Вывод-1.1\"><span class=\"toc-item-num\">1.1&nbsp;&nbsp;</span>Вывод</a></span></li></ul></li><li><span><a href=\"#Анализ\" data-toc-modified-id=\"Анализ-2\"><span class=\"toc-item-num\">2&nbsp;&nbsp;</span>Анализ</a></span><ul class=\"toc-item\"><li><span><a href=\"#Вывод\" data-toc-modified-id=\"Вывод-2.1\"><span class=\"toc-item-num\">2.1&nbsp;&nbsp;</span>Вывод</a></span></li></ul></li><li><span><a href=\"#Обучение\" data-toc-modified-id=\"Обучение-3\"><span class=\"toc-item-num\">3&nbsp;&nbsp;</span>Обучение</a></span><ul class=\"toc-item\"><li><span><a href=\"#LinearRegression\" data-toc-modified-id=\"LinearRegression-3.1\"><span class=\"toc-item-num\">3.1&nbsp;&nbsp;</span>LinearRegression</a></span></li><li><span><a href=\"#CatBoost\" data-toc-modified-id=\"CatBoost-3.2\"><span class=\"toc-item-num\">3.2&nbsp;&nbsp;</span>CatBoost</a></span></li><li><span><a href=\"#LightGBM\" data-toc-modified-id=\"LightGBM-3.3\"><span class=\"toc-item-num\">3.3&nbsp;&nbsp;</span>LightGBM</a></span></li><li><span><a href=\"#DecisionTreeRegressor\" data-toc-modified-id=\"DecisionTreeRegressor-3.4\"><span class=\"toc-item-num\">3.4&nbsp;&nbsp;</span>DecisionTreeRegressor</a></span></li><li><span><a href=\"#Вывод\" data-toc-modified-id=\"Вывод-3.5\"><span class=\"toc-item-num\">3.5&nbsp;&nbsp;</span>Вывод</a></span></li></ul></li><li><span><a href=\"#Тестирование\" data-toc-modified-id=\"Тестирование-4\"><span class=\"toc-item-num\">4&nbsp;&nbsp;</span>Тестирование</a></span><ul class=\"toc-item\"><li><span><a href=\"#Вывод\" data-toc-modified-id=\"Вывод-4.1\"><span class=\"toc-item-num\">4.1&nbsp;&nbsp;</span>Вывод</a></span></li></ul></li><li><span><a href=\"#Общий-вывод\" data-toc-modified-id=\"Общий-вывод-5\"><span class=\"toc-item-num\">5&nbsp;&nbsp;</span>Общий вывод</a></span></li><li><span><a href=\"#Чек-лист-проверки\" data-toc-modified-id=\"Чек-лист-проверки-6\"><span class=\"toc-item-num\">6&nbsp;&nbsp;</span>Чек-лист проверки</a></span></li></ul></div>"
   ]
  },
  {
   "cell_type": "markdown",
   "metadata": {},
   "source": [
    "#  Прогнозирование заказов такси"
   ]
  },
  {
   "cell_type": "markdown",
   "metadata": {},
   "source": [
    "Компания «Чётенькое такси» собрала исторические данные о заказах такси в аэропортах. Чтобы привлекать больше водителей в период пиковой нагрузки, нужно спрогнозировать количество заказов такси на следующий час. Постройте модель для такого предсказания.\n",
    "\n",
    "Значение метрики *RMSE* на тестовой выборке должно быть не больше 48.\n",
    "\n",
    "Вам нужно:\n",
    "\n",
    "1. Загрузить данные и выполнить их ресемплирование по одному часу.\n",
    "2. Проанализировать данные.\n",
    "3. Обучить разные модели с различными гиперпараметрами. Сделать тестовую выборку размером 10% от исходных данных.\n",
    "4. Проверить данные на тестовой выборке и сделать выводы.\n",
    "\n",
    "\n",
    "Данные лежат в файле `taxi.csv`. Количество заказов находится в столбце `num_orders` (от англ. *number of orders*, «число заказов»)."
   ]
  },
  {
   "cell_type": "markdown",
   "metadata": {},
   "source": [
    "# Цель проекта"
   ]
  },
  {
   "cell_type": "markdown",
   "metadata": {},
   "source": [
    "Нужно спрогнозировать количество заказов такси в период пиковой нагрузки на следующий час. Обучить модель и довести значение метрики RMSE на тестовой выборке не больше 48."
   ]
  },
  {
   "cell_type": "markdown",
   "metadata": {},
   "source": [
    "# Описание данных"
   ]
  },
  {
   "cell_type": "markdown",
   "metadata": {},
   "source": [
    "- Дата заказов находится в столбце 'datetime' \n",
    "- Количество заказов находится в столбце 'num_orders' "
   ]
  },
  {
   "cell_type": "markdown",
   "metadata": {},
   "source": [
    "## Подготовка"
   ]
  },
  {
   "cell_type": "markdown",
   "metadata": {},
   "source": [
    "Импортируем все необходимые библиотеки"
   ]
  },
  {
   "cell_type": "code",
   "execution_count": 1,
   "metadata": {},
   "outputs": [],
   "source": [
    "import warnings\n",
    "warnings.filterwarnings(\"ignore\")\n",
    "\n",
    "import pandas as pd\n",
    "import numpy as np\n",
    "\n",
    "import matplotlib.pyplot as plt\n",
    "import seaborn as sns\n",
    "\n",
    "from statsmodels.tsa.seasonal import seasonal_decompose\n",
    "\n",
    "from sklearn.model_selection import train_test_split\n",
    "\n",
    "from sklearn.metrics import mean_squared_error\n",
    "\n",
    "from sklearn.preprocessing import StandardScaler\n",
    "\n",
    "from sklearn.linear_model import LinearRegression\n",
    "from catboost import CatBoostRegressor\n",
    "from lightgbm import LGBMRegressor\n",
    "from sklearn.tree import DecisionTreeRegressor\n",
    "from sklearn.dummy import DummyRegressor"
   ]
  },
  {
   "cell_type": "markdown",
   "metadata": {},
   "source": [
    "Запишем данные в переменную, посмотрим на несколько строк и выведим info"
   ]
  },
  {
   "cell_type": "code",
   "execution_count": 2,
   "metadata": {},
   "outputs": [],
   "source": [
    "data = pd.read_csv('/datasets/taxi.csv')"
   ]
  },
  {
   "cell_type": "code",
   "execution_count": 3,
   "metadata": {},
   "outputs": [
    {
     "data": {
      "text/html": [
       "<div>\n",
       "<style scoped>\n",
       "    .dataframe tbody tr th:only-of-type {\n",
       "        vertical-align: middle;\n",
       "    }\n",
       "\n",
       "    .dataframe tbody tr th {\n",
       "        vertical-align: top;\n",
       "    }\n",
       "\n",
       "    .dataframe thead th {\n",
       "        text-align: right;\n",
       "    }\n",
       "</style>\n",
       "<table border=\"1\" class=\"dataframe\">\n",
       "  <thead>\n",
       "    <tr style=\"text-align: right;\">\n",
       "      <th></th>\n",
       "      <th>datetime</th>\n",
       "      <th>num_orders</th>\n",
       "    </tr>\n",
       "  </thead>\n",
       "  <tbody>\n",
       "    <tr>\n",
       "      <th>0</th>\n",
       "      <td>2018-03-01 00:00:00</td>\n",
       "      <td>9</td>\n",
       "    </tr>\n",
       "    <tr>\n",
       "      <th>1</th>\n",
       "      <td>2018-03-01 00:10:00</td>\n",
       "      <td>14</td>\n",
       "    </tr>\n",
       "    <tr>\n",
       "      <th>2</th>\n",
       "      <td>2018-03-01 00:20:00</td>\n",
       "      <td>28</td>\n",
       "    </tr>\n",
       "    <tr>\n",
       "      <th>3</th>\n",
       "      <td>2018-03-01 00:30:00</td>\n",
       "      <td>20</td>\n",
       "    </tr>\n",
       "    <tr>\n",
       "      <th>4</th>\n",
       "      <td>2018-03-01 00:40:00</td>\n",
       "      <td>32</td>\n",
       "    </tr>\n",
       "    <tr>\n",
       "      <th>5</th>\n",
       "      <td>2018-03-01 00:50:00</td>\n",
       "      <td>21</td>\n",
       "    </tr>\n",
       "    <tr>\n",
       "      <th>6</th>\n",
       "      <td>2018-03-01 01:00:00</td>\n",
       "      <td>7</td>\n",
       "    </tr>\n",
       "    <tr>\n",
       "      <th>7</th>\n",
       "      <td>2018-03-01 01:10:00</td>\n",
       "      <td>5</td>\n",
       "    </tr>\n",
       "    <tr>\n",
       "      <th>8</th>\n",
       "      <td>2018-03-01 01:20:00</td>\n",
       "      <td>17</td>\n",
       "    </tr>\n",
       "    <tr>\n",
       "      <th>9</th>\n",
       "      <td>2018-03-01 01:30:00</td>\n",
       "      <td>12</td>\n",
       "    </tr>\n",
       "  </tbody>\n",
       "</table>\n",
       "</div>"
      ],
      "text/plain": [
       "              datetime  num_orders\n",
       "0  2018-03-01 00:00:00           9\n",
       "1  2018-03-01 00:10:00          14\n",
       "2  2018-03-01 00:20:00          28\n",
       "3  2018-03-01 00:30:00          20\n",
       "4  2018-03-01 00:40:00          32\n",
       "5  2018-03-01 00:50:00          21\n",
       "6  2018-03-01 01:00:00           7\n",
       "7  2018-03-01 01:10:00           5\n",
       "8  2018-03-01 01:20:00          17\n",
       "9  2018-03-01 01:30:00          12"
      ]
     },
     "execution_count": 3,
     "metadata": {},
     "output_type": "execute_result"
    }
   ],
   "source": [
    "data.head(10)"
   ]
  },
  {
   "cell_type": "code",
   "execution_count": 4,
   "metadata": {},
   "outputs": [
    {
     "name": "stdout",
     "output_type": "stream",
     "text": [
      "<class 'pandas.core.frame.DataFrame'>\n",
      "RangeIndex: 26496 entries, 0 to 26495\n",
      "Data columns (total 2 columns):\n",
      " #   Column      Non-Null Count  Dtype \n",
      "---  ------      --------------  ----- \n",
      " 0   datetime    26496 non-null  object\n",
      " 1   num_orders  26496 non-null  int64 \n",
      "dtypes: int64(1), object(1)\n",
      "memory usage: 414.1+ KB\n"
     ]
    }
   ],
   "source": [
    "data.info()"
   ]
  },
  {
   "cell_type": "markdown",
   "metadata": {},
   "source": [
    "Проверим на дубликаты сейчас, тк в одном столбце \"num_orders\" их будет очень много"
   ]
  },
  {
   "cell_type": "code",
   "execution_count": 5,
   "metadata": {},
   "outputs": [
    {
     "data": {
      "text/plain": [
       "0"
      ]
     },
     "execution_count": 5,
     "metadata": {},
     "output_type": "execute_result"
    }
   ],
   "source": [
    "data.duplicated().sum()"
   ]
  },
  {
   "cell_type": "markdown",
   "metadata": {},
   "source": [
    "Переведем столбец \"datetime\" в удобный/рабочий формат и установим как индекс датафрейма"
   ]
  },
  {
   "cell_type": "code",
   "execution_count": 6,
   "metadata": {},
   "outputs": [],
   "source": [
    "data['datetime'] = pd.to_datetime(data['datetime'], format='%Y-%m-%d %H:%M:%S')"
   ]
  },
  {
   "cell_type": "code",
   "execution_count": 7,
   "metadata": {},
   "outputs": [],
   "source": [
    "data = data.set_index('datetime')"
   ]
  },
  {
   "cell_type": "markdown",
   "metadata": {},
   "source": [
    "Отсортируем индекс и проверим"
   ]
  },
  {
   "cell_type": "code",
   "execution_count": 8,
   "metadata": {},
   "outputs": [],
   "source": [
    "data.sort_index(inplace=True)"
   ]
  },
  {
   "cell_type": "code",
   "execution_count": 9,
   "metadata": {},
   "outputs": [
    {
     "data": {
      "text/plain": [
       "True"
      ]
     },
     "execution_count": 9,
     "metadata": {},
     "output_type": "execute_result"
    }
   ],
   "source": [
    "data.index.is_monotonic"
   ]
  },
  {
   "cell_type": "markdown",
   "metadata": {},
   "source": [
    "Поскольку задача стоит \"предсказать на следующий час\", то ресемплируем данные по \"1H\""
   ]
  },
  {
   "cell_type": "code",
   "execution_count": 10,
   "metadata": {},
   "outputs": [],
   "source": [
    "data = data.resample('1H').sum()"
   ]
  },
  {
   "cell_type": "markdown",
   "metadata": {},
   "source": [
    "### Вывод"
   ]
  },
  {
   "cell_type": "markdown",
   "metadata": {},
   "source": [
    "Мы ознакомились с датафреймом, отметили его особенности для дальнейшей работы. В ходе проверки, мы обнаружили отсутствие дубликатов, перевели столбец \"datetime\" и установили его как индекс датафрейма, так же отсортировали и ресемплировали данные по индексу."
   ]
  },
  {
   "cell_type": "markdown",
   "metadata": {},
   "source": [
    "## Анализ"
   ]
  },
  {
   "cell_type": "markdown",
   "metadata": {},
   "source": [
    "Для анализа данных разберём их на тренды и сезонность, построим графики"
   ]
  },
  {
   "cell_type": "code",
   "execution_count": 11,
   "metadata": {},
   "outputs": [],
   "source": [
    "decomposed = seasonal_decompose(data, model='additive')"
   ]
  },
  {
   "cell_type": "code",
   "execution_count": 12,
   "metadata": {},
   "outputs": [
    {
     "data": {
      "image/png": "[encoded data removed]",
      "text/plain": [
       "<Figure size 720x864 with 3 Axes>"
      ]
     },
     "metadata": {
      "needs_background": "light"
     },
     "output_type": "display_data"
    }
   ],
   "source": [
    "plt.figure(figsize=(10, 12))\n",
    "\n",
    "plt.subplot(311)\n",
    "decomposed.trend.plot(ax=plt.gca())\n",
    "plt.title('Trend')\n",
    "plt.xlabel('Дата')\n",
    "plt.ylabel('Значения ряда')\n",
    "\n",
    "plt.subplot(312)\n",
    "decomposed.seasonal.plot(ax=plt.gca()) \n",
    "plt.title('Seasonality')\n",
    "plt.xlabel('Дата')\n",
    "plt.ylabel('Значения ряда')\n",
    "\n",
    "plt.subplot(313)\n",
    "decomposed.resid.plot(ax=plt.gca()) \n",
    "plt.title('Residuals')\n",
    "plt.xlabel('Дата')\n",
    "plt.ylabel('Значения ряда')\n",
    "plt.tight_layout()"
   ]
  },
  {
   "cell_type": "markdown",
   "metadata": {},
   "source": [
    "Видим, что растет \"Trend\", те в период с марта по август выросло общее количество заказов. Для анализа \"Seasonality\" возьмем период в неделю + 1 день."
   ]
  },
  {
   "cell_type": "code",
   "execution_count": 13,
   "metadata": {},
   "outputs": [
    {
     "data": {
      "image/png": "[encoded data removed]",
      "text/plain": [
       "<Figure size 720x288 with 1 Axes>"
      ]
     },
     "metadata": {
      "needs_background": "light"
     },
     "output_type": "display_data"
    }
   ],
   "source": [
    "plt.figure(figsize=(10, 4))\n",
    "\n",
    "decomposed.seasonal['2018-08-01':'2018-08-08'].plot(ax=plt.gca());\n",
    "plt.title('Seasonality за период с 08.01 по 08.08');\n",
    "plt.xlabel('Дата');\n",
    "plt.ylabel('Значения ряда');"
   ]
  },
  {
   "cell_type": "markdown",
   "metadata": {},
   "source": [
    "Также посмотрим какая \"Seasonality\" за период в месяц скомпоновав данные по одному дню"
   ]
  },
  {
   "cell_type": "code",
   "execution_count": 14,
   "metadata": {},
   "outputs": [],
   "source": [
    "data_1d = data.resample('1D').sum()"
   ]
  },
  {
   "cell_type": "code",
   "execution_count": 15,
   "metadata": {},
   "outputs": [],
   "source": [
    "decomposed_1d = seasonal_decompose(data_1d, model='additive')"
   ]
  },
  {
   "cell_type": "code",
   "execution_count": 16,
   "metadata": {},
   "outputs": [
    {
     "data": {
      "image/png": "[encoded data removed]",
      "text/plain": [
       "<Figure size 720x288 with 1 Axes>"
      ]
     },
     "metadata": {
      "needs_background": "light"
     },
     "output_type": "display_data"
    }
   ],
   "source": [
    "plt.figure(figsize=(10, 4))\n",
    "\n",
    "decomposed_1d.seasonal['2018-08-01':'2018-08-31'].plot(ax=plt.gca());\n",
    "plt.title('Seasonality за период с 08.01 по 08.08');\n",
    "plt.xlabel('Дата');\n",
    "plt.ylabel('Значения ряда');"
   ]
  },
  {
   "cell_type": "markdown",
   "metadata": {},
   "source": [
    "### Вывод"
   ]
  },
  {
   "cell_type": "markdown",
   "metadata": {},
   "source": [
    "В ходе анализа данных мы обнаружили, что в период с марта по август выросло общее количество заказов, что в течении дня \"пиковые\" часы приходятся на вторую половину дня, по неделям пики приходятся на понедельники и пятницы.\n",
    "\n",
    "Изходя из полученных данных в признаки считаю необхождимым добавить столбцы по месяцу, дню недели, дню и часу"
   ]
  },
  {
   "cell_type": "markdown",
   "metadata": {},
   "source": [
    "## Обучение"
   ]
  },
  {
   "cell_type": "markdown",
   "metadata": {},
   "source": [
    "Перед началом обучения моделей нам необходимо сделать несколько шагов\n",
    "\n",
    "Создадим признаки"
   ]
  },
  {
   "cell_type": "code",
   "execution_count": 17,
   "metadata": {},
   "outputs": [],
   "source": [
    "data_new = data\n",
    "def make_features(data_new, max_lag, rolling_mean_size):\n",
    "    data_new['hour'] = data_new.index.hour\n",
    "    data_new['dayofweek'] = data_new.index.dayofweek\n",
    "    \n",
    "    for lag in range(1, max_lag + 1):\n",
    "        data_new['lag_{}'.format(lag)] = data_new['num_orders'].shift(lag)\n",
    "        \n",
    "    \n",
    "    data['rolling_mean'] = data_new['num_orders'].shift().rolling(rolling_mean_size).mean()"
   ]
  },
  {
   "cell_type": "markdown",
   "metadata": {},
   "source": [
    "Теперь созадим эти некоторое количество признаков задав max_lag и rolling_mean_size, если при обучении моделей на валидационной выборке результат метрики нас не устроит, то мы просто изменим max_lag и rolling_mean_size и посчитаем снова\n",
    "\n",
    "ps. Значения max_lag и rolling_mean_size = 4, 10, 12 дали плохой результат на тестовой выборке.\n",
    "\n",
    "pss. В итоге удовлетворительный результат был достигнут max_lag = 12 и rolling_mean_size = 24. Можно сделать преположение, что чем больше(точно больше 10) мы создадим признаков, тем лучше будут предсказания."
   ]
  },
  {
   "cell_type": "code",
   "execution_count": 18,
   "metadata": {},
   "outputs": [
    {
     "data": {
      "text/html": [
       "<div>\n",
       "<style scoped>\n",
       "    .dataframe tbody tr th:only-of-type {\n",
       "        vertical-align: middle;\n",
       "    }\n",
       "\n",
       "    .dataframe tbody tr th {\n",
       "        vertical-align: top;\n",
       "    }\n",
       "\n",
       "    .dataframe thead th {\n",
       "        text-align: right;\n",
       "    }\n",
       "</style>\n",
       "<table border=\"1\" class=\"dataframe\">\n",
       "  <thead>\n",
       "    <tr style=\"text-align: right;\">\n",
       "      <th></th>\n",
       "      <th>num_orders</th>\n",
       "      <th>hour</th>\n",
       "      <th>dayofweek</th>\n",
       "      <th>lag_1</th>\n",
       "      <th>lag_2</th>\n",
       "      <th>rolling_mean</th>\n",
       "    </tr>\n",
       "    <tr>\n",
       "      <th>datetime</th>\n",
       "      <th></th>\n",
       "      <th></th>\n",
       "      <th></th>\n",
       "      <th></th>\n",
       "      <th></th>\n",
       "      <th></th>\n",
       "    </tr>\n",
       "  </thead>\n",
       "  <tbody>\n",
       "    <tr>\n",
       "      <th>2018-03-01 00:00:00</th>\n",
       "      <td>124</td>\n",
       "      <td>0</td>\n",
       "      <td>3</td>\n",
       "      <td>NaN</td>\n",
       "      <td>NaN</td>\n",
       "      <td>NaN</td>\n",
       "    </tr>\n",
       "    <tr>\n",
       "      <th>2018-03-01 01:00:00</th>\n",
       "      <td>85</td>\n",
       "      <td>1</td>\n",
       "      <td>3</td>\n",
       "      <td>124.0</td>\n",
       "      <td>NaN</td>\n",
       "      <td>NaN</td>\n",
       "    </tr>\n",
       "    <tr>\n",
       "      <th>2018-03-01 02:00:00</th>\n",
       "      <td>71</td>\n",
       "      <td>2</td>\n",
       "      <td>3</td>\n",
       "      <td>85.0</td>\n",
       "      <td>124.0</td>\n",
       "      <td>NaN</td>\n",
       "    </tr>\n",
       "    <tr>\n",
       "      <th>2018-03-01 03:00:00</th>\n",
       "      <td>66</td>\n",
       "      <td>3</td>\n",
       "      <td>3</td>\n",
       "      <td>71.0</td>\n",
       "      <td>85.0</td>\n",
       "      <td>NaN</td>\n",
       "    </tr>\n",
       "    <tr>\n",
       "      <th>2018-03-01 04:00:00</th>\n",
       "      <td>43</td>\n",
       "      <td>4</td>\n",
       "      <td>3</td>\n",
       "      <td>66.0</td>\n",
       "      <td>71.0</td>\n",
       "      <td>NaN</td>\n",
       "    </tr>\n",
       "  </tbody>\n",
       "</table>\n",
       "</div>"
      ],
      "text/plain": [
       "                     num_orders  hour  dayofweek  lag_1  lag_2  rolling_mean\n",
       "datetime                                                                    \n",
       "2018-03-01 00:00:00         124     0          3    NaN    NaN           NaN\n",
       "2018-03-01 01:00:00          85     1          3  124.0    NaN           NaN\n",
       "2018-03-01 02:00:00          71     2          3   85.0  124.0           NaN\n",
       "2018-03-01 03:00:00          66     3          3   71.0   85.0           NaN\n",
       "2018-03-01 04:00:00          43     4          3   66.0   71.0           NaN"
      ]
     },
     "execution_count": 18,
     "metadata": {},
     "output_type": "execute_result"
    }
   ],
   "source": [
    "make_features(data_new, 2, 24)\n",
    "\n",
    "data_new.head()"
   ]
  },
  {
   "cell_type": "markdown",
   "metadata": {},
   "source": [
    "Теперь разделим исходные данные на обучающую, валидационную и тестовую выборки в соотношении 8:1:1, те 80, 10 и 10 в процентах"
   ]
  },
  {
   "cell_type": "code",
   "execution_count": 19,
   "metadata": {},
   "outputs": [],
   "source": [
    "train, valid_test = train_test_split(data_new, test_size=0.2, random_state=5432, shuffle=False)"
   ]
  },
  {
   "cell_type": "code",
   "execution_count": 20,
   "metadata": {},
   "outputs": [],
   "source": [
    "valid, test = train_test_split(valid_test, test_size=0.5, random_state=5432, shuffle=False)"
   ]
  },
  {
   "cell_type": "markdown",
   "metadata": {},
   "source": [
    "Удалим пропуски из train для корректного обучения моделей"
   ]
  },
  {
   "cell_type": "code",
   "execution_count": 21,
   "metadata": {},
   "outputs": [],
   "source": [
    "train = train.dropna()"
   ]
  },
  {
   "cell_type": "markdown",
   "metadata": {},
   "source": [
    "Проверим как разделили данные"
   ]
  },
  {
   "cell_type": "code",
   "execution_count": 22,
   "metadata": {},
   "outputs": [
    {
     "name": "stdout",
     "output_type": "stream",
     "text": [
      "2018-03-02 00:00:00 2018-07-26 03:00:00\n",
      "2018-07-26 04:00:00 2018-08-13 13:00:00\n",
      "2018-08-13 14:00:00 2018-08-31 23:00:00\n"
     ]
    }
   ],
   "source": [
    "print(train.index.min(), train.index.max())\n",
    "print(valid.index.min(), valid.index.max())\n",
    "print(test.index.min(), test.index.max())"
   ]
  },
  {
   "cell_type": "markdown",
   "metadata": {},
   "source": [
    "Данные обучающей выборки предшествуют данным тестовой, то есть модели будут обучаться корректно\n",
    "\n",
    "Теперь создадим переменные для признаков и целевого признака для всех 3 выборок"
   ]
  },
  {
   "cell_type": "code",
   "execution_count": 23,
   "metadata": {},
   "outputs": [],
   "source": [
    "features_train = train.drop('num_orders', axis=1)\n",
    "target_train = train['num_orders']"
   ]
  },
  {
   "cell_type": "code",
   "execution_count": 24,
   "metadata": {},
   "outputs": [],
   "source": [
    "features_valid = valid.drop('num_orders', axis=1)\n",
    "target_valid = valid['num_orders']"
   ]
  },
  {
   "cell_type": "code",
   "execution_count": 25,
   "metadata": {},
   "outputs": [],
   "source": [
    "features_test = test.drop('num_orders', axis=1)\n",
    "target_test = test['num_orders']"
   ]
  },
  {
   "cell_type": "markdown",
   "metadata": {},
   "source": [
    "Теперь можем приступать к обучению моделей, мы решили обучим три модели: модели градиентного бустинга LightGBM и CatBoost и модель линейной регрессии"
   ]
  },
  {
   "cell_type": "markdown",
   "metadata": {},
   "source": [
    "### LinearRegression"
   ]
  },
  {
   "cell_type": "code",
   "execution_count": 26,
   "metadata": {},
   "outputs": [
    {
     "name": "stdout",
     "output_type": "stream",
     "text": [
      "RMSE на валидационной выборке = 41\n"
     ]
    }
   ],
   "source": [
    "model_lr = LinearRegression()\n",
    "model_lr.fit(features_train, target_train)\n",
    "\n",
    "predictions_lr = model_lr.predict(features_valid)\n",
    "    \n",
    "result_lr = mean_squared_error(target_valid, predictions_lr)\n",
    "result_lr = result_lr ** 0.5\n",
    "\n",
    "print('RMSE на валидационной выборке =', round(result_lr))"
   ]
  },
  {
   "cell_type": "raw",
   "metadata": {},
   "source": [
    "#обучение линейной регрессией\n",
    "model = LinearRegression()\n",
    "\n",
    "print(f'''Значение метрики RMSE на обучающей выборке для LinearRegression''', cross_val_score(model,X_train, y_train, \n",
    "                         cv = TimeSeriesSplit(n_splits=8), \n",
    "                         n_jobs = -1, \n",
    "                         scoring = 'neg_root_mean_squared_error').mean())"
   ]
  },
  {
   "cell_type": "markdown",
   "metadata": {},
   "source": [
    "### CatBoost"
   ]
  },
  {
   "cell_type": "markdown",
   "metadata": {},
   "source": [
    "Создадим цикл для поиска наилучшего показателя для метрики RMSE путем изменения гиперпараметров depth в диапозоне от 1 до 10 и iterations от 50 до 150 с шагом в 10 и выведим результат"
   ]
  },
  {
   "cell_type": "code",
   "execution_count": 27,
   "metadata": {},
   "outputs": [],
   "source": [
    "best_model_cat = None\n",
    "best_result_cat = 100\n",
    "best_itera_cat = 0\n",
    "best_dept_cat = 0\n",
    "\n",
    "for itera in range(50, 151, 10):\n",
    "    \n",
    "    for dept in range (1, 11):\n",
    "        \n",
    "        model_cat = CatBoostRegressor(random_state=5432, iterations=itera, depth=dept, logging_level='Silent')\n",
    "        model_cat.fit(features_train, target_train) \n",
    "        \n",
    "        predictions_cat = model_cat.predict(features_valid)\n",
    "        \n",
    "        result_cat = mean_squared_error(target_valid, predictions_cat)\n",
    "        result_cat = result_cat ** 0.5\n",
    "        \n",
    "        if result_cat < best_result_cat:\n",
    "            \n",
    "            best_model_cat = model_cat\n",
    "            best_result_cat = result_cat\n",
    "            best_itera_cat = itera\n",
    "            best_dept_cat = dept"
   ]
  },
  {
   "cell_type": "code",
   "execution_count": 28,
   "metadata": {},
   "outputs": [
    {
     "name": "stdout",
     "output_type": "stream",
     "text": [
      "RMSE наилучшей модели на валидационной выборке: 30 с параметром depth = 5 и параметром iterations = 80\n"
     ]
    }
   ],
   "source": [
    "print(\"RMSE наилучшей модели на валидационной выборке:\", round(best_result_cat),\n",
    "      'с параметром depth =', best_dept_cat, 'и параметром iterations =', best_itera_cat)"
   ]
  },
  {
   "cell_type": "markdown",
   "metadata": {},
   "source": [
    "### DecisionTreeRegressor"
   ]
  },
  {
   "cell_type": "markdown",
   "metadata": {},
   "source": [
    "Создадим цикл для поиска наилучшего показателя для метрики RMSE путем изменения гиперпараметров max_depth"
   ]
  },
  {
   "cell_type": "code",
   "execution_count": 31,
   "metadata": {},
   "outputs": [],
   "source": [
    "best_model_dtr = None\n",
    "best_result_dtr = 100\n",
    "best_depth_dtr = 0\n",
    "\n",
    "for depth in range(1, 11):\n",
    "    \n",
    "    model_dtr = DecisionTreeRegressor(random_state=5432, max_depth=depth)\n",
    "    model_dtr.fit(features_train, target_train)\n",
    "    \n",
    "    predictions_dtr = model_dtr.predict(features_valid)\n",
    "        \n",
    "    result_dtr = mean_squared_error(target_valid, predictions_dtr)\n",
    "    result_dtr = result_dtr ** 0.5\n",
    "    \n",
    "    if result_dtr < best_result_dtr:\n",
    "        \n",
    "        best_model_dtr = model_dtr\n",
    "        best_result_dtr = result_dtr\n",
    "        best_depth_dtr = depth"
   ]
  },
  {
   "cell_type": "code",
   "execution_count": 32,
   "metadata": {},
   "outputs": [
    {
     "name": "stdout",
     "output_type": "stream",
     "text": [
      "RMSE наилучшей модели на валидационной выборке: 36 с параметром max_depth = 7\n"
     ]
    }
   ],
   "source": [
    "print(\"RMSE наилучшей модели на валидационной выборке:\", round(best_result_dtr),\n",
    "      'с параметром max_depth =', best_depth_dtr)"
   ]
  },
  {
   "cell_type": "markdown",
   "metadata": {},
   "source": [
    "### Вывод"
   ]
  },
  {
   "cell_type": "code",
   "execution_count": 33,
   "metadata": {},
   "outputs": [
    {
     "data": {
      "text/html": [
       "<div>\n",
       "<style scoped>\n",
       "    .dataframe tbody tr th:only-of-type {\n",
       "        vertical-align: middle;\n",
       "    }\n",
       "\n",
       "    .dataframe tbody tr th {\n",
       "        vertical-align: top;\n",
       "    }\n",
       "\n",
       "    .dataframe thead th {\n",
       "        text-align: right;\n",
       "    }\n",
       "</style>\n",
       "<table border=\"1\" class=\"dataframe\">\n",
       "  <thead>\n",
       "    <tr style=\"text-align: right;\">\n",
       "      <th></th>\n",
       "      <th>RMSE</th>\n",
       "    </tr>\n",
       "  </thead>\n",
       "  <tbody>\n",
       "    <tr>\n",
       "      <th>LinearRegression</th>\n",
       "      <td>41</td>\n",
       "    </tr>\n",
       "    <tr>\n",
       "      <th>CatBoost</th>\n",
       "      <td>30</td>\n",
       "    </tr>\n",
       "    <tr>\n",
       "      <th>DecisionTreeRegressor</th>\n",
       "      <td>36</td>\n",
       "    </tr>\n",
       "  </tbody>\n",
       "</table>\n",
       "</div>"
      ],
      "text/plain": [
       "                       RMSE\n",
       "LinearRegression         41\n",
       "CatBoost                 30\n",
       "DecisionTreeRegressor    36"
      ]
     },
     "execution_count": 33,
     "metadata": {},
     "output_type": "execute_result"
    }
   ],
   "source": [
    "data_models = pd.DataFrame(\n",
    "    [round(result_lr), round(best_result_cat), round(best_result_dtr)], \n",
    "     columns=['RMSE'], \n",
    "     index=['LinearRegression','CatBoost', 'DecisionTreeRegressor']\n",
    ")\n",
    "data_models"
   ]
  },
  {
   "cell_type": "markdown",
   "metadata": {},
   "source": [
    "В ходе обучения моделей нами были созданы признаки обучения, данные были разделены на обучающую, валидационную и тестовую выборки в соотношении 8:1:1, те 80, 10 и 10 в процентах, а после мы создали переменные для моделей.\n",
    "\n",
    "Обучение моделей выявило, что наиболее точной является модель градиентного бустинга CatBoost с гиперпараметрами depth=5 и iterations=80, у DecisionTreeRegressor с гиперпараметром max_depth = 7 точность чуть ниже, но на обучение тратится значительно меньше времени, модель LinearRegression показала наихудший результат точности, но наибыстрейшую скорость работы. \n",
    "\n",
    "Во всех трех случаях RMSE на валидационной выборке дал результат меньше 48, что удовлетворяет поставленной задаче\n",
    "\n",
    "Для проведения проверки на тестовых данных нами выбрана модель градиентного бустинга CatBoost с гиперпараметрами depth=5 и iterations=80."
   ]
  },
  {
   "cell_type": "markdown",
   "metadata": {},
   "source": [
    "## Тестирование"
   ]
  },
  {
   "cell_type": "markdown",
   "metadata": {},
   "source": [
    "Перед тестированием наилучшей модели объеденим обучающую и валидационную в одну, чтобы данных для обучения было больше, и на ней уже обучим модель"
   ]
  },
  {
   "cell_type": "code",
   "execution_count": 34,
   "metadata": {},
   "outputs": [],
   "source": [
    "features_train_valid = features_train.append(features_valid)\n",
    "target_train_valid = target_train.append(target_valid)"
   ]
  },
  {
   "cell_type": "markdown",
   "metadata": {},
   "source": [
    "Проверим все ли осталось на местах"
   ]
  },
  {
   "cell_type": "code",
   "execution_count": 35,
   "metadata": {},
   "outputs": [
    {
     "name": "stdout",
     "output_type": "stream",
     "text": [
      "2018-03-02 00:00:00 2018-08-13 13:00:00\n",
      "2018-03-02 00:00:00 2018-08-13 13:00:00\n"
     ]
    }
   ],
   "source": [
    "print(features_train_valid.index.min(), features_train_valid.index.max())\n",
    "print(target_train_valid.index.min(), target_train_valid.index.max())"
   ]
  },
  {
   "cell_type": "code",
   "execution_count": 36,
   "metadata": {},
   "outputs": [
    {
     "data": {
      "text/html": [
       "<div>\n",
       "<style scoped>\n",
       "    .dataframe tbody tr th:only-of-type {\n",
       "        vertical-align: middle;\n",
       "    }\n",
       "\n",
       "    .dataframe tbody tr th {\n",
       "        vertical-align: top;\n",
       "    }\n",
       "\n",
       "    .dataframe thead th {\n",
       "        text-align: right;\n",
       "    }\n",
       "</style>\n",
       "<table border=\"1\" class=\"dataframe\">\n",
       "  <thead>\n",
       "    <tr style=\"text-align: right;\">\n",
       "      <th></th>\n",
       "      <th>hour</th>\n",
       "      <th>dayofweek</th>\n",
       "      <th>lag_1</th>\n",
       "      <th>lag_2</th>\n",
       "      <th>rolling_mean</th>\n",
       "    </tr>\n",
       "    <tr>\n",
       "      <th>datetime</th>\n",
       "      <th></th>\n",
       "      <th></th>\n",
       "      <th></th>\n",
       "      <th></th>\n",
       "      <th></th>\n",
       "    </tr>\n",
       "  </thead>\n",
       "  <tbody>\n",
       "    <tr>\n",
       "      <th>2018-03-02 00:00:00</th>\n",
       "      <td>0</td>\n",
       "      <td>4</td>\n",
       "      <td>58.0</td>\n",
       "      <td>113.0</td>\n",
       "      <td>56.833333</td>\n",
       "    </tr>\n",
       "    <tr>\n",
       "      <th>2018-03-02 01:00:00</th>\n",
       "      <td>1</td>\n",
       "      <td>4</td>\n",
       "      <td>90.0</td>\n",
       "      <td>58.0</td>\n",
       "      <td>55.416667</td>\n",
       "    </tr>\n",
       "    <tr>\n",
       "      <th>2018-03-02 02:00:00</th>\n",
       "      <td>2</td>\n",
       "      <td>4</td>\n",
       "      <td>120.0</td>\n",
       "      <td>90.0</td>\n",
       "      <td>56.875000</td>\n",
       "    </tr>\n",
       "    <tr>\n",
       "      <th>2018-03-02 03:00:00</th>\n",
       "      <td>3</td>\n",
       "      <td>4</td>\n",
       "      <td>75.0</td>\n",
       "      <td>120.0</td>\n",
       "      <td>57.041667</td>\n",
       "    </tr>\n",
       "    <tr>\n",
       "      <th>2018-03-02 04:00:00</th>\n",
       "      <td>4</td>\n",
       "      <td>4</td>\n",
       "      <td>64.0</td>\n",
       "      <td>75.0</td>\n",
       "      <td>56.958333</td>\n",
       "    </tr>\n",
       "  </tbody>\n",
       "</table>\n",
       "</div>"
      ],
      "text/plain": [
       "                     hour  dayofweek  lag_1  lag_2  rolling_mean\n",
       "datetime                                                        \n",
       "2018-03-02 00:00:00     0          4   58.0  113.0     56.833333\n",
       "2018-03-02 01:00:00     1          4   90.0   58.0     55.416667\n",
       "2018-03-02 02:00:00     2          4  120.0   90.0     56.875000\n",
       "2018-03-02 03:00:00     3          4   75.0  120.0     57.041667\n",
       "2018-03-02 04:00:00     4          4   64.0   75.0     56.958333"
      ]
     },
     "execution_count": 36,
     "metadata": {},
     "output_type": "execute_result"
    }
   ],
   "source": [
    "features_train_valid.head()"
   ]
  },
  {
   "cell_type": "code",
   "execution_count": 37,
   "metadata": {},
   "outputs": [
    {
     "data": {
      "text/plain": [
       "datetime\n",
       "2018-03-02 00:00:00     90\n",
       "2018-03-02 01:00:00    120\n",
       "2018-03-02 02:00:00     75\n",
       "2018-03-02 03:00:00     64\n",
       "2018-03-02 04:00:00     20\n",
       "Freq: H, Name: num_orders, dtype: int64"
      ]
     },
     "execution_count": 37,
     "metadata": {},
     "output_type": "execute_result"
    }
   ],
   "source": [
    "target_train_valid.head()"
   ]
  },
  {
   "cell_type": "markdown",
   "metadata": {},
   "source": [
    "Теперь проведем проверку лучшей модели на тестовой выборке"
   ]
  },
  {
   "cell_type": "code",
   "execution_count": 38,
   "metadata": {},
   "outputs": [
    {
     "name": "stdout",
     "output_type": "stream",
     "text": [
      "RMSE на тестовой выборке = 47\n"
     ]
    }
   ],
   "source": [
    "model_cat_best = CatBoostRegressor(random_state=5432, depth=best_dept_cat, iterations=best_itera_cat, logging_level='Silent')\n",
    "model_cat_best.fit(features_train_valid, target_train_valid)\n",
    "\n",
    "predictions_cat_best = model_cat_best.predict(features_test)\n",
    "\n",
    "result_cat_best = mean_squared_error(target_test, predictions_cat_best)\n",
    "result_cat_best = result_cat_best ** 0.5\n",
    "\n",
    "print('RMSE на тестовой выборке =', round(result_cat_best))"
   ]
  },
  {
   "cell_type": "markdown",
   "metadata": {},
   "source": [
    "Теперь сравним нашу модель на тестовой выборке с Dummy моделью"
   ]
  },
  {
   "cell_type": "code",
   "execution_count": 39,
   "metadata": {},
   "outputs": [
    {
     "name": "stdout",
     "output_type": "stream",
     "text": [
      "RMSE на тестовой выборке = 88\n"
     ]
    }
   ],
   "source": [
    "dummy_model = DummyRegressor(strategy='mean')\n",
    "dummy_model.fit(features_train,target_train)\n",
    "\n",
    "predictions_dummy = dummy_model.predict(features_test)\n",
    "\n",
    "result_dummy = mean_squared_error(target_test, predictions_dummy)\n",
    "result_dummy = result_dummy ** 0.5\n",
    "\n",
    "print('RMSE на тестовой выборке =', round(result_dummy))"
   ]
  },
  {
   "cell_type": "markdown",
   "metadata": {},
   "source": [
    "### Вывод"
   ]
  },
  {
   "cell_type": "markdown",
   "metadata": {},
   "source": [
    "Лучшая модель на валидационной выборке показала на тестовой выборке RMSE = 47. Проверка константной моделью показало RMSE = 88"
   ]
  },
  {
   "cell_type": "raw",
   "metadata": {},
   "source": [
    "def rmse_grid(model, parameteres):\n",
    "    grid = GridSearchCV(model, \n",
    "                    parameteres,\n",
    "                    scoring='neg_root_mean_squared_error',\n",
    "                    cv = TimeSeriesSplit(n_splits=8), n_jobs=-1)\n",
    "\n",
    "    grid.fit(X_train, y_train)\n",
    "\n",
    "    print('Метрика RMSE =', round(grid.best_score_*-1))\n",
    "    print('-'*30)\n",
    "    print('Параметры лучшей модели:', grid.best_estimator_)\n",
    "    print('-'*30)\n",
    "    \n",
    "    return grid"
   ]
  },
  {
   "cell_type": "markdown",
   "metadata": {},
   "source": [
    "## Общий вывод"
   ]
  },
  {
   "cell_type": "markdown",
   "metadata": {},
   "source": [
    "В ходе проведения работы мы ознакомились с датафреймом, отметили его особенности для дальнейшей работы. В ходе проверки, мы обнаружили отсутствие дубликатов, перевели столбец \"datetime\" и установили его как индекс датафрейма, так же отсортировали и ресемплировали данные по индексу объеденив данные за час, тк это необходимо по условию задачи. \n",
    "\n",
    "Во время анализа данных мы проверяли трендовость и сезонность заказов, можно заключить, что в период с марта по август выросло общее количество заказов, что в течении дня \"пиковые\" часы приходятся на вторую половину дня, по неделям пики приходятся на понедельники и пятницы.\n",
    "\n",
    "Перед началом обучения моделей нами были созданы признаки, частично из данных полученных при анализе, получившийся датафрейм был нами разбит на обучающую, валидационную и тестовую выборки в соотношении 8:1:1, те 80, 10 и 10 в процентах, а далее мы разделили целевой признак и признаки в этих выборках.\n",
    "\n",
    "Обучение моделей на валидационной выборке показало, что наиболее точной является модель градиентного бустинга CatBoost с гиперпараметрами depth=5 и iterations=80, у DecisionTreeRegressor с гиперпараметром max_depth = 7 точность чуть ниже, но на обучение тратится значительно меньше времени, модель LinearRegression показала наихудший результат точности, но наибыстрейшую скорость работы.\n",
    "\n",
    "Тест наилучшей модели показал такие результаты: RMSE = 47, что ниже порога в 48, что удовлетворяюет требованию задачи. Также мы проверили константную модель, метрика RMSE = 88, те наша модель работает точнее.\n",
    "\n",
    "Ниже будет график факт/предсказанние чтобы посмотреть где наша модель ошибалась"
   ]
  },
  {
   "attachments": {
    "image.png": {
     "image/png": "[encoded data removed]"
    }
   },
   "cell_type": "markdown",
   "metadata": {},
   "source": [
    "![image.png](attachment:image.png)"
   ]
  },
  {
   "cell_type": "code",
   "execution_count": 40,
   "metadata": {},
   "outputs": [
    {
     "data": {
      "image/png": "[encoded data removed]",
      "text/plain": [
       "<Figure size 720x432 with 1 Axes>"
      ]
     },
     "metadata": {
      "needs_background": "light"
     },
     "output_type": "display_data"
    }
   ],
   "source": [
    "plt.figure(figsize=(10, 6)) ;\n",
    "\n",
    "sns.lineplot(y=target_test, x=target_test.index, label='Фактические данные');\n",
    "sns.lineplot(y=predictions_cat_best, x=target_test.index, label='Предсказанные данные');\n",
    "\n",
    "plt.xlim([17765, 17769]);\n",
    "\n",
    "plt.grid()\n",
    "plt.xlabel('Дата');\n",
    "plt.ylabel('Количество заказов');\n",
    "plt.title('Графики фактического/предсказанного значения');\n"
   ]
  },
  {
   "cell_type": "markdown",
   "metadata": {},
   "source": [
    "На графиках видно, что в целом наши предсказания немного занижены, те пики графика предсказаний ниже пиков графика фактического, но в \"рисунок\" на обоих графиках выглядит эквивалентно "
   ]
  },
  {
   "cell_type": "code",
   "execution_count": null,
   "metadata": {},
   "outputs": [],
   "source": []
  }
 ],
 "metadata": {
  "ExecuteTimeLog": [
   {
    "duration": 436,
    "start_time": "2023-04-12T20:53:04.284Z"
   },
   {
    "duration": 149,
    "start_time": "2023-04-12T20:53:40.988Z"
   },
   {
    "duration": 16,
    "start_time": "2023-04-12T20:53:55.915Z"
   },
   {
    "duration": 16,
    "start_time": "2023-04-12T20:54:08.507Z"
   },
   {
    "duration": 9,
    "start_time": "2023-04-12T20:58:29.086Z"
   },
   {
    "duration": 8,
    "start_time": "2023-04-12T20:58:37.001Z"
   },
   {
    "duration": 11,
    "start_time": "2023-04-12T20:58:42.072Z"
   },
   {
    "duration": 5,
    "start_time": "2023-04-12T20:59:33.154Z"
   },
   {
    "duration": 64,
    "start_time": "2023-04-12T20:59:45.545Z"
   },
   {
    "duration": 8,
    "start_time": "2023-04-12T21:00:00.049Z"
   },
   {
    "duration": 390,
    "start_time": "2023-04-12T21:00:15.277Z"
   },
   {
    "duration": 45,
    "start_time": "2023-04-12T21:00:16.281Z"
   },
   {
    "duration": 15,
    "start_time": "2023-04-12T21:00:16.841Z"
   },
   {
    "duration": 13,
    "start_time": "2023-04-12T21:00:20.536Z"
   },
   {
    "duration": 9,
    "start_time": "2023-04-12T21:00:23.106Z"
   },
   {
    "duration": 4,
    "start_time": "2023-04-12T21:00:23.601Z"
   },
   {
    "duration": 352,
    "start_time": "2023-04-12T21:01:07.891Z"
   },
   {
    "duration": 46,
    "start_time": "2023-04-12T21:01:09.354Z"
   },
   {
    "duration": 15,
    "start_time": "2023-04-12T21:01:09.728Z"
   },
   {
    "duration": 12,
    "start_time": "2023-04-12T21:01:10.144Z"
   },
   {
    "duration": 13,
    "start_time": "2023-04-12T21:01:16.772Z"
   },
   {
    "duration": 10,
    "start_time": "2023-04-12T21:01:20.624Z"
   },
   {
    "duration": 4,
    "start_time": "2023-04-12T21:01:20.888Z"
   },
   {
    "duration": 443,
    "start_time": "2023-04-12T21:11:48.511Z"
   },
   {
    "duration": 51,
    "start_time": "2023-04-12T21:11:49.806Z"
   },
   {
    "duration": 20,
    "start_time": "2023-04-12T21:11:50.160Z"
   },
   {
    "duration": 15,
    "start_time": "2023-04-12T21:11:50.470Z"
   },
   {
    "duration": 15,
    "start_time": "2023-04-12T21:11:53.686Z"
   },
   {
    "duration": 15,
    "start_time": "2023-04-12T21:11:59.542Z"
   },
   {
    "duration": 4,
    "start_time": "2023-04-12T21:11:59.919Z"
   },
   {
    "duration": 3,
    "start_time": "2023-04-12T21:14:55.062Z"
   },
   {
    "duration": 11,
    "start_time": "2023-04-12T21:15:03.909Z"
   },
   {
    "duration": 10,
    "start_time": "2023-04-12T21:16:50.199Z"
   },
   {
    "duration": 4,
    "start_time": "2023-04-12T21:16:57.118Z"
   },
   {
    "duration": 9,
    "start_time": "2023-04-12T21:20:12.166Z"
   },
   {
    "duration": 409,
    "start_time": "2023-04-15T17:09:26.966Z"
   },
   {
    "duration": 113,
    "start_time": "2023-04-15T17:09:30.195Z"
   },
   {
    "duration": 14,
    "start_time": "2023-04-15T17:09:30.717Z"
   },
   {
    "duration": 13,
    "start_time": "2023-04-15T17:09:31.060Z"
   },
   {
    "duration": 12,
    "start_time": "2023-04-15T17:09:31.612Z"
   },
   {
    "duration": 13,
    "start_time": "2023-04-15T17:09:32.166Z"
   },
   {
    "duration": 5,
    "start_time": "2023-04-15T17:09:32.437Z"
   },
   {
    "duration": 3,
    "start_time": "2023-04-15T17:09:32.889Z"
   },
   {
    "duration": 4,
    "start_time": "2023-04-15T17:09:33.085Z"
   },
   {
    "duration": 9,
    "start_time": "2023-04-15T17:09:33.439Z"
   },
   {
    "duration": 6,
    "start_time": "2023-04-15T17:28:33.560Z"
   },
   {
    "duration": 566,
    "start_time": "2023-04-15T17:31:06.479Z"
   },
   {
    "duration": 386,
    "start_time": "2023-04-15T17:31:37.678Z"
   },
   {
    "duration": 499,
    "start_time": "2023-04-15T17:32:53.198Z"
   },
   {
    "duration": 10,
    "start_time": "2023-04-15T17:49:55.441Z"
   },
   {
    "duration": 876,
    "start_time": "2023-04-15T17:52:46.661Z"
   },
   {
    "duration": 163,
    "start_time": "2023-04-15T17:57:38.013Z"
   },
   {
    "duration": 192,
    "start_time": "2023-04-15T17:58:31.214Z"
   },
   {
    "duration": 161,
    "start_time": "2023-04-15T17:58:46.726Z"
   },
   {
    "duration": 185,
    "start_time": "2023-04-15T17:58:53.871Z"
   },
   {
    "duration": 170,
    "start_time": "2023-04-15T17:59:01.957Z"
   },
   {
    "duration": 157,
    "start_time": "2023-04-15T17:59:21.713Z"
   },
   {
    "duration": 155,
    "start_time": "2023-04-15T17:59:34.718Z"
   },
   {
    "duration": 169,
    "start_time": "2023-04-15T17:59:41.312Z"
   },
   {
    "duration": 6,
    "start_time": "2023-04-15T18:05:18.123Z"
   },
   {
    "duration": 6,
    "start_time": "2023-04-15T18:05:18.504Z"
   },
   {
    "duration": 149,
    "start_time": "2023-04-15T18:05:34.868Z"
   },
   {
    "duration": 186,
    "start_time": "2023-04-15T18:07:56.909Z"
   },
   {
    "duration": 1228,
    "start_time": "2023-04-16T16:29:34.506Z"
   },
   {
    "duration": 127,
    "start_time": "2023-04-16T16:29:36.622Z"
   },
   {
    "duration": 10,
    "start_time": "2023-04-16T16:29:37.130Z"
   },
   {
    "duration": 11,
    "start_time": "2023-04-16T16:29:37.513Z"
   },
   {
    "duration": 11,
    "start_time": "2023-04-16T16:29:38.011Z"
   },
   {
    "duration": 9,
    "start_time": "2023-04-16T16:29:38.405Z"
   },
   {
    "duration": 4,
    "start_time": "2023-04-16T16:29:38.612Z"
   },
   {
    "duration": 2,
    "start_time": "2023-04-16T16:29:38.945Z"
   },
   {
    "duration": 4,
    "start_time": "2023-04-16T16:29:39.110Z"
   },
   {
    "duration": 8,
    "start_time": "2023-04-16T16:29:39.410Z"
   },
   {
    "duration": 8,
    "start_time": "2023-04-16T16:29:40.210Z"
   },
   {
    "duration": 820,
    "start_time": "2023-04-16T16:29:40.383Z"
   },
   {
    "duration": 141,
    "start_time": "2023-04-16T16:29:41.205Z"
   },
   {
    "duration": 6,
    "start_time": "2023-04-16T16:29:41.898Z"
   },
   {
    "duration": 6,
    "start_time": "2023-04-16T16:29:42.210Z"
   },
   {
    "duration": 204,
    "start_time": "2023-04-16T16:29:42.649Z"
   },
   {
    "duration": 4,
    "start_time": "2023-04-16T16:38:08.316Z"
   },
   {
    "duration": 9,
    "start_time": "2023-04-16T16:41:22.179Z"
   },
   {
    "duration": 13,
    "start_time": "2023-04-16T16:41:34.779Z"
   },
   {
    "duration": 15,
    "start_time": "2023-04-16T16:41:46.426Z"
   },
   {
    "duration": 16,
    "start_time": "2023-04-16T16:41:48.927Z"
   },
   {
    "duration": 4,
    "start_time": "2023-04-16T16:43:41.430Z"
   },
   {
    "duration": 21,
    "start_time": "2023-04-16T16:43:42.526Z"
   },
   {
    "duration": 14,
    "start_time": "2023-04-16T16:44:14.675Z"
   },
   {
    "duration": 4,
    "start_time": "2023-04-16T16:44:30.221Z"
   },
   {
    "duration": 16,
    "start_time": "2023-04-16T16:44:31.325Z"
   },
   {
    "duration": 15,
    "start_time": "2023-04-16T16:44:35.242Z"
   },
   {
    "duration": 1052,
    "start_time": "2023-04-16T16:44:46.214Z"
   },
   {
    "duration": 36,
    "start_time": "2023-04-16T16:44:48.736Z"
   },
   {
    "duration": 11,
    "start_time": "2023-04-16T16:44:49.733Z"
   },
   {
    "duration": 12,
    "start_time": "2023-04-16T16:44:51.617Z"
   },
   {
    "duration": 12,
    "start_time": "2023-04-16T16:44:52.371Z"
   },
   {
    "duration": 9,
    "start_time": "2023-04-16T16:44:53.043Z"
   },
   {
    "duration": 4,
    "start_time": "2023-04-16T16:44:53.412Z"
   },
   {
    "duration": 3,
    "start_time": "2023-04-16T16:44:53.929Z"
   },
   {
    "duration": 3,
    "start_time": "2023-04-16T16:44:54.140Z"
   },
   {
    "duration": 8,
    "start_time": "2023-04-16T16:44:54.575Z"
   },
   {
    "duration": 7,
    "start_time": "2023-04-16T16:44:56.206Z"
   },
   {
    "duration": 849,
    "start_time": "2023-04-16T16:44:56.422Z"
   },
   {
    "duration": 143,
    "start_time": "2023-04-16T16:44:58.510Z"
   },
   {
    "duration": 5,
    "start_time": "2023-04-16T16:44:59.714Z"
   },
   {
    "duration": 6,
    "start_time": "2023-04-16T16:45:00.109Z"
   },
   {
    "duration": 191,
    "start_time": "2023-04-16T16:45:00.703Z"
   },
   {
    "duration": 4,
    "start_time": "2023-04-16T16:45:03.729Z"
   },
   {
    "duration": 22,
    "start_time": "2023-04-16T16:45:06.571Z"
   },
   {
    "duration": 18,
    "start_time": "2023-04-16T16:45:36.541Z"
   },
   {
    "duration": 15,
    "start_time": "2023-04-16T16:46:25.434Z"
   },
   {
    "duration": 104,
    "start_time": "2023-04-16T17:00:33.249Z"
   },
   {
    "duration": 315,
    "start_time": "2023-04-16T17:01:19.218Z"
   },
   {
    "duration": 5,
    "start_time": "2023-04-16T17:01:23.831Z"
   },
   {
    "duration": 4,
    "start_time": "2023-04-16T17:01:41.976Z"
   },
   {
    "duration": 5,
    "start_time": "2023-04-16T17:03:28.370Z"
   },
   {
    "duration": 1238,
    "start_time": "2023-04-16T17:04:01.279Z"
   },
   {
    "duration": 37,
    "start_time": "2023-04-16T17:04:03.613Z"
   },
   {
    "duration": 9,
    "start_time": "2023-04-16T17:04:04.118Z"
   },
   {
    "duration": 11,
    "start_time": "2023-04-16T17:04:04.423Z"
   },
   {
    "duration": 12,
    "start_time": "2023-04-16T17:04:04.798Z"
   },
   {
    "duration": 7,
    "start_time": "2023-04-16T17:04:05.117Z"
   },
   {
    "duration": 4,
    "start_time": "2023-04-16T17:04:05.276Z"
   },
   {
    "duration": 3,
    "start_time": "2023-04-16T17:04:05.610Z"
   },
   {
    "duration": 4,
    "start_time": "2023-04-16T17:04:05.733Z"
   },
   {
    "duration": 8,
    "start_time": "2023-04-16T17:04:06.076Z"
   },
   {
    "duration": 7,
    "start_time": "2023-04-16T17:04:06.877Z"
   },
   {
    "duration": 767,
    "start_time": "2023-04-16T17:04:07.048Z"
   },
   {
    "duration": 194,
    "start_time": "2023-04-16T17:04:07.816Z"
   },
   {
    "duration": 5,
    "start_time": "2023-04-16T17:04:08.012Z"
   },
   {
    "duration": 6,
    "start_time": "2023-04-16T17:04:08.609Z"
   },
   {
    "duration": 177,
    "start_time": "2023-04-16T17:04:08.814Z"
   },
   {
    "duration": 4,
    "start_time": "2023-04-16T17:04:10.678Z"
   },
   {
    "duration": 18,
    "start_time": "2023-04-16T17:04:12.002Z"
   },
   {
    "duration": 5,
    "start_time": "2023-04-16T17:04:14.063Z"
   },
   {
    "duration": 4,
    "start_time": "2023-04-16T17:04:15.905Z"
   },
   {
    "duration": 4,
    "start_time": "2023-04-16T17:04:16.878Z"
   },
   {
    "duration": 44,
    "start_time": "2023-04-16T17:08:57.605Z"
   },
   {
    "duration": 4,
    "start_time": "2023-04-16T17:11:31.941Z"
   },
   {
    "duration": 4,
    "start_time": "2023-04-16T17:11:32.324Z"
   },
   {
    "duration": 5,
    "start_time": "2023-04-16T17:11:32.716Z"
   },
   {
    "duration": 54,
    "start_time": "2023-04-16T17:13:59.908Z"
   },
   {
    "duration": 107,
    "start_time": "2023-04-16T17:15:29.018Z"
   },
   {
    "duration": 15,
    "start_time": "2023-04-16T17:16:55.409Z"
   },
   {
    "duration": 7,
    "start_time": "2023-04-16T17:17:02.629Z"
   },
   {
    "duration": 16,
    "start_time": "2023-04-16T17:17:11.946Z"
   },
   {
    "duration": 15,
    "start_time": "2023-04-16T17:19:46.010Z"
   },
   {
    "duration": 1277,
    "start_time": "2023-04-16T17:19:56.609Z"
   },
   {
    "duration": 38,
    "start_time": "2023-04-16T17:19:58.722Z"
   },
   {
    "duration": 9,
    "start_time": "2023-04-16T17:19:59.145Z"
   },
   {
    "duration": 11,
    "start_time": "2023-04-16T17:19:59.537Z"
   },
   {
    "duration": 10,
    "start_time": "2023-04-16T17:19:59.918Z"
   },
   {
    "duration": 11,
    "start_time": "2023-04-16T17:20:00.241Z"
   },
   {
    "duration": 4,
    "start_time": "2023-04-16T17:20:00.413Z"
   },
   {
    "duration": 3,
    "start_time": "2023-04-16T17:20:00.737Z"
   },
   {
    "duration": 4,
    "start_time": "2023-04-16T17:20:00.922Z"
   },
   {
    "duration": 9,
    "start_time": "2023-04-16T17:20:01.241Z"
   },
   {
    "duration": 8,
    "start_time": "2023-04-16T17:20:02.117Z"
   },
   {
    "duration": 879,
    "start_time": "2023-04-16T17:20:02.256Z"
   },
   {
    "duration": 148,
    "start_time": "2023-04-16T17:20:03.136Z"
   },
   {
    "duration": 5,
    "start_time": "2023-04-16T17:20:03.923Z"
   },
   {
    "duration": 6,
    "start_time": "2023-04-16T17:20:04.128Z"
   },
   {
    "duration": 221,
    "start_time": "2023-04-16T17:20:04.331Z"
   },
   {
    "duration": 4,
    "start_time": "2023-04-16T17:20:06.321Z"
   },
   {
    "duration": 19,
    "start_time": "2023-04-16T17:20:07.432Z"
   },
   {
    "duration": 5,
    "start_time": "2023-04-16T17:20:08.152Z"
   },
   {
    "duration": 4,
    "start_time": "2023-04-16T17:20:08.525Z"
   },
   {
    "duration": 5,
    "start_time": "2023-04-16T17:20:09.118Z"
   },
   {
    "duration": 4,
    "start_time": "2023-04-16T17:20:09.924Z"
   },
   {
    "duration": 4,
    "start_time": "2023-04-16T17:20:10.152Z"
   },
   {
    "duration": 3,
    "start_time": "2023-04-16T17:20:10.415Z"
   },
   {
    "duration": 16,
    "start_time": "2023-04-16T17:20:10.617Z"
   },
   {
    "duration": 117,
    "start_time": "2023-04-16T17:20:16.561Z"
   },
   {
    "duration": 14,
    "start_time": "2023-04-16T17:22:57.222Z"
   },
   {
    "duration": 1365,
    "start_time": "2023-04-16T17:24:33.436Z"
   },
   {
    "duration": 37,
    "start_time": "2023-04-16T17:24:36.221Z"
   },
   {
    "duration": 10,
    "start_time": "2023-04-16T17:24:36.836Z"
   },
   {
    "duration": 15,
    "start_time": "2023-04-16T17:24:37.359Z"
   },
   {
    "duration": 12,
    "start_time": "2023-04-16T17:24:37.743Z"
   },
   {
    "duration": 7,
    "start_time": "2023-04-16T17:24:38.114Z"
   },
   {
    "duration": 3,
    "start_time": "2023-04-16T17:24:38.255Z"
   },
   {
    "duration": 3,
    "start_time": "2023-04-16T17:24:38.621Z"
   },
   {
    "duration": 3,
    "start_time": "2023-04-16T17:24:38.752Z"
   },
   {
    "duration": 10,
    "start_time": "2023-04-16T17:24:39.109Z"
   },
   {
    "duration": 8,
    "start_time": "2023-04-16T17:24:40.322Z"
   },
   {
    "duration": 785,
    "start_time": "2023-04-16T17:24:40.514Z"
   },
   {
    "duration": 141,
    "start_time": "2023-04-16T17:24:43.823Z"
   },
   {
    "duration": 5,
    "start_time": "2023-04-16T17:24:45.534Z"
   },
   {
    "duration": 5,
    "start_time": "2023-04-16T17:24:45.951Z"
   },
   {
    "duration": 180,
    "start_time": "2023-04-16T17:24:46.521Z"
   },
   {
    "duration": 5,
    "start_time": "2023-04-16T17:24:49.320Z"
   },
   {
    "duration": 23,
    "start_time": "2023-04-16T17:24:50.622Z"
   },
   {
    "duration": 6,
    "start_time": "2023-04-16T17:24:51.227Z"
   },
   {
    "duration": 5,
    "start_time": "2023-04-16T17:24:51.551Z"
   },
   {
    "duration": 7,
    "start_time": "2023-04-16T17:24:52.433Z"
   },
   {
    "duration": 4,
    "start_time": "2023-04-16T17:24:53.247Z"
   },
   {
    "duration": 4,
    "start_time": "2023-04-16T17:24:56.226Z"
   },
   {
    "duration": 4,
    "start_time": "2023-04-16T17:24:58.113Z"
   },
   {
    "duration": 4,
    "start_time": "2023-04-16T17:24:59.721Z"
   },
   {
    "duration": 9,
    "start_time": "2023-04-16T17:25:08.954Z"
   },
   {
    "duration": 4,
    "start_time": "2023-04-16T17:25:13.155Z"
   },
   {
    "duration": 12,
    "start_time": "2023-04-16T17:25:38.618Z"
   },
   {
    "duration": 8,
    "start_time": "2023-04-16T17:26:50.822Z"
   },
   {
    "duration": 10,
    "start_time": "2023-04-16T17:26:58.613Z"
   },
   {
    "duration": 9,
    "start_time": "2023-04-16T17:27:07.721Z"
   },
   {
    "duration": 10,
    "start_time": "2023-04-16T17:27:38.213Z"
   },
   {
    "duration": 42,
    "start_time": "2023-04-16T17:29:22.315Z"
   },
   {
    "duration": 80822,
    "start_time": "2023-04-16T17:43:07.755Z"
   },
   {
    "duration": 79058,
    "start_time": "2023-04-16T17:44:45.034Z"
   },
   {
    "duration": 4,
    "start_time": "2023-04-16T17:46:08.225Z"
   },
   {
    "duration": 66798,
    "start_time": "2023-04-16T17:50:59.738Z"
   },
   {
    "duration": 4,
    "start_time": "2023-04-16T17:52:06.538Z"
   },
   {
    "duration": 3,
    "start_time": "2023-04-16T17:58:51.602Z"
   },
   {
    "duration": 7,
    "start_time": "2023-04-16T17:58:54.531Z"
   },
   {
    "duration": 102,
    "start_time": "2023-04-16T18:08:51.494Z"
   },
   {
    "duration": 570,
    "start_time": "2023-04-16T18:09:18.515Z"
   },
   {
    "duration": 1277,
    "start_time": "2023-04-16T18:10:05.567Z"
   },
   {
    "duration": 35,
    "start_time": "2023-04-16T18:10:09.714Z"
   },
   {
    "duration": 10,
    "start_time": "2023-04-16T18:10:10.681Z"
   },
   {
    "duration": 12,
    "start_time": "2023-04-16T18:10:11.314Z"
   },
   {
    "duration": 11,
    "start_time": "2023-04-16T18:10:12.123Z"
   },
   {
    "duration": 9,
    "start_time": "2023-04-16T18:10:12.910Z"
   },
   {
    "duration": 3,
    "start_time": "2023-04-16T18:10:13.199Z"
   },
   {
    "duration": 3,
    "start_time": "2023-04-16T18:10:13.806Z"
   },
   {
    "duration": 4,
    "start_time": "2023-04-16T18:10:14.124Z"
   },
   {
    "duration": 9,
    "start_time": "2023-04-16T18:10:14.716Z"
   },
   {
    "duration": 7,
    "start_time": "2023-04-16T18:10:16.146Z"
   },
   {
    "duration": 895,
    "start_time": "2023-04-16T18:10:16.947Z"
   },
   {
    "duration": 149,
    "start_time": "2023-04-16T18:10:19.500Z"
   },
   {
    "duration": 6,
    "start_time": "2023-04-16T18:10:21.146Z"
   },
   {
    "duration": 6,
    "start_time": "2023-04-16T18:10:22.450Z"
   },
   {
    "duration": 183,
    "start_time": "2023-04-16T18:10:23.626Z"
   },
   {
    "duration": 4,
    "start_time": "2023-04-16T18:10:32.043Z"
   },
   {
    "duration": 26,
    "start_time": "2023-04-16T18:14:40.901Z"
   },
   {
    "duration": 5,
    "start_time": "2023-04-16T18:14:45.009Z"
   },
   {
    "duration": 3,
    "start_time": "2023-04-16T18:14:45.499Z"
   },
   {
    "duration": 6,
    "start_time": "2023-04-16T18:14:46.398Z"
   },
   {
    "duration": 4,
    "start_time": "2023-04-16T18:14:47.217Z"
   },
   {
    "duration": 4,
    "start_time": "2023-04-16T18:14:49.449Z"
   },
   {
    "duration": 3,
    "start_time": "2023-04-16T18:14:49.945Z"
   },
   {
    "duration": 3,
    "start_time": "2023-04-16T18:14:50.537Z"
   },
   {
    "duration": 10,
    "start_time": "2023-04-16T18:14:52.991Z"
   },
   {
    "duration": 9,
    "start_time": "2023-04-16T18:14:56.112Z"
   },
   {
    "duration": 104511,
    "start_time": "2023-04-16T18:14:58.859Z"
   },
   {
    "duration": 4,
    "start_time": "2023-04-16T18:17:13.929Z"
   },
   {
    "duration": 54351,
    "start_time": "2023-04-16T18:17:16.000Z"
   },
   {
    "duration": 5,
    "start_time": "2023-04-16T18:18:39.402Z"
   },
   {
    "duration": 8,
    "start_time": "2023-04-16T18:18:41.901Z"
   },
   {
    "duration": 596,
    "start_time": "2023-04-16T18:18:56.304Z"
   },
   {
    "duration": 558,
    "start_time": "2023-04-16T18:19:24.728Z"
   },
   {
    "duration": 537,
    "start_time": "2023-04-16T18:22:19.406Z"
   },
   {
    "duration": 3507,
    "start_time": "2023-04-16T18:22:23.631Z"
   },
   {
    "duration": 1339,
    "start_time": "2023-04-16T18:23:37.535Z"
   },
   {
    "duration": 45,
    "start_time": "2023-04-16T18:23:39.848Z"
   },
   {
    "duration": 15,
    "start_time": "2023-04-16T18:23:41.752Z"
   },
   {
    "duration": 12,
    "start_time": "2023-04-16T18:23:42.310Z"
   },
   {
    "duration": 12,
    "start_time": "2023-04-16T18:23:43.014Z"
   },
   {
    "duration": 13,
    "start_time": "2023-04-16T18:23:43.639Z"
   },
   {
    "duration": 4,
    "start_time": "2023-04-16T18:23:43.910Z"
   },
   {
    "duration": 2,
    "start_time": "2023-04-16T18:23:44.406Z"
   },
   {
    "duration": 4,
    "start_time": "2023-04-16T18:23:44.558Z"
   },
   {
    "duration": 8,
    "start_time": "2023-04-16T18:23:44.999Z"
   },
   {
    "duration": 7,
    "start_time": "2023-04-16T18:23:46.406Z"
   },
   {
    "duration": 895,
    "start_time": "2023-04-16T18:23:46.608Z"
   },
   {
    "duration": 202,
    "start_time": "2023-04-16T18:23:47.506Z"
   },
   {
    "duration": 5,
    "start_time": "2023-04-16T18:23:48.197Z"
   },
   {
    "duration": 6,
    "start_time": "2023-04-16T18:23:48.447Z"
   },
   {
    "duration": 212,
    "start_time": "2023-04-16T18:23:48.719Z"
   },
   {
    "duration": 6,
    "start_time": "2023-04-16T18:23:50.038Z"
   },
   {
    "duration": 23,
    "start_time": "2023-04-16T18:23:52.091Z"
   },
   {
    "duration": 1378,
    "start_time": "2023-04-16T18:24:11.726Z"
   },
   {
    "duration": 36,
    "start_time": "2023-04-16T18:24:13.889Z"
   },
   {
    "duration": 11,
    "start_time": "2023-04-16T18:24:14.126Z"
   },
   {
    "duration": 13,
    "start_time": "2023-04-16T18:24:14.550Z"
   },
   {
    "duration": 14,
    "start_time": "2023-04-16T18:24:15.006Z"
   },
   {
    "duration": 9,
    "start_time": "2023-04-16T18:24:15.319Z"
   },
   {
    "duration": 3,
    "start_time": "2023-04-16T18:24:15.494Z"
   },
   {
    "duration": 2,
    "start_time": "2023-04-16T18:24:15.812Z"
   },
   {
    "duration": 3,
    "start_time": "2023-04-16T18:24:16.008Z"
   },
   {
    "duration": 8,
    "start_time": "2023-04-16T18:24:16.298Z"
   },
   {
    "duration": 9,
    "start_time": "2023-04-16T18:24:17.222Z"
   },
   {
    "duration": 960,
    "start_time": "2023-04-16T18:24:17.406Z"
   },
   {
    "duration": 188,
    "start_time": "2023-04-16T18:24:18.368Z"
   },
   {
    "duration": 5,
    "start_time": "2023-04-16T18:24:19.406Z"
   },
   {
    "duration": 5,
    "start_time": "2023-04-16T18:24:19.622Z"
   },
   {
    "duration": 183,
    "start_time": "2023-04-16T18:24:19.994Z"
   },
   {
    "duration": 4,
    "start_time": "2023-04-16T18:24:21.706Z"
   },
   {
    "duration": 19,
    "start_time": "2023-04-16T18:24:25.198Z"
   },
   {
    "duration": 7,
    "start_time": "2023-04-16T18:24:31.350Z"
   },
   {
    "duration": 6,
    "start_time": "2023-04-16T18:24:31.908Z"
   },
   {
    "duration": 6,
    "start_time": "2023-04-16T18:24:34.398Z"
   },
   {
    "duration": 5,
    "start_time": "2023-04-16T18:24:35.106Z"
   },
   {
    "duration": 4,
    "start_time": "2023-04-16T18:24:37.006Z"
   },
   {
    "duration": 4,
    "start_time": "2023-04-16T18:24:37.317Z"
   },
   {
    "duration": 4,
    "start_time": "2023-04-16T18:24:37.721Z"
   },
   {
    "duration": 13,
    "start_time": "2023-04-16T18:24:38.498Z"
   },
   {
    "duration": 87111,
    "start_time": "2023-04-16T18:24:41.410Z"
   },
   {
    "duration": 4,
    "start_time": "2023-04-16T18:26:18.653Z"
   },
   {
    "duration": 630540,
    "start_time": "2023-04-16T18:26:23.010Z"
   },
   {
    "duration": 3,
    "start_time": "2023-04-16T18:36:58.338Z"
   },
   {
    "duration": 7,
    "start_time": "2023-04-16T18:37:03.247Z"
   },
   {
    "duration": 821,
    "start_time": "2023-04-16T18:37:09.721Z"
   },
   {
    "duration": 225,
    "start_time": "2023-04-16T18:37:11.814Z"
   },
   {
    "duration": 1293,
    "start_time": "2023-04-16T18:37:47.140Z"
   },
   {
    "duration": 35,
    "start_time": "2023-04-16T18:37:49.341Z"
   },
   {
    "duration": 10,
    "start_time": "2023-04-16T18:37:49.939Z"
   },
   {
    "duration": 11,
    "start_time": "2023-04-16T18:37:50.332Z"
   },
   {
    "duration": 11,
    "start_time": "2023-04-16T18:37:51.223Z"
   },
   {
    "duration": 8,
    "start_time": "2023-04-16T18:37:52.035Z"
   },
   {
    "duration": 4,
    "start_time": "2023-04-16T18:37:52.331Z"
   },
   {
    "duration": 3,
    "start_time": "2023-04-16T18:37:53.106Z"
   },
   {
    "duration": 3,
    "start_time": "2023-04-16T18:37:53.555Z"
   },
   {
    "duration": 8,
    "start_time": "2023-04-16T18:37:55.094Z"
   },
   {
    "duration": 7,
    "start_time": "2023-04-16T18:37:56.735Z"
   },
   {
    "duration": 776,
    "start_time": "2023-04-16T18:37:57.535Z"
   },
   {
    "duration": 169,
    "start_time": "2023-04-16T18:38:05.147Z"
   },
   {
    "duration": 5,
    "start_time": "2023-04-16T18:38:07.381Z"
   },
   {
    "duration": 6,
    "start_time": "2023-04-16T18:38:07.643Z"
   },
   {
    "duration": 178,
    "start_time": "2023-04-16T18:38:08.322Z"
   },
   {
    "duration": 5,
    "start_time": "2023-04-16T18:38:13.722Z"
   },
   {
    "duration": 16,
    "start_time": "2023-04-16T18:38:49.414Z"
   },
   {
    "duration": 5,
    "start_time": "2023-04-16T18:38:57.058Z"
   },
   {
    "duration": 4,
    "start_time": "2023-04-16T18:38:57.522Z"
   },
   {
    "duration": 5,
    "start_time": "2023-04-16T18:38:58.162Z"
   },
   {
    "duration": 4,
    "start_time": "2023-04-16T18:38:59.130Z"
   },
   {
    "duration": 4,
    "start_time": "2023-04-16T18:39:00.073Z"
   },
   {
    "duration": 4,
    "start_time": "2023-04-16T18:39:00.626Z"
   },
   {
    "duration": 4,
    "start_time": "2023-04-16T18:39:02.010Z"
   },
   {
    "duration": 10,
    "start_time": "2023-04-16T18:39:03.538Z"
   },
   {
    "duration": 71865,
    "start_time": "2023-04-16T18:39:06.762Z"
   },
   {
    "duration": 4,
    "start_time": "2023-04-16T18:40:33.646Z"
   },
   {
    "duration": 50398,
    "start_time": "2023-04-16T18:40:41.949Z"
   },
   {
    "duration": 4,
    "start_time": "2023-04-16T18:41:38.657Z"
   },
   {
    "duration": 7,
    "start_time": "2023-04-16T18:41:41.235Z"
   },
   {
    "duration": 441,
    "start_time": "2023-04-16T18:41:47.881Z"
   },
   {
    "duration": 372,
    "start_time": "2023-04-16T18:41:50.773Z"
   },
   {
    "duration": 1287,
    "start_time": "2023-04-16T18:45:08.153Z"
   },
   {
    "duration": 36,
    "start_time": "2023-04-16T18:45:10.030Z"
   },
   {
    "duration": 9,
    "start_time": "2023-04-16T18:45:10.534Z"
   },
   {
    "duration": 12,
    "start_time": "2023-04-16T18:45:10.818Z"
   },
   {
    "duration": 13,
    "start_time": "2023-04-16T18:45:11.534Z"
   },
   {
    "duration": 8,
    "start_time": "2023-04-16T18:45:12.073Z"
   },
   {
    "duration": 4,
    "start_time": "2023-04-16T18:45:12.324Z"
   },
   {
    "duration": 3,
    "start_time": "2023-04-16T18:45:12.791Z"
   },
   {
    "duration": 3,
    "start_time": "2023-04-16T18:45:13.026Z"
   },
   {
    "duration": 9,
    "start_time": "2023-04-16T18:45:13.359Z"
   },
   {
    "duration": 8,
    "start_time": "2023-04-16T18:45:14.183Z"
   },
   {
    "duration": 830,
    "start_time": "2023-04-16T18:45:14.359Z"
   },
   {
    "duration": 144,
    "start_time": "2023-04-16T18:45:15.939Z"
   },
   {
    "duration": 5,
    "start_time": "2023-04-16T18:45:16.331Z"
   },
   {
    "duration": 5,
    "start_time": "2023-04-16T18:45:16.626Z"
   },
   {
    "duration": 190,
    "start_time": "2023-04-16T18:45:16.850Z"
   },
   {
    "duration": 4,
    "start_time": "2023-04-16T18:45:24.279Z"
   },
   {
    "duration": 25,
    "start_time": "2023-04-16T18:45:36.726Z"
   },
   {
    "duration": 3,
    "start_time": "2023-04-16T18:47:44.985Z"
   },
   {
    "duration": 5,
    "start_time": "2023-04-16T18:47:48.350Z"
   },
   {
    "duration": 4,
    "start_time": "2023-04-16T18:47:48.750Z"
   },
   {
    "duration": 6,
    "start_time": "2023-04-16T18:47:49.535Z"
   },
   {
    "duration": 4,
    "start_time": "2023-04-16T18:47:52.221Z"
   },
   {
    "duration": 4,
    "start_time": "2023-04-16T18:47:55.049Z"
   },
   {
    "duration": 3,
    "start_time": "2023-04-16T18:47:55.279Z"
   },
   {
    "duration": 3,
    "start_time": "2023-04-16T18:47:55.538Z"
   },
   {
    "duration": 11,
    "start_time": "2023-04-16T18:53:46.613Z"
   },
   {
    "duration": 113535,
    "start_time": "2023-04-16T18:53:51.125Z"
   },
   {
    "duration": 3,
    "start_time": "2023-04-16T18:56:08.166Z"
   },
   {
    "duration": 176285,
    "start_time": "2023-04-16T18:56:10.468Z"
   },
   {
    "duration": 3,
    "start_time": "2023-04-16T18:59:11.534Z"
   },
   {
    "duration": 8,
    "start_time": "2023-04-16T18:59:14.529Z"
   },
   {
    "duration": 659,
    "start_time": "2023-04-16T18:59:20.721Z"
   },
   {
    "duration": 252,
    "start_time": "2023-04-16T18:59:24.087Z"
   },
   {
    "duration": 1329,
    "start_time": "2023-04-16T18:59:42.341Z"
   },
   {
    "duration": 37,
    "start_time": "2023-04-16T18:59:44.561Z"
   },
   {
    "duration": 9,
    "start_time": "2023-04-16T18:59:45.383Z"
   },
   {
    "duration": 11,
    "start_time": "2023-04-16T18:59:45.883Z"
   },
   {
    "duration": 11,
    "start_time": "2023-04-16T18:59:46.682Z"
   },
   {
    "duration": 9,
    "start_time": "2023-04-16T18:59:47.465Z"
   },
   {
    "duration": 4,
    "start_time": "2023-04-16T18:59:47.865Z"
   },
   {
    "duration": 3,
    "start_time": "2023-04-16T18:59:48.546Z"
   },
   {
    "duration": 3,
    "start_time": "2023-04-16T18:59:48.985Z"
   },
   {
    "duration": 8,
    "start_time": "2023-04-16T18:59:49.633Z"
   },
   {
    "duration": 7,
    "start_time": "2023-04-16T18:59:51.113Z"
   },
   {
    "duration": 869,
    "start_time": "2023-04-16T18:59:51.653Z"
   },
   {
    "duration": 136,
    "start_time": "2023-04-16T18:59:53.561Z"
   },
   {
    "duration": 5,
    "start_time": "2023-04-16T18:59:54.250Z"
   },
   {
    "duration": 6,
    "start_time": "2023-04-16T18:59:54.825Z"
   },
   {
    "duration": 174,
    "start_time": "2023-04-16T18:59:55.313Z"
   },
   {
    "duration": 115,
    "start_time": "2023-04-16T19:00:18.117Z"
   },
   {
    "duration": 5,
    "start_time": "2023-04-16T19:00:20.237Z"
   },
   {
    "duration": 26,
    "start_time": "2023-04-16T19:00:21.586Z"
   },
   {
    "duration": 5,
    "start_time": "2023-04-16T19:00:27.585Z"
   },
   {
    "duration": 4,
    "start_time": "2023-04-16T19:00:27.937Z"
   },
   {
    "duration": 6,
    "start_time": "2023-04-16T19:00:28.385Z"
   },
   {
    "duration": 5,
    "start_time": "2023-04-16T19:00:28.861Z"
   },
   {
    "duration": 4,
    "start_time": "2023-04-16T19:00:29.233Z"
   },
   {
    "duration": 4,
    "start_time": "2023-04-16T19:00:29.426Z"
   },
   {
    "duration": 4,
    "start_time": "2023-04-16T19:00:29.601Z"
   },
   {
    "duration": 13,
    "start_time": "2023-04-16T19:00:30.562Z"
   },
   {
    "duration": 113521,
    "start_time": "2023-04-16T19:00:33.057Z"
   },
   {
    "duration": 3,
    "start_time": "2023-04-16T19:03:09.830Z"
   },
   {
    "duration": 75917,
    "start_time": "2023-04-16T19:03:12.220Z"
   },
   {
    "duration": 4,
    "start_time": "2023-04-16T19:04:31.649Z"
   },
   {
    "duration": 7,
    "start_time": "2023-04-16T19:04:33.417Z"
   },
   {
    "duration": 514,
    "start_time": "2023-04-16T19:04:37.629Z"
   },
   {
    "duration": 362,
    "start_time": "2023-04-16T19:04:40.385Z"
   },
   {
    "duration": 540,
    "start_time": "2023-04-16T19:04:51.180Z"
   },
   {
    "duration": 1314,
    "start_time": "2023-04-16T19:05:27.125Z"
   },
   {
    "duration": 35,
    "start_time": "2023-04-16T19:05:28.737Z"
   },
   {
    "duration": 10,
    "start_time": "2023-04-16T19:05:29.321Z"
   },
   {
    "duration": 12,
    "start_time": "2023-04-16T19:05:29.525Z"
   },
   {
    "duration": 11,
    "start_time": "2023-04-16T19:05:29.858Z"
   },
   {
    "duration": 8,
    "start_time": "2023-04-16T19:05:30.179Z"
   },
   {
    "duration": 4,
    "start_time": "2023-04-16T19:05:30.401Z"
   },
   {
    "duration": 2,
    "start_time": "2023-04-16T19:05:30.746Z"
   },
   {
    "duration": 4,
    "start_time": "2023-04-16T19:05:30.945Z"
   },
   {
    "duration": 8,
    "start_time": "2023-04-16T19:05:31.257Z"
   },
   {
    "duration": 9,
    "start_time": "2023-04-16T19:05:32.120Z"
   },
   {
    "duration": 881,
    "start_time": "2023-04-16T19:05:32.314Z"
   },
   {
    "duration": 137,
    "start_time": "2023-04-16T19:05:34.417Z"
   },
   {
    "duration": 5,
    "start_time": "2023-04-16T19:05:35.546Z"
   },
   {
    "duration": 5,
    "start_time": "2023-04-16T19:05:35.941Z"
   },
   {
    "duration": 188,
    "start_time": "2023-04-16T19:05:36.170Z"
   },
   {
    "duration": 3,
    "start_time": "2023-04-16T19:05:38.849Z"
   },
   {
    "duration": 31,
    "start_time": "2023-04-16T19:08:30.953Z"
   },
   {
    "duration": 7,
    "start_time": "2023-04-16T19:08:34.333Z"
   },
   {
    "duration": 5,
    "start_time": "2023-04-16T19:08:34.729Z"
   },
   {
    "duration": 5,
    "start_time": "2023-04-16T19:08:35.925Z"
   },
   {
    "duration": 4,
    "start_time": "2023-04-16T19:08:37.050Z"
   },
   {
    "duration": 4,
    "start_time": "2023-04-16T19:08:41.952Z"
   },
   {
    "duration": 4,
    "start_time": "2023-04-16T19:08:42.439Z"
   },
   {
    "duration": 4,
    "start_time": "2023-04-16T19:08:43.051Z"
   },
   {
    "duration": 10,
    "start_time": "2023-04-16T19:08:44.445Z"
   },
   {
    "duration": 114987,
    "start_time": "2023-04-16T19:08:47.639Z"
   },
   {
    "duration": 4,
    "start_time": "2023-04-16T19:11:07.033Z"
   },
   {
    "duration": 64884,
    "start_time": "2023-04-16T19:11:14.255Z"
   },
   {
    "duration": 4,
    "start_time": "2023-04-16T19:12:31.625Z"
   },
   {
    "duration": 8,
    "start_time": "2023-04-16T19:12:41.976Z"
   },
   {
    "duration": 1307,
    "start_time": "2023-04-16T19:13:19.442Z"
   },
   {
    "duration": 35,
    "start_time": "2023-04-16T19:13:24.759Z"
   },
   {
    "duration": 10,
    "start_time": "2023-04-16T19:13:25.382Z"
   },
   {
    "duration": 10,
    "start_time": "2023-04-16T19:13:25.813Z"
   },
   {
    "duration": 11,
    "start_time": "2023-04-16T19:13:26.649Z"
   },
   {
    "duration": 8,
    "start_time": "2023-04-16T19:13:27.485Z"
   },
   {
    "duration": 4,
    "start_time": "2023-04-16T19:13:27.837Z"
   },
   {
    "duration": 3,
    "start_time": "2023-04-16T19:13:28.329Z"
   },
   {
    "duration": 3,
    "start_time": "2023-04-16T19:13:28.513Z"
   },
   {
    "duration": 8,
    "start_time": "2023-04-16T19:13:28.821Z"
   },
   {
    "duration": 7,
    "start_time": "2023-04-16T19:13:29.637Z"
   },
   {
    "duration": 795,
    "start_time": "2023-04-16T19:13:29.813Z"
   },
   {
    "duration": 176,
    "start_time": "2023-04-16T19:13:30.610Z"
   },
   {
    "duration": 6,
    "start_time": "2023-04-16T19:13:32.837Z"
   },
   {
    "duration": 5,
    "start_time": "2023-04-16T19:13:33.254Z"
   },
   {
    "duration": 178,
    "start_time": "2023-04-16T19:13:33.517Z"
   },
   {
    "duration": 4,
    "start_time": "2023-04-16T19:13:35.547Z"
   },
   {
    "duration": 40,
    "start_time": "2023-04-16T19:13:42.609Z"
   },
   {
    "duration": 6,
    "start_time": "2023-04-16T19:13:48.317Z"
   },
   {
    "duration": 4,
    "start_time": "2023-04-16T19:13:48.825Z"
   },
   {
    "duration": 7,
    "start_time": "2023-04-16T19:13:50.341Z"
   },
   {
    "duration": 4,
    "start_time": "2023-04-16T19:13:51.243Z"
   },
   {
    "duration": 4,
    "start_time": "2023-04-16T19:13:51.925Z"
   },
   {
    "duration": 4,
    "start_time": "2023-04-16T19:13:52.647Z"
   },
   {
    "duration": 4,
    "start_time": "2023-04-16T19:13:53.321Z"
   },
   {
    "duration": 179,
    "start_time": "2023-04-16T19:13:54.357Z"
   },
   {
    "duration": 173288,
    "start_time": "2023-04-16T19:13:58.429Z"
   },
   {
    "duration": 4,
    "start_time": "2023-04-16T19:17:22.165Z"
   },
   {
    "duration": 74899,
    "start_time": "2023-04-16T19:17:26.539Z"
   },
   {
    "duration": 5,
    "start_time": "2023-04-16T19:18:56.229Z"
   },
   {
    "duration": 7,
    "start_time": "2023-04-16T19:18:57.730Z"
   },
   {
    "duration": 602,
    "start_time": "2023-04-16T19:19:06.125Z"
   },
   {
    "duration": 3029,
    "start_time": "2023-04-16T19:19:10.217Z"
   },
   {
    "duration": 1391,
    "start_time": "2023-04-16T19:20:29.126Z"
   },
   {
    "duration": 36,
    "start_time": "2023-04-16T19:20:32.130Z"
   },
   {
    "duration": 10,
    "start_time": "2023-04-16T19:20:32.348Z"
   },
   {
    "duration": 13,
    "start_time": "2023-04-16T19:20:32.644Z"
   },
   {
    "duration": 14,
    "start_time": "2023-04-16T19:20:33.045Z"
   },
   {
    "duration": 9,
    "start_time": "2023-04-16T19:20:33.440Z"
   },
   {
    "duration": 3,
    "start_time": "2023-04-16T19:20:33.626Z"
   },
   {
    "duration": 3,
    "start_time": "2023-04-16T19:20:34.025Z"
   },
   {
    "duration": 4,
    "start_time": "2023-04-16T19:20:34.229Z"
   },
   {
    "duration": 8,
    "start_time": "2023-04-16T19:20:34.781Z"
   },
   {
    "duration": 8,
    "start_time": "2023-04-16T19:20:35.771Z"
   },
   {
    "duration": 854,
    "start_time": "2023-04-16T19:20:36.525Z"
   },
   {
    "duration": 140,
    "start_time": "2023-04-16T19:20:38.441Z"
   },
   {
    "duration": 6,
    "start_time": "2023-04-16T19:20:39.825Z"
   },
   {
    "duration": 6,
    "start_time": "2023-04-16T19:20:40.451Z"
   },
   {
    "duration": 175,
    "start_time": "2023-04-16T19:20:41.452Z"
   },
   {
    "duration": 4,
    "start_time": "2023-04-16T19:20:43.260Z"
   },
   {
    "duration": 27,
    "start_time": "2023-04-16T19:20:51.571Z"
   },
   {
    "duration": 5,
    "start_time": "2023-04-16T19:20:53.060Z"
   },
   {
    "duration": 4,
    "start_time": "2023-04-16T19:20:53.475Z"
   },
   {
    "duration": 6,
    "start_time": "2023-04-16T19:20:54.125Z"
   },
   {
    "duration": 4,
    "start_time": "2023-04-16T19:20:54.737Z"
   },
   {
    "duration": 4,
    "start_time": "2023-04-16T19:20:55.537Z"
   },
   {
    "duration": 5,
    "start_time": "2023-04-16T19:20:55.884Z"
   },
   {
    "duration": 5,
    "start_time": "2023-04-16T19:20:56.429Z"
   },
   {
    "duration": 11,
    "start_time": "2023-04-16T19:20:57.981Z"
   },
   {
    "duration": 196864,
    "start_time": "2023-04-16T19:21:08.868Z"
   },
   {
    "duration": 4,
    "start_time": "2023-04-16T19:24:32.564Z"
   },
   {
    "duration": 594021,
    "start_time": "2023-04-16T19:24:49.418Z"
   },
   {
    "duration": 3,
    "start_time": "2023-04-16T19:34:56.176Z"
   },
   {
    "duration": 7,
    "start_time": "2023-04-16T19:34:58.474Z"
   },
   {
    "duration": 1311,
    "start_time": "2023-04-16T19:35:07.214Z"
   },
   {
    "duration": 487,
    "start_time": "2023-04-16T19:35:09.866Z"
   },
   {
    "duration": 1301,
    "start_time": "2023-04-16T19:35:46.856Z"
   },
   {
    "duration": 36,
    "start_time": "2023-04-16T19:35:49.679Z"
   },
   {
    "duration": 9,
    "start_time": "2023-04-16T19:35:50.225Z"
   },
   {
    "duration": 11,
    "start_time": "2023-04-16T19:35:50.721Z"
   },
   {
    "duration": 11,
    "start_time": "2023-04-16T19:35:51.479Z"
   },
   {
    "duration": 8,
    "start_time": "2023-04-16T19:35:52.162Z"
   },
   {
    "duration": 4,
    "start_time": "2023-04-16T19:35:52.384Z"
   },
   {
    "duration": 2,
    "start_time": "2023-04-16T19:35:52.739Z"
   },
   {
    "duration": 4,
    "start_time": "2023-04-16T19:35:52.921Z"
   },
   {
    "duration": 7,
    "start_time": "2023-04-16T19:35:53.243Z"
   },
   {
    "duration": 7,
    "start_time": "2023-04-16T19:35:54.079Z"
   },
   {
    "duration": 829,
    "start_time": "2023-04-16T19:35:54.247Z"
   },
   {
    "duration": 140,
    "start_time": "2023-04-16T19:35:55.776Z"
   },
   {
    "duration": 6,
    "start_time": "2023-04-16T19:35:56.183Z"
   },
   {
    "duration": 6,
    "start_time": "2023-04-16T19:35:56.583Z"
   },
   {
    "duration": 177,
    "start_time": "2023-04-16T19:35:56.847Z"
   },
   {
    "duration": 4,
    "start_time": "2023-04-16T19:35:58.717Z"
   },
   {
    "duration": 29,
    "start_time": "2023-04-16T19:36:03.117Z"
   },
   {
    "duration": 6,
    "start_time": "2023-04-16T19:36:04.679Z"
   },
   {
    "duration": 4,
    "start_time": "2023-04-16T19:36:04.975Z"
   },
   {
    "duration": 6,
    "start_time": "2023-04-16T19:36:05.525Z"
   },
   {
    "duration": 5,
    "start_time": "2023-04-16T19:36:06.037Z"
   },
   {
    "duration": 4,
    "start_time": "2023-04-16T19:36:06.751Z"
   },
   {
    "duration": 4,
    "start_time": "2023-04-16T19:36:07.029Z"
   },
   {
    "duration": 3,
    "start_time": "2023-04-16T19:36:07.256Z"
   },
   {
    "duration": 11,
    "start_time": "2023-04-16T19:36:08.513Z"
   },
   {
    "duration": 118232,
    "start_time": "2023-04-16T19:36:11.349Z"
   },
   {
    "duration": 4,
    "start_time": "2023-04-16T19:38:12.983Z"
   },
   {
    "duration": 68413,
    "start_time": "2023-04-16T19:38:14.133Z"
   },
   {
    "duration": 3,
    "start_time": "2023-04-16T19:39:27.137Z"
   },
   {
    "duration": 8,
    "start_time": "2023-04-16T19:39:28.041Z"
   },
   {
    "duration": 540,
    "start_time": "2023-04-16T19:39:31.341Z"
   },
   {
    "duration": 479,
    "start_time": "2023-04-16T19:39:32.774Z"
   },
   {
    "duration": 7,
    "start_time": "2023-04-16T19:40:04.725Z"
   },
   {
    "duration": 1293,
    "start_time": "2023-04-16T19:40:54.846Z"
   },
   {
    "duration": 36,
    "start_time": "2023-04-16T19:40:57.409Z"
   },
   {
    "duration": 10,
    "start_time": "2023-04-16T19:40:57.839Z"
   },
   {
    "duration": 13,
    "start_time": "2023-04-16T19:40:58.173Z"
   },
   {
    "duration": 11,
    "start_time": "2023-04-16T19:40:58.773Z"
   },
   {
    "duration": 10,
    "start_time": "2023-04-16T19:40:59.253Z"
   },
   {
    "duration": 4,
    "start_time": "2023-04-16T19:40:59.425Z"
   },
   {
    "duration": 3,
    "start_time": "2023-04-16T19:40:59.735Z"
   },
   {
    "duration": 3,
    "start_time": "2023-04-16T19:40:59.869Z"
   },
   {
    "duration": 8,
    "start_time": "2023-04-16T19:41:00.309Z"
   },
   {
    "duration": 6,
    "start_time": "2023-04-16T19:41:01.322Z"
   },
   {
    "duration": 789,
    "start_time": "2023-04-16T19:41:01.509Z"
   },
   {
    "duration": 160,
    "start_time": "2023-04-16T19:41:02.300Z"
   },
   {
    "duration": 7,
    "start_time": "2023-04-16T19:41:02.601Z"
   },
   {
    "duration": 6,
    "start_time": "2023-04-16T19:41:02.809Z"
   },
   {
    "duration": 189,
    "start_time": "2023-04-16T19:41:03.453Z"
   },
   {
    "duration": 4,
    "start_time": "2023-04-16T19:41:06.437Z"
   },
   {
    "duration": 30,
    "start_time": "2023-04-16T19:41:11.246Z"
   },
   {
    "duration": 7,
    "start_time": "2023-04-16T19:41:12.621Z"
   },
   {
    "duration": 4,
    "start_time": "2023-04-16T19:41:12.877Z"
   },
   {
    "duration": 6,
    "start_time": "2023-04-16T19:41:13.313Z"
   },
   {
    "duration": 4,
    "start_time": "2023-04-16T19:41:13.738Z"
   },
   {
    "duration": 4,
    "start_time": "2023-04-16T19:41:14.157Z"
   },
   {
    "duration": 5,
    "start_time": "2023-04-16T19:41:14.380Z"
   },
   {
    "duration": 4,
    "start_time": "2023-04-16T19:41:14.572Z"
   },
   {
    "duration": 13,
    "start_time": "2023-04-16T19:41:15.216Z"
   },
   {
    "duration": 122439,
    "start_time": "2023-04-16T19:41:16.413Z"
   },
   {
    "duration": 5,
    "start_time": "2023-04-16T19:43:18.854Z"
   },
   {
    "duration": 107188,
    "start_time": "2023-04-16T19:43:18.860Z"
   },
   {
    "duration": 87,
    "start_time": "2023-04-16T19:45:06.050Z"
   },
   {
    "duration": 6,
    "start_time": "2023-04-16T19:45:06.139Z"
   },
   {
    "duration": 709,
    "start_time": "2023-04-16T19:45:30.801Z"
   },
   {
    "duration": 726,
    "start_time": "2023-04-16T19:45:32.813Z"
   },
   {
    "duration": 1307,
    "start_time": "2023-04-16T19:46:10.748Z"
   },
   {
    "duration": 36,
    "start_time": "2023-04-16T19:46:13.425Z"
   },
   {
    "duration": 11,
    "start_time": "2023-04-16T19:46:14.172Z"
   },
   {
    "duration": 11,
    "start_time": "2023-04-16T19:46:14.676Z"
   },
   {
    "duration": 11,
    "start_time": "2023-04-16T19:46:15.329Z"
   },
   {
    "duration": 8,
    "start_time": "2023-04-16T19:46:15.721Z"
   },
   {
    "duration": 4,
    "start_time": "2023-04-16T19:46:15.841Z"
   },
   {
    "duration": 3,
    "start_time": "2023-04-16T19:46:16.149Z"
   },
   {
    "duration": 3,
    "start_time": "2023-04-16T19:46:16.329Z"
   },
   {
    "duration": 8,
    "start_time": "2023-04-16T19:46:16.675Z"
   },
   {
    "duration": 7,
    "start_time": "2023-04-16T19:46:17.555Z"
   },
   {
    "duration": 895,
    "start_time": "2023-04-16T19:46:17.772Z"
   },
   {
    "duration": 151,
    "start_time": "2023-04-16T19:46:19.645Z"
   },
   {
    "duration": 6,
    "start_time": "2023-04-16T19:46:20.451Z"
   },
   {
    "duration": 5,
    "start_time": "2023-04-16T19:46:20.825Z"
   },
   {
    "duration": 183,
    "start_time": "2023-04-16T19:46:21.237Z"
   },
   {
    "duration": 4,
    "start_time": "2023-04-16T19:46:23.451Z"
   },
   {
    "duration": 4,
    "start_time": "2023-04-16T19:46:28.876Z"
   },
   {
    "duration": 34,
    "start_time": "2023-04-16T19:46:29.780Z"
   },
   {
    "duration": 5,
    "start_time": "2023-04-16T19:46:30.604Z"
   },
   {
    "duration": 4,
    "start_time": "2023-04-16T19:46:30.867Z"
   },
   {
    "duration": 6,
    "start_time": "2023-04-16T19:46:31.717Z"
   },
   {
    "duration": 4,
    "start_time": "2023-04-16T19:46:32.121Z"
   },
   {
    "duration": 5,
    "start_time": "2023-04-16T19:46:32.413Z"
   },
   {
    "duration": 5,
    "start_time": "2023-04-16T19:46:32.617Z"
   },
   {
    "duration": 5,
    "start_time": "2023-04-16T19:46:32.755Z"
   },
   {
    "duration": 11,
    "start_time": "2023-04-16T19:46:33.537Z"
   },
   {
    "duration": 110306,
    "start_time": "2023-04-16T19:46:37.267Z"
   },
   {
    "duration": 3,
    "start_time": "2023-04-16T19:48:27.575Z"
   },
   {
    "duration": 62260,
    "start_time": "2023-04-16T19:48:27.579Z"
   },
   {
    "duration": 4,
    "start_time": "2023-04-16T19:49:29.841Z"
   },
   {
    "duration": 9,
    "start_time": "2023-04-16T19:49:29.846Z"
   },
   {
    "duration": 560,
    "start_time": "2023-04-16T19:49:29.857Z"
   },
   {
    "duration": 429,
    "start_time": "2023-04-16T19:49:30.418Z"
   },
   {
    "duration": 1307,
    "start_time": "2023-04-16T19:52:44.849Z"
   },
   {
    "duration": 36,
    "start_time": "2023-04-16T19:52:46.158Z"
   },
   {
    "duration": 10,
    "start_time": "2023-04-16T19:52:46.577Z"
   },
   {
    "duration": 10,
    "start_time": "2023-04-16T19:52:46.778Z"
   },
   {
    "duration": 11,
    "start_time": "2023-04-16T19:52:47.139Z"
   },
   {
    "duration": 8,
    "start_time": "2023-04-16T19:52:47.450Z"
   },
   {
    "duration": 4,
    "start_time": "2023-04-16T19:52:47.631Z"
   },
   {
    "duration": 3,
    "start_time": "2023-04-16T19:52:47.937Z"
   },
   {
    "duration": 4,
    "start_time": "2023-04-16T19:52:48.117Z"
   },
   {
    "duration": 8,
    "start_time": "2023-04-16T19:52:48.421Z"
   },
   {
    "duration": 7,
    "start_time": "2023-04-16T19:52:49.221Z"
   },
   {
    "duration": 793,
    "start_time": "2023-04-16T19:52:49.342Z"
   },
   {
    "duration": 141,
    "start_time": "2023-04-16T19:52:50.137Z"
   },
   {
    "duration": 5,
    "start_time": "2023-04-16T19:52:50.280Z"
   },
   {
    "duration": 5,
    "start_time": "2023-04-16T19:52:50.465Z"
   },
   {
    "duration": 169,
    "start_time": "2023-04-16T19:52:50.945Z"
   },
   {
    "duration": 4,
    "start_time": "2023-04-16T19:52:52.622Z"
   },
   {
    "duration": 25,
    "start_time": "2023-04-16T19:52:53.944Z"
   },
   {
    "duration": 5,
    "start_time": "2023-04-16T19:52:54.805Z"
   },
   {
    "duration": 4,
    "start_time": "2023-04-16T19:52:55.023Z"
   },
   {
    "duration": 5,
    "start_time": "2023-04-16T19:52:55.361Z"
   },
   {
    "duration": 4,
    "start_time": "2023-04-16T19:52:55.673Z"
   },
   {
    "duration": 5,
    "start_time": "2023-04-16T19:52:56.017Z"
   },
   {
    "duration": 4,
    "start_time": "2023-04-16T19:52:56.151Z"
   },
   {
    "duration": 4,
    "start_time": "2023-04-16T19:52:56.309Z"
   },
   {
    "duration": 11,
    "start_time": "2023-04-16T19:52:56.825Z"
   },
   {
    "duration": 1355,
    "start_time": "2023-04-16T20:20:41.157Z"
   },
   {
    "duration": 40,
    "start_time": "2023-04-16T20:20:42.514Z"
   },
   {
    "duration": 10,
    "start_time": "2023-04-16T20:20:42.556Z"
   },
   {
    "duration": 12,
    "start_time": "2023-04-16T20:20:42.909Z"
   },
   {
    "duration": 13,
    "start_time": "2023-04-16T20:20:43.433Z"
   },
   {
    "duration": 8,
    "start_time": "2023-04-16T20:20:43.753Z"
   },
   {
    "duration": 4,
    "start_time": "2023-04-16T20:20:43.917Z"
   },
   {
    "duration": 3,
    "start_time": "2023-04-16T20:20:44.217Z"
   },
   {
    "duration": 3,
    "start_time": "2023-04-16T20:20:44.361Z"
   },
   {
    "duration": 8,
    "start_time": "2023-04-16T20:20:44.665Z"
   },
   {
    "duration": 7,
    "start_time": "2023-04-16T20:20:45.442Z"
   },
   {
    "duration": 759,
    "start_time": "2023-04-16T20:20:45.613Z"
   },
   {
    "duration": 150,
    "start_time": "2023-04-16T20:20:46.374Z"
   },
   {
    "duration": 13,
    "start_time": "2023-04-16T20:20:46.526Z"
   },
   {
    "duration": 5,
    "start_time": "2023-04-16T20:20:46.659Z"
   },
   {
    "duration": 186,
    "start_time": "2023-04-16T20:20:46.834Z"
   },
   {
    "duration": 4,
    "start_time": "2023-04-16T20:20:48.753Z"
   },
   {
    "duration": 25,
    "start_time": "2023-04-16T20:20:57.539Z"
   },
   {
    "duration": 6,
    "start_time": "2023-04-16T20:20:58.858Z"
   },
   {
    "duration": 4,
    "start_time": "2023-04-16T20:20:59.074Z"
   },
   {
    "duration": 6,
    "start_time": "2023-04-16T20:20:59.641Z"
   },
   {
    "duration": 5,
    "start_time": "2023-04-16T20:21:00.322Z"
   },
   {
    "duration": 4,
    "start_time": "2023-04-16T20:21:01.322Z"
   },
   {
    "duration": 4,
    "start_time": "2023-04-16T20:21:01.705Z"
   },
   {
    "duration": 4,
    "start_time": "2023-04-16T20:21:02.011Z"
   },
   {
    "duration": 12,
    "start_time": "2023-04-16T20:21:05.346Z"
   },
   {
    "duration": 109737,
    "start_time": "2023-04-16T20:21:15.054Z"
   },
   {
    "duration": 4,
    "start_time": "2023-04-16T20:23:04.793Z"
   },
   {
    "duration": 81949,
    "start_time": "2023-04-16T20:23:04.799Z"
   },
   {
    "duration": 4,
    "start_time": "2023-04-16T20:24:26.750Z"
   },
   {
    "duration": 6,
    "start_time": "2023-04-16T20:24:41.033Z"
   },
   {
    "duration": 486,
    "start_time": "2023-04-16T20:26:59.432Z"
   },
   {
    "duration": 5,
    "start_time": "2023-04-16T20:28:04.655Z"
   },
   {
    "duration": 3006,
    "start_time": "2023-04-17T05:04:11.895Z"
   },
   {
    "duration": 205,
    "start_time": "2023-04-17T05:04:14.903Z"
   },
   {
    "duration": 18,
    "start_time": "2023-04-17T05:04:30.656Z"
   },
   {
    "duration": 14,
    "start_time": "2023-04-17T05:04:31.116Z"
   },
   {
    "duration": 12,
    "start_time": "2023-04-17T05:04:32.210Z"
   },
   {
    "duration": 14,
    "start_time": "2023-04-17T05:04:33.296Z"
   },
   {
    "duration": 7,
    "start_time": "2023-04-17T05:04:34.264Z"
   },
   {
    "duration": 3,
    "start_time": "2023-04-17T05:04:35.204Z"
   },
   {
    "duration": 5,
    "start_time": "2023-04-17T05:04:35.394Z"
   },
   {
    "duration": 16,
    "start_time": "2023-04-17T05:04:36.026Z"
   },
   {
    "duration": 10,
    "start_time": "2023-04-17T05:05:20.719Z"
   },
   {
    "duration": 1036,
    "start_time": "2023-04-17T05:05:21.395Z"
   },
   {
    "duration": 180,
    "start_time": "2023-04-17T05:05:22.433Z"
   },
   {
    "duration": 7,
    "start_time": "2023-04-17T05:05:23.086Z"
   },
   {
    "duration": 7,
    "start_time": "2023-04-17T05:05:23.592Z"
   },
   {
    "duration": 208,
    "start_time": "2023-04-17T05:05:24.047Z"
   },
   {
    "duration": 6,
    "start_time": "2023-04-17T05:05:46.847Z"
   },
   {
    "duration": 36,
    "start_time": "2023-04-17T05:06:34.158Z"
   },
   {
    "duration": 27,
    "start_time": "2023-04-17T05:06:59.455Z"
   },
   {
    "duration": 10,
    "start_time": "2023-04-17T05:07:00.499Z"
   },
   {
    "duration": 6,
    "start_time": "2023-04-17T05:07:01.124Z"
   },
   {
    "duration": 7,
    "start_time": "2023-04-17T05:07:02.910Z"
   },
   {
    "duration": 6,
    "start_time": "2023-04-17T05:07:42.376Z"
   },
   {
    "duration": 12,
    "start_time": "2023-04-17T05:07:43.271Z"
   },
   {
    "duration": 5,
    "start_time": "2023-04-17T05:07:43.465Z"
   },
   {
    "duration": 5,
    "start_time": "2023-04-17T05:07:43.714Z"
   },
   {
    "duration": 21,
    "start_time": "2023-04-17T05:08:12.359Z"
   },
   {
    "duration": 172454,
    "start_time": "2023-04-17T05:11:06.968Z"
   },
   {
    "duration": 4,
    "start_time": "2023-04-17T05:13:59.424Z"
   },
   {
    "duration": 74,
    "start_time": "2023-04-17T07:32:00.821Z"
   },
   {
    "duration": 2066,
    "start_time": "2023-04-17T07:32:30.170Z"
   },
   {
    "duration": 186,
    "start_time": "2023-04-17T07:32:32.241Z"
   },
   {
    "duration": 14,
    "start_time": "2023-04-17T07:32:33.131Z"
   },
   {
    "duration": 14,
    "start_time": "2023-04-17T07:32:33.637Z"
   },
   {
    "duration": 20,
    "start_time": "2023-04-17T07:32:34.326Z"
   },
   {
    "duration": 22,
    "start_time": "2023-04-17T07:32:35.221Z"
   },
   {
    "duration": 4,
    "start_time": "2023-04-17T07:32:35.552Z"
   },
   {
    "duration": 3,
    "start_time": "2023-04-17T07:32:36.081Z"
   },
   {
    "duration": 4,
    "start_time": "2023-04-17T07:32:36.342Z"
   },
   {
    "duration": 10,
    "start_time": "2023-04-17T07:32:37.377Z"
   },
   {
    "duration": 8,
    "start_time": "2023-04-17T07:32:39.450Z"
   },
   {
    "duration": 1326,
    "start_time": "2023-04-17T07:32:40.035Z"
   },
   {
    "duration": 220,
    "start_time": "2023-04-17T07:32:42.723Z"
   },
   {
    "duration": 6,
    "start_time": "2023-04-17T07:32:43.479Z"
   },
   {
    "duration": 6,
    "start_time": "2023-04-17T07:32:43.738Z"
   },
   {
    "duration": 263,
    "start_time": "2023-04-17T07:32:44.022Z"
   },
   {
    "duration": 67,
    "start_time": "2023-04-17T07:34:39.720Z"
   },
   {
    "duration": 5,
    "start_time": "2023-04-17T07:41:23.223Z"
   },
   {
    "duration": 28,
    "start_time": "2023-04-17T07:41:36.244Z"
   },
   {
    "duration": 7,
    "start_time": "2023-04-17T07:41:49.320Z"
   },
   {
    "duration": 5,
    "start_time": "2023-04-17T07:41:49.752Z"
   },
   {
    "duration": 9,
    "start_time": "2023-04-17T07:41:50.722Z"
   },
   {
    "duration": 9,
    "start_time": "2023-04-17T07:41:51.519Z"
   },
   {
    "duration": 6,
    "start_time": "2023-04-17T07:41:52.220Z"
   },
   {
    "duration": 5,
    "start_time": "2023-04-17T07:41:52.687Z"
   },
   {
    "duration": 5,
    "start_time": "2023-04-17T07:41:52.875Z"
   },
   {
    "duration": 75,
    "start_time": "2023-04-17T07:41:54.988Z"
   },
   {
    "duration": 199340,
    "start_time": "2023-04-17T07:41:59.419Z"
   },
   {
    "duration": 8,
    "start_time": "2023-04-17T07:45:18.762Z"
   },
   {
    "duration": 1800,
    "start_time": "2023-04-17T08:31:35.435Z"
   },
   {
    "duration": 149,
    "start_time": "2023-04-17T08:31:40.123Z"
   },
   {
    "duration": 17,
    "start_time": "2023-04-17T08:31:41.029Z"
   },
   {
    "duration": 19,
    "start_time": "2023-04-17T08:31:41.188Z"
   },
   {
    "duration": 14,
    "start_time": "2023-04-17T08:31:41.555Z"
   },
   {
    "duration": 14,
    "start_time": "2023-04-17T08:31:41.915Z"
   },
   {
    "duration": 4,
    "start_time": "2023-04-17T08:31:42.075Z"
   },
   {
    "duration": 3,
    "start_time": "2023-04-17T08:31:42.379Z"
   },
   {
    "duration": 6,
    "start_time": "2023-04-17T08:31:42.543Z"
   },
   {
    "duration": 14,
    "start_time": "2023-04-17T08:31:43.045Z"
   },
   {
    "duration": 8,
    "start_time": "2023-04-17T08:31:44.051Z"
   },
   {
    "duration": 1167,
    "start_time": "2023-04-17T08:31:44.242Z"
   },
   {
    "duration": 238,
    "start_time": "2023-04-17T08:31:45.411Z"
   },
   {
    "duration": 7,
    "start_time": "2023-04-17T08:31:45.651Z"
   },
   {
    "duration": 10,
    "start_time": "2023-04-17T08:31:45.662Z"
   },
   {
    "duration": 263,
    "start_time": "2023-04-17T08:31:45.674Z"
   },
   {
    "duration": 4,
    "start_time": "2023-04-17T08:31:50.380Z"
   },
   {
    "duration": 32,
    "start_time": "2023-04-17T08:31:52.644Z"
   },
   {
    "duration": 5,
    "start_time": "2023-04-17T08:31:54.964Z"
   },
   {
    "duration": 4,
    "start_time": "2023-04-17T08:31:55.155Z"
   },
   {
    "duration": 7,
    "start_time": "2023-04-17T08:31:55.667Z"
   },
   {
    "duration": 12,
    "start_time": "2023-04-17T08:31:55.988Z"
   },
   {
    "duration": 9,
    "start_time": "2023-04-17T08:31:56.323Z"
   },
   {
    "duration": 4,
    "start_time": "2023-04-17T08:31:56.467Z"
   },
   {
    "duration": 8,
    "start_time": "2023-04-17T08:31:56.640Z"
   },
   {
    "duration": 16,
    "start_time": "2023-04-17T08:31:57.443Z"
   },
   {
    "duration": 186333,
    "start_time": "2023-04-17T08:31:59.246Z"
   },
   {
    "duration": 5,
    "start_time": "2023-04-17T08:35:05.582Z"
   },
   {
    "duration": 1760,
    "start_time": "2023-04-17T08:42:47.627Z"
   },
   {
    "duration": 48,
    "start_time": "2023-04-17T08:42:51.665Z"
   },
   {
    "duration": 12,
    "start_time": "2023-04-17T08:42:52.459Z"
   },
   {
    "duration": 21,
    "start_time": "2023-04-17T08:42:52.881Z"
   },
   {
    "duration": 14,
    "start_time": "2023-04-17T08:42:53.420Z"
   },
   {
    "duration": 11,
    "start_time": "2023-04-17T08:42:53.822Z"
   },
   {
    "duration": 4,
    "start_time": "2023-04-17T08:42:53.985Z"
   },
   {
    "duration": 3,
    "start_time": "2023-04-17T08:42:54.328Z"
   },
   {
    "duration": 4,
    "start_time": "2023-04-17T08:42:54.489Z"
   },
   {
    "duration": 12,
    "start_time": "2023-04-17T08:42:55.169Z"
   },
   {
    "duration": 8,
    "start_time": "2023-04-17T08:42:56.641Z"
   },
   {
    "duration": 1132,
    "start_time": "2023-04-17T08:42:56.937Z"
   },
   {
    "duration": 189,
    "start_time": "2023-04-17T08:42:58.754Z"
   },
   {
    "duration": 7,
    "start_time": "2023-04-17T08:42:59.081Z"
   },
   {
    "duration": 8,
    "start_time": "2023-04-17T08:42:59.245Z"
   },
   {
    "duration": 237,
    "start_time": "2023-04-17T08:42:59.723Z"
   },
   {
    "duration": 4,
    "start_time": "2023-04-17T08:43:05.569Z"
   },
   {
    "duration": 14,
    "start_time": "2023-04-17T08:43:33.026Z"
   },
   {
    "duration": 5,
    "start_time": "2023-04-17T08:43:35.417Z"
   },
   {
    "duration": 4,
    "start_time": "2023-04-17T08:43:36.185Z"
   },
   {
    "duration": 9,
    "start_time": "2023-04-17T08:43:37.114Z"
   },
   {
    "duration": 5,
    "start_time": "2023-04-17T08:43:38.040Z"
   },
   {
    "duration": 4,
    "start_time": "2023-04-17T08:43:38.864Z"
   },
   {
    "duration": 12,
    "start_time": "2023-04-17T08:43:39.306Z"
   },
   {
    "duration": 4,
    "start_time": "2023-04-17T08:43:39.717Z"
   },
   {
    "duration": 10,
    "start_time": "2023-04-17T08:43:41.318Z"
   },
   {
    "duration": 83807,
    "start_time": "2023-04-17T08:43:49.464Z"
   },
   {
    "duration": 4,
    "start_time": "2023-04-17T08:45:13.274Z"
   },
   {
    "duration": 1751,
    "start_time": "2023-04-17T08:59:11.422Z"
   },
   {
    "duration": 172,
    "start_time": "2023-04-17T08:59:14.304Z"
   },
   {
    "duration": 10,
    "start_time": "2023-04-17T08:59:40.922Z"
   },
   {
    "duration": 1598,
    "start_time": "2023-04-17T09:08:15.786Z"
   },
   {
    "duration": 69,
    "start_time": "2023-04-17T09:08:18.737Z"
   },
   {
    "duration": 12,
    "start_time": "2023-04-17T09:08:19.754Z"
   },
   {
    "duration": 14,
    "start_time": "2023-04-17T09:08:20.329Z"
   },
   {
    "duration": 19,
    "start_time": "2023-04-17T09:08:20.906Z"
   },
   {
    "duration": 9,
    "start_time": "2023-04-17T09:08:21.450Z"
   },
   {
    "duration": 6,
    "start_time": "2023-04-17T09:08:21.699Z"
   },
   {
    "duration": 3,
    "start_time": "2023-04-17T09:08:22.128Z"
   },
   {
    "duration": 5,
    "start_time": "2023-04-17T09:08:22.329Z"
   },
   {
    "duration": 9,
    "start_time": "2023-04-17T09:08:22.881Z"
   },
   {
    "duration": 8,
    "start_time": "2023-04-17T09:08:23.881Z"
   },
   {
    "duration": 1059,
    "start_time": "2023-04-17T09:08:24.049Z"
   },
   {
    "duration": 200,
    "start_time": "2023-04-17T09:08:25.113Z"
   },
   {
    "duration": 7,
    "start_time": "2023-04-17T09:08:25.314Z"
   },
   {
    "duration": 86,
    "start_time": "2023-04-17T09:08:25.323Z"
   },
   {
    "duration": 247,
    "start_time": "2023-04-17T09:08:25.411Z"
   },
   {
    "duration": 4,
    "start_time": "2023-04-17T09:08:26.521Z"
   },
   {
    "duration": 16,
    "start_time": "2023-04-17T09:08:30.509Z"
   },
   {
    "duration": 6,
    "start_time": "2023-04-17T09:08:33.833Z"
   },
   {
    "duration": 5,
    "start_time": "2023-04-17T09:08:34.329Z"
   },
   {
    "duration": 7,
    "start_time": "2023-04-17T09:08:35.129Z"
   },
   {
    "duration": 5,
    "start_time": "2023-04-17T09:08:35.873Z"
   },
   {
    "duration": 4,
    "start_time": "2023-04-17T09:08:36.440Z"
   },
   {
    "duration": 4,
    "start_time": "2023-04-17T09:08:36.769Z"
   },
   {
    "duration": 10,
    "start_time": "2023-04-17T09:08:37.100Z"
   },
   {
    "duration": 15,
    "start_time": "2023-04-17T09:08:38.337Z"
   },
   {
    "duration": 85155,
    "start_time": "2023-04-17T09:08:51.881Z"
   },
   {
    "duration": 4,
    "start_time": "2023-04-17T09:10:17.039Z"
   },
   {
    "duration": 1320,
    "start_time": "2023-04-17T09:10:44.612Z"
   },
   {
    "duration": 1631,
    "start_time": "2023-04-17T09:11:29.008Z"
   },
   {
    "duration": 58,
    "start_time": "2023-04-17T09:11:34.433Z"
   },
   {
    "duration": 21,
    "start_time": "2023-04-17T09:11:35.082Z"
   },
   {
    "duration": 19,
    "start_time": "2023-04-17T09:11:35.519Z"
   },
   {
    "duration": 15,
    "start_time": "2023-04-17T09:11:36.054Z"
   },
   {
    "duration": 13,
    "start_time": "2023-04-17T09:11:36.583Z"
   },
   {
    "duration": 7,
    "start_time": "2023-04-17T09:11:36.863Z"
   },
   {
    "duration": 4,
    "start_time": "2023-04-17T09:11:37.474Z"
   },
   {
    "duration": 9,
    "start_time": "2023-04-17T09:11:37.805Z"
   },
   {
    "duration": 14,
    "start_time": "2023-04-17T09:11:38.559Z"
   },
   {
    "duration": 9,
    "start_time": "2023-04-17T09:11:39.822Z"
   },
   {
    "duration": 1167,
    "start_time": "2023-04-17T09:11:40.014Z"
   },
   {
    "duration": 222,
    "start_time": "2023-04-17T09:11:41.184Z"
   },
   {
    "duration": 9,
    "start_time": "2023-04-17T09:11:41.408Z"
   },
   {
    "duration": 17,
    "start_time": "2023-04-17T09:11:41.420Z"
   },
   {
    "duration": 262,
    "start_time": "2023-04-17T09:11:41.441Z"
   },
   {
    "duration": 4,
    "start_time": "2023-04-17T09:11:43.584Z"
   },
   {
    "duration": 48,
    "start_time": "2023-04-17T09:11:48.514Z"
   },
   {
    "duration": 8,
    "start_time": "2023-04-17T09:11:50.062Z"
   },
   {
    "duration": 10,
    "start_time": "2023-04-17T09:11:50.295Z"
   },
   {
    "duration": 9,
    "start_time": "2023-04-17T09:11:51.414Z"
   },
   {
    "duration": 7,
    "start_time": "2023-04-17T09:11:52.369Z"
   },
   {
    "duration": 4,
    "start_time": "2023-04-17T09:11:54.479Z"
   },
   {
    "duration": 6,
    "start_time": "2023-04-17T09:11:54.654Z"
   },
   {
    "duration": 4,
    "start_time": "2023-04-17T09:11:54.853Z"
   },
   {
    "duration": 25,
    "start_time": "2023-04-17T09:12:02.327Z"
   },
   {
    "duration": 151817,
    "start_time": "2023-04-17T09:12:06.431Z"
   },
   {
    "duration": 5,
    "start_time": "2023-04-17T09:14:38.251Z"
   },
   {
    "duration": 1807,
    "start_time": "2023-04-17T09:14:51.031Z"
   },
   {
    "duration": 7,
    "start_time": "2023-04-17T09:15:25.883Z"
   },
   {
    "duration": 1671,
    "start_time": "2023-04-17T09:17:01.925Z"
   },
   {
    "duration": 47,
    "start_time": "2023-04-17T09:17:03.702Z"
   },
   {
    "duration": 16,
    "start_time": "2023-04-17T09:17:04.401Z"
   },
   {
    "duration": 21,
    "start_time": "2023-04-17T09:17:04.591Z"
   },
   {
    "duration": 20,
    "start_time": "2023-04-17T09:17:04.950Z"
   },
   {
    "duration": 10,
    "start_time": "2023-04-17T09:17:05.271Z"
   },
   {
    "duration": 4,
    "start_time": "2023-04-17T09:17:05.413Z"
   },
   {
    "duration": 4,
    "start_time": "2023-04-17T09:17:05.732Z"
   },
   {
    "duration": 4,
    "start_time": "2023-04-17T09:17:05.885Z"
   },
   {
    "duration": 11,
    "start_time": "2023-04-17T09:17:06.365Z"
   },
   {
    "duration": 9,
    "start_time": "2023-04-17T09:17:07.381Z"
   },
   {
    "duration": 1104,
    "start_time": "2023-04-17T09:17:07.558Z"
   },
   {
    "duration": 224,
    "start_time": "2023-04-17T09:17:08.664Z"
   },
   {
    "duration": 9,
    "start_time": "2023-04-17T09:17:08.891Z"
   },
   {
    "duration": 7,
    "start_time": "2023-04-17T09:17:08.980Z"
   },
   {
    "duration": 229,
    "start_time": "2023-04-17T09:17:09.349Z"
   },
   {
    "duration": 5,
    "start_time": "2023-04-17T09:17:11.601Z"
   },
   {
    "duration": 23,
    "start_time": "2023-04-17T09:17:21.202Z"
   },
   {
    "duration": 6,
    "start_time": "2023-04-17T09:17:23.509Z"
   },
   {
    "duration": 5,
    "start_time": "2023-04-17T09:17:23.876Z"
   },
   {
    "duration": 8,
    "start_time": "2023-04-17T09:17:24.524Z"
   },
   {
    "duration": 5,
    "start_time": "2023-04-17T09:17:24.885Z"
   },
   {
    "duration": 5,
    "start_time": "2023-04-17T09:17:25.245Z"
   },
   {
    "duration": 6,
    "start_time": "2023-04-17T09:17:25.428Z"
   },
   {
    "duration": 5,
    "start_time": "2023-04-17T09:17:25.599Z"
   },
   {
    "duration": 11,
    "start_time": "2023-04-17T09:17:26.589Z"
   },
   {
    "duration": 97062,
    "start_time": "2023-04-17T09:17:28.221Z"
   },
   {
    "duration": 10,
    "start_time": "2023-04-17T09:19:05.288Z"
   },
   {
    "duration": 1977,
    "start_time": "2023-04-17T09:19:51.722Z"
   },
   {
    "duration": 2093,
    "start_time": "2023-04-17T09:21:41.661Z"
   },
   {
    "duration": 57,
    "start_time": "2023-04-17T09:21:43.758Z"
   },
   {
    "duration": 19,
    "start_time": "2023-04-17T09:21:44.925Z"
   },
   {
    "duration": 18,
    "start_time": "2023-04-17T09:21:45.100Z"
   },
   {
    "duration": 20,
    "start_time": "2023-04-17T09:21:45.438Z"
   },
   {
    "duration": 15,
    "start_time": "2023-04-17T09:21:45.772Z"
   },
   {
    "duration": 5,
    "start_time": "2023-04-17T09:21:45.940Z"
   },
   {
    "duration": 4,
    "start_time": "2023-04-17T09:21:46.290Z"
   },
   {
    "duration": 5,
    "start_time": "2023-04-17T09:21:46.444Z"
   },
   {
    "duration": 13,
    "start_time": "2023-04-17T09:21:46.948Z"
   },
   {
    "duration": 10,
    "start_time": "2023-04-17T09:21:47.964Z"
   },
   {
    "duration": 1613,
    "start_time": "2023-04-17T09:21:48.132Z"
   },
   {
    "duration": 249,
    "start_time": "2023-04-17T09:21:49.748Z"
   },
   {
    "duration": 7,
    "start_time": "2023-04-17T09:21:50.001Z"
   },
   {
    "duration": 11,
    "start_time": "2023-04-17T09:21:50.011Z"
   },
   {
    "duration": 406,
    "start_time": "2023-04-17T09:21:50.025Z"
   },
   {
    "duration": 5,
    "start_time": "2023-04-17T09:21:50.434Z"
   },
   {
    "duration": 18,
    "start_time": "2023-04-17T09:21:52.444Z"
   },
   {
    "duration": 6,
    "start_time": "2023-04-17T09:21:53.212Z"
   },
   {
    "duration": 6,
    "start_time": "2023-04-17T09:21:53.572Z"
   },
   {
    "duration": 9,
    "start_time": "2023-04-17T09:21:54.108Z"
   },
   {
    "duration": 7,
    "start_time": "2023-04-17T09:21:54.463Z"
   },
   {
    "duration": 5,
    "start_time": "2023-04-17T09:21:54.796Z"
   },
   {
    "duration": 7,
    "start_time": "2023-04-17T09:21:55.235Z"
   },
   {
    "duration": 5,
    "start_time": "2023-04-17T09:21:55.502Z"
   },
   {
    "duration": 16,
    "start_time": "2023-04-17T09:21:56.331Z"
   },
   {
    "duration": 91090,
    "start_time": "2023-04-17T09:21:59.308Z"
   },
   {
    "duration": 4,
    "start_time": "2023-04-17T09:23:30.400Z"
   },
   {
    "duration": 856,
    "start_time": "2023-04-17T09:23:30.406Z"
   },
   {
    "duration": 1661,
    "start_time": "2023-04-17T09:24:19.636Z"
   },
   {
    "duration": 74,
    "start_time": "2023-04-17T09:24:21.308Z"
   },
   {
    "duration": 14,
    "start_time": "2023-04-17T09:24:21.385Z"
   },
   {
    "duration": 19,
    "start_time": "2023-04-17T09:24:21.406Z"
   },
   {
    "duration": 16,
    "start_time": "2023-04-17T09:24:21.595Z"
   },
   {
    "duration": 15,
    "start_time": "2023-04-17T09:24:21.920Z"
   },
   {
    "duration": 7,
    "start_time": "2023-04-17T09:24:22.075Z"
   },
   {
    "duration": 3,
    "start_time": "2023-04-17T09:24:22.371Z"
   },
   {
    "duration": 5,
    "start_time": "2023-04-17T09:24:22.516Z"
   },
   {
    "duration": 9,
    "start_time": "2023-04-17T09:24:22.931Z"
   },
   {
    "duration": 10,
    "start_time": "2023-04-17T09:24:23.821Z"
   },
   {
    "duration": 1146,
    "start_time": "2023-04-17T09:24:23.971Z"
   },
   {
    "duration": 301,
    "start_time": "2023-04-17T09:24:25.120Z"
   },
   {
    "duration": 7,
    "start_time": "2023-04-17T09:24:25.423Z"
   },
   {
    "duration": 31,
    "start_time": "2023-04-17T09:24:25.432Z"
   },
   {
    "duration": 281,
    "start_time": "2023-04-17T09:24:25.467Z"
   },
   {
    "duration": 5,
    "start_time": "2023-04-17T09:24:25.827Z"
   },
   {
    "duration": 22,
    "start_time": "2023-04-17T09:24:26.874Z"
   },
   {
    "duration": 7,
    "start_time": "2023-04-17T09:24:27.652Z"
   },
   {
    "duration": 6,
    "start_time": "2023-04-17T09:24:27.851Z"
   },
   {
    "duration": 8,
    "start_time": "2023-04-17T09:24:28.394Z"
   },
   {
    "duration": 6,
    "start_time": "2023-04-17T09:24:28.731Z"
   },
   {
    "duration": 5,
    "start_time": "2023-04-17T09:24:29.131Z"
   },
   {
    "duration": 17,
    "start_time": "2023-04-17T09:24:29.317Z"
   },
   {
    "duration": 6,
    "start_time": "2023-04-17T09:24:29.498Z"
   },
   {
    "duration": 15,
    "start_time": "2023-04-17T09:24:31.227Z"
   },
   {
    "duration": 95762,
    "start_time": "2023-04-17T09:24:35.314Z"
   },
   {
    "duration": 5,
    "start_time": "2023-04-17T09:26:11.079Z"
   },
   {
    "duration": 942,
    "start_time": "2023-04-17T09:26:11.086Z"
   },
   {
    "duration": 1585,
    "start_time": "2023-04-17T09:26:49.874Z"
   },
   {
    "duration": 46,
    "start_time": "2023-04-17T09:26:51.461Z"
   },
   {
    "duration": 18,
    "start_time": "2023-04-17T09:26:52.370Z"
   },
   {
    "duration": 16,
    "start_time": "2023-04-17T09:26:52.810Z"
   },
   {
    "duration": 15,
    "start_time": "2023-04-17T09:26:53.530Z"
   },
   {
    "duration": 9,
    "start_time": "2023-04-17T09:26:54.458Z"
   },
   {
    "duration": 5,
    "start_time": "2023-04-17T09:26:54.802Z"
   },
   {
    "duration": 4,
    "start_time": "2023-04-17T09:26:55.410Z"
   },
   {
    "duration": 6,
    "start_time": "2023-04-17T09:26:55.714Z"
   },
   {
    "duration": 12,
    "start_time": "2023-04-17T09:26:56.498Z"
   },
   {
    "duration": 11,
    "start_time": "2023-04-17T09:26:57.642Z"
   },
   {
    "duration": 1015,
    "start_time": "2023-04-17T09:26:57.834Z"
   },
   {
    "duration": 190,
    "start_time": "2023-04-17T09:26:58.852Z"
   },
   {
    "duration": 7,
    "start_time": "2023-04-17T09:26:59.045Z"
   },
   {
    "duration": 8,
    "start_time": "2023-04-17T09:26:59.054Z"
   },
   {
    "duration": 254,
    "start_time": "2023-04-17T09:26:59.065Z"
   },
   {
    "duration": 6,
    "start_time": "2023-04-17T09:27:00.073Z"
   },
   {
    "duration": 57,
    "start_time": "2023-04-17T09:27:01.499Z"
   },
   {
    "duration": 6,
    "start_time": "2023-04-17T09:27:01.994Z"
   },
   {
    "duration": 6,
    "start_time": "2023-04-17T09:27:02.242Z"
   },
   {
    "duration": 1820,
    "start_time": "2023-04-17T09:27:46.659Z"
   },
   {
    "duration": 53,
    "start_time": "2023-04-17T09:27:48.482Z"
   },
   {
    "duration": 15,
    "start_time": "2023-04-17T09:27:49.002Z"
   },
   {
    "duration": 19,
    "start_time": "2023-04-17T09:27:49.220Z"
   },
   {
    "duration": 20,
    "start_time": "2023-04-17T09:27:49.603Z"
   },
   {
    "duration": 15,
    "start_time": "2023-04-17T09:27:49.939Z"
   },
   {
    "duration": 4,
    "start_time": "2023-04-17T09:27:50.098Z"
   },
   {
    "duration": 3,
    "start_time": "2023-04-17T09:27:50.402Z"
   },
   {
    "duration": 4,
    "start_time": "2023-04-17T09:27:50.555Z"
   },
   {
    "duration": 13,
    "start_time": "2023-04-17T09:27:51.018Z"
   },
   {
    "duration": 10,
    "start_time": "2023-04-17T09:27:51.971Z"
   },
   {
    "duration": 1218,
    "start_time": "2023-04-17T09:27:52.123Z"
   },
   {
    "duration": 196,
    "start_time": "2023-04-17T09:27:53.345Z"
   },
   {
    "duration": 7,
    "start_time": "2023-04-17T09:27:53.543Z"
   },
   {
    "duration": 14,
    "start_time": "2023-04-17T09:27:53.553Z"
   },
   {
    "duration": 277,
    "start_time": "2023-04-17T09:27:53.569Z"
   },
   {
    "duration": 5,
    "start_time": "2023-04-17T09:27:55.946Z"
   },
   {
    "duration": 14,
    "start_time": "2023-04-17T09:28:11.066Z"
   },
   {
    "duration": 6,
    "start_time": "2023-04-17T09:28:15.267Z"
   },
   {
    "duration": 5,
    "start_time": "2023-04-17T09:28:15.955Z"
   },
   {
    "duration": 7,
    "start_time": "2023-04-17T09:28:16.771Z"
   },
   {
    "duration": 7,
    "start_time": "2023-04-17T09:28:17.267Z"
   },
   {
    "duration": 5,
    "start_time": "2023-04-17T09:28:17.931Z"
   },
   {
    "duration": 5,
    "start_time": "2023-04-17T09:28:18.170Z"
   },
   {
    "duration": 5,
    "start_time": "2023-04-17T09:28:18.394Z"
   },
   {
    "duration": 11,
    "start_time": "2023-04-17T09:28:19.290Z"
   },
   {
    "duration": 82114,
    "start_time": "2023-04-17T09:28:21.282Z"
   },
   {
    "duration": 6,
    "start_time": "2023-04-17T09:29:43.399Z"
   },
   {
    "duration": 1642,
    "start_time": "2023-04-17T09:44:48.287Z"
   },
   {
    "duration": 55,
    "start_time": "2023-04-17T09:44:51.110Z"
   },
   {
    "duration": 21,
    "start_time": "2023-04-17T09:44:51.736Z"
   },
   {
    "duration": 22,
    "start_time": "2023-04-17T09:44:51.974Z"
   },
   {
    "duration": 16,
    "start_time": "2023-04-17T09:44:52.373Z"
   },
   {
    "duration": 15,
    "start_time": "2023-04-17T09:44:52.718Z"
   },
   {
    "duration": 4,
    "start_time": "2023-04-17T09:44:52.886Z"
   },
   {
    "duration": 5,
    "start_time": "2023-04-17T09:44:53.254Z"
   },
   {
    "duration": 6,
    "start_time": "2023-04-17T09:44:53.438Z"
   },
   {
    "duration": 15,
    "start_time": "2023-04-17T09:44:54.006Z"
   },
   {
    "duration": 13,
    "start_time": "2023-04-17T09:44:55.271Z"
   },
   {
    "duration": 1198,
    "start_time": "2023-04-17T09:44:55.455Z"
   },
   {
    "duration": 298,
    "start_time": "2023-04-17T09:44:56.656Z"
   },
   {
    "duration": 8,
    "start_time": "2023-04-17T09:44:56.957Z"
   },
   {
    "duration": 7,
    "start_time": "2023-04-17T09:44:56.968Z"
   },
   {
    "duration": 420,
    "start_time": "2023-04-17T09:44:56.977Z"
   },
   {
    "duration": 6,
    "start_time": "2023-04-17T09:44:57.918Z"
   },
   {
    "duration": 25,
    "start_time": "2023-04-17T09:45:00.295Z"
   },
   {
    "duration": 8,
    "start_time": "2023-04-17T09:45:01.207Z"
   },
   {
    "duration": 9,
    "start_time": "2023-04-17T09:45:01.526Z"
   },
   {
    "duration": 11,
    "start_time": "2023-04-17T09:45:02.023Z"
   },
   {
    "duration": 6,
    "start_time": "2023-04-17T09:45:02.354Z"
   },
   {
    "duration": 6,
    "start_time": "2023-04-17T09:45:03.054Z"
   },
   {
    "duration": 7,
    "start_time": "2023-04-17T09:45:03.254Z"
   },
   {
    "duration": 6,
    "start_time": "2023-04-17T09:45:03.446Z"
   },
   {
    "duration": 19,
    "start_time": "2023-04-17T09:45:04.902Z"
   },
   {
    "duration": 86362,
    "start_time": "2023-04-17T09:45:06.454Z"
   },
   {
    "duration": 9,
    "start_time": "2023-04-17T09:46:32.822Z"
   },
   {
    "duration": 1135,
    "start_time": "2023-04-17T09:46:32.836Z"
   },
   {
    "duration": 1678,
    "start_time": "2023-04-17T09:54:24.999Z"
   },
   {
    "duration": 56,
    "start_time": "2023-04-17T09:54:27.915Z"
   },
   {
    "duration": 13,
    "start_time": "2023-04-17T09:54:28.557Z"
   },
   {
    "duration": 15,
    "start_time": "2023-04-17T09:54:28.715Z"
   },
   {
    "duration": 14,
    "start_time": "2023-04-17T09:54:29.035Z"
   },
   {
    "duration": 9,
    "start_time": "2023-04-17T09:54:29.355Z"
   },
   {
    "duration": 6,
    "start_time": "2023-04-17T09:54:29.514Z"
   },
   {
    "duration": 3,
    "start_time": "2023-04-17T09:54:29.827Z"
   },
   {
    "duration": 5,
    "start_time": "2023-04-17T09:54:29.986Z"
   },
   {
    "duration": 15,
    "start_time": "2023-04-17T09:54:30.500Z"
   },
   {
    "duration": 8,
    "start_time": "2023-04-17T09:54:31.515Z"
   },
   {
    "duration": 1101,
    "start_time": "2023-04-17T09:54:31.676Z"
   },
   {
    "duration": 220,
    "start_time": "2023-04-17T09:54:32.781Z"
   },
   {
    "duration": 7,
    "start_time": "2023-04-17T09:54:33.003Z"
   },
   {
    "duration": 18,
    "start_time": "2023-04-17T09:54:33.014Z"
   },
   {
    "duration": 305,
    "start_time": "2023-04-17T09:54:33.034Z"
   },
   {
    "duration": 6,
    "start_time": "2023-04-17T09:54:33.755Z"
   },
   {
    "duration": 53,
    "start_time": "2023-04-17T09:54:34.787Z"
   },
   {
    "duration": 7,
    "start_time": "2023-04-17T09:54:35.162Z"
   },
   {
    "duration": 6,
    "start_time": "2023-04-17T09:54:35.331Z"
   },
   {
    "duration": 8,
    "start_time": "2023-04-17T09:54:35.874Z"
   },
   {
    "duration": 5,
    "start_time": "2023-04-17T09:54:36.243Z"
   },
   {
    "duration": 14,
    "start_time": "2023-04-17T09:54:36.594Z"
   },
   {
    "duration": 6,
    "start_time": "2023-04-17T09:54:36.778Z"
   },
   {
    "duration": 4,
    "start_time": "2023-04-17T09:54:36.970Z"
   },
   {
    "duration": 18,
    "start_time": "2023-04-17T09:54:37.939Z"
   },
   {
    "duration": 174437,
    "start_time": "2023-04-17T09:54:40.843Z"
   },
   {
    "duration": 5,
    "start_time": "2023-04-17T09:57:35.288Z"
   },
   {
    "duration": 87,
    "start_time": "2023-04-17T09:57:35.294Z"
   },
   {
    "duration": 0,
    "start_time": "2023-04-17T09:57:35.383Z"
   },
   {
    "duration": 0,
    "start_time": "2023-04-17T09:57:35.385Z"
   },
   {
    "duration": 0,
    "start_time": "2023-04-17T09:57:35.386Z"
   },
   {
    "duration": 0,
    "start_time": "2023-04-17T09:57:35.388Z"
   },
   {
    "duration": 1550,
    "start_time": "2023-04-17T10:07:14.315Z"
   },
   {
    "duration": 56,
    "start_time": "2023-04-17T10:07:17.527Z"
   },
   {
    "duration": 13,
    "start_time": "2023-04-17T10:07:18.085Z"
   },
   {
    "duration": 18,
    "start_time": "2023-04-17T10:07:18.239Z"
   },
   {
    "duration": 16,
    "start_time": "2023-04-17T10:07:18.583Z"
   },
   {
    "duration": 9,
    "start_time": "2023-04-17T10:07:18.953Z"
   },
   {
    "duration": 4,
    "start_time": "2023-04-17T10:07:19.135Z"
   },
   {
    "duration": 4,
    "start_time": "2023-04-17T10:07:19.514Z"
   },
   {
    "duration": 4,
    "start_time": "2023-04-17T10:07:19.679Z"
   },
   {
    "duration": 10,
    "start_time": "2023-04-17T10:07:20.216Z"
   },
   {
    "duration": 11,
    "start_time": "2023-04-17T10:07:21.232Z"
   },
   {
    "duration": 1072,
    "start_time": "2023-04-17T10:07:21.417Z"
   },
   {
    "duration": 177,
    "start_time": "2023-04-17T10:07:22.492Z"
   },
   {
    "duration": 7,
    "start_time": "2023-04-17T10:07:22.672Z"
   },
   {
    "duration": 34,
    "start_time": "2023-04-17T10:07:22.694Z"
   },
   {
    "duration": 245,
    "start_time": "2023-04-17T10:07:22.730Z"
   },
   {
    "duration": 6,
    "start_time": "2023-04-17T10:07:23.609Z"
   },
   {
    "duration": 31,
    "start_time": "2023-04-17T10:07:25.983Z"
   },
   {
    "duration": 6,
    "start_time": "2023-04-17T10:07:28.086Z"
   },
   {
    "duration": 4,
    "start_time": "2023-04-17T10:07:28.784Z"
   },
   {
    "duration": 8,
    "start_time": "2023-04-17T10:07:30.263Z"
   },
   {
    "duration": 6,
    "start_time": "2023-04-17T10:07:31.256Z"
   },
   {
    "duration": 5,
    "start_time": "2023-04-17T10:07:31.967Z"
   },
   {
    "duration": 4,
    "start_time": "2023-04-17T10:07:32.316Z"
   },
   {
    "duration": 5,
    "start_time": "2023-04-17T10:07:32.920Z"
   },
   {
    "duration": 13,
    "start_time": "2023-04-17T10:07:36.105Z"
   },
   {
    "duration": 157754,
    "start_time": "2023-04-17T10:07:45.776Z"
   },
   {
    "duration": 8,
    "start_time": "2023-04-17T10:10:23.533Z"
   },
   {
    "duration": 32,
    "start_time": "2023-04-17T10:15:10.152Z"
   },
   {
    "duration": 225,
    "start_time": "2023-04-17T10:20:08.899Z"
   },
   {
    "duration": 5,
    "start_time": "2023-04-17T10:20:10.014Z"
   },
   {
    "duration": 12,
    "start_time": "2023-04-17T10:20:48.157Z"
   },
   {
    "duration": 1631,
    "start_time": "2023-04-17T10:22:52.799Z"
   },
   {
    "duration": 48,
    "start_time": "2023-04-17T10:22:56.219Z"
   },
   {
    "duration": 20,
    "start_time": "2023-04-17T10:22:56.804Z"
   },
   {
    "duration": 16,
    "start_time": "2023-04-17T10:22:56.971Z"
   },
   {
    "duration": 19,
    "start_time": "2023-04-17T10:22:57.324Z"
   },
   {
    "duration": 14,
    "start_time": "2023-04-17T10:22:57.653Z"
   },
   {
    "duration": 6,
    "start_time": "2023-04-17T10:22:57.814Z"
   },
   {
    "duration": 4,
    "start_time": "2023-04-17T10:22:58.131Z"
   },
   {
    "duration": 6,
    "start_time": "2023-04-17T10:22:58.299Z"
   },
   {
    "duration": 11,
    "start_time": "2023-04-17T10:22:58.771Z"
   },
   {
    "duration": 12,
    "start_time": "2023-04-17T10:22:59.771Z"
   },
   {
    "duration": 1083,
    "start_time": "2023-04-17T10:22:59.939Z"
   },
   {
    "duration": 284,
    "start_time": "2023-04-17T10:23:01.025Z"
   },
   {
    "duration": 10,
    "start_time": "2023-04-17T10:23:01.311Z"
   },
   {
    "duration": 30,
    "start_time": "2023-04-17T10:23:01.324Z"
   },
   {
    "duration": 306,
    "start_time": "2023-04-17T10:23:01.357Z"
   },
   {
    "duration": 4,
    "start_time": "2023-04-17T10:23:02.397Z"
   },
   {
    "duration": 59,
    "start_time": "2023-04-17T10:23:05.068Z"
   },
   {
    "duration": 9,
    "start_time": "2023-04-17T10:23:06.646Z"
   },
   {
    "duration": 6,
    "start_time": "2023-04-17T10:23:06.939Z"
   },
   {
    "duration": 8,
    "start_time": "2023-04-17T10:23:07.739Z"
   },
   {
    "duration": 7,
    "start_time": "2023-04-17T10:23:08.473Z"
   },
   {
    "duration": 6,
    "start_time": "2023-04-17T10:23:08.860Z"
   },
   {
    "duration": 4,
    "start_time": "2023-04-17T10:23:09.057Z"
   },
   {
    "duration": 7,
    "start_time": "2023-04-17T10:23:09.247Z"
   },
   {
    "duration": 143,
    "start_time": "2023-04-17T10:23:10.357Z"
   },
   {
    "duration": 198758,
    "start_time": "2023-04-17T10:23:13.307Z"
   },
   {
    "duration": 5,
    "start_time": "2023-04-17T10:26:32.067Z"
   },
   {
    "duration": 20,
    "start_time": "2023-04-17T10:26:32.074Z"
   },
   {
    "duration": 36,
    "start_time": "2023-04-17T10:26:32.096Z"
   },
   {
    "duration": 337,
    "start_time": "2023-04-17T10:26:32.135Z"
   },
   {
    "duration": 6,
    "start_time": "2023-04-17T10:26:32.474Z"
   },
   {
    "duration": 19,
    "start_time": "2023-04-17T10:26:32.482Z"
   },
   {
    "duration": 1159,
    "start_time": "2023-04-17T10:26:54.341Z"
   },
   {
    "duration": 58,
    "start_time": "2023-04-17T10:30:30.801Z"
   },
   {
    "duration": 1561,
    "start_time": "2023-04-17T10:30:49.585Z"
   },
   {
    "duration": 47,
    "start_time": "2023-04-17T10:30:51.148Z"
   },
   {
    "duration": 15,
    "start_time": "2023-04-17T10:30:51.197Z"
   },
   {
    "duration": 29,
    "start_time": "2023-04-17T10:30:51.214Z"
   },
   {
    "duration": 14,
    "start_time": "2023-04-17T10:30:51.245Z"
   },
   {
    "duration": 10,
    "start_time": "2023-04-17T10:30:51.260Z"
   },
   {
    "duration": 23,
    "start_time": "2023-04-17T10:30:51.272Z"
   },
   {
    "duration": 4,
    "start_time": "2023-04-17T10:30:51.297Z"
   },
   {
    "duration": 5,
    "start_time": "2023-04-17T10:30:51.303Z"
   },
   {
    "duration": 13,
    "start_time": "2023-04-17T10:30:51.311Z"
   },
   {
    "duration": 8,
    "start_time": "2023-04-17T10:30:51.326Z"
   },
   {
    "duration": 1044,
    "start_time": "2023-04-17T10:30:51.336Z"
   },
   {
    "duration": 192,
    "start_time": "2023-04-17T10:30:52.382Z"
   },
   {
    "duration": 20,
    "start_time": "2023-04-17T10:30:52.576Z"
   },
   {
    "duration": 8,
    "start_time": "2023-04-17T10:30:52.597Z"
   },
   {
    "duration": 251,
    "start_time": "2023-04-17T10:30:52.607Z"
   },
   {
    "duration": 6,
    "start_time": "2023-04-17T10:30:52.861Z"
   },
   {
    "duration": 35,
    "start_time": "2023-04-17T10:30:52.869Z"
   },
   {
    "duration": 5,
    "start_time": "2023-04-17T10:30:52.906Z"
   },
   {
    "duration": 5,
    "start_time": "2023-04-17T10:30:52.913Z"
   },
   {
    "duration": 8,
    "start_time": "2023-04-17T10:30:52.920Z"
   },
   {
    "duration": 8,
    "start_time": "2023-04-17T10:30:52.929Z"
   },
   {
    "duration": 5,
    "start_time": "2023-04-17T10:30:52.939Z"
   },
   {
    "duration": 6,
    "start_time": "2023-04-17T10:30:52.946Z"
   },
   {
    "duration": 44,
    "start_time": "2023-04-17T10:30:52.954Z"
   },
   {
    "duration": 12,
    "start_time": "2023-04-17T10:30:53.000Z"
   },
   {
    "duration": 77261,
    "start_time": "2023-04-17T10:30:53.014Z"
   },
   {
    "duration": 4,
    "start_time": "2023-04-17T10:32:10.279Z"
   },
   {
    "duration": 10,
    "start_time": "2023-04-17T10:32:10.285Z"
   },
   {
    "duration": 6,
    "start_time": "2023-04-17T10:32:10.297Z"
   },
   {
    "duration": 96,
    "start_time": "2023-04-17T10:32:10.305Z"
   },
   {
    "duration": 4,
    "start_time": "2023-04-17T10:32:10.403Z"
   },
   {
    "duration": 29,
    "start_time": "2023-04-17T10:32:10.409Z"
   },
   {
    "duration": 566,
    "start_time": "2023-04-17T10:32:10.440Z"
   },
   {
    "duration": 7,
    "start_time": "2023-04-17T10:32:11.008Z"
   },
   {
    "duration": 1581,
    "start_time": "2023-04-17T10:32:53.574Z"
   },
   {
    "duration": 47,
    "start_time": "2023-04-17T10:32:55.157Z"
   },
   {
    "duration": 12,
    "start_time": "2023-04-17T10:32:55.206Z"
   },
   {
    "duration": 15,
    "start_time": "2023-04-17T10:32:55.222Z"
   },
   {
    "duration": 14,
    "start_time": "2023-04-17T10:32:55.239Z"
   },
   {
    "duration": 40,
    "start_time": "2023-04-17T10:32:55.255Z"
   },
   {
    "duration": 7,
    "start_time": "2023-04-17T10:32:55.297Z"
   },
   {
    "duration": 5,
    "start_time": "2023-04-17T10:32:55.306Z"
   },
   {
    "duration": 6,
    "start_time": "2023-04-17T10:32:55.312Z"
   },
   {
    "duration": 8,
    "start_time": "2023-04-17T10:32:55.321Z"
   },
   {
    "duration": 9,
    "start_time": "2023-04-17T10:32:55.332Z"
   },
   {
    "duration": 1188,
    "start_time": "2023-04-17T10:32:55.343Z"
   },
   {
    "duration": 278,
    "start_time": "2023-04-17T10:32:56.533Z"
   },
   {
    "duration": 8,
    "start_time": "2023-04-17T10:32:56.813Z"
   },
   {
    "duration": 14,
    "start_time": "2023-04-17T10:32:56.822Z"
   },
   {
    "duration": 287,
    "start_time": "2023-04-17T10:32:56.838Z"
   },
   {
    "duration": 6,
    "start_time": "2023-04-17T10:32:57.127Z"
   },
   {
    "duration": 33,
    "start_time": "2023-04-17T10:32:57.136Z"
   },
   {
    "duration": 6,
    "start_time": "2023-04-17T10:32:57.171Z"
   },
   {
    "duration": 19,
    "start_time": "2023-04-17T10:32:57.179Z"
   },
   {
    "duration": 11,
    "start_time": "2023-04-17T10:32:57.200Z"
   },
   {
    "duration": 16,
    "start_time": "2023-04-17T10:32:57.214Z"
   },
   {
    "duration": 9,
    "start_time": "2023-04-17T10:32:57.234Z"
   },
   {
    "duration": 7,
    "start_time": "2023-04-17T10:32:57.245Z"
   },
   {
    "duration": 6,
    "start_time": "2023-04-17T10:32:57.255Z"
   },
   {
    "duration": 37,
    "start_time": "2023-04-17T10:32:57.264Z"
   },
   {
    "duration": 75799,
    "start_time": "2023-04-17T10:32:57.303Z"
   },
   {
    "duration": 4,
    "start_time": "2023-04-17T10:34:13.106Z"
   },
   {
    "duration": 5,
    "start_time": "2023-04-17T10:34:13.113Z"
   },
   {
    "duration": 10,
    "start_time": "2023-04-17T10:34:13.120Z"
   },
   {
    "duration": 106,
    "start_time": "2023-04-17T10:34:13.133Z"
   },
   {
    "duration": 5,
    "start_time": "2023-04-17T10:34:13.241Z"
   },
   {
    "duration": 13,
    "start_time": "2023-04-17T10:34:13.248Z"
   },
   {
    "duration": 1009,
    "start_time": "2023-04-17T10:34:13.264Z"
   },
   {
    "duration": 8,
    "start_time": "2023-04-17T10:34:14.276Z"
   },
   {
    "duration": 2190,
    "start_time": "2023-04-17T10:34:53.433Z"
   },
   {
    "duration": 52,
    "start_time": "2023-04-17T10:34:55.632Z"
   },
   {
    "duration": 15,
    "start_time": "2023-04-17T10:34:55.686Z"
   },
   {
    "duration": 16,
    "start_time": "2023-04-17T10:34:55.704Z"
   },
   {
    "duration": 19,
    "start_time": "2023-04-17T10:34:55.722Z"
   },
   {
    "duration": 14,
    "start_time": "2023-04-17T10:34:55.743Z"
   },
   {
    "duration": 10,
    "start_time": "2023-04-17T10:34:55.759Z"
   },
   {
    "duration": 5,
    "start_time": "2023-04-17T10:34:55.794Z"
   },
   {
    "duration": 20,
    "start_time": "2023-04-17T10:34:55.801Z"
   },
   {
    "duration": 18,
    "start_time": "2023-04-17T10:34:55.824Z"
   },
   {
    "duration": 42,
    "start_time": "2023-04-17T10:34:55.845Z"
   },
   {
    "duration": 1150,
    "start_time": "2023-04-17T10:34:55.889Z"
   },
   {
    "duration": 423,
    "start_time": "2023-04-17T10:34:57.092Z"
   },
   {
    "duration": 10,
    "start_time": "2023-04-17T10:34:57.518Z"
   },
   {
    "duration": 8,
    "start_time": "2023-04-17T10:34:57.530Z"
   },
   {
    "duration": 612,
    "start_time": "2023-04-17T10:34:57.604Z"
   },
   {
    "duration": 9,
    "start_time": "2023-04-17T10:34:58.219Z"
   },
   {
    "duration": 76,
    "start_time": "2023-04-17T10:34:58.231Z"
   },
   {
    "duration": 8,
    "start_time": "2023-04-17T10:34:58.309Z"
   },
   {
    "duration": 8,
    "start_time": "2023-04-17T10:34:58.319Z"
   },
   {
    "duration": 65,
    "start_time": "2023-04-17T10:34:58.330Z"
   },
   {
    "duration": 6,
    "start_time": "2023-04-17T10:34:58.398Z"
   },
   {
    "duration": 13,
    "start_time": "2023-04-17T10:34:58.406Z"
   },
   {
    "duration": 9,
    "start_time": "2023-04-17T10:34:58.422Z"
   },
   {
    "duration": 9,
    "start_time": "2023-04-17T10:34:58.433Z"
   },
   {
    "duration": 59,
    "start_time": "2023-04-17T10:34:58.444Z"
   },
   {
    "duration": 94262,
    "start_time": "2023-04-17T10:34:58.505Z"
   },
   {
    "duration": 5,
    "start_time": "2023-04-17T10:36:32.770Z"
   },
   {
    "duration": 10,
    "start_time": "2023-04-17T10:36:32.777Z"
   },
   {
    "duration": 8,
    "start_time": "2023-04-17T10:36:32.789Z"
   },
   {
    "duration": 107,
    "start_time": "2023-04-17T10:36:32.798Z"
   },
   {
    "duration": 5,
    "start_time": "2023-04-17T10:36:32.907Z"
   },
   {
    "duration": 20,
    "start_time": "2023-04-17T10:36:32.914Z"
   },
   {
    "duration": 977,
    "start_time": "2023-04-17T10:36:32.937Z"
   },
   {
    "duration": 7,
    "start_time": "2023-04-17T10:36:33.917Z"
   },
   {
    "duration": 1865,
    "start_time": "2023-04-17T10:37:10.265Z"
   },
   {
    "duration": 64,
    "start_time": "2023-04-17T10:37:12.133Z"
   },
   {
    "duration": 18,
    "start_time": "2023-04-17T10:37:12.200Z"
   },
   {
    "duration": 19,
    "start_time": "2023-04-17T10:37:12.221Z"
   },
   {
    "duration": 19,
    "start_time": "2023-04-17T10:37:12.242Z"
   },
   {
    "duration": 41,
    "start_time": "2023-04-17T10:37:12.263Z"
   },
   {
    "duration": 6,
    "start_time": "2023-04-17T10:37:12.306Z"
   },
   {
    "duration": 6,
    "start_time": "2023-04-17T10:37:12.314Z"
   },
   {
    "duration": 7,
    "start_time": "2023-04-17T10:37:12.322Z"
   },
   {
    "duration": 14,
    "start_time": "2023-04-17T10:37:12.333Z"
   },
   {
    "duration": 48,
    "start_time": "2023-04-17T10:37:12.349Z"
   },
   {
    "duration": 2256,
    "start_time": "2023-04-17T10:37:12.400Z"
   },
   {
    "duration": 190,
    "start_time": "2023-04-17T10:37:14.658Z"
   },
   {
    "duration": 8,
    "start_time": "2023-04-17T10:37:14.851Z"
   },
   {
    "duration": 14,
    "start_time": "2023-04-17T10:37:14.861Z"
   },
   {
    "duration": 267,
    "start_time": "2023-04-17T10:37:14.876Z"
   },
   {
    "duration": 6,
    "start_time": "2023-04-17T10:37:15.145Z"
   },
   {
    "duration": 41,
    "start_time": "2023-04-17T10:37:15.154Z"
   },
   {
    "duration": 8,
    "start_time": "2023-04-17T10:37:15.198Z"
   },
   {
    "duration": 5,
    "start_time": "2023-04-17T10:37:15.209Z"
   },
   {
    "duration": 7,
    "start_time": "2023-04-17T10:37:15.216Z"
   },
   {
    "duration": 9,
    "start_time": "2023-04-17T10:37:15.225Z"
   },
   {
    "duration": 6,
    "start_time": "2023-04-17T10:37:15.237Z"
   },
   {
    "duration": 6,
    "start_time": "2023-04-17T10:37:15.248Z"
   },
   {
    "duration": 37,
    "start_time": "2023-04-17T10:37:15.256Z"
   },
   {
    "duration": 13,
    "start_time": "2023-04-17T10:37:15.295Z"
   },
   {
    "duration": 86642,
    "start_time": "2023-04-17T10:37:15.310Z"
   },
   {
    "duration": 5,
    "start_time": "2023-04-17T10:38:41.957Z"
   },
   {
    "duration": 5,
    "start_time": "2023-04-17T10:38:41.964Z"
   },
   {
    "duration": 6,
    "start_time": "2023-04-17T10:38:41.971Z"
   },
   {
    "duration": 98,
    "start_time": "2023-04-17T10:38:41.978Z"
   },
   {
    "duration": 4,
    "start_time": "2023-04-17T10:38:42.078Z"
   },
   {
    "duration": 10,
    "start_time": "2023-04-17T10:38:42.093Z"
   },
   {
    "duration": 769,
    "start_time": "2023-04-17T10:38:42.105Z"
   },
   {
    "duration": 7,
    "start_time": "2023-04-17T10:38:42.876Z"
   },
   {
    "duration": 2079,
    "start_time": "2023-04-17T10:42:05.667Z"
   },
   {
    "duration": 61,
    "start_time": "2023-04-17T10:42:07.749Z"
   },
   {
    "duration": 18,
    "start_time": "2023-04-17T10:42:07.812Z"
   },
   {
    "duration": 19,
    "start_time": "2023-04-17T10:42:07.833Z"
   },
   {
    "duration": 42,
    "start_time": "2023-04-17T10:42:07.854Z"
   },
   {
    "duration": 15,
    "start_time": "2023-04-17T10:42:07.899Z"
   },
   {
    "duration": 8,
    "start_time": "2023-04-17T10:42:07.916Z"
   },
   {
    "duration": 7,
    "start_time": "2023-04-17T10:42:07.926Z"
   },
   {
    "duration": 8,
    "start_time": "2023-04-17T10:42:07.935Z"
   },
   {
    "duration": 47,
    "start_time": "2023-04-17T10:42:07.947Z"
   },
   {
    "duration": 12,
    "start_time": "2023-04-17T10:42:07.996Z"
   },
   {
    "duration": 1123,
    "start_time": "2023-04-17T10:42:08.011Z"
   },
   {
    "duration": 284,
    "start_time": "2023-04-17T10:42:09.137Z"
   },
   {
    "duration": 9,
    "start_time": "2023-04-17T10:42:09.424Z"
   },
   {
    "duration": 25,
    "start_time": "2023-04-17T10:42:09.436Z"
   },
   {
    "duration": 267,
    "start_time": "2023-04-17T10:42:09.463Z"
   },
   {
    "duration": 6,
    "start_time": "2023-04-17T10:42:09.732Z"
   },
   {
    "duration": 35,
    "start_time": "2023-04-17T10:42:09.740Z"
   },
   {
    "duration": 26,
    "start_time": "2023-04-17T10:42:09.778Z"
   },
   {
    "duration": 14,
    "start_time": "2023-04-17T10:42:09.806Z"
   },
   {
    "duration": 12,
    "start_time": "2023-04-17T10:42:09.823Z"
   },
   {
    "duration": 9,
    "start_time": "2023-04-17T10:42:09.837Z"
   },
   {
    "duration": 10,
    "start_time": "2023-04-17T10:42:09.848Z"
   },
   {
    "duration": 18,
    "start_time": "2023-04-17T10:42:09.860Z"
   },
   {
    "duration": 13,
    "start_time": "2023-04-17T10:42:09.880Z"
   },
   {
    "duration": 16,
    "start_time": "2023-04-17T10:42:09.895Z"
   },
   {
    "duration": 89889,
    "start_time": "2023-04-17T10:42:09.913Z"
   },
   {
    "duration": 8,
    "start_time": "2023-04-17T10:43:39.807Z"
   },
   {
    "duration": 17,
    "start_time": "2023-04-17T10:43:39.820Z"
   },
   {
    "duration": 4,
    "start_time": "2023-04-17T10:43:39.840Z"
   },
   {
    "duration": 136,
    "start_time": "2023-04-17T10:43:39.847Z"
   },
   {
    "duration": 10,
    "start_time": "2023-04-17T10:43:39.986Z"
   },
   {
    "duration": 11,
    "start_time": "2023-04-17T10:43:39.999Z"
   },
   {
    "duration": 896,
    "start_time": "2023-04-17T10:43:40.012Z"
   },
   {
    "duration": 11,
    "start_time": "2023-04-17T10:43:40.910Z"
   },
   {
    "duration": 1665,
    "start_time": "2023-04-17T10:47:15.323Z"
   },
   {
    "duration": 71,
    "start_time": "2023-04-17T10:47:16.990Z"
   },
   {
    "duration": 13,
    "start_time": "2023-04-17T10:47:17.063Z"
   },
   {
    "duration": 22,
    "start_time": "2023-04-17T10:47:17.079Z"
   },
   {
    "duration": 26,
    "start_time": "2023-04-17T10:47:17.103Z"
   },
   {
    "duration": 13,
    "start_time": "2023-04-17T10:47:17.131Z"
   },
   {
    "duration": 20,
    "start_time": "2023-04-17T10:47:17.147Z"
   },
   {
    "duration": 11,
    "start_time": "2023-04-17T10:47:17.170Z"
   },
   {
    "duration": 13,
    "start_time": "2023-04-17T10:47:17.183Z"
   },
   {
    "duration": 29,
    "start_time": "2023-04-17T10:47:17.201Z"
   },
   {
    "duration": 10,
    "start_time": "2023-04-17T10:47:17.232Z"
   },
   {
    "duration": 2075,
    "start_time": "2023-04-17T10:47:17.245Z"
   },
   {
    "duration": 515,
    "start_time": "2023-04-17T10:47:19.322Z"
   },
   {
    "duration": 61,
    "start_time": "2023-04-17T10:47:19.839Z"
   },
   {
    "duration": 8,
    "start_time": "2023-04-17T10:47:19.903Z"
   },
   {
    "duration": 533,
    "start_time": "2023-04-17T10:47:19.914Z"
   },
   {
    "duration": 5,
    "start_time": "2023-04-17T10:47:20.449Z"
   },
   {
    "duration": 59,
    "start_time": "2023-04-17T10:47:20.457Z"
   },
   {
    "duration": 6,
    "start_time": "2023-04-17T10:47:20.518Z"
   },
   {
    "duration": 32,
    "start_time": "2023-04-17T10:47:20.526Z"
   },
   {
    "duration": 18,
    "start_time": "2023-04-17T10:47:20.560Z"
   },
   {
    "duration": 21,
    "start_time": "2023-04-17T10:47:20.581Z"
   },
   {
    "duration": 7,
    "start_time": "2023-04-17T10:47:20.604Z"
   },
   {
    "duration": 7,
    "start_time": "2023-04-17T10:47:20.618Z"
   },
   {
    "duration": 11,
    "start_time": "2023-04-17T10:47:20.628Z"
   },
   {
    "duration": 27,
    "start_time": "2023-04-17T10:47:20.642Z"
   },
   {
    "duration": 91906,
    "start_time": "2023-04-17T10:47:20.672Z"
   },
   {
    "duration": 4,
    "start_time": "2023-04-17T10:48:52.582Z"
   },
   {
    "duration": 13,
    "start_time": "2023-04-17T10:48:52.588Z"
   },
   {
    "duration": 8,
    "start_time": "2023-04-17T10:48:52.603Z"
   },
   {
    "duration": 90,
    "start_time": "2023-04-17T10:48:52.617Z"
   },
   {
    "duration": 8,
    "start_time": "2023-04-17T10:48:52.712Z"
   },
   {
    "duration": 17,
    "start_time": "2023-04-17T10:48:52.722Z"
   },
   {
    "duration": 857,
    "start_time": "2023-04-17T10:48:52.742Z"
   },
   {
    "duration": 13,
    "start_time": "2023-04-17T10:48:53.601Z"
   },
   {
    "duration": 1597,
    "start_time": "2023-04-17T10:50:16.538Z"
   },
   {
    "duration": 48,
    "start_time": "2023-04-17T10:50:18.137Z"
   },
   {
    "duration": 20,
    "start_time": "2023-04-17T10:50:18.186Z"
   },
   {
    "duration": 18,
    "start_time": "2023-04-17T10:50:18.214Z"
   },
   {
    "duration": 42,
    "start_time": "2023-04-17T10:50:18.233Z"
   },
   {
    "duration": 10,
    "start_time": "2023-04-17T10:50:18.277Z"
   },
   {
    "duration": 37,
    "start_time": "2023-04-17T10:50:18.288Z"
   },
   {
    "duration": 5,
    "start_time": "2023-04-17T10:50:18.327Z"
   },
   {
    "duration": 14,
    "start_time": "2023-04-17T10:50:18.334Z"
   },
   {
    "duration": 37,
    "start_time": "2023-04-17T10:50:18.352Z"
   },
   {
    "duration": 24,
    "start_time": "2023-04-17T10:50:18.391Z"
   },
   {
    "duration": 1679,
    "start_time": "2023-04-17T10:50:18.417Z"
   },
   {
    "duration": 426,
    "start_time": "2023-04-17T10:50:20.109Z"
   },
   {
    "duration": 62,
    "start_time": "2023-04-17T10:50:20.537Z"
   },
   {
    "duration": 16,
    "start_time": "2023-04-17T10:50:20.607Z"
   },
   {
    "duration": 571,
    "start_time": "2023-04-17T10:50:20.627Z"
   },
   {
    "duration": 6,
    "start_time": "2023-04-17T10:50:21.200Z"
   },
   {
    "duration": 43,
    "start_time": "2023-04-17T10:50:21.208Z"
   },
   {
    "duration": 5,
    "start_time": "2023-04-17T10:50:21.253Z"
   },
   {
    "duration": 39,
    "start_time": "2023-04-17T10:50:21.260Z"
   },
   {
    "duration": 16,
    "start_time": "2023-04-17T10:50:21.302Z"
   },
   {
    "duration": 17,
    "start_time": "2023-04-17T10:50:21.321Z"
   },
   {
    "duration": 5,
    "start_time": "2023-04-17T10:50:21.340Z"
   },
   {
    "duration": 51,
    "start_time": "2023-04-17T10:50:21.347Z"
   },
   {
    "duration": 8,
    "start_time": "2023-04-17T10:50:21.399Z"
   },
   {
    "duration": 24,
    "start_time": "2023-04-17T10:50:21.415Z"
   },
   {
    "duration": 101321,
    "start_time": "2023-04-17T10:50:21.441Z"
   },
   {
    "duration": 5,
    "start_time": "2023-04-17T10:52:02.766Z"
   },
   {
    "duration": 9,
    "start_time": "2023-04-17T10:52:02.773Z"
   },
   {
    "duration": 3,
    "start_time": "2023-04-17T10:52:02.785Z"
   },
   {
    "duration": 109,
    "start_time": "2023-04-17T10:52:02.790Z"
   },
   {
    "duration": 6,
    "start_time": "2023-04-17T10:52:02.900Z"
   },
   {
    "duration": 20,
    "start_time": "2023-04-17T10:52:02.910Z"
   },
   {
    "duration": 707,
    "start_time": "2023-04-17T10:52:02.936Z"
   },
   {
    "duration": 6,
    "start_time": "2023-04-17T10:52:03.645Z"
   },
   {
    "duration": 1794,
    "start_time": "2023-04-17T10:53:00.328Z"
   },
   {
    "duration": 60,
    "start_time": "2023-04-17T10:53:02.129Z"
   },
   {
    "duration": 18,
    "start_time": "2023-04-17T10:53:02.192Z"
   },
   {
    "duration": 34,
    "start_time": "2023-04-17T10:53:02.213Z"
   },
   {
    "duration": 34,
    "start_time": "2023-04-17T10:53:02.250Z"
   },
   {
    "duration": 13,
    "start_time": "2023-04-17T10:53:02.287Z"
   },
   {
    "duration": 30,
    "start_time": "2023-04-17T10:53:02.303Z"
   },
   {
    "duration": 24,
    "start_time": "2023-04-17T10:53:02.336Z"
   },
   {
    "duration": 21,
    "start_time": "2023-04-17T10:53:02.363Z"
   },
   {
    "duration": 23,
    "start_time": "2023-04-17T10:53:02.389Z"
   },
   {
    "duration": 31,
    "start_time": "2023-04-17T10:53:02.415Z"
   },
   {
    "duration": 1103,
    "start_time": "2023-04-17T10:53:02.448Z"
   },
   {
    "duration": 212,
    "start_time": "2023-04-17T10:53:03.553Z"
   },
   {
    "duration": 8,
    "start_time": "2023-04-17T10:53:03.768Z"
   },
   {
    "duration": 21,
    "start_time": "2023-04-17T10:53:03.778Z"
   },
   {
    "duration": 257,
    "start_time": "2023-04-17T10:53:03.801Z"
   },
   {
    "duration": 4,
    "start_time": "2023-04-17T10:53:04.060Z"
   },
   {
    "duration": 39,
    "start_time": "2023-04-17T10:53:04.066Z"
   },
   {
    "duration": 6,
    "start_time": "2023-04-17T10:53:04.107Z"
   },
   {
    "duration": 6,
    "start_time": "2023-04-17T10:53:04.118Z"
   },
   {
    "duration": 13,
    "start_time": "2023-04-17T10:53:04.126Z"
   },
   {
    "duration": 27,
    "start_time": "2023-04-17T10:53:04.141Z"
   },
   {
    "duration": 5,
    "start_time": "2023-04-17T10:53:04.170Z"
   },
   {
    "duration": 6,
    "start_time": "2023-04-17T10:53:04.178Z"
   },
   {
    "duration": 20,
    "start_time": "2023-04-17T10:53:04.186Z"
   },
   {
    "duration": 17,
    "start_time": "2023-04-17T10:53:04.208Z"
   },
   {
    "duration": 89275,
    "start_time": "2023-04-17T10:53:04.228Z"
   },
   {
    "duration": 6,
    "start_time": "2023-04-17T10:54:33.510Z"
   },
   {
    "duration": 15,
    "start_time": "2023-04-17T10:54:33.519Z"
   },
   {
    "duration": 4,
    "start_time": "2023-04-17T10:54:33.537Z"
   },
   {
    "duration": 126,
    "start_time": "2023-04-17T10:54:33.543Z"
   },
   {
    "duration": 5,
    "start_time": "2023-04-17T10:54:33.672Z"
   },
   {
    "duration": 41,
    "start_time": "2023-04-17T10:54:33.679Z"
   },
   {
    "duration": 913,
    "start_time": "2023-04-17T10:54:33.723Z"
   },
   {
    "duration": 8,
    "start_time": "2023-04-17T10:54:34.638Z"
   },
   {
    "duration": 2047,
    "start_time": "2023-04-17T10:56:33.100Z"
   },
   {
    "duration": 65,
    "start_time": "2023-04-17T10:56:35.150Z"
   },
   {
    "duration": 14,
    "start_time": "2023-04-17T10:56:35.217Z"
   },
   {
    "duration": 19,
    "start_time": "2023-04-17T10:56:35.233Z"
   },
   {
    "duration": 18,
    "start_time": "2023-04-17T10:56:35.256Z"
   },
   {
    "duration": 37,
    "start_time": "2023-04-17T10:56:35.276Z"
   },
   {
    "duration": 5,
    "start_time": "2023-04-17T10:56:35.317Z"
   },
   {
    "duration": 4,
    "start_time": "2023-04-17T10:56:35.325Z"
   },
   {
    "duration": 15,
    "start_time": "2023-04-17T10:56:35.332Z"
   },
   {
    "duration": 14,
    "start_time": "2023-04-17T10:56:35.349Z"
   },
   {
    "duration": 13,
    "start_time": "2023-04-17T10:56:35.365Z"
   },
   {
    "duration": 1117,
    "start_time": "2023-04-17T10:56:35.393Z"
   },
   {
    "duration": 276,
    "start_time": "2023-04-17T10:56:36.511Z"
   },
   {
    "duration": 8,
    "start_time": "2023-04-17T10:56:36.790Z"
   },
   {
    "duration": 9,
    "start_time": "2023-04-17T10:56:36.800Z"
   },
   {
    "duration": 312,
    "start_time": "2023-04-17T10:56:36.811Z"
   },
   {
    "duration": 5,
    "start_time": "2023-04-17T10:56:37.125Z"
   },
   {
    "duration": 23,
    "start_time": "2023-04-17T10:56:37.132Z"
   },
   {
    "duration": 7,
    "start_time": "2023-04-17T10:56:37.157Z"
   },
   {
    "duration": 33,
    "start_time": "2023-04-17T10:56:37.166Z"
   },
   {
    "duration": 7,
    "start_time": "2023-04-17T10:56:37.201Z"
   },
   {
    "duration": 6,
    "start_time": "2023-04-17T10:56:37.215Z"
   },
   {
    "duration": 7,
    "start_time": "2023-04-17T10:56:37.223Z"
   },
   {
    "duration": 12,
    "start_time": "2023-04-17T10:56:37.233Z"
   },
   {
    "duration": 5,
    "start_time": "2023-04-17T10:56:37.248Z"
   },
   {
    "duration": 39,
    "start_time": "2023-04-17T10:56:37.255Z"
   },
   {
    "duration": 102704,
    "start_time": "2023-04-17T10:56:37.296Z"
   },
   {
    "duration": 11,
    "start_time": "2023-04-17T10:58:20.002Z"
   },
   {
    "duration": 9,
    "start_time": "2023-04-17T10:58:20.019Z"
   },
   {
    "duration": 40,
    "start_time": "2023-04-17T10:58:20.031Z"
   },
   {
    "duration": 148,
    "start_time": "2023-04-17T10:58:20.073Z"
   },
   {
    "duration": 12,
    "start_time": "2023-04-17T10:58:20.223Z"
   },
   {
    "duration": 23,
    "start_time": "2023-04-17T10:58:20.238Z"
   },
   {
    "duration": 1327,
    "start_time": "2023-04-17T10:58:20.264Z"
   },
   {
    "duration": 9,
    "start_time": "2023-04-17T10:58:21.596Z"
   },
   {
    "duration": 2041,
    "start_time": "2023-04-17T10:58:56.618Z"
   },
   {
    "duration": 49,
    "start_time": "2023-04-17T10:58:58.662Z"
   },
   {
    "duration": 15,
    "start_time": "2023-04-17T10:58:58.713Z"
   },
   {
    "duration": 15,
    "start_time": "2023-04-17T10:58:58.731Z"
   },
   {
    "duration": 19,
    "start_time": "2023-04-17T10:58:58.748Z"
   },
   {
    "duration": 14,
    "start_time": "2023-04-17T10:58:58.793Z"
   },
   {
    "duration": 11,
    "start_time": "2023-04-17T10:58:58.810Z"
   },
   {
    "duration": 3,
    "start_time": "2023-04-17T10:58:58.824Z"
   },
   {
    "duration": 11,
    "start_time": "2023-04-17T10:58:58.830Z"
   },
   {
    "duration": 10,
    "start_time": "2023-04-17T10:58:58.845Z"
   },
   {
    "duration": 35,
    "start_time": "2023-04-17T10:58:58.858Z"
   },
   {
    "duration": 1162,
    "start_time": "2023-04-17T10:58:58.896Z"
   },
   {
    "duration": 203,
    "start_time": "2023-04-17T10:59:00.060Z"
   },
   {
    "duration": 8,
    "start_time": "2023-04-17T10:59:00.266Z"
   },
   {
    "duration": 50,
    "start_time": "2023-04-17T10:59:00.276Z"
   },
   {
    "duration": 360,
    "start_time": "2023-04-17T10:59:00.329Z"
   },
   {
    "duration": 9,
    "start_time": "2023-04-17T10:59:00.695Z"
   },
   {
    "duration": 55,
    "start_time": "2023-04-17T10:59:00.708Z"
   },
   {
    "duration": 30,
    "start_time": "2023-04-17T10:59:00.766Z"
   },
   {
    "duration": 28,
    "start_time": "2023-04-17T10:59:00.799Z"
   },
   {
    "duration": 47,
    "start_time": "2023-04-17T10:59:00.835Z"
   },
   {
    "duration": 26,
    "start_time": "2023-04-17T10:59:00.888Z"
   },
   {
    "duration": 47,
    "start_time": "2023-04-17T10:59:00.917Z"
   },
   {
    "duration": 51,
    "start_time": "2023-04-17T10:59:00.971Z"
   },
   {
    "duration": 30,
    "start_time": "2023-04-17T10:59:01.025Z"
   },
   {
    "duration": 56,
    "start_time": "2023-04-17T10:59:01.058Z"
   },
   {
    "duration": 116772,
    "start_time": "2023-04-17T10:59:01.116Z"
   },
   {
    "duration": 14,
    "start_time": "2023-04-17T11:00:57.900Z"
   },
   {
    "duration": 40,
    "start_time": "2023-04-17T11:00:57.925Z"
   },
   {
    "duration": 18,
    "start_time": "2023-04-17T11:00:57.968Z"
   },
   {
    "duration": 162,
    "start_time": "2023-04-17T11:00:57.989Z"
   },
   {
    "duration": 12,
    "start_time": "2023-04-17T11:00:58.153Z"
   },
   {
    "duration": 53,
    "start_time": "2023-04-17T11:00:58.167Z"
   },
   {
    "duration": 1012,
    "start_time": "2023-04-17T11:00:58.223Z"
   },
   {
    "duration": 12,
    "start_time": "2023-04-17T11:00:59.239Z"
   },
   {
    "duration": 1866,
    "start_time": "2023-04-17T11:01:31.072Z"
   },
   {
    "duration": 50,
    "start_time": "2023-04-17T11:01:32.941Z"
   },
   {
    "duration": 27,
    "start_time": "2023-04-17T11:01:32.993Z"
   },
   {
    "duration": 17,
    "start_time": "2023-04-17T11:01:33.029Z"
   },
   {
    "duration": 18,
    "start_time": "2023-04-17T11:01:33.048Z"
   },
   {
    "duration": 9,
    "start_time": "2023-04-17T11:01:33.069Z"
   },
   {
    "duration": 23,
    "start_time": "2023-04-17T11:01:33.080Z"
   },
   {
    "duration": 26,
    "start_time": "2023-04-17T11:01:33.105Z"
   },
   {
    "duration": 7,
    "start_time": "2023-04-17T11:01:33.134Z"
   },
   {
    "duration": 10,
    "start_time": "2023-04-17T11:01:33.144Z"
   },
   {
    "duration": 15,
    "start_time": "2023-04-17T11:01:33.157Z"
   },
   {
    "duration": 1450,
    "start_time": "2023-04-17T11:01:33.174Z"
   },
   {
    "duration": 273,
    "start_time": "2023-04-17T11:01:34.626Z"
   },
   {
    "duration": 9,
    "start_time": "2023-04-17T11:01:34.902Z"
   },
   {
    "duration": 23,
    "start_time": "2023-04-17T11:01:34.914Z"
   },
   {
    "duration": 290,
    "start_time": "2023-04-17T11:01:34.957Z"
   },
   {
    "duration": 8,
    "start_time": "2023-04-17T11:01:35.251Z"
   },
   {
    "duration": 25,
    "start_time": "2023-04-17T11:01:35.261Z"
   },
   {
    "duration": 8,
    "start_time": "2023-04-17T11:01:35.295Z"
   },
   {
    "duration": 13,
    "start_time": "2023-04-17T11:01:35.306Z"
   },
   {
    "duration": 10,
    "start_time": "2023-04-17T11:01:35.321Z"
   },
   {
    "duration": 6,
    "start_time": "2023-04-17T11:01:35.336Z"
   },
   {
    "duration": 6,
    "start_time": "2023-04-17T11:01:35.345Z"
   },
   {
    "duration": 8,
    "start_time": "2023-04-17T11:01:35.353Z"
   },
   {
    "duration": 14,
    "start_time": "2023-04-17T11:01:35.363Z"
   },
   {
    "duration": 21,
    "start_time": "2023-04-17T11:01:35.379Z"
   },
   {
    "duration": 103823,
    "start_time": "2023-04-17T11:01:35.404Z"
   },
   {
    "duration": 25,
    "start_time": "2023-04-17T11:03:19.241Z"
   },
   {
    "duration": 3,
    "start_time": "2023-04-17T11:03:19.268Z"
   },
   {
    "duration": 5,
    "start_time": "2023-04-17T11:03:19.274Z"
   },
   {
    "duration": 136,
    "start_time": "2023-04-17T11:03:19.282Z"
   },
   {
    "duration": 6,
    "start_time": "2023-04-17T11:03:19.421Z"
   },
   {
    "duration": 14,
    "start_time": "2023-04-17T11:03:19.429Z"
   },
   {
    "duration": 690,
    "start_time": "2023-04-17T11:03:19.446Z"
   },
   {
    "duration": 8,
    "start_time": "2023-04-17T11:03:20.138Z"
   },
   {
    "duration": 1889,
    "start_time": "2023-04-17T11:04:08.625Z"
   },
   {
    "duration": 57,
    "start_time": "2023-04-17T11:04:10.517Z"
   },
   {
    "duration": 19,
    "start_time": "2023-04-17T11:04:10.576Z"
   },
   {
    "duration": 27,
    "start_time": "2023-04-17T11:04:10.604Z"
   },
   {
    "duration": 18,
    "start_time": "2023-04-17T11:04:10.639Z"
   },
   {
    "duration": 14,
    "start_time": "2023-04-17T11:04:10.660Z"
   },
   {
    "duration": 11,
    "start_time": "2023-04-17T11:04:10.676Z"
   },
   {
    "duration": 5,
    "start_time": "2023-04-17T11:04:10.691Z"
   },
   {
    "duration": 12,
    "start_time": "2023-04-17T11:04:10.700Z"
   },
   {
    "duration": 12,
    "start_time": "2023-04-17T11:04:10.715Z"
   },
   {
    "duration": 13,
    "start_time": "2023-04-17T11:04:10.730Z"
   },
   {
    "duration": 1191,
    "start_time": "2023-04-17T11:04:10.746Z"
   },
   {
    "duration": 400,
    "start_time": "2023-04-17T11:04:11.939Z"
   },
   {
    "duration": 60,
    "start_time": "2023-04-17T11:04:12.346Z"
   },
   {
    "duration": 12,
    "start_time": "2023-04-17T11:04:12.409Z"
   },
   {
    "duration": 681,
    "start_time": "2023-04-17T11:04:12.424Z"
   },
   {
    "duration": 5,
    "start_time": "2023-04-17T11:04:13.108Z"
   },
   {
    "duration": 81,
    "start_time": "2023-04-17T11:04:13.115Z"
   },
   {
    "duration": 5,
    "start_time": "2023-04-17T11:04:13.198Z"
   },
   {
    "duration": 27,
    "start_time": "2023-04-17T11:04:13.208Z"
   },
   {
    "duration": 9,
    "start_time": "2023-04-17T11:04:13.238Z"
   },
   {
    "duration": 52,
    "start_time": "2023-04-17T11:04:13.249Z"
   },
   {
    "duration": 7,
    "start_time": "2023-04-17T11:04:13.312Z"
   },
   {
    "duration": 4,
    "start_time": "2023-04-17T11:04:13.324Z"
   },
   {
    "duration": 10,
    "start_time": "2023-04-17T11:04:13.330Z"
   },
   {
    "duration": 63,
    "start_time": "2023-04-17T11:04:13.342Z"
   },
   {
    "duration": 125447,
    "start_time": "2023-04-17T11:04:13.410Z"
   },
   {
    "duration": 16,
    "start_time": "2023-04-17T11:06:18.860Z"
   },
   {
    "duration": 15,
    "start_time": "2023-04-17T11:06:18.879Z"
   },
   {
    "duration": 15,
    "start_time": "2023-04-17T11:06:18.900Z"
   },
   {
    "duration": 187,
    "start_time": "2023-04-17T11:06:18.917Z"
   },
   {
    "duration": 5,
    "start_time": "2023-04-17T11:06:19.106Z"
   },
   {
    "duration": 19,
    "start_time": "2023-04-17T11:06:19.113Z"
   },
   {
    "duration": 1003,
    "start_time": "2023-04-17T11:06:19.138Z"
   },
   {
    "duration": 16,
    "start_time": "2023-04-17T11:06:20.144Z"
   },
   {
    "duration": 1727,
    "start_time": "2023-04-17T11:08:49.912Z"
   },
   {
    "duration": 63,
    "start_time": "2023-04-17T11:08:51.642Z"
   },
   {
    "duration": 19,
    "start_time": "2023-04-17T11:08:51.708Z"
   },
   {
    "duration": 21,
    "start_time": "2023-04-17T11:08:51.729Z"
   },
   {
    "duration": 22,
    "start_time": "2023-04-17T11:08:51.754Z"
   },
   {
    "duration": 18,
    "start_time": "2023-04-17T11:08:51.797Z"
   },
   {
    "duration": 7,
    "start_time": "2023-04-17T11:08:51.817Z"
   },
   {
    "duration": 10,
    "start_time": "2023-04-17T11:08:51.827Z"
   },
   {
    "duration": 10,
    "start_time": "2023-04-17T11:08:51.840Z"
   },
   {
    "duration": 14,
    "start_time": "2023-04-17T11:08:51.855Z"
   },
   {
    "duration": 30,
    "start_time": "2023-04-17T11:08:51.872Z"
   },
   {
    "duration": 1159,
    "start_time": "2023-04-17T11:08:51.907Z"
   },
   {
    "duration": 218,
    "start_time": "2023-04-17T11:08:53.068Z"
   },
   {
    "duration": 16,
    "start_time": "2023-04-17T11:08:53.290Z"
   },
   {
    "duration": 14,
    "start_time": "2023-04-17T11:08:53.313Z"
   },
   {
    "duration": 289,
    "start_time": "2023-04-17T11:08:53.329Z"
   },
   {
    "duration": 5,
    "start_time": "2023-04-17T11:08:53.621Z"
   },
   {
    "duration": 55,
    "start_time": "2023-04-17T11:08:53.628Z"
   },
   {
    "duration": 10,
    "start_time": "2023-04-17T11:08:53.685Z"
   },
   {
    "duration": 19,
    "start_time": "2023-04-17T11:08:53.700Z"
   },
   {
    "duration": 29,
    "start_time": "2023-04-17T11:08:53.721Z"
   },
   {
    "duration": 12,
    "start_time": "2023-04-17T11:08:53.753Z"
   },
   {
    "duration": 7,
    "start_time": "2023-04-17T11:08:53.768Z"
   },
   {
    "duration": 27,
    "start_time": "2023-04-17T11:08:53.777Z"
   },
   {
    "duration": 10,
    "start_time": "2023-04-17T11:08:53.806Z"
   },
   {
    "duration": 12,
    "start_time": "2023-04-17T11:08:53.818Z"
   },
   {
    "duration": 94354,
    "start_time": "2023-04-17T11:08:53.832Z"
   },
   {
    "duration": 6,
    "start_time": "2023-04-17T11:10:28.191Z"
   },
   {
    "duration": 12,
    "start_time": "2023-04-17T11:10:28.200Z"
   },
   {
    "duration": 5,
    "start_time": "2023-04-17T11:10:28.216Z"
   },
   {
    "duration": 140,
    "start_time": "2023-04-17T11:10:28.224Z"
   },
   {
    "duration": 5,
    "start_time": "2023-04-17T11:10:28.367Z"
   },
   {
    "duration": 28,
    "start_time": "2023-04-17T11:10:28.375Z"
   },
   {
    "duration": 721,
    "start_time": "2023-04-17T11:10:28.409Z"
   },
   {
    "duration": 7,
    "start_time": "2023-04-17T11:10:29.132Z"
   },
   {
    "duration": 2368,
    "start_time": "2023-04-17T11:11:26.069Z"
   },
   {
    "duration": 120,
    "start_time": "2023-04-17T11:11:28.440Z"
   },
   {
    "duration": 19,
    "start_time": "2023-04-17T11:11:28.595Z"
   },
   {
    "duration": 23,
    "start_time": "2023-04-17T11:11:28.617Z"
   },
   {
    "duration": 79,
    "start_time": "2023-04-17T11:11:28.643Z"
   },
   {
    "duration": 22,
    "start_time": "2023-04-17T11:11:28.725Z"
   },
   {
    "duration": 13,
    "start_time": "2023-04-17T11:11:28.750Z"
   },
   {
    "duration": 37,
    "start_time": "2023-04-17T11:11:28.766Z"
   },
   {
    "duration": 16,
    "start_time": "2023-04-17T11:11:28.806Z"
   },
   {
    "duration": 26,
    "start_time": "2023-04-17T11:11:28.833Z"
   },
   {
    "duration": 35,
    "start_time": "2023-04-17T11:11:28.895Z"
   },
   {
    "duration": 1924,
    "start_time": "2023-04-17T11:11:28.937Z"
   },
   {
    "duration": 278,
    "start_time": "2023-04-17T11:11:30.865Z"
   },
   {
    "duration": 9,
    "start_time": "2023-04-17T11:11:31.147Z"
   },
   {
    "duration": 22,
    "start_time": "2023-04-17T11:11:31.158Z"
   },
   {
    "duration": 296,
    "start_time": "2023-04-17T11:11:31.183Z"
   },
   {
    "duration": 5,
    "start_time": "2023-04-17T11:11:31.481Z"
   },
   {
    "duration": 59,
    "start_time": "2023-04-17T11:11:31.493Z"
   },
   {
    "duration": 11,
    "start_time": "2023-04-17T11:11:31.554Z"
   },
   {
    "duration": 47,
    "start_time": "2023-04-17T11:11:31.567Z"
   },
   {
    "duration": 43,
    "start_time": "2023-04-17T11:11:31.616Z"
   },
   {
    "duration": 24,
    "start_time": "2023-04-17T11:11:31.661Z"
   },
   {
    "duration": 34,
    "start_time": "2023-04-17T11:11:31.688Z"
   },
   {
    "duration": 27,
    "start_time": "2023-04-17T11:11:31.724Z"
   },
   {
    "duration": 13,
    "start_time": "2023-04-17T11:11:31.753Z"
   },
   {
    "duration": 26,
    "start_time": "2023-04-17T11:11:31.769Z"
   },
   {
    "duration": 99622,
    "start_time": "2023-04-17T11:11:31.797Z"
   },
   {
    "duration": 25,
    "start_time": "2023-04-17T11:13:11.438Z"
   },
   {
    "duration": 15,
    "start_time": "2023-04-17T11:13:11.476Z"
   },
   {
    "duration": 5,
    "start_time": "2023-04-17T11:13:11.499Z"
   },
   {
    "duration": 175,
    "start_time": "2023-04-17T11:13:11.508Z"
   },
   {
    "duration": 5,
    "start_time": "2023-04-17T11:13:11.686Z"
   },
   {
    "duration": 17,
    "start_time": "2023-04-17T11:13:11.697Z"
   },
   {
    "duration": 952,
    "start_time": "2023-04-17T11:13:11.717Z"
   },
   {
    "duration": 7,
    "start_time": "2023-04-17T11:13:12.671Z"
   },
   {
    "duration": 1780,
    "start_time": "2023-04-17T11:15:26.691Z"
   },
   {
    "duration": 67,
    "start_time": "2023-04-17T11:15:28.474Z"
   },
   {
    "duration": 11,
    "start_time": "2023-04-17T11:15:28.543Z"
   },
   {
    "duration": 13,
    "start_time": "2023-04-17T11:15:28.556Z"
   },
   {
    "duration": 22,
    "start_time": "2023-04-17T11:15:28.570Z"
   },
   {
    "duration": 25,
    "start_time": "2023-04-17T11:15:28.594Z"
   },
   {
    "duration": 19,
    "start_time": "2023-04-17T11:15:28.621Z"
   },
   {
    "duration": 4,
    "start_time": "2023-04-17T11:15:28.642Z"
   },
   {
    "duration": 10,
    "start_time": "2023-04-17T11:15:28.648Z"
   },
   {
    "duration": 25,
    "start_time": "2023-04-17T11:15:28.663Z"
   },
   {
    "duration": 20,
    "start_time": "2023-04-17T11:15:28.690Z"
   },
   {
    "duration": 1075,
    "start_time": "2023-04-17T11:15:28.714Z"
   },
   {
    "duration": 202,
    "start_time": "2023-04-17T11:15:29.791Z"
   },
   {
    "duration": 8,
    "start_time": "2023-04-17T11:15:29.995Z"
   },
   {
    "duration": 23,
    "start_time": "2023-04-17T11:15:30.004Z"
   },
   {
    "duration": 254,
    "start_time": "2023-04-17T11:15:30.029Z"
   },
   {
    "duration": 5,
    "start_time": "2023-04-17T11:15:30.285Z"
   },
   {
    "duration": 53,
    "start_time": "2023-04-17T11:15:30.295Z"
   },
   {
    "duration": 11,
    "start_time": "2023-04-17T11:15:30.350Z"
   },
   {
    "duration": 18,
    "start_time": "2023-04-17T11:15:30.364Z"
   },
   {
    "duration": 37,
    "start_time": "2023-04-17T11:15:30.384Z"
   },
   {
    "duration": 44,
    "start_time": "2023-04-17T11:15:30.423Z"
   },
   {
    "duration": 41,
    "start_time": "2023-04-17T11:15:30.469Z"
   },
   {
    "duration": 21,
    "start_time": "2023-04-17T11:15:30.512Z"
   },
   {
    "duration": 41,
    "start_time": "2023-04-17T11:15:30.535Z"
   },
   {
    "duration": 44,
    "start_time": "2023-04-17T11:15:30.578Z"
   },
   {
    "duration": 136824,
    "start_time": "2023-04-17T11:15:30.624Z"
   },
   {
    "duration": 5,
    "start_time": "2023-04-17T11:17:47.452Z"
   },
   {
    "duration": 4,
    "start_time": "2023-04-17T11:17:47.459Z"
   },
   {
    "duration": 4,
    "start_time": "2023-04-17T11:17:47.466Z"
   },
   {
    "duration": 173,
    "start_time": "2023-04-17T11:17:47.473Z"
   },
   {
    "duration": 4,
    "start_time": "2023-04-17T11:17:47.649Z"
   },
   {
    "duration": 23,
    "start_time": "2023-04-17T11:17:47.655Z"
   },
   {
    "duration": 1273,
    "start_time": "2023-04-17T11:17:47.680Z"
   },
   {
    "duration": 8,
    "start_time": "2023-04-17T11:17:48.956Z"
   },
   {
    "duration": 1640,
    "start_time": "2023-04-17T11:19:47.603Z"
   },
   {
    "duration": 61,
    "start_time": "2023-04-17T11:19:49.245Z"
   },
   {
    "duration": 17,
    "start_time": "2023-04-17T11:19:49.309Z"
   },
   {
    "duration": 13,
    "start_time": "2023-04-17T11:19:49.328Z"
   },
   {
    "duration": 17,
    "start_time": "2023-04-17T11:19:49.343Z"
   },
   {
    "duration": 34,
    "start_time": "2023-04-17T11:19:49.362Z"
   },
   {
    "duration": 6,
    "start_time": "2023-04-17T11:19:49.408Z"
   },
   {
    "duration": 6,
    "start_time": "2023-04-17T11:19:49.415Z"
   },
   {
    "duration": 25,
    "start_time": "2023-04-17T11:19:49.423Z"
   },
   {
    "duration": 11,
    "start_time": "2023-04-17T11:19:49.451Z"
   },
   {
    "duration": 15,
    "start_time": "2023-04-17T11:19:49.464Z"
   },
   {
    "duration": 1002,
    "start_time": "2023-04-17T11:19:49.481Z"
   },
   {
    "duration": 201,
    "start_time": "2023-04-17T11:19:50.492Z"
   },
   {
    "duration": 13,
    "start_time": "2023-04-17T11:19:50.695Z"
   },
   {
    "duration": 31,
    "start_time": "2023-04-17T11:19:50.712Z"
   },
   {
    "duration": 261,
    "start_time": "2023-04-17T11:19:50.745Z"
   },
   {
    "duration": 6,
    "start_time": "2023-04-17T11:19:51.009Z"
   },
   {
    "duration": 27,
    "start_time": "2023-04-17T11:19:51.017Z"
   },
   {
    "duration": 24,
    "start_time": "2023-04-17T11:19:51.046Z"
   },
   {
    "duration": 13,
    "start_time": "2023-04-17T11:19:51.072Z"
   },
   {
    "duration": 25,
    "start_time": "2023-04-17T11:19:51.086Z"
   },
   {
    "duration": 27,
    "start_time": "2023-04-17T11:19:51.113Z"
   },
   {
    "duration": 19,
    "start_time": "2023-04-17T11:19:51.143Z"
   },
   {
    "duration": 19,
    "start_time": "2023-04-17T11:19:51.164Z"
   },
   {
    "duration": 8,
    "start_time": "2023-04-17T11:19:51.185Z"
   },
   {
    "duration": 21,
    "start_time": "2023-04-17T11:19:51.195Z"
   },
   {
    "duration": 87130,
    "start_time": "2023-04-17T11:19:51.219Z"
   },
   {
    "duration": 4,
    "start_time": "2023-04-17T11:21:18.353Z"
   },
   {
    "duration": 8,
    "start_time": "2023-04-17T11:21:18.359Z"
   },
   {
    "duration": 4,
    "start_time": "2023-04-17T11:21:18.369Z"
   },
   {
    "duration": 140,
    "start_time": "2023-04-17T11:21:18.375Z"
   },
   {
    "duration": 6,
    "start_time": "2023-04-17T11:21:18.518Z"
   },
   {
    "duration": 10,
    "start_time": "2023-04-17T11:21:18.526Z"
   },
   {
    "duration": 736,
    "start_time": "2023-04-17T11:21:18.538Z"
   },
   {
    "duration": 8,
    "start_time": "2023-04-17T11:21:19.277Z"
   },
   {
    "duration": 12,
    "start_time": "2023-04-17T11:38:17.820Z"
   },
   {
    "duration": 133,
    "start_time": "2023-04-17T11:38:28.757Z"
   },
   {
    "duration": 216,
    "start_time": "2023-04-17T11:40:17.223Z"
   },
   {
    "duration": 367,
    "start_time": "2023-04-17T11:41:28.132Z"
   },
   {
    "duration": 145,
    "start_time": "2023-04-17T11:42:19.020Z"
   },
   {
    "duration": 164,
    "start_time": "2023-04-17T11:42:33.556Z"
   },
   {
    "duration": 269,
    "start_time": "2023-04-17T11:45:31.016Z"
   },
   {
    "duration": 332,
    "start_time": "2023-04-17T11:46:30.115Z"
   },
   {
    "duration": 49,
    "start_time": "2023-04-17T11:47:29.483Z"
   },
   {
    "duration": 406,
    "start_time": "2023-04-17T11:47:38.619Z"
   },
   {
    "duration": 34,
    "start_time": "2023-04-17T11:48:12.947Z"
   },
   {
    "duration": 27,
    "start_time": "2023-04-17T11:48:30.274Z"
   },
   {
    "duration": 38,
    "start_time": "2023-04-17T11:48:33.539Z"
   },
   {
    "duration": 434,
    "start_time": "2023-04-17T11:49:58.978Z"
   },
   {
    "duration": 427,
    "start_time": "2023-04-17T11:50:58.316Z"
   },
   {
    "duration": 5,
    "start_time": "2023-04-17T11:51:05.252Z"
   },
   {
    "duration": 334,
    "start_time": "2023-04-17T11:51:18.873Z"
   },
   {
    "duration": 336,
    "start_time": "2023-04-17T11:51:33.745Z"
   },
   {
    "duration": 6,
    "start_time": "2023-04-17T11:52:13.585Z"
   },
   {
    "duration": 347,
    "start_time": "2023-04-17T11:52:39.908Z"
   },
   {
    "duration": 451,
    "start_time": "2023-04-17T11:54:03.850Z"
   },
   {
    "duration": 46,
    "start_time": "2023-04-17T11:54:40.849Z"
   },
   {
    "duration": 351,
    "start_time": "2023-04-17T11:54:52.552Z"
   },
   {
    "duration": 377,
    "start_time": "2023-04-17T11:56:51.273Z"
   },
   {
    "duration": 348,
    "start_time": "2023-04-17T11:57:14.176Z"
   },
   {
    "duration": 359,
    "start_time": "2023-04-17T11:57:24.673Z"
   },
   {
    "duration": 278,
    "start_time": "2023-04-17T12:01:15.728Z"
   },
   {
    "duration": 349,
    "start_time": "2023-04-17T12:01:39.927Z"
   },
   {
    "duration": 278,
    "start_time": "2023-04-17T12:03:41.013Z"
   },
   {
    "duration": 271,
    "start_time": "2023-04-17T12:03:56.533Z"
   },
   {
    "duration": 402,
    "start_time": "2023-04-17T12:04:08.710Z"
   },
   {
    "duration": 286,
    "start_time": "2023-04-17T12:04:19.296Z"
   },
   {
    "duration": 333,
    "start_time": "2023-04-17T12:04:30.581Z"
   },
   {
    "duration": 291,
    "start_time": "2023-04-17T12:04:36.877Z"
   },
   {
    "duration": 268,
    "start_time": "2023-04-17T12:04:44.917Z"
   },
   {
    "duration": 282,
    "start_time": "2023-04-17T12:04:58.853Z"
   },
   {
    "duration": 303,
    "start_time": "2023-04-17T12:05:08.318Z"
   },
   {
    "duration": 275,
    "start_time": "2023-04-17T12:05:14.566Z"
   },
   {
    "duration": 276,
    "start_time": "2023-04-17T12:05:21.869Z"
   },
   {
    "duration": 327,
    "start_time": "2023-04-17T12:05:30.741Z"
   },
   {
    "duration": 300,
    "start_time": "2023-04-17T12:05:51.533Z"
   },
   {
    "duration": 310,
    "start_time": "2023-04-17T12:06:01.010Z"
   },
   {
    "duration": 330,
    "start_time": "2023-04-17T12:06:14.981Z"
   },
   {
    "duration": 441,
    "start_time": "2023-04-17T12:06:27.812Z"
   },
   {
    "duration": 310,
    "start_time": "2023-04-17T12:06:35.357Z"
   },
   {
    "duration": 305,
    "start_time": "2023-04-17T12:06:57.815Z"
   },
   {
    "duration": 5,
    "start_time": "2023-04-17T12:10:32.140Z"
   },
   {
    "duration": 5,
    "start_time": "2023-04-17T12:10:38.200Z"
   },
   {
    "duration": 324,
    "start_time": "2023-04-17T12:10:44.237Z"
   },
   {
    "duration": 467,
    "start_time": "2023-04-17T12:11:00.181Z"
   },
   {
    "duration": 6,
    "start_time": "2023-04-17T12:11:08.411Z"
   },
   {
    "duration": 8,
    "start_time": "2023-04-17T12:11:43.870Z"
   },
   {
    "duration": 402,
    "start_time": "2023-04-17T12:11:48.979Z"
   },
   {
    "duration": 326,
    "start_time": "2023-04-17T12:11:55.452Z"
   },
   {
    "duration": 30,
    "start_time": "2023-04-17T12:13:00.460Z"
   },
   {
    "duration": 24,
    "start_time": "2023-04-17T12:13:03.331Z"
   },
   {
    "duration": 335,
    "start_time": "2023-04-17T12:13:13.435Z"
   },
   {
    "duration": 341,
    "start_time": "2023-04-17T12:14:31.139Z"
   },
   {
    "duration": 27,
    "start_time": "2023-04-17T12:17:46.275Z"
   },
   {
    "duration": 7,
    "start_time": "2023-04-17T12:17:53.619Z"
   },
   {
    "duration": 343,
    "start_time": "2023-04-17T12:18:19.729Z"
   },
   {
    "duration": 11,
    "start_time": "2023-04-17T12:18:44.842Z"
   },
   {
    "duration": 324,
    "start_time": "2023-04-17T12:21:40.576Z"
   },
   {
    "duration": 279,
    "start_time": "2023-04-17T12:23:06.943Z"
   },
   {
    "duration": 339,
    "start_time": "2023-04-17T12:23:44.144Z"
   },
   {
    "duration": 7,
    "start_time": "2023-04-17T12:24:02.977Z"
   },
   {
    "duration": 9,
    "start_time": "2023-04-17T12:34:51.676Z"
   },
   {
    "duration": 13,
    "start_time": "2023-04-17T12:37:21.060Z"
   },
   {
    "duration": 11,
    "start_time": "2023-04-17T12:37:28.131Z"
   },
   {
    "duration": 7,
    "start_time": "2023-04-17T12:37:33.322Z"
   },
   {
    "duration": 471,
    "start_time": "2023-04-17T12:38:26.250Z"
   },
   {
    "duration": 17,
    "start_time": "2023-04-17T12:39:56.954Z"
   },
   {
    "duration": 16,
    "start_time": "2023-04-17T12:40:08.179Z"
   },
   {
    "duration": 14,
    "start_time": "2023-04-17T12:40:13.451Z"
   },
   {
    "duration": 908,
    "start_time": "2023-04-17T12:40:20.746Z"
   },
   {
    "duration": 1186,
    "start_time": "2023-04-17T12:41:35.678Z"
   },
   {
    "duration": 1590,
    "start_time": "2023-04-17T12:42:08.107Z"
   },
   {
    "duration": 48,
    "start_time": "2023-04-17T12:42:09.699Z"
   },
   {
    "duration": 11,
    "start_time": "2023-04-17T12:42:09.749Z"
   },
   {
    "duration": 13,
    "start_time": "2023-04-17T12:42:09.762Z"
   },
   {
    "duration": 12,
    "start_time": "2023-04-17T12:42:09.777Z"
   },
   {
    "duration": 13,
    "start_time": "2023-04-17T12:42:09.792Z"
   },
   {
    "duration": 24,
    "start_time": "2023-04-17T12:42:09.808Z"
   },
   {
    "duration": 21,
    "start_time": "2023-04-17T12:42:09.835Z"
   },
   {
    "duration": 12,
    "start_time": "2023-04-17T12:42:09.858Z"
   },
   {
    "duration": 14,
    "start_time": "2023-04-17T12:42:09.873Z"
   },
   {
    "duration": 19,
    "start_time": "2023-04-17T12:42:09.889Z"
   },
   {
    "duration": 999,
    "start_time": "2023-04-17T12:42:09.910Z"
   },
   {
    "duration": 197,
    "start_time": "2023-04-17T12:42:10.911Z"
   },
   {
    "duration": 6,
    "start_time": "2023-04-17T12:42:11.110Z"
   },
   {
    "duration": 17,
    "start_time": "2023-04-17T12:42:11.118Z"
   },
   {
    "duration": 253,
    "start_time": "2023-04-17T12:42:11.136Z"
   },
   {
    "duration": 11,
    "start_time": "2023-04-17T12:42:11.392Z"
   },
   {
    "duration": 17,
    "start_time": "2023-04-17T12:42:11.405Z"
   },
   {
    "duration": 7,
    "start_time": "2023-04-17T12:42:11.424Z"
   },
   {
    "duration": 4,
    "start_time": "2023-04-17T12:42:11.433Z"
   },
   {
    "duration": 7,
    "start_time": "2023-04-17T12:42:11.439Z"
   },
   {
    "duration": 6,
    "start_time": "2023-04-17T12:42:11.448Z"
   },
   {
    "duration": 42,
    "start_time": "2023-04-17T12:42:11.455Z"
   },
   {
    "duration": 13,
    "start_time": "2023-04-17T12:42:11.499Z"
   },
   {
    "duration": 8,
    "start_time": "2023-04-17T12:42:11.514Z"
   },
   {
    "duration": 12,
    "start_time": "2023-04-17T12:42:11.523Z"
   },
   {
    "duration": 78079,
    "start_time": "2023-04-17T12:42:11.537Z"
   },
   {
    "duration": 3,
    "start_time": "2023-04-17T12:43:29.620Z"
   },
   {
    "duration": 8,
    "start_time": "2023-04-17T12:43:29.625Z"
   },
   {
    "duration": 28,
    "start_time": "2023-04-17T12:43:29.634Z"
   },
   {
    "duration": 100,
    "start_time": "2023-04-17T12:43:29.664Z"
   },
   {
    "duration": 3,
    "start_time": "2023-04-17T12:43:29.766Z"
   },
   {
    "duration": 13,
    "start_time": "2023-04-17T12:43:29.771Z"
   },
   {
    "duration": 705,
    "start_time": "2023-04-17T12:43:29.786Z"
   },
   {
    "duration": 11,
    "start_time": "2023-04-17T12:43:30.497Z"
   },
   {
    "duration": 448,
    "start_time": "2023-04-17T12:43:30.511Z"
   },
   {
    "duration": 7,
    "start_time": "2023-04-17T12:47:05.960Z"
   },
   {
    "duration": 269,
    "start_time": "2023-04-17T12:47:17.415Z"
   },
   {
    "duration": 297,
    "start_time": "2023-04-17T12:47:46.968Z"
   },
   {
    "duration": 305,
    "start_time": "2023-04-17T12:48:00.306Z"
   },
   {
    "duration": 297,
    "start_time": "2023-04-17T12:48:08.591Z"
   },
   {
    "duration": 299,
    "start_time": "2023-04-17T12:51:13.743Z"
   },
   {
    "duration": 388,
    "start_time": "2023-04-17T12:51:40.367Z"
   },
   {
    "duration": 303,
    "start_time": "2023-04-17T12:58:14.238Z"
   },
   {
    "duration": 1655,
    "start_time": "2023-04-17T13:00:50.255Z"
   },
   {
    "duration": 47,
    "start_time": "2023-04-17T13:00:51.912Z"
   },
   {
    "duration": 12,
    "start_time": "2023-04-17T13:00:51.961Z"
   },
   {
    "duration": 14,
    "start_time": "2023-04-17T13:00:51.975Z"
   },
   {
    "duration": 20,
    "start_time": "2023-04-17T13:00:51.990Z"
   },
   {
    "duration": 9,
    "start_time": "2023-04-17T13:00:52.012Z"
   },
   {
    "duration": 13,
    "start_time": "2023-04-17T13:00:52.022Z"
   },
   {
    "duration": 18,
    "start_time": "2023-04-17T13:00:52.037Z"
   },
   {
    "duration": 22,
    "start_time": "2023-04-17T13:00:52.057Z"
   },
   {
    "duration": 13,
    "start_time": "2023-04-17T13:00:52.082Z"
   },
   {
    "duration": 26,
    "start_time": "2023-04-17T13:00:52.105Z"
   },
   {
    "duration": 1050,
    "start_time": "2023-04-17T13:00:52.133Z"
   },
   {
    "duration": 214,
    "start_time": "2023-04-17T13:00:53.185Z"
   },
   {
    "duration": 10,
    "start_time": "2023-04-17T13:00:53.401Z"
   },
   {
    "duration": 14,
    "start_time": "2023-04-17T13:00:53.413Z"
   },
   {
    "duration": 503,
    "start_time": "2023-04-17T13:00:53.429Z"
   },
   {
    "duration": 3,
    "start_time": "2023-04-17T13:00:53.934Z"
   },
   {
    "duration": 20,
    "start_time": "2023-04-17T13:00:53.995Z"
   },
   {
    "duration": 15,
    "start_time": "2023-04-17T13:00:54.016Z"
   },
   {
    "duration": 12,
    "start_time": "2023-04-17T13:00:54.033Z"
   },
   {
    "duration": 61,
    "start_time": "2023-04-17T13:00:54.047Z"
   },
   {
    "duration": 7,
    "start_time": "2023-04-17T13:00:54.109Z"
   },
   {
    "duration": 21,
    "start_time": "2023-04-17T13:00:54.118Z"
   },
   {
    "duration": 13,
    "start_time": "2023-04-17T13:00:54.141Z"
   },
   {
    "duration": 8,
    "start_time": "2023-04-17T13:00:54.196Z"
   },
   {
    "duration": 12,
    "start_time": "2023-04-17T13:00:54.206Z"
   },
   {
    "duration": 86721,
    "start_time": "2023-04-17T13:00:54.220Z"
   },
   {
    "duration": 4,
    "start_time": "2023-04-17T13:02:20.945Z"
   },
   {
    "duration": 12,
    "start_time": "2023-04-17T13:02:20.951Z"
   },
   {
    "duration": 19,
    "start_time": "2023-04-17T13:02:20.965Z"
   },
   {
    "duration": 119,
    "start_time": "2023-04-17T13:02:20.986Z"
   },
   {
    "duration": 7,
    "start_time": "2023-04-17T13:02:21.107Z"
   },
   {
    "duration": 11,
    "start_time": "2023-04-17T13:02:21.120Z"
   },
   {
    "duration": 684,
    "start_time": "2023-04-17T13:02:21.134Z"
   },
   {
    "duration": 6,
    "start_time": "2023-04-17T13:02:21.820Z"
   },
   {
    "duration": 422,
    "start_time": "2023-04-17T13:02:21.827Z"
   },
   {
    "duration": 1779,
    "start_time": "2023-04-17T17:43:22.201Z"
   },
   {
    "duration": 155,
    "start_time": "2023-04-17T17:43:23.982Z"
   },
   {
    "duration": 13,
    "start_time": "2023-04-17T17:43:24.911Z"
   },
   {
    "duration": 15,
    "start_time": "2023-04-17T17:43:25.104Z"
   },
   {
    "duration": 15,
    "start_time": "2023-04-17T17:43:25.414Z"
   },
   {
    "duration": 10,
    "start_time": "2023-04-17T17:43:25.734Z"
   },
   {
    "duration": 7,
    "start_time": "2023-04-17T17:43:25.897Z"
   },
   {
    "duration": 3,
    "start_time": "2023-04-17T17:43:26.201Z"
   },
   {
    "duration": 4,
    "start_time": "2023-04-17T17:43:26.350Z"
   },
   {
    "duration": 10,
    "start_time": "2023-04-17T17:43:26.806Z"
   },
   {
    "duration": 11,
    "start_time": "2023-04-17T17:43:27.758Z"
   },
   {
    "duration": 1071,
    "start_time": "2023-04-17T17:43:27.910Z"
   },
   {
    "duration": 188,
    "start_time": "2023-04-17T17:43:28.984Z"
   },
   {
    "duration": 7,
    "start_time": "2023-04-17T17:43:29.175Z"
   },
   {
    "duration": 7,
    "start_time": "2023-04-17T17:43:29.254Z"
   },
   {
    "duration": 256,
    "start_time": "2023-04-17T17:43:29.423Z"
   },
   {
    "duration": 5,
    "start_time": "2023-04-17T17:43:30.647Z"
   },
   {
    "duration": 17,
    "start_time": "2023-04-17T17:43:32.959Z"
   },
   {
    "duration": 5,
    "start_time": "2023-04-17T17:43:35.038Z"
   },
   {
    "duration": 4,
    "start_time": "2023-04-17T17:43:35.695Z"
   },
   {
    "duration": 6,
    "start_time": "2023-04-17T17:43:37.102Z"
   },
   {
    "duration": 9,
    "start_time": "2023-04-17T17:43:37.792Z"
   },
   {
    "duration": 5,
    "start_time": "2023-04-17T17:43:38.822Z"
   },
   {
    "duration": 6,
    "start_time": "2023-04-17T17:43:39.201Z"
   },
   {
    "duration": 4,
    "start_time": "2023-04-17T17:43:39.806Z"
   },
   {
    "duration": 11,
    "start_time": "2023-04-17T17:43:41.422Z"
   },
   {
    "duration": 76839,
    "start_time": "2023-04-17T17:43:46.638Z"
   },
   {
    "duration": 4,
    "start_time": "2023-04-17T17:45:03.479Z"
   },
   {
    "duration": 3,
    "start_time": "2023-04-17T17:45:03.485Z"
   },
   {
    "duration": 6,
    "start_time": "2023-04-17T17:45:03.499Z"
   },
   {
    "duration": 92,
    "start_time": "2023-04-17T17:45:03.507Z"
   },
   {
    "duration": 5,
    "start_time": "2023-04-17T17:45:03.601Z"
   },
   {
    "duration": 10,
    "start_time": "2023-04-17T17:45:03.607Z"
   },
   {
    "duration": 4,
    "start_time": "2023-04-17T17:50:17.310Z"
   },
   {
    "duration": 6,
    "start_time": "2023-04-17T17:51:28.610Z"
   },
   {
    "duration": 5,
    "start_time": "2023-04-17T17:52:38.113Z"
   },
   {
    "duration": 4,
    "start_time": "2023-04-17T17:53:38.133Z"
   },
   {
    "duration": 11,
    "start_time": "2023-04-17T17:54:03.045Z"
   },
   {
    "duration": 6,
    "start_time": "2023-04-17T17:54:03.925Z"
   },
   {
    "duration": 539,
    "start_time": "2023-04-17T17:55:06.724Z"
   },
   {
    "duration": 594,
    "start_time": "2023-04-17T17:55:22.543Z"
   },
   {
    "duration": 1668,
    "start_time": "2023-04-17T17:56:29.353Z"
   },
   {
    "duration": 48,
    "start_time": "2023-04-17T17:56:31.024Z"
   },
   {
    "duration": 13,
    "start_time": "2023-04-17T17:56:31.074Z"
   },
   {
    "duration": 42,
    "start_time": "2023-04-17T17:56:31.089Z"
   },
   {
    "duration": 42,
    "start_time": "2023-04-17T17:56:31.133Z"
   },
   {
    "duration": 33,
    "start_time": "2023-04-17T17:56:31.177Z"
   },
   {
    "duration": 36,
    "start_time": "2023-04-17T17:56:31.212Z"
   },
   {
    "duration": 32,
    "start_time": "2023-04-17T17:56:31.250Z"
   },
   {
    "duration": 42,
    "start_time": "2023-04-17T17:56:31.284Z"
   },
   {
    "duration": 52,
    "start_time": "2023-04-17T17:56:31.329Z"
   },
   {
    "duration": 47,
    "start_time": "2023-04-17T17:56:31.383Z"
   },
   {
    "duration": 1070,
    "start_time": "2023-04-17T17:56:31.432Z"
   },
   {
    "duration": 177,
    "start_time": "2023-04-17T17:56:32.503Z"
   },
   {
    "duration": 11,
    "start_time": "2023-04-17T17:56:32.682Z"
   },
   {
    "duration": 8,
    "start_time": "2023-04-17T17:56:32.695Z"
   },
   {
    "duration": 242,
    "start_time": "2023-04-17T17:56:32.704Z"
   },
   {
    "duration": 5,
    "start_time": "2023-04-17T17:56:32.948Z"
   },
   {
    "duration": 19,
    "start_time": "2023-04-17T17:56:32.955Z"
   },
   {
    "duration": 6,
    "start_time": "2023-04-17T17:56:32.988Z"
   },
   {
    "duration": 15,
    "start_time": "2023-04-17T17:56:32.996Z"
   },
   {
    "duration": 36,
    "start_time": "2023-04-17T17:56:33.013Z"
   },
   {
    "duration": 9,
    "start_time": "2023-04-17T17:56:33.051Z"
   },
   {
    "duration": 7,
    "start_time": "2023-04-17T17:56:33.062Z"
   },
   {
    "duration": 22,
    "start_time": "2023-04-17T17:56:33.071Z"
   },
   {
    "duration": 7,
    "start_time": "2023-04-17T17:56:33.095Z"
   },
   {
    "duration": 14,
    "start_time": "2023-04-17T17:56:33.104Z"
   },
   {
    "duration": 73365,
    "start_time": "2023-04-17T17:56:33.120Z"
   },
   {
    "duration": 4,
    "start_time": "2023-04-17T17:57:46.489Z"
   },
   {
    "duration": 15,
    "start_time": "2023-04-17T17:57:46.495Z"
   },
   {
    "duration": 15,
    "start_time": "2023-04-17T17:57:46.512Z"
   },
   {
    "duration": 97,
    "start_time": "2023-04-17T17:57:46.529Z"
   },
   {
    "duration": 4,
    "start_time": "2023-04-17T17:57:46.628Z"
   },
   {
    "duration": 24,
    "start_time": "2023-04-17T17:57:46.634Z"
   },
   {
    "duration": 7,
    "start_time": "2023-04-17T17:57:46.660Z"
   },
   {
    "duration": 6,
    "start_time": "2023-04-17T17:57:46.669Z"
   },
   {
    "duration": 17,
    "start_time": "2023-04-17T17:57:46.677Z"
   },
   {
    "duration": 9,
    "start_time": "2023-04-17T17:57:46.696Z"
   },
   {
    "duration": 567,
    "start_time": "2023-04-17T17:57:46.707Z"
   },
   {
    "duration": 6,
    "start_time": "2023-04-17T17:57:47.275Z"
   },
   {
    "duration": 420,
    "start_time": "2023-04-17T17:57:47.283Z"
   }
  ],
  "kernelspec": {
   "display_name": "Python 3 (ipykernel)",
   "language": "python",
   "name": "python3"
  },
  "language_info": {
   "codemirror_mode": {
    "name": "ipython",
    "version": 3
   },
   "file_extension": ".py",
   "mimetype": "text/x-python",
   "name": "python",
   "nbconvert_exporter": "python",
   "pygments_lexer": "ipython3",
   "version": "3.9.13"
  },
  "toc": {
   "base_numbering": 1,
   "nav_menu": {},
   "number_sections": true,
   "sideBar": true,
   "skip_h1_title": true,
   "title_cell": "Содержание",
   "title_sidebar": "Contents",
   "toc_cell": true,
   "toc_position": {
    "height": "calc(100% - 180px)",
    "left": "10px",
    "top": "150px",
    "width": "254.188px"
   },
   "toc_section_display": true,
   "toc_window_display": false
  }
 },
 "nbformat": 4,
 "nbformat_minor": 2
}
