{
 "cells": [
  {
   "cell_type": "markdown",
   "metadata": {},
   "source": [
    "# Исследование объявлений о продаже квартир\n",
    "\n",
    "В вашем распоряжении данные сервиса Яндекс.Недвижимость — архив объявлений о продаже квартир в Санкт-Петербурге и соседних населённых пунктов за несколько лет. Нужно научиться определять рыночную стоимость объектов недвижимости. Ваша задача — установить параметры. Это позволит построить автоматизированную систему: она отследит аномалии и мошенническую деятельность. \n",
    "\n",
    "По каждой квартире на продажу доступны два вида данных. Первые вписаны пользователем, вторые — получены автоматически на основе картографических данных. Например, расстояние до центра, аэропорта, ближайшего парка и водоёма. "
   ]
  },
  {
   "cell_type": "markdown",
   "metadata": {},
   "source": [
    "## Откройте файл с данными и изучите общую информацию. "
   ]
  },
  {
   "cell_type": "code",
   "execution_count": 1,
   "metadata": {},
   "outputs": [],
   "source": [
    "#импортирую необходимые библиотеки\n",
    "import pandas as pd\n",
    "import matplotlib.pyplot as plt\n",
    "import warnings\n",
    "import seaborn as sns\n",
    "\n",
    "warnings.filterwarnings(action='ignore')"
   ]
  },
  {
   "cell_type": "code",
   "execution_count": 2,
   "metadata": {},
   "outputs": [],
   "source": [
    "#сохроняю данные файла в датафрейм\n",
    "data = pd.read_csv('/datasets/real_estate_data.csv', sep='\\t')"
   ]
  },
  {
   "cell_type": "code",
   "execution_count": 3,
   "metadata": {},
   "outputs": [
    {
     "name": "stdout",
     "output_type": "stream",
     "text": [
      "<class 'pandas.core.frame.DataFrame'>\n",
      "RangeIndex: 23699 entries, 0 to 23698\n",
      "Data columns (total 22 columns):\n",
      " #   Column                Non-Null Count  Dtype  \n",
      "---  ------                --------------  -----  \n",
      " 0   total_images          23699 non-null  int64  \n",
      " 1   last_price            23699 non-null  float64\n",
      " 2   total_area            23699 non-null  float64\n",
      " 3   first_day_exposition  23699 non-null  object \n",
      " 4   rooms                 23699 non-null  int64  \n",
      " 5   ceiling_height        14504 non-null  float64\n",
      " 6   floors_total          23613 non-null  float64\n",
      " 7   living_area           21796 non-null  float64\n",
      " 8   floor                 23699 non-null  int64  \n",
      " 9   is_apartment          2775 non-null   object \n",
      " 10  studio                23699 non-null  bool   \n",
      " 11  open_plan             23699 non-null  bool   \n",
      " 12  kitchen_area          21421 non-null  float64\n",
      " 13  balcony               12180 non-null  float64\n",
      " 14  locality_name         23650 non-null  object \n",
      " 15  airports_nearest      18157 non-null  float64\n",
      " 16  cityCenters_nearest   18180 non-null  float64\n",
      " 17  parks_around3000      18181 non-null  float64\n",
      " 18  parks_nearest         8079 non-null   float64\n",
      " 19  ponds_around3000      18181 non-null  float64\n",
      " 20  ponds_nearest         9110 non-null   float64\n",
      " 21  days_exposition       20518 non-null  float64\n",
      "dtypes: bool(2), float64(14), int64(3), object(3)\n",
      "memory usage: 3.7+ MB\n"
     ]
    }
   ],
   "source": [
    "#вывожу информацию о датафрейме\n",
    "data.info()"
   ]
  },
  {
   "cell_type": "code",
   "execution_count": 4,
   "metadata": {},
   "outputs": [],
   "source": [
    "#переименовываю столбец cityCenters_nearest в city_centers_nearest\n",
    "data = data.rename(columns={'cityCenters_nearest': 'city_centers_nearest'})"
   ]
  },
  {
   "cell_type": "code",
   "execution_count": 5,
   "metadata": {
    "scrolled": true
   },
   "outputs": [
    {
     "data": {
      "text/html": [
       "<div>\n",
       "<style scoped>\n",
       "    .dataframe tbody tr th:only-of-type {\n",
       "        vertical-align: middle;\n",
       "    }\n",
       "\n",
       "    .dataframe tbody tr th {\n",
       "        vertical-align: top;\n",
       "    }\n",
       "\n",
       "    .dataframe thead th {\n",
       "        text-align: right;\n",
       "    }\n",
       "</style>\n",
       "<table border=\"1\" class=\"dataframe\">\n",
       "  <thead>\n",
       "    <tr style=\"text-align: right;\">\n",
       "      <th></th>\n",
       "      <th>total_images</th>\n",
       "      <th>last_price</th>\n",
       "      <th>total_area</th>\n",
       "      <th>first_day_exposition</th>\n",
       "      <th>rooms</th>\n",
       "      <th>ceiling_height</th>\n",
       "      <th>floors_total</th>\n",
       "      <th>living_area</th>\n",
       "      <th>floor</th>\n",
       "      <th>is_apartment</th>\n",
       "      <th>...</th>\n",
       "      <th>kitchen_area</th>\n",
       "      <th>balcony</th>\n",
       "      <th>locality_name</th>\n",
       "      <th>airports_nearest</th>\n",
       "      <th>city_centers_nearest</th>\n",
       "      <th>parks_around3000</th>\n",
       "      <th>parks_nearest</th>\n",
       "      <th>ponds_around3000</th>\n",
       "      <th>ponds_nearest</th>\n",
       "      <th>days_exposition</th>\n",
       "    </tr>\n",
       "  </thead>\n",
       "  <tbody>\n",
       "    <tr>\n",
       "      <th>0</th>\n",
       "      <td>20</td>\n",
       "      <td>13000000.0</td>\n",
       "      <td>108.00</td>\n",
       "      <td>2019-03-07T00:00:00</td>\n",
       "      <td>3</td>\n",
       "      <td>2.70</td>\n",
       "      <td>16.0</td>\n",
       "      <td>51.00</td>\n",
       "      <td>8</td>\n",
       "      <td>NaN</td>\n",
       "      <td>...</td>\n",
       "      <td>25.00</td>\n",
       "      <td>NaN</td>\n",
       "      <td>Санкт-Петербург</td>\n",
       "      <td>18863.0</td>\n",
       "      <td>16028.0</td>\n",
       "      <td>1.0</td>\n",
       "      <td>482.0</td>\n",
       "      <td>2.0</td>\n",
       "      <td>755.0</td>\n",
       "      <td>NaN</td>\n",
       "    </tr>\n",
       "    <tr>\n",
       "      <th>1</th>\n",
       "      <td>7</td>\n",
       "      <td>3350000.0</td>\n",
       "      <td>40.40</td>\n",
       "      <td>2018-12-04T00:00:00</td>\n",
       "      <td>1</td>\n",
       "      <td>NaN</td>\n",
       "      <td>11.0</td>\n",
       "      <td>18.60</td>\n",
       "      <td>1</td>\n",
       "      <td>NaN</td>\n",
       "      <td>...</td>\n",
       "      <td>11.00</td>\n",
       "      <td>2.0</td>\n",
       "      <td>посёлок Шушары</td>\n",
       "      <td>12817.0</td>\n",
       "      <td>18603.0</td>\n",
       "      <td>0.0</td>\n",
       "      <td>NaN</td>\n",
       "      <td>0.0</td>\n",
       "      <td>NaN</td>\n",
       "      <td>81.0</td>\n",
       "    </tr>\n",
       "    <tr>\n",
       "      <th>2</th>\n",
       "      <td>10</td>\n",
       "      <td>5196000.0</td>\n",
       "      <td>56.00</td>\n",
       "      <td>2015-08-20T00:00:00</td>\n",
       "      <td>2</td>\n",
       "      <td>NaN</td>\n",
       "      <td>5.0</td>\n",
       "      <td>34.30</td>\n",
       "      <td>4</td>\n",
       "      <td>NaN</td>\n",
       "      <td>...</td>\n",
       "      <td>8.30</td>\n",
       "      <td>0.0</td>\n",
       "      <td>Санкт-Петербург</td>\n",
       "      <td>21741.0</td>\n",
       "      <td>13933.0</td>\n",
       "      <td>1.0</td>\n",
       "      <td>90.0</td>\n",
       "      <td>2.0</td>\n",
       "      <td>574.0</td>\n",
       "      <td>558.0</td>\n",
       "    </tr>\n",
       "    <tr>\n",
       "      <th>3</th>\n",
       "      <td>0</td>\n",
       "      <td>64900000.0</td>\n",
       "      <td>159.00</td>\n",
       "      <td>2015-07-24T00:00:00</td>\n",
       "      <td>3</td>\n",
       "      <td>NaN</td>\n",
       "      <td>14.0</td>\n",
       "      <td>NaN</td>\n",
       "      <td>9</td>\n",
       "      <td>NaN</td>\n",
       "      <td>...</td>\n",
       "      <td>NaN</td>\n",
       "      <td>0.0</td>\n",
       "      <td>Санкт-Петербург</td>\n",
       "      <td>28098.0</td>\n",
       "      <td>6800.0</td>\n",
       "      <td>2.0</td>\n",
       "      <td>84.0</td>\n",
       "      <td>3.0</td>\n",
       "      <td>234.0</td>\n",
       "      <td>424.0</td>\n",
       "    </tr>\n",
       "    <tr>\n",
       "      <th>4</th>\n",
       "      <td>2</td>\n",
       "      <td>10000000.0</td>\n",
       "      <td>100.00</td>\n",
       "      <td>2018-06-19T00:00:00</td>\n",
       "      <td>2</td>\n",
       "      <td>3.03</td>\n",
       "      <td>14.0</td>\n",
       "      <td>32.00</td>\n",
       "      <td>13</td>\n",
       "      <td>NaN</td>\n",
       "      <td>...</td>\n",
       "      <td>41.00</td>\n",
       "      <td>NaN</td>\n",
       "      <td>Санкт-Петербург</td>\n",
       "      <td>31856.0</td>\n",
       "      <td>8098.0</td>\n",
       "      <td>2.0</td>\n",
       "      <td>112.0</td>\n",
       "      <td>1.0</td>\n",
       "      <td>48.0</td>\n",
       "      <td>121.0</td>\n",
       "    </tr>\n",
       "    <tr>\n",
       "      <th>5</th>\n",
       "      <td>10</td>\n",
       "      <td>2890000.0</td>\n",
       "      <td>30.40</td>\n",
       "      <td>2018-09-10T00:00:00</td>\n",
       "      <td>1</td>\n",
       "      <td>NaN</td>\n",
       "      <td>12.0</td>\n",
       "      <td>14.40</td>\n",
       "      <td>5</td>\n",
       "      <td>NaN</td>\n",
       "      <td>...</td>\n",
       "      <td>9.10</td>\n",
       "      <td>NaN</td>\n",
       "      <td>городской посёлок Янино-1</td>\n",
       "      <td>NaN</td>\n",
       "      <td>NaN</td>\n",
       "      <td>NaN</td>\n",
       "      <td>NaN</td>\n",
       "      <td>NaN</td>\n",
       "      <td>NaN</td>\n",
       "      <td>55.0</td>\n",
       "    </tr>\n",
       "    <tr>\n",
       "      <th>6</th>\n",
       "      <td>6</td>\n",
       "      <td>3700000.0</td>\n",
       "      <td>37.30</td>\n",
       "      <td>2017-11-02T00:00:00</td>\n",
       "      <td>1</td>\n",
       "      <td>NaN</td>\n",
       "      <td>26.0</td>\n",
       "      <td>10.60</td>\n",
       "      <td>6</td>\n",
       "      <td>NaN</td>\n",
       "      <td>...</td>\n",
       "      <td>14.40</td>\n",
       "      <td>1.0</td>\n",
       "      <td>посёлок Парголово</td>\n",
       "      <td>52996.0</td>\n",
       "      <td>19143.0</td>\n",
       "      <td>0.0</td>\n",
       "      <td>NaN</td>\n",
       "      <td>0.0</td>\n",
       "      <td>NaN</td>\n",
       "      <td>155.0</td>\n",
       "    </tr>\n",
       "    <tr>\n",
       "      <th>7</th>\n",
       "      <td>5</td>\n",
       "      <td>7915000.0</td>\n",
       "      <td>71.60</td>\n",
       "      <td>2019-04-18T00:00:00</td>\n",
       "      <td>2</td>\n",
       "      <td>NaN</td>\n",
       "      <td>24.0</td>\n",
       "      <td>NaN</td>\n",
       "      <td>22</td>\n",
       "      <td>NaN</td>\n",
       "      <td>...</td>\n",
       "      <td>18.90</td>\n",
       "      <td>2.0</td>\n",
       "      <td>Санкт-Петербург</td>\n",
       "      <td>23982.0</td>\n",
       "      <td>11634.0</td>\n",
       "      <td>0.0</td>\n",
       "      <td>NaN</td>\n",
       "      <td>0.0</td>\n",
       "      <td>NaN</td>\n",
       "      <td>NaN</td>\n",
       "    </tr>\n",
       "    <tr>\n",
       "      <th>8</th>\n",
       "      <td>20</td>\n",
       "      <td>2900000.0</td>\n",
       "      <td>33.16</td>\n",
       "      <td>2018-05-23T00:00:00</td>\n",
       "      <td>1</td>\n",
       "      <td>NaN</td>\n",
       "      <td>27.0</td>\n",
       "      <td>15.43</td>\n",
       "      <td>26</td>\n",
       "      <td>NaN</td>\n",
       "      <td>...</td>\n",
       "      <td>8.81</td>\n",
       "      <td>NaN</td>\n",
       "      <td>посёлок Мурино</td>\n",
       "      <td>NaN</td>\n",
       "      <td>NaN</td>\n",
       "      <td>NaN</td>\n",
       "      <td>NaN</td>\n",
       "      <td>NaN</td>\n",
       "      <td>NaN</td>\n",
       "      <td>189.0</td>\n",
       "    </tr>\n",
       "    <tr>\n",
       "      <th>9</th>\n",
       "      <td>18</td>\n",
       "      <td>5400000.0</td>\n",
       "      <td>61.00</td>\n",
       "      <td>2017-02-26T00:00:00</td>\n",
       "      <td>3</td>\n",
       "      <td>2.50</td>\n",
       "      <td>9.0</td>\n",
       "      <td>43.60</td>\n",
       "      <td>7</td>\n",
       "      <td>NaN</td>\n",
       "      <td>...</td>\n",
       "      <td>6.50</td>\n",
       "      <td>2.0</td>\n",
       "      <td>Санкт-Петербург</td>\n",
       "      <td>50898.0</td>\n",
       "      <td>15008.0</td>\n",
       "      <td>0.0</td>\n",
       "      <td>NaN</td>\n",
       "      <td>0.0</td>\n",
       "      <td>NaN</td>\n",
       "      <td>289.0</td>\n",
       "    </tr>\n",
       "  </tbody>\n",
       "</table>\n",
       "<p>10 rows × 22 columns</p>\n",
       "</div>"
      ],
      "text/plain": [
       "   total_images  last_price  total_area first_day_exposition  rooms  \\\n",
       "0            20  13000000.0      108.00  2019-03-07T00:00:00      3   \n",
       "1             7   3350000.0       40.40  2018-12-04T00:00:00      1   \n",
       "2            10   5196000.0       56.00  2015-08-20T00:00:00      2   \n",
       "3             0  64900000.0      159.00  2015-07-24T00:00:00      3   \n",
       "4             2  10000000.0      100.00  2018-06-19T00:00:00      2   \n",
       "5            10   2890000.0       30.40  2018-09-10T00:00:00      1   \n",
       "6             6   3700000.0       37.30  2017-11-02T00:00:00      1   \n",
       "7             5   7915000.0       71.60  2019-04-18T00:00:00      2   \n",
       "8            20   2900000.0       33.16  2018-05-23T00:00:00      1   \n",
       "9            18   5400000.0       61.00  2017-02-26T00:00:00      3   \n",
       "\n",
       "   ceiling_height  floors_total  living_area  floor is_apartment  ...  \\\n",
       "0            2.70          16.0        51.00      8          NaN  ...   \n",
       "1             NaN          11.0        18.60      1          NaN  ...   \n",
       "2             NaN           5.0        34.30      4          NaN  ...   \n",
       "3             NaN          14.0          NaN      9          NaN  ...   \n",
       "4            3.03          14.0        32.00     13          NaN  ...   \n",
       "5             NaN          12.0        14.40      5          NaN  ...   \n",
       "6             NaN          26.0        10.60      6          NaN  ...   \n",
       "7             NaN          24.0          NaN     22          NaN  ...   \n",
       "8             NaN          27.0        15.43     26          NaN  ...   \n",
       "9            2.50           9.0        43.60      7          NaN  ...   \n",
       "\n",
       "   kitchen_area  balcony              locality_name  airports_nearest  \\\n",
       "0         25.00      NaN            Санкт-Петербург           18863.0   \n",
       "1         11.00      2.0             посёлок Шушары           12817.0   \n",
       "2          8.30      0.0            Санкт-Петербург           21741.0   \n",
       "3           NaN      0.0            Санкт-Петербург           28098.0   \n",
       "4         41.00      NaN            Санкт-Петербург           31856.0   \n",
       "5          9.10      NaN  городской посёлок Янино-1               NaN   \n",
       "6         14.40      1.0          посёлок Парголово           52996.0   \n",
       "7         18.90      2.0            Санкт-Петербург           23982.0   \n",
       "8          8.81      NaN             посёлок Мурино               NaN   \n",
       "9          6.50      2.0            Санкт-Петербург           50898.0   \n",
       "\n",
       "  city_centers_nearest  parks_around3000  parks_nearest  ponds_around3000  \\\n",
       "0              16028.0               1.0          482.0               2.0   \n",
       "1              18603.0               0.0            NaN               0.0   \n",
       "2              13933.0               1.0           90.0               2.0   \n",
       "3               6800.0               2.0           84.0               3.0   \n",
       "4               8098.0               2.0          112.0               1.0   \n",
       "5                  NaN               NaN            NaN               NaN   \n",
       "6              19143.0               0.0            NaN               0.0   \n",
       "7              11634.0               0.0            NaN               0.0   \n",
       "8                  NaN               NaN            NaN               NaN   \n",
       "9              15008.0               0.0            NaN               0.0   \n",
       "\n",
       "   ponds_nearest  days_exposition  \n",
       "0          755.0              NaN  \n",
       "1            NaN             81.0  \n",
       "2          574.0            558.0  \n",
       "3          234.0            424.0  \n",
       "4           48.0            121.0  \n",
       "5            NaN             55.0  \n",
       "6            NaN            155.0  \n",
       "7            NaN              NaN  \n",
       "8            NaN            189.0  \n",
       "9            NaN            289.0  \n",
       "\n",
       "[10 rows x 22 columns]"
      ]
     },
     "execution_count": 5,
     "metadata": {},
     "output_type": "execute_result"
    }
   ],
   "source": [
    "#вывожу десять первых строк датафрейма\n",
    "data.head(10)"
   ]
  },
  {
   "cell_type": "code",
   "execution_count": 6,
   "metadata": {},
   "outputs": [
    {
     "data": {
      "text/plain": [
       "0"
      ]
     },
     "execution_count": 6,
     "metadata": {},
     "output_type": "execute_result"
    }
   ],
   "source": [
    "data.duplicated().sum()"
   ]
  },
  {
   "cell_type": "code",
   "execution_count": 7,
   "metadata": {},
   "outputs": [
    {
     "data": {
      "image/png": "[encoded data removed]",
      "text/plain": [
       "<Figure size 1080x1440 with 20 Axes>"
      ]
     },
     "metadata": {
      "needs_background": "light"
     },
     "output_type": "display_data"
    }
   ],
   "source": [
    "#строю общую гистограмму для всех столбцов таблицы\n",
    "data.hist(figsize=(15, 20));"
   ]
  },
  {
   "cell_type": "markdown",
   "metadata": {},
   "source": [
    "## Предобработка данных"
   ]
  },
  {
   "cell_type": "markdown",
   "metadata": {},
   "source": [
    "### Обработка пропущенных значений"
   ]
  },
  {
   "cell_type": "code",
   "execution_count": 8,
   "metadata": {},
   "outputs": [
    {
     "data": {
      "text/plain": [
       "total_images                0\n",
       "last_price                  0\n",
       "total_area                  0\n",
       "first_day_exposition        0\n",
       "rooms                       0\n",
       "ceiling_height           9195\n",
       "floors_total               86\n",
       "living_area              1903\n",
       "floor                       0\n",
       "is_apartment            20924\n",
       "studio                      0\n",
       "open_plan                   0\n",
       "kitchen_area             2278\n",
       "balcony                 11519\n",
       "locality_name              49\n",
       "airports_nearest         5542\n",
       "city_centers_nearest     5519\n",
       "parks_around3000         5518\n",
       "parks_nearest           15620\n",
       "ponds_around3000         5518\n",
       "ponds_nearest           14589\n",
       "days_exposition          3181\n",
       "dtype: int64"
      ]
     },
     "execution_count": 8,
     "metadata": {},
     "output_type": "execute_result"
    }
   ],
   "source": [
    "#вывел количество пропущенных значений в каждом столбце\n",
    "data.isna().sum()"
   ]
  },
  {
   "cell_type": "code",
   "execution_count": 9,
   "metadata": {},
   "outputs": [],
   "source": [
    "#удаляю все пропуски из столбца locality_name тк определить названия населенного пункта практически невозможно,\n",
    "#а количество пропусков от общей суммы датафрейма мало\n",
    "#тоже самое проделаю с floors_total\n",
    "data = data.dropna(subset=['locality_name','floors_total'])"
   ]
  },
  {
   "cell_type": "code",
   "execution_count": 10,
   "metadata": {},
   "outputs": [],
   "source": [
    "#заменяю все пропуски в ceiling_height на медианное значение ceiling_height\n",
    "ceiling_height_median = data['ceiling_height'].median()\n",
    "data['ceiling_height'] = data['ceiling_height'].fillna(ceiling_height_median)"
   ]
  },
  {
   "cell_type": "markdown",
   "metadata": {},
   "source": [
    "Сделаю срез без пропущенных значений в living_area и kitchen_area"
   ]
  },
  {
   "cell_type": "code",
   "execution_count": 11,
   "metadata": {},
   "outputs": [],
   "source": [
    "data_for_ratio = data.query('living_area != \"NaN\" & kitchen_area != \"NaN\"')"
   ]
  },
  {
   "cell_type": "markdown",
   "metadata": {},
   "source": [
    "Считаю соотношение кухня + жилая к общей площади"
   ]
  },
  {
   "cell_type": "code",
   "execution_count": 12,
   "metadata": {},
   "outputs": [
    {
     "data": {
      "text/plain": [
       "0.7495945238843186"
      ]
     },
     "execution_count": 12,
     "metadata": {},
     "output_type": "execute_result"
    }
   ],
   "source": [
    "ratio = (data_for_ratio['living_area'] + data_for_ratio['kitchen_area']) / data_for_ratio['total_area']\n",
    "ratio.mean()"
   ]
  },
  {
   "cell_type": "code",
   "execution_count": 13,
   "metadata": {},
   "outputs": [
    {
     "data": {
      "text/plain": [
       "0.75"
      ]
     },
     "execution_count": 13,
     "metadata": {},
     "output_type": "execute_result"
    }
   ],
   "source": [
    "ratio.median()"
   ]
  },
  {
   "cell_type": "markdown",
   "metadata": {},
   "source": [
    "Те 75 процентов это кухня + жилая площадь, а 25 другое.\n",
    "Соответственно можем рассчитать коэффициент для кухни и жилой площади отдельно"
   ]
  },
  {
   "cell_type": "code",
   "execution_count": 14,
   "metadata": {},
   "outputs": [
    {
     "data": {
      "text/plain": [
       "0.8182100157906609"
      ]
     },
     "execution_count": 14,
     "metadata": {},
     "output_type": "execute_result"
    }
   ],
   "source": [
    "ratio_kitchen = (data_for_ratio['total_area'] * 0.25 + data_for_ratio['living_area']) / data_for_ratio['total_area']\n",
    "ratio_kitchen.median()"
   ]
  },
  {
   "cell_type": "markdown",
   "metadata": {},
   "source": [
    "Те жилая + другая площадь ~ 82 процента, соответственно 18 процентов это кухня"
   ]
  },
  {
   "cell_type": "code",
   "execution_count": 15,
   "metadata": {},
   "outputs": [
    {
     "data": {
      "text/plain": [
       "0.4223625557206538"
      ]
     },
     "execution_count": 15,
     "metadata": {},
     "output_type": "execute_result"
    }
   ],
   "source": [
    "ratio_living = (data_for_ratio['total_area'] * 0.25 + data_for_ratio['kitchen_area']) / data_for_ratio['total_area']\n",
    "ratio_living.median()"
   ]
  },
  {
   "cell_type": "markdown",
   "metadata": {},
   "source": [
    "Те кухня + другая площадь ~ 42 процента, соответственно 58 процентов это жилая площадь"
   ]
  },
  {
   "cell_type": "markdown",
   "metadata": {},
   "source": [
    "Зная коэффициенты можем заполнить пропуски на кухне и жилой площади умножаю их на общую площадь квартиры"
   ]
  },
  {
   "cell_type": "code",
   "execution_count": 16,
   "metadata": {},
   "outputs": [],
   "source": [
    "data['living_area'] = data['living_area'].fillna(data['total_area'] * 0.58)"
   ]
  },
  {
   "cell_type": "code",
   "execution_count": 17,
   "metadata": {},
   "outputs": [],
   "source": [
    "data['kitchen_area'] = data['kitchen_area'].fillna(data['total_area'] * 0.18)"
   ]
  },
  {
   "cell_type": "code",
   "execution_count": 18,
   "metadata": {},
   "outputs": [],
   "source": [
    "data['balcony'] = data['balcony'].fillna(0)"
   ]
  },
  {
   "cell_type": "code",
   "execution_count": 19,
   "metadata": {},
   "outputs": [],
   "source": [
    "data['parks_around3000'] = data['parks_around3000'].fillna(0)"
   ]
  },
  {
   "cell_type": "code",
   "execution_count": 20,
   "metadata": {},
   "outputs": [],
   "source": [
    "data['ponds_around3000'] = data['ponds_around3000'].fillna(0)"
   ]
  },
  {
   "cell_type": "code",
   "execution_count": 21,
   "metadata": {},
   "outputs": [],
   "source": [
    "data['is_apartment'] = data['is_apartment'].fillna(False)"
   ]
  },
  {
   "cell_type": "code",
   "execution_count": 22,
   "metadata": {},
   "outputs": [
    {
     "data": {
      "text/plain": [
       "total_images                0\n",
       "last_price                  0\n",
       "total_area                  0\n",
       "first_day_exposition        0\n",
       "rooms                       0\n",
       "ceiling_height              0\n",
       "floors_total                0\n",
       "living_area                 0\n",
       "floor                       0\n",
       "is_apartment                0\n",
       "studio                      0\n",
       "open_plan                   0\n",
       "kitchen_area                0\n",
       "balcony                     0\n",
       "locality_name               0\n",
       "airports_nearest         5524\n",
       "city_centers_nearest     5501\n",
       "parks_around3000            0\n",
       "parks_nearest           15535\n",
       "ponds_around3000            0\n",
       "ponds_nearest           14529\n",
       "days_exposition          3171\n",
       "dtype: int64"
      ]
     },
     "execution_count": 22,
     "metadata": {},
     "output_type": "execute_result"
    }
   ],
   "source": [
    "data.isna().sum()"
   ]
  },
  {
   "cell_type": "markdown",
   "metadata": {},
   "source": [
    "**Вывод по пропущенным значениям:** были удалены все пропущенные значения в \"locality_name\" и \"floors_total\", тк нельзя как либо точно опеределить название места и количества этажей в здании, к тому же общее число пропусков было не велико, те этими данными можно пренебречь. В \"ceiling_height\" пропуски были заменены на медианное значение. В \"living_area\"  и \"kitchen_area\" пропуски замененые на данные из \"total_area\" помноженные на коэффициенты.Пропуски в \"parks_around3000\", \"ponds_around3000\", \"balcony\" и \"is_apartment\" были заменены на 0 и False. Пропуски в картографических данных(\"parks_nearest\" и тд) было решено оставить, тк не понятно на что их можно заменить."
   ]
  },
  {
   "cell_type": "markdown",
   "metadata": {},
   "source": [
    "### Изменение типа данных"
   ]
  },
  {
   "cell_type": "code",
   "execution_count": 23,
   "metadata": {},
   "outputs": [],
   "source": [
    "#изменяю тип данных для last_price\n",
    "data['last_price'] = data['last_price'].astype(int)"
   ]
  },
  {
   "cell_type": "code",
   "execution_count": 24,
   "metadata": {},
   "outputs": [],
   "source": [
    "data['balcony'] = data['balcony'].astype(int)"
   ]
  },
  {
   "cell_type": "code",
   "execution_count": 25,
   "metadata": {},
   "outputs": [],
   "source": [
    "data['floor'] = data['floor'].astype(int)"
   ]
  },
  {
   "cell_type": "code",
   "execution_count": 26,
   "metadata": {},
   "outputs": [],
   "source": [
    "data['floors_total'] = data['floors_total'].astype(int)"
   ]
  },
  {
   "cell_type": "code",
   "execution_count": 27,
   "metadata": {},
   "outputs": [],
   "source": [
    "data['parks_around3000'] = data['parks_around3000'].astype(int)"
   ]
  },
  {
   "cell_type": "code",
   "execution_count": 28,
   "metadata": {},
   "outputs": [],
   "source": [
    "data['ponds_around3000'] = data['ponds_around3000'].astype(int)"
   ]
  },
  {
   "cell_type": "code",
   "execution_count": 29,
   "metadata": {},
   "outputs": [],
   "source": [
    "#перевожу first_day_exposition в тип datetime\n",
    "data['first_day_exposition'] = pd.to_datetime(data['first_day_exposition'], yearfirst=True)"
   ]
  },
  {
   "cell_type": "markdown",
   "metadata": {},
   "source": [
    "**Вывод по изменению типа данных:** В \"last_price\", \"balcony\", \"floor\", \"floors_total\", \"parks_around3000\" и \"ponds_around3000\" были изменены по типу с вещественных на целочисленные, а first_day_exposition изменен для дальнейшей работы в тип datetime. В остальных данных  изменение приведет к округленнию важных значений(например \"living_area\")."
   ]
  },
  {
   "cell_type": "markdown",
   "metadata": {},
   "source": [
    "### Устранение неявных дубликатов"
   ]
  },
  {
   "cell_type": "code",
   "execution_count": 30,
   "metadata": {},
   "outputs": [
    {
     "data": {
      "text/plain": [
       "array(['Санкт-Петербург', 'посёлок Шушары', 'городской посёлок Янино-1',\n",
       "       'посёлок Парголово', 'посёлок Мурино', 'Ломоносов', 'Сертолово',\n",
       "       'Петергоф', 'Пушкин', 'деревня Кудрово', 'Коммунар', 'Колпино',\n",
       "       'поселок городского типа Красный Бор', 'Гатчина', 'поселок Мурино',\n",
       "       'деревня Фёдоровское', 'Выборг', 'Кронштадт', 'Кировск',\n",
       "       'деревня Новое Девяткино', 'посёлок Металлострой',\n",
       "       'посёлок городского типа Лебяжье',\n",
       "       'посёлок городского типа Сиверский', 'поселок Молодцово',\n",
       "       'поселок городского типа Кузьмоловский',\n",
       "       'садовое товарищество Новая Ропша', 'Павловск',\n",
       "       'деревня Пикколово', 'Всеволожск', 'Волхов', 'Кингисепп',\n",
       "       'Приозерск', 'Сестрорецк', 'деревня Куттузи', 'посёлок Аннино',\n",
       "       'поселок городского типа Ефимовский', 'посёлок Плодовое',\n",
       "       'деревня Заклинье', 'поселок Торковичи', 'поселок Первомайское',\n",
       "       'Красное Село', 'посёлок Понтонный', 'Сясьстрой', 'деревня Старая',\n",
       "       'деревня Лесколово', 'посёлок Новый Свет', 'Сланцы',\n",
       "       'село Путилово', 'Ивангород', 'Мурино', 'Шлиссельбург',\n",
       "       'Никольское', 'Зеленогорск', 'Сосновый Бор', 'поселок Новый Свет',\n",
       "       'деревня Оржицы', 'деревня Кальтино', 'Кудрово',\n",
       "       'поселок Романовка', 'посёлок Бугры', 'поселок Бугры',\n",
       "       'поселок городского типа Рощино', 'Кириши', 'Луга', 'Волосово',\n",
       "       'Отрадное', 'село Павлово', 'поселок Оредеж', 'село Копорье',\n",
       "       'посёлок городского типа Красный Бор', 'посёлок Молодёжное',\n",
       "       'Тихвин', 'посёлок Победа', 'деревня Нурма',\n",
       "       'поселок городского типа Синявино', 'Тосно',\n",
       "       'посёлок городского типа Кузьмоловский', 'посёлок Стрельна',\n",
       "       'Бокситогорск', 'посёлок Александровская', 'деревня Лопухинка',\n",
       "       'Пикалёво', 'поселок Терволово',\n",
       "       'поселок городского типа Советский', 'Подпорожье',\n",
       "       'посёлок Петровское', 'посёлок городского типа Токсово',\n",
       "       'поселок Сельцо', 'посёлок городского типа Вырица',\n",
       "       'деревня Кипень', 'деревня Келози', 'деревня Вартемяги',\n",
       "       'посёлок Тельмана', 'поселок Севастьяново',\n",
       "       'городской поселок Большая Ижора', 'городской посёлок Павлово',\n",
       "       'деревня Агалатово', 'посёлок Новогорелово',\n",
       "       'городской посёлок Лесогорский', 'деревня Лаголово',\n",
       "       'поселок Цвелодубово', 'поселок городского типа Рахья',\n",
       "       'поселок городского типа Вырица', 'деревня Белогорка',\n",
       "       'поселок Заводской', 'городской посёлок Новоселье',\n",
       "       'деревня Большие Колпаны', 'деревня Горбунки', 'деревня Батово',\n",
       "       'деревня Заневка', 'деревня Иссад', 'Приморск',\n",
       "       'городской посёлок Фёдоровское', 'деревня Мистолово',\n",
       "       'Новая Ладога', 'поселок Зимитицы', 'поселок Барышево',\n",
       "       'деревня Разметелево', 'поселок городского типа имени Свердлова',\n",
       "       'деревня Пеники', 'поселок Рябово', 'деревня Пудомяги',\n",
       "       'поселок станции Корнево', 'деревня Низино', 'деревня Бегуницы',\n",
       "       'посёлок Поляны', 'городской посёлок Мга', 'поселок Елизаветино',\n",
       "       'посёлок городского типа Кузнечное', 'деревня Колтуши',\n",
       "       'поселок Запорожское', 'посёлок городского типа Рощино',\n",
       "       'деревня Гостилицы', 'деревня Малое Карлино',\n",
       "       'посёлок Мичуринское', 'посёлок городского типа имени Морозова',\n",
       "       'посёлок Песочный', 'посёлок Сосново', 'деревня Аро',\n",
       "       'поселок Ильичёво', 'посёлок городского типа Тайцы',\n",
       "       'деревня Малое Верево', 'деревня Извара', 'поселок станции Вещево',\n",
       "       'село Паша', 'деревня Калитино',\n",
       "       'посёлок городского типа Ульяновка', 'деревня Чудской Бор',\n",
       "       'поселок городского типа Дубровка', 'деревня Мины',\n",
       "       'поселок Войсковицы', 'посёлок городского типа имени Свердлова',\n",
       "       'деревня Коркино', 'посёлок Ропша',\n",
       "       'поселок городского типа Приладожский', 'посёлок Щеглово',\n",
       "       'посёлок Гаврилово', 'Лодейное Поле', 'деревня Рабитицы',\n",
       "       'поселок городского типа Никольский', 'деревня Кузьмолово',\n",
       "       'деревня Малые Колпаны', 'поселок Тельмана',\n",
       "       'посёлок Петро-Славянка', 'городской посёлок Назия',\n",
       "       'посёлок Репино', 'посёлок Ильичёво', 'поселок Углово',\n",
       "       'поселок Старая Малукса', 'садовое товарищество Рахья',\n",
       "       'поселок Аннино', 'поселок Победа', 'деревня Меньково',\n",
       "       'деревня Старые Бегуницы', 'посёлок Сапёрный', 'поселок Семрино',\n",
       "       'поселок Гаврилово', 'поселок Глажево', 'поселок Кобринское',\n",
       "       'деревня Гарболово', 'деревня Юкки',\n",
       "       'поселок станции Приветнинское', 'деревня Мануйлово',\n",
       "       'деревня Пчева', 'поселок Поляны', 'поселок Цвылёво',\n",
       "       'поселок Мельниково', 'посёлок Пудость', 'посёлок Усть-Луга',\n",
       "       'Светогорск', 'Любань', 'поселок Селезнёво',\n",
       "       'поселок городского типа Рябово', 'Каменногорск', 'деревня Кривко',\n",
       "       'поселок Глебычево', 'деревня Парицы', 'поселок Жилпосёлок',\n",
       "       'посёлок городского типа Мга', 'городской поселок Янино-1',\n",
       "       'посёлок Войскорово', 'село Никольское', 'посёлок Терволово',\n",
       "       'поселок Стеклянный', 'посёлок городского типа Важины',\n",
       "       'посёлок Мыза-Ивановка', 'село Русско-Высоцкое',\n",
       "       'поселок городского типа Лебяжье',\n",
       "       'поселок городского типа Форносово', 'село Старая Ладога',\n",
       "       'поселок Житково', 'городской посёлок Виллози', 'деревня Лампово',\n",
       "       'деревня Шпаньково', 'деревня Лаврики', 'посёлок Сумино',\n",
       "       'посёлок Возрождение', 'деревня Старосиверская',\n",
       "       'посёлок Кикерино', 'поселок Возрождение',\n",
       "       'деревня Старое Хинколово', 'посёлок Пригородный',\n",
       "       'посёлок Торфяное', 'городской посёлок Будогощь',\n",
       "       'поселок Суходолье', 'поселок Красная Долина', 'деревня Хапо-Ое',\n",
       "       'поселок городского типа Дружная Горка', 'поселок Лисий Нос',\n",
       "       'деревня Яльгелево', 'посёлок Стеклянный', 'село Рождествено',\n",
       "       'деревня Старополье', 'посёлок Левашово', 'деревня Сяськелево',\n",
       "       'деревня Камышовка',\n",
       "       'садоводческое некоммерческое товарищество Лесная Поляна',\n",
       "       'деревня Хязельки', 'поселок Жилгородок',\n",
       "       'посёлок городского типа Павлово', 'деревня Ялгино',\n",
       "       'поселок Новый Учхоз', 'городской посёлок Рощино',\n",
       "       'поселок Гончарово', 'поселок Почап', 'посёлок Сапёрное',\n",
       "       'посёлок Платформа 69-й километр', 'поселок Каложицы',\n",
       "       'деревня Фалилеево', 'деревня Пельгора',\n",
       "       'поселок городского типа Лесогорский', 'деревня Торошковичи',\n",
       "       'посёлок Белоостров', 'посёлок Алексеевка', 'поселок Серебрянский',\n",
       "       'поселок Лукаши', 'поселок Петровское', 'деревня Щеглово',\n",
       "       'поселок Мичуринское', 'деревня Тарасово', 'поселок Кингисеппский',\n",
       "       'посёлок при железнодорожной станции Вещево', 'поселок Ушаки',\n",
       "       'деревня Котлы', 'деревня Сижно', 'деревня Торосово',\n",
       "       'посёлок Форт Красная Горка', 'деревня Новолисино',\n",
       "       'посёлок станции Громово', 'деревня Глинка', 'посёлок Мельниково',\n",
       "       'поселок городского типа Назия', 'деревня Старая Пустошь',\n",
       "       'поселок Коммунары', 'поселок Починок',\n",
       "       'посёлок городского типа Вознесенье', 'деревня Разбегаево',\n",
       "       'посёлок городского типа Рябово', 'поселок Гладкое',\n",
       "       'посёлок при железнодорожной станции Приветнинское',\n",
       "       'поселок Тёсово-4', 'посёлок Жилгородок', 'деревня Бор',\n",
       "       'посёлок Коробицыно', 'деревня Большая Вруда', 'деревня Курковицы',\n",
       "       'посёлок Лисий Нос', 'городской посёлок Советский',\n",
       "       'посёлок Кобралово', 'деревня Суоранда', 'поселок Кобралово',\n",
       "       'поселок городского типа Кондратьево',\n",
       "       'коттеджный поселок Счастье', 'поселок Любань', 'деревня Реброво',\n",
       "       'деревня Зимитицы', 'деревня Тойворово', 'поселок Семиозерье',\n",
       "       'поселок Лесное', 'поселок Совхозный', 'поселок Усть-Луга',\n",
       "       'посёлок Ленинское', 'посёлок Суйда',\n",
       "       'посёлок городского типа Форносово', 'деревня Нижние Осельки',\n",
       "       'посёлок станции Свирь', 'поселок Перово', 'Высоцк',\n",
       "       'поселок Гарболово', 'село Шум', 'поселок Котельский',\n",
       "       'поселок станции Лужайка', 'деревня Большая Пустомержа',\n",
       "       'поселок Красносельское', 'деревня Вахнова Кара', 'деревня Пижма',\n",
       "       'коттеджный поселок Кивеннапа Север', 'поселок Коробицыно',\n",
       "       'поселок Ромашки', 'посёлок Перово', 'деревня Каськово',\n",
       "       'деревня Куровицы', 'посёлок Плоское', 'поселок Сумино',\n",
       "       'поселок городского типа Большая Ижора', 'поселок Кирпичное',\n",
       "       'деревня Ям-Тесово', 'деревня Раздолье', 'деревня Терпилицы',\n",
       "       'поселок городского типа Токсово', 'посёлок Шугозеро',\n",
       "       'деревня Ваганово', 'поселок Пушное', 'садовое товарищество Садко',\n",
       "       'посёлок Усть-Ижора', 'деревня Выскатка',\n",
       "       'городской посёлок Свирьстрой', 'поселок Громово',\n",
       "       'деревня Кисельня', 'посёлок Старая Малукса',\n",
       "       'деревня Трубников Бор', 'поселок Калитино',\n",
       "       'посёлок Высокоключевой', 'садовое товарищество Приладожский',\n",
       "       'посёлок Пансионат Зелёный Бор', 'деревня Ненимяки',\n",
       "       'поселок Пансионат Зелёный Бор', 'деревня Снегирёвка',\n",
       "       'деревня Рапполово', 'деревня Пустынка', 'поселок Рабитицы',\n",
       "       'деревня Большой Сабск', 'деревня Русско', 'деревня Лупполово',\n",
       "       'деревня Большое Рейзино', 'деревня Малая Романовка',\n",
       "       'поселок Дружноселье', 'поселок Пчевжа', 'поселок Володарское',\n",
       "       'деревня Нижняя', 'коттеджный посёлок Лесное', 'деревня Тихковицы',\n",
       "       'деревня Борисова Грива', 'посёлок Дзержинского'], dtype=object)"
      ]
     },
     "execution_count": 30,
     "metadata": {},
     "output_type": "execute_result"
    }
   ],
   "source": [
    "#вывел перечень уникальных значений столбца locality_name\n",
    "data['locality_name'].unique()"
   ]
  },
  {
   "cell_type": "code",
   "execution_count": 31,
   "metadata": {},
   "outputs": [],
   "source": [
    "#привел к нижнему регистру названия в locality_name\n",
    "data['locality_name'] = data['locality_name'].str.lower()"
   ]
  },
  {
   "cell_type": "code",
   "execution_count": 32,
   "metadata": {},
   "outputs": [],
   "source": [
    "#меняю 'посёлок' и все синонимы этого слова на 'поселок' в locality_name\n",
    "name = 'посёлок'\n",
    "name_1 = 'поселок'\n",
    "for r in data['locality_name'].unique():\n",
    "    rows = (data['locality_name'] == r) & (data['locality_name'].str.contains(name))\n",
    "    data.loc[rows, \"locality_name\"] = data['locality_name'].str.replace(name, name_1)"
   ]
  },
  {
   "cell_type": "code",
   "execution_count": 33,
   "metadata": {},
   "outputs": [],
   "source": [
    "name = 'поселок городского типа'\n",
    "name_1 = 'поселок'\n",
    "for r in data['locality_name'].unique():\n",
    "    rows = (data['locality_name'] == r) & (data['locality_name'].str.contains(name))\n",
    "    data.loc[rows, \"locality_name\"] = data['locality_name'].str.replace(name, name_1)"
   ]
  },
  {
   "cell_type": "code",
   "execution_count": 34,
   "metadata": {},
   "outputs": [],
   "source": [
    "name = 'городской поселок'\n",
    "name_1 = 'поселок'\n",
    "for r in data['locality_name'].unique():\n",
    "    rows = (data['locality_name'] == r) & (data['locality_name'].str.contains(name))\n",
    "    data.loc[rows, \"locality_name\"] = data['locality_name'].str.replace(name, name_1)"
   ]
  },
  {
   "cell_type": "code",
   "execution_count": 35,
   "metadata": {},
   "outputs": [],
   "source": [
    "name = 'коттеджный поселок'\n",
    "name_1 = 'поселок'\n",
    "for r in data['locality_name'].unique():\n",
    "    rows = (data['locality_name'] == r) & (data['locality_name'].str.contains(name))\n",
    "    data.loc[rows, \"locality_name\"] = data['locality_name'].str.replace(name, name_1)"
   ]
  },
  {
   "cell_type": "code",
   "execution_count": 36,
   "metadata": {},
   "outputs": [],
   "source": [
    "name = 'поселок пансионат'\n",
    "name_1 = 'поселок'\n",
    "for r in data['locality_name'].unique():\n",
    "    rows = (data['locality_name'] == r) & (data['locality_name'].str.contains(name))\n",
    "    data.loc[rows, \"locality_name\"] = data['locality_name'].str.replace(name, name_1)"
   ]
  },
  {
   "cell_type": "code",
   "execution_count": 37,
   "metadata": {},
   "outputs": [],
   "source": [
    "name = 'садовое товарищество'\n",
    "name_1 = 'поселок'\n",
    "for r in data['locality_name'].unique():\n",
    "    rows = (data['locality_name'] == r) & (data['locality_name'].str.contains(name))\n",
    "    data.loc[rows, \"locality_name\"] = data['locality_name'].str.replace(name, name_1)"
   ]
  },
  {
   "cell_type": "code",
   "execution_count": 38,
   "metadata": {},
   "outputs": [],
   "source": [
    "name = 'поселок при железнодорожной станции'\n",
    "name_1 = 'поселок'\n",
    "for r in data['locality_name'].unique():\n",
    "    rows = (data['locality_name'] == r) & (data['locality_name'].str.contains(name))\n",
    "    data.loc[rows, \"locality_name\"] = data['locality_name'].str.replace(name, name_1)"
   ]
  },
  {
   "cell_type": "code",
   "execution_count": 39,
   "metadata": {},
   "outputs": [],
   "source": [
    "name = 'садоводческое некоммерческое товарищество'\n",
    "name_1 = 'поселок'\n",
    "for r in data['locality_name'].unique():\n",
    "    rows = (data['locality_name'] == r) & (data['locality_name'].str.contains(name))\n",
    "    data.loc[rows, \"locality_name\"] = data['locality_name'].str.replace(name, name_1)"
   ]
  },
  {
   "cell_type": "code",
   "execution_count": 40,
   "metadata": {},
   "outputs": [
    {
     "data": {
      "text/plain": [
       "array(['санкт-петербург', 'поселок шушары', 'поселок янино-1',\n",
       "       'поселок парголово', 'поселок мурино', 'ломоносов', 'сертолово',\n",
       "       'петергоф', 'пушкин', 'деревня кудрово', 'коммунар', 'колпино',\n",
       "       'поселок красный бор', 'гатчина', 'деревня фёдоровское', 'выборг',\n",
       "       'кронштадт', 'кировск', 'деревня новое девяткино',\n",
       "       'поселок металлострой', 'поселок лебяжье', 'поселок сиверский',\n",
       "       'поселок молодцово', 'поселок кузьмоловский',\n",
       "       'поселок новая ропша', 'павловск', 'деревня пикколово',\n",
       "       'всеволожск', 'волхов', 'кингисепп', 'приозерск', 'сестрорецк',\n",
       "       'деревня куттузи', 'поселок аннино', 'поселок ефимовский',\n",
       "       'поселок плодовое', 'деревня заклинье', 'поселок торковичи',\n",
       "       'поселок первомайское', 'красное село', 'поселок понтонный',\n",
       "       'сясьстрой', 'деревня старая', 'деревня лесколово',\n",
       "       'поселок новый свет', 'сланцы', 'село путилово', 'ивангород',\n",
       "       'мурино', 'шлиссельбург', 'никольское', 'зеленогорск',\n",
       "       'сосновый бор', 'деревня оржицы', 'деревня кальтино', 'кудрово',\n",
       "       'поселок романовка', 'поселок бугры', 'поселок рощино', 'кириши',\n",
       "       'луга', 'волосово', 'отрадное', 'село павлово', 'поселок оредеж',\n",
       "       'село копорье', 'поселок молодёжное', 'тихвин', 'поселок победа',\n",
       "       'деревня нурма', 'поселок синявино', 'тосно', 'поселок стрельна',\n",
       "       'бокситогорск', 'поселок александровская', 'деревня лопухинка',\n",
       "       'пикалёво', 'поселок терволово', 'поселок советский', 'подпорожье',\n",
       "       'поселок петровское', 'поселок токсово', 'поселок сельцо',\n",
       "       'поселок вырица', 'деревня кипень', 'деревня келози',\n",
       "       'деревня вартемяги', 'поселок тельмана', 'поселок севастьяново',\n",
       "       'поселок большая ижора', 'поселок павлово', 'деревня агалатово',\n",
       "       'поселок новогорелово', 'поселок лесогорский', 'деревня лаголово',\n",
       "       'поселок цвелодубово', 'поселок рахья', 'деревня белогорка',\n",
       "       'поселок заводской', 'поселок новоселье',\n",
       "       'деревня большие колпаны', 'деревня горбунки', 'деревня батово',\n",
       "       'деревня заневка', 'деревня иссад', 'приморск',\n",
       "       'поселок фёдоровское', 'деревня мистолово', 'новая ладога',\n",
       "       'поселок зимитицы', 'поселок барышево', 'деревня разметелево',\n",
       "       'поселок имени свердлова', 'деревня пеники', 'поселок рябово',\n",
       "       'деревня пудомяги', 'поселок станции корнево', 'деревня низино',\n",
       "       'деревня бегуницы', 'поселок поляны', 'поселок мга',\n",
       "       'поселок елизаветино', 'поселок кузнечное', 'деревня колтуши',\n",
       "       'поселок запорожское', 'деревня гостилицы',\n",
       "       'деревня малое карлино', 'поселок мичуринское',\n",
       "       'поселок имени морозова', 'поселок песочный', 'поселок сосново',\n",
       "       'деревня аро', 'поселок ильичёво', 'поселок тайцы',\n",
       "       'деревня малое верево', 'деревня извара', 'поселок станции вещево',\n",
       "       'село паша', 'деревня калитино', 'поселок ульяновка',\n",
       "       'деревня чудской бор', 'поселок дубровка', 'деревня мины',\n",
       "       'поселок войсковицы', 'деревня коркино', 'поселок ропша',\n",
       "       'поселок приладожский', 'поселок щеглово', 'поселок гаврилово',\n",
       "       'лодейное поле', 'деревня рабитицы', 'поселок никольский',\n",
       "       'деревня кузьмолово', 'деревня малые колпаны',\n",
       "       'поселок петро-славянка', 'поселок назия', 'поселок репино',\n",
       "       'поселок углово', 'поселок старая малукса', 'деревня меньково',\n",
       "       'деревня старые бегуницы', 'поселок сапёрный', 'поселок семрино',\n",
       "       'поселок глажево', 'поселок кобринское', 'деревня гарболово',\n",
       "       'деревня юкки', 'поселок станции приветнинское',\n",
       "       'деревня мануйлово', 'деревня пчева', 'поселок цвылёво',\n",
       "       'поселок мельниково', 'поселок пудость', 'поселок усть-луга',\n",
       "       'светогорск', 'любань', 'поселок селезнёво', 'каменногорск',\n",
       "       'деревня кривко', 'поселок глебычево', 'деревня парицы',\n",
       "       'поселок жилпоселок', 'поселок войскорово', 'село никольское',\n",
       "       'поселок стеклянный', 'поселок важины', 'поселок мыза-ивановка',\n",
       "       'село русско-высоцкое', 'поселок форносово', 'село старая ладога',\n",
       "       'поселок житково', 'поселок виллози', 'деревня лампово',\n",
       "       'деревня шпаньково', 'деревня лаврики', 'поселок сумино',\n",
       "       'поселок возрождение', 'деревня старосиверская',\n",
       "       'поселок кикерино', 'деревня старое хинколово',\n",
       "       'поселок пригородный', 'поселок торфяное', 'поселок будогощь',\n",
       "       'поселок суходолье', 'поселок красная долина', 'деревня хапо-ое',\n",
       "       'поселок дружная горка', 'поселок лисий нос', 'деревня яльгелево',\n",
       "       'село рождествено', 'деревня старополье', 'поселок левашово',\n",
       "       'деревня сяськелево', 'деревня камышовка', 'поселок лесная поляна',\n",
       "       'деревня хязельки', 'поселок жилгородок', 'деревня ялгино',\n",
       "       'поселок новый учхоз', 'поселок гончарово', 'поселок почап',\n",
       "       'поселок сапёрное', 'поселок платформа 69-й километр',\n",
       "       'поселок каложицы', 'деревня фалилеево', 'деревня пельгора',\n",
       "       'деревня торошковичи', 'поселок белоостров', 'поселок алексеевка',\n",
       "       'поселок серебрянский', 'поселок лукаши', 'деревня щеглово',\n",
       "       'деревня тарасово', 'поселок кингисеппский', 'поселок вещево',\n",
       "       'поселок ушаки', 'деревня котлы', 'деревня сижно',\n",
       "       'деревня торосово', 'поселок форт красная горка',\n",
       "       'деревня новолисино', 'поселок станции громово', 'деревня глинка',\n",
       "       'деревня старая пустошь', 'поселок коммунары', 'поселок починок',\n",
       "       'поселок вознесенье', 'деревня разбегаево', 'поселок гладкое',\n",
       "       'поселок приветнинское', 'поселок тёсово-4', 'деревня бор',\n",
       "       'поселок коробицыно', 'деревня большая вруда', 'деревня курковицы',\n",
       "       'поселок кобралово', 'деревня суоранда', 'поселок кондратьево',\n",
       "       'поселок счастье', 'поселок любань', 'деревня реброво',\n",
       "       'деревня зимитицы', 'деревня тойворово', 'поселок семиозерье',\n",
       "       'поселок лесное', 'поселок совхозный', 'поселок ленинское',\n",
       "       'поселок суйда', 'деревня нижние осельки', 'поселок станции свирь',\n",
       "       'поселок перово', 'высоцк', 'поселок гарболово', 'село шум',\n",
       "       'поселок котельский', 'поселок станции лужайка',\n",
       "       'деревня большая пустомержа', 'поселок красносельское',\n",
       "       'деревня вахнова кара', 'деревня пижма', 'поселок кивеннапа север',\n",
       "       'поселок ромашки', 'деревня каськово', 'деревня куровицы',\n",
       "       'поселок плоское', 'поселок кирпичное', 'деревня ям-тесово',\n",
       "       'деревня раздолье', 'деревня терпилицы', 'поселок шугозеро',\n",
       "       'деревня ваганово', 'поселок пушное', 'поселок садко',\n",
       "       'поселок усть-ижора', 'деревня выскатка', 'поселок свирьстрой',\n",
       "       'поселок громово', 'деревня кисельня', 'деревня трубников бор',\n",
       "       'поселок калитино', 'поселок высокоключевой',\n",
       "       'поселок зелёный бор', 'деревня ненимяки', 'деревня снегирёвка',\n",
       "       'деревня рапполово', 'деревня пустынка', 'поселок рабитицы',\n",
       "       'деревня большой сабск', 'деревня русско', 'деревня лупполово',\n",
       "       'деревня большое рейзино', 'деревня малая романовка',\n",
       "       'поселок дружноселье', 'поселок пчевжа', 'поселок володарское',\n",
       "       'деревня нижняя', 'деревня тихковицы', 'деревня борисова грива',\n",
       "       'поселок дзержинского'], dtype=object)"
      ]
     },
     "execution_count": 40,
     "metadata": {},
     "output_type": "execute_result"
    }
   ],
   "source": [
    "data['locality_name'].unique()"
   ]
  },
  {
   "cell_type": "markdown",
   "metadata": {},
   "source": [
    "**Вывод по устранению неявных дубликатов:** в \"locality_name\" оказалось много синонимов слова \"посёлок\", всех их свёл под единое слово \"поселок\", так же было решено не совмещать \"поселок\" и \"деревня\", тк это разные типы населенных пунктов, а те погрешности, что остались можно принять незначительными"
   ]
  },
  {
   "cell_type": "markdown",
   "metadata": {},
   "source": [
    "### Устранение аномальных значений"
   ]
  },
  {
   "cell_type": "code",
   "execution_count": 41,
   "metadata": {},
   "outputs": [
    {
     "data": {
      "text/plain": [
       "23565"
      ]
     },
     "execution_count": 41,
     "metadata": {},
     "output_type": "execute_result"
    }
   ],
   "source": [
    "#посчитаю общую сумму строк в ceiling_height до удаления\n",
    "data['ceiling_height'].value_counts().sum()"
   ]
  },
  {
   "cell_type": "code",
   "execution_count": 42,
   "metadata": {},
   "outputs": [
    {
     "data": {
      "text/plain": [
       "array([  2.7 ,   2.65,   3.03,   2.5 ,   2.67,   2.56,   3.05,   2.75,\n",
       "         2.6 ,   2.9 ,   2.8 ,   2.55,   3.  ,   3.2 ,   2.61,   3.25,\n",
       "         3.45,   2.77,   2.85,   2.64,   2.57,   4.15,   3.5 ,   3.3 ,\n",
       "         2.71,   4.  ,   2.47,   2.73,   2.84,   3.1 ,   2.34,   3.4 ,\n",
       "         3.06,   2.72,   2.54,   2.51,   2.78,   2.76,  25.  ,   2.58,\n",
       "         3.7 ,   2.52,   5.2 ,   2.87,   2.66,   2.59,   2.  ,   2.45,\n",
       "         3.6 ,   2.92,   3.11,   3.13,   3.8 ,   3.15,   3.55,   3.16,\n",
       "         3.62,   3.12,   2.53,   2.74,   2.96,   2.46,   5.3 ,   5.  ,\n",
       "         2.79,   2.95,   4.06,   2.94,   3.82,   3.54,   3.53,   2.83,\n",
       "         4.7 ,   2.4 ,   3.38,   3.01,   5.6 ,   3.65,   3.9 ,   3.18,\n",
       "         3.35,   2.3 ,   3.57,   2.48,   2.62,   2.82,   3.98,   2.63,\n",
       "         3.83,   3.52,   3.95,   3.75,   2.88,   3.67,   3.87,   3.66,\n",
       "         3.85,   3.86,   4.19,   3.24,   4.8 ,   4.5 ,   4.2 ,   3.36,\n",
       "        32.  ,   3.08,   3.68,   3.07,   3.37,   3.09,   8.  ,   3.26,\n",
       "         3.34,   2.81,   3.44,   2.97,   3.14,   4.37,   2.68,   3.22,\n",
       "         3.27,  27.  ,   4.1 ,   2.93,   3.46,  24.  ,   3.47,   3.33,\n",
       "         3.63,   3.32,  26.  ,   1.2 ,   8.3 ,   2.98,   2.86,   3.17,\n",
       "         4.4 ,   3.28,   3.04,   4.45,   5.5 ,   3.84,   3.23,   3.02,\n",
       "         3.21,   3.43,   3.78,   4.3 ,   3.39,   2.69,   3.31,   4.65,\n",
       "         3.56,   2.2 ,   3.51,   3.93,   3.42,   2.99,   3.49,  14.  ,\n",
       "         4.14,   2.91,   3.88,   1.75,   4.25,   3.29,  20.  ,   2.25,\n",
       "         3.76,   3.69,   6.  ,  22.6 ,   2.89,   3.58,   5.8 ,  27.5 ,\n",
       "         2.49,   4.9 ,   3.48,  10.3 ,   1.  , 100.  ,   3.59])"
      ]
     },
     "execution_count": 42,
     "metadata": {},
     "output_type": "execute_result"
    }
   ],
   "source": [
    "#вывел перечень уникальных значений столбца ceiling_height\n",
    "data['ceiling_height'].unique()"
   ]
  },
  {
   "cell_type": "code",
   "execution_count": 43,
   "metadata": {},
   "outputs": [],
   "source": [
    "#удаляю все значения меньше 2 и больше 5\n",
    "data = data.drop(data.loc[(data['ceiling_height'] <= 2) | (data['ceiling_height'] >= 5)].index)"
   ]
  },
  {
   "cell_type": "code",
   "execution_count": 44,
   "metadata": {},
   "outputs": [
    {
     "data": {
      "text/plain": [
       "23514"
      ]
     },
     "execution_count": 44,
     "metadata": {},
     "output_type": "execute_result"
    }
   ],
   "source": [
    "#посчитаю общую сумму строк в ceiling_height после удаления\n",
    "data['ceiling_height'].value_counts().sum()"
   ]
  },
  {
   "cell_type": "code",
   "execution_count": 45,
   "metadata": {},
   "outputs": [
    {
     "data": {
      "text/plain": [
       "array([ 3,  1,  2,  4,  5,  6,  0,  7, 11,  8, 14, 10, 15,  9, 19, 16, 12])"
      ]
     },
     "execution_count": 45,
     "metadata": {},
     "output_type": "execute_result"
    }
   ],
   "source": [
    "#вывел перечень уникальных значений столбца rooms\n",
    "data['rooms'].unique()"
   ]
  },
  {
   "cell_type": "code",
   "execution_count": 46,
   "metadata": {},
   "outputs": [],
   "source": [
    "#удаляю значения с 0 комнат\n",
    "data = data.drop(data.loc[(data['rooms'] == 0)].index)"
   ]
  },
  {
   "cell_type": "code",
   "execution_count": 47,
   "metadata": {},
   "outputs": [
    {
     "data": {
      "text/plain": [
       "23322"
      ]
     },
     "execution_count": 47,
     "metadata": {},
     "output_type": "execute_result"
    }
   ],
   "source": [
    "#посчитаю общую сумму строк в rooms после удаления\n",
    "data['rooms'].value_counts().sum()"
   ]
  },
  {
   "cell_type": "markdown",
   "metadata": {},
   "source": [
    "**Вывод по устранению аномальных значений:** в \"ceiling_height\" были удаленны значения меньше 2 и больше 5, тк помещения с такой высотой маловероятны, а количество строк с этими значениями невелико. Также удаляем 0 значения в \"rooms\""
   ]
  },
  {
   "cell_type": "markdown",
   "metadata": {},
   "source": [
    "### Вывод по предобработке данных"
   ]
  },
  {
   "cell_type": "code",
   "execution_count": 48,
   "metadata": {},
   "outputs": [
    {
     "name": "stdout",
     "output_type": "stream",
     "text": [
      "<class 'pandas.core.frame.DataFrame'>\n",
      "Int64Index: 23322 entries, 0 to 23698\n",
      "Data columns (total 22 columns):\n",
      " #   Column                Non-Null Count  Dtype         \n",
      "---  ------                --------------  -----         \n",
      " 0   total_images          23322 non-null  int64         \n",
      " 1   last_price            23322 non-null  int64         \n",
      " 2   total_area            23322 non-null  float64       \n",
      " 3   first_day_exposition  23322 non-null  datetime64[ns]\n",
      " 4   rooms                 23322 non-null  int64         \n",
      " 5   ceiling_height        23322 non-null  float64       \n",
      " 6   floors_total          23322 non-null  int64         \n",
      " 7   living_area           23322 non-null  float64       \n",
      " 8   floor                 23322 non-null  int64         \n",
      " 9   is_apartment          23322 non-null  bool          \n",
      " 10  studio                23322 non-null  bool          \n",
      " 11  open_plan             23322 non-null  bool          \n",
      " 12  kitchen_area          23322 non-null  float64       \n",
      " 13  balcony               23322 non-null  int64         \n",
      " 14  locality_name         23322 non-null  object        \n",
      " 15  airports_nearest      17894 non-null  float64       \n",
      " 16  city_centers_nearest  17917 non-null  float64       \n",
      " 17  parks_around3000      23322 non-null  int64         \n",
      " 18  parks_nearest         7985 non-null   float64       \n",
      " 19  ponds_around3000      23322 non-null  int64         \n",
      " 20  ponds_nearest         8950 non-null   float64       \n",
      " 21  days_exposition       20176 non-null  float64       \n",
      "dtypes: bool(3), datetime64[ns](1), float64(9), int64(8), object(1)\n",
      "memory usage: 3.6+ MB\n"
     ]
    }
   ],
   "source": [
    "data.info()"
   ]
  },
  {
   "cell_type": "markdown",
   "metadata": {},
   "source": [
    "**В ходе предобработки данных:** были обработанны пропущенные значения в \"locality_name\", \"floors_total\", \"ceiling_height\", \"living_area\", \"kitchen_area\", \"airports_nearest\", \"cityCenters_nearest\", \"parks_around3000\", \"parks_nearest\", \"ponds_around3000\" и \"ponds_nearest\". Большинство пропусков были заменены на медианные значения, малая часть удалена в следствии невозможности замены на что-либо подходящее.\n",
    "\n",
    "Был изменен тип данных в \"last_price\" с float на int, тк их значения целые. Также тип object в \"first_day_exposition\" изменен на datetime64 для дальнейшей работы.\n",
    "\n",
    "Были устранены неявные дубликаты в \"locality_name\".\n",
    "\n",
    "Были удалены аномальные значения в \"ceiling_height\" и \"rooms\".\n",
    "\n",
    "От изначального количества строк в датафрейме(23699) было в общей сумме удалено 377 строки, что составляет 1,57%.\n"
   ]
  },
  {
   "cell_type": "markdown",
   "metadata": {},
   "source": [
    "## Посчитайте и добавьте в таблицу новые столбцы"
   ]
  },
  {
   "cell_type": "markdown",
   "metadata": {},
   "source": [
    "### Цена одного квадратного метра"
   ]
  },
  {
   "cell_type": "code",
   "execution_count": 49,
   "metadata": {},
   "outputs": [],
   "source": [
    "#добавляю в таблицу цену одного квадратного метра\n",
    "data['price_per_square_meter'] = data['last_price'] / data['total_area']"
   ]
  },
  {
   "cell_type": "markdown",
   "metadata": {},
   "source": [
    "### День недели публикации объявления"
   ]
  },
  {
   "cell_type": "code",
   "execution_count": 50,
   "metadata": {},
   "outputs": [],
   "source": [
    "#добавляю в таблицу день недели публикации объявления\n",
    "data['weekday'] = data['first_day_exposition'].dt.weekday"
   ]
  },
  {
   "cell_type": "markdown",
   "metadata": {},
   "source": [
    "### Месяц публикации объявления"
   ]
  },
  {
   "cell_type": "code",
   "execution_count": 51,
   "metadata": {},
   "outputs": [],
   "source": [
    "#добавляю в таблицу месяц публикации объявления\n",
    "data['month'] = data['first_day_exposition'].dt.month"
   ]
  },
  {
   "cell_type": "markdown",
   "metadata": {},
   "source": [
    "### Год публикации объявления"
   ]
  },
  {
   "cell_type": "code",
   "execution_count": 52,
   "metadata": {},
   "outputs": [],
   "source": [
    "#добавляю в таблицу год публикации объявления\n",
    "data['year'] = data['first_day_exposition'].dt.year"
   ]
  },
  {
   "cell_type": "markdown",
   "metadata": {},
   "source": [
    "### Тип этажа квартиры"
   ]
  },
  {
   "cell_type": "code",
   "execution_count": 53,
   "metadata": {},
   "outputs": [],
   "source": [
    "#пишу функцию с условием разделения этажей по типу\n",
    "def floors_type(row):\n",
    "    \n",
    "    floor = row['floor']\n",
    "    floors_total = row['floors_total']\n",
    "    \n",
    "    if floor == 1:\n",
    "        return 'Первый'\n",
    "    if floor == floors_total:\n",
    "        return 'Последний'\n",
    "    if 1 < floor < floors_total:\n",
    "        return 'Другое'"
   ]
  },
  {
   "cell_type": "code",
   "execution_count": 54,
   "metadata": {},
   "outputs": [],
   "source": [
    "#добавляю в таблицу тип этажа квартиры\n",
    "data['floors_type'] = data.apply(floors_type, axis = 1)"
   ]
  },
  {
   "cell_type": "markdown",
   "metadata": {},
   "source": [
    "### Расстояние до центра города в километрах"
   ]
  },
  {
   "cell_type": "code",
   "execution_count": 55,
   "metadata": {},
   "outputs": [],
   "source": [
    "#добавляю в таблицу расстояние до центра города в километрах\n",
    "data['city_centers_nearest_km'] = data['city_centers_nearest'] / 1000"
   ]
  },
  {
   "cell_type": "code",
   "execution_count": 56,
   "metadata": {},
   "outputs": [],
   "source": [
    "#округляю значения в city_centers_nearest_km\n",
    "data['city_centers_nearest_km'] = data['city_centers_nearest_km'].round()"
   ]
  },
  {
   "cell_type": "markdown",
   "metadata": {},
   "source": [
    "## Проведите исследовательский анализ данных"
   ]
  },
  {
   "cell_type": "markdown",
   "metadata": {},
   "source": [
    "### Изучите следующие параметры объектов"
   ]
  },
  {
   "cell_type": "markdown",
   "metadata": {},
   "source": [
    "#### Общая площадь"
   ]
  },
  {
   "cell_type": "code",
   "execution_count": 57,
   "metadata": {},
   "outputs": [
    {
     "data": {
      "text/plain": [
       "<AxesSubplot:>"
      ]
     },
     "execution_count": 57,
     "metadata": {},
     "output_type": "execute_result"
    },
    {
     "data": {
      "image/png": "[encoded data removed]",
      "text/plain": [
       "<Figure size 432x288 with 1 Axes>"
      ]
     },
     "metadata": {
      "needs_background": "light"
     },
     "output_type": "display_data"
    }
   ],
   "source": [
    "#строю гистограмму по total_area\n",
    "data['total_area'].hist(bins = 100)"
   ]
  },
  {
   "cell_type": "markdown",
   "metadata": {},
   "source": [
    "**Вывод:**Гистограмма показала, что большая часть общей площади квартир находится в диапозоне от 20 до 100 квадратных метров, что хорошо соотносится с действительностью"
   ]
  },
  {
   "cell_type": "markdown",
   "metadata": {},
   "source": [
    "#### Жилая площадь"
   ]
  },
  {
   "cell_type": "code",
   "execution_count": 58,
   "metadata": {},
   "outputs": [
    {
     "data": {
      "text/plain": [
       "<AxesSubplot:>"
      ]
     },
     "execution_count": 58,
     "metadata": {},
     "output_type": "execute_result"
    },
    {
     "data": {
      "image/png": "[encoded data removed]",
      "text/plain": [
       "<Figure size 432x288 with 1 Axes>"
      ]
     },
     "metadata": {
      "needs_background": "light"
     },
     "output_type": "display_data"
    }
   ],
   "source": [
    "#строю гистограмму по living_area\n",
    "data['living_area'].hist(bins = 100)"
   ]
  },
  {
   "cell_type": "markdown",
   "metadata": {},
   "source": [
    "**Вывод:**Гистограмма показала, что большая часть жилой площади  находится в диапозоне от 20 до 50 квадратных метров, что тоже выглядит правдободобно. Интересно, что на отметки в 25 есть просадка"
   ]
  },
  {
   "cell_type": "markdown",
   "metadata": {},
   "source": [
    "#### Площадь кухни"
   ]
  },
  {
   "cell_type": "code",
   "execution_count": 59,
   "metadata": {},
   "outputs": [
    {
     "data": {
      "text/plain": [
       "<AxesSubplot:>"
      ]
     },
     "execution_count": 59,
     "metadata": {},
     "output_type": "execute_result"
    },
    {
     "data": {
      "image/png": "[encoded data removed]",
      "text/plain": [
       "<Figure size 432x288 with 1 Axes>"
      ]
     },
     "metadata": {
      "needs_background": "light"
     },
     "output_type": "display_data"
    }
   ],
   "source": [
    "#строю гистограмму по kitchen_area\n",
    "data['kitchen_area'].hist(bins = 100)"
   ]
  },
  {
   "cell_type": "markdown",
   "metadata": {},
   "source": [
    "**Вывод:**Гистограмма показала, что большая часть площади кухни находится в диапозоне от 8 до 15 квадратных метров, что опять же очень похоже на реальные данные"
   ]
  },
  {
   "cell_type": "markdown",
   "metadata": {},
   "source": [
    "#### Цена объекта"
   ]
  },
  {
   "cell_type": "code",
   "execution_count": 60,
   "metadata": {},
   "outputs": [
    {
     "data": {
      "text/plain": [
       "<AxesSubplot:>"
      ]
     },
     "execution_count": 60,
     "metadata": {},
     "output_type": "execute_result"
    },
    {
     "data": {
      "image/png": "[encoded data removed]",
      "text/plain": [
       "<Figure size 432x288 with 1 Axes>"
      ]
     },
     "metadata": {
      "needs_background": "light"
     },
     "output_type": "display_data"
    }
   ],
   "source": [
    "#строю гистограмму по last_price\n",
    "data['last_price'].hist(bins = 100, range = (1000000, 10000000))"
   ]
  },
  {
   "cell_type": "markdown",
   "metadata": {},
   "source": [
    "**Вывод:**Гистограмма показала, что в среднем цена за квартиру в дипозоне 4 миллионов рублей +- 0.5 миллиона"
   ]
  },
  {
   "cell_type": "markdown",
   "metadata": {},
   "source": [
    "#### Количество комнат"
   ]
  },
  {
   "cell_type": "code",
   "execution_count": 61,
   "metadata": {},
   "outputs": [
    {
     "data": {
      "text/plain": [
       "<AxesSubplot:>"
      ]
     },
     "execution_count": 61,
     "metadata": {},
     "output_type": "execute_result"
    },
    {
     "data": {
      "image/png": "[encoded data removed]",
      "text/plain": [
       "<Figure size 432x288 with 1 Axes>"
      ]
     },
     "metadata": {
      "needs_background": "light"
     },
     "output_type": "display_data"
    }
   ],
   "source": [
    "#строю гистограмму по rooms\n",
    "data['rooms'].hist(bins = 20, range = (0, 10))"
   ]
  },
  {
   "cell_type": "markdown",
   "metadata": {},
   "source": [
    "**Вывод:**Гистограмма показала, что большая часть квартир имеет от 1 до 3 комнат, что ни капельки не странно"
   ]
  },
  {
   "cell_type": "markdown",
   "metadata": {},
   "source": [
    "#### Высота потолков"
   ]
  },
  {
   "cell_type": "code",
   "execution_count": 62,
   "metadata": {},
   "outputs": [
    {
     "data": {
      "text/plain": [
       "<AxesSubplot:>"
      ]
     },
     "execution_count": 62,
     "metadata": {},
     "output_type": "execute_result"
    },
    {
     "data": {
      "image/png": "[encoded data removed]",
      "text/plain": [
       "<Figure size 432x288 with 1 Axes>"
      ]
     },
     "metadata": {
      "needs_background": "light"
     },
     "output_type": "display_data"
    }
   ],
   "source": [
    "#строю гистограмму по ceiling_height\n",
    "data['ceiling_height'].hist(bins = 50)"
   ]
  },
  {
   "cell_type": "markdown",
   "metadata": {},
   "source": [
    "**Вывод:**Гистограмма показала, что потолки в квартира чаще всего высотой 2.70 метра, это тоже похоже на правду"
   ]
  },
  {
   "cell_type": "markdown",
   "metadata": {},
   "source": [
    "#### Этаж квартиры"
   ]
  },
  {
   "cell_type": "code",
   "execution_count": 63,
   "metadata": {},
   "outputs": [
    {
     "data": {
      "text/plain": [
       "<AxesSubplot:>"
      ]
     },
     "execution_count": 63,
     "metadata": {},
     "output_type": "execute_result"
    },
    {
     "data": {
      "image/png": "[encoded data removed]",
      "text/plain": [
       "<Figure size 432x288 with 1 Axes>"
      ]
     },
     "metadata": {
      "needs_background": "light"
     },
     "output_type": "display_data"
    }
   ],
   "source": [
    "#строю гистограмму по floor\n",
    "data['floor'].hist(bins = 100)"
   ]
  },
  {
   "cell_type": "markdown",
   "metadata": {},
   "source": [
    "**Вывод:**Гистограмма показала, что большинство квартир находится от 1 до 5 этажа, это объясняется малым количеством высокоэтажных зданий в Петербурге и ЛО."
   ]
  },
  {
   "cell_type": "markdown",
   "metadata": {},
   "source": [
    "#### Тип этажа квартиры"
   ]
  },
  {
   "cell_type": "code",
   "execution_count": 64,
   "metadata": {},
   "outputs": [
    {
     "data": {
      "text/plain": [
       "<AxesSubplot:>"
      ]
     },
     "execution_count": 64,
     "metadata": {},
     "output_type": "execute_result"
    },
    {
     "data": {
      "image/png": "[encoded data removed]",
      "text/plain": [
       "<Figure size 432x288 with 1 Axes>"
      ]
     },
     "metadata": {
      "needs_background": "light"
     },
     "output_type": "display_data"
    }
   ],
   "source": [
    "#строю гистограмму по floors_type\n",
    "data['floors_type'].hist()"
   ]
  },
  {
   "cell_type": "markdown",
   "metadata": {},
   "source": [
    "**Вывод:**Гистограмма показала, что больше продаются квартиры на других этажах, нежели на первом или последнем, тк в целом в категории больший охват этажей"
   ]
  },
  {
   "cell_type": "markdown",
   "metadata": {},
   "source": [
    "#### Общее количество этажей в доме"
   ]
  },
  {
   "cell_type": "code",
   "execution_count": 65,
   "metadata": {},
   "outputs": [
    {
     "data": {
      "text/plain": [
       "<AxesSubplot:>"
      ]
     },
     "execution_count": 65,
     "metadata": {},
     "output_type": "execute_result"
    },
    {
     "data": {
      "image/png": "[encoded data removed]",
      "text/plain": [
       "<Figure size 432x288 with 1 Axes>"
      ]
     },
     "metadata": {
      "needs_background": "light"
     },
     "output_type": "display_data"
    }
   ],
   "source": [
    "#строю гистограмму по floors_total\n",
    "data['floors_total'].hist(bins = 50)"
   ]
  },
  {
   "cell_type": "markdown",
   "metadata": {},
   "source": [
    "**Вывод:**Гистограмма показала, что большинство зданий Петербурга и ЛО 4 и 8 этажные, выглядит правдиво, тк здания оветсвкого периода(хрущевки, брежневки) имеют именно такую высотность и их очень много. Есть также единичные аномальные значения в 40+ этажей, но я решил их оставить, тк есть вероятность, что это продажи квартир в Лахта центре =)"
   ]
  },
  {
   "cell_type": "markdown",
   "metadata": {},
   "source": [
    "#### Расстояние до центра города в метрах"
   ]
  },
  {
   "cell_type": "code",
   "execution_count": 66,
   "metadata": {},
   "outputs": [
    {
     "data": {
      "text/plain": [
       "<AxesSubplot:>"
      ]
     },
     "execution_count": 66,
     "metadata": {},
     "output_type": "execute_result"
    },
    {
     "data": {
      "image/png": "[encoded data removed]",
      "text/plain": [
       "<Figure size 432x288 with 1 Axes>"
      ]
     },
     "metadata": {
      "needs_background": "light"
     },
     "output_type": "display_data"
    }
   ],
   "source": [
    "#строю гистограмму по city_centers_nearest\n",
    "data['city_centers_nearest'].hist(bins = 100)"
   ]
  },
  {
   "cell_type": "markdown",
   "metadata": {},
   "source": [
    "**Вывод:**Гистограмма показала, что в среднем большинство квартир находится на отдалении 15 километров от центра, но есть также несколько значений и в 50 километров, преполагаю, что в некоторых деревнях центром может считаться центр другой деревни в отдалении"
   ]
  },
  {
   "cell_type": "markdown",
   "metadata": {},
   "source": [
    "#### Расстояние до ближайшего аэропорта"
   ]
  },
  {
   "cell_type": "code",
   "execution_count": 67,
   "metadata": {},
   "outputs": [
    {
     "data": {
      "text/plain": [
       "<AxesSubplot:>"
      ]
     },
     "execution_count": 67,
     "metadata": {},
     "output_type": "execute_result"
    },
    {
     "data": {
      "image/png": "[encoded data removed]",
      "text/plain": [
       "<Figure size 432x288 with 1 Axes>"
      ]
     },
     "metadata": {
      "needs_background": "light"
     },
     "output_type": "display_data"
    }
   ],
   "source": [
    "#строю гистограмму по airports_nearest\n",
    "data['airports_nearest'].hist(bins = 100)"
   ]
  },
  {
   "cell_type": "markdown",
   "metadata": {},
   "source": [
    "**Вывод:**Гистограмма показала, что в среднем большинство квартир находится на отдалении 15-40 километров от аэропорта, вполне ожидаемо"
   ]
  },
  {
   "cell_type": "markdown",
   "metadata": {},
   "source": [
    "#### Расстояние до ближайшего парка"
   ]
  },
  {
   "cell_type": "code",
   "execution_count": 68,
   "metadata": {},
   "outputs": [
    {
     "data": {
      "text/plain": [
       "<AxesSubplot:>"
      ]
     },
     "execution_count": 68,
     "metadata": {},
     "output_type": "execute_result"
    },
    {
     "data": {
      "image/png": "[encoded data removed]",
      "text/plain": [
       "<Figure size 432x288 with 1 Axes>"
      ]
     },
     "metadata": {
      "needs_background": "light"
     },
     "output_type": "display_data"
    }
   ],
   "source": [
    "#строю гистограмму по parks_nearest\n",
    "data['parks_nearest'].hist(bins = 50)"
   ]
  },
  {
   "cell_type": "markdown",
   "metadata": {},
   "source": [
    "**Вывод:**Гистограмма показала, что большинство квартир находится в 500 метрах от парка"
   ]
  },
  {
   "cell_type": "markdown",
   "metadata": {},
   "source": [
    "#### День и месяц публикации объявления"
   ]
  },
  {
   "cell_type": "code",
   "execution_count": 69,
   "metadata": {},
   "outputs": [
    {
     "data": {
      "text/plain": [
       "<AxesSubplot:>"
      ]
     },
     "execution_count": 69,
     "metadata": {},
     "output_type": "execute_result"
    },
    {
     "data": {
      "image/png": "[encoded data removed]",
      "text/plain": [
       "<Figure size 432x288 with 1 Axes>"
      ]
     },
     "metadata": {
      "needs_background": "light"
     },
     "output_type": "display_data"
    }
   ],
   "source": [
    "#строю гистограмму по weekday\n",
    "data['weekday'].hist(bins = 20)"
   ]
  },
  {
   "cell_type": "markdown",
   "metadata": {},
   "source": [
    "**Вывод:**Гистограмма показала, что в будние дни объявления создавались чаще, чем в выходные, предполагаю, что все дело в рабочем графике риелторских контор, которые не работают по выходным"
   ]
  },
  {
   "cell_type": "code",
   "execution_count": 70,
   "metadata": {},
   "outputs": [
    {
     "data": {
      "text/plain": [
       "<AxesSubplot:>"
      ]
     },
     "execution_count": 70,
     "metadata": {},
     "output_type": "execute_result"
    },
    {
     "data": {
      "image/png": "[encoded data removed]",
      "text/plain": [
       "<Figure size 432x288 with 1 Axes>"
      ]
     },
     "metadata": {
      "needs_background": "light"
     },
     "output_type": "display_data"
    }
   ],
   "source": [
    "#строю гистограмму по month\n",
    "data['month'].hist(bins = 50)"
   ]
  },
  {
   "cell_type": "markdown",
   "metadata": {},
   "source": [
    "**Вывод:**Гистограмма показала, что чаще объявления создавались в феврале-апреле, чуть реже сентябрь-ноябрь и совсем редко летом и до/после нового года в декабре-январе"
   ]
  },
  {
   "cell_type": "markdown",
   "metadata": {},
   "source": [
    "### Изучите, как быстро продавались квартиры"
   ]
  },
  {
   "cell_type": "code",
   "execution_count": 71,
   "metadata": {},
   "outputs": [
    {
     "data": {
      "text/plain": [
       "<AxesSubplot:>"
      ]
     },
     "execution_count": 71,
     "metadata": {},
     "output_type": "execute_result"
    },
    {
     "data": {
      "image/png": "[encoded data removed]",
      "text/plain": [
       "<Figure size 432x288 with 1 Axes>"
      ]
     },
     "metadata": {
      "needs_background": "light"
     },
     "output_type": "display_data"
    }
   ],
   "source": [
    "#строю гистограмму по days_exposition\n",
    "data['days_exposition'].hist(bins = 100)"
   ]
  },
  {
   "cell_type": "code",
   "execution_count": 72,
   "metadata": {},
   "outputs": [
    {
     "data": {
      "text/plain": [
       "96.0"
      ]
     },
     "execution_count": 72,
     "metadata": {},
     "output_type": "execute_result"
    }
   ],
   "source": [
    "#считаю медианное значение days_exposition\n",
    "data['days_exposition'].median()"
   ]
  },
  {
   "cell_type": "code",
   "execution_count": 73,
   "metadata": {},
   "outputs": [
    {
     "data": {
      "text/plain": [
       "181.38605273592387"
      ]
     },
     "execution_count": 73,
     "metadata": {},
     "output_type": "execute_result"
    }
   ],
   "source": [
    "#считаю среднеарифметическое значение days_exposition\n",
    "data['days_exposition'].mean()"
   ]
  },
  {
   "cell_type": "code",
   "execution_count": 74,
   "metadata": {},
   "outputs": [
    {
     "data": {
      "text/plain": [
       "<AxesSubplot:xlabel='days_exposition'>"
      ]
     },
     "execution_count": 74,
     "metadata": {},
     "output_type": "execute_result"
    },
    {
     "data": {
      "image/png": "[encoded data removed]",
      "text/plain": [
       "<Figure size 432x288 with 1 Axes>"
      ]
     },
     "metadata": {
      "needs_background": "light"
     },
     "output_type": "display_data"
    }
   ],
   "source": [
    "sns.boxplot(data['days_exposition'])"
   ]
  },
  {
   "cell_type": "markdown",
   "metadata": {},
   "source": [
    "**Вывод:**В среднем(медианном) квартиры продаются за 96 дней, среднеарифметическое показывает примерно 170 дней, но это значение сильно оттягивается квартирами, которые не продаются годами.\n",
    "\n",
    "Считать быстрой продажей можно значения до медианного, а длинной продажей значения обозначенные как вброс на боксплоте, те примерно 500 дней."
   ]
  },
  {
   "cell_type": "markdown",
   "metadata": {},
   "source": [
    "### Какие факторы больше всего влияют на общую стоимость объекта"
   ]
  },
  {
   "cell_type": "markdown",
   "metadata": {},
   "source": [
    "#### От общей площади"
   ]
  },
  {
   "cell_type": "code",
   "execution_count": 75,
   "metadata": {},
   "outputs": [
    {
     "data": {
      "text/plain": [
       "<AxesSubplot:xlabel='total_area', ylabel='last_price'>"
      ]
     },
     "execution_count": 75,
     "metadata": {},
     "output_type": "execute_result"
    },
    {
     "data": {
      "image/png": "[encoded data removed]",
      "text/plain": [
       "<Figure size 576x576 with 1 Axes>"
      ]
     },
     "metadata": {
      "needs_background": "light"
     },
     "output_type": "display_data"
    }
   ],
   "source": [
    "#создаю график зависимости last_price от total_area делая срез по last_price не больше 100000000\n",
    "(data\n",
    "     .query('last_price < 100000000')\n",
    "     .plot(x='total_area', y='last_price', kind='scatter', grid=True, figsize=(8, 8))\n",
    ")"
   ]
  },
  {
   "cell_type": "markdown",
   "metadata": {},
   "source": [
    "#### От жилой площади"
   ]
  },
  {
   "cell_type": "code",
   "execution_count": 76,
   "metadata": {},
   "outputs": [
    {
     "data": {
      "text/plain": [
       "<AxesSubplot:xlabel='living_area', ylabel='last_price'>"
      ]
     },
     "execution_count": 76,
     "metadata": {},
     "output_type": "execute_result"
    },
    {
     "data": {
      "image/png": "[encoded data removed]",
      "text/plain": [
       "<Figure size 576x576 with 1 Axes>"
      ]
     },
     "metadata": {
      "needs_background": "light"
     },
     "output_type": "display_data"
    }
   ],
   "source": [
    "#создаю график зависимости last_price от living_area делая срез по last_price не больше 100000000\n",
    "(data\n",
    "     .query('last_price < 100000000')\n",
    "     .plot(x='living_area', y='last_price', kind='scatter', grid=True, figsize=(8, 8))\n",
    ")"
   ]
  },
  {
   "cell_type": "markdown",
   "metadata": {},
   "source": [
    "#### От площади кухни"
   ]
  },
  {
   "cell_type": "code",
   "execution_count": 77,
   "metadata": {},
   "outputs": [
    {
     "data": {
      "text/plain": [
       "<AxesSubplot:xlabel='kitchen_area', ylabel='last_price'>"
      ]
     },
     "execution_count": 77,
     "metadata": {},
     "output_type": "execute_result"
    },
    {
     "data": {
      "image/png": "[encoded data removed]",
      "text/plain": [
       "<Figure size 576x576 with 1 Axes>"
      ]
     },
     "metadata": {
      "needs_background": "light"
     },
     "output_type": "display_data"
    }
   ],
   "source": [
    "#создаю график зависимости last_price от kitchen_area делая срез по last_price не больше 100000000\n",
    "(data\n",
    "     .query('last_price < 100000000')\n",
    "     .plot(x='kitchen_area', y='last_price', kind='scatter', grid=True, figsize=(8, 8))\n",
    ")"
   ]
  },
  {
   "cell_type": "markdown",
   "metadata": {},
   "source": [
    "#### От количества комнат"
   ]
  },
  {
   "cell_type": "code",
   "execution_count": 78,
   "metadata": {},
   "outputs": [
    {
     "data": {
      "text/plain": [
       "<AxesSubplot:xlabel='rooms', ylabel='last_price'>"
      ]
     },
     "execution_count": 78,
     "metadata": {},
     "output_type": "execute_result"
    },
    {
     "data": {
      "image/png": "[encoded data removed]",
      "text/plain": [
       "<Figure size 576x576 with 1 Axes>"
      ]
     },
     "metadata": {
      "needs_background": "light"
     },
     "output_type": "display_data"
    }
   ],
   "source": [
    "#создаю график зависимости last_price от rooms делая срез по last_price не больше 100000000\n",
    "(data\n",
    "     .query('last_price < 100000000')\n",
    "     .plot(x='rooms', y='last_price', kind='scatter', grid=True, figsize=(8, 8))\n",
    ")"
   ]
  },
  {
   "cell_type": "markdown",
   "metadata": {},
   "source": [
    "#### От этажа, на котором расположена квартира"
   ]
  },
  {
   "cell_type": "code",
   "execution_count": 79,
   "metadata": {},
   "outputs": [
    {
     "data": {
      "text/plain": [
       "<AxesSubplot:xlabel='floors_type', ylabel='last_price'>"
      ]
     },
     "execution_count": 79,
     "metadata": {},
     "output_type": "execute_result"
    },
    {
     "data": {
      "image/png": "[encoded data removed]",
      "text/plain": [
       "<Figure size 576x576 with 1 Axes>"
      ]
     },
     "metadata": {
      "needs_background": "light"
     },
     "output_type": "display_data"
    }
   ],
   "source": [
    "#создаю график зависимости last_price от floors_type делая срез по last_price не больше 100000000\n",
    "(data\n",
    "     .query('last_price < 100000000')\n",
    "     .plot(x='floors_type', y='last_price', kind='scatter', grid=True, figsize=(8, 8))\n",
    ")"
   ]
  },
  {
   "cell_type": "markdown",
   "metadata": {},
   "source": [
    "#### От даты размещения"
   ]
  },
  {
   "cell_type": "code",
   "execution_count": 80,
   "metadata": {},
   "outputs": [
    {
     "data": {
      "text/plain": [
       "<AxesSubplot:xlabel='weekday', ylabel='last_price'>"
      ]
     },
     "execution_count": 80,
     "metadata": {},
     "output_type": "execute_result"
    },
    {
     "data": {
      "image/png": "[encoded data removed]",
      "text/plain": [
       "<Figure size 576x576 with 1 Axes>"
      ]
     },
     "metadata": {
      "needs_background": "light"
     },
     "output_type": "display_data"
    }
   ],
   "source": [
    "#создаю график зависимости last_price от weekday делая срез по last_price не больше 100000000\n",
    "(data\n",
    "     .query('last_price < 100000000')\n",
    "     .plot(x='weekday', y='last_price', kind='scatter', grid=True, figsize=(8, 8))\n",
    ")"
   ]
  },
  {
   "cell_type": "code",
   "execution_count": 81,
   "metadata": {},
   "outputs": [
    {
     "data": {
      "text/plain": [
       "<AxesSubplot:xlabel='month', ylabel='last_price'>"
      ]
     },
     "execution_count": 81,
     "metadata": {},
     "output_type": "execute_result"
    },
    {
     "data": {
      "image/png": "[encoded data removed]",
      "text/plain": [
       "<Figure size 576x576 with 1 Axes>"
      ]
     },
     "metadata": {
      "needs_background": "light"
     },
     "output_type": "display_data"
    }
   ],
   "source": [
    "#создаю график зависимости last_price от month делая срез по last_price не больше 100000000\n",
    "(data\n",
    "     .query('last_price < 100000000')\n",
    "     .plot(x='month', y='last_price', kind='scatter', grid=True, figsize=(8, 8))\n",
    ")"
   ]
  },
  {
   "cell_type": "code",
   "execution_count": 82,
   "metadata": {},
   "outputs": [
    {
     "data": {
      "text/plain": [
       "<AxesSubplot:xlabel='year', ylabel='last_price'>"
      ]
     },
     "execution_count": 82,
     "metadata": {},
     "output_type": "execute_result"
    },
    {
     "data": {
      "image/png": "[encoded data removed]",
      "text/plain": [
       "<Figure size 576x576 with 1 Axes>"
      ]
     },
     "metadata": {
      "needs_background": "light"
     },
     "output_type": "display_data"
    }
   ],
   "source": [
    "#создаю график зависимости last_price от year делая срез по last_price не больше 100000000\n",
    "(data\n",
    "     .query('last_price < 100000000')\n",
    "     .plot(x='year', y='last_price', kind='scatter', grid=True, figsize=(8, 8))\n",
    ")"
   ]
  },
  {
   "cell_type": "markdown",
   "metadata": {},
   "source": [
    "**Вывод:**В целом зависимость цены от общей, жилой и кухонной площади в большенстве случаем прямая, цена растет от увеличения площади. То же самое можно отметить и про количество комнат, чем больше, тем дороже, но график не такой явный. Этажность же особо не влияет на цену, кроме первого этажа, квартиры на нём дешевле. На графиках дней недели и месяцев зависимости не наблюдается, а на графике годов виден рост стоимости в 2017"
   ]
  },
  {
   "cell_type": "markdown",
   "metadata": {},
   "source": [
    "### Посчитайте среднюю цену одного квадратного метра в 10 населённых пунктах"
   ]
  },
  {
   "cell_type": "code",
   "execution_count": 83,
   "metadata": {},
   "outputs": [
    {
     "name": "stdout",
     "output_type": "stream",
     "text": [
      "<class 'pandas.core.frame.DataFrame'>\n",
      "Int64Index: 23322 entries, 0 to 23698\n",
      "Data columns (total 28 columns):\n",
      " #   Column                   Non-Null Count  Dtype         \n",
      "---  ------                   --------------  -----         \n",
      " 0   total_images             23322 non-null  int64         \n",
      " 1   last_price               23322 non-null  int64         \n",
      " 2   total_area               23322 non-null  float64       \n",
      " 3   first_day_exposition     23322 non-null  datetime64[ns]\n",
      " 4   rooms                    23322 non-null  int64         \n",
      " 5   ceiling_height           23322 non-null  float64       \n",
      " 6   floors_total             23322 non-null  int64         \n",
      " 7   living_area              23322 non-null  float64       \n",
      " 8   floor                    23322 non-null  int64         \n",
      " 9   is_apartment             23322 non-null  bool          \n",
      " 10  studio                   23322 non-null  bool          \n",
      " 11  open_plan                23322 non-null  bool          \n",
      " 12  kitchen_area             23322 non-null  float64       \n",
      " 13  balcony                  23322 non-null  int64         \n",
      " 14  locality_name            23322 non-null  object        \n",
      " 15  airports_nearest         17894 non-null  float64       \n",
      " 16  city_centers_nearest     17917 non-null  float64       \n",
      " 17  parks_around3000         23322 non-null  int64         \n",
      " 18  parks_nearest            7985 non-null   float64       \n",
      " 19  ponds_around3000         23322 non-null  int64         \n",
      " 20  ponds_nearest            8950 non-null   float64       \n",
      " 21  days_exposition          20176 non-null  float64       \n",
      " 22  price_per_square_meter   23322 non-null  float64       \n",
      " 23  weekday                  23322 non-null  int64         \n",
      " 24  month                    23322 non-null  int64         \n",
      " 25  year                     23322 non-null  int64         \n",
      " 26  floors_type              23322 non-null  object        \n",
      " 27  city_centers_nearest_km  17917 non-null  float64       \n",
      "dtypes: bool(3), datetime64[ns](1), float64(11), int64(11), object(2)\n",
      "memory usage: 4.7+ MB\n"
     ]
    }
   ],
   "source": [
    "data.info()"
   ]
  },
  {
   "cell_type": "code",
   "execution_count": 84,
   "metadata": {},
   "outputs": [],
   "source": [
    "#создаю сводную таблицу name_stat_pivot\n",
    "name_stat_pivot = data.pivot_table(index='locality_name', values='price_per_square_meter', aggfunc=('median', 'count'))"
   ]
  },
  {
   "cell_type": "code",
   "execution_count": 85,
   "metadata": {},
   "outputs": [
    {
     "data": {
      "text/html": [
       "<div>\n",
       "<style scoped>\n",
       "    .dataframe tbody tr th:only-of-type {\n",
       "        vertical-align: middle;\n",
       "    }\n",
       "\n",
       "    .dataframe tbody tr th {\n",
       "        vertical-align: top;\n",
       "    }\n",
       "\n",
       "    .dataframe thead th {\n",
       "        text-align: right;\n",
       "    }\n",
       "</style>\n",
       "<table border=\"1\" class=\"dataframe\">\n",
       "  <thead>\n",
       "    <tr style=\"text-align: right;\">\n",
       "      <th></th>\n",
       "      <th>count</th>\n",
       "      <th>median</th>\n",
       "    </tr>\n",
       "    <tr>\n",
       "      <th>locality_name</th>\n",
       "      <th></th>\n",
       "      <th></th>\n",
       "    </tr>\n",
       "  </thead>\n",
       "  <tbody>\n",
       "    <tr>\n",
       "      <th>санкт-петербург</th>\n",
       "      <td>15515</td>\n",
       "      <td>104650.000000</td>\n",
       "    </tr>\n",
       "    <tr>\n",
       "      <th>поселок мурино</th>\n",
       "      <td>525</td>\n",
       "      <td>84375.000000</td>\n",
       "    </tr>\n",
       "    <tr>\n",
       "      <th>поселок шушары</th>\n",
       "      <td>435</td>\n",
       "      <td>76666.666667</td>\n",
       "    </tr>\n",
       "    <tr>\n",
       "      <th>всеволожск</th>\n",
       "      <td>391</td>\n",
       "      <td>65789.473684</td>\n",
       "    </tr>\n",
       "    <tr>\n",
       "      <th>пушкин</th>\n",
       "      <td>369</td>\n",
       "      <td>100000.000000</td>\n",
       "    </tr>\n",
       "    <tr>\n",
       "      <th>колпино</th>\n",
       "      <td>338</td>\n",
       "      <td>74723.748474</td>\n",
       "    </tr>\n",
       "    <tr>\n",
       "      <th>поселок парголово</th>\n",
       "      <td>323</td>\n",
       "      <td>91917.591125</td>\n",
       "    </tr>\n",
       "    <tr>\n",
       "      <th>гатчина</th>\n",
       "      <td>306</td>\n",
       "      <td>67860.569236</td>\n",
       "    </tr>\n",
       "    <tr>\n",
       "      <th>деревня кудрово</th>\n",
       "      <td>283</td>\n",
       "      <td>91666.666667</td>\n",
       "    </tr>\n",
       "    <tr>\n",
       "      <th>выборг</th>\n",
       "      <td>235</td>\n",
       "      <td>58307.692308</td>\n",
       "    </tr>\n",
       "  </tbody>\n",
       "</table>\n",
       "</div>"
      ],
      "text/plain": [
       "                   count         median\n",
       "locality_name                          \n",
       "санкт-петербург    15515  104650.000000\n",
       "поселок мурино       525   84375.000000\n",
       "поселок шушары       435   76666.666667\n",
       "всеволожск           391   65789.473684\n",
       "пушкин               369  100000.000000\n",
       "колпино              338   74723.748474\n",
       "поселок парголово    323   91917.591125\n",
       "гатчина              306   67860.569236\n",
       "деревня кудрово      283   91666.666667\n",
       "выборг               235   58307.692308"
      ]
     },
     "execution_count": 85,
     "metadata": {},
     "output_type": "execute_result"
    }
   ],
   "source": [
    "#вывожу 10 населенных пунктов с наибольшим числом объявлений\n",
    "name_stat_pivot.sort_values(by='count', ascending=False).head(10)"
   ]
  },
  {
   "cell_type": "markdown",
   "metadata": {},
   "source": [
    "**Вывод:**Самая высокая стоимость за один квадратный метр в Санкт-Петербурге, самая низкая в Выборге"
   ]
  },
  {
   "cell_type": "markdown",
   "metadata": {},
   "source": [
    "### Опишите, как стоимость объектов зависит от расстояния до центра города"
   ]
  },
  {
   "cell_type": "code",
   "execution_count": 86,
   "metadata": {},
   "outputs": [
    {
     "data": {
      "text/html": [
       "<div>\n",
       "<style scoped>\n",
       "    .dataframe tbody tr th:only-of-type {\n",
       "        vertical-align: middle;\n",
       "    }\n",
       "\n",
       "    .dataframe tbody tr th {\n",
       "        vertical-align: top;\n",
       "    }\n",
       "\n",
       "    .dataframe thead th {\n",
       "        text-align: right;\n",
       "    }\n",
       "</style>\n",
       "<table border=\"1\" class=\"dataframe\">\n",
       "  <thead>\n",
       "    <tr style=\"text-align: right;\">\n",
       "      <th></th>\n",
       "      <th>last_price</th>\n",
       "    </tr>\n",
       "    <tr>\n",
       "      <th>city_centers_nearest_km</th>\n",
       "      <th></th>\n",
       "    </tr>\n",
       "  </thead>\n",
       "  <tbody>\n",
       "    <tr>\n",
       "      <th>0.0</th>\n",
       "      <td>17900000</td>\n",
       "    </tr>\n",
       "    <tr>\n",
       "      <th>1.0</th>\n",
       "      <td>11490000</td>\n",
       "    </tr>\n",
       "    <tr>\n",
       "      <th>2.0</th>\n",
       "      <td>10150000</td>\n",
       "    </tr>\n",
       "    <tr>\n",
       "      <th>3.0</th>\n",
       "      <td>8419000</td>\n",
       "    </tr>\n",
       "    <tr>\n",
       "      <th>4.0</th>\n",
       "      <td>9200000</td>\n",
       "    </tr>\n",
       "    <tr>\n",
       "      <th>5.0</th>\n",
       "      <td>9490000</td>\n",
       "    </tr>\n",
       "    <tr>\n",
       "      <th>6.0</th>\n",
       "      <td>8900000</td>\n",
       "    </tr>\n",
       "    <tr>\n",
       "      <th>7.0</th>\n",
       "      <td>7800000</td>\n",
       "    </tr>\n",
       "    <tr>\n",
       "      <th>8.0</th>\n",
       "      <td>7450000</td>\n",
       "    </tr>\n",
       "    <tr>\n",
       "      <th>9.0</th>\n",
       "      <td>5301000</td>\n",
       "    </tr>\n",
       "    <tr>\n",
       "      <th>10.0</th>\n",
       "      <td>5050000</td>\n",
       "    </tr>\n",
       "    <tr>\n",
       "      <th>11.0</th>\n",
       "      <td>5000000</td>\n",
       "    </tr>\n",
       "    <tr>\n",
       "      <th>12.0</th>\n",
       "      <td>4990000</td>\n",
       "    </tr>\n",
       "    <tr>\n",
       "      <th>13.0</th>\n",
       "      <td>5250000</td>\n",
       "    </tr>\n",
       "    <tr>\n",
       "      <th>14.0</th>\n",
       "      <td>4900000</td>\n",
       "    </tr>\n",
       "    <tr>\n",
       "      <th>15.0</th>\n",
       "      <td>4900000</td>\n",
       "    </tr>\n",
       "    <tr>\n",
       "      <th>16.0</th>\n",
       "      <td>4800000</td>\n",
       "    </tr>\n",
       "    <tr>\n",
       "      <th>17.0</th>\n",
       "      <td>4600000</td>\n",
       "    </tr>\n",
       "    <tr>\n",
       "      <th>18.0</th>\n",
       "      <td>4300000</td>\n",
       "    </tr>\n",
       "    <tr>\n",
       "      <th>19.0</th>\n",
       "      <td>4500000</td>\n",
       "    </tr>\n",
       "    <tr>\n",
       "      <th>20.0</th>\n",
       "      <td>5700000</td>\n",
       "    </tr>\n",
       "    <tr>\n",
       "      <th>21.0</th>\n",
       "      <td>5294738</td>\n",
       "    </tr>\n",
       "    <tr>\n",
       "      <th>22.0</th>\n",
       "      <td>4925000</td>\n",
       "    </tr>\n",
       "    <tr>\n",
       "      <th>23.0</th>\n",
       "      <td>4590000</td>\n",
       "    </tr>\n",
       "    <tr>\n",
       "      <th>24.0</th>\n",
       "      <td>3610000</td>\n",
       "    </tr>\n",
       "    <tr>\n",
       "      <th>25.0</th>\n",
       "      <td>3794881</td>\n",
       "    </tr>\n",
       "    <tr>\n",
       "      <th>26.0</th>\n",
       "      <td>3355000</td>\n",
       "    </tr>\n",
       "    <tr>\n",
       "      <th>27.0</th>\n",
       "      <td>8300000</td>\n",
       "    </tr>\n",
       "    <tr>\n",
       "      <th>28.0</th>\n",
       "      <td>4990000</td>\n",
       "    </tr>\n",
       "    <tr>\n",
       "      <th>29.0</th>\n",
       "      <td>4535000</td>\n",
       "    </tr>\n",
       "  </tbody>\n",
       "</table>\n",
       "</div>"
      ],
      "text/plain": [
       "                         last_price\n",
       "city_centers_nearest_km            \n",
       "0.0                        17900000\n",
       "1.0                        11490000\n",
       "2.0                        10150000\n",
       "3.0                         8419000\n",
       "4.0                         9200000\n",
       "5.0                         9490000\n",
       "6.0                         8900000\n",
       "7.0                         7800000\n",
       "8.0                         7450000\n",
       "9.0                         5301000\n",
       "10.0                        5050000\n",
       "11.0                        5000000\n",
       "12.0                        4990000\n",
       "13.0                        5250000\n",
       "14.0                        4900000\n",
       "15.0                        4900000\n",
       "16.0                        4800000\n",
       "17.0                        4600000\n",
       "18.0                        4300000\n",
       "19.0                        4500000\n",
       "20.0                        5700000\n",
       "21.0                        5294738\n",
       "22.0                        4925000\n",
       "23.0                        4590000\n",
       "24.0                        3610000\n",
       "25.0                        3794881\n",
       "26.0                        3355000\n",
       "27.0                        8300000\n",
       "28.0                        4990000\n",
       "29.0                        4535000"
      ]
     },
     "execution_count": 86,
     "metadata": {},
     "output_type": "execute_result"
    }
   ],
   "source": [
    "#создаю сводную таблицу centers_stat_pivot и делаю срез по locality_name оставляя только значения \"санкт-петербург\"\n",
    "centers_stat_pivot = (\n",
    "    data\n",
    "    .query('locality_name == \"санкт-петербург\"')\n",
    "    .pivot_table(index='city_centers_nearest_km', values='last_price',aggfunc='median')\n",
    ")\n",
    "centers_stat_pivot"
   ]
  },
  {
   "cell_type": "markdown",
   "metadata": {},
   "source": [
    "**Вывод:**Из таблицы видно, что стоимость квартир в Санкт-Петербурге прямо пропорционально зависит от удаления от центра города, чем дальше, тем дешевле"
   ]
  },
  {
   "cell_type": "markdown",
   "metadata": {},
   "source": [
    "## Общий вывод"
   ]
  },
  {
   "cell_type": "markdown",
   "metadata": {},
   "source": [
    "В ходе работы были выявлены и обработаны аномальные значения датафрейма, заполнены пропуски, проведена обработка дубликатов, изменены типы данных. При обработке от изначального количества строк в датафрейме(23699) было в общей сумме удалено 185 строк, что составляет 0.78%. Также были добавленны новые строки в таблицу для дальнейшего анализа.\n",
    "\n",
    "Исследование гистограмм данных показало, что в Санкт-Петербурге и ЛО в большинстве преобладают квартиры с общей площадью 40 квадратных метров, из которых жилая площадь 20 квадратных метров, а кухня около 10 квадратных метров, стоимостью в среднем от 3 до 5.5 миллионов рублей, 1 или 2 комнатами, высотой потолков около 2.70 метро, на 2-5 этаже 4 или 8 этажного здания, оо средним расстоянием до центра в 15 киллометрах, до аэропорта в 20 километрах, а до парка в 500 метрах. День публикации такого объявления скорее всего будет в будний. В целом картина выглядит так, что большинство квартир - \"вторичка\" в \"хрущевке\". \n",
    "\n",
    "В среднем квартиры продаются за 96 дней с момента публикации объявления, в большинтсве случаев(85%)продаются в течении года\n",
    "\n",
    "Анализ факторов влияющих на стоимость объекта показал, что общая площадь, жилая площадь, площадь кухни и расстояние до центра города имеют прямую зависимость с ценой квартиры, так же благоприятным фактором можно счесть этажность выше первого, в остальном корреляция не такая явная. Лучшим днем является четверг, месяцем ноябрь или февраль, а годом 2017. \n",
    "\n",
    "Самым выгодным для продажи недвижимости городом является Санкт-Петербург со средней ценой в 104650 рублей за квадратный метр, а самым невыгодным Выборг с 58307 рублей за квадратный метр.\n",
    "\n",
    "В итоге я предполагаю, чтобы извлечь выгоду нужно было на спаде стоимости квартир в 2019 году вложиться в 2 комнатную квартиру с общей площадью 50+ квадратных метров не на первом этаже в Санкт-Петербурге в 10-15 киллометрах от центра."
   ]
  },
  {
   "cell_type": "code",
   "execution_count": null,
   "metadata": {},
   "outputs": [],
   "source": []
  }
 ],
 "metadata": {
  "ExecuteTimeLog": [
   {
    "duration": 499,
    "start_time": "2022-11-17T16:05:02.180Z"
   },
   {
    "duration": 258,
    "start_time": "2022-11-17T16:07:12.446Z"
   },
   {
    "duration": 9,
    "start_time": "2022-11-17T16:08:12.056Z"
   },
   {
    "duration": 100,
    "start_time": "2022-11-17T16:08:26.149Z"
   },
   {
    "duration": 96,
    "start_time": "2022-11-17T16:09:10.613Z"
   },
   {
    "duration": 12,
    "start_time": "2022-11-17T16:09:13.548Z"
   },
   {
    "duration": 11,
    "start_time": "2022-11-17T16:10:13.828Z"
   },
   {
    "duration": 11,
    "start_time": "2022-11-17T16:12:41.535Z"
   },
   {
    "duration": 85,
    "start_time": "2022-11-17T16:12:44.532Z"
   },
   {
    "duration": 12,
    "start_time": "2022-11-17T16:12:51.811Z"
   },
   {
    "duration": 88,
    "start_time": "2022-11-17T16:15:33.042Z"
   },
   {
    "duration": 90,
    "start_time": "2022-11-17T16:15:48.309Z"
   },
   {
    "duration": 7,
    "start_time": "2022-11-17T16:16:42.826Z"
   },
   {
    "duration": 97,
    "start_time": "2022-11-17T16:22:55.547Z"
   },
   {
    "duration": 23,
    "start_time": "2022-11-17T16:22:58.928Z"
   },
   {
    "duration": 1985,
    "start_time": "2022-11-17T16:23:02.056Z"
   },
   {
    "duration": 1944,
    "start_time": "2022-11-17T16:23:13.016Z"
   },
   {
    "duration": 1185,
    "start_time": "2022-12-10T11:00:32.311Z"
   },
   {
    "duration": 2132,
    "start_time": "2022-12-10T11:00:37.214Z"
   },
   {
    "duration": 63,
    "start_time": "2022-12-10T11:08:20.516Z"
   },
   {
    "duration": 158,
    "start_time": "2022-12-10T11:10:15.715Z"
   },
   {
    "duration": 3,
    "start_time": "2022-12-10T11:14:59.483Z"
   },
   {
    "duration": 5,
    "start_time": "2022-12-10T11:15:06.379Z"
   },
   {
    "duration": 120,
    "start_time": "2022-12-10T11:15:24.130Z"
   },
   {
    "duration": 16,
    "start_time": "2022-12-10T11:15:31.679Z"
   },
   {
    "duration": 3,
    "start_time": "2022-12-10T11:16:13.986Z"
   },
   {
    "duration": 114,
    "start_time": "2022-12-10T11:17:02.979Z"
   },
   {
    "duration": 28,
    "start_time": "2022-12-10T11:18:26.419Z"
   },
   {
    "duration": 22,
    "start_time": "2022-12-10T11:45:56.071Z"
   },
   {
    "duration": 34,
    "start_time": "2022-12-10T11:50:07.807Z"
   },
   {
    "duration": 133,
    "start_time": "2022-12-10T12:37:27.496Z"
   },
   {
    "duration": 12,
    "start_time": "2022-12-10T12:38:59.119Z"
   },
   {
    "duration": 18,
    "start_time": "2022-12-10T12:39:06.149Z"
   },
   {
    "duration": 17,
    "start_time": "2022-12-10T12:39:09.517Z"
   },
   {
    "duration": 14,
    "start_time": "2022-12-10T12:39:21.245Z"
   },
   {
    "duration": 13,
    "start_time": "2022-12-10T12:40:44.285Z"
   },
   {
    "duration": 10,
    "start_time": "2022-12-10T12:40:51.590Z"
   },
   {
    "duration": 8,
    "start_time": "2022-12-10T12:48:08.683Z"
   },
   {
    "duration": 6,
    "start_time": "2022-12-10T12:48:19.484Z"
   },
   {
    "duration": 20,
    "start_time": "2022-12-10T12:49:03.098Z"
   },
   {
    "duration": 11,
    "start_time": "2022-12-10T12:49:13.686Z"
   },
   {
    "duration": 8,
    "start_time": "2022-12-10T12:50:26.682Z"
   },
   {
    "duration": 12,
    "start_time": "2022-12-10T12:50:42.938Z"
   },
   {
    "duration": 13,
    "start_time": "2022-12-10T12:50:59.134Z"
   },
   {
    "duration": 18,
    "start_time": "2022-12-10T12:51:38.541Z"
   },
   {
    "duration": 6,
    "start_time": "2022-12-10T12:53:05.482Z"
   },
   {
    "duration": 6,
    "start_time": "2022-12-10T12:54:30.033Z"
   },
   {
    "duration": 13,
    "start_time": "2022-12-10T12:54:38.003Z"
   },
   {
    "duration": 5,
    "start_time": "2022-12-10T12:54:46.905Z"
   },
   {
    "duration": 69,
    "start_time": "2022-12-10T12:59:27.354Z"
   },
   {
    "duration": 38,
    "start_time": "2022-12-10T12:59:47.307Z"
   },
   {
    "duration": 8,
    "start_time": "2022-12-10T13:00:56.604Z"
   },
   {
    "duration": 14,
    "start_time": "2022-12-10T13:01:05.359Z"
   },
   {
    "duration": 6,
    "start_time": "2022-12-10T13:03:09.895Z"
   },
   {
    "duration": 11,
    "start_time": "2022-12-10T13:03:14.815Z"
   },
   {
    "duration": 11,
    "start_time": "2022-12-10T13:05:59.968Z"
   },
   {
    "duration": 5,
    "start_time": "2022-12-10T13:06:18.294Z"
   },
   {
    "duration": 17,
    "start_time": "2022-12-10T13:06:23.694Z"
   },
   {
    "duration": 7,
    "start_time": "2022-12-10T13:08:05.541Z"
   },
   {
    "duration": 5,
    "start_time": "2022-12-10T13:08:27.077Z"
   },
   {
    "duration": 21,
    "start_time": "2022-12-10T13:08:34.653Z"
   },
   {
    "duration": 13,
    "start_time": "2022-12-10T13:18:41.746Z"
   },
   {
    "duration": 15,
    "start_time": "2022-12-10T13:20:12.626Z"
   },
   {
    "duration": 17,
    "start_time": "2022-12-10T13:20:29.778Z"
   },
   {
    "duration": 1682,
    "start_time": "2022-12-10T13:21:00.873Z"
   },
   {
    "duration": 1547,
    "start_time": "2022-12-10T13:21:25.434Z"
   },
   {
    "duration": 1604,
    "start_time": "2022-12-10T13:22:05.168Z"
   },
   {
    "duration": 2,
    "start_time": "2022-12-10T13:22:31.633Z"
   },
   {
    "duration": 91,
    "start_time": "2022-12-10T13:22:32.088Z"
   },
   {
    "duration": 17,
    "start_time": "2022-12-10T13:22:32.607Z"
   },
   {
    "duration": 45,
    "start_time": "2022-12-10T13:22:33.688Z"
   },
   {
    "duration": 2014,
    "start_time": "2022-12-10T13:22:34.280Z"
   },
   {
    "duration": 10,
    "start_time": "2022-12-10T13:22:36.607Z"
   },
   {
    "duration": 9,
    "start_time": "2022-12-10T13:22:37.599Z"
   },
   {
    "duration": 6,
    "start_time": "2022-12-10T13:22:38.335Z"
   },
   {
    "duration": 5,
    "start_time": "2022-12-10T13:22:38.879Z"
   },
   {
    "duration": 5,
    "start_time": "2022-12-10T13:22:41.200Z"
   },
   {
    "duration": 1539,
    "start_time": "2022-12-10T13:22:41.671Z"
   },
   {
    "duration": 1576,
    "start_time": "2022-12-10T13:24:20.031Z"
   },
   {
    "duration": 1580,
    "start_time": "2022-12-10T13:24:58.952Z"
   },
   {
    "duration": 13,
    "start_time": "2022-12-10T13:25:12.144Z"
   },
   {
    "duration": 1695,
    "start_time": "2022-12-10T13:25:23.095Z"
   },
   {
    "duration": 1594,
    "start_time": "2022-12-10T13:33:15.238Z"
   },
   {
    "duration": 844,
    "start_time": "2022-12-20T08:52:41.207Z"
   },
   {
    "duration": 320,
    "start_time": "2022-12-20T08:52:42.053Z"
   },
   {
    "duration": 20,
    "start_time": "2022-12-20T08:52:42.375Z"
   },
   {
    "duration": 36,
    "start_time": "2022-12-20T08:52:42.518Z"
   },
   {
    "duration": 2131,
    "start_time": "2022-12-20T08:52:42.989Z"
   },
   {
    "duration": 9,
    "start_time": "2022-12-20T08:52:45.123Z"
   },
   {
    "duration": 13,
    "start_time": "2022-12-20T08:52:45.134Z"
   },
   {
    "duration": 6,
    "start_time": "2022-12-20T08:52:45.149Z"
   },
   {
    "duration": 6,
    "start_time": "2022-12-20T08:52:45.156Z"
   },
   {
    "duration": 8,
    "start_time": "2022-12-20T08:52:45.196Z"
   },
   {
    "duration": 1805,
    "start_time": "2022-12-20T08:52:45.782Z"
   },
   {
    "duration": 1623,
    "start_time": "2022-12-20T08:53:37.742Z"
   },
   {
    "duration": 13,
    "start_time": "2022-12-20T08:53:58.423Z"
   },
   {
    "duration": 1551,
    "start_time": "2022-12-20T08:55:20.790Z"
   },
   {
    "duration": 9,
    "start_time": "2022-12-20T08:55:41.285Z"
   },
   {
    "duration": 1565,
    "start_time": "2022-12-20T08:56:01.662Z"
   },
   {
    "duration": 1556,
    "start_time": "2022-12-20T08:56:18.846Z"
   },
   {
    "duration": 813,
    "start_time": "2022-12-20T08:56:39.261Z"
   },
   {
    "duration": 1566,
    "start_time": "2022-12-20T08:56:54.945Z"
   },
   {
    "duration": 11,
    "start_time": "2022-12-20T08:56:58.884Z"
   },
   {
    "duration": 12,
    "start_time": "2022-12-20T09:04:11.641Z"
   },
   {
    "duration": 4,
    "start_time": "2022-12-20T09:23:32.925Z"
   },
   {
    "duration": 5,
    "start_time": "2022-12-20T09:24:02.483Z"
   },
   {
    "duration": 31,
    "start_time": "2022-12-20T09:24:17.580Z"
   },
   {
    "duration": 16,
    "start_time": "2022-12-20T09:25:12.746Z"
   },
   {
    "duration": 7,
    "start_time": "2022-12-20T09:41:41.549Z"
   },
   {
    "duration": 7,
    "start_time": "2022-12-20T09:42:44.148Z"
   },
   {
    "duration": 7,
    "start_time": "2022-12-20T09:49:10.722Z"
   },
   {
    "duration": 8,
    "start_time": "2022-12-20T09:49:22.947Z"
   },
   {
    "duration": 8,
    "start_time": "2022-12-20T10:02:20.295Z"
   },
   {
    "duration": 30,
    "start_time": "2022-12-20T10:10:19.118Z"
   },
   {
    "duration": 8,
    "start_time": "2022-12-20T10:10:23.242Z"
   },
   {
    "duration": 6172,
    "start_time": "2022-12-20T10:19:56.532Z"
   },
   {
    "duration": 8,
    "start_time": "2022-12-20T10:20:08.703Z"
   },
   {
    "duration": 7,
    "start_time": "2022-12-20T10:28:52.301Z"
   },
   {
    "duration": 6,
    "start_time": "2022-12-20T10:29:41.196Z"
   },
   {
    "duration": 804,
    "start_time": "2022-12-20T10:37:00.947Z"
   },
   {
    "duration": 10,
    "start_time": "2022-12-20T10:37:11.747Z"
   },
   {
    "duration": 6,
    "start_time": "2022-12-20T10:37:24.466Z"
   },
   {
    "duration": 17,
    "start_time": "2022-12-20T10:38:08.696Z"
   },
   {
    "duration": 12,
    "start_time": "2022-12-20T10:44:35.991Z"
   },
   {
    "duration": 5,
    "start_time": "2022-12-20T10:45:54.342Z"
   },
   {
    "duration": 6,
    "start_time": "2022-12-20T10:47:09.693Z"
   },
   {
    "duration": 6,
    "start_time": "2022-12-20T10:47:26.462Z"
   },
   {
    "duration": 5,
    "start_time": "2022-12-20T10:48:04.342Z"
   },
   {
    "duration": 6,
    "start_time": "2022-12-20T10:48:34.130Z"
   },
   {
    "duration": 6,
    "start_time": "2022-12-20T10:49:33.157Z"
   },
   {
    "duration": 9,
    "start_time": "2022-12-20T10:50:04.494Z"
   },
   {
    "duration": 15,
    "start_time": "2022-12-20T10:50:09.302Z"
   },
   {
    "duration": 7,
    "start_time": "2022-12-20T10:50:18.773Z"
   },
   {
    "duration": 11,
    "start_time": "2022-12-20T10:50:54.965Z"
   },
   {
    "duration": 9,
    "start_time": "2022-12-20T10:52:35.164Z"
   },
   {
    "duration": 6,
    "start_time": "2022-12-20T10:53:07.964Z"
   },
   {
    "duration": 5,
    "start_time": "2022-12-20T10:53:18.061Z"
   },
   {
    "duration": 5,
    "start_time": "2022-12-20T10:53:22.356Z"
   },
   {
    "duration": 6,
    "start_time": "2022-12-20T10:53:24.530Z"
   },
   {
    "duration": 9,
    "start_time": "2022-12-20T10:53:29.107Z"
   },
   {
    "duration": 3,
    "start_time": "2022-12-20T10:53:45.284Z"
   },
   {
    "duration": 93,
    "start_time": "2022-12-20T10:53:45.612Z"
   },
   {
    "duration": 15,
    "start_time": "2022-12-20T10:53:46.364Z"
   },
   {
    "duration": 38,
    "start_time": "2022-12-20T10:53:47.302Z"
   },
   {
    "duration": 2105,
    "start_time": "2022-12-20T10:53:47.955Z"
   },
   {
    "duration": 20,
    "start_time": "2022-12-20T10:53:50.063Z"
   },
   {
    "duration": 21,
    "start_time": "2022-12-20T10:53:50.085Z"
   },
   {
    "duration": 27,
    "start_time": "2022-12-20T10:53:50.109Z"
   },
   {
    "duration": 38,
    "start_time": "2022-12-20T10:53:50.147Z"
   },
   {
    "duration": 5,
    "start_time": "2022-12-20T10:53:50.379Z"
   },
   {
    "duration": 1581,
    "start_time": "2022-12-20T10:53:50.638Z"
   },
   {
    "duration": 1596,
    "start_time": "2022-12-20T10:53:52.222Z"
   },
   {
    "duration": 1615,
    "start_time": "2022-12-20T10:53:53.821Z"
   },
   {
    "duration": 1658,
    "start_time": "2022-12-20T10:53:55.439Z"
   },
   {
    "duration": 1666,
    "start_time": "2022-12-20T10:53:57.099Z"
   },
   {
    "duration": 1635,
    "start_time": "2022-12-20T10:53:58.778Z"
   },
   {
    "duration": 10,
    "start_time": "2022-12-20T10:54:00.414Z"
   },
   {
    "duration": 15,
    "start_time": "2022-12-20T10:54:00.425Z"
   },
   {
    "duration": 25,
    "start_time": "2022-12-20T10:54:00.442Z"
   },
   {
    "duration": 21,
    "start_time": "2022-12-20T10:54:00.469Z"
   },
   {
    "duration": 7018,
    "start_time": "2022-12-20T10:54:00.492Z"
   },
   {
    "duration": 12,
    "start_time": "2022-12-20T10:54:07.518Z"
   },
   {
    "duration": 9,
    "start_time": "2022-12-20T10:54:07.531Z"
   },
   {
    "duration": 28,
    "start_time": "2022-12-20T10:54:07.543Z"
   },
   {
    "duration": 18,
    "start_time": "2022-12-20T10:54:07.573Z"
   },
   {
    "duration": 4,
    "start_time": "2022-12-20T10:54:16.455Z"
   },
   {
    "duration": 4,
    "start_time": "2022-12-20T10:54:17.075Z"
   },
   {
    "duration": 11,
    "start_time": "2022-12-20T10:54:26.972Z"
   },
   {
    "duration": 6,
    "start_time": "2022-12-20T10:54:41.916Z"
   },
   {
    "duration": 5,
    "start_time": "2022-12-20T10:54:42.652Z"
   },
   {
    "duration": 11,
    "start_time": "2022-12-20T10:54:43.275Z"
   },
   {
    "duration": 7,
    "start_time": "2022-12-20T10:54:43.883Z"
   },
   {
    "duration": 88,
    "start_time": "2022-12-20T10:54:48.629Z"
   },
   {
    "duration": 6,
    "start_time": "2022-12-20T10:54:55.329Z"
   },
   {
    "duration": 6,
    "start_time": "2022-12-20T10:54:56.847Z"
   },
   {
    "duration": 5,
    "start_time": "2022-12-20T10:55:10.572Z"
   },
   {
    "duration": 6,
    "start_time": "2022-12-20T10:55:15.771Z"
   },
   {
    "duration": 7,
    "start_time": "2022-12-20T10:55:17.834Z"
   },
   {
    "duration": 9,
    "start_time": "2022-12-20T10:55:20.432Z"
   },
   {
    "duration": 7,
    "start_time": "2022-12-20T10:55:22.139Z"
   },
   {
    "duration": 3,
    "start_time": "2022-12-20T10:57:34.238Z"
   },
   {
    "duration": 96,
    "start_time": "2022-12-20T10:57:34.691Z"
   },
   {
    "duration": 14,
    "start_time": "2022-12-20T10:57:35.172Z"
   },
   {
    "duration": 31,
    "start_time": "2022-12-20T10:57:36.196Z"
   },
   {
    "duration": 2246,
    "start_time": "2022-12-20T10:57:36.770Z"
   },
   {
    "duration": 10,
    "start_time": "2022-12-20T10:57:41.939Z"
   },
   {
    "duration": 11,
    "start_time": "2022-12-20T10:57:43.506Z"
   },
   {
    "duration": 6,
    "start_time": "2022-12-20T10:57:44.410Z"
   },
   {
    "duration": 5,
    "start_time": "2022-12-20T10:57:45.234Z"
   },
   {
    "duration": 5,
    "start_time": "2022-12-20T10:57:45.986Z"
   },
   {
    "duration": 1595,
    "start_time": "2022-12-20T10:57:46.755Z"
   },
   {
    "duration": 1676,
    "start_time": "2022-12-20T10:57:48.353Z"
   },
   {
    "duration": 1600,
    "start_time": "2022-12-20T10:57:50.031Z"
   },
   {
    "duration": 1620,
    "start_time": "2022-12-20T10:57:51.633Z"
   },
   {
    "duration": 1700,
    "start_time": "2022-12-20T10:57:53.256Z"
   },
   {
    "duration": 1663,
    "start_time": "2022-12-20T10:57:54.958Z"
   },
   {
    "duration": 9,
    "start_time": "2022-12-20T10:57:56.623Z"
   },
   {
    "duration": 5,
    "start_time": "2022-12-20T10:58:01.442Z"
   },
   {
    "duration": 4,
    "start_time": "2022-12-20T10:58:02.650Z"
   },
   {
    "duration": 10,
    "start_time": "2022-12-20T10:58:05.838Z"
   },
   {
    "duration": 7323,
    "start_time": "2022-12-20T10:58:06.810Z"
   },
   {
    "duration": 6,
    "start_time": "2022-12-20T10:58:14.136Z"
   },
   {
    "duration": 61,
    "start_time": "2022-12-20T10:58:14.143Z"
   },
   {
    "duration": 8,
    "start_time": "2022-12-20T10:58:15.571Z"
   },
   {
    "duration": 7,
    "start_time": "2022-12-20T10:58:19.137Z"
   },
   {
    "duration": 21,
    "start_time": "2022-12-20T11:00:26.786Z"
   },
   {
    "duration": 15,
    "start_time": "2022-12-20T11:18:56.549Z"
   },
   {
    "duration": 9,
    "start_time": "2022-12-20T11:22:02.141Z"
   },
   {
    "duration": 6054,
    "start_time": "2022-12-20T11:27:38.515Z"
   },
   {
    "duration": 7,
    "start_time": "2022-12-20T11:27:45.698Z"
   },
   {
    "duration": 5680,
    "start_time": "2022-12-20T11:28:24.210Z"
   },
   {
    "duration": 7,
    "start_time": "2022-12-20T11:28:29.892Z"
   },
   {
    "duration": 7,
    "start_time": "2022-12-20T11:28:39.034Z"
   },
   {
    "duration": 5832,
    "start_time": "2022-12-20T11:30:08.474Z"
   },
   {
    "duration": 5712,
    "start_time": "2022-12-20T11:30:14.308Z"
   },
   {
    "duration": 7,
    "start_time": "2022-12-20T11:30:20.022Z"
   },
   {
    "duration": 7067,
    "start_time": "2022-12-20T11:32:55.000Z"
   },
   {
    "duration": 6460,
    "start_time": "2022-12-20T11:33:02.069Z"
   },
   {
    "duration": 6948,
    "start_time": "2022-12-20T11:33:08.532Z"
   },
   {
    "duration": 8,
    "start_time": "2022-12-20T11:33:15.483Z"
   },
   {
    "duration": 10,
    "start_time": "2022-12-20T11:34:25.543Z"
   },
   {
    "duration": 8,
    "start_time": "2022-12-20T11:34:29.607Z"
   },
   {
    "duration": 16,
    "start_time": "2022-12-20T11:34:30.168Z"
   },
   {
    "duration": 6549,
    "start_time": "2022-12-20T11:34:30.543Z"
   },
   {
    "duration": 6477,
    "start_time": "2022-12-20T11:34:37.094Z"
   },
   {
    "duration": 6071,
    "start_time": "2022-12-20T11:34:43.573Z"
   },
   {
    "duration": 6063,
    "start_time": "2022-12-20T11:34:49.646Z"
   },
   {
    "duration": 6018,
    "start_time": "2022-12-20T11:34:55.711Z"
   },
   {
    "duration": 8,
    "start_time": "2022-12-20T11:35:01.731Z"
   },
   {
    "duration": 5894,
    "start_time": "2022-12-20T11:35:58.418Z"
   },
   {
    "duration": 5829,
    "start_time": "2022-12-20T11:36:04.314Z"
   },
   {
    "duration": 5879,
    "start_time": "2022-12-20T11:36:10.146Z"
   },
   {
    "duration": 6042,
    "start_time": "2022-12-20T11:36:16.027Z"
   },
   {
    "duration": 6290,
    "start_time": "2022-12-20T11:36:22.071Z"
   },
   {
    "duration": 22,
    "start_time": "2022-12-20T11:36:28.363Z"
   },
   {
    "duration": 97,
    "start_time": "2022-12-20T11:37:11.679Z"
   },
   {
    "duration": 7,
    "start_time": "2022-12-20T11:37:18.616Z"
   },
   {
    "duration": 13,
    "start_time": "2022-12-20T11:37:35.711Z"
   },
   {
    "duration": 8150,
    "start_time": "2022-12-20T11:37:36.448Z"
   },
   {
    "duration": 6726,
    "start_time": "2022-12-20T11:37:44.600Z"
   },
   {
    "duration": 6673,
    "start_time": "2022-12-20T11:37:51.329Z"
   },
   {
    "duration": 6740,
    "start_time": "2022-12-20T11:37:58.004Z"
   },
   {
    "duration": 6647,
    "start_time": "2022-12-20T11:38:04.746Z"
   },
   {
    "duration": 6614,
    "start_time": "2022-12-20T11:38:11.395Z"
   },
   {
    "duration": 7,
    "start_time": "2022-12-20T11:38:18.011Z"
   },
   {
    "duration": 6859,
    "start_time": "2022-12-20T11:40:40.390Z"
   },
   {
    "duration": 6798,
    "start_time": "2022-12-20T11:40:47.251Z"
   },
   {
    "duration": 7,
    "start_time": "2022-12-20T11:40:54.051Z"
   },
   {
    "duration": 9,
    "start_time": "2022-12-20T13:06:00.753Z"
   },
   {
    "duration": 4,
    "start_time": "2022-12-20T13:06:09.784Z"
   },
   {
    "duration": 678,
    "start_time": "2022-12-20T13:15:43.262Z"
   },
   {
    "duration": 39,
    "start_time": "2022-12-20T13:16:00.206Z"
   },
   {
    "duration": 13,
    "start_time": "2022-12-20T13:16:30.984Z"
   },
   {
    "duration": 883,
    "start_time": "2022-12-20T13:16:42.893Z"
   },
   {
    "duration": 8,
    "start_time": "2022-12-20T13:18:14.310Z"
   },
   {
    "duration": 48,
    "start_time": "2022-12-20T13:18:26.269Z"
   },
   {
    "duration": 92,
    "start_time": "2022-12-20T13:20:08.637Z"
   },
   {
    "duration": 13,
    "start_time": "2022-12-20T13:20:29.677Z"
   },
   {
    "duration": 61,
    "start_time": "2022-12-20T13:29:31.202Z"
   },
   {
    "duration": 4,
    "start_time": "2022-12-20T13:29:39.513Z"
   },
   {
    "duration": 18,
    "start_time": "2022-12-20T13:30:35.010Z"
   },
   {
    "duration": 91,
    "start_time": "2022-12-20T13:32:54.273Z"
   },
   {
    "duration": 4,
    "start_time": "2022-12-20T13:33:04.633Z"
   },
   {
    "duration": 5,
    "start_time": "2022-12-20T13:33:06.105Z"
   },
   {
    "duration": 3,
    "start_time": "2022-12-20T13:33:06.770Z"
   },
   {
    "duration": 24,
    "start_time": "2022-12-20T13:33:10.690Z"
   },
   {
    "duration": 5,
    "start_time": "2022-12-20T13:34:18.602Z"
   },
   {
    "duration": 16,
    "start_time": "2022-12-20T13:34:21.018Z"
   },
   {
    "duration": 3,
    "start_time": "2022-12-20T13:35:07.051Z"
   },
   {
    "duration": 115,
    "start_time": "2022-12-20T13:35:07.530Z"
   },
   {
    "duration": 15,
    "start_time": "2022-12-20T13:35:08.554Z"
   },
   {
    "duration": 38,
    "start_time": "2022-12-20T13:35:09.947Z"
   },
   {
    "duration": 2187,
    "start_time": "2022-12-20T13:35:11.275Z"
   },
   {
    "duration": 10,
    "start_time": "2022-12-20T13:35:16.197Z"
   },
   {
    "duration": 10,
    "start_time": "2022-12-20T13:35:17.674Z"
   },
   {
    "duration": 7,
    "start_time": "2022-12-20T13:35:18.642Z"
   },
   {
    "duration": 6,
    "start_time": "2022-12-20T13:35:19.666Z"
   },
   {
    "duration": 5,
    "start_time": "2022-12-20T13:35:20.506Z"
   },
   {
    "duration": 1538,
    "start_time": "2022-12-20T13:35:22.243Z"
   },
   {
    "duration": 1601,
    "start_time": "2022-12-20T13:35:23.784Z"
   },
   {
    "duration": 1554,
    "start_time": "2022-12-20T13:35:25.495Z"
   },
   {
    "duration": 1638,
    "start_time": "2022-12-20T13:35:27.421Z"
   },
   {
    "duration": 1529,
    "start_time": "2022-12-20T13:35:29.061Z"
   },
   {
    "duration": 1661,
    "start_time": "2022-12-20T13:35:30.592Z"
   },
   {
    "duration": 25,
    "start_time": "2022-12-20T13:35:32.256Z"
   },
   {
    "duration": 6,
    "start_time": "2022-12-20T13:35:38.589Z"
   },
   {
    "duration": 8,
    "start_time": "2022-12-20T13:35:41.762Z"
   },
   {
    "duration": 16,
    "start_time": "2022-12-20T13:35:44.972Z"
   },
   {
    "duration": 8189,
    "start_time": "2022-12-20T13:35:46.642Z"
   },
   {
    "duration": 6456,
    "start_time": "2022-12-20T13:35:54.833Z"
   },
   {
    "duration": 6339,
    "start_time": "2022-12-20T13:36:01.291Z"
   },
   {
    "duration": 6426,
    "start_time": "2022-12-20T13:36:07.633Z"
   },
   {
    "duration": 6552,
    "start_time": "2022-12-20T13:36:14.061Z"
   },
   {
    "duration": 6465,
    "start_time": "2022-12-20T13:36:20.615Z"
   },
   {
    "duration": 6359,
    "start_time": "2022-12-20T13:36:27.082Z"
   },
   {
    "duration": 6121,
    "start_time": "2022-12-20T13:36:33.442Z"
   },
   {
    "duration": 7,
    "start_time": "2022-12-20T13:36:39.565Z"
   },
   {
    "duration": 6228,
    "start_time": "2022-12-20T13:36:58.597Z"
   },
   {
    "duration": 9,
    "start_time": "2022-12-20T13:37:07.545Z"
   },
   {
    "duration": 6,
    "start_time": "2022-12-20T13:37:17.513Z"
   },
   {
    "duration": 8,
    "start_time": "2022-12-20T13:37:18.256Z"
   },
   {
    "duration": 8,
    "start_time": "2022-12-20T13:37:19.210Z"
   },
   {
    "duration": 6,
    "start_time": "2022-12-20T13:37:19.999Z"
   },
   {
    "duration": 18,
    "start_time": "2022-12-20T13:37:24.795Z"
   },
   {
    "duration": 4,
    "start_time": "2022-12-20T13:37:28.009Z"
   },
   {
    "duration": 2,
    "start_time": "2022-12-20T13:37:29.722Z"
   },
   {
    "duration": 3,
    "start_time": "2022-12-20T13:37:30.105Z"
   },
   {
    "duration": 3,
    "start_time": "2022-12-20T13:37:30.737Z"
   },
   {
    "duration": 4,
    "start_time": "2022-12-20T13:37:32.041Z"
   },
   {
    "duration": 716,
    "start_time": "2022-12-20T13:37:34.001Z"
   },
   {
    "duration": 32,
    "start_time": "2022-12-20T13:38:25.266Z"
   },
   {
    "duration": 4,
    "start_time": "2022-12-20T13:38:36.149Z"
   },
   {
    "duration": 228,
    "start_time": "2022-12-20T13:38:37.050Z"
   },
   {
    "duration": 37,
    "start_time": "2022-12-20T13:38:40.004Z"
   },
   {
    "duration": 3,
    "start_time": "2022-12-20T13:39:00.083Z"
   },
   {
    "duration": 5,
    "start_time": "2022-12-20T13:42:22.318Z"
   },
   {
    "duration": 32,
    "start_time": "2022-12-20T13:42:25.137Z"
   },
   {
    "duration": 1613,
    "start_time": "2022-12-20T13:43:32.694Z"
   },
   {
    "duration": 12,
    "start_time": "2022-12-20T13:43:39.718Z"
   },
   {
    "duration": 22,
    "start_time": "2022-12-20T13:43:55.860Z"
   },
   {
    "duration": 5,
    "start_time": "2022-12-20T13:44:44.929Z"
   },
   {
    "duration": 3,
    "start_time": "2022-12-20T13:47:56.802Z"
   },
   {
    "duration": 50,
    "start_time": "2022-12-20T13:48:51.394Z"
   },
   {
    "duration": 14,
    "start_time": "2022-12-20T13:49:02.728Z"
   },
   {
    "duration": 3,
    "start_time": "2022-12-20T13:56:38.709Z"
   },
   {
    "duration": 7,
    "start_time": "2022-12-20T13:56:46.182Z"
   },
   {
    "duration": 4,
    "start_time": "2022-12-20T13:57:18.878Z"
   },
   {
    "duration": 879,
    "start_time": "2022-12-20T13:57:45.213Z"
   },
   {
    "duration": 12,
    "start_time": "2022-12-20T13:58:02.079Z"
   },
   {
    "duration": 11,
    "start_time": "2022-12-20T13:58:35.918Z"
   },
   {
    "duration": 11,
    "start_time": "2022-12-20T14:02:14.549Z"
   },
   {
    "duration": 14,
    "start_time": "2022-12-20T14:02:18.624Z"
   },
   {
    "duration": 369,
    "start_time": "2022-12-20T14:05:18.041Z"
   },
   {
    "duration": 404,
    "start_time": "2022-12-20T14:05:37.821Z"
   },
   {
    "duration": 1057,
    "start_time": "2022-12-20T14:05:53.748Z"
   },
   {
    "duration": 597,
    "start_time": "2022-12-20T14:06:40.469Z"
   },
   {
    "duration": 380,
    "start_time": "2022-12-20T14:06:55.447Z"
   },
   {
    "duration": 647,
    "start_time": "2022-12-20T14:08:10.209Z"
   },
   {
    "duration": 676,
    "start_time": "2022-12-20T14:08:24.516Z"
   },
   {
    "duration": 3,
    "start_time": "2022-12-20T14:09:05.596Z"
   },
   {
    "duration": 13,
    "start_time": "2022-12-20T14:09:08.620Z"
   },
   {
    "duration": 662,
    "start_time": "2022-12-20T14:11:43.980Z"
   },
   {
    "duration": 571,
    "start_time": "2022-12-20T14:12:49.643Z"
   },
   {
    "duration": 7,
    "start_time": "2022-12-20T14:19:15.235Z"
   },
   {
    "duration": 11,
    "start_time": "2022-12-20T14:19:18.838Z"
   },
   {
    "duration": 1565,
    "start_time": "2022-12-20T14:19:43.138Z"
   },
   {
    "duration": 1621,
    "start_time": "2022-12-20T14:19:47.804Z"
   },
   {
    "duration": 848,
    "start_time": "2022-12-20T14:20:30.683Z"
   },
   {
    "duration": 9,
    "start_time": "2022-12-20T14:22:08.172Z"
   },
   {
    "duration": 12,
    "start_time": "2022-12-20T14:22:11.348Z"
   },
   {
    "duration": 6,
    "start_time": "2022-12-20T14:22:16.652Z"
   },
   {
    "duration": 15,
    "start_time": "2022-12-20T14:22:32.116Z"
   },
   {
    "duration": 26,
    "start_time": "2022-12-20T14:22:40.716Z"
   },
   {
    "duration": 4,
    "start_time": "2022-12-20T14:27:14.732Z"
   },
   {
    "duration": 19,
    "start_time": "2022-12-20T14:30:17.819Z"
   },
   {
    "duration": 13,
    "start_time": "2022-12-20T14:31:10.330Z"
   },
   {
    "duration": 6,
    "start_time": "2022-12-20T14:31:46.669Z"
   },
   {
    "duration": 6,
    "start_time": "2022-12-20T14:32:46.555Z"
   },
   {
    "duration": 6,
    "start_time": "2022-12-20T14:33:17.436Z"
   },
   {
    "duration": 6,
    "start_time": "2022-12-20T14:33:19.971Z"
   },
   {
    "duration": 6,
    "start_time": "2022-12-20T14:34:15.650Z"
   },
   {
    "duration": 17,
    "start_time": "2022-12-20T14:41:06.778Z"
   },
   {
    "duration": 27,
    "start_time": "2022-12-20T14:41:39.641Z"
   },
   {
    "duration": 6,
    "start_time": "2022-12-20T14:42:58.009Z"
   },
   {
    "duration": 26,
    "start_time": "2022-12-20T14:43:13.397Z"
   },
   {
    "duration": 49,
    "start_time": "2022-12-20T15:25:14.674Z"
   },
   {
    "duration": 840,
    "start_time": "2022-12-20T15:25:20.732Z"
   },
   {
    "duration": 308,
    "start_time": "2022-12-20T15:25:22.799Z"
   },
   {
    "duration": 17,
    "start_time": "2022-12-20T15:25:27.888Z"
   },
   {
    "duration": 5,
    "start_time": "2022-12-20T15:25:31.198Z"
   },
   {
    "duration": 33,
    "start_time": "2022-12-20T15:25:33.056Z"
   },
   {
    "duration": 1981,
    "start_time": "2022-12-20T15:25:35.840Z"
   },
   {
    "duration": 9,
    "start_time": "2022-12-20T15:25:41.143Z"
   },
   {
    "duration": 13,
    "start_time": "2022-12-20T15:25:42.102Z"
   },
   {
    "duration": 5,
    "start_time": "2022-12-20T15:25:43.132Z"
   },
   {
    "duration": 4,
    "start_time": "2022-12-20T15:25:43.695Z"
   },
   {
    "duration": 5,
    "start_time": "2022-12-20T15:25:44.126Z"
   },
   {
    "duration": 1592,
    "start_time": "2022-12-20T15:25:44.815Z"
   },
   {
    "duration": 1665,
    "start_time": "2022-12-20T15:25:48.855Z"
   },
   {
    "duration": 1687,
    "start_time": "2022-12-20T15:25:50.522Z"
   },
   {
    "duration": 1697,
    "start_time": "2022-12-20T15:25:52.211Z"
   },
   {
    "duration": 1633,
    "start_time": "2022-12-20T15:25:53.910Z"
   },
   {
    "duration": 1757,
    "start_time": "2022-12-20T15:25:55.545Z"
   },
   {
    "duration": 9,
    "start_time": "2022-12-20T15:25:57.304Z"
   },
   {
    "duration": 6,
    "start_time": "2022-12-20T15:26:00.199Z"
   },
   {
    "duration": 13,
    "start_time": "2022-12-20T15:26:01.519Z"
   },
   {
    "duration": 11,
    "start_time": "2022-12-20T15:26:04.558Z"
   },
   {
    "duration": 16,
    "start_time": "2022-12-20T15:26:05.244Z"
   },
   {
    "duration": 7840,
    "start_time": "2022-12-20T15:26:06.127Z"
   },
   {
    "duration": 6471,
    "start_time": "2022-12-20T15:26:15.982Z"
   },
   {
    "duration": 6213,
    "start_time": "2022-12-20T15:26:23.190Z"
   },
   {
    "duration": 5790,
    "start_time": "2022-12-20T15:26:30.071Z"
   },
   {
    "duration": 5707,
    "start_time": "2022-12-20T15:26:36.654Z"
   },
   {
    "duration": 5570,
    "start_time": "2022-12-20T15:26:43.094Z"
   },
   {
    "duration": 5700,
    "start_time": "2022-12-20T15:26:50.126Z"
   },
   {
    "duration": 5716,
    "start_time": "2022-12-20T15:26:55.828Z"
   },
   {
    "duration": 7,
    "start_time": "2022-12-20T15:27:03.806Z"
   },
   {
    "duration": 11,
    "start_time": "2022-12-20T15:27:06.334Z"
   },
   {
    "duration": 6,
    "start_time": "2022-12-20T15:27:07.271Z"
   },
   {
    "duration": 10,
    "start_time": "2022-12-20T15:27:08.006Z"
   },
   {
    "duration": 6,
    "start_time": "2022-12-20T15:27:08.806Z"
   },
   {
    "duration": 13,
    "start_time": "2022-12-20T15:27:10.694Z"
   },
   {
    "duration": 4,
    "start_time": "2022-12-20T15:27:13.366Z"
   },
   {
    "duration": 6,
    "start_time": "2022-12-20T15:27:14.270Z"
   },
   {
    "duration": 5,
    "start_time": "2022-12-20T15:27:15.238Z"
   },
   {
    "duration": 5,
    "start_time": "2022-12-20T15:27:16.313Z"
   },
   {
    "duration": 3,
    "start_time": "2022-12-20T15:27:17.630Z"
   },
   {
    "duration": 298,
    "start_time": "2022-12-20T15:27:18.542Z"
   },
   {
    "duration": 5,
    "start_time": "2022-12-20T15:27:19.861Z"
   },
   {
    "duration": 6,
    "start_time": "2022-12-20T15:27:20.302Z"
   },
   {
    "duration": 18,
    "start_time": "2022-12-20T15:27:21.335Z"
   },
   {
    "duration": 118,
    "start_time": "2022-12-20T15:27:55.822Z"
   },
   {
    "duration": 702,
    "start_time": "2022-12-20T15:28:15.623Z"
   },
   {
    "duration": 230,
    "start_time": "2022-12-20T15:28:29.592Z"
   },
   {
    "duration": 238,
    "start_time": "2022-12-20T15:29:34.102Z"
   },
   {
    "duration": 214,
    "start_time": "2022-12-20T15:29:47.782Z"
   },
   {
    "duration": 347,
    "start_time": "2022-12-20T15:31:07.590Z"
   },
   {
    "duration": 144,
    "start_time": "2022-12-20T15:31:19.350Z"
   },
   {
    "duration": 265,
    "start_time": "2022-12-20T15:31:50.822Z"
   },
   {
    "duration": 147,
    "start_time": "2022-12-20T15:32:05.894Z"
   },
   {
    "duration": 844,
    "start_time": "2022-12-20T15:32:48.502Z"
   },
   {
    "duration": 309,
    "start_time": "2022-12-20T15:34:28.222Z"
   },
   {
    "duration": 249,
    "start_time": "2022-12-20T15:34:36.789Z"
   },
   {
    "duration": 239,
    "start_time": "2022-12-20T15:35:01.741Z"
   },
   {
    "duration": 273,
    "start_time": "2022-12-20T15:38:08.997Z"
   },
   {
    "duration": 158,
    "start_time": "2022-12-20T15:38:15.909Z"
   },
   {
    "duration": 205,
    "start_time": "2022-12-20T15:38:26.084Z"
   },
   {
    "duration": 165,
    "start_time": "2022-12-20T15:38:31.629Z"
   },
   {
    "duration": 198,
    "start_time": "2022-12-20T15:38:46.220Z"
   },
   {
    "duration": 243,
    "start_time": "2022-12-20T15:39:34.405Z"
   },
   {
    "duration": 340,
    "start_time": "2022-12-20T15:39:42.804Z"
   },
   {
    "duration": 165,
    "start_time": "2022-12-20T15:39:50.764Z"
   },
   {
    "duration": 141,
    "start_time": "2022-12-20T15:40:11.053Z"
   },
   {
    "duration": 149,
    "start_time": "2022-12-20T15:40:18.421Z"
   },
   {
    "duration": 254,
    "start_time": "2022-12-20T15:40:37.781Z"
   },
   {
    "duration": 178,
    "start_time": "2022-12-20T15:40:44.804Z"
   },
   {
    "duration": 251,
    "start_time": "2022-12-20T15:41:44.259Z"
   },
   {
    "duration": 204,
    "start_time": "2022-12-20T15:41:51.796Z"
   },
   {
    "duration": 268,
    "start_time": "2022-12-20T15:41:56.052Z"
   },
   {
    "duration": 226,
    "start_time": "2022-12-20T15:42:45.012Z"
   },
   {
    "duration": 117,
    "start_time": "2022-12-20T15:42:53.627Z"
   },
   {
    "duration": 172,
    "start_time": "2022-12-20T15:45:22.307Z"
   },
   {
    "duration": 469,
    "start_time": "2022-12-20T15:45:26.317Z"
   },
   {
    "duration": 201,
    "start_time": "2022-12-20T15:45:37.356Z"
   },
   {
    "duration": 236,
    "start_time": "2022-12-20T15:47:33.219Z"
   },
   {
    "duration": 247,
    "start_time": "2022-12-20T15:48:19.938Z"
   },
   {
    "duration": 234,
    "start_time": "2022-12-20T15:48:48.538Z"
   },
   {
    "duration": 179,
    "start_time": "2022-12-20T15:48:59.028Z"
   },
   {
    "duration": 254,
    "start_time": "2022-12-20T15:50:11.690Z"
   },
   {
    "duration": 143,
    "start_time": "2022-12-20T15:50:17.851Z"
   },
   {
    "duration": 152,
    "start_time": "2022-12-20T15:50:24.522Z"
   },
   {
    "duration": 235,
    "start_time": "2022-12-20T15:51:24.234Z"
   },
   {
    "duration": 138,
    "start_time": "2022-12-20T15:51:30.129Z"
   },
   {
    "duration": 149,
    "start_time": "2022-12-20T15:51:37.909Z"
   },
   {
    "duration": 172,
    "start_time": "2022-12-20T15:51:42.681Z"
   },
   {
    "duration": 178,
    "start_time": "2022-12-20T15:52:18.594Z"
   },
   {
    "duration": 434,
    "start_time": "2022-12-20T15:52:23.129Z"
   },
   {
    "duration": 60,
    "start_time": "2022-12-20T16:04:37.783Z"
   },
   {
    "duration": 5,
    "start_time": "2022-12-20T16:07:42.102Z"
   },
   {
    "duration": 4,
    "start_time": "2022-12-20T16:08:06.590Z"
   },
   {
    "duration": 25,
    "start_time": "2022-12-20T16:09:33.374Z"
   },
   {
    "duration": 18,
    "start_time": "2022-12-20T16:13:03.406Z"
   },
   {
    "duration": 11,
    "start_time": "2022-12-20T16:13:42.527Z"
   },
   {
    "duration": 6,
    "start_time": "2022-12-20T16:14:07.301Z"
   },
   {
    "duration": 7,
    "start_time": "2022-12-20T16:15:07.317Z"
   },
   {
    "duration": 152,
    "start_time": "2022-12-20T16:15:47.813Z"
   },
   {
    "duration": 3,
    "start_time": "2022-12-20T16:46:09.545Z"
   },
   {
    "duration": 5,
    "start_time": "2022-12-20T16:48:15.147Z"
   },
   {
    "duration": 18,
    "start_time": "2022-12-20T16:48:21.629Z"
   },
   {
    "duration": 191,
    "start_time": "2022-12-20T16:51:30.000Z"
   },
   {
    "duration": 264,
    "start_time": "2022-12-20T16:51:35.421Z"
   },
   {
    "duration": 199,
    "start_time": "2022-12-20T16:52:16.069Z"
   },
   {
    "duration": 314,
    "start_time": "2022-12-20T16:52:26.588Z"
   },
   {
    "duration": 7,
    "start_time": "2022-12-20T16:53:49.016Z"
   },
   {
    "duration": 4,
    "start_time": "2022-12-20T16:53:55.780Z"
   },
   {
    "duration": 2,
    "start_time": "2022-12-20T16:59:38.878Z"
   },
   {
    "duration": 46,
    "start_time": "2022-12-20T21:06:13.012Z"
   },
   {
    "duration": 804,
    "start_time": "2022-12-20T21:06:18.009Z"
   },
   {
    "duration": 148,
    "start_time": "2022-12-20T21:06:19.409Z"
   },
   {
    "duration": 16,
    "start_time": "2022-12-20T21:06:21.299Z"
   },
   {
    "duration": 5,
    "start_time": "2022-12-20T21:06:22.449Z"
   },
   {
    "duration": 33,
    "start_time": "2022-12-20T21:06:23.675Z"
   },
   {
    "duration": 1817,
    "start_time": "2022-12-20T21:06:24.530Z"
   },
   {
    "duration": 8,
    "start_time": "2022-12-20T21:06:28.385Z"
   },
   {
    "duration": 12,
    "start_time": "2022-12-20T21:06:29.241Z"
   },
   {
    "duration": 5,
    "start_time": "2022-12-20T21:06:29.961Z"
   },
   {
    "duration": 4,
    "start_time": "2022-12-20T21:06:30.506Z"
   },
   {
    "duration": 4,
    "start_time": "2022-12-20T21:06:30.961Z"
   },
   {
    "duration": 5,
    "start_time": "2022-12-20T21:06:31.489Z"
   },
   {
    "duration": 1391,
    "start_time": "2022-12-20T21:06:32.225Z"
   },
   {
    "duration": 1416,
    "start_time": "2022-12-20T21:06:33.618Z"
   },
   {
    "duration": 1428,
    "start_time": "2022-12-20T21:06:35.035Z"
   },
   {
    "duration": 1388,
    "start_time": "2022-12-20T21:06:36.464Z"
   },
   {
    "duration": 1559,
    "start_time": "2022-12-20T21:06:37.854Z"
   },
   {
    "duration": 1528,
    "start_time": "2022-12-20T21:06:39.414Z"
   },
   {
    "duration": 9,
    "start_time": "2022-12-20T21:06:40.952Z"
   },
   {
    "duration": 5,
    "start_time": "2022-12-20T21:06:42.928Z"
   },
   {
    "duration": 8,
    "start_time": "2022-12-20T21:06:43.464Z"
   },
   {
    "duration": 6,
    "start_time": "2022-12-20T21:06:45.393Z"
   },
   {
    "duration": 13,
    "start_time": "2022-12-20T21:06:46.080Z"
   },
   {
    "duration": 6368,
    "start_time": "2022-12-20T21:06:46.761Z"
   },
   {
    "duration": 5236,
    "start_time": "2022-12-20T21:06:53.131Z"
   },
   {
    "duration": 5406,
    "start_time": "2022-12-20T21:07:01.896Z"
   },
   {
    "duration": 5147,
    "start_time": "2022-12-20T21:07:11.137Z"
   },
   {
    "duration": 5048,
    "start_time": "2022-12-20T21:07:16.760Z"
   },
   {
    "duration": 5011,
    "start_time": "2022-12-20T21:07:22.257Z"
   },
   {
    "duration": 5059,
    "start_time": "2022-12-20T21:07:27.705Z"
   },
   {
    "duration": 4991,
    "start_time": "2022-12-20T21:07:33.200Z"
   },
   {
    "duration": 6,
    "start_time": "2022-12-20T21:07:38.194Z"
   },
   {
    "duration": 6,
    "start_time": "2022-12-20T21:07:44.072Z"
   },
   {
    "duration": 7,
    "start_time": "2022-12-20T21:07:44.824Z"
   },
   {
    "duration": 11,
    "start_time": "2022-12-20T21:07:46.152Z"
   },
   {
    "duration": 6,
    "start_time": "2022-12-20T21:07:46.904Z"
   },
   {
    "duration": 6,
    "start_time": "2022-12-20T21:07:47.464Z"
   },
   {
    "duration": 9,
    "start_time": "2022-12-20T21:07:48.032Z"
   },
   {
    "duration": 6,
    "start_time": "2022-12-20T21:07:49.248Z"
   },
   {
    "duration": 14,
    "start_time": "2022-12-20T21:07:51.400Z"
   },
   {
    "duration": 4,
    "start_time": "2022-12-20T21:07:53.832Z"
   },
   {
    "duration": 6,
    "start_time": "2022-12-20T21:07:54.944Z"
   },
   {
    "duration": 6,
    "start_time": "2022-12-20T21:07:56.503Z"
   },
   {
    "duration": 5,
    "start_time": "2022-12-20T21:07:58.272Z"
   },
   {
    "duration": 3,
    "start_time": "2022-12-20T21:08:00.024Z"
   },
   {
    "duration": 275,
    "start_time": "2022-12-20T21:08:00.647Z"
   },
   {
    "duration": 5,
    "start_time": "2022-12-20T21:08:01.959Z"
   },
   {
    "duration": 4,
    "start_time": "2022-12-20T21:08:02.480Z"
   },
   {
    "duration": 215,
    "start_time": "2022-12-20T21:08:04.575Z"
   },
   {
    "duration": 302,
    "start_time": "2022-12-20T21:08:06.752Z"
   },
   {
    "duration": 217,
    "start_time": "2022-12-20T21:08:08.839Z"
   },
   {
    "duration": 209,
    "start_time": "2022-12-20T21:08:10.711Z"
   },
   {
    "duration": 166,
    "start_time": "2022-12-20T21:08:12.320Z"
   },
   {
    "duration": 156,
    "start_time": "2022-12-20T21:08:13.936Z"
   },
   {
    "duration": 235,
    "start_time": "2022-12-20T21:08:15.408Z"
   },
   {
    "duration": 123,
    "start_time": "2022-12-20T21:08:16.872Z"
   },
   {
    "duration": 163,
    "start_time": "2022-12-20T21:08:18.303Z"
   },
   {
    "duration": 329,
    "start_time": "2022-12-20T21:08:19.687Z"
   },
   {
    "duration": 212,
    "start_time": "2022-12-20T21:08:21.112Z"
   },
   {
    "duration": 161,
    "start_time": "2022-12-20T21:08:22.551Z"
   },
   {
    "duration": 143,
    "start_time": "2022-12-20T21:08:23.984Z"
   },
   {
    "duration": 160,
    "start_time": "2022-12-20T21:08:25.072Z"
   },
   {
    "duration": 219,
    "start_time": "2022-12-20T21:08:28.120Z"
   },
   {
    "duration": 5,
    "start_time": "2022-12-20T21:08:28.904Z"
   },
   {
    "duration": 4,
    "start_time": "2022-12-20T21:08:29.616Z"
   },
   {
    "duration": 15,
    "start_time": "2022-12-20T21:08:34.441Z"
   },
   {
    "duration": 17,
    "start_time": "2022-12-20T21:11:19.041Z"
   },
   {
    "duration": 9,
    "start_time": "2022-12-20T21:15:28.127Z"
   },
   {
    "duration": 33,
    "start_time": "2022-12-20T21:17:14.647Z"
   },
   {
    "duration": 4,
    "start_time": "2022-12-20T21:17:17.543Z"
   },
   {
    "duration": 1344,
    "start_time": "2022-12-20T21:17:50.063Z"
   },
   {
    "duration": 0,
    "start_time": "2022-12-20T21:19:34.038Z"
   },
   {
    "duration": 1326,
    "start_time": "2022-12-20T21:19:39.029Z"
   },
   {
    "duration": 307,
    "start_time": "2022-12-20T21:20:13.703Z"
   },
   {
    "duration": 14,
    "start_time": "2022-12-20T21:22:56.694Z"
   },
   {
    "duration": 10676,
    "start_time": "2022-12-20T21:23:40.626Z"
   },
   {
    "duration": 153,
    "start_time": "2022-12-20T21:24:58.724Z"
   },
   {
    "duration": 154,
    "start_time": "2022-12-20T21:29:27.627Z"
   },
   {
    "duration": 20,
    "start_time": "2022-12-20T21:30:26.108Z"
   },
   {
    "duration": 14,
    "start_time": "2022-12-20T21:31:27.692Z"
   },
   {
    "duration": 16,
    "start_time": "2022-12-20T21:36:42.114Z"
   },
   {
    "duration": 15,
    "start_time": "2022-12-20T21:36:51.396Z"
   },
   {
    "duration": 186,
    "start_time": "2022-12-20T21:37:30.617Z"
   },
   {
    "duration": 17,
    "start_time": "2022-12-20T21:40:10.399Z"
   },
   {
    "duration": 195,
    "start_time": "2022-12-20T21:40:15.048Z"
   },
   {
    "duration": 193,
    "start_time": "2022-12-20T21:40:54.461Z"
   },
   {
    "duration": 13,
    "start_time": "2022-12-20T21:41:55.247Z"
   },
   {
    "duration": 193,
    "start_time": "2022-12-20T21:42:10.247Z"
   },
   {
    "duration": 12,
    "start_time": "2022-12-20T21:42:54.727Z"
   },
   {
    "duration": 15,
    "start_time": "2022-12-20T21:42:58.952Z"
   },
   {
    "duration": 184,
    "start_time": "2022-12-20T21:43:06.087Z"
   },
   {
    "duration": 14,
    "start_time": "2022-12-20T21:43:49.878Z"
   },
   {
    "duration": 616,
    "start_time": "2022-12-20T21:43:52.662Z"
   },
   {
    "duration": 258,
    "start_time": "2022-12-20T21:44:08.799Z"
   },
   {
    "duration": 338,
    "start_time": "2022-12-20T21:44:20.166Z"
   },
   {
    "duration": 263,
    "start_time": "2022-12-20T21:45:02.518Z"
   },
   {
    "duration": 4,
    "start_time": "2022-12-20T21:46:45.598Z"
   },
   {
    "duration": 5,
    "start_time": "2022-12-20T21:47:06.950Z"
   },
   {
    "duration": 170,
    "start_time": "2022-12-20T21:48:16.910Z"
   },
   {
    "duration": 200,
    "start_time": "2022-12-20T21:48:25.365Z"
   },
   {
    "duration": 12,
    "start_time": "2022-12-20T21:49:24.245Z"
   },
   {
    "duration": 1273,
    "start_time": "2022-12-20T21:49:33.613Z"
   },
   {
    "duration": 221,
    "start_time": "2022-12-20T21:49:37.445Z"
   },
   {
    "duration": 20,
    "start_time": "2022-12-20T21:56:28.628Z"
   },
   {
    "duration": 179,
    "start_time": "2022-12-20T21:57:00.891Z"
   },
   {
    "duration": 19,
    "start_time": "2022-12-20T21:58:49.709Z"
   },
   {
    "duration": 155,
    "start_time": "2022-12-20T21:59:01.987Z"
   },
   {
    "duration": 19,
    "start_time": "2022-12-20T22:02:39.505Z"
   },
   {
    "duration": 181,
    "start_time": "2022-12-20T22:02:42.729Z"
   },
   {
    "duration": 175,
    "start_time": "2022-12-20T22:02:54.538Z"
   },
   {
    "duration": 19,
    "start_time": "2022-12-20T22:04:18.882Z"
   },
   {
    "duration": 154,
    "start_time": "2022-12-20T22:04:31.280Z"
   },
   {
    "duration": 18,
    "start_time": "2022-12-20T22:07:34.497Z"
   },
   {
    "duration": 142,
    "start_time": "2022-12-20T22:07:35.808Z"
   },
   {
    "duration": 17,
    "start_time": "2022-12-20T22:08:58.184Z"
   },
   {
    "duration": 17,
    "start_time": "2022-12-20T22:09:05.495Z"
   },
   {
    "duration": 1529,
    "start_time": "2022-12-20T22:09:23.015Z"
   },
   {
    "duration": 18,
    "start_time": "2022-12-20T22:09:44.949Z"
   },
   {
    "duration": 19,
    "start_time": "2022-12-20T22:10:15.665Z"
   },
   {
    "duration": 19,
    "start_time": "2022-12-20T22:12:22.840Z"
   },
   {
    "duration": 14,
    "start_time": "2022-12-20T22:12:48.751Z"
   },
   {
    "duration": 1338,
    "start_time": "2022-12-20T22:13:05.310Z"
   },
   {
    "duration": 15,
    "start_time": "2022-12-20T22:14:26.822Z"
   },
   {
    "duration": 96,
    "start_time": "2022-12-20T22:15:25.173Z"
   },
   {
    "duration": 15,
    "start_time": "2022-12-20T22:15:30.805Z"
   },
   {
    "duration": 15,
    "start_time": "2022-12-20T22:15:40.549Z"
   },
   {
    "duration": 17,
    "start_time": "2022-12-20T22:16:36.493Z"
   },
   {
    "duration": 17523,
    "start_time": "2022-12-20T22:16:46.077Z"
   },
   {
    "duration": 2,
    "start_time": "2022-12-20T22:17:35.998Z"
   },
   {
    "duration": 86,
    "start_time": "2022-12-20T22:17:43.685Z"
   },
   {
    "duration": 14,
    "start_time": "2022-12-20T22:17:44.261Z"
   },
   {
    "duration": 4,
    "start_time": "2022-12-20T22:17:44.741Z"
   },
   {
    "duration": 28,
    "start_time": "2022-12-20T22:17:45.181Z"
   },
   {
    "duration": 2060,
    "start_time": "2022-12-20T22:17:45.582Z"
   },
   {
    "duration": 15,
    "start_time": "2022-12-20T22:17:47.643Z"
   },
   {
    "duration": 8,
    "start_time": "2022-12-20T22:17:47.660Z"
   },
   {
    "duration": 5,
    "start_time": "2022-12-20T22:17:48.533Z"
   },
   {
    "duration": 4,
    "start_time": "2022-12-20T22:17:49.181Z"
   },
   {
    "duration": 5,
    "start_time": "2022-12-20T22:17:49.693Z"
   },
   {
    "duration": 4,
    "start_time": "2022-12-20T22:17:50.069Z"
   },
   {
    "duration": 1378,
    "start_time": "2022-12-20T22:17:50.718Z"
   },
   {
    "duration": 1417,
    "start_time": "2022-12-20T22:17:52.098Z"
   },
   {
    "duration": 1424,
    "start_time": "2022-12-20T22:17:53.517Z"
   },
   {
    "duration": 1390,
    "start_time": "2022-12-20T22:17:54.944Z"
   },
   {
    "duration": 1446,
    "start_time": "2022-12-20T22:17:56.335Z"
   },
   {
    "duration": 1470,
    "start_time": "2022-12-20T22:17:57.783Z"
   },
   {
    "duration": 8,
    "start_time": "2022-12-20T22:17:59.254Z"
   },
   {
    "duration": 4,
    "start_time": "2022-12-20T22:18:04.637Z"
   },
   {
    "duration": 8,
    "start_time": "2022-12-20T22:18:05.101Z"
   },
   {
    "duration": 240,
    "start_time": "2022-12-20T22:18:10.983Z"
   },
   {
    "duration": 155,
    "start_time": "2022-12-20T22:19:02.773Z"
   },
   {
    "duration": 189,
    "start_time": "2022-12-20T22:19:14.668Z"
   },
   {
    "duration": 216,
    "start_time": "2022-12-20T22:19:34.180Z"
   },
   {
    "duration": 191,
    "start_time": "2022-12-20T22:19:41.317Z"
   },
   {
    "duration": 205,
    "start_time": "2022-12-20T22:19:45.548Z"
   },
   {
    "duration": 197,
    "start_time": "2022-12-20T22:19:51.532Z"
   },
   {
    "duration": 282,
    "start_time": "2022-12-20T22:20:27.691Z"
   },
   {
    "duration": 9,
    "start_time": "2022-12-20T22:41:27.606Z"
   },
   {
    "duration": 3,
    "start_time": "2022-12-20T22:41:43.396Z"
   },
   {
    "duration": 93,
    "start_time": "2022-12-20T22:41:44.581Z"
   },
   {
    "duration": 15,
    "start_time": "2022-12-20T22:41:45.270Z"
   },
   {
    "duration": 4,
    "start_time": "2022-12-20T22:41:45.918Z"
   },
   {
    "duration": 31,
    "start_time": "2022-12-20T22:41:46.566Z"
   },
   {
    "duration": 1813,
    "start_time": "2022-12-20T22:41:47.196Z"
   },
   {
    "duration": 10,
    "start_time": "2022-12-20T22:41:52.069Z"
   },
   {
    "duration": 8,
    "start_time": "2022-12-20T22:41:52.909Z"
   },
   {
    "duration": 5,
    "start_time": "2022-12-20T22:41:53.637Z"
   },
   {
    "duration": 5,
    "start_time": "2022-12-20T22:41:54.124Z"
   },
   {
    "duration": 4,
    "start_time": "2022-12-20T22:41:54.541Z"
   },
   {
    "duration": 4,
    "start_time": "2022-12-20T22:41:54.989Z"
   },
   {
    "duration": 1376,
    "start_time": "2022-12-20T22:41:55.557Z"
   },
   {
    "duration": 1423,
    "start_time": "2022-12-20T22:41:56.934Z"
   },
   {
    "duration": 1379,
    "start_time": "2022-12-20T22:41:58.437Z"
   },
   {
    "duration": 1491,
    "start_time": "2022-12-20T22:41:59.818Z"
   },
   {
    "duration": 1504,
    "start_time": "2022-12-20T22:42:01.311Z"
   },
   {
    "duration": 1436,
    "start_time": "2022-12-20T22:42:02.817Z"
   },
   {
    "duration": 9,
    "start_time": "2022-12-20T22:42:04.644Z"
   },
   {
    "duration": 4,
    "start_time": "2022-12-20T22:42:08.219Z"
   },
   {
    "duration": 8,
    "start_time": "2022-12-20T22:42:08.836Z"
   },
   {
    "duration": 6,
    "start_time": "2022-12-20T22:42:10.693Z"
   },
   {
    "duration": 12,
    "start_time": "2022-12-20T22:42:11.532Z"
   },
   {
    "duration": 6511,
    "start_time": "2022-12-20T22:42:12.437Z"
   },
   {
    "duration": 5336,
    "start_time": "2022-12-20T22:42:19.605Z"
   },
   {
    "duration": 5286,
    "start_time": "2022-12-20T22:42:27.773Z"
   },
   {
    "duration": 5066,
    "start_time": "2022-12-20T22:42:33.860Z"
   },
   {
    "duration": 5193,
    "start_time": "2022-12-20T22:42:39.653Z"
   },
   {
    "duration": 5314,
    "start_time": "2022-12-20T22:42:45.300Z"
   },
   {
    "duration": 5040,
    "start_time": "2022-12-20T22:42:54.260Z"
   },
   {
    "duration": 5073,
    "start_time": "2022-12-20T22:43:02.444Z"
   },
   {
    "duration": 5097,
    "start_time": "2022-12-20T22:43:08.228Z"
   },
   {
    "duration": 8,
    "start_time": "2022-12-20T22:43:14.045Z"
   },
   {
    "duration": 5,
    "start_time": "2022-12-20T22:43:15.884Z"
   },
   {
    "duration": 5,
    "start_time": "2022-12-20T22:43:16.564Z"
   },
   {
    "duration": 9,
    "start_time": "2022-12-20T22:43:17.244Z"
   },
   {
    "duration": 5,
    "start_time": "2022-12-20T22:43:17.996Z"
   },
   {
    "duration": 4,
    "start_time": "2022-12-20T22:43:18.524Z"
   },
   {
    "duration": 9,
    "start_time": "2022-12-20T22:43:19.012Z"
   },
   {
    "duration": 5,
    "start_time": "2022-12-20T22:43:19.500Z"
   },
   {
    "duration": 14,
    "start_time": "2022-12-20T22:43:20.891Z"
   },
   {
    "duration": 4,
    "start_time": "2022-12-20T22:43:23.049Z"
   },
   {
    "duration": 6,
    "start_time": "2022-12-20T22:43:23.932Z"
   },
   {
    "duration": 6,
    "start_time": "2022-12-20T22:43:24.835Z"
   },
   {
    "duration": 5,
    "start_time": "2022-12-20T22:43:25.723Z"
   },
   {
    "duration": 3,
    "start_time": "2022-12-20T22:43:26.459Z"
   },
   {
    "duration": 258,
    "start_time": "2022-12-20T22:43:26.908Z"
   },
   {
    "duration": 4,
    "start_time": "2022-12-20T22:43:27.707Z"
   },
   {
    "duration": 3,
    "start_time": "2022-12-20T22:43:28.076Z"
   },
   {
    "duration": 210,
    "start_time": "2022-12-20T22:43:29.611Z"
   },
   {
    "duration": 232,
    "start_time": "2022-12-20T22:43:30.844Z"
   },
   {
    "duration": 214,
    "start_time": "2022-12-20T22:43:32.845Z"
   },
   {
    "duration": 227,
    "start_time": "2022-12-20T22:43:34.139Z"
   },
   {
    "duration": 139,
    "start_time": "2022-12-20T22:43:35.628Z"
   },
   {
    "duration": 159,
    "start_time": "2022-12-20T22:43:36.939Z"
   },
   {
    "duration": 228,
    "start_time": "2022-12-20T22:43:38.235Z"
   },
   {
    "duration": 122,
    "start_time": "2022-12-20T22:43:39.572Z"
   },
   {
    "duration": 172,
    "start_time": "2022-12-20T22:43:41.051Z"
   },
   {
    "duration": 674,
    "start_time": "2022-12-20T22:43:42.312Z"
   },
   {
    "duration": 230,
    "start_time": "2022-12-20T22:43:44.459Z"
   },
   {
    "duration": 167,
    "start_time": "2022-12-20T22:43:45.851Z"
   },
   {
    "duration": 141,
    "start_time": "2022-12-20T22:43:47.226Z"
   },
   {
    "duration": 156,
    "start_time": "2022-12-20T22:43:48.179Z"
   },
   {
    "duration": 213,
    "start_time": "2022-12-20T22:43:49.963Z"
   },
   {
    "duration": 6,
    "start_time": "2022-12-20T22:43:50.667Z"
   },
   {
    "duration": 4,
    "start_time": "2022-12-20T22:43:51.259Z"
   },
   {
    "duration": 21,
    "start_time": "2022-12-20T22:43:57.182Z"
   },
   {
    "duration": 206,
    "start_time": "2022-12-20T22:43:58.211Z"
   },
   {
    "duration": 19,
    "start_time": "2022-12-20T22:44:00.372Z"
   },
   {
    "duration": 227,
    "start_time": "2022-12-20T22:44:01.172Z"
   },
   {
    "duration": 19,
    "start_time": "2022-12-20T22:44:03.020Z"
   },
   {
    "duration": 195,
    "start_time": "2022-12-20T22:44:04.060Z"
   },
   {
    "duration": 20,
    "start_time": "2022-12-20T22:44:06.011Z"
   },
   {
    "duration": 200,
    "start_time": "2022-12-20T22:44:06.772Z"
   },
   {
    "duration": 17,
    "start_time": "2022-12-20T22:44:16.548Z"
   },
   {
    "duration": 17,
    "start_time": "2022-12-20T22:44:25.508Z"
   },
   {
    "duration": 1353,
    "start_time": "2022-12-20T22:44:27.004Z"
   },
   {
    "duration": 1405,
    "start_time": "2022-12-20T22:44:39.653Z"
   },
   {
    "duration": 140,
    "start_time": "2022-12-20T22:48:27.772Z"
   },
   {
    "duration": 9,
    "start_time": "2022-12-20T22:50:17.875Z"
   },
   {
    "duration": 14,
    "start_time": "2022-12-20T22:50:49.682Z"
   },
   {
    "duration": 21,
    "start_time": "2022-12-20T22:50:56.946Z"
   },
   {
    "duration": 23,
    "start_time": "2022-12-20T22:51:13.786Z"
   },
   {
    "duration": 4,
    "start_time": "2022-12-20T22:52:50.962Z"
   },
   {
    "duration": 740,
    "start_time": "2022-12-20T22:53:24.995Z"
   },
   {
    "duration": 897,
    "start_time": "2022-12-20T22:54:14.841Z"
   },
   {
    "duration": 18,
    "start_time": "2022-12-20T22:56:17.418Z"
   },
   {
    "duration": 15,
    "start_time": "2022-12-20T22:56:31.345Z"
   },
   {
    "duration": 15,
    "start_time": "2022-12-20T22:56:41.345Z"
   },
   {
    "duration": 14,
    "start_time": "2022-12-20T22:56:48.497Z"
   },
   {
    "duration": 14,
    "start_time": "2022-12-20T22:56:51.537Z"
   },
   {
    "duration": 14,
    "start_time": "2022-12-20T22:57:03.145Z"
   },
   {
    "duration": 95,
    "start_time": "2022-12-20T22:57:47.218Z"
   },
   {
    "duration": 19,
    "start_time": "2022-12-20T22:57:51.618Z"
   },
   {
    "duration": 15,
    "start_time": "2022-12-20T23:06:16.711Z"
   },
   {
    "duration": 11,
    "start_time": "2022-12-20T23:10:03.637Z"
   },
   {
    "duration": 15,
    "start_time": "2022-12-20T23:10:20.998Z"
   },
   {
    "duration": 10,
    "start_time": "2022-12-20T23:11:17.462Z"
   },
   {
    "duration": 17,
    "start_time": "2022-12-20T23:11:23.365Z"
   },
   {
    "duration": 14,
    "start_time": "2022-12-20T23:11:55.911Z"
   },
   {
    "duration": 16,
    "start_time": "2022-12-20T23:13:21.270Z"
   },
   {
    "duration": 21,
    "start_time": "2022-12-20T23:27:18.545Z"
   },
   {
    "duration": 15,
    "start_time": "2022-12-20T23:29:44.128Z"
   },
   {
    "duration": 16,
    "start_time": "2022-12-20T23:30:09.144Z"
   },
   {
    "duration": 17,
    "start_time": "2022-12-20T23:31:47.535Z"
   },
   {
    "duration": 187,
    "start_time": "2022-12-20T23:39:34.077Z"
   },
   {
    "duration": 201,
    "start_time": "2022-12-20T23:40:38.797Z"
   },
   {
    "duration": 184,
    "start_time": "2022-12-20T23:40:49.333Z"
   },
   {
    "duration": 207,
    "start_time": "2022-12-20T23:42:11.052Z"
   },
   {
    "duration": 195,
    "start_time": "2022-12-20T23:42:37.141Z"
   },
   {
    "duration": 209,
    "start_time": "2022-12-20T23:42:40.620Z"
   },
   {
    "duration": 194,
    "start_time": "2022-12-20T23:43:37.844Z"
   },
   {
    "duration": 167,
    "start_time": "2022-12-20T23:44:53.388Z"
   },
   {
    "duration": 7,
    "start_time": "2022-12-20T23:47:58.307Z"
   },
   {
    "duration": 13,
    "start_time": "2022-12-20T23:48:03.492Z"
   },
   {
    "duration": 738,
    "start_time": "2022-12-20T23:49:31.354Z"
   },
   {
    "duration": 21,
    "start_time": "2022-12-20T23:49:49.690Z"
   },
   {
    "duration": 182,
    "start_time": "2022-12-20T23:50:52.610Z"
   },
   {
    "duration": 179,
    "start_time": "2022-12-20T23:51:36.042Z"
   },
   {
    "duration": 186,
    "start_time": "2022-12-20T23:51:38.913Z"
   },
   {
    "duration": 222,
    "start_time": "2022-12-20T23:52:01.330Z"
   },
   {
    "duration": 181,
    "start_time": "2022-12-20T23:52:14.771Z"
   },
   {
    "duration": 14,
    "start_time": "2022-12-21T00:02:43.723Z"
   },
   {
    "duration": 17,
    "start_time": "2022-12-21T00:04:04.686Z"
   },
   {
    "duration": 23,
    "start_time": "2022-12-21T00:06:19.752Z"
   },
   {
    "duration": 25,
    "start_time": "2022-12-21T00:07:49.909Z"
   },
   {
    "duration": 23,
    "start_time": "2022-12-21T00:08:19.557Z"
   },
   {
    "duration": 21,
    "start_time": "2022-12-21T00:09:23.054Z"
   },
   {
    "duration": 22,
    "start_time": "2022-12-21T00:10:19.821Z"
   },
   {
    "duration": 16,
    "start_time": "2022-12-21T00:12:48.892Z"
   },
   {
    "duration": 10,
    "start_time": "2022-12-21T00:12:50.571Z"
   },
   {
    "duration": 8,
    "start_time": "2022-12-21T00:12:59.395Z"
   },
   {
    "duration": 13,
    "start_time": "2022-12-21T00:20:24.233Z"
   },
   {
    "duration": 19,
    "start_time": "2022-12-21T00:20:40.282Z"
   },
   {
    "duration": 45,
    "start_time": "2022-12-21T00:24:15.802Z"
   },
   {
    "duration": 19,
    "start_time": "2022-12-21T00:26:39.834Z"
   },
   {
    "duration": 131,
    "start_time": "2022-12-21T00:27:31.495Z"
   },
   {
    "duration": 179,
    "start_time": "2022-12-21T00:32:12.023Z"
   },
   {
    "duration": 1237,
    "start_time": "2022-12-21T00:33:01.672Z"
   },
   {
    "duration": 19,
    "start_time": "2022-12-21T00:41:51.782Z"
   },
   {
    "duration": 20,
    "start_time": "2022-12-21T00:42:03.597Z"
   },
   {
    "duration": 817,
    "start_time": "2022-12-22T06:18:04.996Z"
   },
   {
    "duration": 3,
    "start_time": "2022-12-22T06:19:10.656Z"
   },
   {
    "duration": 566,
    "start_time": "2022-12-22T06:19:19.266Z"
   },
   {
    "duration": 298,
    "start_time": "2022-12-22T06:19:23.696Z"
   },
   {
    "duration": 18,
    "start_time": "2022-12-22T06:19:25.264Z"
   },
   {
    "duration": 4,
    "start_time": "2022-12-22T06:19:26.920Z"
   },
   {
    "duration": 29,
    "start_time": "2022-12-22T06:19:28.128Z"
   },
   {
    "duration": 26,
    "start_time": "2022-12-22T06:20:54.425Z"
   },
   {
    "duration": 1889,
    "start_time": "2022-12-22T06:21:05.959Z"
   },
   {
    "duration": 1866,
    "start_time": "2022-12-22T06:21:13.592Z"
   },
   {
    "duration": 10,
    "start_time": "2022-12-22T06:26:44.465Z"
   },
   {
    "duration": 10,
    "start_time": "2022-12-22T06:26:49.712Z"
   },
   {
    "duration": 6,
    "start_time": "2022-12-22T06:37:17.435Z"
   },
   {
    "duration": 6,
    "start_time": "2022-12-22T06:37:17.988Z"
   },
   {
    "duration": 5,
    "start_time": "2022-12-22T06:37:18.484Z"
   },
   {
    "duration": 1419,
    "start_time": "2022-12-22T06:37:20.676Z"
   },
   {
    "duration": 1421,
    "start_time": "2022-12-22T06:37:30.749Z"
   },
   {
    "duration": 1399,
    "start_time": "2022-12-22T06:37:33.509Z"
   },
   {
    "duration": 1394,
    "start_time": "2022-12-22T06:37:35.756Z"
   },
   {
    "duration": 1383,
    "start_time": "2022-12-22T06:37:37.764Z"
   },
   {
    "duration": 1362,
    "start_time": "2022-12-22T06:37:39.652Z"
   },
   {
    "duration": 5,
    "start_time": "2022-12-22T06:53:33.114Z"
   },
   {
    "duration": 4,
    "start_time": "2022-12-22T06:53:42.985Z"
   },
   {
    "duration": 71,
    "start_time": "2022-12-22T06:54:48.874Z"
   },
   {
    "duration": 11,
    "start_time": "2022-12-22T06:54:50.665Z"
   },
   {
    "duration": 15,
    "start_time": "2022-12-22T07:00:38.466Z"
   },
   {
    "duration": 20,
    "start_time": "2022-12-22T07:00:49.784Z"
   },
   {
    "duration": 31,
    "start_time": "2022-12-22T07:01:00.138Z"
   },
   {
    "duration": 786,
    "start_time": "2022-12-22T07:02:21.866Z"
   },
   {
    "duration": 4,
    "start_time": "2022-12-22T07:02:29.009Z"
   },
   {
    "duration": 31,
    "start_time": "2022-12-22T07:02:31.380Z"
   },
   {
    "duration": 4,
    "start_time": "2022-12-22T07:11:56.992Z"
   },
   {
    "duration": 4,
    "start_time": "2022-12-22T07:12:20.943Z"
   },
   {
    "duration": 3,
    "start_time": "2022-12-22T07:12:41.920Z"
   },
   {
    "duration": 6,
    "start_time": "2022-12-22T07:13:07.535Z"
   },
   {
    "duration": 8,
    "start_time": "2022-12-22T07:13:34.671Z"
   },
   {
    "duration": 4,
    "start_time": "2022-12-22T07:13:48.279Z"
   },
   {
    "duration": 4,
    "start_time": "2022-12-22T07:14:01.216Z"
   },
   {
    "duration": 34,
    "start_time": "2022-12-22T07:14:06.208Z"
   },
   {
    "duration": 4,
    "start_time": "2022-12-22T07:15:09.183Z"
   },
   {
    "duration": 244,
    "start_time": "2022-12-22T07:26:38.294Z"
   },
   {
    "duration": 6,
    "start_time": "2022-12-22T07:26:41.884Z"
   },
   {
    "duration": 5,
    "start_time": "2022-12-22T07:26:42.548Z"
   },
   {
    "duration": 159,
    "start_time": "2022-12-22T07:32:53.929Z"
   },
   {
    "duration": 211,
    "start_time": "2022-12-22T07:33:11.148Z"
   },
   {
    "duration": 165,
    "start_time": "2022-12-22T07:33:29.996Z"
   },
   {
    "duration": 15,
    "start_time": "2022-12-22T07:45:54.500Z"
   },
   {
    "duration": 566,
    "start_time": "2022-12-22T07:46:25.775Z"
   },
   {
    "duration": 87,
    "start_time": "2022-12-22T07:46:26.663Z"
   },
   {
    "duration": 15,
    "start_time": "2022-12-22T07:46:27.535Z"
   },
   {
    "duration": 6,
    "start_time": "2022-12-22T07:46:28.143Z"
   },
   {
    "duration": 31,
    "start_time": "2022-12-22T07:46:28.616Z"
   },
   {
    "duration": 26,
    "start_time": "2022-12-22T07:46:29.090Z"
   },
   {
    "duration": 1797,
    "start_time": "2022-12-22T07:46:29.551Z"
   },
   {
    "duration": 9,
    "start_time": "2022-12-22T07:46:36.919Z"
   },
   {
    "duration": 11,
    "start_time": "2022-12-22T07:46:38.495Z"
   },
   {
    "duration": 5,
    "start_time": "2022-12-22T07:46:42.015Z"
   },
   {
    "duration": 14,
    "start_time": "2022-12-22T07:46:44.793Z"
   },
   {
    "duration": 4,
    "start_time": "2022-12-22T07:50:18.912Z"
   },
   {
    "duration": 6,
    "start_time": "2022-12-22T07:50:27.640Z"
   },
   {
    "duration": 7,
    "start_time": "2022-12-22T07:51:09.493Z"
   },
   {
    "duration": 5,
    "start_time": "2022-12-22T07:51:29.663Z"
   },
   {
    "duration": 5,
    "start_time": "2022-12-22T07:51:31.593Z"
   },
   {
    "duration": 6,
    "start_time": "2022-12-22T07:56:51.385Z"
   },
   {
    "duration": 6,
    "start_time": "2022-12-22T07:57:49.903Z"
   },
   {
    "duration": 111,
    "start_time": "2022-12-22T08:01:45.604Z"
   },
   {
    "duration": 5,
    "start_time": "2022-12-22T08:03:18.925Z"
   },
   {
    "duration": 5,
    "start_time": "2022-12-22T08:03:20.180Z"
   },
   {
    "duration": 4,
    "start_time": "2022-12-22T08:03:31.680Z"
   },
   {
    "duration": 4,
    "start_time": "2022-12-22T08:03:33.323Z"
   },
   {
    "duration": 4,
    "start_time": "2022-12-22T08:03:33.684Z"
   },
   {
    "duration": 4,
    "start_time": "2022-12-22T08:03:34.012Z"
   },
   {
    "duration": 8,
    "start_time": "2022-12-22T08:03:34.436Z"
   },
   {
    "duration": 13,
    "start_time": "2022-12-22T08:03:37.628Z"
   },
   {
    "duration": 212,
    "start_time": "2022-12-22T08:18:04.963Z"
   },
   {
    "duration": 488,
    "start_time": "2022-12-22T08:44:35.756Z"
   },
   {
    "duration": 96,
    "start_time": "2022-12-22T08:45:54.900Z"
   },
   {
    "duration": 1082,
    "start_time": "2022-12-22T08:50:40.170Z"
   },
   {
    "duration": 88,
    "start_time": "2022-12-22T08:50:42.402Z"
   },
   {
    "duration": 14,
    "start_time": "2022-12-22T08:50:43.547Z"
   },
   {
    "duration": 5,
    "start_time": "2022-12-22T08:50:44.240Z"
   },
   {
    "duration": 31,
    "start_time": "2022-12-22T08:50:44.945Z"
   },
   {
    "duration": 26,
    "start_time": "2022-12-22T08:50:45.531Z"
   },
   {
    "duration": 1877,
    "start_time": "2022-12-22T08:50:46.195Z"
   },
   {
    "duration": 9,
    "start_time": "2022-12-22T08:50:51.754Z"
   },
   {
    "duration": 14,
    "start_time": "2022-12-22T08:50:53.075Z"
   },
   {
    "duration": 6,
    "start_time": "2022-12-22T08:50:54.018Z"
   },
   {
    "duration": 14,
    "start_time": "2022-12-22T08:50:55.002Z"
   },
   {
    "duration": 6,
    "start_time": "2022-12-22T08:50:55.886Z"
   },
   {
    "duration": 6,
    "start_time": "2022-12-22T08:50:56.274Z"
   },
   {
    "duration": 7,
    "start_time": "2022-12-22T08:50:57.293Z"
   },
   {
    "duration": 7,
    "start_time": "2022-12-22T08:50:58.170Z"
   },
   {
    "duration": 6,
    "start_time": "2022-12-22T08:50:59.437Z"
   },
   {
    "duration": 4,
    "start_time": "2022-12-22T08:50:59.810Z"
   },
   {
    "duration": 4,
    "start_time": "2022-12-22T08:51:01.855Z"
   },
   {
    "duration": 4,
    "start_time": "2022-12-22T08:51:02.506Z"
   },
   {
    "duration": 4,
    "start_time": "2022-12-22T08:51:03.058Z"
   },
   {
    "duration": 6,
    "start_time": "2022-12-22T08:51:03.497Z"
   },
   {
    "duration": 8,
    "start_time": "2022-12-22T08:51:05.722Z"
   },
   {
    "duration": 5,
    "start_time": "2022-12-22T08:51:07.178Z"
   },
   {
    "duration": 4,
    "start_time": "2022-12-22T08:51:07.506Z"
   },
   {
    "duration": 4,
    "start_time": "2022-12-22T08:51:07.938Z"
   },
   {
    "duration": 4,
    "start_time": "2022-12-22T08:51:08.535Z"
   },
   {
    "duration": 5,
    "start_time": "2022-12-22T08:51:08.850Z"
   },
   {
    "duration": 4,
    "start_time": "2022-12-22T08:51:09.162Z"
   },
   {
    "duration": 7,
    "start_time": "2022-12-22T08:51:09.474Z"
   },
   {
    "duration": 7,
    "start_time": "2022-12-22T08:51:12.434Z"
   },
   {
    "duration": 14,
    "start_time": "2022-12-22T08:51:13.138Z"
   },
   {
    "duration": 6603,
    "start_time": "2022-12-22T08:51:13.735Z"
   },
   {
    "duration": 5443,
    "start_time": "2022-12-22T08:51:21.010Z"
   },
   {
    "duration": 5564,
    "start_time": "2022-12-22T08:51:27.059Z"
   },
   {
    "duration": 5205,
    "start_time": "2022-12-22T08:51:33.162Z"
   },
   {
    "duration": 5273,
    "start_time": "2022-12-22T08:51:40.066Z"
   },
   {
    "duration": 5141,
    "start_time": "2022-12-22T08:51:46.035Z"
   },
   {
    "duration": 5217,
    "start_time": "2022-12-22T08:51:51.938Z"
   },
   {
    "duration": 5194,
    "start_time": "2022-12-22T08:51:57.754Z"
   },
   {
    "duration": 7,
    "start_time": "2022-12-22T08:52:04.201Z"
   },
   {
    "duration": 5,
    "start_time": "2022-12-22T08:52:06.361Z"
   },
   {
    "duration": 6,
    "start_time": "2022-12-22T08:52:07.042Z"
   },
   {
    "duration": 9,
    "start_time": "2022-12-22T08:52:07.442Z"
   },
   {
    "duration": 6,
    "start_time": "2022-12-22T08:52:07.865Z"
   },
   {
    "duration": 4,
    "start_time": "2022-12-22T08:52:08.258Z"
   },
   {
    "duration": 7,
    "start_time": "2022-12-22T08:52:08.730Z"
   },
   {
    "duration": 5,
    "start_time": "2022-12-22T08:52:09.210Z"
   },
   {
    "duration": 13,
    "start_time": "2022-12-22T08:52:11.617Z"
   },
   {
    "duration": 4,
    "start_time": "2022-12-22T08:53:38.225Z"
   },
   {
    "duration": 6,
    "start_time": "2022-12-22T08:53:39.122Z"
   },
   {
    "duration": 6,
    "start_time": "2022-12-22T08:53:40.057Z"
   },
   {
    "duration": 5,
    "start_time": "2022-12-22T08:53:41.961Z"
   },
   {
    "duration": 3,
    "start_time": "2022-12-22T08:53:43.293Z"
   },
   {
    "duration": 249,
    "start_time": "2022-12-22T08:53:43.953Z"
   },
   {
    "duration": 5,
    "start_time": "2022-12-22T08:53:46.657Z"
   },
   {
    "duration": 3,
    "start_time": "2022-12-22T08:53:47.306Z"
   },
   {
    "duration": 212,
    "start_time": "2022-12-22T08:53:49.809Z"
   },
   {
    "duration": 217,
    "start_time": "2022-12-22T08:53:56.978Z"
   },
   {
    "duration": 234,
    "start_time": "2022-12-22T08:53:58.449Z"
   },
   {
    "duration": 341,
    "start_time": "2022-12-22T08:53:59.721Z"
   },
   {
    "duration": 151,
    "start_time": "2022-12-22T08:54:01.497Z"
   },
   {
    "duration": 174,
    "start_time": "2022-12-22T08:54:02.866Z"
   },
   {
    "duration": 206,
    "start_time": "2022-12-22T08:54:07.441Z"
   },
   {
    "duration": 127,
    "start_time": "2022-12-22T08:54:08.946Z"
   },
   {
    "duration": 180,
    "start_time": "2022-12-22T08:54:10.217Z"
   },
   {
    "duration": 227,
    "start_time": "2022-12-22T08:54:11.409Z"
   },
   {
    "duration": 208,
    "start_time": "2022-12-22T08:54:12.561Z"
   },
   {
    "duration": 243,
    "start_time": "2022-12-22T08:54:13.825Z"
   },
   {
    "duration": 138,
    "start_time": "2022-12-22T08:54:18.275Z"
   },
   {
    "duration": 163,
    "start_time": "2022-12-22T08:54:19.313Z"
   },
   {
    "duration": 208,
    "start_time": "2022-12-22T08:54:20.953Z"
   },
   {
    "duration": 5,
    "start_time": "2022-12-22T08:54:21.994Z"
   },
   {
    "duration": 4,
    "start_time": "2022-12-22T08:54:22.466Z"
   },
   {
    "duration": 97,
    "start_time": "2022-12-22T08:54:22.938Z"
   },
   {
    "duration": 200,
    "start_time": "2022-12-22T08:54:25.513Z"
   },
   {
    "duration": 194,
    "start_time": "2022-12-22T08:54:26.741Z"
   },
   {
    "duration": 180,
    "start_time": "2022-12-22T08:54:27.849Z"
   },
   {
    "duration": 199,
    "start_time": "2022-12-22T08:54:29.195Z"
   },
   {
    "duration": 188,
    "start_time": "2022-12-22T08:54:30.491Z"
   },
   {
    "duration": 182,
    "start_time": "2022-12-22T08:54:31.696Z"
   },
   {
    "duration": 198,
    "start_time": "2022-12-22T08:54:32.395Z"
   },
   {
    "duration": 195,
    "start_time": "2022-12-22T08:54:32.799Z"
   },
   {
    "duration": 13,
    "start_time": "2022-12-22T08:54:34.832Z"
   },
   {
    "duration": 21,
    "start_time": "2022-12-22T08:54:35.353Z"
   },
   {
    "duration": 8,
    "start_time": "2022-12-22T08:54:35.843Z"
   },
   {
    "duration": 19,
    "start_time": "2022-12-22T08:54:37.865Z"
   },
   {
    "duration": 1282,
    "start_time": "2022-12-23T10:03:53.127Z"
   }
  ],
  "kernelspec": {
   "display_name": "Python 3 (ipykernel)",
   "language": "python",
   "name": "python3"
  },
  "language_info": {
   "codemirror_mode": {
    "name": "ipython",
    "version": 3
   },
   "file_extension": ".py",
   "mimetype": "text/x-python",
   "name": "python",
   "nbconvert_exporter": "python",
   "pygments_lexer": "ipython3",
   "version": "3.9.13"
  },
  "toc": {
   "base_numbering": 1,
   "nav_menu": {},
   "number_sections": true,
   "sideBar": true,
   "skip_h1_title": true,
   "title_cell": "Table of Contents",
   "title_sidebar": "Contents",
   "toc_cell": false,
   "toc_position": {
    "height": "calc(100% - 180px)",
    "left": "10px",
    "top": "150px",
    "width": "315px"
   },
   "toc_section_display": true,
   "toc_window_display": false
  }
 },
 "nbformat": 4,
 "nbformat_minor": 2
}
