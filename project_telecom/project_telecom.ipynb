{
 "cells": [
  {
   "cell_type": "markdown",
   "metadata": {
    "toc": true
   },
   "source": [
    "<h1>Содержание<span class=\"tocSkip\"></span></h1>\n",
    "<div class=\"toc\"><ul class=\"toc-item\"><li><span><a href=\"#Ознакомление-с-данными\" data-toc-modified-id=\"Ознакомление-с-данными-1\"><span class=\"toc-item-num\">1&nbsp;&nbsp;</span>Ознакомление с данными</a></span><ul class=\"toc-item\"><li><span><a href=\"#data_contract\" data-toc-modified-id=\"data_contract-1.1\"><span class=\"toc-item-num\">1.1&nbsp;&nbsp;</span>data_contract</a></span></li><li><span><a href=\"#data_personal\" data-toc-modified-id=\"data_personal-1.2\"><span class=\"toc-item-num\">1.2&nbsp;&nbsp;</span>data_personal</a></span></li><li><span><a href=\"#data_internet\" data-toc-modified-id=\"data_internet-1.3\"><span class=\"toc-item-num\">1.3&nbsp;&nbsp;</span>data_internet</a></span></li><li><span><a href=\"#data_phone\" data-toc-modified-id=\"data_phone-1.4\"><span class=\"toc-item-num\">1.4&nbsp;&nbsp;</span>data_phone</a></span></li><li><span><a href=\"#Общий-вывод-по-этапу-ознакомления-с-данными\" data-toc-modified-id=\"Общий-вывод-по-этапу-ознакомления-с-данными-1.5\"><span class=\"toc-item-num\">1.5&nbsp;&nbsp;</span>Общий вывод по этапу ознакомления с данными</a></span></li></ul></li><li><span><a href=\"#Предобработка-данных\" data-toc-modified-id=\"Предобработка-данных-2\"><span class=\"toc-item-num\">2&nbsp;&nbsp;</span>Предобработка данных</a></span><ul class=\"toc-item\"><li><span><a href=\"#Приведение-названий-в-столбцах-к-нижнему-регистру\" data-toc-modified-id=\"Приведение-названий-в-столбцах-к-нижнему-регистру-2.1\"><span class=\"toc-item-num\">2.1&nbsp;&nbsp;</span>Приведение названий в столбцах к нижнему регистру</a></span></li><li><span><a href=\"#Проверка-данных-на-дубликаты\" data-toc-modified-id=\"Проверка-данных-на-дубликаты-2.2\"><span class=\"toc-item-num\">2.2&nbsp;&nbsp;</span>Проверка данных на дубликаты</a></span></li><li><span><a href=\"#Изменения-типов-данных-на-подходящие\" data-toc-modified-id=\"Изменения-типов-данных-на-подходящие-2.3\"><span class=\"toc-item-num\">2.3&nbsp;&nbsp;</span>Изменения типов данных на подходящие</a></span></li><li><span><a href=\"#Проверка-данных-на-пропуски\" data-toc-modified-id=\"Проверка-данных-на-пропуски-2.4\"><span class=\"toc-item-num\">2.4&nbsp;&nbsp;</span>Проверка данных на пропуски</a></span></li><li><span><a href=\"#Объединение-данных\" data-toc-modified-id=\"Объединение-данных-2.5\"><span class=\"toc-item-num\">2.5&nbsp;&nbsp;</span>Объединение данных</a></span></li><li><span><a href=\"#Общий-вывод-по-этапу-предобработки-данных\" data-toc-modified-id=\"Общий-вывод-по-этапу-предобработки-данных-2.6\"><span class=\"toc-item-num\">2.6&nbsp;&nbsp;</span>Общий вывод по этапу предобработки данных</a></span></li></ul></li><li><span><a href=\"#Исследовательский-анализ-данных\" data-toc-modified-id=\"Исследовательский-анализ-данных-3\"><span class=\"toc-item-num\">3&nbsp;&nbsp;</span>Исследовательский анализ данных</a></span><ul class=\"toc-item\"><li><span><a href=\"#Исследование-целевого-признака-на-баланс-классов\" data-toc-modified-id=\"Исследование-целевого-признака-на-баланс-классов-3.1\"><span class=\"toc-item-num\">3.1&nbsp;&nbsp;</span>Исследование целевого признака на баланс классов</a></span></li><li><span><a href=\"#Изучие-категоральных-и-численных-признаков\" data-toc-modified-id=\"Изучие-категоральных-и-численных-признаков-3.2\"><span class=\"toc-item-num\">3.2&nbsp;&nbsp;</span>Изучие категоральных и численных признаков</a></span></li><li><span><a href=\"#Добавление-новых-признаков\" data-toc-modified-id=\"Добавление-новых-признаков-3.3\"><span class=\"toc-item-num\">3.3&nbsp;&nbsp;</span>Добавление новых признаков</a></span></li><li><span><a href=\"#Исследование-корреляции\" data-toc-modified-id=\"Исследование-корреляции-3.4\"><span class=\"toc-item-num\">3.4&nbsp;&nbsp;</span>Исследование корреляции</a></span></li><li><span><a href=\"#Удаление-ненужных-признаков\" data-toc-modified-id=\"Удаление-ненужных-признаков-3.5\"><span class=\"toc-item-num\">3.5&nbsp;&nbsp;</span>Удаление ненужных признаков</a></span></li><li><span><a href=\"#Общий-вывод-по-исследовательскому-анализу-данных\" data-toc-modified-id=\"Общий-вывод-по-исследовательскому-анализу-данных-3.6\"><span class=\"toc-item-num\">3.6&nbsp;&nbsp;</span>Общий вывод по исследовательскому анализу данных</a></span></li></ul></li><li><span><a href=\"#Подготовка-данных-к-обучению-моделей\" data-toc-modified-id=\"Подготовка-данных-к-обучению-моделей-4\"><span class=\"toc-item-num\">4&nbsp;&nbsp;</span>Подготовка данных к обучению моделей</a></span><ul class=\"toc-item\"><li><span><a href=\"#Разделение-данных-на-обучающую-и-тестовую-выборки-в-соотношении-3:1\" data-toc-modified-id=\"Разделение-данных-на-обучающую-и-тестовую-выборки-в-соотношении-3:1-4.1\"><span class=\"toc-item-num\">4.1&nbsp;&nbsp;</span>Разделение данных на обучающую и тестовую выборки в соотношении 3:1</a></span></li><li><span><a href=\"#Кодировка-категориальных-признаков\" data-toc-modified-id=\"Кодировка-категориальных-признаков-4.2\"><span class=\"toc-item-num\">4.2&nbsp;&nbsp;</span>Кодировка категориальных признаков</a></span></li><li><span><a href=\"#Стандартизация-численных-признаков\" data-toc-modified-id=\"Стандартизация-численных-признаков-4.3\"><span class=\"toc-item-num\">4.3&nbsp;&nbsp;</span>Стандартизация численных признаков</a></span></li><li><span><a href=\"#Общий-вывод-по-подготовке-данных-к-обучению-моделей\" data-toc-modified-id=\"Общий-вывод-по-подготовке-данных-к-обучению-моделей-4.4\"><span class=\"toc-item-num\">4.4&nbsp;&nbsp;</span>Общий вывод по подготовке данных к обучению моделей</a></span></li></ul></li><li><span><a href=\"#Исследование-моделей-машинного-обучения\" data-toc-modified-id=\"Исследование-моделей-машинного-обучения-5\"><span class=\"toc-item-num\">5&nbsp;&nbsp;</span>Исследование моделей машинного обучения</a></span><ul class=\"toc-item\"><li><span><a href=\"#Случайный-лес\" data-toc-modified-id=\"Случайный-лес-5.1\"><span class=\"toc-item-num\">5.1&nbsp;&nbsp;</span>Случайный лес</a></span></li><li><span><a href=\"#Логистическая-регрессия\" data-toc-modified-id=\"Логистическая-регрессия-5.2\"><span class=\"toc-item-num\">5.2&nbsp;&nbsp;</span>Логистическая регрессия</a></span></li><li><span><a href=\"#CatBoost\" data-toc-modified-id=\"CatBoost-5.3\"><span class=\"toc-item-num\">5.3&nbsp;&nbsp;</span>CatBoost</a></span></li><li><span><a href=\"#Общий-вывод-по-исследованию-моделей-машинного-обучения\" data-toc-modified-id=\"Общий-вывод-по-исследованию-моделей-машинного-обучения-5.4\"><span class=\"toc-item-num\">5.4&nbsp;&nbsp;</span>Общий вывод по исследованию моделей машинного обучения</a></span></li></ul></li><li><span><a href=\"#Тестирование-наилучшей-модели\" data-toc-modified-id=\"Тестирование-наилучшей-модели-6\"><span class=\"toc-item-num\">6&nbsp;&nbsp;</span>Тестирование наилучшей модели</a></span><ul class=\"toc-item\"><li><span><a href=\"#Испытание-наилучшей-модели-на-тестовой-выборке\" data-toc-modified-id=\"Испытание-наилучшей-модели-на-тестовой-выборке-6.1\"><span class=\"toc-item-num\">6.1&nbsp;&nbsp;</span>Испытание наилучшей модели на тестовой выборке</a></span></li><li><span><a href=\"#Dummy-модель\" data-toc-modified-id=\"Dummy-модель-6.2\"><span class=\"toc-item-num\">6.2&nbsp;&nbsp;</span>Dummy модель</a></span></li><li><span><a href=\"#ROC-кривая\" data-toc-modified-id=\"ROC-кривая-6.3\"><span class=\"toc-item-num\">6.3&nbsp;&nbsp;</span>ROC-кривая</a></span></li><li><span><a href=\"#Метрики-accuracy-и-матрицы-ошибок\" data-toc-modified-id=\"Метрики-accuracy-и-матрицы-ошибок-6.4\"><span class=\"toc-item-num\">6.4&nbsp;&nbsp;</span>Метрики accuracy и матрицы ошибок</a></span></li><li><span><a href=\"#Общий-вывод-по-Тестирование-наилучшей-модели\" data-toc-modified-id=\"Общий-вывод-по-Тестирование-наилучшей-модели-6.5\"><span class=\"toc-item-num\">6.5&nbsp;&nbsp;</span>Общий вывод по Тестирование наилучшей модели</a></span></li></ul></li><li><span><a href=\"#Общий-вывод-по-проекту\" data-toc-modified-id=\"Общий-вывод-по-проекту-7\"><span class=\"toc-item-num\">7&nbsp;&nbsp;</span>Общий вывод по проекту</a></span></li></ul></div>"
   ]
  },
  {
   "cell_type": "markdown",
   "metadata": {},
   "source": [
    "# Телеком - отток клиентов"
   ]
  },
  {
   "cell_type": "markdown",
   "metadata": {},
   "source": [
    "Оператор связи «Ниединогоразрыва.ком» хочет научиться прогнозировать отток клиентов. Если выяснится, что пользователь планирует уйти, ему будут предложены промокоды и специальные условия. Команда оператора собрала персональные данные о некоторых клиентах, информацию об их тарифах и договорах."
   ]
  },
  {
   "cell_type": "markdown",
   "metadata": {},
   "source": [
    "# Цель проекта"
   ]
  },
  {
   "cell_type": "markdown",
   "metadata": {},
   "source": [
    "Необходимо построить модель машинного обучения для задачи классификации способную спрогнозировать отказ клиента от услуг оператора. Модель нужно проверить метрикой ROC-AUC, её значение должно быть равно 0.85 и больше. Также у заказчика есть пожелание по параметру RANDOM_STATE = 60623."
   ]
  },
  {
   "cell_type": "markdown",
   "metadata": {},
   "source": [
    "# Описание данных"
   ]
  },
  {
   "cell_type": "markdown",
   "metadata": {},
   "source": [
    "Данные состоят из 4 файлов, полученных из разных источников:\n",
    "- contract_new.csv — информация о договоре;\n",
    "- personal_new.csv — персональные данные клиента;\n",
    "- internet_new.csv — информация об интернет-услугах;\n",
    "- phone_new.csv — информация об услугах телефонии.\n",
    "\n",
    "Все данные связанны столбецом customerID, который содержит код клиента."
   ]
  },
  {
   "cell_type": "markdown",
   "metadata": {},
   "source": [
    "# План работы"
   ]
  },
  {
   "cell_type": "markdown",
   "metadata": {},
   "source": [
    "- Ознакомление с данными\n",
    " - Знакомство с датафреймом contract_new\n",
    " - Знакомство с датафреймом personal_new\n",
    " - Знакомство с датафреймом internet_new\n",
    " - Знакомство с датафреймом phone_new\n",
    " - Вывод\n",
    "- Предобработка данных\n",
    " - Приведение названий в столбцах к нижнему регистру для удобства\n",
    " - Проверка данных на дубликаты и их устранение\n",
    " - Изменения типов данных на подходящие\n",
    " - Проверка данных на пропуски и их устранение\n",
    " - Объединение данных в один датафрейм\n",
    " - Вывод\n",
    "- Исследовательский анализ данных\n",
    " - Исследование целевого признака, посмотрим на баланс классов\n",
    " - Изучие влияния категоральных и численных признаков на отказ от услуг оператора\n",
    " - Проверка корреляции с целевой переменной\n",
    " - Удаление ненужных, малозначимых для обучения моделей, столбцов\n",
    " - Вывод\n",
    "- Подготовка данных к обучению моделей\n",
    " - Разделение данных на обучающую и тестовую выборки в соотношении 3:1\n",
    " - Кодировка категориальных признаков\n",
    " - Стандартизация численных признаков\n",
    " - Вывод\n",
    "- Исследование моделей машинного обучения\n",
    " - Случайный лес\n",
    " - Логистическая регрессия\n",
    " - Модель градиентного бустинга CatBoost\n",
    " - Вывод\n",
    "- Тестирование наилучшей модели\n",
    " - Проверка наилучшей модели на тестовой выборке\n",
    " - Проверка наилучшей модели на адекватность\n",
    " - Построение ROC-AUC кривой\n",
    " - Построение матрицы ошибок и анализ метрики accuracy\n",
    " - Вывод\n",
    "- Общий вывод по проекту"
   ]
  },
  {
   "cell_type": "markdown",
   "metadata": {},
   "source": [
    "## Ознакомление с данными"
   ]
  },
  {
   "cell_type": "markdown",
   "metadata": {},
   "source": [
    "Импортируем необходимые библиотеки и запишем константы"
   ]
  },
  {
   "cell_type": "code",
   "execution_count": 1,
   "metadata": {},
   "outputs": [
    {
     "name": "stdout",
     "output_type": "stream",
     "text": [
      "Requirement already satisfied: scikit-learn==1.2.2 in /opt/conda/lib/python3.9/site-packages (1.2.2)\n",
      "Requirement already satisfied: joblib>=1.1.1 in /opt/conda/lib/python3.9/site-packages (from scikit-learn==1.2.2) (1.2.0)\n",
      "Requirement already satisfied: threadpoolctl>=2.0.0 in /opt/conda/lib/python3.9/site-packages (from scikit-learn==1.2.2) (3.1.0)\n",
      "Requirement already satisfied: scipy>=1.3.2 in /opt/conda/lib/python3.9/site-packages (from scikit-learn==1.2.2) (1.9.1)\n",
      "Requirement already satisfied: numpy>=1.17.3 in /opt/conda/lib/python3.9/site-packages (from scikit-learn==1.2.2) (1.21.1)\n",
      "Requirement already satisfied: phik in /opt/conda/lib/python3.9/site-packages (0.12.3)\n",
      "Requirement already satisfied: pandas>=0.25.1 in /opt/conda/lib/python3.9/site-packages (from phik) (1.2.4)\n",
      "Requirement already satisfied: numpy>=1.18.0 in /opt/conda/lib/python3.9/site-packages (from phik) (1.21.1)\n",
      "Requirement already satisfied: joblib>=0.14.1 in /opt/conda/lib/python3.9/site-packages (from phik) (1.2.0)\n",
      "Requirement already satisfied: scipy>=1.5.2 in /opt/conda/lib/python3.9/site-packages (from phik) (1.9.1)\n",
      "Requirement already satisfied: matplotlib>=2.2.3 in /opt/conda/lib/python3.9/site-packages (from phik) (3.3.4)\n",
      "Requirement already satisfied: pyparsing!=2.0.4,!=2.1.2,!=2.1.6,>=2.0.3 in /opt/conda/lib/python3.9/site-packages (from matplotlib>=2.2.3->phik) (2.4.7)\n",
      "Requirement already satisfied: python-dateutil>=2.1 in /opt/conda/lib/python3.9/site-packages (from matplotlib>=2.2.3->phik) (2.8.1)\n",
      "Requirement already satisfied: pillow>=6.2.0 in /opt/conda/lib/python3.9/site-packages (from matplotlib>=2.2.3->phik) (8.4.0)\n",
      "Requirement already satisfied: kiwisolver>=1.0.1 in /opt/conda/lib/python3.9/site-packages (from matplotlib>=2.2.3->phik) (1.4.4)\n",
      "Requirement already satisfied: cycler>=0.10 in /opt/conda/lib/python3.9/site-packages (from matplotlib>=2.2.3->phik) (0.11.0)\n",
      "Requirement already satisfied: pytz>=2017.3 in /opt/conda/lib/python3.9/site-packages (from pandas>=0.25.1->phik) (2021.1)\n",
      "Requirement already satisfied: six>=1.5 in /opt/conda/lib/python3.9/site-packages (from python-dateutil>=2.1->matplotlib>=2.2.3->phik) (1.16.0)\n"
     ]
    }
   ],
   "source": [
    "!pip install scikit-learn==1.2.2\n",
    "!pip install phik\n",
    "\n",
    "import warnings\n",
    "warnings.filterwarnings(\"ignore\")\n",
    "\n",
    "import pandas as pd\n",
    "import numpy as np\n",
    "\n",
    "import phik\n",
    "\n",
    "import matplotlib.pyplot as plt\n",
    "import seaborn as sns\n",
    "\n",
    "from sklearn.preprocessing import OneHotEncoder, StandardScaler\n",
    "\n",
    "from sklearn.model_selection import train_test_split, cross_val_score, GridSearchCV\n",
    "from sklearn.pipeline import Pipeline\n",
    "\n",
    "from sklearn.metrics import confusion_matrix, roc_auc_score, roc_curve, accuracy_score\n",
    "\n",
    "from sklearn.linear_model import LogisticRegression\n",
    "from sklearn.ensemble import RandomForestClassifier\n",
    "from catboost import CatBoostClassifier\n",
    "\n",
    "from sklearn.dummy import DummyClassifier"
   ]
  },
  {
   "cell_type": "code",
   "execution_count": 2,
   "metadata": {},
   "outputs": [],
   "source": [
    "RANDOM_STATE = 60623"
   ]
  },
  {
   "cell_type": "markdown",
   "metadata": {},
   "source": [
    "Запишем данные в переменные"
   ]
  },
  {
   "cell_type": "code",
   "execution_count": 3,
   "metadata": {},
   "outputs": [],
   "source": [
    "try:\n",
    "    data_contract = pd.read_csv('/datasets/contract_new.csv')\n",
    "except:\n",
    "    data_contract = pd.read_csv('https://code.s3.yandex.net/datasets/contract_new.csv')"
   ]
  },
  {
   "cell_type": "code",
   "execution_count": 4,
   "metadata": {},
   "outputs": [],
   "source": [
    "try:\n",
    "    data_personal = pd.read_csv('/datasets/personal_new.csv')\n",
    "except:\n",
    "    data_personal = pd.read_csv('https://code.s3.yandex.net/datasets/personal_new.csv')"
   ]
  },
  {
   "cell_type": "code",
   "execution_count": 5,
   "metadata": {},
   "outputs": [],
   "source": [
    "try:\n",
    "    data_internet = pd.read_csv('/datasets/internet_new.csv')\n",
    "except:\n",
    "    data_internet = pd.read_csv('https://code.s3.yandex.net/datasets/internet_new.csv')"
   ]
  },
  {
   "cell_type": "code",
   "execution_count": 6,
   "metadata": {},
   "outputs": [],
   "source": [
    "try:\n",
    "    data_phone = pd.read_csv('/datasets/phone_new.csv')\n",
    "except:\n",
    "    data_phone = pd.read_csv('https://code.s3.yandex.net/datasets/phone_new.csv')"
   ]
  },
  {
   "cell_type": "markdown",
   "metadata": {},
   "source": [
    "Теперь с каждого датафрейма по очереди выведем несколько строк, info, describe и напишем краткие выводы"
   ]
  },
  {
   "cell_type": "markdown",
   "metadata": {},
   "source": [
    "### data_contract"
   ]
  },
  {
   "cell_type": "code",
   "execution_count": 7,
   "metadata": {},
   "outputs": [
    {
     "data": {
      "text/html": [
       "<div>\n",
       "<style scoped>\n",
       "    .dataframe tbody tr th:only-of-type {\n",
       "        vertical-align: middle;\n",
       "    }\n",
       "\n",
       "    .dataframe tbody tr th {\n",
       "        vertical-align: top;\n",
       "    }\n",
       "\n",
       "    .dataframe thead th {\n",
       "        text-align: right;\n",
       "    }\n",
       "</style>\n",
       "<table border=\"1\" class=\"dataframe\">\n",
       "  <thead>\n",
       "    <tr style=\"text-align: right;\">\n",
       "      <th></th>\n",
       "      <th>customerID</th>\n",
       "      <th>BeginDate</th>\n",
       "      <th>EndDate</th>\n",
       "      <th>Type</th>\n",
       "      <th>PaperlessBilling</th>\n",
       "      <th>PaymentMethod</th>\n",
       "      <th>MonthlyCharges</th>\n",
       "      <th>TotalCharges</th>\n",
       "    </tr>\n",
       "  </thead>\n",
       "  <tbody>\n",
       "    <tr>\n",
       "      <th>30</th>\n",
       "      <td>3841-NFECX</td>\n",
       "      <td>2014-03-01</td>\n",
       "      <td>2018-11-01</td>\n",
       "      <td>Two year</td>\n",
       "      <td>Yes</td>\n",
       "      <td>Credit card (automatic)</td>\n",
       "      <td>96.35</td>\n",
       "      <td>5395.6</td>\n",
       "    </tr>\n",
       "    <tr>\n",
       "      <th>1285</th>\n",
       "      <td>9134-CEQMF</td>\n",
       "      <td>2019-03-01</td>\n",
       "      <td>No</td>\n",
       "      <td>Month-to-month</td>\n",
       "      <td>Yes</td>\n",
       "      <td>Electronic check</td>\n",
       "      <td>89.50</td>\n",
       "      <td>984.5</td>\n",
       "    </tr>\n",
       "    <tr>\n",
       "      <th>6575</th>\n",
       "      <td>2978-XXSOG</td>\n",
       "      <td>2018-04-01</td>\n",
       "      <td>No</td>\n",
       "      <td>Month-to-month</td>\n",
       "      <td>Yes</td>\n",
       "      <td>Mailed check</td>\n",
       "      <td>59.05</td>\n",
       "      <td>1299.1</td>\n",
       "    </tr>\n",
       "    <tr>\n",
       "      <th>6880</th>\n",
       "      <td>6976-BWGLQ</td>\n",
       "      <td>2014-02-01</td>\n",
       "      <td>No</td>\n",
       "      <td>Two year</td>\n",
       "      <td>No</td>\n",
       "      <td>Bank transfer (automatic)</td>\n",
       "      <td>25.20</td>\n",
       "      <td>1814.4</td>\n",
       "    </tr>\n",
       "    <tr>\n",
       "      <th>6030</th>\n",
       "      <td>2027-OAQQC</td>\n",
       "      <td>2016-04-01</td>\n",
       "      <td>2017-07-01</td>\n",
       "      <td>Month-to-month</td>\n",
       "      <td>Yes</td>\n",
       "      <td>Bank transfer (automatic)</td>\n",
       "      <td>49.05</td>\n",
       "      <td>735.75</td>\n",
       "    </tr>\n",
       "    <tr>\n",
       "      <th>733</th>\n",
       "      <td>7564-GHCVB</td>\n",
       "      <td>2014-02-01</td>\n",
       "      <td>2015-12-01</td>\n",
       "      <td>Two year</td>\n",
       "      <td>No</td>\n",
       "      <td>Bank transfer (automatic)</td>\n",
       "      <td>79.05</td>\n",
       "      <td>1808.66</td>\n",
       "    </tr>\n",
       "    <tr>\n",
       "      <th>1863</th>\n",
       "      <td>9575-IWCAZ</td>\n",
       "      <td>2019-08-01</td>\n",
       "      <td>No</td>\n",
       "      <td>One year</td>\n",
       "      <td>No</td>\n",
       "      <td>Mailed check</td>\n",
       "      <td>25.10</td>\n",
       "      <td>153.61</td>\n",
       "    </tr>\n",
       "    <tr>\n",
       "      <th>2999</th>\n",
       "      <td>1038-RQOST</td>\n",
       "      <td>2018-07-01</td>\n",
       "      <td>No</td>\n",
       "      <td>Month-to-month</td>\n",
       "      <td>No</td>\n",
       "      <td>Mailed check</td>\n",
       "      <td>20.60</td>\n",
       "      <td>418.8</td>\n",
       "    </tr>\n",
       "    <tr>\n",
       "      <th>4561</th>\n",
       "      <td>9415-TPKRV</td>\n",
       "      <td>2019-06-01</td>\n",
       "      <td>No</td>\n",
       "      <td>Month-to-month</td>\n",
       "      <td>No</td>\n",
       "      <td>Electronic check</td>\n",
       "      <td>55.75</td>\n",
       "      <td>446.0</td>\n",
       "    </tr>\n",
       "    <tr>\n",
       "      <th>3828</th>\n",
       "      <td>8747-UDCOI</td>\n",
       "      <td>2014-09-01</td>\n",
       "      <td>No</td>\n",
       "      <td>Two year</td>\n",
       "      <td>No</td>\n",
       "      <td>Bank transfer (automatic)</td>\n",
       "      <td>19.35</td>\n",
       "      <td>1257.75</td>\n",
       "    </tr>\n",
       "  </tbody>\n",
       "</table>\n",
       "</div>"
      ],
      "text/plain": [
       "      customerID   BeginDate     EndDate            Type PaperlessBilling  \\\n",
       "30    3841-NFECX  2014-03-01  2018-11-01        Two year              Yes   \n",
       "1285  9134-CEQMF  2019-03-01          No  Month-to-month              Yes   \n",
       "6575  2978-XXSOG  2018-04-01          No  Month-to-month              Yes   \n",
       "6880  6976-BWGLQ  2014-02-01          No        Two year               No   \n",
       "6030  2027-OAQQC  2016-04-01  2017-07-01  Month-to-month              Yes   \n",
       "733   7564-GHCVB  2014-02-01  2015-12-01        Two year               No   \n",
       "1863  9575-IWCAZ  2019-08-01          No        One year               No   \n",
       "2999  1038-RQOST  2018-07-01          No  Month-to-month               No   \n",
       "4561  9415-TPKRV  2019-06-01          No  Month-to-month               No   \n",
       "3828  8747-UDCOI  2014-09-01          No        Two year               No   \n",
       "\n",
       "                  PaymentMethod  MonthlyCharges TotalCharges  \n",
       "30      Credit card (automatic)           96.35       5395.6  \n",
       "1285           Electronic check           89.50        984.5  \n",
       "6575               Mailed check           59.05       1299.1  \n",
       "6880  Bank transfer (automatic)           25.20       1814.4  \n",
       "6030  Bank transfer (automatic)           49.05       735.75  \n",
       "733   Bank transfer (automatic)           79.05      1808.66  \n",
       "1863               Mailed check           25.10       153.61  \n",
       "2999               Mailed check           20.60        418.8  \n",
       "4561           Electronic check           55.75        446.0  \n",
       "3828  Bank transfer (automatic)           19.35      1257.75  "
      ]
     },
     "execution_count": 7,
     "metadata": {},
     "output_type": "execute_result"
    }
   ],
   "source": [
    "data_contract.sample(10, random_state=RANDOM_STATE)"
   ]
  },
  {
   "cell_type": "code",
   "execution_count": 8,
   "metadata": {},
   "outputs": [
    {
     "name": "stdout",
     "output_type": "stream",
     "text": [
      "<class 'pandas.core.frame.DataFrame'>\n",
      "RangeIndex: 7043 entries, 0 to 7042\n",
      "Data columns (total 8 columns):\n",
      " #   Column            Non-Null Count  Dtype  \n",
      "---  ------            --------------  -----  \n",
      " 0   customerID        7043 non-null   object \n",
      " 1   BeginDate         7043 non-null   object \n",
      " 2   EndDate           7043 non-null   object \n",
      " 3   Type              7043 non-null   object \n",
      " 4   PaperlessBilling  7043 non-null   object \n",
      " 5   PaymentMethod     7043 non-null   object \n",
      " 6   MonthlyCharges    7043 non-null   float64\n",
      " 7   TotalCharges      7043 non-null   object \n",
      "dtypes: float64(1), object(7)\n",
      "memory usage: 440.3+ KB\n"
     ]
    }
   ],
   "source": [
    "data_contract.info()"
   ]
  },
  {
   "cell_type": "code",
   "execution_count": 9,
   "metadata": {},
   "outputs": [
    {
     "data": {
      "text/html": [
       "<div>\n",
       "<style scoped>\n",
       "    .dataframe tbody tr th:only-of-type {\n",
       "        vertical-align: middle;\n",
       "    }\n",
       "\n",
       "    .dataframe tbody tr th {\n",
       "        vertical-align: top;\n",
       "    }\n",
       "\n",
       "    .dataframe thead th {\n",
       "        text-align: right;\n",
       "    }\n",
       "</style>\n",
       "<table border=\"1\" class=\"dataframe\">\n",
       "  <thead>\n",
       "    <tr style=\"text-align: right;\">\n",
       "      <th></th>\n",
       "      <th>MonthlyCharges</th>\n",
       "    </tr>\n",
       "  </thead>\n",
       "  <tbody>\n",
       "    <tr>\n",
       "      <th>count</th>\n",
       "      <td>7043.000000</td>\n",
       "    </tr>\n",
       "    <tr>\n",
       "      <th>mean</th>\n",
       "      <td>64.761692</td>\n",
       "    </tr>\n",
       "    <tr>\n",
       "      <th>std</th>\n",
       "      <td>30.090047</td>\n",
       "    </tr>\n",
       "    <tr>\n",
       "      <th>min</th>\n",
       "      <td>18.250000</td>\n",
       "    </tr>\n",
       "    <tr>\n",
       "      <th>25%</th>\n",
       "      <td>35.500000</td>\n",
       "    </tr>\n",
       "    <tr>\n",
       "      <th>50%</th>\n",
       "      <td>70.350000</td>\n",
       "    </tr>\n",
       "    <tr>\n",
       "      <th>75%</th>\n",
       "      <td>89.850000</td>\n",
       "    </tr>\n",
       "    <tr>\n",
       "      <th>max</th>\n",
       "      <td>118.750000</td>\n",
       "    </tr>\n",
       "  </tbody>\n",
       "</table>\n",
       "</div>"
      ],
      "text/plain": [
       "       MonthlyCharges\n",
       "count     7043.000000\n",
       "mean        64.761692\n",
       "std         30.090047\n",
       "min         18.250000\n",
       "25%         35.500000\n",
       "50%         70.350000\n",
       "75%         89.850000\n",
       "max        118.750000"
      ]
     },
     "execution_count": 9,
     "metadata": {},
     "output_type": "execute_result"
    }
   ],
   "source": [
    "data_contract.describe()"
   ]
  },
  {
   "cell_type": "code",
   "execution_count": 10,
   "metadata": {},
   "outputs": [
    {
     "data": {
      "text/html": [
       "<div>\n",
       "<style scoped>\n",
       "    .dataframe tbody tr th:only-of-type {\n",
       "        vertical-align: middle;\n",
       "    }\n",
       "\n",
       "    .dataframe tbody tr th {\n",
       "        vertical-align: top;\n",
       "    }\n",
       "\n",
       "    .dataframe thead th {\n",
       "        text-align: right;\n",
       "    }\n",
       "</style>\n",
       "<table border=\"1\" class=\"dataframe\">\n",
       "  <thead>\n",
       "    <tr style=\"text-align: right;\">\n",
       "      <th></th>\n",
       "      <th>BeginDate</th>\n",
       "      <th>EndDate</th>\n",
       "      <th>Type</th>\n",
       "      <th>PaperlessBilling</th>\n",
       "      <th>PaymentMethod</th>\n",
       "    </tr>\n",
       "  </thead>\n",
       "  <tbody>\n",
       "    <tr>\n",
       "      <th>count</th>\n",
       "      <td>7043</td>\n",
       "      <td>7043</td>\n",
       "      <td>7043</td>\n",
       "      <td>7043</td>\n",
       "      <td>7043</td>\n",
       "    </tr>\n",
       "    <tr>\n",
       "      <th>unique</th>\n",
       "      <td>77</td>\n",
       "      <td>67</td>\n",
       "      <td>3</td>\n",
       "      <td>2</td>\n",
       "      <td>4</td>\n",
       "    </tr>\n",
       "    <tr>\n",
       "      <th>top</th>\n",
       "      <td>2014-02-01</td>\n",
       "      <td>No</td>\n",
       "      <td>Month-to-month</td>\n",
       "      <td>Yes</td>\n",
       "      <td>Electronic check</td>\n",
       "    </tr>\n",
       "    <tr>\n",
       "      <th>freq</th>\n",
       "      <td>366</td>\n",
       "      <td>5942</td>\n",
       "      <td>3875</td>\n",
       "      <td>4171</td>\n",
       "      <td>2365</td>\n",
       "    </tr>\n",
       "  </tbody>\n",
       "</table>\n",
       "</div>"
      ],
      "text/plain": [
       "         BeginDate EndDate            Type PaperlessBilling     PaymentMethod\n",
       "count         7043    7043            7043             7043              7043\n",
       "unique          77      67               3                2                 4\n",
       "top     2014-02-01      No  Month-to-month              Yes  Electronic check\n",
       "freq           366    5942            3875             4171              2365"
      ]
     },
     "execution_count": 10,
     "metadata": {},
     "output_type": "execute_result"
    }
   ],
   "source": [
    "data_contract[['BeginDate', 'EndDate', 'Type', 'PaperlessBilling', 'PaymentMethod']].describe()"
   ]
  },
  {
   "cell_type": "markdown",
   "metadata": {},
   "source": [
    "**Вывод:** Видим, что столбцы BeginDate, EndDate и TotalCharges имеют неподходящий тип данных. В EndDate есть значения \"No\", это неоконченные контракты. Также отметим, что в названиях столбцов встречаются буквы и в верхнем, и в нижнем регистре.  Всего в датафрейме 7043 строки."
   ]
  },
  {
   "cell_type": "markdown",
   "metadata": {},
   "source": [
    "### data_personal"
   ]
  },
  {
   "cell_type": "code",
   "execution_count": 11,
   "metadata": {},
   "outputs": [
    {
     "data": {
      "text/html": [
       "<div>\n",
       "<style scoped>\n",
       "    .dataframe tbody tr th:only-of-type {\n",
       "        vertical-align: middle;\n",
       "    }\n",
       "\n",
       "    .dataframe tbody tr th {\n",
       "        vertical-align: top;\n",
       "    }\n",
       "\n",
       "    .dataframe thead th {\n",
       "        text-align: right;\n",
       "    }\n",
       "</style>\n",
       "<table border=\"1\" class=\"dataframe\">\n",
       "  <thead>\n",
       "    <tr style=\"text-align: right;\">\n",
       "      <th></th>\n",
       "      <th>customerID</th>\n",
       "      <th>gender</th>\n",
       "      <th>SeniorCitizen</th>\n",
       "      <th>Partner</th>\n",
       "      <th>Dependents</th>\n",
       "    </tr>\n",
       "  </thead>\n",
       "  <tbody>\n",
       "    <tr>\n",
       "      <th>30</th>\n",
       "      <td>3841-NFECX</td>\n",
       "      <td>Female</td>\n",
       "      <td>1</td>\n",
       "      <td>Yes</td>\n",
       "      <td>No</td>\n",
       "    </tr>\n",
       "    <tr>\n",
       "      <th>1285</th>\n",
       "      <td>9134-CEQMF</td>\n",
       "      <td>Male</td>\n",
       "      <td>1</td>\n",
       "      <td>Yes</td>\n",
       "      <td>No</td>\n",
       "    </tr>\n",
       "    <tr>\n",
       "      <th>6575</th>\n",
       "      <td>2978-XXSOG</td>\n",
       "      <td>Female</td>\n",
       "      <td>0</td>\n",
       "      <td>No</td>\n",
       "      <td>No</td>\n",
       "    </tr>\n",
       "    <tr>\n",
       "      <th>6880</th>\n",
       "      <td>6976-BWGLQ</td>\n",
       "      <td>Female</td>\n",
       "      <td>0</td>\n",
       "      <td>Yes</td>\n",
       "      <td>Yes</td>\n",
       "    </tr>\n",
       "    <tr>\n",
       "      <th>6030</th>\n",
       "      <td>2027-OAQQC</td>\n",
       "      <td>Female</td>\n",
       "      <td>0</td>\n",
       "      <td>No</td>\n",
       "      <td>No</td>\n",
       "    </tr>\n",
       "    <tr>\n",
       "      <th>733</th>\n",
       "      <td>7564-GHCVB</td>\n",
       "      <td>Female</td>\n",
       "      <td>0</td>\n",
       "      <td>Yes</td>\n",
       "      <td>Yes</td>\n",
       "    </tr>\n",
       "    <tr>\n",
       "      <th>1863</th>\n",
       "      <td>9575-IWCAZ</td>\n",
       "      <td>Male</td>\n",
       "      <td>0</td>\n",
       "      <td>Yes</td>\n",
       "      <td>No</td>\n",
       "    </tr>\n",
       "    <tr>\n",
       "      <th>2999</th>\n",
       "      <td>1038-RQOST</td>\n",
       "      <td>Male</td>\n",
       "      <td>0</td>\n",
       "      <td>Yes</td>\n",
       "      <td>Yes</td>\n",
       "    </tr>\n",
       "    <tr>\n",
       "      <th>4561</th>\n",
       "      <td>9415-TPKRV</td>\n",
       "      <td>Female</td>\n",
       "      <td>0</td>\n",
       "      <td>Yes</td>\n",
       "      <td>Yes</td>\n",
       "    </tr>\n",
       "    <tr>\n",
       "      <th>3828</th>\n",
       "      <td>8747-UDCOI</td>\n",
       "      <td>Female</td>\n",
       "      <td>0</td>\n",
       "      <td>Yes</td>\n",
       "      <td>No</td>\n",
       "    </tr>\n",
       "  </tbody>\n",
       "</table>\n",
       "</div>"
      ],
      "text/plain": [
       "      customerID  gender  SeniorCitizen Partner Dependents\n",
       "30    3841-NFECX  Female              1     Yes         No\n",
       "1285  9134-CEQMF    Male              1     Yes         No\n",
       "6575  2978-XXSOG  Female              0      No         No\n",
       "6880  6976-BWGLQ  Female              0     Yes        Yes\n",
       "6030  2027-OAQQC  Female              0      No         No\n",
       "733   7564-GHCVB  Female              0     Yes        Yes\n",
       "1863  9575-IWCAZ    Male              0     Yes         No\n",
       "2999  1038-RQOST    Male              0     Yes        Yes\n",
       "4561  9415-TPKRV  Female              0     Yes        Yes\n",
       "3828  8747-UDCOI  Female              0     Yes         No"
      ]
     },
     "execution_count": 11,
     "metadata": {},
     "output_type": "execute_result"
    }
   ],
   "source": [
    "data_personal.sample(10, random_state=RANDOM_STATE)"
   ]
  },
  {
   "cell_type": "code",
   "execution_count": 12,
   "metadata": {},
   "outputs": [
    {
     "name": "stdout",
     "output_type": "stream",
     "text": [
      "<class 'pandas.core.frame.DataFrame'>\n",
      "RangeIndex: 7043 entries, 0 to 7042\n",
      "Data columns (total 5 columns):\n",
      " #   Column         Non-Null Count  Dtype \n",
      "---  ------         --------------  ----- \n",
      " 0   customerID     7043 non-null   object\n",
      " 1   gender         7043 non-null   object\n",
      " 2   SeniorCitizen  7043 non-null   int64 \n",
      " 3   Partner        7043 non-null   object\n",
      " 4   Dependents     7043 non-null   object\n",
      "dtypes: int64(1), object(4)\n",
      "memory usage: 275.2+ KB\n"
     ]
    }
   ],
   "source": [
    "data_personal.info()"
   ]
  },
  {
   "cell_type": "code",
   "execution_count": 13,
   "metadata": {},
   "outputs": [
    {
     "data": {
      "text/html": [
       "<div>\n",
       "<style scoped>\n",
       "    .dataframe tbody tr th:only-of-type {\n",
       "        vertical-align: middle;\n",
       "    }\n",
       "\n",
       "    .dataframe tbody tr th {\n",
       "        vertical-align: top;\n",
       "    }\n",
       "\n",
       "    .dataframe thead th {\n",
       "        text-align: right;\n",
       "    }\n",
       "</style>\n",
       "<table border=\"1\" class=\"dataframe\">\n",
       "  <thead>\n",
       "    <tr style=\"text-align: right;\">\n",
       "      <th></th>\n",
       "      <th>SeniorCitizen</th>\n",
       "    </tr>\n",
       "  </thead>\n",
       "  <tbody>\n",
       "    <tr>\n",
       "      <th>count</th>\n",
       "      <td>7043.000000</td>\n",
       "    </tr>\n",
       "    <tr>\n",
       "      <th>mean</th>\n",
       "      <td>0.162147</td>\n",
       "    </tr>\n",
       "    <tr>\n",
       "      <th>std</th>\n",
       "      <td>0.368612</td>\n",
       "    </tr>\n",
       "    <tr>\n",
       "      <th>min</th>\n",
       "      <td>0.000000</td>\n",
       "    </tr>\n",
       "    <tr>\n",
       "      <th>25%</th>\n",
       "      <td>0.000000</td>\n",
       "    </tr>\n",
       "    <tr>\n",
       "      <th>50%</th>\n",
       "      <td>0.000000</td>\n",
       "    </tr>\n",
       "    <tr>\n",
       "      <th>75%</th>\n",
       "      <td>0.000000</td>\n",
       "    </tr>\n",
       "    <tr>\n",
       "      <th>max</th>\n",
       "      <td>1.000000</td>\n",
       "    </tr>\n",
       "  </tbody>\n",
       "</table>\n",
       "</div>"
      ],
      "text/plain": [
       "       SeniorCitizen\n",
       "count    7043.000000\n",
       "mean        0.162147\n",
       "std         0.368612\n",
       "min         0.000000\n",
       "25%         0.000000\n",
       "50%         0.000000\n",
       "75%         0.000000\n",
       "max         1.000000"
      ]
     },
     "execution_count": 13,
     "metadata": {},
     "output_type": "execute_result"
    }
   ],
   "source": [
    "data_personal.describe()"
   ]
  },
  {
   "cell_type": "code",
   "execution_count": 14,
   "metadata": {},
   "outputs": [
    {
     "data": {
      "text/html": [
       "<div>\n",
       "<style scoped>\n",
       "    .dataframe tbody tr th:only-of-type {\n",
       "        vertical-align: middle;\n",
       "    }\n",
       "\n",
       "    .dataframe tbody tr th {\n",
       "        vertical-align: top;\n",
       "    }\n",
       "\n",
       "    .dataframe thead th {\n",
       "        text-align: right;\n",
       "    }\n",
       "</style>\n",
       "<table border=\"1\" class=\"dataframe\">\n",
       "  <thead>\n",
       "    <tr style=\"text-align: right;\">\n",
       "      <th></th>\n",
       "      <th>gender</th>\n",
       "      <th>Partner</th>\n",
       "      <th>Dependents</th>\n",
       "    </tr>\n",
       "  </thead>\n",
       "  <tbody>\n",
       "    <tr>\n",
       "      <th>count</th>\n",
       "      <td>7043</td>\n",
       "      <td>7043</td>\n",
       "      <td>7043</td>\n",
       "    </tr>\n",
       "    <tr>\n",
       "      <th>unique</th>\n",
       "      <td>2</td>\n",
       "      <td>2</td>\n",
       "      <td>2</td>\n",
       "    </tr>\n",
       "    <tr>\n",
       "      <th>top</th>\n",
       "      <td>Male</td>\n",
       "      <td>No</td>\n",
       "      <td>No</td>\n",
       "    </tr>\n",
       "    <tr>\n",
       "      <th>freq</th>\n",
       "      <td>3555</td>\n",
       "      <td>3641</td>\n",
       "      <td>4933</td>\n",
       "    </tr>\n",
       "  </tbody>\n",
       "</table>\n",
       "</div>"
      ],
      "text/plain": [
       "       gender Partner Dependents\n",
       "count    7043    7043       7043\n",
       "unique      2       2          2\n",
       "top      Male      No         No\n",
       "freq     3555    3641       4933"
      ]
     },
     "execution_count": 14,
     "metadata": {},
     "output_type": "execute_result"
    }
   ],
   "source": [
    "data_personal[['gender', 'Partner', 'Dependents']].describe()"
   ]
  },
  {
   "cell_type": "markdown",
   "metadata": {},
   "source": [
    "**Вывод:** На первый взгляд в целом с датафреймом все в порядке, только в названиях столбцов встречаются буквы и в верхнем, и в нижнем регистре. Всего в датафрейме 7043 строки."
   ]
  },
  {
   "cell_type": "markdown",
   "metadata": {},
   "source": [
    "### data_internet"
   ]
  },
  {
   "cell_type": "code",
   "execution_count": 15,
   "metadata": {},
   "outputs": [
    {
     "data": {
      "text/html": [
       "<div>\n",
       "<style scoped>\n",
       "    .dataframe tbody tr th:only-of-type {\n",
       "        vertical-align: middle;\n",
       "    }\n",
       "\n",
       "    .dataframe tbody tr th {\n",
       "        vertical-align: top;\n",
       "    }\n",
       "\n",
       "    .dataframe thead th {\n",
       "        text-align: right;\n",
       "    }\n",
       "</style>\n",
       "<table border=\"1\" class=\"dataframe\">\n",
       "  <thead>\n",
       "    <tr style=\"text-align: right;\">\n",
       "      <th></th>\n",
       "      <th>customerID</th>\n",
       "      <th>InternetService</th>\n",
       "      <th>OnlineSecurity</th>\n",
       "      <th>OnlineBackup</th>\n",
       "      <th>DeviceProtection</th>\n",
       "      <th>TechSupport</th>\n",
       "      <th>StreamingTV</th>\n",
       "      <th>StreamingMovies</th>\n",
       "    </tr>\n",
       "  </thead>\n",
       "  <tbody>\n",
       "    <tr>\n",
       "      <th>4175</th>\n",
       "      <td>6705-LNMDD</td>\n",
       "      <td>DSL</td>\n",
       "      <td>No</td>\n",
       "      <td>No</td>\n",
       "      <td>No</td>\n",
       "      <td>Yes</td>\n",
       "      <td>No</td>\n",
       "      <td>No</td>\n",
       "    </tr>\n",
       "    <tr>\n",
       "      <th>2374</th>\n",
       "      <td>5897-ZYEKH</td>\n",
       "      <td>Fiber optic</td>\n",
       "      <td>Yes</td>\n",
       "      <td>Yes</td>\n",
       "      <td>No</td>\n",
       "      <td>No</td>\n",
       "      <td>Yes</td>\n",
       "      <td>Yes</td>\n",
       "    </tr>\n",
       "    <tr>\n",
       "      <th>5419</th>\n",
       "      <td>2371-KFUOG</td>\n",
       "      <td>Fiber optic</td>\n",
       "      <td>Yes</td>\n",
       "      <td>Yes</td>\n",
       "      <td>No</td>\n",
       "      <td>No</td>\n",
       "      <td>Yes</td>\n",
       "      <td>Yes</td>\n",
       "    </tr>\n",
       "    <tr>\n",
       "      <th>2236</th>\n",
       "      <td>2740-TVLFN</td>\n",
       "      <td>DSL</td>\n",
       "      <td>No</td>\n",
       "      <td>No</td>\n",
       "      <td>No</td>\n",
       "      <td>No</td>\n",
       "      <td>No</td>\n",
       "      <td>No</td>\n",
       "    </tr>\n",
       "    <tr>\n",
       "      <th>2333</th>\n",
       "      <td>1481-ZUWZA</td>\n",
       "      <td>Fiber optic</td>\n",
       "      <td>Yes</td>\n",
       "      <td>Yes</td>\n",
       "      <td>No</td>\n",
       "      <td>No</td>\n",
       "      <td>No</td>\n",
       "      <td>Yes</td>\n",
       "    </tr>\n",
       "    <tr>\n",
       "      <th>160</th>\n",
       "      <td>7018-WBJNK</td>\n",
       "      <td>Fiber optic</td>\n",
       "      <td>No</td>\n",
       "      <td>No</td>\n",
       "      <td>No</td>\n",
       "      <td>No</td>\n",
       "      <td>Yes</td>\n",
       "      <td>No</td>\n",
       "    </tr>\n",
       "    <tr>\n",
       "      <th>302</th>\n",
       "      <td>6122-EFVKN</td>\n",
       "      <td>DSL</td>\n",
       "      <td>Yes</td>\n",
       "      <td>No</td>\n",
       "      <td>No</td>\n",
       "      <td>Yes</td>\n",
       "      <td>No</td>\n",
       "      <td>No</td>\n",
       "    </tr>\n",
       "    <tr>\n",
       "      <th>1599</th>\n",
       "      <td>3090-LETTY</td>\n",
       "      <td>DSL</td>\n",
       "      <td>Yes</td>\n",
       "      <td>Yes</td>\n",
       "      <td>No</td>\n",
       "      <td>No</td>\n",
       "      <td>No</td>\n",
       "      <td>No</td>\n",
       "    </tr>\n",
       "    <tr>\n",
       "      <th>1008</th>\n",
       "      <td>4741-WWJQZ</td>\n",
       "      <td>Fiber optic</td>\n",
       "      <td>Yes</td>\n",
       "      <td>No</td>\n",
       "      <td>No</td>\n",
       "      <td>Yes</td>\n",
       "      <td>No</td>\n",
       "      <td>No</td>\n",
       "    </tr>\n",
       "    <tr>\n",
       "      <th>2336</th>\n",
       "      <td>8996-ZROXE</td>\n",
       "      <td>DSL</td>\n",
       "      <td>No</td>\n",
       "      <td>No</td>\n",
       "      <td>Yes</td>\n",
       "      <td>Yes</td>\n",
       "      <td>No</td>\n",
       "      <td>No</td>\n",
       "    </tr>\n",
       "  </tbody>\n",
       "</table>\n",
       "</div>"
      ],
      "text/plain": [
       "      customerID InternetService OnlineSecurity OnlineBackup DeviceProtection  \\\n",
       "4175  6705-LNMDD             DSL             No           No               No   \n",
       "2374  5897-ZYEKH     Fiber optic            Yes          Yes               No   \n",
       "5419  2371-KFUOG     Fiber optic            Yes          Yes               No   \n",
       "2236  2740-TVLFN             DSL             No           No               No   \n",
       "2333  1481-ZUWZA     Fiber optic            Yes          Yes               No   \n",
       "160   7018-WBJNK     Fiber optic             No           No               No   \n",
       "302   6122-EFVKN             DSL            Yes           No               No   \n",
       "1599  3090-LETTY             DSL            Yes          Yes               No   \n",
       "1008  4741-WWJQZ     Fiber optic            Yes           No               No   \n",
       "2336  8996-ZROXE             DSL             No           No              Yes   \n",
       "\n",
       "     TechSupport StreamingTV StreamingMovies  \n",
       "4175         Yes          No              No  \n",
       "2374          No         Yes             Yes  \n",
       "5419          No         Yes             Yes  \n",
       "2236          No          No              No  \n",
       "2333          No          No             Yes  \n",
       "160           No         Yes              No  \n",
       "302          Yes          No              No  \n",
       "1599          No          No              No  \n",
       "1008         Yes          No              No  \n",
       "2336         Yes          No              No  "
      ]
     },
     "execution_count": 15,
     "metadata": {},
     "output_type": "execute_result"
    }
   ],
   "source": [
    "data_internet.sample(10, random_state=RANDOM_STATE)"
   ]
  },
  {
   "cell_type": "code",
   "execution_count": 16,
   "metadata": {},
   "outputs": [
    {
     "name": "stdout",
     "output_type": "stream",
     "text": [
      "<class 'pandas.core.frame.DataFrame'>\n",
      "RangeIndex: 5517 entries, 0 to 5516\n",
      "Data columns (total 8 columns):\n",
      " #   Column            Non-Null Count  Dtype \n",
      "---  ------            --------------  ----- \n",
      " 0   customerID        5517 non-null   object\n",
      " 1   InternetService   5517 non-null   object\n",
      " 2   OnlineSecurity    5517 non-null   object\n",
      " 3   OnlineBackup      5517 non-null   object\n",
      " 4   DeviceProtection  5517 non-null   object\n",
      " 5   TechSupport       5517 non-null   object\n",
      " 6   StreamingTV       5517 non-null   object\n",
      " 7   StreamingMovies   5517 non-null   object\n",
      "dtypes: object(8)\n",
      "memory usage: 344.9+ KB\n"
     ]
    }
   ],
   "source": [
    "data_internet.info()"
   ]
  },
  {
   "cell_type": "code",
   "execution_count": 17,
   "metadata": {},
   "outputs": [
    {
     "data": {
      "text/html": [
       "<div>\n",
       "<style scoped>\n",
       "    .dataframe tbody tr th:only-of-type {\n",
       "        vertical-align: middle;\n",
       "    }\n",
       "\n",
       "    .dataframe tbody tr th {\n",
       "        vertical-align: top;\n",
       "    }\n",
       "\n",
       "    .dataframe thead th {\n",
       "        text-align: right;\n",
       "    }\n",
       "</style>\n",
       "<table border=\"1\" class=\"dataframe\">\n",
       "  <thead>\n",
       "    <tr style=\"text-align: right;\">\n",
       "      <th></th>\n",
       "      <th>customerID</th>\n",
       "      <th>InternetService</th>\n",
       "      <th>OnlineSecurity</th>\n",
       "      <th>OnlineBackup</th>\n",
       "      <th>DeviceProtection</th>\n",
       "      <th>TechSupport</th>\n",
       "      <th>StreamingTV</th>\n",
       "      <th>StreamingMovies</th>\n",
       "    </tr>\n",
       "  </thead>\n",
       "  <tbody>\n",
       "    <tr>\n",
       "      <th>count</th>\n",
       "      <td>5517</td>\n",
       "      <td>5517</td>\n",
       "      <td>5517</td>\n",
       "      <td>5517</td>\n",
       "      <td>5517</td>\n",
       "      <td>5517</td>\n",
       "      <td>5517</td>\n",
       "      <td>5517</td>\n",
       "    </tr>\n",
       "    <tr>\n",
       "      <th>unique</th>\n",
       "      <td>5517</td>\n",
       "      <td>2</td>\n",
       "      <td>2</td>\n",
       "      <td>2</td>\n",
       "      <td>2</td>\n",
       "      <td>2</td>\n",
       "      <td>2</td>\n",
       "      <td>2</td>\n",
       "    </tr>\n",
       "    <tr>\n",
       "      <th>top</th>\n",
       "      <td>5835-BEQEU</td>\n",
       "      <td>Fiber optic</td>\n",
       "      <td>No</td>\n",
       "      <td>No</td>\n",
       "      <td>No</td>\n",
       "      <td>No</td>\n",
       "      <td>No</td>\n",
       "      <td>No</td>\n",
       "    </tr>\n",
       "    <tr>\n",
       "      <th>freq</th>\n",
       "      <td>1</td>\n",
       "      <td>3096</td>\n",
       "      <td>3498</td>\n",
       "      <td>3088</td>\n",
       "      <td>3095</td>\n",
       "      <td>3473</td>\n",
       "      <td>2810</td>\n",
       "      <td>2785</td>\n",
       "    </tr>\n",
       "  </tbody>\n",
       "</table>\n",
       "</div>"
      ],
      "text/plain": [
       "        customerID InternetService OnlineSecurity OnlineBackup  \\\n",
       "count         5517            5517           5517         5517   \n",
       "unique        5517               2              2            2   \n",
       "top     5835-BEQEU     Fiber optic             No           No   \n",
       "freq             1            3096           3498         3088   \n",
       "\n",
       "       DeviceProtection TechSupport StreamingTV StreamingMovies  \n",
       "count              5517        5517        5517            5517  \n",
       "unique                2           2           2               2  \n",
       "top                  No          No          No              No  \n",
       "freq               3095        3473        2810            2785  "
      ]
     },
     "execution_count": 17,
     "metadata": {},
     "output_type": "execute_result"
    }
   ],
   "source": [
    "data_internet.describe()"
   ]
  },
  {
   "cell_type": "markdown",
   "metadata": {},
   "source": [
    "**Вывод:** Отметим, что в датафрейме 5517 строк, те на полторы тысячи меньше, чем в двух предыдущих датафреймах. Также имеются столбцы с буквами и в верхнем, и в нижнем регистре."
   ]
  },
  {
   "cell_type": "markdown",
   "metadata": {},
   "source": [
    "### data_phone"
   ]
  },
  {
   "cell_type": "code",
   "execution_count": 18,
   "metadata": {},
   "outputs": [
    {
     "data": {
      "text/html": [
       "<div>\n",
       "<style scoped>\n",
       "    .dataframe tbody tr th:only-of-type {\n",
       "        vertical-align: middle;\n",
       "    }\n",
       "\n",
       "    .dataframe tbody tr th {\n",
       "        vertical-align: top;\n",
       "    }\n",
       "\n",
       "    .dataframe thead th {\n",
       "        text-align: right;\n",
       "    }\n",
       "</style>\n",
       "<table border=\"1\" class=\"dataframe\">\n",
       "  <thead>\n",
       "    <tr style=\"text-align: right;\">\n",
       "      <th></th>\n",
       "      <th>customerID</th>\n",
       "      <th>MultipleLines</th>\n",
       "    </tr>\n",
       "  </thead>\n",
       "  <tbody>\n",
       "    <tr>\n",
       "      <th>4895</th>\n",
       "      <td>5057-RKGLH</td>\n",
       "      <td>No</td>\n",
       "    </tr>\n",
       "    <tr>\n",
       "      <th>6285</th>\n",
       "      <td>5392-AKEMH</td>\n",
       "      <td>No</td>\n",
       "    </tr>\n",
       "    <tr>\n",
       "      <th>4857</th>\n",
       "      <td>4919-IKATY</td>\n",
       "      <td>Yes</td>\n",
       "    </tr>\n",
       "    <tr>\n",
       "      <th>3078</th>\n",
       "      <td>9617-INGJY</td>\n",
       "      <td>No</td>\n",
       "    </tr>\n",
       "    <tr>\n",
       "      <th>3385</th>\n",
       "      <td>7010-ZMVBF</td>\n",
       "      <td>No</td>\n",
       "    </tr>\n",
       "    <tr>\n",
       "      <th>3657</th>\n",
       "      <td>6615-NGGZJ</td>\n",
       "      <td>Yes</td>\n",
       "    </tr>\n",
       "    <tr>\n",
       "      <th>2027</th>\n",
       "      <td>8495-LJDFO</td>\n",
       "      <td>Yes</td>\n",
       "    </tr>\n",
       "    <tr>\n",
       "      <th>6062</th>\n",
       "      <td>7878-RTCZG</td>\n",
       "      <td>No</td>\n",
       "    </tr>\n",
       "    <tr>\n",
       "      <th>2990</th>\n",
       "      <td>1086-LXKFY</td>\n",
       "      <td>No</td>\n",
       "    </tr>\n",
       "    <tr>\n",
       "      <th>514</th>\n",
       "      <td>7025-WCBNE</td>\n",
       "      <td>Yes</td>\n",
       "    </tr>\n",
       "  </tbody>\n",
       "</table>\n",
       "</div>"
      ],
      "text/plain": [
       "      customerID MultipleLines\n",
       "4895  5057-RKGLH            No\n",
       "6285  5392-AKEMH            No\n",
       "4857  4919-IKATY           Yes\n",
       "3078  9617-INGJY            No\n",
       "3385  7010-ZMVBF            No\n",
       "3657  6615-NGGZJ           Yes\n",
       "2027  8495-LJDFO           Yes\n",
       "6062  7878-RTCZG            No\n",
       "2990  1086-LXKFY            No\n",
       "514   7025-WCBNE           Yes"
      ]
     },
     "execution_count": 18,
     "metadata": {},
     "output_type": "execute_result"
    }
   ],
   "source": [
    "data_phone.sample(10, random_state=RANDOM_STATE)"
   ]
  },
  {
   "cell_type": "code",
   "execution_count": 19,
   "metadata": {},
   "outputs": [
    {
     "name": "stdout",
     "output_type": "stream",
     "text": [
      "<class 'pandas.core.frame.DataFrame'>\n",
      "RangeIndex: 6361 entries, 0 to 6360\n",
      "Data columns (total 2 columns):\n",
      " #   Column         Non-Null Count  Dtype \n",
      "---  ------         --------------  ----- \n",
      " 0   customerID     6361 non-null   object\n",
      " 1   MultipleLines  6361 non-null   object\n",
      "dtypes: object(2)\n",
      "memory usage: 99.5+ KB\n"
     ]
    }
   ],
   "source": [
    "data_phone.info()"
   ]
  },
  {
   "cell_type": "code",
   "execution_count": 20,
   "metadata": {},
   "outputs": [
    {
     "data": {
      "text/html": [
       "<div>\n",
       "<style scoped>\n",
       "    .dataframe tbody tr th:only-of-type {\n",
       "        vertical-align: middle;\n",
       "    }\n",
       "\n",
       "    .dataframe tbody tr th {\n",
       "        vertical-align: top;\n",
       "    }\n",
       "\n",
       "    .dataframe thead th {\n",
       "        text-align: right;\n",
       "    }\n",
       "</style>\n",
       "<table border=\"1\" class=\"dataframe\">\n",
       "  <thead>\n",
       "    <tr style=\"text-align: right;\">\n",
       "      <th></th>\n",
       "      <th>customerID</th>\n",
       "      <th>MultipleLines</th>\n",
       "    </tr>\n",
       "  </thead>\n",
       "  <tbody>\n",
       "    <tr>\n",
       "      <th>count</th>\n",
       "      <td>6361</td>\n",
       "      <td>6361</td>\n",
       "    </tr>\n",
       "    <tr>\n",
       "      <th>unique</th>\n",
       "      <td>6361</td>\n",
       "      <td>2</td>\n",
       "    </tr>\n",
       "    <tr>\n",
       "      <th>top</th>\n",
       "      <td>4652-ODEVH</td>\n",
       "      <td>No</td>\n",
       "    </tr>\n",
       "    <tr>\n",
       "      <th>freq</th>\n",
       "      <td>1</td>\n",
       "      <td>3390</td>\n",
       "    </tr>\n",
       "  </tbody>\n",
       "</table>\n",
       "</div>"
      ],
      "text/plain": [
       "        customerID MultipleLines\n",
       "count         6361          6361\n",
       "unique        6361             2\n",
       "top     4652-ODEVH            No\n",
       "freq             1          3390"
      ]
     },
     "execution_count": 20,
     "metadata": {},
     "output_type": "execute_result"
    }
   ],
   "source": [
    "data_phone.describe()"
   ]
  },
  {
   "cell_type": "markdown",
   "metadata": {},
   "source": [
    "**Вывод:** В этом датафрейме тоже меньше строк (6361), чем в двух первых, также есть столбцы с разной велечиной регистров"
   ]
  },
  {
   "cell_type": "markdown",
   "metadata": {},
   "source": [
    "### Общий вывод по этапу ознакомления с данными "
   ]
  },
  {
   "cell_type": "markdown",
   "metadata": {},
   "source": [
    "Мы ознакомились с датафреймами и отметили их особенноси для дальнейшей работы."
   ]
  },
  {
   "cell_type": "markdown",
   "metadata": {},
   "source": [
    "## Предобработка данных"
   ]
  },
  {
   "cell_type": "markdown",
   "metadata": {},
   "source": [
    "### Приведение названий в столбцах к нижнему регистру"
   ]
  },
  {
   "cell_type": "markdown",
   "metadata": {},
   "source": [
    "Для убоства во всех датафреймах приведем значения в столбцах к нижнему регистру "
   ]
  },
  {
   "cell_type": "code",
   "execution_count": 21,
   "metadata": {},
   "outputs": [],
   "source": [
    "data_contract.columns = [column.lower() for column in data_contract.columns]"
   ]
  },
  {
   "cell_type": "code",
   "execution_count": 22,
   "metadata": {},
   "outputs": [],
   "source": [
    "data_personal.columns = [column.lower() for column in data_personal.columns]"
   ]
  },
  {
   "cell_type": "code",
   "execution_count": 23,
   "metadata": {},
   "outputs": [],
   "source": [
    "data_internet.columns = [column.lower() for column in data_internet.columns]"
   ]
  },
  {
   "cell_type": "code",
   "execution_count": 24,
   "metadata": {},
   "outputs": [],
   "source": [
    "data_phone.columns = [column.lower() for column in data_phone.columns]"
   ]
  },
  {
   "cell_type": "markdown",
   "metadata": {},
   "source": [
    "Проверим на одном датафрейме получилось ли у нас"
   ]
  },
  {
   "cell_type": "code",
   "execution_count": 25,
   "metadata": {},
   "outputs": [
    {
     "name": "stdout",
     "output_type": "stream",
     "text": [
      "<class 'pandas.core.frame.DataFrame'>\n",
      "RangeIndex: 7043 entries, 0 to 7042\n",
      "Data columns (total 8 columns):\n",
      " #   Column            Non-Null Count  Dtype  \n",
      "---  ------            --------------  -----  \n",
      " 0   customerid        7043 non-null   object \n",
      " 1   begindate         7043 non-null   object \n",
      " 2   enddate           7043 non-null   object \n",
      " 3   type              7043 non-null   object \n",
      " 4   paperlessbilling  7043 non-null   object \n",
      " 5   paymentmethod     7043 non-null   object \n",
      " 6   monthlycharges    7043 non-null   float64\n",
      " 7   totalcharges      7043 non-null   object \n",
      "dtypes: float64(1), object(7)\n",
      "memory usage: 440.3+ KB\n"
     ]
    }
   ],
   "source": [
    "data_contract.info()"
   ]
  },
  {
   "cell_type": "markdown",
   "metadata": {},
   "source": [
    "### Проверка данных на дубликаты"
   ]
  },
  {
   "cell_type": "markdown",
   "metadata": {},
   "source": [
    "Проверим датафреймы на наличие явных дубликатов"
   ]
  },
  {
   "cell_type": "code",
   "execution_count": 26,
   "metadata": {},
   "outputs": [
    {
     "data": {
      "text/plain": [
       "0"
      ]
     },
     "execution_count": 26,
     "metadata": {},
     "output_type": "execute_result"
    }
   ],
   "source": [
    "data_contract.duplicated().sum()"
   ]
  },
  {
   "cell_type": "code",
   "execution_count": 27,
   "metadata": {},
   "outputs": [
    {
     "data": {
      "text/plain": [
       "0"
      ]
     },
     "execution_count": 27,
     "metadata": {},
     "output_type": "execute_result"
    }
   ],
   "source": [
    "data_personal.duplicated().sum()"
   ]
  },
  {
   "cell_type": "code",
   "execution_count": 28,
   "metadata": {},
   "outputs": [
    {
     "data": {
      "text/plain": [
       "0"
      ]
     },
     "execution_count": 28,
     "metadata": {},
     "output_type": "execute_result"
    }
   ],
   "source": [
    "data_internet.duplicated().sum()"
   ]
  },
  {
   "cell_type": "code",
   "execution_count": 29,
   "metadata": {},
   "outputs": [
    {
     "data": {
      "text/plain": [
       "0"
      ]
     },
     "execution_count": 29,
     "metadata": {},
     "output_type": "execute_result"
    }
   ],
   "source": [
    "data_phone.duplicated().sum()"
   ]
  },
  {
   "cell_type": "markdown",
   "metadata": {},
   "source": [
    "### Изменения типов данных на подходящие"
   ]
  },
  {
   "cell_type": "markdown",
   "metadata": {},
   "source": [
    "Перед тем, как переводить enddate в нужный формат извлечем из него целевой показатель"
   ]
  },
  {
   "cell_type": "code",
   "execution_count": 30,
   "metadata": {},
   "outputs": [],
   "source": [
    "data_contract.loc[data_contract['enddate'] == 'No', 'still_client'] = 1\n",
    "data_contract.loc[data_contract['enddate'] != 'No', 'still_client'] = 0"
   ]
  },
  {
   "cell_type": "markdown",
   "metadata": {},
   "source": [
    "Теперь заменим в enddate значения \"No\" на 2020-02-01 (Информация о договорах актуальна на 1 февраля 2020) и поменяем формат"
   ]
  },
  {
   "cell_type": "code",
   "execution_count": 31,
   "metadata": {},
   "outputs": [],
   "source": [
    "data_contract['enddate'] = data_contract['enddate'].replace('No', '2020-02-01')"
   ]
  },
  {
   "cell_type": "code",
   "execution_count": 32,
   "metadata": {},
   "outputs": [],
   "source": [
    "data_contract['begindate'] = pd.to_datetime(data_contract['begindate'],format = '%Y-%m-%d')\n",
    "data_contract['enddate'] = pd.to_datetime(data_contract['enddate'],format = '%Y-%m-%d')"
   ]
  },
  {
   "cell_type": "markdown",
   "metadata": {},
   "source": [
    "Переведем still_client в int"
   ]
  },
  {
   "cell_type": "code",
   "execution_count": 33,
   "metadata": {},
   "outputs": [],
   "source": [
    "data_contract['still_client'] = data_contract['still_client'].astype('int')"
   ]
  },
  {
   "cell_type": "markdown",
   "metadata": {},
   "source": [
    "totalcharges перевести в формат float нельзя, тк присутствуют пропуски, поэтому переведем его после их обработки в следующем шаге"
   ]
  },
  {
   "cell_type": "markdown",
   "metadata": {},
   "source": [
    "### Проверка данных на пропуски"
   ]
  },
  {
   "cell_type": "markdown",
   "metadata": {},
   "source": [
    "Перед тем как решить удалять/заменять пропуски в totalcharges посмотрим на строки с ними, сколько их"
   ]
  },
  {
   "cell_type": "code",
   "execution_count": 34,
   "metadata": {},
   "outputs": [
    {
     "data": {
      "text/html": [
       "<div>\n",
       "<style scoped>\n",
       "    .dataframe tbody tr th:only-of-type {\n",
       "        vertical-align: middle;\n",
       "    }\n",
       "\n",
       "    .dataframe tbody tr th {\n",
       "        vertical-align: top;\n",
       "    }\n",
       "\n",
       "    .dataframe thead th {\n",
       "        text-align: right;\n",
       "    }\n",
       "</style>\n",
       "<table border=\"1\" class=\"dataframe\">\n",
       "  <thead>\n",
       "    <tr style=\"text-align: right;\">\n",
       "      <th></th>\n",
       "      <th>customerid</th>\n",
       "      <th>begindate</th>\n",
       "      <th>enddate</th>\n",
       "      <th>type</th>\n",
       "      <th>paperlessbilling</th>\n",
       "      <th>paymentmethod</th>\n",
       "      <th>monthlycharges</th>\n",
       "      <th>totalcharges</th>\n",
       "      <th>still_client</th>\n",
       "    </tr>\n",
       "  </thead>\n",
       "  <tbody>\n",
       "    <tr>\n",
       "      <th>488</th>\n",
       "      <td>4472-LVYGI</td>\n",
       "      <td>2020-02-01</td>\n",
       "      <td>2020-02-01</td>\n",
       "      <td>Two year</td>\n",
       "      <td>Yes</td>\n",
       "      <td>Bank transfer (automatic)</td>\n",
       "      <td>52.55</td>\n",
       "      <td></td>\n",
       "      <td>1</td>\n",
       "    </tr>\n",
       "    <tr>\n",
       "      <th>753</th>\n",
       "      <td>3115-CZMZD</td>\n",
       "      <td>2020-02-01</td>\n",
       "      <td>2020-02-01</td>\n",
       "      <td>Two year</td>\n",
       "      <td>No</td>\n",
       "      <td>Mailed check</td>\n",
       "      <td>20.25</td>\n",
       "      <td></td>\n",
       "      <td>1</td>\n",
       "    </tr>\n",
       "    <tr>\n",
       "      <th>936</th>\n",
       "      <td>5709-LVOEQ</td>\n",
       "      <td>2020-02-01</td>\n",
       "      <td>2020-02-01</td>\n",
       "      <td>Two year</td>\n",
       "      <td>No</td>\n",
       "      <td>Mailed check</td>\n",
       "      <td>80.85</td>\n",
       "      <td></td>\n",
       "      <td>1</td>\n",
       "    </tr>\n",
       "    <tr>\n",
       "      <th>1082</th>\n",
       "      <td>4367-NUYAO</td>\n",
       "      <td>2020-02-01</td>\n",
       "      <td>2020-02-01</td>\n",
       "      <td>Two year</td>\n",
       "      <td>No</td>\n",
       "      <td>Mailed check</td>\n",
       "      <td>25.75</td>\n",
       "      <td></td>\n",
       "      <td>1</td>\n",
       "    </tr>\n",
       "    <tr>\n",
       "      <th>1340</th>\n",
       "      <td>1371-DWPAZ</td>\n",
       "      <td>2020-02-01</td>\n",
       "      <td>2020-02-01</td>\n",
       "      <td>Two year</td>\n",
       "      <td>No</td>\n",
       "      <td>Credit card (automatic)</td>\n",
       "      <td>56.05</td>\n",
       "      <td></td>\n",
       "      <td>1</td>\n",
       "    </tr>\n",
       "    <tr>\n",
       "      <th>3331</th>\n",
       "      <td>7644-OMVMY</td>\n",
       "      <td>2020-02-01</td>\n",
       "      <td>2020-02-01</td>\n",
       "      <td>Two year</td>\n",
       "      <td>No</td>\n",
       "      <td>Mailed check</td>\n",
       "      <td>19.85</td>\n",
       "      <td></td>\n",
       "      <td>1</td>\n",
       "    </tr>\n",
       "    <tr>\n",
       "      <th>3826</th>\n",
       "      <td>3213-VVOLG</td>\n",
       "      <td>2020-02-01</td>\n",
       "      <td>2020-02-01</td>\n",
       "      <td>Two year</td>\n",
       "      <td>No</td>\n",
       "      <td>Mailed check</td>\n",
       "      <td>25.35</td>\n",
       "      <td></td>\n",
       "      <td>1</td>\n",
       "    </tr>\n",
       "    <tr>\n",
       "      <th>4380</th>\n",
       "      <td>2520-SGTTA</td>\n",
       "      <td>2020-02-01</td>\n",
       "      <td>2020-02-01</td>\n",
       "      <td>Two year</td>\n",
       "      <td>No</td>\n",
       "      <td>Mailed check</td>\n",
       "      <td>20.00</td>\n",
       "      <td></td>\n",
       "      <td>1</td>\n",
       "    </tr>\n",
       "    <tr>\n",
       "      <th>5218</th>\n",
       "      <td>2923-ARZLG</td>\n",
       "      <td>2020-02-01</td>\n",
       "      <td>2020-02-01</td>\n",
       "      <td>One year</td>\n",
       "      <td>Yes</td>\n",
       "      <td>Mailed check</td>\n",
       "      <td>19.70</td>\n",
       "      <td></td>\n",
       "      <td>1</td>\n",
       "    </tr>\n",
       "    <tr>\n",
       "      <th>6670</th>\n",
       "      <td>4075-WKNIU</td>\n",
       "      <td>2020-02-01</td>\n",
       "      <td>2020-02-01</td>\n",
       "      <td>Two year</td>\n",
       "      <td>No</td>\n",
       "      <td>Mailed check</td>\n",
       "      <td>73.35</td>\n",
       "      <td></td>\n",
       "      <td>1</td>\n",
       "    </tr>\n",
       "    <tr>\n",
       "      <th>6754</th>\n",
       "      <td>2775-SEFEE</td>\n",
       "      <td>2020-02-01</td>\n",
       "      <td>2020-02-01</td>\n",
       "      <td>Two year</td>\n",
       "      <td>Yes</td>\n",
       "      <td>Bank transfer (automatic)</td>\n",
       "      <td>61.90</td>\n",
       "      <td></td>\n",
       "      <td>1</td>\n",
       "    </tr>\n",
       "  </tbody>\n",
       "</table>\n",
       "</div>"
      ],
      "text/plain": [
       "      customerid  begindate    enddate      type paperlessbilling  \\\n",
       "488   4472-LVYGI 2020-02-01 2020-02-01  Two year              Yes   \n",
       "753   3115-CZMZD 2020-02-01 2020-02-01  Two year               No   \n",
       "936   5709-LVOEQ 2020-02-01 2020-02-01  Two year               No   \n",
       "1082  4367-NUYAO 2020-02-01 2020-02-01  Two year               No   \n",
       "1340  1371-DWPAZ 2020-02-01 2020-02-01  Two year               No   \n",
       "3331  7644-OMVMY 2020-02-01 2020-02-01  Two year               No   \n",
       "3826  3213-VVOLG 2020-02-01 2020-02-01  Two year               No   \n",
       "4380  2520-SGTTA 2020-02-01 2020-02-01  Two year               No   \n",
       "5218  2923-ARZLG 2020-02-01 2020-02-01  One year              Yes   \n",
       "6670  4075-WKNIU 2020-02-01 2020-02-01  Two year               No   \n",
       "6754  2775-SEFEE 2020-02-01 2020-02-01  Two year              Yes   \n",
       "\n",
       "                  paymentmethod  monthlycharges totalcharges  still_client  \n",
       "488   Bank transfer (automatic)           52.55                          1  \n",
       "753                Mailed check           20.25                          1  \n",
       "936                Mailed check           80.85                          1  \n",
       "1082               Mailed check           25.75                          1  \n",
       "1340    Credit card (automatic)           56.05                          1  \n",
       "3331               Mailed check           19.85                          1  \n",
       "3826               Mailed check           25.35                          1  \n",
       "4380               Mailed check           20.00                          1  \n",
       "5218               Mailed check           19.70                          1  \n",
       "6670               Mailed check           73.35                          1  \n",
       "6754  Bank transfer (automatic)           61.90                          1  "
      ]
     },
     "execution_count": 34,
     "metadata": {},
     "output_type": "execute_result"
    }
   ],
   "source": [
    "data_contract.loc[data_contract['totalcharges'] == ' ']"
   ]
  },
  {
   "cell_type": "markdown",
   "metadata": {},
   "source": [
    "В итоге мы видим, что это только что пришедшие в компанию клиенты, видимо они еще не оплатили чек, заменю пропуски на 0"
   ]
  },
  {
   "cell_type": "code",
   "execution_count": 35,
   "metadata": {},
   "outputs": [],
   "source": [
    "data_contract['totalcharges'] = data_contract['totalcharges'].replace(' ', '0')"
   ]
  },
  {
   "cell_type": "markdown",
   "metadata": {},
   "source": [
    "Теперь изменим тип данных столбца на float"
   ]
  },
  {
   "cell_type": "code",
   "execution_count": 36,
   "metadata": {},
   "outputs": [],
   "source": [
    "data_contract['totalcharges'] = data_contract['totalcharges'].astype('float')"
   ]
  },
  {
   "cell_type": "markdown",
   "metadata": {},
   "source": [
    "При выведении info на этапе ознакомпления мы видели, что у всех столбцов количество \"non-null\" равно общему количеству строк в датафреймах, те пропусков нет"
   ]
  },
  {
   "cell_type": "markdown",
   "metadata": {},
   "source": [
    "### Объединение данных"
   ]
  },
  {
   "cell_type": "markdown",
   "metadata": {},
   "source": [
    "Объединим все четыре датафрейма в один способом 'left', тк за левый мы возьмем датафрейм data_contract с целевым показателем, нужно сохранить его подностью."
   ]
  },
  {
   "cell_type": "code",
   "execution_count": 37,
   "metadata": {},
   "outputs": [],
   "source": [
    "full_data = data_contract.merge(data_personal, how='left', on='customerid')"
   ]
  },
  {
   "cell_type": "code",
   "execution_count": 38,
   "metadata": {},
   "outputs": [],
   "source": [
    "full_data = full_data.merge(data_internet, how='left', on='customerid') .merge(data_phone, how='left', on='customerid')"
   ]
  },
  {
   "cell_type": "markdown",
   "metadata": {},
   "source": [
    "Проверим"
   ]
  },
  {
   "cell_type": "code",
   "execution_count": 39,
   "metadata": {},
   "outputs": [
    {
     "name": "stdout",
     "output_type": "stream",
     "text": [
      "<class 'pandas.core.frame.DataFrame'>\n",
      "Int64Index: 7043 entries, 0 to 7042\n",
      "Data columns (total 21 columns):\n",
      " #   Column            Non-Null Count  Dtype         \n",
      "---  ------            --------------  -----         \n",
      " 0   customerid        7043 non-null   object        \n",
      " 1   begindate         7043 non-null   datetime64[ns]\n",
      " 2   enddate           7043 non-null   datetime64[ns]\n",
      " 3   type              7043 non-null   object        \n",
      " 4   paperlessbilling  7043 non-null   object        \n",
      " 5   paymentmethod     7043 non-null   object        \n",
      " 6   monthlycharges    7043 non-null   float64       \n",
      " 7   totalcharges      7043 non-null   float64       \n",
      " 8   still_client      7043 non-null   int64         \n",
      " 9   gender            7043 non-null   object        \n",
      " 10  seniorcitizen     7043 non-null   int64         \n",
      " 11  partner           7043 non-null   object        \n",
      " 12  dependents        7043 non-null   object        \n",
      " 13  internetservice   5517 non-null   object        \n",
      " 14  onlinesecurity    5517 non-null   object        \n",
      " 15  onlinebackup      5517 non-null   object        \n",
      " 16  deviceprotection  5517 non-null   object        \n",
      " 17  techsupport       5517 non-null   object        \n",
      " 18  streamingtv       5517 non-null   object        \n",
      " 19  streamingmovies   5517 non-null   object        \n",
      " 20  multiplelines     6361 non-null   object        \n",
      "dtypes: datetime64[ns](2), float64(2), int64(2), object(15)\n",
      "memory usage: 1.2+ MB\n"
     ]
    }
   ],
   "source": [
    "full_data.info()"
   ]
  },
  {
   "cell_type": "markdown",
   "metadata": {},
   "source": [
    "Из-за того, что мы объединили больший датафрейм с меньшими образовались пропуски, заменим их на 'No'"
   ]
  },
  {
   "cell_type": "code",
   "execution_count": 40,
   "metadata": {},
   "outputs": [],
   "source": [
    "full_data = full_data.fillna('No')"
   ]
  },
  {
   "cell_type": "code",
   "execution_count": 41,
   "metadata": {},
   "outputs": [
    {
     "name": "stdout",
     "output_type": "stream",
     "text": [
      "<class 'pandas.core.frame.DataFrame'>\n",
      "Int64Index: 7043 entries, 0 to 7042\n",
      "Data columns (total 21 columns):\n",
      " #   Column            Non-Null Count  Dtype         \n",
      "---  ------            --------------  -----         \n",
      " 0   customerid        7043 non-null   object        \n",
      " 1   begindate         7043 non-null   datetime64[ns]\n",
      " 2   enddate           7043 non-null   datetime64[ns]\n",
      " 3   type              7043 non-null   object        \n",
      " 4   paperlessbilling  7043 non-null   object        \n",
      " 5   paymentmethod     7043 non-null   object        \n",
      " 6   monthlycharges    7043 non-null   float64       \n",
      " 7   totalcharges      7043 non-null   float64       \n",
      " 8   still_client      7043 non-null   int64         \n",
      " 9   gender            7043 non-null   object        \n",
      " 10  seniorcitizen     7043 non-null   int64         \n",
      " 11  partner           7043 non-null   object        \n",
      " 12  dependents        7043 non-null   object        \n",
      " 13  internetservice   7043 non-null   object        \n",
      " 14  onlinesecurity    7043 non-null   object        \n",
      " 15  onlinebackup      7043 non-null   object        \n",
      " 16  deviceprotection  7043 non-null   object        \n",
      " 17  techsupport       7043 non-null   object        \n",
      " 18  streamingtv       7043 non-null   object        \n",
      " 19  streamingmovies   7043 non-null   object        \n",
      " 20  multiplelines     7043 non-null   object        \n",
      "dtypes: datetime64[ns](2), float64(2), int64(2), object(15)\n",
      "memory usage: 1.2+ MB\n"
     ]
    }
   ],
   "source": [
    "full_data.info()"
   ]
  },
  {
   "cell_type": "markdown",
   "metadata": {},
   "source": [
    "###  Общий вывод по этапу предобработки данных"
   ]
  },
  {
   "cell_type": "markdown",
   "metadata": {},
   "source": [
    "В ходе проведения предобработки данных мы привели названия столбцов к более удобному виду, изменили типы данных в столбцах с датами, целевым признаком и totalcharges. Проверка на дубликаты не нашла таковых, а проверка на пропуски показала незначительные пропуски в totalcharges, которые мы заменили на ноль, и пропуски образовавшиеся из-за слияния таблиц заменили на \"No\""
   ]
  },
  {
   "cell_type": "markdown",
   "metadata": {},
   "source": [
    "## Исследовательский анализ данных"
   ]
  },
  {
   "cell_type": "markdown",
   "metadata": {},
   "source": [
    "### Исследование целевого признака на баланс классов"
   ]
  },
  {
   "cell_type": "code",
   "execution_count": 42,
   "metadata": {},
   "outputs": [
    {
     "data": {
      "image/png": "[encoded data removed]",
      "text/plain": [
       "<Figure size 432x288 with 1 Axes>"
      ]
     },
     "metadata": {
      "needs_background": "light"
     },
     "output_type": "display_data"
    }
   ],
   "source": [
    "full_data['still_client'].value_counts().plot(kind='bar',title='Распределение клиентов оператора');"
   ]
  },
  {
   "cell_type": "code",
   "execution_count": 43,
   "metadata": {},
   "outputs": [
    {
     "data": {
      "text/plain": [
       "1    0.843675\n",
       "0    0.156325\n",
       "Name: still_client, dtype: float64"
      ]
     },
     "execution_count": 43,
     "metadata": {},
     "output_type": "execute_result"
    }
   ],
   "source": [
    "full_data['still_client'].value_counts(normalize=True)"
   ]
  },
  {
   "cell_type": "markdown",
   "metadata": {},
   "source": [
    "Дисбаланс зафиксирован, соотношение оставшихся клиентов к ушедшим 85% к 15%, те большая часть клиентов не уходит от оператора(значит он и так хороший =) ). С дисбалансов будем бороться добавлением параметра class_weight='balanced' в модели обучения."
   ]
  },
  {
   "cell_type": "markdown",
   "metadata": {},
   "source": [
    "### Изучие категоральных и численных признаков"
   ]
  },
  {
   "cell_type": "markdown",
   "metadata": {},
   "source": [
    "Для начала посмотрим на месячные и общие траты клиентов на услуги "
   ]
  },
  {
   "cell_type": "code",
   "execution_count": 44,
   "metadata": {},
   "outputs": [
    {
     "data": {
      "image/png": "[encoded data removed]",
      "text/plain": [
       "<Figure size 864x576 with 1 Axes>"
      ]
     },
     "metadata": {
      "needs_background": "light"
     },
     "output_type": "display_data"
    },
    {
     "data": {
      "image/png": "[encoded data removed]",
      "text/plain": [
       "<Figure size 864x576 with 1 Axes>"
      ]
     },
     "metadata": {
      "needs_background": "light"
     },
     "output_type": "display_data"
    }
   ],
   "source": [
    "plt.figure(figsize=(12, 8));\n",
    "plt.grid(True);\n",
    "plt.xlabel('Размер трат');\n",
    "plt.ylabel('Соотношение наблюдений');\n",
    "plt.title('Распределение месячный трат');\n",
    "sns.kdeplot(full_data['monthlycharges'], shade=True, color='red');\n",
    "plt.show\n",
    "\n",
    "plt.figure(figsize=(12, 8));\n",
    "plt.grid(True);\n",
    "plt.xlabel('Размер трат');\n",
    "plt.ylabel('Соотношение наблюдений');\n",
    "plt.title('Распределение общих трат');\n",
    "sns.kdeplot(full_data['totalcharges'], shade=True, color='blue');"
   ]
  },
  {
   "cell_type": "markdown",
   "metadata": {},
   "source": [
    "Заметим, что месячные траты не бывают нулевыми, тк их размер, скорее всего, описывается при заключении контракта с клиентом, а вот общие траты могут быть нулевыми, тк мы уже раньше отметили, что заключенные только что (2020-02-01) контракты еще не успели оплатить или что-то в этом роде."
   ]
  },
  {
   "cell_type": "markdown",
   "metadata": {},
   "source": [
    "Теперь посмотрим на даты заключения и даты расторжения контрактов."
   ]
  },
  {
   "cell_type": "code",
   "execution_count": 45,
   "metadata": {},
   "outputs": [
    {
     "data": {
      "image/png": "[encoded data removed]",
      "text/plain": [
       "<Figure size 864x576 with 1 Axes>"
      ]
     },
     "metadata": {
      "needs_background": "light"
     },
     "output_type": "display_data"
    },
    {
     "data": {
      "image/png": "[encoded data removed]",
      "text/plain": [
       "<Figure size 864x576 with 1 Axes>"
      ]
     },
     "metadata": {
      "needs_background": "light"
     },
     "output_type": "display_data"
    }
   ],
   "source": [
    "plt.figure(figsize=(12, 8));\n",
    "plt.grid(True);\n",
    "plt.xlabel('Года');\n",
    "plt.ylabel('Количество наблюдений');\n",
    "plt.title('Заключение контрактов по годам');\n",
    "sns.histplot(full_data['begindate'], kde=True, color='red', bins=60);\n",
    "plt.show\n",
    "\n",
    "plt.figure(figsize=(12, 8));\n",
    "plt.grid(True);\n",
    "plt.xlabel('Года');\n",
    "plt.ylabel('Количество наблюдений');\n",
    "plt.title('Расторжение контрактов по годам');\n",
    "sns.histplot(full_data['enddate'], kde=True, color='blue', bins=60);"
   ]
  },
  {
   "cell_type": "markdown",
   "metadata": {},
   "source": [
    "Видно, что в период со второй половины 2014 по вторую половину 2018 у компании было \"плато\", с некоторыми сезонными скачками, по заключению контрактов, но потом количество договоров сравнялось с пиком начала сбора информации (открытия компании?). Показатель же расторжения показывает, что количество расторжений не сильно меняется от года к году, пик 2020 объясняется тем, что мы все действующие договора свели в эту дату.\n",
    "\n",
    "Для проверки категоральных данных выдвигаю некоторые гипотезы, которые и буду проверять по очереди:\n",
    "- Пенсионеры чаще отказываются от услуг\n",
    "- Женщины больше отказываются от услуг оператора\n",
    "- Тип оплаты влияет на уход от оператор"
   ]
  },
  {
   "cell_type": "code",
   "execution_count": 46,
   "metadata": {},
   "outputs": [
    {
     "data": {
      "image/png": "[encoded data removed]",
      "text/plain": [
       "<Figure size 576x288 with 1 Axes>"
      ]
     },
     "metadata": {
      "needs_background": "light"
     },
     "output_type": "display_data"
    }
   ],
   "source": [
    "plt.figure(figsize=(8, 4));\n",
    "plt.title('Распределение пенсионеров среди ушедших клиентов');\n",
    "plt.xlabel('Статус пенсионера');\n",
    "plt.ylabel('Количество наблюдений');\n",
    "full_data.query('still_client == 0')['seniorcitizen'].value_counts().plot(kind='bar');"
   ]
  },
  {
   "cell_type": "code",
   "execution_count": 47,
   "metadata": {},
   "outputs": [
    {
     "data": {
      "image/png": "[encoded data removed]",
      "text/plain": [
       "<Figure size 576x288 with 1 Axes>"
      ]
     },
     "metadata": {
      "needs_background": "light"
     },
     "output_type": "display_data"
    }
   ],
   "source": [
    "plt.figure(figsize=(8, 4));\n",
    "plt.title('Распределение пенсионеров среди оставшихся клиентов');\n",
    "plt.xlabel('Статус пенсионера');\n",
    "plt.ylabel('Количество наблюдений');\n",
    "full_data.query('still_client == 1')['seniorcitizen'].value_counts().plot(kind='bar');"
   ]
  },
  {
   "cell_type": "markdown",
   "metadata": {},
   "source": [
    "Первая гипотеза не подтвердилась, соотношение пенсионеров к не пенсионерам одинаковое в обоих случаях"
   ]
  },
  {
   "cell_type": "code",
   "execution_count": 48,
   "metadata": {},
   "outputs": [
    {
     "data": {
      "image/png": "[encoded data removed]",
      "text/plain": [
       "<Figure size 576x288 with 1 Axes>"
      ]
     },
     "metadata": {
      "needs_background": "light"
     },
     "output_type": "display_data"
    }
   ],
   "source": [
    "plt.figure(figsize=(8, 4));\n",
    "plt.title('Распределение полов среди ушедших клиентов');\n",
    "plt.xlabel('Пол');\n",
    "plt.ylabel('Количество наблюдений');\n",
    "full_data.query('still_client == 0')['gender'].value_counts().plot(kind='bar');"
   ]
  },
  {
   "cell_type": "code",
   "execution_count": 49,
   "metadata": {},
   "outputs": [
    {
     "data": {
      "image/png": "[encoded data removed]",
      "text/plain": [
       "<Figure size 576x288 with 1 Axes>"
      ]
     },
     "metadata": {
      "needs_background": "light"
     },
     "output_type": "display_data"
    }
   ],
   "source": [
    "plt.figure(figsize=(8, 4));\n",
    "plt.title('Распределение полов среди оставшихся клиентов');\n",
    "plt.xlabel('Пол');\n",
    "plt.ylabel('Количество наблюдений');\n",
    "full_data.query('still_client == 1')['gender'].value_counts().plot(kind='bar');"
   ]
  },
  {
   "cell_type": "markdown",
   "metadata": {},
   "source": [
    "Вторая гипотеза тоже не подтвердилась, классы поделены практически поровну в обоих случаях"
   ]
  },
  {
   "cell_type": "code",
   "execution_count": 50,
   "metadata": {},
   "outputs": [
    {
     "data": {
      "image/png": "[encoded data removed]",
      "text/plain": [
       "<Figure size 576x288 with 1 Axes>"
      ]
     },
     "metadata": {
      "needs_background": "light"
     },
     "output_type": "display_data"
    }
   ],
   "source": [
    "plt.figure(figsize=(8, 4));\n",
    "plt.title('Распределение типов оплаты среди ушедших клиентов');\n",
    "plt.xlabel('Тип оплаты');\n",
    "plt.ylabel('Количество наблюдений');\n",
    "full_data.query('still_client == 0')['type'].value_counts().plot(kind='bar');"
   ]
  },
  {
   "cell_type": "code",
   "execution_count": 51,
   "metadata": {},
   "outputs": [
    {
     "data": {
      "image/png": "[encoded data removed]",
      "text/plain": [
       "<Figure size 576x288 with 1 Axes>"
      ]
     },
     "metadata": {
      "needs_background": "light"
     },
     "output_type": "display_data"
    }
   ],
   "source": [
    "plt.figure(figsize=(8, 4));\n",
    "plt.title('Распределение типов оплаты среди оставшихся клиентов');\n",
    "plt.xlabel('Тип оплаты');\n",
    "plt.ylabel('Количество наблюдений');\n",
    "full_data.query('still_client == 1')['type'].value_counts().plot(kind='bar');"
   ]
  },
  {
   "cell_type": "markdown",
   "metadata": {},
   "source": [
    "Третья гипотеза частично подтвердилась, соотношение разных типом оплаты разное в обоих случаях, уходят клиенты равносильно как с помесячной оплатой, так и с двухгодичной, чуть реже с годовой. А вот среди оставшихся клиентов основная масса пользуется помесячным типом\n",
    "\n",
    "Теперь добавим новые признаки"
   ]
  },
  {
   "cell_type": "markdown",
   "metadata": {},
   "source": [
    "### Добавление новых признаков"
   ]
  },
  {
   "cell_type": "markdown",
   "metadata": {},
   "source": [
    "Для лучшего обучения моделей создадим более сильный признак, например, срок нахождения клиента в компании. "
   ]
  },
  {
   "cell_type": "code",
   "execution_count": 52,
   "metadata": {},
   "outputs": [],
   "source": [
    "full_data['days_in'] = (full_data['enddate'] - full_data['begindate']).dt.days"
   ]
  },
  {
   "cell_type": "markdown",
   "metadata": {},
   "source": [
    "Теперь проанализируем корреляции"
   ]
  },
  {
   "cell_type": "markdown",
   "metadata": {},
   "source": [
    "###  Исследование корреляции"
   ]
  },
  {
   "cell_type": "markdown",
   "metadata": {},
   "source": [
    "Построим таблицу корреляции"
   ]
  },
  {
   "cell_type": "code",
   "execution_count": 53,
   "metadata": {},
   "outputs": [
    {
     "data": {
      "image/png": "[encoded data removed]",
      "text/plain": [
       "<Figure size 1080x1080 with 2 Axes>"
      ]
     },
     "metadata": {
      "needs_background": "light"
     },
     "output_type": "display_data"
    }
   ],
   "source": [
    "interval_cols = ['monthlycharges', 'totalcharges', 'still_client']\n",
    "plt.figure(figsize=(15,15));\n",
    "sns.heatmap(full_data.phik_matrix(interval_cols=interval_cols), annot=True);"
   ]
  },
  {
   "cell_type": "markdown",
   "metadata": {},
   "source": [
    "Начнем с того, что мы в любом случае удаляем 'begindate', 'enddate' и 'customerid', это просто даты и индентефикатор пользователя, для обучения моделей они бесполезны. Далее предлагаем считать показатели корреляции больше 0.9 между признаками мультиколлинеарностью и удалять такие:'internetservice'. Также удалим признаки оказывающие на целевой признак меньше 0.1: 'type', 'techsupport', 'paperlessbilling', 'gender', 'seniorcitizen' и 'dependents' "
   ]
  },
  {
   "cell_type": "markdown",
   "metadata": {},
   "source": [
    "### Удаление ненужных признаков"
   ]
  },
  {
   "cell_type": "markdown",
   "metadata": {},
   "source": [
    "Удалим ненужные признаки"
   ]
  },
  {
   "cell_type": "code",
   "execution_count": 54,
   "metadata": {},
   "outputs": [],
   "source": [
    "full_data.drop(['begindate', 'enddate', 'customerid',\n",
    "                'techsupport', 'internetservice', 'type',\n",
    "                'paperlessbilling', 'gender', 'seniorcitizen', \n",
    "                'dependents'], axis=1, inplace=True)"
   ]
  },
  {
   "cell_type": "code",
   "execution_count": 55,
   "metadata": {},
   "outputs": [
    {
     "name": "stdout",
     "output_type": "stream",
     "text": [
      "<class 'pandas.core.frame.DataFrame'>\n",
      "Int64Index: 7043 entries, 0 to 7042\n",
      "Data columns (total 12 columns):\n",
      " #   Column            Non-Null Count  Dtype  \n",
      "---  ------            --------------  -----  \n",
      " 0   paymentmethod     7043 non-null   object \n",
      " 1   monthlycharges    7043 non-null   float64\n",
      " 2   totalcharges      7043 non-null   float64\n",
      " 3   still_client      7043 non-null   int64  \n",
      " 4   partner           7043 non-null   object \n",
      " 5   onlinesecurity    7043 non-null   object \n",
      " 6   onlinebackup      7043 non-null   object \n",
      " 7   deviceprotection  7043 non-null   object \n",
      " 8   streamingtv       7043 non-null   object \n",
      " 9   streamingmovies   7043 non-null   object \n",
      " 10  multiplelines     7043 non-null   object \n",
      " 11  days_in           7043 non-null   int64  \n",
      "dtypes: float64(2), int64(2), object(8)\n",
      "memory usage: 715.3+ KB\n"
     ]
    }
   ],
   "source": [
    "full_data.info()"
   ]
  },
  {
   "cell_type": "markdown",
   "metadata": {},
   "source": [
    "### Общий вывод по исследовательскому анализу данных"
   ]
  },
  {
   "cell_type": "markdown",
   "metadata": {},
   "source": [
    "В ходе проведения исследовательского анализа данных нами был зафиксирован дисбаланс классов, 85% клиетов пользуются услугами оператора. \n",
    "\n",
    "Изучение численных данных показало, что количество заключения новых контрактов в последний год выросло до пиковых значений начала работы оператора, а отказ от услуг оператора от года к году сильно не меняется. Проверка категоральных данных опровергла гипотезы, что пенсионеры чаще отказываются от услуг и женщины больше отказываются от услуг оператора, но показала, что есть некоторая связь от типа оплаты влияет на уход от оператора.\n",
    "\n",
    "Было решено добавить сильный признак - срок нахождения клиента в компании.\n",
    "\n",
    "Корреляционная таблица показала, корреляции больше 0.9 между некоторыми признаками:'internetservice', это мультиколлинеарность, удаляем признак. Также удалим признаки оказывающие на целевой признак корреляцию меньше 0.1: 'type', 'techsupport', 'paperlessbilling', 'gender', 'seniorcitizen' и 'dependents'"
   ]
  },
  {
   "cell_type": "markdown",
   "metadata": {},
   "source": [
    "## Подготовка данных к обучению моделей"
   ]
  },
  {
   "cell_type": "markdown",
   "metadata": {},
   "source": [
    "### Разделение данных на обучающую и тестовую выборки в соотношении 3:1"
   ]
  },
  {
   "cell_type": "markdown",
   "metadata": {},
   "source": [
    "Разделим данные на обучающую и тестовую"
   ]
  },
  {
   "cell_type": "code",
   "execution_count": 56,
   "metadata": {},
   "outputs": [],
   "source": [
    "train, test = train_test_split(full_data,\n",
    "                               test_size=0.25,\n",
    "                               random_state=RANDOM_STATE,\n",
    "                               stratify=full_data['still_client'],\n",
    "                               shuffle=True)"
   ]
  },
  {
   "cell_type": "markdown",
   "metadata": {},
   "source": [
    "Проверим правильно ли разделили выборки"
   ]
  },
  {
   "cell_type": "code",
   "execution_count": 57,
   "metadata": {},
   "outputs": [
    {
     "data": {
      "text/plain": [
       "1    0.843675\n",
       "0    0.156325\n",
       "Name: still_client, dtype: float64"
      ]
     },
     "execution_count": 57,
     "metadata": {},
     "output_type": "execute_result"
    }
   ],
   "source": [
    "full_data['still_client'].value_counts(normalize=True)"
   ]
  },
  {
   "cell_type": "code",
   "execution_count": 58,
   "metadata": {},
   "outputs": [
    {
     "data": {
      "text/plain": [
       "1    0.84362\n",
       "0    0.15638\n",
       "Name: still_client, dtype: float64"
      ]
     },
     "execution_count": 58,
     "metadata": {},
     "output_type": "execute_result"
    }
   ],
   "source": [
    "train['still_client'].value_counts(normalize=True)"
   ]
  },
  {
   "cell_type": "code",
   "execution_count": 59,
   "metadata": {},
   "outputs": [
    {
     "data": {
      "text/plain": [
       "1    0.843839\n",
       "0    0.156161\n",
       "Name: still_client, dtype: float64"
      ]
     },
     "execution_count": 59,
     "metadata": {},
     "output_type": "execute_result"
    }
   ],
   "source": [
    "test['still_client'].value_counts(normalize=True)"
   ]
  },
  {
   "cell_type": "markdown",
   "metadata": {},
   "source": [
    "Разделим выборки по признакам"
   ]
  },
  {
   "cell_type": "code",
   "execution_count": 60,
   "metadata": {},
   "outputs": [],
   "source": [
    "features_train = train.drop('still_client', axis=1)\n",
    "target_train = train['still_client']"
   ]
  },
  {
   "cell_type": "code",
   "execution_count": 61,
   "metadata": {},
   "outputs": [],
   "source": [
    "features_test = test.drop('still_client', axis=1)\n",
    "target_test = test['still_client']"
   ]
  },
  {
   "cell_type": "markdown",
   "metadata": {},
   "source": [
    "### Кодировка категориальных признаков"
   ]
  },
  {
   "cell_type": "markdown",
   "metadata": {},
   "source": [
    "Закодируем категориальные данные техникой OHE"
   ]
  },
  {
   "cell_type": "code",
   "execution_count": 62,
   "metadata": {},
   "outputs": [],
   "source": [
    "ohe_features = features_train.select_dtypes(include='object').columns.to_list()"
   ]
  },
  {
   "cell_type": "code",
   "execution_count": 63,
   "metadata": {},
   "outputs": [],
   "source": [
    "encoder_ohe = OneHotEncoder(drop='first', handle_unknown='ignore', sparse=False)\n",
    "encoder_ohe.fit(features_train[ohe_features])\n",
    "\n",
    "pd.options.mode.chained_assignment = None"
   ]
  },
  {
   "cell_type": "code",
   "execution_count": 64,
   "metadata": {},
   "outputs": [],
   "source": [
    "features_train[encoder_ohe.get_feature_names_out()] = encoder_ohe.transform(features_train[ohe_features])\n",
    "\n",
    "features_train = features_train.drop(ohe_features, axis=1)"
   ]
  },
  {
   "cell_type": "code",
   "execution_count": 65,
   "metadata": {},
   "outputs": [],
   "source": [
    "features_test[encoder_ohe.get_feature_names_out()] = encoder_ohe.transform(features_test[ohe_features])\n",
    "\n",
    "features_test = features_test.drop(ohe_features, axis=1)"
   ]
  },
  {
   "cell_type": "markdown",
   "metadata": {},
   "source": [
    "### Стандартизация численных признаков"
   ]
  },
  {
   "cell_type": "code",
   "execution_count": 66,
   "metadata": {},
   "outputs": [],
   "source": [
    "numeric = ['monthlycharges', 'days_in', 'totalcharges']"
   ]
  },
  {
   "cell_type": "code",
   "execution_count": 67,
   "metadata": {},
   "outputs": [],
   "source": [
    "scaler = StandardScaler()\n",
    "scaler.fit(features_train[numeric])\n",
    "\n",
    "pd.options.mode.chained_assignment = None"
   ]
  },
  {
   "cell_type": "code",
   "execution_count": 68,
   "metadata": {},
   "outputs": [],
   "source": [
    "features_train[numeric] = scaler.transform(features_train[numeric])\n",
    "features_test[numeric] = scaler.transform(features_test[numeric])"
   ]
  },
  {
   "cell_type": "markdown",
   "metadata": {},
   "source": [
    "### Общий вывод по подготовке данных к обучению моделей"
   ]
  },
  {
   "cell_type": "markdown",
   "metadata": {},
   "source": [
    "В ходе подготовки данных к обучению моделей нами были созданы выборки по которым будут обучаться модели. В выборках мы перекодировали категориальные данные техникой OHE, также стандартизировали все численные данные."
   ]
  },
  {
   "cell_type": "markdown",
   "metadata": {},
   "source": [
    "## Исследование моделей машинного обучения"
   ]
  },
  {
   "cell_type": "markdown",
   "metadata": {},
   "source": [
    "### Случайный лес"
   ]
  },
  {
   "cell_type": "markdown",
   "metadata": {},
   "source": [
    "Для начала напишем пайплайн"
   ]
  },
  {
   "cell_type": "code",
   "execution_count": 69,
   "metadata": {},
   "outputs": [],
   "source": [
    "pipeline_rfc = Pipeline([(\"rfc\", RandomForestClassifier(random_state=RANDOM_STATE))])"
   ]
  },
  {
   "cell_type": "markdown",
   "metadata": {},
   "source": [
    "Напишем параметры гридсёрча"
   ]
  },
  {
   "cell_type": "code",
   "execution_count": 70,
   "metadata": {},
   "outputs": [],
   "source": [
    "parameters_rfc = {\n",
    "                  'rfc__max_depth': (range(1, 11, 2)),\n",
    "                  'rfc__n_estimators': (range(10,151 ,10)),\n",
    "                  'rfc__class_weight': (['balanced'])\n",
    "                 }"
   ]
  },
  {
   "cell_type": "code",
   "execution_count": 71,
   "metadata": {},
   "outputs": [
    {
     "name": "stdout",
     "output_type": "stream",
     "text": [
      "Лучший показатель метрики AUC-ROC на кросс-валидации = 0.81\n",
      "\n",
      "Гиперпараметры лучшей модели {'rfc__class_weight': 'balanced', 'rfc__max_depth': 7, 'rfc__n_estimators': 120}\n",
      "\n",
      "CPU times: user 1min 18s, sys: 549 ms, total: 1min 18s\n",
      "Wall time: 1min 18s\n"
     ]
    }
   ],
   "source": [
    "%%time\n",
    "\n",
    "grid_rfc = GridSearchCV(pipeline_rfc, parameters_rfc, scoring='roc_auc', cv=5, n_jobs=-1)\n",
    "grid_rfc.fit(features_train, target_train)\n",
    "\n",
    "print('Лучший показатель метрики AUC-ROC на кросс-валидации =', round(grid_rfc.best_score_, 2))\n",
    "print()\n",
    "print('Гиперпараметры лучшей модели', grid_rfc.best_params_)\n",
    "print()"
   ]
  },
  {
   "cell_type": "markdown",
   "metadata": {},
   "source": [
    "### Логистическая регрессия"
   ]
  },
  {
   "cell_type": "markdown",
   "metadata": {},
   "source": [
    "Для начала напишем пайплайн"
   ]
  },
  {
   "cell_type": "code",
   "execution_count": 72,
   "metadata": {},
   "outputs": [],
   "source": [
    "pipeline_lr = Pipeline([(\"lr\", LogisticRegression(random_state=RANDOM_STATE))])"
   ]
  },
  {
   "cell_type": "markdown",
   "metadata": {},
   "source": [
    "Напишем параметры гридсёрча"
   ]
  },
  {
   "cell_type": "code",
   "execution_count": 73,
   "metadata": {},
   "outputs": [],
   "source": [
    "parameters_lr = {'lr__C': (range(1, 11, 1)),\n",
    "                 'lr__class_weight': (['balanced'])\n",
    "                }"
   ]
  },
  {
   "cell_type": "code",
   "execution_count": 74,
   "metadata": {},
   "outputs": [
    {
     "name": "stdout",
     "output_type": "stream",
     "text": [
      "Лучший показатель метрики AUC-ROC на кросс-валидации = 0.74\n",
      "\n",
      "Гиперпараметры лучшей модели {'lr__C': 2, 'lr__class_weight': 'balanced'}\n",
      "\n",
      "CPU times: user 3.04 s, sys: 7.4 s, total: 10.4 s\n",
      "Wall time: 10.4 s\n"
     ]
    }
   ],
   "source": [
    "%%time\n",
    "\n",
    "grid_lr = GridSearchCV(pipeline_lr, parameters_lr, scoring='roc_auc', cv=5, n_jobs=-1)\n",
    "grid_lr.fit(features_train, target_train)\n",
    "\n",
    "print('Лучший показатель метрики AUC-ROC на кросс-валидации =', round(grid_lr.best_score_, 2))\n",
    "print()\n",
    "print('Гиперпараметры лучшей модели', grid_lr.best_params_)\n",
    "print()"
   ]
  },
  {
   "cell_type": "markdown",
   "metadata": {},
   "source": [
    "### CatBoost"
   ]
  },
  {
   "cell_type": "markdown",
   "metadata": {},
   "source": [
    "Для начала напишем пайплайн"
   ]
  },
  {
   "cell_type": "code",
   "execution_count": 75,
   "metadata": {},
   "outputs": [],
   "source": [
    "pipeline_cb = Pipeline([(\"cb\", CatBoostClassifier(random_state=RANDOM_STATE))])"
   ]
  },
  {
   "cell_type": "markdown",
   "metadata": {},
   "source": [
    "Напишем параметры гридсёрча"
   ]
  },
  {
   "cell_type": "code",
   "execution_count": 76,
   "metadata": {},
   "outputs": [],
   "source": [
    "parameters_cb = {\n",
    "                 'cb__n_estimators': range(600, 1201, 200),\n",
    "                 'cb__depth': (range(1, 3)),\n",
    "                 'cb__learning_rate' : (.5, .3, .2, .1, .05, .03, .02),\n",
    "                 'cb__auto_class_weights' : (['Balanced']),\n",
    "                 'cb__loss_function': ['Logloss'],\n",
    "                 'cb__eval_metric': ['AUC'],\n",
    "                 'cb__logging_level' : (['Silent'])\n",
    "                 }\n"
   ]
  },
  {
   "cell_type": "code",
   "execution_count": 77,
   "metadata": {},
   "outputs": [
    {
     "name": "stdout",
     "output_type": "stream",
     "text": [
      "Лучший показатель метрики AUC-ROC на кросс-валидации = 0.92\n",
      "\n",
      "Гиперпараметры лучшей модели {'cb__auto_class_weights': 'Balanced', 'cb__depth': 2, 'cb__eval_metric': 'AUC', 'cb__learning_rate': 0.3, 'cb__logging_level': 'Silent', 'cb__loss_function': 'Logloss', 'cb__n_estimators': 1000}\n",
      "\n",
      "CPU times: user 3min 22s, sys: 15.7 s, total: 3min 37s\n",
      "Wall time: 6min 10s\n"
     ]
    }
   ],
   "source": [
    "%%time\n",
    "\n",
    "grid_cb = GridSearchCV(pipeline_cb, parameters_cb, scoring='roc_auc', cv=5, n_jobs=-1)\n",
    "grid_cb.fit(features_train, target_train)\n",
    "\n",
    "print('Лучший показатель метрики AUC-ROC на кросс-валидации =', round(grid_cb.best_score_, 2))\n",
    "print()\n",
    "print('Гиперпараметры лучшей модели', grid_cb.best_params_)\n",
    "print()"
   ]
  },
  {
   "cell_type": "markdown",
   "metadata": {},
   "source": [
    "### Общий вывод по исследованию моделей машинного обучения"
   ]
  },
  {
   "cell_type": "code",
   "execution_count": 78,
   "metadata": {},
   "outputs": [
    {
     "data": {
      "text/html": [
       "<div>\n",
       "<style scoped>\n",
       "    .dataframe tbody tr th:only-of-type {\n",
       "        vertical-align: middle;\n",
       "    }\n",
       "\n",
       "    .dataframe tbody tr th {\n",
       "        vertical-align: top;\n",
       "    }\n",
       "\n",
       "    .dataframe thead th {\n",
       "        text-align: right;\n",
       "    }\n",
       "</style>\n",
       "<table border=\"1\" class=\"dataframe\">\n",
       "  <thead>\n",
       "    <tr style=\"text-align: right;\">\n",
       "      <th></th>\n",
       "      <th>AUC-ROC</th>\n",
       "    </tr>\n",
       "  </thead>\n",
       "  <tbody>\n",
       "    <tr>\n",
       "      <th>LogisticRegression</th>\n",
       "      <td>0.74</td>\n",
       "    </tr>\n",
       "    <tr>\n",
       "      <th>RandomForestClassifier</th>\n",
       "      <td>0.81</td>\n",
       "    </tr>\n",
       "    <tr>\n",
       "      <th>CatBoostClassifier</th>\n",
       "      <td>0.92</td>\n",
       "    </tr>\n",
       "  </tbody>\n",
       "</table>\n",
       "</div>"
      ],
      "text/plain": [
       "                        AUC-ROC\n",
       "LogisticRegression         0.74\n",
       "RandomForestClassifier     0.81\n",
       "CatBoostClassifier         0.92"
      ]
     },
     "execution_count": 78,
     "metadata": {},
     "output_type": "execute_result"
    }
   ],
   "source": [
    "data_models = pd.DataFrame(\n",
    "    [round(grid_lr.best_score_, 2), round(grid_rfc.best_score_, 2), round(grid_cb.best_score_, 2)],\n",
    "     index=['LogisticRegression', 'RandomForestClassifier', 'CatBoostClassifier'], \n",
    "     columns=['AUC-ROC']\n",
    ")\n",
    "data_models"
   ]
  },
  {
   "cell_type": "markdown",
   "metadata": {},
   "source": [
    "В ходе исследования моделей машинного обучения лучший результат 0.92 на кросс валидации дала модель CatBoost с параметрами {'cb__auto_class_weights': 'Balanced', 'cb__depth': 2, 'cb__eval_metric': 'AUC', 'cb__learning_rate': 0.3, 'cb__logging_level': 'Silent', 'cb__loss_function': 'Logloss', 'cb__n_estimators': 1000}, на ней мы и будем проводить тестирование"
   ]
  },
  {
   "cell_type": "markdown",
   "metadata": {},
   "source": [
    "## Тестирование наилучшей модели"
   ]
  },
  {
   "cell_type": "markdown",
   "metadata": {},
   "source": [
    "### Испытание наилучшей модели на тестовой выборке"
   ]
  },
  {
   "cell_type": "markdown",
   "metadata": {},
   "source": [
    "Предскажем результат модели на тестовой выборке и выведим результат метрики"
   ]
  },
  {
   "cell_type": "code",
   "execution_count": 79,
   "metadata": {},
   "outputs": [
    {
     "name": "stdout",
     "output_type": "stream",
     "text": [
      "Метрика AUC-ROC на тестовой выборке = 0.9\n"
     ]
    }
   ],
   "source": [
    "pred = grid_cb.predict_proba(features_test)[:, 1]\n",
    "roc_auc = roc_auc_score(target_test, pred)\n",
    "print('Метрика AUC-ROC на тестовой выборке =', round(roc_auc, 2))"
   ]
  },
  {
   "cell_type": "markdown",
   "metadata": {},
   "source": [
    "Теперь сравним нашу модель на тестовой выборке с Dummy моделью"
   ]
  },
  {
   "cell_type": "markdown",
   "metadata": {},
   "source": [
    "### Dummy модель"
   ]
  },
  {
   "cell_type": "code",
   "execution_count": 80,
   "metadata": {},
   "outputs": [
    {
     "name": "stdout",
     "output_type": "stream",
     "text": [
      "AUC-ROC на тестовой выборке = 0.5\n"
     ]
    }
   ],
   "source": [
    "dummy_model = DummyClassifier(strategy='stratified')\n",
    "dummy_model.fit(features_train,target_train)\n",
    "\n",
    "predictions_dummy = dummy_model.predict_proba(features_test)[:, 1]\n",
    "\n",
    "result_dummy = roc_auc_score(target_test, predictions_dummy)\n",
    "\n",
    "print('AUC-ROC на тестовой выборке =', round(result_dummy, 2))"
   ]
  },
  {
   "cell_type": "markdown",
   "metadata": {},
   "source": [
    "Теперь построим ROC-кривую"
   ]
  },
  {
   "cell_type": "markdown",
   "metadata": {},
   "source": [
    "###  ROC-кривая"
   ]
  },
  {
   "cell_type": "code",
   "execution_count": 81,
   "metadata": {},
   "outputs": [],
   "source": [
    "fpr_cb, tpr_cb, thresholds=roc_curve(target_test, pred)"
   ]
  },
  {
   "cell_type": "code",
   "execution_count": 82,
   "metadata": {},
   "outputs": [
    {
     "data": {
      "text/plain": [
       "<Figure size 432x288 with 0 Axes>"
      ]
     },
     "metadata": {},
     "output_type": "display_data"
    },
    {
     "data": {
      "image/png": "[encoded data removed]",
      "text/plain": [
       "<Figure size 936x936 with 1 Axes>"
      ]
     },
     "metadata": {
      "needs_background": "light"
     },
     "output_type": "display_data"
    }
   ],
   "source": [
    "plt.figure();\n",
    "\n",
    "plt.figure(figsize=(13,13));\n",
    "\n",
    "plt.plot(fpr_cb, tpr_cb);\n",
    "\n",
    "plt.plot([0, 1], [0, 1], linestyle='--');\n",
    "\n",
    "plt.xlim([0.0, 1.0]);\n",
    "plt.ylim([0.0, 1.0]);\n",
    "\n",
    "plt.xlabel('False Positive Rate');\n",
    "plt.ylabel('True Positive Rate');\n",
    "\n",
    "plt.title('ROC-кривая');"
   ]
  },
  {
   "cell_type": "markdown",
   "metadata": {},
   "source": [
    "На графике видно, что модель находится выше прямой линии, те показывает лучший True Positive Rate, чем прямая линия."
   ]
  },
  {
   "cell_type": "markdown",
   "metadata": {},
   "source": [
    "### Метрики accuracy и матрицы ошибок"
   ]
  },
  {
   "cell_type": "markdown",
   "metadata": {},
   "source": [
    "Посмотрим на метрику accuracy и матрицу ошибок"
   ]
  },
  {
   "cell_type": "code",
   "execution_count": 83,
   "metadata": {},
   "outputs": [
    {
     "data": {
      "text/plain": [
       "0.8858603066439523"
      ]
     },
     "execution_count": 83,
     "metadata": {},
     "output_type": "execute_result"
    }
   ],
   "source": [
    "pred_acc = grid_cb.predict(features_test)\n",
    "accuracy_score(target_test, pred_acc)"
   ]
  },
  {
   "cell_type": "code",
   "execution_count": 84,
   "metadata": {},
   "outputs": [
    {
     "data": {
      "image/png": "[encoded data removed]",
      "text/plain": [
       "<Figure size 720x720 with 2 Axes>"
      ]
     },
     "metadata": {
      "needs_background": "light"
     },
     "output_type": "display_data"
    }
   ],
   "source": [
    "matrix = confusion_matrix(target_test, pred_acc)\n",
    "plt.figure(figsize=(10,10));\n",
    "plt.title('Матрица ошибок');\n",
    "sns.heatmap(matrix, annot=True, fmt=\"d\");"
   ]
  },
  {
   "cell_type": "markdown",
   "metadata": {},
   "source": [
    "Метрика accuracy показала результат ~89%. Тк мы также вывели матрицу ошибок, можно удостовериться, что TN, FP и FN не нулевые, те наша метрика показывает, что обученная нами модель действительно предсказывает.\n",
    "\n",
    "Если бы мы не выводили матрицу, TN, FP и FN были нулевыми, то accuracy = 100% и мы бы не заметили подвоха =)"
   ]
  },
  {
   "cell_type": "markdown",
   "metadata": {},
   "source": [
    "### Общий вывод по Тестирование наилучшей модели"
   ]
  },
  {
   "cell_type": "markdown",
   "metadata": {},
   "source": [
    "Тест наилучшей модели показал такие результаты: AUC-ROC = 0.9, что выше порога в 0.85, что удовлетворяюет требованию поставленной задачи. Также мы проверили константную модель, метрика AUC-ROC = 0.5, те наша модель работает точнее. \n",
    "\n",
    "Кривая ROC показали, что наилучшая модель далеко отошла от прямой линии, что говорит нам о том, что метрика дает не случайные ответы. \n",
    "\n",
    "Метрика accuracy показала результат ~89%, значения TN, FP и FN не нулевые"
   ]
  },
  {
   "cell_type": "markdown",
   "metadata": {},
   "source": [
    "## Общий вывод по проекту"
   ]
  },
  {
   "cell_type": "markdown",
   "metadata": {},
   "source": [
    "В ходе работы были мы ознакомились с датафреймом, отметили его особенноси, проверили на дубликаты и привели значения в столбцах к нижнему регистру для удобства.Также были изменены типы данных в столбцах с датами, целевым признаком и totalcharges, а проверка на пропуски показала незначительные пропуски в totalcharges, которые мы заменили на ноль, и пропуски образовавшиеся из-за слияния таблиц, их мы заменили на значение 'No'.\n",
    "\n",
    "Исследовательски анализ данных зафиксировал дисбаланс классов, 85% клиетов пользуются услугами оператора.\n",
    "\n",
    "Изучение численных данных показало, что количество заключения новых контрактов в последний год выросло до пиковых значений начала работы оператора, а отказ от услуг оператора от года к году сильно не меняется. Проверка категоральных данных опровергла гипотезы, что пенсионеры чаще отказываются от услуг и женщины больше отказываются от услуг оператора, но показала, что есть некоторая связь от типа оплаты влияет на уход от оператора.\n",
    "\n",
    "Было решено добавить сильный признак - срок нахождения клиента в компании.\n",
    "\n",
    "Корреляционная таблица показала, корреляции больше 0.9 между некоторыми признаками:'internetservice', это мультиколлинеарность, удаляем признак. Также удалим признаки оказывающие на целевой признак корреляцию меньше 0.1: 'type', 'techsupport', 'paperlessbilling', 'gender', 'seniorcitizen' и 'dependents'.\n",
    "\n",
    "На этапе подготовки данных к обучению моделей нами были созданы выборки по которым будут обучаться модели. В выборках мы перекодировали категориальные данные техникой OHE, также стандартизировали все численные данные.\n",
    "\n",
    "Обучение моделей выявило, что на кроссвалидации лучший результат выдает CatBoost с метрикой AUC-ROC = 0.92 с лучшими параметрами {'cb__auto_class_weights': 'Balanced', 'cb__depth': 2, 'cb__eval_metric': 'AUC', 'cb__learning_rate': 0.3, 'cb__logging_level': 'Silent', 'cb__loss_function': 'Logloss', 'cb__n_estimators': 1000}. Стоит также отметить, что и обучается лучшая модель значительно дольше остальных, но это объясняется тем, что в ней большая сетка параметров.\n",
    "\n",
    "Тест наилучшей модели показал такие результаты: AUC-ROC = 0.9, что выше порога в 0.85, что удовлетворяюет требованию поставленной задачи. Также мы проверили константную модель, метрика AUC-ROC = 0.5, те наша модель работает точнее.\n",
    "\n",
    "Кривая ROC показали, что наилучшая модель далеко отошла от прямой линии, что говорит нам о том, что метрика дает не случайные ответы.\n",
    "\n",
    "Метрика accuracy показала результат ~89%, значения TN, FP и FN не нулевые"
   ]
  }
 ],
 "metadata": {
  "ExecuteTimeLog": [
   {
    "duration": 388,
    "start_time": "2023-06-11T17:53:45.703Z"
   },
   {
    "duration": 3,
    "start_time": "2023-06-11T17:53:46.491Z"
   },
   {
    "duration": 403,
    "start_time": "2023-06-11T17:56:46.191Z"
   },
   {
    "duration": 3,
    "start_time": "2023-06-11T17:56:46.595Z"
   },
   {
    "duration": 85,
    "start_time": "2023-06-11T17:56:46.599Z"
   },
   {
    "duration": 110,
    "start_time": "2023-06-11T17:56:46.685Z"
   },
   {
    "duration": 112,
    "start_time": "2023-06-11T17:56:46.796Z"
   },
   {
    "duration": 69,
    "start_time": "2023-06-11T17:56:46.909Z"
   },
   {
    "duration": 18,
    "start_time": "2023-06-11T17:56:46.979Z"
   },
   {
    "duration": 18,
    "start_time": "2023-06-11T17:56:46.998Z"
   },
   {
    "duration": 14,
    "start_time": "2023-06-11T17:56:47.017Z"
   },
   {
    "duration": 12,
    "start_time": "2023-06-11T17:56:47.033Z"
   },
   {
    "duration": 20,
    "start_time": "2023-06-11T17:56:47.046Z"
   },
   {
    "duration": 22,
    "start_time": "2023-06-11T17:56:47.067Z"
   },
   {
    "duration": 65,
    "start_time": "2023-06-11T17:56:47.091Z"
   },
   {
    "duration": 38,
    "start_time": "2023-06-11T17:56:47.157Z"
   },
   {
    "duration": 70,
    "start_time": "2023-06-11T17:56:47.197Z"
   },
   {
    "duration": 11,
    "start_time": "2023-06-11T17:56:47.268Z"
   },
   {
    "duration": 61,
    "start_time": "2023-06-11T17:56:47.281Z"
   },
   {
    "duration": 64,
    "start_time": "2023-06-11T17:56:47.343Z"
   },
   {
    "duration": 3,
    "start_time": "2023-06-11T18:12:27.594Z"
   },
   {
    "duration": 3,
    "start_time": "2023-06-11T18:12:28.079Z"
   },
   {
    "duration": 3,
    "start_time": "2023-06-11T18:12:28.479Z"
   },
   {
    "duration": 4,
    "start_time": "2023-06-11T18:12:28.852Z"
   },
   {
    "duration": 15,
    "start_time": "2023-06-11T18:12:36.363Z"
   },
   {
    "duration": 30,
    "start_time": "2023-06-11T18:12:41.146Z"
   },
   {
    "duration": 401,
    "start_time": "2023-06-11T18:12:49.485Z"
   },
   {
    "duration": 3,
    "start_time": "2023-06-11T18:12:49.888Z"
   },
   {
    "duration": 112,
    "start_time": "2023-06-11T18:12:49.893Z"
   },
   {
    "duration": 55,
    "start_time": "2023-06-11T18:12:50.007Z"
   },
   {
    "duration": 22,
    "start_time": "2023-06-11T18:12:50.064Z"
   },
   {
    "duration": 18,
    "start_time": "2023-06-11T18:12:50.087Z"
   },
   {
    "duration": 46,
    "start_time": "2023-06-11T18:12:50.107Z"
   },
   {
    "duration": 22,
    "start_time": "2023-06-11T18:12:50.159Z"
   },
   {
    "duration": 12,
    "start_time": "2023-06-11T18:12:50.183Z"
   },
   {
    "duration": 12,
    "start_time": "2023-06-11T18:12:50.197Z"
   },
   {
    "duration": 53,
    "start_time": "2023-06-11T18:12:50.210Z"
   },
   {
    "duration": 12,
    "start_time": "2023-06-11T18:12:50.264Z"
   },
   {
    "duration": 12,
    "start_time": "2023-06-11T18:12:50.278Z"
   },
   {
    "duration": 19,
    "start_time": "2023-06-11T18:12:50.291Z"
   },
   {
    "duration": 82,
    "start_time": "2023-06-11T18:12:50.312Z"
   },
   {
    "duration": 7,
    "start_time": "2023-06-11T18:12:50.395Z"
   },
   {
    "duration": 10,
    "start_time": "2023-06-11T18:12:50.404Z"
   },
   {
    "duration": 53,
    "start_time": "2023-06-11T18:12:50.415Z"
   },
   {
    "duration": 2,
    "start_time": "2023-06-11T18:12:50.470Z"
   },
   {
    "duration": 6,
    "start_time": "2023-06-11T18:12:50.474Z"
   },
   {
    "duration": 17,
    "start_time": "2023-06-11T18:12:50.482Z"
   },
   {
    "duration": 5,
    "start_time": "2023-06-11T18:12:50.500Z"
   },
   {
    "duration": 14,
    "start_time": "2023-06-11T18:13:52.053Z"
   },
   {
    "duration": 10,
    "start_time": "2023-06-11T18:15:43.159Z"
   },
   {
    "duration": 8,
    "start_time": "2023-06-11T18:15:43.670Z"
   },
   {
    "duration": 11,
    "start_time": "2023-06-11T18:15:44.058Z"
   },
   {
    "duration": 8,
    "start_time": "2023-06-11T18:15:44.406Z"
   },
   {
    "duration": 385,
    "start_time": "2023-06-11T18:38:36.556Z"
   },
   {
    "duration": 7,
    "start_time": "2023-06-11T18:38:36.946Z"
   },
   {
    "duration": 219,
    "start_time": "2023-06-11T18:38:36.954Z"
   },
   {
    "duration": 0,
    "start_time": "2023-06-11T18:38:37.175Z"
   },
   {
    "duration": 0,
    "start_time": "2023-06-11T18:38:37.176Z"
   },
   {
    "duration": 0,
    "start_time": "2023-06-11T18:38:37.177Z"
   },
   {
    "duration": 0,
    "start_time": "2023-06-11T18:38:37.177Z"
   },
   {
    "duration": 0,
    "start_time": "2023-06-11T18:38:37.178Z"
   },
   {
    "duration": 0,
    "start_time": "2023-06-11T18:38:37.180Z"
   },
   {
    "duration": 0,
    "start_time": "2023-06-11T18:38:37.181Z"
   },
   {
    "duration": 0,
    "start_time": "2023-06-11T18:38:37.183Z"
   },
   {
    "duration": 0,
    "start_time": "2023-06-11T18:38:37.183Z"
   },
   {
    "duration": 0,
    "start_time": "2023-06-11T18:38:37.185Z"
   },
   {
    "duration": 0,
    "start_time": "2023-06-11T18:38:37.186Z"
   },
   {
    "duration": 0,
    "start_time": "2023-06-11T18:38:37.187Z"
   },
   {
    "duration": 0,
    "start_time": "2023-06-11T18:38:37.188Z"
   },
   {
    "duration": 0,
    "start_time": "2023-06-11T18:38:37.190Z"
   },
   {
    "duration": 0,
    "start_time": "2023-06-11T18:38:37.191Z"
   },
   {
    "duration": 0,
    "start_time": "2023-06-11T18:38:37.192Z"
   },
   {
    "duration": 0,
    "start_time": "2023-06-11T18:38:37.193Z"
   },
   {
    "duration": 0,
    "start_time": "2023-06-11T18:38:37.194Z"
   },
   {
    "duration": 0,
    "start_time": "2023-06-11T18:38:37.195Z"
   },
   {
    "duration": 0,
    "start_time": "2023-06-11T18:38:37.215Z"
   },
   {
    "duration": 0,
    "start_time": "2023-06-11T18:38:37.216Z"
   },
   {
    "duration": 0,
    "start_time": "2023-06-11T18:38:37.216Z"
   },
   {
    "duration": 0,
    "start_time": "2023-06-11T18:38:37.217Z"
   },
   {
    "duration": 0,
    "start_time": "2023-06-11T18:38:37.218Z"
   },
   {
    "duration": 352,
    "start_time": "2023-06-11T18:40:32.787Z"
   },
   {
    "duration": 3,
    "start_time": "2023-06-11T18:40:33.153Z"
   },
   {
    "duration": 53,
    "start_time": "2023-06-11T18:40:33.158Z"
   },
   {
    "duration": 46,
    "start_time": "2023-06-11T18:40:33.214Z"
   },
   {
    "duration": 20,
    "start_time": "2023-06-11T18:40:33.261Z"
   },
   {
    "duration": 17,
    "start_time": "2023-06-11T18:40:33.282Z"
   },
   {
    "duration": 41,
    "start_time": "2023-06-11T18:40:33.300Z"
   },
   {
    "duration": 15,
    "start_time": "2023-06-11T18:40:33.342Z"
   },
   {
    "duration": 15,
    "start_time": "2023-06-11T18:40:33.358Z"
   },
   {
    "duration": 9,
    "start_time": "2023-06-11T18:40:33.376Z"
   },
   {
    "duration": 15,
    "start_time": "2023-06-11T18:40:33.386Z"
   },
   {
    "duration": 11,
    "start_time": "2023-06-11T18:40:33.402Z"
   },
   {
    "duration": 28,
    "start_time": "2023-06-11T18:40:33.414Z"
   },
   {
    "duration": 21,
    "start_time": "2023-06-11T18:40:33.444Z"
   },
   {
    "duration": 26,
    "start_time": "2023-06-11T18:40:33.467Z"
   },
   {
    "duration": 7,
    "start_time": "2023-06-11T18:40:33.494Z"
   },
   {
    "duration": 23,
    "start_time": "2023-06-11T18:40:33.502Z"
   },
   {
    "duration": 36,
    "start_time": "2023-06-11T18:40:33.538Z"
   },
   {
    "duration": 3,
    "start_time": "2023-06-11T18:40:33.575Z"
   },
   {
    "duration": 8,
    "start_time": "2023-06-11T18:40:33.580Z"
   },
   {
    "duration": 13,
    "start_time": "2023-06-11T18:40:33.589Z"
   },
   {
    "duration": 6,
    "start_time": "2023-06-11T18:40:33.603Z"
   },
   {
    "duration": 47,
    "start_time": "2023-06-11T18:40:33.610Z"
   },
   {
    "duration": 10,
    "start_time": "2023-06-11T18:40:33.659Z"
   },
   {
    "duration": 6,
    "start_time": "2023-06-11T18:40:33.670Z"
   },
   {
    "duration": 7,
    "start_time": "2023-06-11T18:40:33.678Z"
   },
   {
    "duration": 5,
    "start_time": "2023-06-11T18:40:33.686Z"
   },
   {
    "duration": 108,
    "start_time": "2023-06-11T18:43:00.347Z"
   },
   {
    "duration": 2201,
    "start_time": "2023-06-11T18:43:14.798Z"
   },
   {
    "duration": 376,
    "start_time": "2023-06-11T18:44:41.945Z"
   },
   {
    "duration": 8,
    "start_time": "2023-06-11T18:44:42.338Z"
   },
   {
    "duration": 54,
    "start_time": "2023-06-11T18:44:42.348Z"
   },
   {
    "duration": 54,
    "start_time": "2023-06-11T18:44:42.404Z"
   },
   {
    "duration": 26,
    "start_time": "2023-06-11T18:44:42.460Z"
   },
   {
    "duration": 20,
    "start_time": "2023-06-11T18:44:42.488Z"
   },
   {
    "duration": 51,
    "start_time": "2023-06-11T18:44:42.510Z"
   },
   {
    "duration": 16,
    "start_time": "2023-06-11T18:44:42.564Z"
   },
   {
    "duration": 13,
    "start_time": "2023-06-11T18:44:42.582Z"
   },
   {
    "duration": 2108,
    "start_time": "2023-06-11T18:44:42.598Z"
   },
   {
    "duration": 0,
    "start_time": "2023-06-11T18:44:44.708Z"
   },
   {
    "duration": 0,
    "start_time": "2023-06-11T18:44:44.709Z"
   },
   {
    "duration": 0,
    "start_time": "2023-06-11T18:44:44.710Z"
   },
   {
    "duration": 0,
    "start_time": "2023-06-11T18:44:44.711Z"
   },
   {
    "duration": 0,
    "start_time": "2023-06-11T18:44:44.712Z"
   },
   {
    "duration": 0,
    "start_time": "2023-06-11T18:44:44.714Z"
   },
   {
    "duration": 0,
    "start_time": "2023-06-11T18:44:44.715Z"
   },
   {
    "duration": 0,
    "start_time": "2023-06-11T18:44:44.715Z"
   },
   {
    "duration": 0,
    "start_time": "2023-06-11T18:44:44.716Z"
   },
   {
    "duration": 0,
    "start_time": "2023-06-11T18:44:44.716Z"
   },
   {
    "duration": 0,
    "start_time": "2023-06-11T18:44:44.717Z"
   },
   {
    "duration": 0,
    "start_time": "2023-06-11T18:44:44.723Z"
   },
   {
    "duration": 0,
    "start_time": "2023-06-11T18:44:44.724Z"
   },
   {
    "duration": 0,
    "start_time": "2023-06-11T18:44:44.729Z"
   },
   {
    "duration": 0,
    "start_time": "2023-06-11T18:44:44.729Z"
   },
   {
    "duration": 0,
    "start_time": "2023-06-11T18:44:44.730Z"
   },
   {
    "duration": 0,
    "start_time": "2023-06-11T18:44:44.731Z"
   },
   {
    "duration": 0,
    "start_time": "2023-06-11T18:44:44.731Z"
   },
   {
    "duration": 0,
    "start_time": "2023-06-11T18:44:44.733Z"
   },
   {
    "duration": 427,
    "start_time": "2023-06-11T18:45:03.649Z"
   },
   {
    "duration": 3,
    "start_time": "2023-06-11T18:45:04.078Z"
   },
   {
    "duration": 74,
    "start_time": "2023-06-11T18:45:04.082Z"
   },
   {
    "duration": 25,
    "start_time": "2023-06-11T18:45:04.158Z"
   },
   {
    "duration": 27,
    "start_time": "2023-06-11T18:45:04.186Z"
   },
   {
    "duration": 50,
    "start_time": "2023-06-11T18:45:04.214Z"
   },
   {
    "duration": 26,
    "start_time": "2023-06-11T18:45:04.266Z"
   },
   {
    "duration": 13,
    "start_time": "2023-06-11T18:45:04.294Z"
   },
   {
    "duration": 47,
    "start_time": "2023-06-11T18:45:04.308Z"
   },
   {
    "duration": 32,
    "start_time": "2023-06-11T18:45:04.357Z"
   },
   {
    "duration": 12,
    "start_time": "2023-06-11T18:45:04.391Z"
   },
   {
    "duration": 29,
    "start_time": "2023-06-11T18:45:04.404Z"
   },
   {
    "duration": 39,
    "start_time": "2023-06-11T18:45:04.435Z"
   },
   {
    "duration": 89,
    "start_time": "2023-06-11T18:45:04.478Z"
   },
   {
    "duration": 0,
    "start_time": "2023-06-11T18:45:04.568Z"
   },
   {
    "duration": 0,
    "start_time": "2023-06-11T18:45:04.570Z"
   },
   {
    "duration": 0,
    "start_time": "2023-06-11T18:45:04.571Z"
   },
   {
    "duration": 0,
    "start_time": "2023-06-11T18:45:04.572Z"
   },
   {
    "duration": 0,
    "start_time": "2023-06-11T18:45:04.573Z"
   },
   {
    "duration": 0,
    "start_time": "2023-06-11T18:45:04.574Z"
   },
   {
    "duration": 0,
    "start_time": "2023-06-11T18:45:04.575Z"
   },
   {
    "duration": 0,
    "start_time": "2023-06-11T18:45:04.577Z"
   },
   {
    "duration": 0,
    "start_time": "2023-06-11T18:45:04.578Z"
   },
   {
    "duration": 0,
    "start_time": "2023-06-11T18:45:04.579Z"
   },
   {
    "duration": 0,
    "start_time": "2023-06-11T18:45:04.579Z"
   },
   {
    "duration": 0,
    "start_time": "2023-06-11T18:45:04.581Z"
   },
   {
    "duration": 0,
    "start_time": "2023-06-11T18:45:04.581Z"
   },
   {
    "duration": 0,
    "start_time": "2023-06-11T18:45:04.582Z"
   },
   {
    "duration": 0,
    "start_time": "2023-06-11T18:45:04.584Z"
   },
   {
    "duration": 385,
    "start_time": "2023-06-11T18:45:34.836Z"
   },
   {
    "duration": 7,
    "start_time": "2023-06-11T18:45:35.222Z"
   },
   {
    "duration": 115,
    "start_time": "2023-06-11T18:45:35.230Z"
   },
   {
    "duration": 28,
    "start_time": "2023-06-11T18:45:35.348Z"
   },
   {
    "duration": 39,
    "start_time": "2023-06-11T18:45:35.379Z"
   },
   {
    "duration": 27,
    "start_time": "2023-06-11T18:45:35.419Z"
   },
   {
    "duration": 51,
    "start_time": "2023-06-11T18:45:35.448Z"
   },
   {
    "duration": 60,
    "start_time": "2023-06-11T18:45:35.502Z"
   },
   {
    "duration": 71,
    "start_time": "2023-06-11T18:45:35.563Z"
   },
   {
    "duration": 63,
    "start_time": "2023-06-11T18:45:35.642Z"
   },
   {
    "duration": 16,
    "start_time": "2023-06-11T18:45:35.707Z"
   },
   {
    "duration": 33,
    "start_time": "2023-06-11T18:45:35.724Z"
   },
   {
    "duration": 15,
    "start_time": "2023-06-11T18:45:35.759Z"
   },
   {
    "duration": 22,
    "start_time": "2023-06-11T18:45:35.777Z"
   },
   {
    "duration": 43,
    "start_time": "2023-06-11T18:45:35.801Z"
   },
   {
    "duration": 23,
    "start_time": "2023-06-11T18:45:35.845Z"
   },
   {
    "duration": 42,
    "start_time": "2023-06-11T18:45:35.870Z"
   },
   {
    "duration": 19,
    "start_time": "2023-06-11T18:45:35.914Z"
   },
   {
    "duration": 35,
    "start_time": "2023-06-11T18:45:35.938Z"
   },
   {
    "duration": 35,
    "start_time": "2023-06-11T18:45:35.975Z"
   },
   {
    "duration": 39,
    "start_time": "2023-06-11T18:45:36.012Z"
   },
   {
    "duration": 25,
    "start_time": "2023-06-11T18:45:36.053Z"
   },
   {
    "duration": 16,
    "start_time": "2023-06-11T18:45:36.079Z"
   },
   {
    "duration": 41,
    "start_time": "2023-06-11T18:45:36.097Z"
   },
   {
    "duration": 33,
    "start_time": "2023-06-11T18:45:36.140Z"
   },
   {
    "duration": 14,
    "start_time": "2023-06-11T18:45:36.175Z"
   },
   {
    "duration": 10,
    "start_time": "2023-06-11T18:45:36.191Z"
   },
   {
    "duration": 12,
    "start_time": "2023-06-11T18:45:36.203Z"
   },
   {
    "duration": 18,
    "start_time": "2023-06-11T18:45:36.226Z"
   },
   {
    "duration": 361,
    "start_time": "2023-06-11T20:45:09.982Z"
   },
   {
    "duration": 14,
    "start_time": "2023-06-11T20:45:26.387Z"
   },
   {
    "duration": 412,
    "start_time": "2023-06-11T20:45:49.676Z"
   },
   {
    "duration": 152,
    "start_time": "2023-06-11T20:45:57.777Z"
   },
   {
    "duration": 96,
    "start_time": "2023-06-11T20:46:36.595Z"
   },
   {
    "duration": 11,
    "start_time": "2023-06-11T20:49:15.579Z"
   },
   {
    "duration": 1570,
    "start_time": "2023-06-11T20:50:47.243Z"
   },
   {
    "duration": 364,
    "start_time": "2023-06-11T20:51:29.337Z"
   },
   {
    "duration": 14,
    "start_time": "2023-06-11T20:51:30.082Z"
   },
   {
    "duration": 397,
    "start_time": "2023-06-11T20:56:51.714Z"
   },
   {
    "duration": 2,
    "start_time": "2023-06-11T20:56:52.113Z"
   },
   {
    "duration": 60,
    "start_time": "2023-06-11T20:56:52.117Z"
   },
   {
    "duration": 20,
    "start_time": "2023-06-11T20:56:52.179Z"
   },
   {
    "duration": 33,
    "start_time": "2023-06-11T20:56:52.201Z"
   },
   {
    "duration": 21,
    "start_time": "2023-06-11T20:56:52.235Z"
   },
   {
    "duration": 18,
    "start_time": "2023-06-11T20:56:52.257Z"
   },
   {
    "duration": 13,
    "start_time": "2023-06-11T20:56:52.277Z"
   },
   {
    "duration": 37,
    "start_time": "2023-06-11T20:56:52.292Z"
   },
   {
    "duration": 126,
    "start_time": "2023-06-11T20:56:52.330Z"
   },
   {
    "duration": 17,
    "start_time": "2023-06-11T20:56:52.458Z"
   },
   {
    "duration": 20,
    "start_time": "2023-06-11T20:56:52.477Z"
   },
   {
    "duration": 12,
    "start_time": "2023-06-11T20:56:52.499Z"
   },
   {
    "duration": 40,
    "start_time": "2023-06-11T20:56:52.514Z"
   },
   {
    "duration": 17,
    "start_time": "2023-06-11T20:56:52.556Z"
   },
   {
    "duration": 20,
    "start_time": "2023-06-11T20:56:52.574Z"
   },
   {
    "duration": 72,
    "start_time": "2023-06-11T20:56:52.595Z"
   },
   {
    "duration": 67,
    "start_time": "2023-06-11T20:56:52.669Z"
   },
   {
    "duration": 13,
    "start_time": "2023-06-11T20:56:52.737Z"
   },
   {
    "duration": 15,
    "start_time": "2023-06-11T20:56:52.751Z"
   },
   {
    "duration": 3,
    "start_time": "2023-06-11T20:56:52.768Z"
   },
   {
    "duration": 12,
    "start_time": "2023-06-11T20:56:52.772Z"
   },
   {
    "duration": 27,
    "start_time": "2023-06-11T20:56:52.786Z"
   },
   {
    "duration": 16,
    "start_time": "2023-06-11T20:56:52.823Z"
   },
   {
    "duration": 19,
    "start_time": "2023-06-11T20:56:52.841Z"
   },
   {
    "duration": 13,
    "start_time": "2023-06-11T20:56:52.862Z"
   },
   {
    "duration": 19,
    "start_time": "2023-06-11T20:56:52.876Z"
   },
   {
    "duration": 11,
    "start_time": "2023-06-11T20:56:52.897Z"
   },
   {
    "duration": 21,
    "start_time": "2023-06-11T20:56:52.910Z"
   },
   {
    "duration": 98,
    "start_time": "2023-06-11T20:56:52.933Z"
   },
   {
    "duration": 0,
    "start_time": "2023-06-11T20:56:53.032Z"
   },
   {
    "duration": 7,
    "start_time": "2023-06-11T20:57:01.105Z"
   },
   {
    "duration": 20,
    "start_time": "2023-06-11T20:57:03.034Z"
   },
   {
    "duration": 955,
    "start_time": "2023-06-11T20:59:11.842Z"
   },
   {
    "duration": 3,
    "start_time": "2023-06-11T21:02:46.351Z"
   },
   {
    "duration": 377,
    "start_time": "2023-06-11T21:03:55.435Z"
   },
   {
    "duration": 10,
    "start_time": "2023-06-11T21:03:55.815Z"
   },
   {
    "duration": 55,
    "start_time": "2023-06-11T21:03:55.832Z"
   },
   {
    "duration": 21,
    "start_time": "2023-06-11T21:03:55.889Z"
   },
   {
    "duration": 26,
    "start_time": "2023-06-11T21:03:55.913Z"
   },
   {
    "duration": 24,
    "start_time": "2023-06-11T21:03:55.941Z"
   },
   {
    "duration": 19,
    "start_time": "2023-06-11T21:03:55.966Z"
   },
   {
    "duration": 11,
    "start_time": "2023-06-11T21:03:55.986Z"
   },
   {
    "duration": 29,
    "start_time": "2023-06-11T21:03:55.999Z"
   },
   {
    "duration": 22,
    "start_time": "2023-06-11T21:03:56.029Z"
   },
   {
    "duration": 10,
    "start_time": "2023-06-11T21:03:56.053Z"
   },
   {
    "duration": 14,
    "start_time": "2023-06-11T21:03:56.064Z"
   },
   {
    "duration": 16,
    "start_time": "2023-06-11T21:03:56.079Z"
   },
   {
    "duration": 40,
    "start_time": "2023-06-11T21:03:56.098Z"
   },
   {
    "duration": 20,
    "start_time": "2023-06-11T21:03:56.140Z"
   },
   {
    "duration": 15,
    "start_time": "2023-06-11T21:03:56.162Z"
   },
   {
    "duration": 28,
    "start_time": "2023-06-11T21:03:56.178Z"
   },
   {
    "duration": 7,
    "start_time": "2023-06-11T21:03:56.207Z"
   },
   {
    "duration": 16,
    "start_time": "2023-06-11T21:03:56.230Z"
   },
   {
    "duration": 23,
    "start_time": "2023-06-11T21:03:56.247Z"
   },
   {
    "duration": 7,
    "start_time": "2023-06-11T21:03:56.271Z"
   },
   {
    "duration": 9,
    "start_time": "2023-06-11T21:03:56.279Z"
   },
   {
    "duration": 6,
    "start_time": "2023-06-11T21:03:56.290Z"
   },
   {
    "duration": 8,
    "start_time": "2023-06-11T21:03:56.298Z"
   },
   {
    "duration": 62,
    "start_time": "2023-06-11T21:03:56.307Z"
   },
   {
    "duration": 26,
    "start_time": "2023-06-11T21:03:56.370Z"
   },
   {
    "duration": 7,
    "start_time": "2023-06-11T21:03:56.397Z"
   },
   {
    "duration": 22,
    "start_time": "2023-06-11T21:03:56.406Z"
   },
   {
    "duration": 15,
    "start_time": "2023-06-11T21:03:56.430Z"
   },
   {
    "duration": 22,
    "start_time": "2023-06-11T21:03:56.447Z"
   },
   {
    "duration": 19,
    "start_time": "2023-06-11T21:03:56.470Z"
   },
   {
    "duration": 19,
    "start_time": "2023-06-11T21:03:56.491Z"
   },
   {
    "duration": 13,
    "start_time": "2023-06-11T21:04:10.997Z"
   },
   {
    "duration": 4,
    "start_time": "2023-06-11T21:07:33.541Z"
   },
   {
    "duration": 71,
    "start_time": "2023-06-11T21:08:29.732Z"
   },
   {
    "duration": 24,
    "start_time": "2023-06-11T21:14:09.306Z"
   },
   {
    "duration": 4,
    "start_time": "2023-06-11T21:18:08.801Z"
   },
   {
    "duration": 470,
    "start_time": "2023-06-11T21:18:52.712Z"
   },
   {
    "duration": 5,
    "start_time": "2023-06-11T21:19:06.635Z"
   },
   {
    "duration": 11,
    "start_time": "2023-06-11T21:19:15.744Z"
   },
   {
    "duration": 7,
    "start_time": "2023-06-11T21:20:31.840Z"
   },
   {
    "duration": 5,
    "start_time": "2023-06-11T21:21:09.937Z"
   },
   {
    "duration": 6,
    "start_time": "2023-06-11T21:21:11.456Z"
   },
   {
    "duration": 7,
    "start_time": "2023-06-11T21:21:14.567Z"
   },
   {
    "duration": 65,
    "start_time": "2023-06-11T21:41:16.641Z"
   },
   {
    "duration": 8,
    "start_time": "2023-06-11T21:42:17.570Z"
   },
   {
    "duration": 13,
    "start_time": "2023-06-11T21:42:31.858Z"
   },
   {
    "duration": 16,
    "start_time": "2023-06-11T21:43:03.139Z"
   },
   {
    "duration": 15,
    "start_time": "2023-06-11T21:43:15.889Z"
   },
   {
    "duration": 1641,
    "start_time": "2023-06-11T22:14:26.811Z"
   },
   {
    "duration": 3,
    "start_time": "2023-06-11T22:14:28.454Z"
   },
   {
    "duration": 45,
    "start_time": "2023-06-11T22:14:28.458Z"
   },
   {
    "duration": 34,
    "start_time": "2023-06-11T22:14:28.505Z"
   },
   {
    "duration": 25,
    "start_time": "2023-06-11T22:14:28.540Z"
   },
   {
    "duration": 19,
    "start_time": "2023-06-11T22:14:28.566Z"
   },
   {
    "duration": 43,
    "start_time": "2023-06-11T22:14:28.586Z"
   },
   {
    "duration": 21,
    "start_time": "2023-06-11T22:14:28.630Z"
   },
   {
    "duration": 12,
    "start_time": "2023-06-11T22:14:28.652Z"
   },
   {
    "duration": 42,
    "start_time": "2023-06-11T22:14:28.667Z"
   },
   {
    "duration": 28,
    "start_time": "2023-06-11T22:14:28.711Z"
   },
   {
    "duration": 14,
    "start_time": "2023-06-11T22:14:28.740Z"
   },
   {
    "duration": 16,
    "start_time": "2023-06-11T22:14:28.756Z"
   },
   {
    "duration": 17,
    "start_time": "2023-06-11T22:14:28.774Z"
   },
   {
    "duration": 43,
    "start_time": "2023-06-11T22:14:28.792Z"
   },
   {
    "duration": 31,
    "start_time": "2023-06-11T22:14:28.836Z"
   },
   {
    "duration": 31,
    "start_time": "2023-06-11T22:14:28.869Z"
   },
   {
    "duration": 8,
    "start_time": "2023-06-11T22:14:28.901Z"
   },
   {
    "duration": 35,
    "start_time": "2023-06-11T22:14:28.911Z"
   },
   {
    "duration": 25,
    "start_time": "2023-06-11T22:14:28.947Z"
   },
   {
    "duration": 3,
    "start_time": "2023-06-11T22:14:28.973Z"
   },
   {
    "duration": 5,
    "start_time": "2023-06-11T22:14:28.978Z"
   },
   {
    "duration": 6,
    "start_time": "2023-06-11T22:14:28.985Z"
   },
   {
    "duration": 14,
    "start_time": "2023-06-11T22:14:28.993Z"
   },
   {
    "duration": 39,
    "start_time": "2023-06-11T22:14:29.008Z"
   },
   {
    "duration": 10,
    "start_time": "2023-06-11T22:14:29.048Z"
   },
   {
    "duration": 7,
    "start_time": "2023-06-11T22:14:29.060Z"
   },
   {
    "duration": 11,
    "start_time": "2023-06-11T22:14:29.070Z"
   },
   {
    "duration": 7,
    "start_time": "2023-06-11T22:14:29.083Z"
   },
   {
    "duration": 10,
    "start_time": "2023-06-11T22:14:29.093Z"
   },
   {
    "duration": 24,
    "start_time": "2023-06-11T22:14:29.121Z"
   },
   {
    "duration": 9,
    "start_time": "2023-06-11T22:14:29.147Z"
   },
   {
    "duration": 4,
    "start_time": "2023-06-11T22:14:29.158Z"
   },
   {
    "duration": 20,
    "start_time": "2023-06-11T22:14:29.164Z"
   },
   {
    "duration": 8,
    "start_time": "2023-06-11T22:14:29.186Z"
   },
   {
    "duration": 16,
    "start_time": "2023-06-11T22:14:29.196Z"
   },
   {
    "duration": 28,
    "start_time": "2023-06-11T22:14:29.214Z"
   },
   {
    "duration": 18,
    "start_time": "2023-06-11T22:14:29.244Z"
   },
   {
    "duration": 23,
    "start_time": "2023-06-11T22:14:29.263Z"
   },
   {
    "duration": 108,
    "start_time": "2023-06-11T22:17:22.742Z"
   },
   {
    "duration": 5,
    "start_time": "2023-06-11T22:17:52.653Z"
   },
   {
    "duration": 746,
    "start_time": "2023-06-11T22:42:22.956Z"
   },
   {
    "duration": 1271,
    "start_time": "2023-06-11T22:44:38.128Z"
   },
   {
    "duration": 3,
    "start_time": "2023-06-11T22:44:39.400Z"
   },
   {
    "duration": 47,
    "start_time": "2023-06-11T22:44:39.404Z"
   },
   {
    "duration": 21,
    "start_time": "2023-06-11T22:44:39.453Z"
   },
   {
    "duration": 21,
    "start_time": "2023-06-11T22:44:39.476Z"
   },
   {
    "duration": 27,
    "start_time": "2023-06-11T22:44:39.498Z"
   },
   {
    "duration": 16,
    "start_time": "2023-06-11T22:44:39.526Z"
   },
   {
    "duration": 11,
    "start_time": "2023-06-11T22:44:39.543Z"
   },
   {
    "duration": 14,
    "start_time": "2023-06-11T22:44:39.556Z"
   },
   {
    "duration": 21,
    "start_time": "2023-06-11T22:44:39.571Z"
   },
   {
    "duration": 9,
    "start_time": "2023-06-11T22:44:39.593Z"
   },
   {
    "duration": 37,
    "start_time": "2023-06-11T22:44:39.603Z"
   },
   {
    "duration": 16,
    "start_time": "2023-06-11T22:44:39.641Z"
   },
   {
    "duration": 47,
    "start_time": "2023-06-11T22:44:39.660Z"
   },
   {
    "duration": 62,
    "start_time": "2023-06-11T22:44:39.709Z"
   },
   {
    "duration": 31,
    "start_time": "2023-06-11T22:44:39.772Z"
   },
   {
    "duration": 48,
    "start_time": "2023-06-11T22:44:39.805Z"
   },
   {
    "duration": 8,
    "start_time": "2023-06-11T22:44:39.855Z"
   },
   {
    "duration": 19,
    "start_time": "2023-06-11T22:44:39.864Z"
   },
   {
    "duration": 45,
    "start_time": "2023-06-11T22:44:39.884Z"
   },
   {
    "duration": 34,
    "start_time": "2023-06-11T22:44:39.932Z"
   },
   {
    "duration": 7,
    "start_time": "2023-06-11T22:44:39.968Z"
   },
   {
    "duration": 10,
    "start_time": "2023-06-11T22:44:39.976Z"
   },
   {
    "duration": 15,
    "start_time": "2023-06-11T22:44:39.987Z"
   },
   {
    "duration": 26,
    "start_time": "2023-06-11T22:44:40.003Z"
   },
   {
    "duration": 180,
    "start_time": "2023-06-11T22:44:40.031Z"
   },
   {
    "duration": 17,
    "start_time": "2023-06-11T22:44:40.213Z"
   },
   {
    "duration": 24,
    "start_time": "2023-06-11T22:44:40.232Z"
   },
   {
    "duration": 7,
    "start_time": "2023-06-11T22:44:40.257Z"
   },
   {
    "duration": 15,
    "start_time": "2023-06-11T22:44:40.265Z"
   },
   {
    "duration": 12,
    "start_time": "2023-06-11T22:44:40.281Z"
   },
   {
    "duration": 17,
    "start_time": "2023-06-11T22:44:40.294Z"
   },
   {
    "duration": 3,
    "start_time": "2023-06-11T22:44:40.312Z"
   },
   {
    "duration": 35,
    "start_time": "2023-06-11T22:44:40.316Z"
   },
   {
    "duration": 4,
    "start_time": "2023-06-11T22:44:40.353Z"
   },
   {
    "duration": 7,
    "start_time": "2023-06-11T22:44:40.358Z"
   },
   {
    "duration": 16,
    "start_time": "2023-06-11T22:44:40.366Z"
   },
   {
    "duration": 15,
    "start_time": "2023-06-11T22:44:40.383Z"
   },
   {
    "duration": 15,
    "start_time": "2023-06-11T22:44:40.399Z"
   },
   {
    "duration": 121,
    "start_time": "2023-06-11T22:44:40.415Z"
   },
   {
    "duration": 5,
    "start_time": "2023-06-11T22:44:40.540Z"
   },
   {
    "duration": 736,
    "start_time": "2023-06-11T22:44:40.547Z"
   },
   {
    "duration": 444,
    "start_time": "2023-06-11T22:55:54.474Z"
   },
   {
    "duration": 399,
    "start_time": "2023-06-11T22:57:24.984Z"
   },
   {
    "duration": 386,
    "start_time": "2023-06-11T22:59:26.999Z"
   },
   {
    "duration": 405,
    "start_time": "2023-06-11T23:07:58.292Z"
   },
   {
    "duration": 324,
    "start_time": "2023-06-11T23:08:23.396Z"
   },
   {
    "duration": 468,
    "start_time": "2023-06-11T23:08:35.729Z"
   },
   {
    "duration": 413,
    "start_time": "2023-06-11T23:09:51.996Z"
   },
   {
    "duration": 489,
    "start_time": "2023-06-11T23:12:33.211Z"
   },
   {
    "duration": 619,
    "start_time": "2023-06-11T23:16:37.650Z"
   },
   {
    "duration": 541,
    "start_time": "2023-06-11T23:16:54.393Z"
   },
   {
    "duration": 695,
    "start_time": "2023-06-11T23:17:06.361Z"
   },
   {
    "duration": 629,
    "start_time": "2023-06-11T23:17:16.836Z"
   },
   {
    "duration": 518,
    "start_time": "2023-06-11T23:17:31.242Z"
   },
   {
    "duration": 95,
    "start_time": "2023-06-11T23:32:04.044Z"
   },
   {
    "duration": 100,
    "start_time": "2023-06-11T23:33:32.127Z"
   },
   {
    "duration": 81,
    "start_time": "2023-06-11T23:36:03.147Z"
   },
   {
    "duration": 78,
    "start_time": "2023-06-11T23:36:14.187Z"
   },
   {
    "duration": 98,
    "start_time": "2023-06-11T23:36:26.431Z"
   },
   {
    "duration": 86,
    "start_time": "2023-06-11T23:36:34.810Z"
   },
   {
    "duration": 73,
    "start_time": "2023-06-11T23:36:42.531Z"
   },
   {
    "duration": 177,
    "start_time": "2023-06-11T23:43:35.931Z"
   },
   {
    "duration": 102,
    "start_time": "2023-06-11T23:43:46.571Z"
   },
   {
    "duration": 113,
    "start_time": "2023-06-11T23:43:59.631Z"
   },
   {
    "duration": 107,
    "start_time": "2023-06-11T23:44:12.176Z"
   },
   {
    "duration": 3,
    "start_time": "2023-06-11T23:49:10.776Z"
   },
   {
    "duration": 3,
    "start_time": "2023-06-11T23:49:42.431Z"
   },
   {
    "duration": 120,
    "start_time": "2023-06-11T23:50:52.390Z"
   },
   {
    "duration": 3,
    "start_time": "2023-06-11T23:51:38.662Z"
   },
   {
    "duration": 100,
    "start_time": "2023-06-11T23:51:39.158Z"
   },
   {
    "duration": 100,
    "start_time": "2023-06-11T23:51:48.909Z"
   },
   {
    "duration": 10,
    "start_time": "2023-06-11T23:54:16.581Z"
   },
   {
    "duration": 141,
    "start_time": "2023-06-11T23:54:59.772Z"
   },
   {
    "duration": 127,
    "start_time": "2023-06-11T23:55:28.780Z"
   },
   {
    "duration": 105,
    "start_time": "2023-06-11T23:55:40.771Z"
   },
   {
    "duration": 110,
    "start_time": "2023-06-11T23:55:54.987Z"
   },
   {
    "duration": 106,
    "start_time": "2023-06-11T23:56:00.460Z"
   },
   {
    "duration": 125,
    "start_time": "2023-06-11T23:56:04.212Z"
   },
   {
    "duration": 116,
    "start_time": "2023-06-11T23:56:47.172Z"
   },
   {
    "duration": 199,
    "start_time": "2023-06-11T23:59:39.242Z"
   },
   {
    "duration": 116,
    "start_time": "2023-06-11T23:59:43.175Z"
   },
   {
    "duration": 139,
    "start_time": "2023-06-12T00:02:31.146Z"
   },
   {
    "duration": 144,
    "start_time": "2023-06-12T00:02:31.985Z"
   },
   {
    "duration": 125,
    "start_time": "2023-06-12T00:04:21.674Z"
   },
   {
    "duration": 125,
    "start_time": "2023-06-12T00:04:22.272Z"
   },
   {
    "duration": 129,
    "start_time": "2023-06-12T00:06:04.833Z"
   },
   {
    "duration": 147,
    "start_time": "2023-06-12T00:06:05.185Z"
   },
   {
    "duration": 1347,
    "start_time": "2023-06-12T00:11:49.893Z"
   },
   {
    "duration": 2,
    "start_time": "2023-06-12T00:11:51.242Z"
   },
   {
    "duration": 55,
    "start_time": "2023-06-12T00:11:51.246Z"
   },
   {
    "duration": 35,
    "start_time": "2023-06-12T00:11:51.303Z"
   },
   {
    "duration": 23,
    "start_time": "2023-06-12T00:11:51.339Z"
   },
   {
    "duration": 18,
    "start_time": "2023-06-12T00:11:51.363Z"
   },
   {
    "duration": 20,
    "start_time": "2023-06-12T00:11:51.383Z"
   },
   {
    "duration": 25,
    "start_time": "2023-06-12T00:11:51.404Z"
   },
   {
    "duration": 12,
    "start_time": "2023-06-12T00:11:51.430Z"
   },
   {
    "duration": 20,
    "start_time": "2023-06-12T00:11:51.444Z"
   },
   {
    "duration": 9,
    "start_time": "2023-06-12T00:11:51.465Z"
   },
   {
    "duration": 22,
    "start_time": "2023-06-12T00:11:51.476Z"
   },
   {
    "duration": 34,
    "start_time": "2023-06-12T00:11:51.499Z"
   },
   {
    "duration": 22,
    "start_time": "2023-06-12T00:11:51.534Z"
   },
   {
    "duration": 14,
    "start_time": "2023-06-12T00:11:51.557Z"
   },
   {
    "duration": 15,
    "start_time": "2023-06-12T00:11:51.573Z"
   },
   {
    "duration": 48,
    "start_time": "2023-06-12T00:11:51.590Z"
   },
   {
    "duration": 9,
    "start_time": "2023-06-12T00:11:51.640Z"
   },
   {
    "duration": 14,
    "start_time": "2023-06-12T00:11:51.651Z"
   },
   {
    "duration": 23,
    "start_time": "2023-06-12T00:11:51.667Z"
   },
   {
    "duration": 3,
    "start_time": "2023-06-12T00:11:51.692Z"
   },
   {
    "duration": 11,
    "start_time": "2023-06-12T00:11:51.696Z"
   },
   {
    "duration": 6,
    "start_time": "2023-06-12T00:11:51.734Z"
   },
   {
    "duration": 4,
    "start_time": "2023-06-12T00:11:51.742Z"
   },
   {
    "duration": 17,
    "start_time": "2023-06-12T00:11:51.748Z"
   },
   {
    "duration": 12,
    "start_time": "2023-06-12T00:11:51.767Z"
   },
   {
    "duration": 8,
    "start_time": "2023-06-12T00:11:51.781Z"
   },
   {
    "duration": 11,
    "start_time": "2023-06-12T00:11:51.793Z"
   },
   {
    "duration": 16,
    "start_time": "2023-06-12T00:11:51.805Z"
   },
   {
    "duration": 9,
    "start_time": "2023-06-12T00:11:51.822Z"
   },
   {
    "duration": 9,
    "start_time": "2023-06-12T00:11:51.832Z"
   },
   {
    "duration": 12,
    "start_time": "2023-06-12T00:11:51.843Z"
   },
   {
    "duration": 9,
    "start_time": "2023-06-12T00:11:51.857Z"
   },
   {
    "duration": 15,
    "start_time": "2023-06-12T00:11:51.868Z"
   },
   {
    "duration": 6,
    "start_time": "2023-06-12T00:11:51.886Z"
   },
   {
    "duration": 11,
    "start_time": "2023-06-12T00:11:51.894Z"
   },
   {
    "duration": 15,
    "start_time": "2023-06-12T00:11:51.926Z"
   },
   {
    "duration": 32,
    "start_time": "2023-06-12T00:11:51.943Z"
   },
   {
    "duration": 20,
    "start_time": "2023-06-12T00:11:51.976Z"
   },
   {
    "duration": 123,
    "start_time": "2023-06-12T00:11:51.998Z"
   },
   {
    "duration": 6,
    "start_time": "2023-06-12T00:11:52.128Z"
   },
   {
    "duration": 395,
    "start_time": "2023-06-12T00:11:52.136Z"
   },
   {
    "duration": 660,
    "start_time": "2023-06-12T00:11:52.532Z"
   },
   {
    "duration": 141,
    "start_time": "2023-06-12T00:11:53.194Z"
   },
   {
    "duration": 117,
    "start_time": "2023-06-12T00:11:53.336Z"
   },
   {
    "duration": 114,
    "start_time": "2023-06-12T00:11:53.455Z"
   },
   {
    "duration": 123,
    "start_time": "2023-06-12T00:11:53.571Z"
   },
   {
    "duration": 145,
    "start_time": "2023-06-12T00:11:53.696Z"
   },
   {
    "duration": 203,
    "start_time": "2023-06-12T00:11:53.843Z"
   },
   {
    "duration": 124,
    "start_time": "2023-06-12T00:20:45.907Z"
   },
   {
    "duration": 412,
    "start_time": "2023-06-12T00:20:53.353Z"
   },
   {
    "duration": 0,
    "start_time": "2023-06-12T00:20:53.767Z"
   },
   {
    "duration": 0,
    "start_time": "2023-06-12T00:20:53.768Z"
   },
   {
    "duration": 0,
    "start_time": "2023-06-12T00:20:53.770Z"
   },
   {
    "duration": 0,
    "start_time": "2023-06-12T00:20:53.770Z"
   },
   {
    "duration": 0,
    "start_time": "2023-06-12T00:20:53.771Z"
   },
   {
    "duration": 0,
    "start_time": "2023-06-12T00:20:53.772Z"
   },
   {
    "duration": 0,
    "start_time": "2023-06-12T00:20:53.773Z"
   },
   {
    "duration": 0,
    "start_time": "2023-06-12T00:20:53.774Z"
   },
   {
    "duration": 0,
    "start_time": "2023-06-12T00:20:53.775Z"
   },
   {
    "duration": 0,
    "start_time": "2023-06-12T00:20:53.776Z"
   },
   {
    "duration": 0,
    "start_time": "2023-06-12T00:20:53.777Z"
   },
   {
    "duration": 0,
    "start_time": "2023-06-12T00:20:53.777Z"
   },
   {
    "duration": 0,
    "start_time": "2023-06-12T00:20:53.778Z"
   },
   {
    "duration": 0,
    "start_time": "2023-06-12T00:20:53.779Z"
   },
   {
    "duration": 0,
    "start_time": "2023-06-12T00:20:53.780Z"
   },
   {
    "duration": 0,
    "start_time": "2023-06-12T00:20:53.781Z"
   },
   {
    "duration": 0,
    "start_time": "2023-06-12T00:20:53.781Z"
   },
   {
    "duration": 0,
    "start_time": "2023-06-12T00:20:53.782Z"
   },
   {
    "duration": 0,
    "start_time": "2023-06-12T00:20:53.783Z"
   },
   {
    "duration": 0,
    "start_time": "2023-06-12T00:20:53.784Z"
   },
   {
    "duration": 0,
    "start_time": "2023-06-12T00:20:53.785Z"
   },
   {
    "duration": 0,
    "start_time": "2023-06-12T00:20:53.785Z"
   },
   {
    "duration": 0,
    "start_time": "2023-06-12T00:20:53.821Z"
   },
   {
    "duration": 0,
    "start_time": "2023-06-12T00:20:53.822Z"
   },
   {
    "duration": 0,
    "start_time": "2023-06-12T00:20:53.822Z"
   },
   {
    "duration": 0,
    "start_time": "2023-06-12T00:20:53.822Z"
   },
   {
    "duration": 0,
    "start_time": "2023-06-12T00:20:53.823Z"
   },
   {
    "duration": 0,
    "start_time": "2023-06-12T00:20:53.823Z"
   },
   {
    "duration": 0,
    "start_time": "2023-06-12T00:20:53.824Z"
   },
   {
    "duration": 0,
    "start_time": "2023-06-12T00:20:53.824Z"
   },
   {
    "duration": 0,
    "start_time": "2023-06-12T00:20:53.825Z"
   },
   {
    "duration": 0,
    "start_time": "2023-06-12T00:20:53.825Z"
   },
   {
    "duration": 0,
    "start_time": "2023-06-12T00:20:53.826Z"
   },
   {
    "duration": 0,
    "start_time": "2023-06-12T00:20:53.826Z"
   },
   {
    "duration": 0,
    "start_time": "2023-06-12T00:20:53.826Z"
   },
   {
    "duration": 0,
    "start_time": "2023-06-12T00:20:53.827Z"
   },
   {
    "duration": 0,
    "start_time": "2023-06-12T00:20:53.827Z"
   },
   {
    "duration": 0,
    "start_time": "2023-06-12T00:20:53.828Z"
   },
   {
    "duration": 0,
    "start_time": "2023-06-12T00:20:53.828Z"
   },
   {
    "duration": 0,
    "start_time": "2023-06-12T00:20:53.829Z"
   },
   {
    "duration": 0,
    "start_time": "2023-06-12T00:20:53.829Z"
   },
   {
    "duration": 0,
    "start_time": "2023-06-12T00:20:53.830Z"
   },
   {
    "duration": 0,
    "start_time": "2023-06-12T00:20:53.830Z"
   },
   {
    "duration": 0,
    "start_time": "2023-06-12T00:20:53.831Z"
   },
   {
    "duration": 0,
    "start_time": "2023-06-12T00:20:53.831Z"
   },
   {
    "duration": 0,
    "start_time": "2023-06-12T00:20:53.832Z"
   },
   {
    "duration": 0,
    "start_time": "2023-06-12T00:20:53.832Z"
   },
   {
    "duration": 0,
    "start_time": "2023-06-12T00:20:53.836Z"
   },
   {
    "duration": 0,
    "start_time": "2023-06-12T00:20:53.840Z"
   },
   {
    "duration": 424,
    "start_time": "2023-06-12T00:21:15.934Z"
   },
   {
    "duration": 0,
    "start_time": "2023-06-12T00:21:16.360Z"
   },
   {
    "duration": 0,
    "start_time": "2023-06-12T00:21:16.361Z"
   },
   {
    "duration": 0,
    "start_time": "2023-06-12T00:21:16.362Z"
   },
   {
    "duration": 0,
    "start_time": "2023-06-12T00:21:16.364Z"
   },
   {
    "duration": 0,
    "start_time": "2023-06-12T00:21:16.364Z"
   },
   {
    "duration": 0,
    "start_time": "2023-06-12T00:21:16.365Z"
   },
   {
    "duration": 0,
    "start_time": "2023-06-12T00:21:16.366Z"
   },
   {
    "duration": 0,
    "start_time": "2023-06-12T00:21:16.367Z"
   },
   {
    "duration": 0,
    "start_time": "2023-06-12T00:21:16.367Z"
   },
   {
    "duration": 0,
    "start_time": "2023-06-12T00:21:16.368Z"
   },
   {
    "duration": 0,
    "start_time": "2023-06-12T00:21:16.369Z"
   },
   {
    "duration": 0,
    "start_time": "2023-06-12T00:21:16.370Z"
   },
   {
    "duration": 0,
    "start_time": "2023-06-12T00:21:16.370Z"
   },
   {
    "duration": 0,
    "start_time": "2023-06-12T00:21:16.371Z"
   },
   {
    "duration": 0,
    "start_time": "2023-06-12T00:21:16.371Z"
   },
   {
    "duration": 0,
    "start_time": "2023-06-12T00:21:16.372Z"
   },
   {
    "duration": 0,
    "start_time": "2023-06-12T00:21:16.374Z"
   },
   {
    "duration": 0,
    "start_time": "2023-06-12T00:21:16.375Z"
   },
   {
    "duration": 0,
    "start_time": "2023-06-12T00:21:16.376Z"
   },
   {
    "duration": 0,
    "start_time": "2023-06-12T00:21:16.377Z"
   },
   {
    "duration": 0,
    "start_time": "2023-06-12T00:21:16.378Z"
   },
   {
    "duration": 0,
    "start_time": "2023-06-12T00:21:16.379Z"
   },
   {
    "duration": 0,
    "start_time": "2023-06-12T00:21:16.380Z"
   },
   {
    "duration": 0,
    "start_time": "2023-06-12T00:21:16.381Z"
   },
   {
    "duration": 0,
    "start_time": "2023-06-12T00:21:16.382Z"
   },
   {
    "duration": 0,
    "start_time": "2023-06-12T00:21:16.425Z"
   },
   {
    "duration": 0,
    "start_time": "2023-06-12T00:21:16.426Z"
   },
   {
    "duration": 0,
    "start_time": "2023-06-12T00:21:16.427Z"
   },
   {
    "duration": 0,
    "start_time": "2023-06-12T00:21:16.428Z"
   },
   {
    "duration": 0,
    "start_time": "2023-06-12T00:21:16.428Z"
   },
   {
    "duration": 0,
    "start_time": "2023-06-12T00:21:16.429Z"
   },
   {
    "duration": 0,
    "start_time": "2023-06-12T00:21:16.430Z"
   },
   {
    "duration": 0,
    "start_time": "2023-06-12T00:21:16.430Z"
   },
   {
    "duration": 0,
    "start_time": "2023-06-12T00:21:16.431Z"
   },
   {
    "duration": 0,
    "start_time": "2023-06-12T00:21:16.432Z"
   },
   {
    "duration": 0,
    "start_time": "2023-06-12T00:21:16.434Z"
   },
   {
    "duration": 0,
    "start_time": "2023-06-12T00:21:16.434Z"
   },
   {
    "duration": 0,
    "start_time": "2023-06-12T00:21:16.435Z"
   },
   {
    "duration": 0,
    "start_time": "2023-06-12T00:21:16.437Z"
   },
   {
    "duration": 0,
    "start_time": "2023-06-12T00:21:16.437Z"
   },
   {
    "duration": 0,
    "start_time": "2023-06-12T00:21:16.438Z"
   },
   {
    "duration": 0,
    "start_time": "2023-06-12T00:21:16.439Z"
   },
   {
    "duration": 0,
    "start_time": "2023-06-12T00:21:16.440Z"
   },
   {
    "duration": 0,
    "start_time": "2023-06-12T00:21:16.441Z"
   },
   {
    "duration": 0,
    "start_time": "2023-06-12T00:21:16.442Z"
   },
   {
    "duration": 0,
    "start_time": "2023-06-12T00:21:16.443Z"
   },
   {
    "duration": 0,
    "start_time": "2023-06-12T00:21:16.444Z"
   },
   {
    "duration": 0,
    "start_time": "2023-06-12T00:21:16.445Z"
   },
   {
    "duration": 0,
    "start_time": "2023-06-12T00:21:16.446Z"
   },
   {
    "duration": 426,
    "start_time": "2023-06-12T00:21:45.748Z"
   },
   {
    "duration": 0,
    "start_time": "2023-06-12T00:21:46.177Z"
   },
   {
    "duration": 0,
    "start_time": "2023-06-12T00:21:46.178Z"
   },
   {
    "duration": 0,
    "start_time": "2023-06-12T00:21:46.179Z"
   },
   {
    "duration": 0,
    "start_time": "2023-06-12T00:21:46.180Z"
   },
   {
    "duration": 0,
    "start_time": "2023-06-12T00:21:46.181Z"
   },
   {
    "duration": 0,
    "start_time": "2023-06-12T00:21:46.182Z"
   },
   {
    "duration": 0,
    "start_time": "2023-06-12T00:21:46.184Z"
   },
   {
    "duration": 0,
    "start_time": "2023-06-12T00:21:46.185Z"
   },
   {
    "duration": 0,
    "start_time": "2023-06-12T00:21:46.186Z"
   },
   {
    "duration": 0,
    "start_time": "2023-06-12T00:21:46.187Z"
   },
   {
    "duration": 0,
    "start_time": "2023-06-12T00:21:46.188Z"
   },
   {
    "duration": 0,
    "start_time": "2023-06-12T00:21:46.189Z"
   },
   {
    "duration": 0,
    "start_time": "2023-06-12T00:21:46.216Z"
   },
   {
    "duration": 0,
    "start_time": "2023-06-12T00:21:46.221Z"
   },
   {
    "duration": 0,
    "start_time": "2023-06-12T00:21:46.221Z"
   },
   {
    "duration": 0,
    "start_time": "2023-06-12T00:21:46.222Z"
   },
   {
    "duration": 0,
    "start_time": "2023-06-12T00:21:46.222Z"
   },
   {
    "duration": 0,
    "start_time": "2023-06-12T00:21:46.223Z"
   },
   {
    "duration": 0,
    "start_time": "2023-06-12T00:21:46.223Z"
   },
   {
    "duration": 0,
    "start_time": "2023-06-12T00:21:46.224Z"
   },
   {
    "duration": 0,
    "start_time": "2023-06-12T00:21:46.224Z"
   },
   {
    "duration": 0,
    "start_time": "2023-06-12T00:21:46.225Z"
   },
   {
    "duration": 0,
    "start_time": "2023-06-12T00:21:46.227Z"
   },
   {
    "duration": 0,
    "start_time": "2023-06-12T00:21:46.229Z"
   },
   {
    "duration": 0,
    "start_time": "2023-06-12T00:21:46.231Z"
   },
   {
    "duration": 0,
    "start_time": "2023-06-12T00:21:46.232Z"
   },
   {
    "duration": 0,
    "start_time": "2023-06-12T00:21:46.233Z"
   },
   {
    "duration": 0,
    "start_time": "2023-06-12T00:21:46.235Z"
   },
   {
    "duration": 0,
    "start_time": "2023-06-12T00:21:46.235Z"
   },
   {
    "duration": 0,
    "start_time": "2023-06-12T00:21:46.237Z"
   },
   {
    "duration": 0,
    "start_time": "2023-06-12T00:21:46.238Z"
   },
   {
    "duration": 0,
    "start_time": "2023-06-12T00:21:46.239Z"
   },
   {
    "duration": 0,
    "start_time": "2023-06-12T00:21:46.240Z"
   },
   {
    "duration": 0,
    "start_time": "2023-06-12T00:21:46.241Z"
   },
   {
    "duration": 0,
    "start_time": "2023-06-12T00:21:46.242Z"
   },
   {
    "duration": 0,
    "start_time": "2023-06-12T00:21:46.243Z"
   },
   {
    "duration": 0,
    "start_time": "2023-06-12T00:21:46.244Z"
   },
   {
    "duration": 0,
    "start_time": "2023-06-12T00:21:46.244Z"
   },
   {
    "duration": 0,
    "start_time": "2023-06-12T00:21:46.245Z"
   },
   {
    "duration": 0,
    "start_time": "2023-06-12T00:21:46.246Z"
   },
   {
    "duration": 0,
    "start_time": "2023-06-12T00:21:46.247Z"
   },
   {
    "duration": 0,
    "start_time": "2023-06-12T00:21:46.248Z"
   },
   {
    "duration": 0,
    "start_time": "2023-06-12T00:21:46.249Z"
   },
   {
    "duration": 0,
    "start_time": "2023-06-12T00:21:46.250Z"
   },
   {
    "duration": 0,
    "start_time": "2023-06-12T00:21:46.250Z"
   },
   {
    "duration": 0,
    "start_time": "2023-06-12T00:21:46.251Z"
   },
   {
    "duration": 0,
    "start_time": "2023-06-12T00:21:46.252Z"
   },
   {
    "duration": 0,
    "start_time": "2023-06-12T00:21:46.253Z"
   },
   {
    "duration": 0,
    "start_time": "2023-06-12T00:21:46.254Z"
   },
   {
    "duration": 4555,
    "start_time": "2023-06-12T00:29:29.697Z"
   },
   {
    "duration": 3,
    "start_time": "2023-06-12T00:29:34.254Z"
   },
   {
    "duration": 48,
    "start_time": "2023-06-12T00:29:34.259Z"
   },
   {
    "duration": 30,
    "start_time": "2023-06-12T00:29:34.309Z"
   },
   {
    "duration": 22,
    "start_time": "2023-06-12T00:29:34.340Z"
   },
   {
    "duration": 18,
    "start_time": "2023-06-12T00:29:34.363Z"
   },
   {
    "duration": 15,
    "start_time": "2023-06-12T00:29:34.383Z"
   },
   {
    "duration": 11,
    "start_time": "2023-06-12T00:29:34.400Z"
   },
   {
    "duration": 25,
    "start_time": "2023-06-12T00:29:34.413Z"
   },
   {
    "duration": 20,
    "start_time": "2023-06-12T00:29:34.440Z"
   },
   {
    "duration": 8,
    "start_time": "2023-06-12T00:29:34.461Z"
   },
   {
    "duration": 19,
    "start_time": "2023-06-12T00:29:34.470Z"
   },
   {
    "duration": 10,
    "start_time": "2023-06-12T00:29:34.490Z"
   },
   {
    "duration": 28,
    "start_time": "2023-06-12T00:29:34.502Z"
   },
   {
    "duration": 11,
    "start_time": "2023-06-12T00:29:34.532Z"
   },
   {
    "duration": 12,
    "start_time": "2023-06-12T00:29:34.545Z"
   },
   {
    "duration": 24,
    "start_time": "2023-06-12T00:29:34.558Z"
   },
   {
    "duration": 6,
    "start_time": "2023-06-12T00:29:34.583Z"
   },
   {
    "duration": 12,
    "start_time": "2023-06-12T00:29:34.590Z"
   },
   {
    "duration": 32,
    "start_time": "2023-06-12T00:29:34.603Z"
   },
   {
    "duration": 6,
    "start_time": "2023-06-12T00:29:34.636Z"
   },
   {
    "duration": 5,
    "start_time": "2023-06-12T00:29:34.644Z"
   },
   {
    "duration": 7,
    "start_time": "2023-06-12T00:29:34.650Z"
   },
   {
    "duration": 5,
    "start_time": "2023-06-12T00:29:34.658Z"
   },
   {
    "duration": 29,
    "start_time": "2023-06-12T00:29:34.664Z"
   },
   {
    "duration": 8,
    "start_time": "2023-06-12T00:29:34.694Z"
   },
   {
    "duration": 22,
    "start_time": "2023-06-12T00:29:34.703Z"
   },
   {
    "duration": 9,
    "start_time": "2023-06-12T00:29:34.729Z"
   },
   {
    "duration": 5,
    "start_time": "2023-06-12T00:29:34.739Z"
   },
   {
    "duration": 5,
    "start_time": "2023-06-12T00:29:34.745Z"
   },
   {
    "duration": 5,
    "start_time": "2023-06-12T00:29:34.751Z"
   },
   {
    "duration": 21,
    "start_time": "2023-06-12T00:29:34.758Z"
   },
   {
    "duration": 7,
    "start_time": "2023-06-12T00:29:34.781Z"
   },
   {
    "duration": 18,
    "start_time": "2023-06-12T00:29:34.790Z"
   },
   {
    "duration": 4,
    "start_time": "2023-06-12T00:29:34.810Z"
   },
   {
    "duration": 21,
    "start_time": "2023-06-12T00:29:34.815Z"
   },
   {
    "duration": 12,
    "start_time": "2023-06-12T00:29:34.837Z"
   },
   {
    "duration": 20,
    "start_time": "2023-06-12T00:29:34.850Z"
   },
   {
    "duration": 14,
    "start_time": "2023-06-12T00:29:34.872Z"
   },
   {
    "duration": 103,
    "start_time": "2023-06-12T00:29:34.888Z"
   },
   {
    "duration": 5,
    "start_time": "2023-06-12T00:29:34.993Z"
   },
   {
    "duration": 401,
    "start_time": "2023-06-12T00:29:34.999Z"
   },
   {
    "duration": 663,
    "start_time": "2023-06-12T00:29:35.402Z"
   },
   {
    "duration": 118,
    "start_time": "2023-06-12T00:29:36.067Z"
   },
   {
    "duration": 102,
    "start_time": "2023-06-12T00:29:36.187Z"
   },
   {
    "duration": 116,
    "start_time": "2023-06-12T00:29:36.291Z"
   },
   {
    "duration": 123,
    "start_time": "2023-06-12T00:29:36.408Z"
   },
   {
    "duration": 127,
    "start_time": "2023-06-12T00:29:36.533Z"
   },
   {
    "duration": 187,
    "start_time": "2023-06-12T00:29:36.662Z"
   },
   {
    "duration": 133,
    "start_time": "2023-06-12T00:29:36.851Z"
   },
   {
    "duration": 12,
    "start_time": "2023-06-12T00:31:06.793Z"
   },
   {
    "duration": 11,
    "start_time": "2023-06-12T00:31:23.977Z"
   },
   {
    "duration": 3525,
    "start_time": "2023-06-12T00:31:46.328Z"
   },
   {
    "duration": 3,
    "start_time": "2023-06-12T00:31:49.854Z"
   },
   {
    "duration": 78,
    "start_time": "2023-06-12T00:31:49.858Z"
   },
   {
    "duration": 21,
    "start_time": "2023-06-12T00:31:49.938Z"
   },
   {
    "duration": 47,
    "start_time": "2023-06-12T00:31:49.961Z"
   },
   {
    "duration": 42,
    "start_time": "2023-06-12T00:31:50.010Z"
   },
   {
    "duration": 91,
    "start_time": "2023-06-12T00:31:50.053Z"
   },
   {
    "duration": 11,
    "start_time": "2023-06-12T00:31:50.146Z"
   },
   {
    "duration": 12,
    "start_time": "2023-06-12T00:31:50.159Z"
   },
   {
    "duration": 21,
    "start_time": "2023-06-12T00:31:50.173Z"
   },
   {
    "duration": 24,
    "start_time": "2023-06-12T00:31:50.196Z"
   },
   {
    "duration": 10,
    "start_time": "2023-06-12T00:31:50.230Z"
   },
   {
    "duration": 9,
    "start_time": "2023-06-12T00:31:50.242Z"
   },
   {
    "duration": 14,
    "start_time": "2023-06-12T00:31:50.254Z"
   },
   {
    "duration": 11,
    "start_time": "2023-06-12T00:31:50.270Z"
   },
   {
    "duration": 11,
    "start_time": "2023-06-12T00:31:50.283Z"
   },
   {
    "duration": 49,
    "start_time": "2023-06-12T00:31:50.295Z"
   },
   {
    "duration": 8,
    "start_time": "2023-06-12T00:31:50.346Z"
   },
   {
    "duration": 8,
    "start_time": "2023-06-12T00:31:50.356Z"
   },
   {
    "duration": 28,
    "start_time": "2023-06-12T00:31:50.366Z"
   },
   {
    "duration": 13,
    "start_time": "2023-06-12T00:31:50.396Z"
   },
   {
    "duration": 11,
    "start_time": "2023-06-12T00:31:50.410Z"
   },
   {
    "duration": 3,
    "start_time": "2023-06-12T00:31:50.422Z"
   },
   {
    "duration": 11,
    "start_time": "2023-06-12T00:31:50.430Z"
   },
   {
    "duration": 12,
    "start_time": "2023-06-12T00:31:50.443Z"
   },
   {
    "duration": 10,
    "start_time": "2023-06-12T00:31:50.456Z"
   },
   {
    "duration": 7,
    "start_time": "2023-06-12T00:31:50.467Z"
   },
   {
    "duration": 8,
    "start_time": "2023-06-12T00:31:50.475Z"
   },
   {
    "duration": 15,
    "start_time": "2023-06-12T00:31:50.484Z"
   },
   {
    "duration": 26,
    "start_time": "2023-06-12T00:31:50.500Z"
   },
   {
    "duration": 8,
    "start_time": "2023-06-12T00:31:50.527Z"
   },
   {
    "duration": 12,
    "start_time": "2023-06-12T00:31:50.537Z"
   },
   {
    "duration": 4,
    "start_time": "2023-06-12T00:31:50.550Z"
   },
   {
    "duration": 18,
    "start_time": "2023-06-12T00:31:50.556Z"
   },
   {
    "duration": 4,
    "start_time": "2023-06-12T00:31:50.575Z"
   },
   {
    "duration": 13,
    "start_time": "2023-06-12T00:31:50.580Z"
   },
   {
    "duration": 20,
    "start_time": "2023-06-12T00:31:50.595Z"
   },
   {
    "duration": 24,
    "start_time": "2023-06-12T00:31:50.617Z"
   },
   {
    "duration": 15,
    "start_time": "2023-06-12T00:31:50.642Z"
   },
   {
    "duration": 117,
    "start_time": "2023-06-12T00:31:50.658Z"
   },
   {
    "duration": 5,
    "start_time": "2023-06-12T00:31:50.779Z"
   },
   {
    "duration": 390,
    "start_time": "2023-06-12T00:31:50.785Z"
   },
   {
    "duration": 675,
    "start_time": "2023-06-12T00:31:51.176Z"
   },
   {
    "duration": 125,
    "start_time": "2023-06-12T00:31:51.853Z"
   },
   {
    "duration": 116,
    "start_time": "2023-06-12T00:31:51.980Z"
   },
   {
    "duration": 114,
    "start_time": "2023-06-12T00:31:52.098Z"
   },
   {
    "duration": 125,
    "start_time": "2023-06-12T00:31:52.215Z"
   },
   {
    "duration": 199,
    "start_time": "2023-06-12T00:31:52.342Z"
   },
   {
    "duration": 122,
    "start_time": "2023-06-12T00:31:52.543Z"
   },
   {
    "duration": 22172,
    "start_time": "2023-06-12T00:31:52.666Z"
   },
   {
    "duration": 20555,
    "start_time": "2023-06-12T00:36:00.334Z"
   },
   {
    "duration": 22337,
    "start_time": "2023-06-12T00:36:38.552Z"
   },
   {
    "duration": 22191,
    "start_time": "2023-06-12T00:37:13.238Z"
   },
   {
    "duration": 22461,
    "start_time": "2023-06-12T00:38:04.798Z"
   },
   {
    "duration": 5,
    "start_time": "2023-06-12T00:48:54.443Z"
   },
   {
    "duration": 18,
    "start_time": "2023-06-12T00:49:06.410Z"
   },
   {
    "duration": 8,
    "start_time": "2023-06-12T01:09:27.877Z"
   },
   {
    "duration": 110,
    "start_time": "2023-06-12T01:14:44.834Z"
   },
   {
    "duration": 4,
    "start_time": "2023-06-12T01:14:50.473Z"
   },
   {
    "duration": 4,
    "start_time": "2023-06-12T01:14:54.429Z"
   },
   {
    "duration": 6,
    "start_time": "2023-06-12T01:16:36.081Z"
   },
   {
    "duration": 14,
    "start_time": "2023-06-12T01:17:23.712Z"
   },
   {
    "duration": 18,
    "start_time": "2023-06-12T01:17:24.312Z"
   },
   {
    "duration": 8,
    "start_time": "2023-06-12T01:17:25.326Z"
   },
   {
    "duration": 4,
    "start_time": "2023-06-12T01:18:09.136Z"
   },
   {
    "duration": 3,
    "start_time": "2023-06-12T01:18:09.384Z"
   },
   {
    "duration": 7,
    "start_time": "2023-06-12T01:26:48.414Z"
   },
   {
    "duration": 8,
    "start_time": "2023-06-12T01:27:24.174Z"
   },
   {
    "duration": 3434,
    "start_time": "2023-06-12T01:27:34.767Z"
   },
   {
    "duration": 3,
    "start_time": "2023-06-12T01:27:38.203Z"
   },
   {
    "duration": 59,
    "start_time": "2023-06-12T01:27:38.207Z"
   },
   {
    "duration": 22,
    "start_time": "2023-06-12T01:27:38.268Z"
   },
   {
    "duration": 22,
    "start_time": "2023-06-12T01:27:38.291Z"
   },
   {
    "duration": 24,
    "start_time": "2023-06-12T01:27:38.321Z"
   },
   {
    "duration": 20,
    "start_time": "2023-06-12T01:27:38.347Z"
   },
   {
    "duration": 12,
    "start_time": "2023-06-12T01:27:38.369Z"
   },
   {
    "duration": 25,
    "start_time": "2023-06-12T01:27:38.383Z"
   },
   {
    "duration": 27,
    "start_time": "2023-06-12T01:27:38.411Z"
   },
   {
    "duration": 12,
    "start_time": "2023-06-12T01:27:38.440Z"
   },
   {
    "duration": 19,
    "start_time": "2023-06-12T01:27:38.454Z"
   },
   {
    "duration": 19,
    "start_time": "2023-06-12T01:27:38.474Z"
   },
   {
    "duration": 25,
    "start_time": "2023-06-12T01:27:38.494Z"
   },
   {
    "duration": 23,
    "start_time": "2023-06-12T01:27:38.523Z"
   },
   {
    "duration": 24,
    "start_time": "2023-06-12T01:27:38.548Z"
   },
   {
    "duration": 53,
    "start_time": "2023-06-12T01:27:38.574Z"
   },
   {
    "duration": 10,
    "start_time": "2023-06-12T01:27:38.628Z"
   },
   {
    "duration": 12,
    "start_time": "2023-06-12T01:27:38.640Z"
   },
   {
    "duration": 34,
    "start_time": "2023-06-12T01:27:38.653Z"
   },
   {
    "duration": 3,
    "start_time": "2023-06-12T01:27:38.689Z"
   },
   {
    "duration": 11,
    "start_time": "2023-06-12T01:27:38.694Z"
   },
   {
    "duration": 14,
    "start_time": "2023-06-12T01:27:38.707Z"
   },
   {
    "duration": 16,
    "start_time": "2023-06-12T01:27:38.722Z"
   },
   {
    "duration": 18,
    "start_time": "2023-06-12T01:27:38.740Z"
   },
   {
    "duration": 10,
    "start_time": "2023-06-12T01:27:38.760Z"
   },
   {
    "duration": 11,
    "start_time": "2023-06-12T01:27:38.771Z"
   },
   {
    "duration": 8,
    "start_time": "2023-06-12T01:27:38.786Z"
   },
   {
    "duration": 7,
    "start_time": "2023-06-12T01:27:38.796Z"
   },
   {
    "duration": 26,
    "start_time": "2023-06-12T01:27:38.804Z"
   },
   {
    "duration": 14,
    "start_time": "2023-06-12T01:27:38.831Z"
   },
   {
    "duration": 15,
    "start_time": "2023-06-12T01:27:38.846Z"
   },
   {
    "duration": 14,
    "start_time": "2023-06-12T01:27:38.863Z"
   },
   {
    "duration": 34,
    "start_time": "2023-06-12T01:27:38.878Z"
   },
   {
    "duration": 24,
    "start_time": "2023-06-12T01:27:38.913Z"
   },
   {
    "duration": 10,
    "start_time": "2023-06-12T01:27:38.938Z"
   },
   {
    "duration": 17,
    "start_time": "2023-06-12T01:27:38.949Z"
   },
   {
    "duration": 18,
    "start_time": "2023-06-12T01:27:38.968Z"
   },
   {
    "duration": 15,
    "start_time": "2023-06-12T01:27:38.987Z"
   },
   {
    "duration": 129,
    "start_time": "2023-06-12T01:27:39.003Z"
   },
   {
    "duration": 6,
    "start_time": "2023-06-12T01:27:39.133Z"
   },
   {
    "duration": 392,
    "start_time": "2023-06-12T01:27:39.141Z"
   },
   {
    "duration": 672,
    "start_time": "2023-06-12T01:27:39.535Z"
   },
   {
    "duration": 136,
    "start_time": "2023-06-12T01:27:40.209Z"
   },
   {
    "duration": 117,
    "start_time": "2023-06-12T01:27:40.347Z"
   },
   {
    "duration": 120,
    "start_time": "2023-06-12T01:27:40.466Z"
   },
   {
    "duration": 184,
    "start_time": "2023-06-12T01:27:40.588Z"
   },
   {
    "duration": 131,
    "start_time": "2023-06-12T01:27:40.773Z"
   },
   {
    "duration": 137,
    "start_time": "2023-06-12T01:27:40.906Z"
   },
   {
    "duration": 22367,
    "start_time": "2023-06-12T01:27:41.044Z"
   },
   {
    "duration": 7,
    "start_time": "2023-06-12T01:28:03.412Z"
   },
   {
    "duration": 36,
    "start_time": "2023-06-12T01:28:03.420Z"
   },
   {
    "duration": 9,
    "start_time": "2023-06-12T01:28:03.457Z"
   },
   {
    "duration": 34,
    "start_time": "2023-06-12T01:28:03.467Z"
   },
   {
    "duration": 12,
    "start_time": "2023-06-12T01:28:03.502Z"
   },
   {
    "duration": 21,
    "start_time": "2023-06-12T01:28:03.521Z"
   },
   {
    "duration": 20,
    "start_time": "2023-06-12T01:28:03.543Z"
   },
   {
    "duration": 17,
    "start_time": "2023-06-12T01:28:03.564Z"
   },
   {
    "duration": 124,
    "start_time": "2023-06-12T01:28:03.582Z"
   },
   {
    "duration": 22,
    "start_time": "2023-06-12T01:28:14.327Z"
   },
   {
    "duration": 17,
    "start_time": "2023-06-12T01:28:25.093Z"
   },
   {
    "duration": 14,
    "start_time": "2023-06-12T01:28:34.381Z"
   },
   {
    "duration": 23,
    "start_time": "2023-06-12T01:30:27.556Z"
   },
   {
    "duration": 13,
    "start_time": "2023-06-12T01:30:42.427Z"
   },
   {
    "duration": 77,
    "start_time": "2023-06-12T01:30:51.205Z"
   },
   {
    "duration": 14,
    "start_time": "2023-06-12T01:30:52.548Z"
   },
   {
    "duration": 3470,
    "start_time": "2023-06-12T01:31:04.565Z"
   },
   {
    "duration": 2,
    "start_time": "2023-06-12T01:31:08.037Z"
   },
   {
    "duration": 58,
    "start_time": "2023-06-12T01:31:08.040Z"
   },
   {
    "duration": 36,
    "start_time": "2023-06-12T01:31:08.100Z"
   },
   {
    "duration": 22,
    "start_time": "2023-06-12T01:31:08.138Z"
   },
   {
    "duration": 17,
    "start_time": "2023-06-12T01:31:08.162Z"
   },
   {
    "duration": 15,
    "start_time": "2023-06-12T01:31:08.181Z"
   },
   {
    "duration": 13,
    "start_time": "2023-06-12T01:31:08.197Z"
   },
   {
    "duration": 18,
    "start_time": "2023-06-12T01:31:08.211Z"
   },
   {
    "duration": 24,
    "start_time": "2023-06-12T01:31:08.231Z"
   },
   {
    "duration": 8,
    "start_time": "2023-06-12T01:31:08.257Z"
   },
   {
    "duration": 16,
    "start_time": "2023-06-12T01:31:08.266Z"
   },
   {
    "duration": 18,
    "start_time": "2023-06-12T01:31:08.284Z"
   },
   {
    "duration": 32,
    "start_time": "2023-06-12T01:31:08.303Z"
   },
   {
    "duration": 10,
    "start_time": "2023-06-12T01:31:08.336Z"
   },
   {
    "duration": 14,
    "start_time": "2023-06-12T01:31:08.348Z"
   },
   {
    "duration": 34,
    "start_time": "2023-06-12T01:31:08.363Z"
   },
   {
    "duration": 8,
    "start_time": "2023-06-12T01:31:08.399Z"
   },
   {
    "duration": 15,
    "start_time": "2023-06-12T01:31:08.415Z"
   },
   {
    "duration": 16,
    "start_time": "2023-06-12T01:31:08.432Z"
   },
   {
    "duration": 2,
    "start_time": "2023-06-12T01:31:08.450Z"
   },
   {
    "duration": 13,
    "start_time": "2023-06-12T01:31:08.454Z"
   },
   {
    "duration": 6,
    "start_time": "2023-06-12T01:31:08.468Z"
   },
   {
    "duration": 11,
    "start_time": "2023-06-12T01:31:08.475Z"
   },
   {
    "duration": 27,
    "start_time": "2023-06-12T01:31:08.487Z"
   },
   {
    "duration": 15,
    "start_time": "2023-06-12T01:31:08.524Z"
   },
   {
    "duration": 8,
    "start_time": "2023-06-12T01:31:08.541Z"
   },
   {
    "duration": 10,
    "start_time": "2023-06-12T01:31:08.552Z"
   },
   {
    "duration": 7,
    "start_time": "2023-06-12T01:31:08.563Z"
   },
   {
    "duration": 7,
    "start_time": "2023-06-12T01:31:08.571Z"
   },
   {
    "duration": 7,
    "start_time": "2023-06-12T01:31:08.579Z"
   },
   {
    "duration": 11,
    "start_time": "2023-06-12T01:31:08.587Z"
   },
   {
    "duration": 43,
    "start_time": "2023-06-12T01:31:08.599Z"
   },
   {
    "duration": 42,
    "start_time": "2023-06-12T01:31:08.644Z"
   },
   {
    "duration": 25,
    "start_time": "2023-06-12T01:31:08.687Z"
   },
   {
    "duration": 33,
    "start_time": "2023-06-12T01:31:08.714Z"
   },
   {
    "duration": 16,
    "start_time": "2023-06-12T01:31:08.749Z"
   },
   {
    "duration": 17,
    "start_time": "2023-06-12T01:31:08.767Z"
   },
   {
    "duration": 16,
    "start_time": "2023-06-12T01:31:08.786Z"
   },
   {
    "duration": 20,
    "start_time": "2023-06-12T01:31:08.804Z"
   },
   {
    "duration": 17,
    "start_time": "2023-06-12T01:31:08.826Z"
   },
   {
    "duration": 114,
    "start_time": "2023-06-12T01:31:08.844Z"
   },
   {
    "duration": 6,
    "start_time": "2023-06-12T01:31:08.959Z"
   },
   {
    "duration": 384,
    "start_time": "2023-06-12T01:31:08.966Z"
   },
   {
    "duration": 690,
    "start_time": "2023-06-12T01:31:09.352Z"
   },
   {
    "duration": 114,
    "start_time": "2023-06-12T01:31:10.043Z"
   },
   {
    "duration": 120,
    "start_time": "2023-06-12T01:31:10.159Z"
   },
   {
    "duration": 126,
    "start_time": "2023-06-12T01:31:10.281Z"
   },
   {
    "duration": 186,
    "start_time": "2023-06-12T01:31:10.409Z"
   },
   {
    "duration": 143,
    "start_time": "2023-06-12T01:31:10.597Z"
   },
   {
    "duration": 126,
    "start_time": "2023-06-12T01:31:10.743Z"
   },
   {
    "duration": 22328,
    "start_time": "2023-06-12T01:31:10.871Z"
   },
   {
    "duration": 5,
    "start_time": "2023-06-12T01:31:33.200Z"
   },
   {
    "duration": 21,
    "start_time": "2023-06-12T01:31:33.221Z"
   },
   {
    "duration": 6,
    "start_time": "2023-06-12T01:31:33.244Z"
   },
   {
    "duration": 36,
    "start_time": "2023-06-12T01:31:33.252Z"
   },
   {
    "duration": 46,
    "start_time": "2023-06-12T01:31:33.289Z"
   },
   {
    "duration": 51,
    "start_time": "2023-06-12T01:31:33.337Z"
   },
   {
    "duration": 22,
    "start_time": "2023-06-12T01:31:33.389Z"
   },
   {
    "duration": 25,
    "start_time": "2023-06-12T01:31:33.412Z"
   },
   {
    "duration": 10,
    "start_time": "2023-06-12T01:31:33.438Z"
   },
   {
    "duration": 14,
    "start_time": "2023-06-12T01:31:45.521Z"
   },
   {
    "duration": 9,
    "start_time": "2023-06-12T01:32:23.773Z"
   },
   {
    "duration": 13,
    "start_time": "2023-06-12T01:32:24.964Z"
   },
   {
    "duration": 5,
    "start_time": "2023-06-12T01:33:33.498Z"
   },
   {
    "duration": 131,
    "start_time": "2023-06-12T01:33:41.594Z"
   },
   {
    "duration": 3319,
    "start_time": "2023-06-12T01:33:50.345Z"
   },
   {
    "duration": 2,
    "start_time": "2023-06-12T01:33:53.666Z"
   },
   {
    "duration": 66,
    "start_time": "2023-06-12T01:33:53.669Z"
   },
   {
    "duration": 20,
    "start_time": "2023-06-12T01:33:53.737Z"
   },
   {
    "duration": 23,
    "start_time": "2023-06-12T01:33:53.759Z"
   },
   {
    "duration": 19,
    "start_time": "2023-06-12T01:33:53.783Z"
   },
   {
    "duration": 26,
    "start_time": "2023-06-12T01:33:53.803Z"
   },
   {
    "duration": 13,
    "start_time": "2023-06-12T01:33:53.831Z"
   },
   {
    "duration": 12,
    "start_time": "2023-06-12T01:33:53.845Z"
   },
   {
    "duration": 33,
    "start_time": "2023-06-12T01:33:53.859Z"
   },
   {
    "duration": 10,
    "start_time": "2023-06-12T01:33:53.893Z"
   },
   {
    "duration": 15,
    "start_time": "2023-06-12T01:33:53.921Z"
   },
   {
    "duration": 25,
    "start_time": "2023-06-12T01:33:53.938Z"
   },
   {
    "duration": 15,
    "start_time": "2023-06-12T01:33:53.967Z"
   },
   {
    "duration": 12,
    "start_time": "2023-06-12T01:33:53.983Z"
   },
   {
    "duration": 33,
    "start_time": "2023-06-12T01:33:53.997Z"
   },
   {
    "duration": 30,
    "start_time": "2023-06-12T01:33:54.032Z"
   },
   {
    "duration": 7,
    "start_time": "2023-06-12T01:33:54.063Z"
   },
   {
    "duration": 15,
    "start_time": "2023-06-12T01:33:54.072Z"
   },
   {
    "duration": 20,
    "start_time": "2023-06-12T01:33:54.088Z"
   },
   {
    "duration": 3,
    "start_time": "2023-06-12T01:33:54.109Z"
   },
   {
    "duration": 33,
    "start_time": "2023-06-12T01:33:54.117Z"
   },
   {
    "duration": 13,
    "start_time": "2023-06-12T01:33:54.152Z"
   },
   {
    "duration": 5,
    "start_time": "2023-06-12T01:33:54.166Z"
   },
   {
    "duration": 13,
    "start_time": "2023-06-12T01:33:54.172Z"
   },
   {
    "duration": 9,
    "start_time": "2023-06-12T01:33:54.186Z"
   },
   {
    "duration": 6,
    "start_time": "2023-06-12T01:33:54.197Z"
   },
   {
    "duration": 22,
    "start_time": "2023-06-12T01:33:54.204Z"
   },
   {
    "duration": 20,
    "start_time": "2023-06-12T01:33:54.227Z"
   },
   {
    "duration": 19,
    "start_time": "2023-06-12T01:33:54.249Z"
   },
   {
    "duration": 14,
    "start_time": "2023-06-12T01:33:54.270Z"
   },
   {
    "duration": 11,
    "start_time": "2023-06-12T01:33:54.286Z"
   },
   {
    "duration": 39,
    "start_time": "2023-06-12T01:33:54.298Z"
   },
   {
    "duration": 17,
    "start_time": "2023-06-12T01:33:54.339Z"
   },
   {
    "duration": 18,
    "start_time": "2023-06-12T01:33:54.357Z"
   },
   {
    "duration": 31,
    "start_time": "2023-06-12T01:33:54.377Z"
   },
   {
    "duration": 37,
    "start_time": "2023-06-12T01:33:54.410Z"
   },
   {
    "duration": 19,
    "start_time": "2023-06-12T01:33:54.449Z"
   },
   {
    "duration": 15,
    "start_time": "2023-06-12T01:33:54.469Z"
   },
   {
    "duration": 28,
    "start_time": "2023-06-12T01:33:54.485Z"
   },
   {
    "duration": 18,
    "start_time": "2023-06-12T01:33:54.517Z"
   },
   {
    "duration": 125,
    "start_time": "2023-06-12T01:33:54.536Z"
   },
   {
    "duration": 5,
    "start_time": "2023-06-12T01:33:54.662Z"
   },
   {
    "duration": 417,
    "start_time": "2023-06-12T01:33:54.669Z"
   },
   {
    "duration": 703,
    "start_time": "2023-06-12T01:33:55.088Z"
   },
   {
    "duration": 145,
    "start_time": "2023-06-12T01:33:55.792Z"
   },
   {
    "duration": 123,
    "start_time": "2023-06-12T01:33:55.939Z"
   },
   {
    "duration": 121,
    "start_time": "2023-06-12T01:33:56.064Z"
   },
   {
    "duration": 203,
    "start_time": "2023-06-12T01:33:56.187Z"
   },
   {
    "duration": 148,
    "start_time": "2023-06-12T01:33:56.392Z"
   },
   {
    "duration": 125,
    "start_time": "2023-06-12T01:33:56.542Z"
   },
   {
    "duration": 22210,
    "start_time": "2023-06-12T01:33:56.669Z"
   },
   {
    "duration": 4,
    "start_time": "2023-06-12T01:34:18.880Z"
   },
   {
    "duration": 10,
    "start_time": "2023-06-12T01:34:18.885Z"
   },
   {
    "duration": 25,
    "start_time": "2023-06-12T01:34:18.896Z"
   },
   {
    "duration": 11,
    "start_time": "2023-06-12T01:34:18.922Z"
   },
   {
    "duration": 10,
    "start_time": "2023-06-12T01:34:18.935Z"
   },
   {
    "duration": 13,
    "start_time": "2023-06-12T01:34:18.946Z"
   },
   {
    "duration": 14,
    "start_time": "2023-06-12T01:34:18.961Z"
   },
   {
    "duration": 11,
    "start_time": "2023-06-12T01:34:18.977Z"
   },
   {
    "duration": 8,
    "start_time": "2023-06-12T01:34:18.990Z"
   },
   {
    "duration": 20,
    "start_time": "2023-06-12T01:34:18.999Z"
   },
   {
    "duration": 66,
    "start_time": "2023-06-12T01:34:48.964Z"
   },
   {
    "duration": 33,
    "start_time": "2023-06-12T01:34:59.210Z"
   },
   {
    "duration": 3405,
    "start_time": "2023-06-12T01:35:50.430Z"
   },
   {
    "duration": 2,
    "start_time": "2023-06-12T01:35:53.837Z"
   },
   {
    "duration": 50,
    "start_time": "2023-06-12T01:35:53.840Z"
   },
   {
    "duration": 20,
    "start_time": "2023-06-12T01:35:53.891Z"
   },
   {
    "duration": 24,
    "start_time": "2023-06-12T01:35:53.913Z"
   },
   {
    "duration": 21,
    "start_time": "2023-06-12T01:35:53.938Z"
   },
   {
    "duration": 15,
    "start_time": "2023-06-12T01:35:53.960Z"
   },
   {
    "duration": 14,
    "start_time": "2023-06-12T01:35:53.977Z"
   },
   {
    "duration": 9,
    "start_time": "2023-06-12T01:35:53.992Z"
   },
   {
    "duration": 28,
    "start_time": "2023-06-12T01:35:54.003Z"
   },
   {
    "duration": 8,
    "start_time": "2023-06-12T01:35:54.033Z"
   },
   {
    "duration": 12,
    "start_time": "2023-06-12T01:35:54.043Z"
   },
   {
    "duration": 12,
    "start_time": "2023-06-12T01:35:54.056Z"
   },
   {
    "duration": 14,
    "start_time": "2023-06-12T01:35:54.071Z"
   },
   {
    "duration": 14,
    "start_time": "2023-06-12T01:35:54.087Z"
   },
   {
    "duration": 27,
    "start_time": "2023-06-12T01:35:54.103Z"
   },
   {
    "duration": 25,
    "start_time": "2023-06-12T01:35:54.131Z"
   },
   {
    "duration": 12,
    "start_time": "2023-06-12T01:35:54.157Z"
   },
   {
    "duration": 12,
    "start_time": "2023-06-12T01:35:54.170Z"
   },
   {
    "duration": 30,
    "start_time": "2023-06-12T01:35:54.183Z"
   },
   {
    "duration": 20,
    "start_time": "2023-06-12T01:35:54.214Z"
   },
   {
    "duration": 6,
    "start_time": "2023-06-12T01:35:54.235Z"
   },
   {
    "duration": 13,
    "start_time": "2023-06-12T01:35:54.242Z"
   },
   {
    "duration": 5,
    "start_time": "2023-06-12T01:35:54.256Z"
   },
   {
    "duration": 18,
    "start_time": "2023-06-12T01:35:54.262Z"
   },
   {
    "duration": 13,
    "start_time": "2023-06-12T01:35:54.281Z"
   },
   {
    "duration": 9,
    "start_time": "2023-06-12T01:35:54.295Z"
   },
   {
    "duration": 31,
    "start_time": "2023-06-12T01:35:54.306Z"
   },
   {
    "duration": 43,
    "start_time": "2023-06-12T01:35:54.338Z"
   },
   {
    "duration": 14,
    "start_time": "2023-06-12T01:35:54.382Z"
   },
   {
    "duration": 6,
    "start_time": "2023-06-12T01:35:54.397Z"
   },
   {
    "duration": 25,
    "start_time": "2023-06-12T01:35:54.405Z"
   },
   {
    "duration": 7,
    "start_time": "2023-06-12T01:35:54.431Z"
   },
   {
    "duration": 18,
    "start_time": "2023-06-12T01:35:54.439Z"
   },
   {
    "duration": 3,
    "start_time": "2023-06-12T01:35:54.459Z"
   },
   {
    "duration": 8,
    "start_time": "2023-06-12T01:35:54.464Z"
   },
   {
    "duration": 13,
    "start_time": "2023-06-12T01:35:54.474Z"
   },
   {
    "duration": 19,
    "start_time": "2023-06-12T01:35:54.488Z"
   },
   {
    "duration": 21,
    "start_time": "2023-06-12T01:35:54.509Z"
   },
   {
    "duration": 13,
    "start_time": "2023-06-12T01:35:54.534Z"
   },
   {
    "duration": 15,
    "start_time": "2023-06-12T01:35:54.550Z"
   },
   {
    "duration": 126,
    "start_time": "2023-06-12T01:35:54.566Z"
   },
   {
    "duration": 6,
    "start_time": "2023-06-12T01:35:54.693Z"
   },
   {
    "duration": 387,
    "start_time": "2023-06-12T01:35:54.700Z"
   },
   {
    "duration": 744,
    "start_time": "2023-06-12T01:35:55.088Z"
   },
   {
    "duration": 110,
    "start_time": "2023-06-12T01:35:55.834Z"
   },
   {
    "duration": 120,
    "start_time": "2023-06-12T01:35:55.945Z"
   },
   {
    "duration": 119,
    "start_time": "2023-06-12T01:35:56.067Z"
   },
   {
    "duration": 195,
    "start_time": "2023-06-12T01:35:56.187Z"
   },
   {
    "duration": 153,
    "start_time": "2023-06-12T01:35:56.384Z"
   },
   {
    "duration": 133,
    "start_time": "2023-06-12T01:35:56.539Z"
   },
   {
    "duration": 22772,
    "start_time": "2023-06-12T01:35:56.673Z"
   },
   {
    "duration": 4,
    "start_time": "2023-06-12T01:36:19.446Z"
   },
   {
    "duration": 11,
    "start_time": "2023-06-12T01:36:19.452Z"
   },
   {
    "duration": 9,
    "start_time": "2023-06-12T01:36:19.464Z"
   },
   {
    "duration": 7,
    "start_time": "2023-06-12T01:36:19.475Z"
   },
   {
    "duration": 9,
    "start_time": "2023-06-12T01:36:19.484Z"
   },
   {
    "duration": 34,
    "start_time": "2023-06-12T01:36:19.494Z"
   },
   {
    "duration": 6,
    "start_time": "2023-06-12T01:36:19.530Z"
   },
   {
    "duration": 8,
    "start_time": "2023-06-12T01:36:19.537Z"
   },
   {
    "duration": 120,
    "start_time": "2023-06-12T01:36:19.546Z"
   },
   {
    "duration": 0,
    "start_time": "2023-06-12T01:36:19.667Z"
   },
   {
    "duration": 0,
    "start_time": "2023-06-12T01:36:19.669Z"
   },
   {
    "duration": 3644,
    "start_time": "2023-06-12T01:36:35.935Z"
   },
   {
    "duration": 3,
    "start_time": "2023-06-12T01:36:39.581Z"
   },
   {
    "duration": 71,
    "start_time": "2023-06-12T01:36:39.585Z"
   },
   {
    "duration": 20,
    "start_time": "2023-06-12T01:36:39.658Z"
   },
   {
    "duration": 21,
    "start_time": "2023-06-12T01:36:39.680Z"
   },
   {
    "duration": 37,
    "start_time": "2023-06-12T01:36:39.702Z"
   },
   {
    "duration": 22,
    "start_time": "2023-06-12T01:36:39.740Z"
   },
   {
    "duration": 16,
    "start_time": "2023-06-12T01:36:39.764Z"
   },
   {
    "duration": 15,
    "start_time": "2023-06-12T01:36:39.782Z"
   },
   {
    "duration": 27,
    "start_time": "2023-06-12T01:36:39.800Z"
   },
   {
    "duration": 10,
    "start_time": "2023-06-12T01:36:39.828Z"
   },
   {
    "duration": 37,
    "start_time": "2023-06-12T01:36:39.840Z"
   },
   {
    "duration": 11,
    "start_time": "2023-06-12T01:36:39.878Z"
   },
   {
    "duration": 22,
    "start_time": "2023-06-12T01:36:39.891Z"
   },
   {
    "duration": 30,
    "start_time": "2023-06-12T01:36:39.914Z"
   },
   {
    "duration": 15,
    "start_time": "2023-06-12T01:36:39.945Z"
   },
   {
    "duration": 31,
    "start_time": "2023-06-12T01:36:39.961Z"
   },
   {
    "duration": 10,
    "start_time": "2023-06-12T01:36:39.994Z"
   },
   {
    "duration": 45,
    "start_time": "2023-06-12T01:36:40.006Z"
   },
   {
    "duration": 47,
    "start_time": "2023-06-12T01:36:40.053Z"
   },
   {
    "duration": 3,
    "start_time": "2023-06-12T01:36:40.102Z"
   },
   {
    "duration": 23,
    "start_time": "2023-06-12T01:36:40.107Z"
   },
   {
    "duration": 5,
    "start_time": "2023-06-12T01:36:40.131Z"
   },
   {
    "duration": 6,
    "start_time": "2023-06-12T01:36:40.137Z"
   },
   {
    "duration": 14,
    "start_time": "2023-06-12T01:36:40.145Z"
   },
   {
    "duration": 10,
    "start_time": "2023-06-12T01:36:40.161Z"
   },
   {
    "duration": 15,
    "start_time": "2023-06-12T01:36:40.173Z"
   },
   {
    "duration": 9,
    "start_time": "2023-06-12T01:36:40.192Z"
   },
   {
    "duration": 27,
    "start_time": "2023-06-12T01:36:40.202Z"
   },
   {
    "duration": 6,
    "start_time": "2023-06-12T01:36:40.231Z"
   },
   {
    "duration": 12,
    "start_time": "2023-06-12T01:36:40.239Z"
   },
   {
    "duration": 15,
    "start_time": "2023-06-12T01:36:40.252Z"
   },
   {
    "duration": 14,
    "start_time": "2023-06-12T01:36:40.269Z"
   },
   {
    "duration": 22,
    "start_time": "2023-06-12T01:36:40.284Z"
   },
   {
    "duration": 25,
    "start_time": "2023-06-12T01:36:40.307Z"
   },
   {
    "duration": 22,
    "start_time": "2023-06-12T01:36:40.333Z"
   },
   {
    "duration": 34,
    "start_time": "2023-06-12T01:36:40.356Z"
   },
   {
    "duration": 37,
    "start_time": "2023-06-12T01:36:40.392Z"
   },
   {
    "duration": 30,
    "start_time": "2023-06-12T01:36:40.430Z"
   },
   {
    "duration": 18,
    "start_time": "2023-06-12T01:36:40.461Z"
   },
   {
    "duration": 28,
    "start_time": "2023-06-12T01:36:40.480Z"
   },
   {
    "duration": 124,
    "start_time": "2023-06-12T01:36:40.509Z"
   },
   {
    "duration": 5,
    "start_time": "2023-06-12T01:36:40.635Z"
   },
   {
    "duration": 397,
    "start_time": "2023-06-12T01:36:40.641Z"
   },
   {
    "duration": 718,
    "start_time": "2023-06-12T01:36:41.039Z"
   },
   {
    "duration": 123,
    "start_time": "2023-06-12T01:36:41.759Z"
   },
   {
    "duration": 128,
    "start_time": "2023-06-12T01:36:41.884Z"
   },
   {
    "duration": 127,
    "start_time": "2023-06-12T01:36:42.013Z"
   },
   {
    "duration": 192,
    "start_time": "2023-06-12T01:36:42.142Z"
   },
   {
    "duration": 116,
    "start_time": "2023-06-12T01:36:42.335Z"
   },
   {
    "duration": 125,
    "start_time": "2023-06-12T01:36:42.452Z"
   },
   {
    "duration": 21754,
    "start_time": "2023-06-12T01:36:42.578Z"
   },
   {
    "duration": 4,
    "start_time": "2023-06-12T01:37:04.334Z"
   },
   {
    "duration": 10,
    "start_time": "2023-06-12T01:37:04.339Z"
   },
   {
    "duration": 12,
    "start_time": "2023-06-12T01:37:04.350Z"
   },
   {
    "duration": 14,
    "start_time": "2023-06-12T01:37:04.363Z"
   },
   {
    "duration": 6,
    "start_time": "2023-06-12T01:37:04.378Z"
   },
   {
    "duration": 4,
    "start_time": "2023-06-12T01:37:04.386Z"
   },
   {
    "duration": 11,
    "start_time": "2023-06-12T01:37:04.391Z"
   },
   {
    "duration": 29,
    "start_time": "2023-06-12T01:37:04.403Z"
   },
   {
    "duration": 16,
    "start_time": "2023-06-12T01:37:04.434Z"
   },
   {
    "duration": 130,
    "start_time": "2023-06-12T01:37:04.451Z"
   },
   {
    "duration": 0,
    "start_time": "2023-06-12T01:37:04.583Z"
   },
   {
    "duration": 32,
    "start_time": "2023-06-12T01:38:34.298Z"
   },
   {
    "duration": 11,
    "start_time": "2023-06-12T01:38:44.931Z"
   },
   {
    "duration": 3318,
    "start_time": "2023-06-12T01:39:43.590Z"
   },
   {
    "duration": 3,
    "start_time": "2023-06-12T01:39:46.909Z"
   },
   {
    "duration": 59,
    "start_time": "2023-06-12T01:39:46.913Z"
   },
   {
    "duration": 21,
    "start_time": "2023-06-12T01:39:46.974Z"
   },
   {
    "duration": 32,
    "start_time": "2023-06-12T01:39:46.997Z"
   },
   {
    "duration": 18,
    "start_time": "2023-06-12T01:39:47.030Z"
   },
   {
    "duration": 16,
    "start_time": "2023-06-12T01:39:47.050Z"
   },
   {
    "duration": 10,
    "start_time": "2023-06-12T01:39:47.068Z"
   },
   {
    "duration": 10,
    "start_time": "2023-06-12T01:39:47.080Z"
   },
   {
    "duration": 29,
    "start_time": "2023-06-12T01:39:47.092Z"
   },
   {
    "duration": 12,
    "start_time": "2023-06-12T01:39:47.122Z"
   },
   {
    "duration": 9,
    "start_time": "2023-06-12T01:39:47.135Z"
   },
   {
    "duration": 18,
    "start_time": "2023-06-12T01:39:47.146Z"
   },
   {
    "duration": 13,
    "start_time": "2023-06-12T01:39:47.165Z"
   },
   {
    "duration": 18,
    "start_time": "2023-06-12T01:39:47.179Z"
   },
   {
    "duration": 35,
    "start_time": "2023-06-12T01:39:47.199Z"
   },
   {
    "duration": 39,
    "start_time": "2023-06-12T01:39:47.235Z"
   },
   {
    "duration": 7,
    "start_time": "2023-06-12T01:39:47.276Z"
   },
   {
    "duration": 12,
    "start_time": "2023-06-12T01:39:47.285Z"
   },
   {
    "duration": 35,
    "start_time": "2023-06-12T01:39:47.299Z"
   },
   {
    "duration": 16,
    "start_time": "2023-06-12T01:39:47.336Z"
   },
   {
    "duration": 14,
    "start_time": "2023-06-12T01:39:47.353Z"
   },
   {
    "duration": 12,
    "start_time": "2023-06-12T01:39:47.368Z"
   },
   {
    "duration": 9,
    "start_time": "2023-06-12T01:39:47.381Z"
   },
   {
    "duration": 15,
    "start_time": "2023-06-12T01:39:47.391Z"
   },
   {
    "duration": 21,
    "start_time": "2023-06-12T01:39:47.408Z"
   },
   {
    "duration": 12,
    "start_time": "2023-06-12T01:39:47.431Z"
   },
   {
    "duration": 14,
    "start_time": "2023-06-12T01:39:47.446Z"
   },
   {
    "duration": 15,
    "start_time": "2023-06-12T01:39:47.461Z"
   },
   {
    "duration": 6,
    "start_time": "2023-06-12T01:39:47.478Z"
   },
   {
    "duration": 6,
    "start_time": "2023-06-12T01:39:47.486Z"
   },
   {
    "duration": 10,
    "start_time": "2023-06-12T01:39:47.494Z"
   },
   {
    "duration": 4,
    "start_time": "2023-06-12T01:39:47.506Z"
   },
   {
    "duration": 34,
    "start_time": "2023-06-12T01:39:47.511Z"
   },
   {
    "duration": 5,
    "start_time": "2023-06-12T01:39:47.546Z"
   },
   {
    "duration": 5,
    "start_time": "2023-06-12T01:39:47.553Z"
   },
   {
    "duration": 19,
    "start_time": "2023-06-12T01:39:47.559Z"
   },
   {
    "duration": 16,
    "start_time": "2023-06-12T01:39:47.579Z"
   },
   {
    "duration": 14,
    "start_time": "2023-06-12T01:39:47.597Z"
   },
   {
    "duration": 17,
    "start_time": "2023-06-12T01:39:47.625Z"
   },
   {
    "duration": 15,
    "start_time": "2023-06-12T01:39:47.644Z"
   },
   {
    "duration": 107,
    "start_time": "2023-06-12T01:39:47.660Z"
   },
   {
    "duration": 5,
    "start_time": "2023-06-12T01:39:47.769Z"
   },
   {
    "duration": 372,
    "start_time": "2023-06-12T01:39:47.776Z"
   },
   {
    "duration": 625,
    "start_time": "2023-06-12T01:39:48.150Z"
   },
   {
    "duration": 123,
    "start_time": "2023-06-12T01:39:48.777Z"
   },
   {
    "duration": 115,
    "start_time": "2023-06-12T01:39:48.902Z"
   },
   {
    "duration": 117,
    "start_time": "2023-06-12T01:39:49.026Z"
   },
   {
    "duration": 199,
    "start_time": "2023-06-12T01:39:49.145Z"
   },
   {
    "duration": 130,
    "start_time": "2023-06-12T01:39:49.346Z"
   },
   {
    "duration": 135,
    "start_time": "2023-06-12T01:39:49.478Z"
   },
   {
    "duration": 21620,
    "start_time": "2023-06-12T01:39:49.615Z"
   },
   {
    "duration": 4,
    "start_time": "2023-06-12T01:40:11.237Z"
   },
   {
    "duration": 12,
    "start_time": "2023-06-12T01:40:11.243Z"
   },
   {
    "duration": 6,
    "start_time": "2023-06-12T01:40:11.256Z"
   },
   {
    "duration": 7,
    "start_time": "2023-06-12T01:40:11.263Z"
   },
   {
    "duration": 6,
    "start_time": "2023-06-12T01:40:11.272Z"
   },
   {
    "duration": 4,
    "start_time": "2023-06-12T01:40:11.279Z"
   },
   {
    "duration": 10,
    "start_time": "2023-06-12T01:40:11.285Z"
   },
   {
    "duration": 9,
    "start_time": "2023-06-12T01:40:11.321Z"
   },
   {
    "duration": 9,
    "start_time": "2023-06-12T01:40:11.331Z"
   },
   {
    "duration": 48,
    "start_time": "2023-06-12T01:40:11.342Z"
   },
   {
    "duration": 20,
    "start_time": "2023-06-12T01:40:11.391Z"
   },
   {
    "duration": 21,
    "start_time": "2023-06-12T01:40:43.985Z"
   },
   {
    "duration": 3,
    "start_time": "2023-06-12T01:42:27.841Z"
   },
   {
    "duration": 6,
    "start_time": "2023-06-12T01:42:36.249Z"
   },
   {
    "duration": 16,
    "start_time": "2023-06-12T01:42:48.418Z"
   },
   {
    "duration": 124,
    "start_time": "2023-06-12T01:48:52.331Z"
   },
   {
    "duration": 13,
    "start_time": "2023-06-12T01:49:14.470Z"
   },
   {
    "duration": 3,
    "start_time": "2023-06-12T01:49:35.599Z"
   },
   {
    "duration": 3,
    "start_time": "2023-06-12T01:59:10.693Z"
   },
   {
    "duration": 109,
    "start_time": "2023-06-12T01:59:11.482Z"
   },
   {
    "duration": 3,
    "start_time": "2023-06-12T02:01:17.675Z"
   },
   {
    "duration": 800,
    "start_time": "2023-06-12T02:01:18.204Z"
   },
   {
    "duration": 3,
    "start_time": "2023-06-12T02:01:28.794Z"
   },
   {
    "duration": 3,
    "start_time": "2023-06-12T02:02:12.251Z"
   },
   {
    "duration": 140,
    "start_time": "2023-06-12T02:02:13.299Z"
   },
   {
    "duration": 3,
    "start_time": "2023-06-12T02:02:56.802Z"
   },
   {
    "duration": 70096,
    "start_time": "2023-06-12T02:02:57.466Z"
   },
   {
    "duration": 3,
    "start_time": "2023-06-12T02:06:36.537Z"
   },
   {
    "duration": 2,
    "start_time": "2023-06-12T02:08:04.666Z"
   },
   {
    "duration": 2763,
    "start_time": "2023-06-12T02:08:38.137Z"
   },
   {
    "duration": 3,
    "start_time": "2023-06-12T02:09:04.433Z"
   },
   {
    "duration": 104706,
    "start_time": "2023-06-12T02:09:04.961Z"
   },
   {
    "duration": 3,
    "start_time": "2023-06-12T02:14:32.303Z"
   },
   {
    "duration": 5,
    "start_time": "2023-06-12T02:14:33.325Z"
   },
   {
    "duration": 4815,
    "start_time": "2023-06-12T02:14:38.310Z"
   },
   {
    "duration": 3488,
    "start_time": "2023-06-12T02:15:09.167Z"
   },
   {
    "duration": 2,
    "start_time": "2023-06-12T02:15:12.657Z"
   },
   {
    "duration": 68,
    "start_time": "2023-06-12T02:15:12.661Z"
   },
   {
    "duration": 21,
    "start_time": "2023-06-12T02:15:12.731Z"
   },
   {
    "duration": 21,
    "start_time": "2023-06-12T02:15:12.754Z"
   },
   {
    "duration": 18,
    "start_time": "2023-06-12T02:15:12.777Z"
   },
   {
    "duration": 17,
    "start_time": "2023-06-12T02:15:12.796Z"
   },
   {
    "duration": 19,
    "start_time": "2023-06-12T02:15:12.815Z"
   },
   {
    "duration": 26,
    "start_time": "2023-06-12T02:15:12.836Z"
   },
   {
    "duration": 30,
    "start_time": "2023-06-12T02:15:12.865Z"
   },
   {
    "duration": 34,
    "start_time": "2023-06-12T02:15:12.896Z"
   },
   {
    "duration": 12,
    "start_time": "2023-06-12T02:15:12.931Z"
   },
   {
    "duration": 11,
    "start_time": "2023-06-12T02:15:12.945Z"
   },
   {
    "duration": 14,
    "start_time": "2023-06-12T02:15:12.958Z"
   },
   {
    "duration": 12,
    "start_time": "2023-06-12T02:15:12.974Z"
   },
   {
    "duration": 41,
    "start_time": "2023-06-12T02:15:12.988Z"
   },
   {
    "duration": 27,
    "start_time": "2023-06-12T02:15:13.030Z"
   },
   {
    "duration": 7,
    "start_time": "2023-06-12T02:15:13.059Z"
   },
   {
    "duration": 17,
    "start_time": "2023-06-12T02:15:13.067Z"
   },
   {
    "duration": 14,
    "start_time": "2023-06-12T02:15:13.086Z"
   },
   {
    "duration": 10,
    "start_time": "2023-06-12T02:15:13.102Z"
   },
   {
    "duration": 21,
    "start_time": "2023-06-12T02:15:13.113Z"
   },
   {
    "duration": 10,
    "start_time": "2023-06-12T02:15:13.135Z"
   },
   {
    "duration": 10,
    "start_time": "2023-06-12T02:15:13.146Z"
   },
   {
    "duration": 21,
    "start_time": "2023-06-12T02:15:13.157Z"
   },
   {
    "duration": 12,
    "start_time": "2023-06-12T02:15:13.179Z"
   },
   {
    "duration": 11,
    "start_time": "2023-06-12T02:15:13.193Z"
   },
   {
    "duration": 16,
    "start_time": "2023-06-12T02:15:13.209Z"
   },
   {
    "duration": 10,
    "start_time": "2023-06-12T02:15:13.229Z"
   },
   {
    "duration": 11,
    "start_time": "2023-06-12T02:15:13.240Z"
   },
   {
    "duration": 19,
    "start_time": "2023-06-12T02:15:13.253Z"
   },
   {
    "duration": 29,
    "start_time": "2023-06-12T02:15:13.274Z"
   },
   {
    "duration": 34,
    "start_time": "2023-06-12T02:15:13.304Z"
   },
   {
    "duration": 37,
    "start_time": "2023-06-12T02:15:13.340Z"
   },
   {
    "duration": 31,
    "start_time": "2023-06-12T02:15:13.379Z"
   },
   {
    "duration": 31,
    "start_time": "2023-06-12T02:15:13.411Z"
   },
   {
    "duration": 28,
    "start_time": "2023-06-12T02:15:13.443Z"
   },
   {
    "duration": 34,
    "start_time": "2023-06-12T02:15:13.473Z"
   },
   {
    "duration": 19,
    "start_time": "2023-06-12T02:15:13.509Z"
   },
   {
    "duration": 11,
    "start_time": "2023-06-12T02:15:13.534Z"
   },
   {
    "duration": 22,
    "start_time": "2023-06-12T02:15:13.547Z"
   },
   {
    "duration": 108,
    "start_time": "2023-06-12T02:15:13.571Z"
   },
   {
    "duration": 6,
    "start_time": "2023-06-12T02:15:13.681Z"
   },
   {
    "duration": 405,
    "start_time": "2023-06-12T02:15:13.688Z"
   },
   {
    "duration": 695,
    "start_time": "2023-06-12T02:15:14.094Z"
   },
   {
    "duration": 111,
    "start_time": "2023-06-12T02:15:14.791Z"
   },
   {
    "duration": 126,
    "start_time": "2023-06-12T02:15:14.904Z"
   },
   {
    "duration": 116,
    "start_time": "2023-06-12T02:15:15.031Z"
   },
   {
    "duration": 193,
    "start_time": "2023-06-12T02:15:15.149Z"
   },
   {
    "duration": 145,
    "start_time": "2023-06-12T02:15:15.343Z"
   },
   {
    "duration": 146,
    "start_time": "2023-06-12T02:15:15.490Z"
   },
   {
    "duration": 22663,
    "start_time": "2023-06-12T02:15:15.637Z"
   },
   {
    "duration": 4,
    "start_time": "2023-06-12T02:15:38.302Z"
   },
   {
    "duration": 27,
    "start_time": "2023-06-12T02:15:38.307Z"
   },
   {
    "duration": 7,
    "start_time": "2023-06-12T02:15:38.336Z"
   },
   {
    "duration": 16,
    "start_time": "2023-06-12T02:15:38.345Z"
   },
   {
    "duration": 19,
    "start_time": "2023-06-12T02:15:38.362Z"
   },
   {
    "duration": 7,
    "start_time": "2023-06-12T02:15:38.382Z"
   },
   {
    "duration": 9,
    "start_time": "2023-06-12T02:15:38.391Z"
   },
   {
    "duration": 8,
    "start_time": "2023-06-12T02:15:38.402Z"
   },
   {
    "duration": 22,
    "start_time": "2023-06-12T02:15:38.411Z"
   },
   {
    "duration": 54,
    "start_time": "2023-06-12T02:15:38.434Z"
   },
   {
    "duration": 22,
    "start_time": "2023-06-12T02:15:38.490Z"
   },
   {
    "duration": 12,
    "start_time": "2023-06-12T02:15:38.513Z"
   },
   {
    "duration": 13,
    "start_time": "2023-06-12T02:15:38.527Z"
   },
   {
    "duration": 13,
    "start_time": "2023-06-12T02:15:38.541Z"
   },
   {
    "duration": 3,
    "start_time": "2023-06-12T02:15:38.555Z"
   },
   {
    "duration": 8,
    "start_time": "2023-06-12T02:15:38.559Z"
   },
   {
    "duration": 73426,
    "start_time": "2023-06-12T02:15:38.568Z"
   },
   {
    "duration": 2,
    "start_time": "2023-06-12T02:16:51.996Z"
   },
   {
    "duration": 32,
    "start_time": "2023-06-12T02:16:51.999Z"
   },
   {
    "duration": 21804,
    "start_time": "2023-06-12T02:16:52.033Z"
   },
   {
    "duration": 195,
    "start_time": "2023-06-12T02:17:13.839Z"
   },
   {
    "duration": 0,
    "start_time": "2023-06-12T02:17:14.035Z"
   },
   {
    "duration": 0,
    "start_time": "2023-06-12T02:17:14.036Z"
   },
   {
    "duration": 0,
    "start_time": "2023-06-12T02:17:14.038Z"
   },
   {
    "duration": 0,
    "start_time": "2023-06-12T02:17:14.039Z"
   },
   {
    "duration": 4,
    "start_time": "2023-06-12T02:17:31.661Z"
   },
   {
    "duration": 86,
    "start_time": "2023-06-12T02:17:32.341Z"
   },
   {
    "duration": 3,
    "start_time": "2023-06-12T02:17:37.735Z"
   },
   {
    "duration": 109834,
    "start_time": "2023-06-12T02:17:38.427Z"
   },
   {
    "duration": 3,
    "start_time": "2023-06-12T02:19:45.165Z"
   },
   {
    "duration": 25128,
    "start_time": "2023-06-12T02:19:45.509Z"
   },
   {
    "duration": 3436,
    "start_time": "2023-06-12T02:29:47.930Z"
   },
   {
    "duration": 3,
    "start_time": "2023-06-12T02:29:51.368Z"
   },
   {
    "duration": 72,
    "start_time": "2023-06-12T02:29:51.372Z"
   },
   {
    "duration": 21,
    "start_time": "2023-06-12T02:29:51.445Z"
   },
   {
    "duration": 24,
    "start_time": "2023-06-12T02:29:51.469Z"
   },
   {
    "duration": 28,
    "start_time": "2023-06-12T02:29:51.495Z"
   },
   {
    "duration": 24,
    "start_time": "2023-06-12T02:29:51.526Z"
   },
   {
    "duration": 26,
    "start_time": "2023-06-12T02:29:51.551Z"
   },
   {
    "duration": 22,
    "start_time": "2023-06-12T02:29:51.579Z"
   },
   {
    "duration": 36,
    "start_time": "2023-06-12T02:29:51.603Z"
   },
   {
    "duration": 9,
    "start_time": "2023-06-12T02:29:51.641Z"
   },
   {
    "duration": 23,
    "start_time": "2023-06-12T02:29:51.652Z"
   },
   {
    "duration": 18,
    "start_time": "2023-06-12T02:29:51.677Z"
   },
   {
    "duration": 24,
    "start_time": "2023-06-12T02:29:51.697Z"
   },
   {
    "duration": 25,
    "start_time": "2023-06-12T02:29:51.722Z"
   },
   {
    "duration": 16,
    "start_time": "2023-06-12T02:29:51.749Z"
   },
   {
    "duration": 27,
    "start_time": "2023-06-12T02:29:51.767Z"
   },
   {
    "duration": 7,
    "start_time": "2023-06-12T02:29:51.796Z"
   },
   {
    "duration": 25,
    "start_time": "2023-06-12T02:29:51.805Z"
   },
   {
    "duration": 21,
    "start_time": "2023-06-12T02:29:51.831Z"
   },
   {
    "duration": 4,
    "start_time": "2023-06-12T02:29:51.854Z"
   },
   {
    "duration": 29,
    "start_time": "2023-06-12T02:29:51.860Z"
   },
   {
    "duration": 5,
    "start_time": "2023-06-12T02:29:51.891Z"
   },
   {
    "duration": 6,
    "start_time": "2023-06-12T02:29:51.898Z"
   },
   {
    "duration": 24,
    "start_time": "2023-06-12T02:29:51.905Z"
   },
   {
    "duration": 10,
    "start_time": "2023-06-12T02:29:51.931Z"
   },
   {
    "duration": 19,
    "start_time": "2023-06-12T02:29:51.942Z"
   },
   {
    "duration": 24,
    "start_time": "2023-06-12T02:29:51.962Z"
   },
   {
    "duration": 13,
    "start_time": "2023-06-12T02:29:51.988Z"
   },
   {
    "duration": 28,
    "start_time": "2023-06-12T02:29:52.002Z"
   },
   {
    "duration": 26,
    "start_time": "2023-06-12T02:29:52.031Z"
   },
   {
    "duration": 25,
    "start_time": "2023-06-12T02:29:52.059Z"
   },
   {
    "duration": 15,
    "start_time": "2023-06-12T02:29:52.085Z"
   },
   {
    "duration": 49,
    "start_time": "2023-06-12T02:29:52.101Z"
   },
   {
    "duration": 13,
    "start_time": "2023-06-12T02:29:52.151Z"
   },
   {
    "duration": 31,
    "start_time": "2023-06-12T02:29:52.166Z"
   },
   {
    "duration": 28,
    "start_time": "2023-06-12T02:29:52.198Z"
   },
   {
    "duration": 49,
    "start_time": "2023-06-12T02:29:52.228Z"
   },
   {
    "duration": 14,
    "start_time": "2023-06-12T02:29:52.279Z"
   },
   {
    "duration": 51,
    "start_time": "2023-06-12T02:29:52.294Z"
   },
   {
    "duration": 15,
    "start_time": "2023-06-12T02:29:52.348Z"
   },
   {
    "duration": 140,
    "start_time": "2023-06-12T02:29:52.364Z"
   },
   {
    "duration": 5,
    "start_time": "2023-06-12T02:29:52.506Z"
   },
   {
    "duration": 400,
    "start_time": "2023-06-12T02:29:52.512Z"
   },
   {
    "duration": 676,
    "start_time": "2023-06-12T02:29:52.921Z"
   },
   {
    "duration": 130,
    "start_time": "2023-06-12T02:29:53.599Z"
   },
   {
    "duration": 111,
    "start_time": "2023-06-12T02:29:53.731Z"
   },
   {
    "duration": 124,
    "start_time": "2023-06-12T02:29:53.844Z"
   },
   {
    "duration": 194,
    "start_time": "2023-06-12T02:29:53.970Z"
   },
   {
    "duration": 141,
    "start_time": "2023-06-12T02:29:54.165Z"
   },
   {
    "duration": 150,
    "start_time": "2023-06-12T02:29:54.307Z"
   },
   {
    "duration": 22461,
    "start_time": "2023-06-12T02:29:54.458Z"
   },
   {
    "duration": 5,
    "start_time": "2023-06-12T02:30:16.930Z"
   },
   {
    "duration": 10,
    "start_time": "2023-06-12T02:30:16.937Z"
   },
   {
    "duration": 12,
    "start_time": "2023-06-12T02:30:16.948Z"
   },
   {
    "duration": 7,
    "start_time": "2023-06-12T02:30:16.961Z"
   },
   {
    "duration": 12,
    "start_time": "2023-06-12T02:30:16.969Z"
   },
   {
    "duration": 9,
    "start_time": "2023-06-12T02:30:16.982Z"
   },
   {
    "duration": 6,
    "start_time": "2023-06-12T02:30:16.993Z"
   },
   {
    "duration": 27,
    "start_time": "2023-06-12T02:30:17.000Z"
   },
   {
    "duration": 8,
    "start_time": "2023-06-12T02:30:17.030Z"
   },
   {
    "duration": 25,
    "start_time": "2023-06-12T02:30:17.040Z"
   },
   {
    "duration": 95,
    "start_time": "2023-06-12T02:30:17.067Z"
   },
   {
    "duration": 22,
    "start_time": "2023-06-12T02:30:17.163Z"
   },
   {
    "duration": 124,
    "start_time": "2023-06-12T02:30:17.186Z"
   },
   {
    "duration": 0,
    "start_time": "2023-06-12T02:30:17.311Z"
   },
   {
    "duration": 0,
    "start_time": "2023-06-12T02:30:17.315Z"
   },
   {
    "duration": 0,
    "start_time": "2023-06-12T02:30:17.316Z"
   },
   {
    "duration": 0,
    "start_time": "2023-06-12T02:30:17.316Z"
   },
   {
    "duration": 0,
    "start_time": "2023-06-12T02:30:17.317Z"
   },
   {
    "duration": 0,
    "start_time": "2023-06-12T02:30:17.317Z"
   },
   {
    "duration": 0,
    "start_time": "2023-06-12T02:30:17.318Z"
   },
   {
    "duration": 0,
    "start_time": "2023-06-12T02:30:17.319Z"
   },
   {
    "duration": 0,
    "start_time": "2023-06-12T02:30:17.319Z"
   },
   {
    "duration": 0,
    "start_time": "2023-06-12T02:30:17.320Z"
   },
   {
    "duration": 5,
    "start_time": "2023-06-12T02:30:45.147Z"
   },
   {
    "duration": 2,
    "start_time": "2023-06-12T02:31:39.553Z"
   },
   {
    "duration": 7,
    "start_time": "2023-06-12T02:31:40.033Z"
   },
   {
    "duration": 12,
    "start_time": "2023-06-12T02:31:40.752Z"
   },
   {
    "duration": 3,
    "start_time": "2023-06-12T02:31:42.439Z"
   },
   {
    "duration": 3,
    "start_time": "2023-06-12T02:31:43.040Z"
   },
   {
    "duration": 70777,
    "start_time": "2023-06-12T02:31:43.256Z"
   },
   {
    "duration": 3,
    "start_time": "2023-06-12T02:32:54.035Z"
   },
   {
    "duration": 11,
    "start_time": "2023-06-12T02:32:54.040Z"
   },
   {
    "duration": 4576,
    "start_time": "2023-06-12T02:32:54.053Z"
   },
   {
    "duration": 4,
    "start_time": "2023-06-12T02:32:58.638Z"
   },
   {
    "duration": 10,
    "start_time": "2023-06-12T02:32:58.725Z"
   },
   {
    "duration": 109394,
    "start_time": "2023-06-12T02:32:58.736Z"
   },
   {
    "duration": 11,
    "start_time": "2023-06-12T02:37:07.830Z"
   },
   {
    "duration": 3224,
    "start_time": "2023-06-12T02:38:45.431Z"
   },
   {
    "duration": 2,
    "start_time": "2023-06-12T02:38:48.657Z"
   },
   {
    "duration": 45,
    "start_time": "2023-06-12T02:38:48.661Z"
   },
   {
    "duration": 28,
    "start_time": "2023-06-12T02:38:48.707Z"
   },
   {
    "duration": 21,
    "start_time": "2023-06-12T02:38:48.737Z"
   },
   {
    "duration": 19,
    "start_time": "2023-06-12T02:38:48.759Z"
   },
   {
    "duration": 16,
    "start_time": "2023-06-12T02:38:48.779Z"
   },
   {
    "duration": 11,
    "start_time": "2023-06-12T02:38:48.796Z"
   },
   {
    "duration": 26,
    "start_time": "2023-06-12T02:38:48.808Z"
   },
   {
    "duration": 31,
    "start_time": "2023-06-12T02:38:48.836Z"
   },
   {
    "duration": 8,
    "start_time": "2023-06-12T02:38:48.869Z"
   },
   {
    "duration": 14,
    "start_time": "2023-06-12T02:38:48.878Z"
   },
   {
    "duration": 14,
    "start_time": "2023-06-12T02:38:48.894Z"
   },
   {
    "duration": 31,
    "start_time": "2023-06-12T02:38:48.909Z"
   },
   {
    "duration": 11,
    "start_time": "2023-06-12T02:38:48.941Z"
   },
   {
    "duration": 19,
    "start_time": "2023-06-12T02:38:48.953Z"
   },
   {
    "duration": 33,
    "start_time": "2023-06-12T02:38:48.973Z"
   },
   {
    "duration": 7,
    "start_time": "2023-06-12T02:38:49.008Z"
   },
   {
    "duration": 20,
    "start_time": "2023-06-12T02:38:49.025Z"
   },
   {
    "duration": 27,
    "start_time": "2023-06-12T02:38:49.046Z"
   },
   {
    "duration": 16,
    "start_time": "2023-06-12T02:38:49.074Z"
   },
   {
    "duration": 22,
    "start_time": "2023-06-12T02:38:49.092Z"
   },
   {
    "duration": 14,
    "start_time": "2023-06-12T02:38:49.118Z"
   },
   {
    "duration": 6,
    "start_time": "2023-06-12T02:38:49.133Z"
   },
   {
    "duration": 17,
    "start_time": "2023-06-12T02:38:49.140Z"
   },
   {
    "duration": 23,
    "start_time": "2023-06-12T02:38:49.158Z"
   },
   {
    "duration": 7,
    "start_time": "2023-06-12T02:38:49.183Z"
   },
   {
    "duration": 10,
    "start_time": "2023-06-12T02:38:49.193Z"
   },
   {
    "duration": 24,
    "start_time": "2023-06-12T02:38:49.204Z"
   },
   {
    "duration": 32,
    "start_time": "2023-06-12T02:38:49.229Z"
   },
   {
    "duration": 9,
    "start_time": "2023-06-12T02:38:49.263Z"
   },
   {
    "duration": 28,
    "start_time": "2023-06-12T02:38:49.273Z"
   },
   {
    "duration": 47,
    "start_time": "2023-06-12T02:38:49.303Z"
   },
   {
    "duration": 23,
    "start_time": "2023-06-12T02:38:49.351Z"
   },
   {
    "duration": 12,
    "start_time": "2023-06-12T02:38:49.375Z"
   },
   {
    "duration": 15,
    "start_time": "2023-06-12T02:38:49.388Z"
   },
   {
    "duration": 17,
    "start_time": "2023-06-12T02:38:49.404Z"
   },
   {
    "duration": 38,
    "start_time": "2023-06-12T02:38:49.422Z"
   },
   {
    "duration": 13,
    "start_time": "2023-06-12T02:38:49.462Z"
   },
   {
    "duration": 15,
    "start_time": "2023-06-12T02:38:49.476Z"
   },
   {
    "duration": 14,
    "start_time": "2023-06-12T02:38:49.493Z"
   },
   {
    "duration": 125,
    "start_time": "2023-06-12T02:38:49.509Z"
   },
   {
    "duration": 6,
    "start_time": "2023-06-12T02:38:49.635Z"
   },
   {
    "duration": 389,
    "start_time": "2023-06-12T02:38:49.642Z"
   },
   {
    "duration": 618,
    "start_time": "2023-06-12T02:38:50.033Z"
   },
   {
    "duration": 113,
    "start_time": "2023-06-12T02:38:50.653Z"
   },
   {
    "duration": 119,
    "start_time": "2023-06-12T02:38:50.768Z"
   },
   {
    "duration": 111,
    "start_time": "2023-06-12T02:38:50.888Z"
   },
   {
    "duration": 185,
    "start_time": "2023-06-12T02:38:51.001Z"
   },
   {
    "duration": 137,
    "start_time": "2023-06-12T02:38:51.188Z"
   },
   {
    "duration": 117,
    "start_time": "2023-06-12T02:38:51.330Z"
   },
   {
    "duration": 21788,
    "start_time": "2023-06-12T02:38:51.448Z"
   },
   {
    "duration": 5,
    "start_time": "2023-06-12T02:39:13.237Z"
   },
   {
    "duration": 4,
    "start_time": "2023-06-12T02:39:13.244Z"
   },
   {
    "duration": 6,
    "start_time": "2023-06-12T02:39:13.250Z"
   },
   {
    "duration": 7,
    "start_time": "2023-06-12T02:39:13.257Z"
   },
   {
    "duration": 10,
    "start_time": "2023-06-12T02:39:13.265Z"
   },
   {
    "duration": 12,
    "start_time": "2023-06-12T02:39:13.276Z"
   },
   {
    "duration": 18,
    "start_time": "2023-06-12T02:39:13.289Z"
   },
   {
    "duration": 17,
    "start_time": "2023-06-12T02:39:13.315Z"
   },
   {
    "duration": 14,
    "start_time": "2023-06-12T02:39:13.334Z"
   },
   {
    "duration": 16,
    "start_time": "2023-06-12T02:39:13.349Z"
   },
   {
    "duration": 40,
    "start_time": "2023-06-12T02:39:13.367Z"
   },
   {
    "duration": 21,
    "start_time": "2023-06-12T02:39:13.409Z"
   },
   {
    "duration": 10,
    "start_time": "2023-06-12T02:39:13.431Z"
   },
   {
    "duration": 10,
    "start_time": "2023-06-12T02:39:13.443Z"
   },
   {
    "duration": 15,
    "start_time": "2023-06-12T02:39:13.454Z"
   },
   {
    "duration": 2,
    "start_time": "2023-06-12T02:39:13.470Z"
   },
   {
    "duration": 5,
    "start_time": "2023-06-12T02:39:13.474Z"
   },
   {
    "duration": 72482,
    "start_time": "2023-06-12T02:39:13.480Z"
   },
   {
    "duration": 2,
    "start_time": "2023-06-12T02:40:25.964Z"
   },
   {
    "duration": 13,
    "start_time": "2023-06-12T02:40:25.967Z"
   },
   {
    "duration": 7855,
    "start_time": "2023-06-12T02:40:25.981Z"
   },
   {
    "duration": 82,
    "start_time": "2023-06-12T02:40:33.841Z"
   },
   {
    "duration": 108,
    "start_time": "2023-06-12T02:40:33.925Z"
   },
   {
    "duration": 120182,
    "start_time": "2023-06-12T02:40:34.034Z"
   },
   {
    "duration": 12,
    "start_time": "2023-06-12T02:42:34.229Z"
   },
   {
    "duration": 3411,
    "start_time": "2023-06-12T02:48:53.861Z"
   },
   {
    "duration": 2,
    "start_time": "2023-06-12T02:48:57.274Z"
   },
   {
    "duration": 53,
    "start_time": "2023-06-12T02:48:57.277Z"
   },
   {
    "duration": 20,
    "start_time": "2023-06-12T02:48:57.332Z"
   },
   {
    "duration": 21,
    "start_time": "2023-06-12T02:48:57.354Z"
   },
   {
    "duration": 17,
    "start_time": "2023-06-12T02:48:57.376Z"
   },
   {
    "duration": 15,
    "start_time": "2023-06-12T02:48:57.395Z"
   },
   {
    "duration": 21,
    "start_time": "2023-06-12T02:48:57.411Z"
   },
   {
    "duration": 13,
    "start_time": "2023-06-12T02:48:57.433Z"
   },
   {
    "duration": 19,
    "start_time": "2023-06-12T02:48:57.448Z"
   },
   {
    "duration": 8,
    "start_time": "2023-06-12T02:48:57.469Z"
   },
   {
    "duration": 11,
    "start_time": "2023-06-12T02:48:57.478Z"
   },
   {
    "duration": 45,
    "start_time": "2023-06-12T02:48:57.491Z"
   },
   {
    "duration": 15,
    "start_time": "2023-06-12T02:48:57.538Z"
   },
   {
    "duration": 15,
    "start_time": "2023-06-12T02:48:57.554Z"
   },
   {
    "duration": 11,
    "start_time": "2023-06-12T02:48:57.571Z"
   },
   {
    "duration": 48,
    "start_time": "2023-06-12T02:48:57.584Z"
   },
   {
    "duration": 8,
    "start_time": "2023-06-12T02:48:57.634Z"
   },
   {
    "duration": 13,
    "start_time": "2023-06-12T02:48:57.643Z"
   },
   {
    "duration": 17,
    "start_time": "2023-06-12T02:48:57.657Z"
   },
   {
    "duration": 2,
    "start_time": "2023-06-12T02:48:57.676Z"
   },
   {
    "duration": 7,
    "start_time": "2023-06-12T02:48:57.680Z"
   },
   {
    "duration": 5,
    "start_time": "2023-06-12T02:48:57.688Z"
   },
   {
    "duration": 4,
    "start_time": "2023-06-12T02:48:57.694Z"
   },
   {
    "duration": 30,
    "start_time": "2023-06-12T02:48:57.699Z"
   },
   {
    "duration": 14,
    "start_time": "2023-06-12T02:48:57.734Z"
   },
   {
    "duration": 20,
    "start_time": "2023-06-12T02:48:57.749Z"
   },
   {
    "duration": 8,
    "start_time": "2023-06-12T02:48:57.772Z"
   },
   {
    "duration": 5,
    "start_time": "2023-06-12T02:48:57.781Z"
   },
   {
    "duration": 5,
    "start_time": "2023-06-12T02:48:57.787Z"
   },
   {
    "duration": 7,
    "start_time": "2023-06-12T02:48:57.793Z"
   },
   {
    "duration": 26,
    "start_time": "2023-06-12T02:48:57.801Z"
   },
   {
    "duration": 7,
    "start_time": "2023-06-12T02:48:57.829Z"
   },
   {
    "duration": 18,
    "start_time": "2023-06-12T02:48:57.838Z"
   },
   {
    "duration": 6,
    "start_time": "2023-06-12T02:48:57.858Z"
   },
   {
    "duration": 6,
    "start_time": "2023-06-12T02:48:57.865Z"
   },
   {
    "duration": 12,
    "start_time": "2023-06-12T02:48:57.874Z"
   },
   {
    "duration": 46,
    "start_time": "2023-06-12T02:48:57.887Z"
   },
   {
    "duration": 14,
    "start_time": "2023-06-12T02:48:57.935Z"
   },
   {
    "duration": 10,
    "start_time": "2023-06-12T02:48:57.951Z"
   },
   {
    "duration": 15,
    "start_time": "2023-06-12T02:48:57.962Z"
   },
   {
    "duration": 125,
    "start_time": "2023-06-12T02:48:57.978Z"
   },
   {
    "duration": 6,
    "start_time": "2023-06-12T02:48:58.105Z"
   },
   {
    "duration": 397,
    "start_time": "2023-06-12T02:48:58.116Z"
   },
   {
    "duration": 671,
    "start_time": "2023-06-12T02:48:58.514Z"
   },
   {
    "duration": 120,
    "start_time": "2023-06-12T02:48:59.187Z"
   },
   {
    "duration": 122,
    "start_time": "2023-06-12T02:48:59.308Z"
   },
   {
    "duration": 114,
    "start_time": "2023-06-12T02:48:59.432Z"
   },
   {
    "duration": 188,
    "start_time": "2023-06-12T02:48:59.547Z"
   },
   {
    "duration": 139,
    "start_time": "2023-06-12T02:48:59.736Z"
   },
   {
    "duration": 132,
    "start_time": "2023-06-12T02:48:59.876Z"
   },
   {
    "duration": 21697,
    "start_time": "2023-06-12T02:49:00.010Z"
   },
   {
    "duration": 17,
    "start_time": "2023-06-12T02:49:21.708Z"
   },
   {
    "duration": 16,
    "start_time": "2023-06-12T02:49:21.729Z"
   },
   {
    "duration": 8,
    "start_time": "2023-06-12T02:49:21.747Z"
   },
   {
    "duration": 6,
    "start_time": "2023-06-12T02:49:21.757Z"
   },
   {
    "duration": 9,
    "start_time": "2023-06-12T02:49:21.764Z"
   },
   {
    "duration": 10,
    "start_time": "2023-06-12T02:49:21.775Z"
   },
   {
    "duration": 4,
    "start_time": "2023-06-12T02:49:21.786Z"
   },
   {
    "duration": 11,
    "start_time": "2023-06-12T02:49:21.791Z"
   },
   {
    "duration": 11,
    "start_time": "2023-06-12T02:49:21.803Z"
   },
   {
    "duration": 15,
    "start_time": "2023-06-12T02:49:21.826Z"
   },
   {
    "duration": 62,
    "start_time": "2023-06-12T02:49:21.842Z"
   },
   {
    "duration": 28,
    "start_time": "2023-06-12T02:49:21.906Z"
   },
   {
    "duration": 12,
    "start_time": "2023-06-12T02:49:21.935Z"
   },
   {
    "duration": 22,
    "start_time": "2023-06-12T02:49:21.948Z"
   },
   {
    "duration": 15,
    "start_time": "2023-06-12T02:49:21.971Z"
   },
   {
    "duration": 16,
    "start_time": "2023-06-12T02:49:21.987Z"
   },
   {
    "duration": 9,
    "start_time": "2023-06-12T02:49:22.004Z"
   },
   {
    "duration": 72675,
    "start_time": "2023-06-12T02:49:22.014Z"
   },
   {
    "duration": 2,
    "start_time": "2023-06-12T02:50:34.691Z"
   },
   {
    "duration": 5,
    "start_time": "2023-06-12T02:50:34.694Z"
   },
   {
    "duration": 7641,
    "start_time": "2023-06-12T02:50:34.700Z"
   },
   {
    "duration": 7,
    "start_time": "2023-06-12T02:50:42.416Z"
   },
   {
    "duration": 151,
    "start_time": "2023-06-12T02:50:42.424Z"
   },
   {
    "duration": 0,
    "start_time": "2023-06-12T02:50:42.576Z"
   },
   {
    "duration": 0,
    "start_time": "2023-06-12T02:50:42.577Z"
   },
   {
    "duration": 4,
    "start_time": "2023-06-12T02:51:13.156Z"
   },
   {
    "duration": 3844,
    "start_time": "2023-06-12T03:09:32.431Z"
   },
   {
    "duration": 3,
    "start_time": "2023-06-12T03:09:36.277Z"
   },
   {
    "duration": 63,
    "start_time": "2023-06-12T03:09:36.281Z"
   },
   {
    "duration": 20,
    "start_time": "2023-06-12T03:09:36.346Z"
   },
   {
    "duration": 21,
    "start_time": "2023-06-12T03:09:36.368Z"
   },
   {
    "duration": 18,
    "start_time": "2023-06-12T03:09:36.390Z"
   },
   {
    "duration": 23,
    "start_time": "2023-06-12T03:09:36.410Z"
   },
   {
    "duration": 24,
    "start_time": "2023-06-12T03:09:36.435Z"
   },
   {
    "duration": 26,
    "start_time": "2023-06-12T03:09:36.460Z"
   },
   {
    "duration": 22,
    "start_time": "2023-06-12T03:09:36.488Z"
   },
   {
    "duration": 17,
    "start_time": "2023-06-12T03:09:36.512Z"
   },
   {
    "duration": 13,
    "start_time": "2023-06-12T03:09:36.534Z"
   },
   {
    "duration": 26,
    "start_time": "2023-06-12T03:09:36.548Z"
   },
   {
    "duration": 20,
    "start_time": "2023-06-12T03:09:36.577Z"
   },
   {
    "duration": 10,
    "start_time": "2023-06-12T03:09:36.598Z"
   },
   {
    "duration": 25,
    "start_time": "2023-06-12T03:09:36.609Z"
   },
   {
    "duration": 32,
    "start_time": "2023-06-12T03:09:36.635Z"
   },
   {
    "duration": 7,
    "start_time": "2023-06-12T03:09:36.669Z"
   },
   {
    "duration": 17,
    "start_time": "2023-06-12T03:09:36.678Z"
   },
   {
    "duration": 28,
    "start_time": "2023-06-12T03:09:36.697Z"
   },
   {
    "duration": 6,
    "start_time": "2023-06-12T03:09:36.726Z"
   },
   {
    "duration": 9,
    "start_time": "2023-06-12T03:09:36.733Z"
   },
   {
    "duration": 25,
    "start_time": "2023-06-12T03:09:36.743Z"
   },
   {
    "duration": 35,
    "start_time": "2023-06-12T03:09:36.769Z"
   },
   {
    "duration": 39,
    "start_time": "2023-06-12T03:09:36.806Z"
   },
   {
    "duration": 16,
    "start_time": "2023-06-12T03:09:36.847Z"
   },
   {
    "duration": 29,
    "start_time": "2023-06-12T03:09:36.864Z"
   },
   {
    "duration": 15,
    "start_time": "2023-06-12T03:09:36.895Z"
   },
   {
    "duration": 27,
    "start_time": "2023-06-12T03:09:36.911Z"
   },
   {
    "duration": 18,
    "start_time": "2023-06-12T03:09:36.939Z"
   },
   {
    "duration": 18,
    "start_time": "2023-06-12T03:09:36.959Z"
   },
   {
    "duration": 18,
    "start_time": "2023-06-12T03:09:36.978Z"
   },
   {
    "duration": 7,
    "start_time": "2023-06-12T03:09:36.997Z"
   },
   {
    "duration": 38,
    "start_time": "2023-06-12T03:09:37.005Z"
   },
   {
    "duration": 37,
    "start_time": "2023-06-12T03:09:37.044Z"
   },
   {
    "duration": 12,
    "start_time": "2023-06-12T03:09:37.083Z"
   },
   {
    "duration": 29,
    "start_time": "2023-06-12T03:09:37.097Z"
   },
   {
    "duration": 26,
    "start_time": "2023-06-12T03:09:37.128Z"
   },
   {
    "duration": 26,
    "start_time": "2023-06-12T03:09:37.156Z"
   },
   {
    "duration": 12,
    "start_time": "2023-06-12T03:09:37.183Z"
   },
   {
    "duration": 14,
    "start_time": "2023-06-12T03:09:37.199Z"
   },
   {
    "duration": 120,
    "start_time": "2023-06-12T03:09:37.219Z"
   },
   {
    "duration": 6,
    "start_time": "2023-06-12T03:09:37.341Z"
   },
   {
    "duration": 388,
    "start_time": "2023-06-12T03:09:37.348Z"
   },
   {
    "duration": 696,
    "start_time": "2023-06-12T03:09:37.738Z"
   },
   {
    "duration": 115,
    "start_time": "2023-06-12T03:09:38.436Z"
   },
   {
    "duration": 134,
    "start_time": "2023-06-12T03:09:38.553Z"
   },
   {
    "duration": 122,
    "start_time": "2023-06-12T03:09:38.689Z"
   },
   {
    "duration": 186,
    "start_time": "2023-06-12T03:09:38.812Z"
   },
   {
    "duration": 127,
    "start_time": "2023-06-12T03:09:38.999Z"
   },
   {
    "duration": 134,
    "start_time": "2023-06-12T03:09:39.127Z"
   },
   {
    "duration": 22180,
    "start_time": "2023-06-12T03:09:39.262Z"
   },
   {
    "duration": 5,
    "start_time": "2023-06-12T03:10:01.443Z"
   },
   {
    "duration": 80,
    "start_time": "2023-06-12T03:10:01.450Z"
   },
   {
    "duration": 35,
    "start_time": "2023-06-12T03:10:01.532Z"
   },
   {
    "duration": 38,
    "start_time": "2023-06-12T03:10:01.569Z"
   },
   {
    "duration": 70,
    "start_time": "2023-06-12T03:10:01.609Z"
   },
   {
    "duration": 145,
    "start_time": "2023-06-12T03:10:01.680Z"
   },
   {
    "duration": 312,
    "start_time": "2023-06-12T03:10:01.827Z"
   },
   {
    "duration": 260,
    "start_time": "2023-06-12T03:10:02.140Z"
   },
   {
    "duration": 55,
    "start_time": "2023-06-12T03:10:02.402Z"
   },
   {
    "duration": 37,
    "start_time": "2023-06-12T03:10:02.459Z"
   },
   {
    "duration": 155,
    "start_time": "2023-06-12T03:10:02.497Z"
   },
   {
    "duration": 23,
    "start_time": "2023-06-12T03:10:02.653Z"
   },
   {
    "duration": 13,
    "start_time": "2023-06-12T03:10:02.678Z"
   },
   {
    "duration": 65,
    "start_time": "2023-06-12T03:10:02.692Z"
   },
   {
    "duration": 52,
    "start_time": "2023-06-12T03:10:02.759Z"
   },
   {
    "duration": 58,
    "start_time": "2023-06-12T03:10:02.813Z"
   },
   {
    "duration": 32,
    "start_time": "2023-06-12T03:10:02.872Z"
   },
   {
    "duration": 76453,
    "start_time": "2023-06-12T03:10:02.906Z"
   },
   {
    "duration": 3,
    "start_time": "2023-06-12T03:11:19.360Z"
   },
   {
    "duration": 21,
    "start_time": "2023-06-12T03:11:19.365Z"
   },
   {
    "duration": 6138,
    "start_time": "2023-06-12T03:11:19.387Z"
   },
   {
    "duration": 5,
    "start_time": "2023-06-12T03:11:25.534Z"
   },
   {
    "duration": 102,
    "start_time": "2023-06-12T03:11:25.541Z"
   },
   {
    "duration": 11634,
    "start_time": "2023-06-12T03:11:25.645Z"
   },
   {
    "duration": 15,
    "start_time": "2023-06-12T03:11:37.280Z"
   },
   {
    "duration": 0,
    "start_time": "2023-06-12T03:11:37.296Z"
   },
   {
    "duration": 3,
    "start_time": "2023-06-12T03:12:02.885Z"
   },
   {
    "duration": 11997,
    "start_time": "2023-06-12T03:12:03.595Z"
   },
   {
    "duration": 16,
    "start_time": "2023-06-12T03:12:15.594Z"
   },
   {
    "duration": 2,
    "start_time": "2023-06-12T03:12:39.780Z"
   },
   {
    "duration": 1145443,
    "start_time": "2023-06-12T03:12:40.292Z"
   },
   {
    "duration": 10,
    "start_time": "2023-06-12T03:31:45.736Z"
   },
   {
    "duration": 15,
    "start_time": "2023-06-12T03:34:42.973Z"
   },
   {
    "duration": 3282,
    "start_time": "2023-06-12T03:35:13.781Z"
   },
   {
    "duration": 3,
    "start_time": "2023-06-12T03:35:17.064Z"
   },
   {
    "duration": 45,
    "start_time": "2023-06-12T03:35:17.068Z"
   },
   {
    "duration": 23,
    "start_time": "2023-06-12T03:35:17.121Z"
   },
   {
    "duration": 21,
    "start_time": "2023-06-12T03:35:17.145Z"
   },
   {
    "duration": 18,
    "start_time": "2023-06-12T03:35:17.168Z"
   },
   {
    "duration": 15,
    "start_time": "2023-06-12T03:35:17.187Z"
   },
   {
    "duration": 27,
    "start_time": "2023-06-12T03:35:17.204Z"
   },
   {
    "duration": 19,
    "start_time": "2023-06-12T03:35:17.232Z"
   },
   {
    "duration": 24,
    "start_time": "2023-06-12T03:35:17.253Z"
   },
   {
    "duration": 9,
    "start_time": "2023-06-12T03:35:17.278Z"
   },
   {
    "duration": 18,
    "start_time": "2023-06-12T03:35:17.288Z"
   },
   {
    "duration": 31,
    "start_time": "2023-06-12T03:35:17.307Z"
   },
   {
    "duration": 17,
    "start_time": "2023-06-12T03:35:17.339Z"
   },
   {
    "duration": 14,
    "start_time": "2023-06-12T03:35:17.357Z"
   },
   {
    "duration": 12,
    "start_time": "2023-06-12T03:35:17.372Z"
   },
   {
    "duration": 27,
    "start_time": "2023-06-12T03:35:17.385Z"
   },
   {
    "duration": 16,
    "start_time": "2023-06-12T03:35:17.413Z"
   },
   {
    "duration": 12,
    "start_time": "2023-06-12T03:35:17.432Z"
   },
   {
    "duration": 17,
    "start_time": "2023-06-12T03:35:17.446Z"
   },
   {
    "duration": 4,
    "start_time": "2023-06-12T03:35:17.464Z"
   },
   {
    "duration": 6,
    "start_time": "2023-06-12T03:35:17.470Z"
   },
   {
    "duration": 5,
    "start_time": "2023-06-12T03:35:17.477Z"
   },
   {
    "duration": 7,
    "start_time": "2023-06-12T03:35:17.484Z"
   },
   {
    "duration": 12,
    "start_time": "2023-06-12T03:35:17.492Z"
   },
   {
    "duration": 26,
    "start_time": "2023-06-12T03:35:17.505Z"
   },
   {
    "duration": 7,
    "start_time": "2023-06-12T03:35:17.533Z"
   },
   {
    "duration": 7,
    "start_time": "2023-06-12T03:35:17.544Z"
   },
   {
    "duration": 5,
    "start_time": "2023-06-12T03:35:17.552Z"
   },
   {
    "duration": 5,
    "start_time": "2023-06-12T03:35:17.559Z"
   },
   {
    "duration": 4,
    "start_time": "2023-06-12T03:35:17.566Z"
   },
   {
    "duration": 11,
    "start_time": "2023-06-12T03:35:17.571Z"
   },
   {
    "duration": 35,
    "start_time": "2023-06-12T03:35:17.583Z"
   },
   {
    "duration": 16,
    "start_time": "2023-06-12T03:35:17.619Z"
   },
   {
    "duration": 5,
    "start_time": "2023-06-12T03:35:17.637Z"
   },
   {
    "duration": 7,
    "start_time": "2023-06-12T03:35:17.644Z"
   },
   {
    "duration": 18,
    "start_time": "2023-06-12T03:35:17.652Z"
   },
   {
    "duration": 21,
    "start_time": "2023-06-12T03:35:17.671Z"
   },
   {
    "duration": 36,
    "start_time": "2023-06-12T03:35:17.693Z"
   },
   {
    "duration": 18,
    "start_time": "2023-06-12T03:35:17.732Z"
   },
   {
    "duration": 14,
    "start_time": "2023-06-12T03:35:17.751Z"
   },
   {
    "duration": 110,
    "start_time": "2023-06-12T03:35:17.766Z"
   },
   {
    "duration": 5,
    "start_time": "2023-06-12T03:35:17.878Z"
   },
   {
    "duration": 393,
    "start_time": "2023-06-12T03:35:17.884Z"
   },
   {
    "duration": 652,
    "start_time": "2023-06-12T03:35:18.279Z"
   },
   {
    "duration": 104,
    "start_time": "2023-06-12T03:35:18.932Z"
   },
   {
    "duration": 109,
    "start_time": "2023-06-12T03:35:19.038Z"
   },
   {
    "duration": 115,
    "start_time": "2023-06-12T03:35:19.149Z"
   },
   {
    "duration": 186,
    "start_time": "2023-06-12T03:35:19.265Z"
   },
   {
    "duration": 133,
    "start_time": "2023-06-12T03:35:19.453Z"
   },
   {
    "duration": 120,
    "start_time": "2023-06-12T03:35:19.588Z"
   },
   {
    "duration": 21249,
    "start_time": "2023-06-12T03:35:19.710Z"
   },
   {
    "duration": 5,
    "start_time": "2023-06-12T03:35:40.960Z"
   },
   {
    "duration": 9,
    "start_time": "2023-06-12T03:35:40.966Z"
   },
   {
    "duration": 7,
    "start_time": "2023-06-12T03:35:40.977Z"
   },
   {
    "duration": 6,
    "start_time": "2023-06-12T03:35:40.985Z"
   },
   {
    "duration": 6,
    "start_time": "2023-06-12T03:35:40.992Z"
   },
   {
    "duration": 9,
    "start_time": "2023-06-12T03:35:41.021Z"
   },
   {
    "duration": 7,
    "start_time": "2023-06-12T03:35:41.031Z"
   },
   {
    "duration": 6,
    "start_time": "2023-06-12T03:35:41.039Z"
   },
   {
    "duration": 6,
    "start_time": "2023-06-12T03:35:41.046Z"
   },
   {
    "duration": 6,
    "start_time": "2023-06-12T03:35:41.053Z"
   },
   {
    "duration": 29,
    "start_time": "2023-06-12T03:35:41.061Z"
   },
   {
    "duration": 13,
    "start_time": "2023-06-12T03:35:41.091Z"
   },
   {
    "duration": 6,
    "start_time": "2023-06-12T03:35:41.121Z"
   },
   {
    "duration": 8,
    "start_time": "2023-06-12T03:35:41.129Z"
   },
   {
    "duration": 11,
    "start_time": "2023-06-12T03:35:41.138Z"
   },
   {
    "duration": 5,
    "start_time": "2023-06-12T03:35:41.150Z"
   },
   {
    "duration": 5,
    "start_time": "2023-06-12T03:35:41.156Z"
   },
   {
    "duration": 70279,
    "start_time": "2023-06-12T03:35:41.163Z"
   },
   {
    "duration": 2,
    "start_time": "2023-06-12T03:36:51.443Z"
   },
   {
    "duration": 31,
    "start_time": "2023-06-12T03:36:51.447Z"
   },
   {
    "duration": 5961,
    "start_time": "2023-06-12T03:36:51.479Z"
   },
   {
    "duration": 16,
    "start_time": "2023-06-12T03:36:57.521Z"
   },
   {
    "duration": 20,
    "start_time": "2023-06-12T03:36:57.615Z"
   },
   {
    "duration": 916128,
    "start_time": "2023-06-12T03:36:57.636Z"
   },
   {
    "duration": 9,
    "start_time": "2023-06-12T03:52:13.766Z"
   },
   {
    "duration": 3,
    "start_time": "2023-06-12T03:52:13.777Z"
   },
   {
    "duration": 121,
    "start_time": "2023-06-12T03:52:13.781Z"
   },
   {
    "duration": 1,
    "start_time": "2023-06-12T03:52:13.903Z"
   },
   {
    "duration": 0,
    "start_time": "2023-06-12T03:52:13.905Z"
   },
   {
    "duration": 3254,
    "start_time": "2023-06-12T03:53:27.453Z"
   },
   {
    "duration": 16,
    "start_time": "2023-06-12T03:53:30.709Z"
   },
   {
    "duration": 65,
    "start_time": "2023-06-12T03:53:30.728Z"
   },
   {
    "duration": 26,
    "start_time": "2023-06-12T03:53:30.795Z"
   },
   {
    "duration": 21,
    "start_time": "2023-06-12T03:53:30.826Z"
   },
   {
    "duration": 21,
    "start_time": "2023-06-12T03:53:30.848Z"
   },
   {
    "duration": 17,
    "start_time": "2023-06-12T03:53:30.870Z"
   },
   {
    "duration": 21,
    "start_time": "2023-06-12T03:53:30.888Z"
   },
   {
    "duration": 37,
    "start_time": "2023-06-12T03:53:30.910Z"
   },
   {
    "duration": 55,
    "start_time": "2023-06-12T03:53:30.949Z"
   },
   {
    "duration": 35,
    "start_time": "2023-06-12T03:53:31.006Z"
   },
   {
    "duration": 27,
    "start_time": "2023-06-12T03:53:31.043Z"
   },
   {
    "duration": 64,
    "start_time": "2023-06-12T03:53:31.071Z"
   },
   {
    "duration": 37,
    "start_time": "2023-06-12T03:53:31.137Z"
   },
   {
    "duration": 169,
    "start_time": "2023-06-12T03:53:31.175Z"
   },
   {
    "duration": 25,
    "start_time": "2023-06-12T03:53:31.345Z"
   },
   {
    "duration": 63,
    "start_time": "2023-06-12T03:53:31.372Z"
   },
   {
    "duration": 24,
    "start_time": "2023-06-12T03:53:31.437Z"
   },
   {
    "duration": 38,
    "start_time": "2023-06-12T03:53:31.463Z"
   },
   {
    "duration": 56,
    "start_time": "2023-06-12T03:53:31.503Z"
   },
   {
    "duration": 25,
    "start_time": "2023-06-12T03:53:31.560Z"
   },
   {
    "duration": 51,
    "start_time": "2023-06-12T03:53:31.587Z"
   },
   {
    "duration": 33,
    "start_time": "2023-06-12T03:53:31.640Z"
   },
   {
    "duration": 64,
    "start_time": "2023-06-12T03:53:31.674Z"
   },
   {
    "duration": 37,
    "start_time": "2023-06-12T03:53:31.739Z"
   },
   {
    "duration": 26,
    "start_time": "2023-06-12T03:53:31.778Z"
   },
   {
    "duration": 32,
    "start_time": "2023-06-12T03:53:31.806Z"
   },
   {
    "duration": 41,
    "start_time": "2023-06-12T03:53:31.843Z"
   },
   {
    "duration": 83,
    "start_time": "2023-06-12T03:53:31.886Z"
   },
   {
    "duration": 81,
    "start_time": "2023-06-12T03:53:31.971Z"
   },
   {
    "duration": 28,
    "start_time": "2023-06-12T03:53:32.053Z"
   },
   {
    "duration": 22,
    "start_time": "2023-06-12T03:53:32.082Z"
   },
   {
    "duration": 55,
    "start_time": "2023-06-12T03:53:32.105Z"
   },
   {
    "duration": 39,
    "start_time": "2023-06-12T03:53:32.161Z"
   },
   {
    "duration": 49,
    "start_time": "2023-06-12T03:53:32.202Z"
   },
   {
    "duration": 24,
    "start_time": "2023-06-12T03:53:32.252Z"
   },
   {
    "duration": 52,
    "start_time": "2023-06-12T03:53:32.277Z"
   },
   {
    "duration": 30,
    "start_time": "2023-06-12T03:53:32.331Z"
   },
   {
    "duration": 32,
    "start_time": "2023-06-12T03:53:32.362Z"
   },
   {
    "duration": 45,
    "start_time": "2023-06-12T03:53:32.395Z"
   },
   {
    "duration": 73,
    "start_time": "2023-06-12T03:53:32.441Z"
   },
   {
    "duration": 126,
    "start_time": "2023-06-12T03:53:32.516Z"
   },
   {
    "duration": 6,
    "start_time": "2023-06-12T03:53:32.643Z"
   },
   {
    "duration": 363,
    "start_time": "2023-06-12T03:53:32.650Z"
   },
   {
    "duration": 639,
    "start_time": "2023-06-12T03:53:33.014Z"
   },
   {
    "duration": 110,
    "start_time": "2023-06-12T03:53:33.655Z"
   },
   {
    "duration": 113,
    "start_time": "2023-06-12T03:53:33.766Z"
   },
   {
    "duration": 118,
    "start_time": "2023-06-12T03:53:33.881Z"
   },
   {
    "duration": 182,
    "start_time": "2023-06-12T03:53:34.001Z"
   },
   {
    "duration": 127,
    "start_time": "2023-06-12T03:53:34.184Z"
   },
   {
    "duration": 129,
    "start_time": "2023-06-12T03:53:34.315Z"
   },
   {
    "duration": 20986,
    "start_time": "2023-06-12T03:53:34.445Z"
   },
   {
    "duration": 6,
    "start_time": "2023-06-12T03:53:55.434Z"
   },
   {
    "duration": 5,
    "start_time": "2023-06-12T03:53:55.441Z"
   },
   {
    "duration": 7,
    "start_time": "2023-06-12T03:53:55.448Z"
   },
   {
    "duration": 5,
    "start_time": "2023-06-12T03:53:55.456Z"
   },
   {
    "duration": 7,
    "start_time": "2023-06-12T03:53:55.463Z"
   },
   {
    "duration": 7,
    "start_time": "2023-06-12T03:53:55.472Z"
   },
   {
    "duration": 41,
    "start_time": "2023-06-12T03:53:55.480Z"
   },
   {
    "duration": 14,
    "start_time": "2023-06-12T03:53:55.522Z"
   },
   {
    "duration": 9,
    "start_time": "2023-06-12T03:53:55.537Z"
   },
   {
    "duration": 10,
    "start_time": "2023-06-12T03:53:55.548Z"
   },
   {
    "duration": 30,
    "start_time": "2023-06-12T03:53:55.560Z"
   },
   {
    "duration": 15,
    "start_time": "2023-06-12T03:53:55.591Z"
   },
   {
    "duration": 2,
    "start_time": "2023-06-12T03:53:55.608Z"
   },
   {
    "duration": 13,
    "start_time": "2023-06-12T03:53:55.612Z"
   },
   {
    "duration": 20,
    "start_time": "2023-06-12T03:53:55.626Z"
   },
   {
    "duration": 3,
    "start_time": "2023-06-12T03:53:55.647Z"
   },
   {
    "duration": 5,
    "start_time": "2023-06-12T03:53:55.651Z"
   },
   {
    "duration": 71687,
    "start_time": "2023-06-12T03:53:55.657Z"
   },
   {
    "duration": 2,
    "start_time": "2023-06-12T03:55:07.346Z"
   },
   {
    "duration": 27,
    "start_time": "2023-06-12T03:55:07.350Z"
   },
   {
    "duration": 4751,
    "start_time": "2023-06-12T03:55:07.378Z"
   },
   {
    "duration": 4,
    "start_time": "2023-06-12T03:55:12.134Z"
   },
   {
    "duration": 14,
    "start_time": "2023-06-12T03:55:12.220Z"
   },
   {
    "duration": 945641,
    "start_time": "2023-06-12T03:55:12.235Z"
   },
   {
    "duration": 11,
    "start_time": "2023-06-12T04:10:57.878Z"
   },
   {
    "duration": 6,
    "start_time": "2023-06-12T04:10:57.891Z"
   },
   {
    "duration": 137,
    "start_time": "2023-06-12T04:10:57.898Z"
   },
   {
    "duration": 0,
    "start_time": "2023-06-12T04:10:58.036Z"
   },
   {
    "duration": 0,
    "start_time": "2023-06-12T04:10:58.037Z"
   },
   {
    "duration": 3568,
    "start_time": "2023-06-12T04:16:34.263Z"
   },
   {
    "duration": 3,
    "start_time": "2023-06-12T04:16:37.832Z"
   },
   {
    "duration": 104,
    "start_time": "2023-06-12T04:16:37.837Z"
   },
   {
    "duration": 21,
    "start_time": "2023-06-12T04:16:37.943Z"
   },
   {
    "duration": 29,
    "start_time": "2023-06-12T04:16:37.966Z"
   },
   {
    "duration": 18,
    "start_time": "2023-06-12T04:16:37.997Z"
   },
   {
    "duration": 18,
    "start_time": "2023-06-12T04:16:38.017Z"
   },
   {
    "duration": 24,
    "start_time": "2023-06-12T04:16:38.037Z"
   },
   {
    "duration": 18,
    "start_time": "2023-06-12T04:16:38.063Z"
   },
   {
    "duration": 49,
    "start_time": "2023-06-12T04:16:38.084Z"
   },
   {
    "duration": 13,
    "start_time": "2023-06-12T04:16:38.135Z"
   },
   {
    "duration": 25,
    "start_time": "2023-06-12T04:16:38.150Z"
   },
   {
    "duration": 133,
    "start_time": "2023-06-12T04:16:38.177Z"
   },
   {
    "duration": 59,
    "start_time": "2023-06-12T04:16:38.312Z"
   },
   {
    "duration": 16,
    "start_time": "2023-06-12T04:16:38.372Z"
   },
   {
    "duration": 11,
    "start_time": "2023-06-12T04:16:38.390Z"
   },
   {
    "duration": 30,
    "start_time": "2023-06-12T04:16:38.402Z"
   },
   {
    "duration": 6,
    "start_time": "2023-06-12T04:16:38.434Z"
   },
   {
    "duration": 12,
    "start_time": "2023-06-12T04:16:38.442Z"
   },
   {
    "duration": 14,
    "start_time": "2023-06-12T04:16:38.456Z"
   },
   {
    "duration": 3,
    "start_time": "2023-06-12T04:16:38.471Z"
   },
   {
    "duration": 12,
    "start_time": "2023-06-12T04:16:38.475Z"
   },
   {
    "duration": 7,
    "start_time": "2023-06-12T04:16:38.489Z"
   },
   {
    "duration": 5,
    "start_time": "2023-06-12T04:16:38.497Z"
   },
   {
    "duration": 26,
    "start_time": "2023-06-12T04:16:38.503Z"
   },
   {
    "duration": 12,
    "start_time": "2023-06-12T04:16:38.531Z"
   },
   {
    "duration": 7,
    "start_time": "2023-06-12T04:16:38.545Z"
   },
   {
    "duration": 22,
    "start_time": "2023-06-12T04:16:38.555Z"
   },
   {
    "duration": 5,
    "start_time": "2023-06-12T04:16:38.579Z"
   },
   {
    "duration": 9,
    "start_time": "2023-06-12T04:16:38.586Z"
   },
   {
    "duration": 5,
    "start_time": "2023-06-12T04:16:38.596Z"
   },
   {
    "duration": 22,
    "start_time": "2023-06-12T04:16:38.603Z"
   },
   {
    "duration": 15,
    "start_time": "2023-06-12T04:16:38.626Z"
   },
   {
    "duration": 17,
    "start_time": "2023-06-12T04:16:38.642Z"
   },
   {
    "duration": 4,
    "start_time": "2023-06-12T04:16:38.661Z"
   },
   {
    "duration": 12,
    "start_time": "2023-06-12T04:16:38.666Z"
   },
   {
    "duration": 18,
    "start_time": "2023-06-12T04:16:38.679Z"
   },
   {
    "duration": 35,
    "start_time": "2023-06-12T04:16:38.699Z"
   },
   {
    "duration": 20,
    "start_time": "2023-06-12T04:16:38.736Z"
   },
   {
    "duration": 16,
    "start_time": "2023-06-12T04:16:38.758Z"
   },
   {
    "duration": 15,
    "start_time": "2023-06-12T04:16:38.776Z"
   },
   {
    "duration": 125,
    "start_time": "2023-06-12T04:16:38.792Z"
   },
   {
    "duration": 8,
    "start_time": "2023-06-12T04:16:38.918Z"
   },
   {
    "duration": 376,
    "start_time": "2023-06-12T04:16:38.927Z"
   },
   {
    "duration": 666,
    "start_time": "2023-06-12T04:16:39.305Z"
   },
   {
    "duration": 115,
    "start_time": "2023-06-12T04:16:39.973Z"
   },
   {
    "duration": 114,
    "start_time": "2023-06-12T04:16:40.090Z"
   },
   {
    "duration": 116,
    "start_time": "2023-06-12T04:16:40.206Z"
   },
   {
    "duration": 180,
    "start_time": "2023-06-12T04:16:40.323Z"
   },
   {
    "duration": 280,
    "start_time": "2023-06-12T04:16:40.505Z"
   },
   {
    "duration": 127,
    "start_time": "2023-06-12T04:16:40.787Z"
   },
   {
    "duration": 21611,
    "start_time": "2023-06-12T04:16:40.925Z"
   },
   {
    "duration": 5,
    "start_time": "2023-06-12T04:17:02.538Z"
   },
   {
    "duration": 46,
    "start_time": "2023-06-12T04:17:02.544Z"
   },
   {
    "duration": 59,
    "start_time": "2023-06-12T04:17:02.592Z"
   },
   {
    "duration": 30,
    "start_time": "2023-06-12T04:17:02.652Z"
   },
   {
    "duration": 48,
    "start_time": "2023-06-12T04:17:02.683Z"
   },
   {
    "duration": 40,
    "start_time": "2023-06-12T04:17:02.732Z"
   },
   {
    "duration": 55,
    "start_time": "2023-06-12T04:17:02.773Z"
   },
   {
    "duration": 34,
    "start_time": "2023-06-12T04:17:02.830Z"
   },
   {
    "duration": 37,
    "start_time": "2023-06-12T04:17:02.866Z"
   },
   {
    "duration": 37,
    "start_time": "2023-06-12T04:17:02.904Z"
   },
   {
    "duration": 47,
    "start_time": "2023-06-12T04:17:02.942Z"
   },
   {
    "duration": 60,
    "start_time": "2023-06-12T04:17:02.990Z"
   },
   {
    "duration": 29,
    "start_time": "2023-06-12T04:17:03.052Z"
   },
   {
    "duration": 107,
    "start_time": "2023-06-12T04:17:03.083Z"
   },
   {
    "duration": 51,
    "start_time": "2023-06-12T04:17:03.192Z"
   },
   {
    "duration": 26,
    "start_time": "2023-06-12T04:17:03.244Z"
   },
   {
    "duration": 27,
    "start_time": "2023-06-12T04:17:03.272Z"
   },
   {
    "duration": 75681,
    "start_time": "2023-06-12T04:17:03.300Z"
   },
   {
    "duration": 3,
    "start_time": "2023-06-12T04:18:18.982Z"
   },
   {
    "duration": 13,
    "start_time": "2023-06-12T04:18:18.986Z"
   },
   {
    "duration": 3338,
    "start_time": "2023-06-12T04:18:19.000Z"
   },
   {
    "duration": 89,
    "start_time": "2023-06-12T04:18:22.344Z"
   },
   {
    "duration": 95,
    "start_time": "2023-06-12T04:18:22.435Z"
   },
   {
    "duration": 135806,
    "start_time": "2023-06-12T04:18:22.532Z"
   },
   {
    "duration": 6,
    "start_time": "2023-06-12T04:20:38.339Z"
   },
   {
    "duration": 1,
    "start_time": "2023-06-12T04:20:38.346Z"
   },
   {
    "duration": 0,
    "start_time": "2023-06-12T04:20:38.348Z"
   },
   {
    "duration": 0,
    "start_time": "2023-06-12T04:20:38.349Z"
   },
   {
    "duration": 0,
    "start_time": "2023-06-12T04:20:38.350Z"
   },
   {
    "duration": 0,
    "start_time": "2023-06-12T04:20:38.351Z"
   },
   {
    "duration": 7,
    "start_time": "2023-06-12T04:21:22.631Z"
   },
   {
    "duration": 10,
    "start_time": "2023-06-12T04:21:25.101Z"
   },
   {
    "duration": 3856,
    "start_time": "2023-06-12T04:23:58.357Z"
   },
   {
    "duration": 14,
    "start_time": "2023-06-12T04:24:02.216Z"
   },
   {
    "duration": 71,
    "start_time": "2023-06-12T04:24:02.232Z"
   },
   {
    "duration": 44,
    "start_time": "2023-06-12T04:24:02.305Z"
   },
   {
    "duration": 56,
    "start_time": "2023-06-12T04:24:02.350Z"
   },
   {
    "duration": 25,
    "start_time": "2023-06-12T04:24:02.407Z"
   },
   {
    "duration": 29,
    "start_time": "2023-06-12T04:24:02.433Z"
   },
   {
    "duration": 20,
    "start_time": "2023-06-12T04:24:02.464Z"
   },
   {
    "duration": 44,
    "start_time": "2023-06-12T04:24:02.485Z"
   },
   {
    "duration": 31,
    "start_time": "2023-06-12T04:24:02.531Z"
   },
   {
    "duration": 20,
    "start_time": "2023-06-12T04:24:02.564Z"
   },
   {
    "duration": 51,
    "start_time": "2023-06-12T04:24:02.586Z"
   },
   {
    "duration": 44,
    "start_time": "2023-06-12T04:24:02.638Z"
   },
   {
    "duration": 25,
    "start_time": "2023-06-12T04:24:02.683Z"
   },
   {
    "duration": 42,
    "start_time": "2023-06-12T04:24:02.709Z"
   },
   {
    "duration": 29,
    "start_time": "2023-06-12T04:24:02.753Z"
   },
   {
    "duration": 44,
    "start_time": "2023-06-12T04:24:02.783Z"
   },
   {
    "duration": 46,
    "start_time": "2023-06-12T04:24:02.829Z"
   },
   {
    "duration": 25,
    "start_time": "2023-06-12T04:24:02.877Z"
   },
   {
    "duration": 52,
    "start_time": "2023-06-12T04:24:02.903Z"
   },
   {
    "duration": 29,
    "start_time": "2023-06-12T04:24:02.956Z"
   },
   {
    "duration": 21,
    "start_time": "2023-06-12T04:24:02.986Z"
   },
   {
    "duration": 23,
    "start_time": "2023-06-12T04:24:03.008Z"
   },
   {
    "duration": 16,
    "start_time": "2023-06-12T04:24:03.033Z"
   },
   {
    "duration": 41,
    "start_time": "2023-06-12T04:24:03.050Z"
   },
   {
    "duration": 33,
    "start_time": "2023-06-12T04:24:03.093Z"
   },
   {
    "duration": 29,
    "start_time": "2023-06-12T04:24:03.128Z"
   },
   {
    "duration": 18,
    "start_time": "2023-06-12T04:24:03.161Z"
   },
   {
    "duration": 17,
    "start_time": "2023-06-12T04:24:03.180Z"
   },
   {
    "duration": 15,
    "start_time": "2023-06-12T04:24:03.198Z"
   },
   {
    "duration": 31,
    "start_time": "2023-06-12T04:24:03.214Z"
   },
   {
    "duration": 37,
    "start_time": "2023-06-12T04:24:03.246Z"
   },
   {
    "duration": 21,
    "start_time": "2023-06-12T04:24:03.284Z"
   },
   {
    "duration": 25,
    "start_time": "2023-06-12T04:24:03.307Z"
   },
   {
    "duration": 17,
    "start_time": "2023-06-12T04:24:03.333Z"
   },
   {
    "duration": 21,
    "start_time": "2023-06-12T04:24:03.351Z"
   },
   {
    "duration": 30,
    "start_time": "2023-06-12T04:24:03.374Z"
   },
   {
    "duration": 35,
    "start_time": "2023-06-12T04:24:03.405Z"
   },
   {
    "duration": 20,
    "start_time": "2023-06-12T04:24:03.442Z"
   },
   {
    "duration": 12,
    "start_time": "2023-06-12T04:24:03.464Z"
   },
   {
    "duration": 16,
    "start_time": "2023-06-12T04:24:03.478Z"
   },
   {
    "duration": 130,
    "start_time": "2023-06-12T04:24:03.495Z"
   },
   {
    "duration": 6,
    "start_time": "2023-06-12T04:24:03.627Z"
   },
   {
    "duration": 410,
    "start_time": "2023-06-12T04:24:03.634Z"
   },
   {
    "duration": 692,
    "start_time": "2023-06-12T04:24:04.045Z"
   },
   {
    "duration": 115,
    "start_time": "2023-06-12T04:24:04.738Z"
   },
   {
    "duration": 117,
    "start_time": "2023-06-12T04:24:04.854Z"
   },
   {
    "duration": 120,
    "start_time": "2023-06-12T04:24:04.972Z"
   },
   {
    "duration": 209,
    "start_time": "2023-06-12T04:24:05.093Z"
   },
   {
    "duration": 136,
    "start_time": "2023-06-12T04:24:05.303Z"
   },
   {
    "duration": 136,
    "start_time": "2023-06-12T04:24:05.440Z"
   },
   {
    "duration": 3451,
    "start_time": "2023-06-12T04:24:50.955Z"
   },
   {
    "duration": 3,
    "start_time": "2023-06-12T04:24:54.407Z"
   },
   {
    "duration": 67,
    "start_time": "2023-06-12T04:24:54.416Z"
   },
   {
    "duration": 21,
    "start_time": "2023-06-12T04:24:54.485Z"
   },
   {
    "duration": 27,
    "start_time": "2023-06-12T04:24:54.507Z"
   },
   {
    "duration": 18,
    "start_time": "2023-06-12T04:24:54.536Z"
   },
   {
    "duration": 24,
    "start_time": "2023-06-12T04:24:54.555Z"
   },
   {
    "duration": 11,
    "start_time": "2023-06-12T04:24:54.580Z"
   },
   {
    "duration": 12,
    "start_time": "2023-06-12T04:24:54.592Z"
   },
   {
    "duration": 27,
    "start_time": "2023-06-12T04:24:54.606Z"
   },
   {
    "duration": 8,
    "start_time": "2023-06-12T04:24:54.634Z"
   },
   {
    "duration": 24,
    "start_time": "2023-06-12T04:24:54.644Z"
   },
   {
    "duration": 12,
    "start_time": "2023-06-12T04:24:54.669Z"
   },
   {
    "duration": 21,
    "start_time": "2023-06-12T04:24:54.682Z"
   },
   {
    "duration": 10,
    "start_time": "2023-06-12T04:24:54.704Z"
   },
   {
    "duration": 32,
    "start_time": "2023-06-12T04:24:54.715Z"
   },
   {
    "duration": 24,
    "start_time": "2023-06-12T04:24:54.748Z"
   },
   {
    "duration": 7,
    "start_time": "2023-06-12T04:24:54.774Z"
   },
   {
    "duration": 11,
    "start_time": "2023-06-12T04:24:54.782Z"
   },
   {
    "duration": 30,
    "start_time": "2023-06-12T04:24:54.795Z"
   },
   {
    "duration": 15,
    "start_time": "2023-06-12T04:24:54.827Z"
   },
   {
    "duration": 43,
    "start_time": "2023-06-12T04:24:54.844Z"
   },
   {
    "duration": 21,
    "start_time": "2023-06-12T04:24:54.888Z"
   },
   {
    "duration": 16,
    "start_time": "2023-06-12T04:24:54.910Z"
   },
   {
    "duration": 27,
    "start_time": "2023-06-12T04:24:54.928Z"
   },
   {
    "duration": 36,
    "start_time": "2023-06-12T04:24:54.956Z"
   },
   {
    "duration": 54,
    "start_time": "2023-06-12T04:24:54.994Z"
   },
   {
    "duration": 41,
    "start_time": "2023-06-12T04:24:55.052Z"
   },
   {
    "duration": 32,
    "start_time": "2023-06-12T04:24:55.094Z"
   },
   {
    "duration": 20,
    "start_time": "2023-06-12T04:24:55.128Z"
   },
   {
    "duration": 37,
    "start_time": "2023-06-12T04:24:55.149Z"
   },
   {
    "duration": 50,
    "start_time": "2023-06-12T04:24:55.188Z"
   },
   {
    "duration": 15,
    "start_time": "2023-06-12T04:24:55.240Z"
   },
   {
    "duration": 26,
    "start_time": "2023-06-12T04:24:55.257Z"
   },
   {
    "duration": 22,
    "start_time": "2023-06-12T04:24:55.284Z"
   },
   {
    "duration": 6,
    "start_time": "2023-06-12T04:24:55.307Z"
   },
   {
    "duration": 30,
    "start_time": "2023-06-12T04:24:55.315Z"
   },
   {
    "duration": 19,
    "start_time": "2023-06-12T04:24:55.346Z"
   },
   {
    "duration": 13,
    "start_time": "2023-06-12T04:24:55.367Z"
   },
   {
    "duration": 24,
    "start_time": "2023-06-12T04:24:55.382Z"
   },
   {
    "duration": 38,
    "start_time": "2023-06-12T04:24:55.407Z"
   },
   {
    "duration": 108,
    "start_time": "2023-06-12T04:24:55.446Z"
   },
   {
    "duration": 6,
    "start_time": "2023-06-12T04:24:55.555Z"
   },
   {
    "duration": 380,
    "start_time": "2023-06-12T04:24:55.562Z"
   },
   {
    "duration": 682,
    "start_time": "2023-06-12T04:24:55.944Z"
   },
   {
    "duration": 108,
    "start_time": "2023-06-12T04:24:56.627Z"
   },
   {
    "duration": 119,
    "start_time": "2023-06-12T04:24:56.737Z"
   },
   {
    "duration": 126,
    "start_time": "2023-06-12T04:24:56.858Z"
   },
   {
    "duration": 190,
    "start_time": "2023-06-12T04:24:56.985Z"
   },
   {
    "duration": 126,
    "start_time": "2023-06-12T04:24:57.177Z"
   },
   {
    "duration": 137,
    "start_time": "2023-06-12T04:24:57.305Z"
   },
   {
    "duration": 22234,
    "start_time": "2023-06-12T04:24:57.444Z"
   },
   {
    "duration": 5,
    "start_time": "2023-06-12T04:25:19.679Z"
   },
   {
    "duration": 15,
    "start_time": "2023-06-12T04:25:19.686Z"
   },
   {
    "duration": 26,
    "start_time": "2023-06-12T04:25:19.703Z"
   },
   {
    "duration": 24,
    "start_time": "2023-06-12T04:25:19.730Z"
   },
   {
    "duration": 19,
    "start_time": "2023-06-12T04:25:19.755Z"
   },
   {
    "duration": 16,
    "start_time": "2023-06-12T04:25:19.775Z"
   },
   {
    "duration": 17,
    "start_time": "2023-06-12T04:25:19.792Z"
   },
   {
    "duration": 15,
    "start_time": "2023-06-12T04:25:19.810Z"
   },
   {
    "duration": 15,
    "start_time": "2023-06-12T04:25:19.827Z"
   },
   {
    "duration": 32,
    "start_time": "2023-06-12T04:25:19.843Z"
   },
   {
    "duration": 31,
    "start_time": "2023-06-12T04:25:19.876Z"
   },
   {
    "duration": 21,
    "start_time": "2023-06-12T04:25:19.908Z"
   },
   {
    "duration": 9,
    "start_time": "2023-06-12T04:25:19.930Z"
   },
   {
    "duration": 130,
    "start_time": "2023-06-12T04:25:19.941Z"
   },
   {
    "duration": 0,
    "start_time": "2023-06-12T04:25:20.072Z"
   },
   {
    "duration": 0,
    "start_time": "2023-06-12T04:25:20.074Z"
   },
   {
    "duration": 0,
    "start_time": "2023-06-12T04:25:20.075Z"
   },
   {
    "duration": 0,
    "start_time": "2023-06-12T04:25:20.076Z"
   },
   {
    "duration": 0,
    "start_time": "2023-06-12T04:25:20.078Z"
   },
   {
    "duration": 0,
    "start_time": "2023-06-12T04:25:20.079Z"
   },
   {
    "duration": 0,
    "start_time": "2023-06-12T04:25:20.080Z"
   },
   {
    "duration": 0,
    "start_time": "2023-06-12T04:25:20.082Z"
   },
   {
    "duration": 0,
    "start_time": "2023-06-12T04:25:20.083Z"
   },
   {
    "duration": 0,
    "start_time": "2023-06-12T04:25:20.085Z"
   },
   {
    "duration": 0,
    "start_time": "2023-06-12T04:25:20.086Z"
   },
   {
    "duration": 0,
    "start_time": "2023-06-12T04:25:20.088Z"
   },
   {
    "duration": 0,
    "start_time": "2023-06-12T04:25:20.089Z"
   },
   {
    "duration": 0,
    "start_time": "2023-06-12T04:25:20.090Z"
   },
   {
    "duration": 0,
    "start_time": "2023-06-12T04:25:20.092Z"
   },
   {
    "duration": 0,
    "start_time": "2023-06-12T04:25:20.117Z"
   },
   {
    "duration": 3,
    "start_time": "2023-06-12T04:35:59.298Z"
   },
   {
    "duration": 7,
    "start_time": "2023-06-12T04:35:59.600Z"
   },
   {
    "duration": 22,
    "start_time": "2023-06-12T04:35:59.807Z"
   },
   {
    "duration": 2,
    "start_time": "2023-06-12T04:36:01.097Z"
   },
   {
    "duration": 4,
    "start_time": "2023-06-12T04:36:01.472Z"
   },
   {
    "duration": 74918,
    "start_time": "2023-06-12T04:36:01.641Z"
   },
   {
    "duration": 3,
    "start_time": "2023-06-12T04:37:16.561Z"
   },
   {
    "duration": 6,
    "start_time": "2023-06-12T04:37:16.565Z"
   },
   {
    "duration": 7069,
    "start_time": "2023-06-12T04:37:16.573Z"
   },
   {
    "duration": 6,
    "start_time": "2023-06-12T04:37:23.723Z"
   },
   {
    "duration": 133,
    "start_time": "2023-06-12T04:37:23.731Z"
   },
   {
    "duration": 438168,
    "start_time": "2023-06-12T04:37:23.866Z"
   },
   {
    "duration": 8,
    "start_time": "2023-06-12T04:44:42.035Z"
   },
   {
    "duration": 12,
    "start_time": "2023-06-12T04:44:42.044Z"
   },
   {
    "duration": 4,
    "start_time": "2023-06-12T04:44:42.058Z"
   },
   {
    "duration": 16,
    "start_time": "2023-06-12T04:44:42.063Z"
   },
   {
    "duration": 0,
    "start_time": "2023-06-12T04:44:42.081Z"
   },
   {
    "duration": 0,
    "start_time": "2023-06-12T04:44:42.082Z"
   },
   {
    "duration": 4758,
    "start_time": "2023-06-12T08:40:06.407Z"
   },
   {
    "duration": 3,
    "start_time": "2023-06-12T08:40:11.168Z"
   },
   {
    "duration": 167,
    "start_time": "2023-06-12T08:40:11.172Z"
   },
   {
    "duration": 66,
    "start_time": "2023-06-12T08:40:11.341Z"
   },
   {
    "duration": 98,
    "start_time": "2023-06-12T08:40:11.409Z"
   },
   {
    "duration": 66,
    "start_time": "2023-06-12T08:40:11.509Z"
   },
   {
    "duration": 20,
    "start_time": "2023-06-12T08:40:11.577Z"
   },
   {
    "duration": 13,
    "start_time": "2023-06-12T08:40:11.598Z"
   },
   {
    "duration": 27,
    "start_time": "2023-06-12T08:40:11.612Z"
   },
   {
    "duration": 27,
    "start_time": "2023-06-12T08:40:11.640Z"
   },
   {
    "duration": 28,
    "start_time": "2023-06-12T08:40:11.668Z"
   },
   {
    "duration": 31,
    "start_time": "2023-06-12T08:40:11.697Z"
   },
   {
    "duration": 20,
    "start_time": "2023-06-12T08:40:11.730Z"
   },
   {
    "duration": 23,
    "start_time": "2023-06-12T08:40:11.758Z"
   },
   {
    "duration": 19,
    "start_time": "2023-06-12T08:40:11.783Z"
   },
   {
    "duration": 13,
    "start_time": "2023-06-12T08:40:11.804Z"
   },
   {
    "duration": 52,
    "start_time": "2023-06-12T08:40:11.819Z"
   },
   {
    "duration": 8,
    "start_time": "2023-06-12T08:40:11.873Z"
   },
   {
    "duration": 26,
    "start_time": "2023-06-12T08:40:11.882Z"
   },
   {
    "duration": 22,
    "start_time": "2023-06-12T08:40:11.910Z"
   },
   {
    "duration": 6,
    "start_time": "2023-06-12T08:40:11.933Z"
   },
   {
    "duration": 23,
    "start_time": "2023-06-12T08:40:11.940Z"
   },
   {
    "duration": 4,
    "start_time": "2023-06-12T08:40:11.966Z"
   },
   {
    "duration": 16,
    "start_time": "2023-06-12T08:40:11.971Z"
   },
   {
    "duration": 25,
    "start_time": "2023-06-12T08:40:11.988Z"
   },
   {
    "duration": 21,
    "start_time": "2023-06-12T08:40:12.014Z"
   },
   {
    "duration": 21,
    "start_time": "2023-06-12T08:40:12.036Z"
   },
   {
    "duration": 9,
    "start_time": "2023-06-12T08:40:12.061Z"
   },
   {
    "duration": 12,
    "start_time": "2023-06-12T08:40:12.072Z"
   },
   {
    "duration": 10,
    "start_time": "2023-06-12T08:40:12.085Z"
   },
   {
    "duration": 7,
    "start_time": "2023-06-12T08:40:12.097Z"
   },
   {
    "duration": 10,
    "start_time": "2023-06-12T08:40:12.106Z"
   },
   {
    "duration": 17,
    "start_time": "2023-06-12T08:40:12.118Z"
   },
   {
    "duration": 36,
    "start_time": "2023-06-12T08:40:12.137Z"
   },
   {
    "duration": 11,
    "start_time": "2023-06-12T08:40:12.175Z"
   },
   {
    "duration": 9,
    "start_time": "2023-06-12T08:40:12.187Z"
   },
   {
    "duration": 18,
    "start_time": "2023-06-12T08:40:12.198Z"
   },
   {
    "duration": 18,
    "start_time": "2023-06-12T08:40:12.218Z"
   },
   {
    "duration": 22,
    "start_time": "2023-06-12T08:40:12.237Z"
   },
   {
    "duration": 13,
    "start_time": "2023-06-12T08:40:12.261Z"
   },
   {
    "duration": 19,
    "start_time": "2023-06-12T08:40:12.280Z"
   },
   {
    "duration": 165,
    "start_time": "2023-06-12T08:40:12.300Z"
   },
   {
    "duration": 8,
    "start_time": "2023-06-12T08:40:12.468Z"
   },
   {
    "duration": 455,
    "start_time": "2023-06-12T08:40:12.478Z"
   },
   {
    "duration": 808,
    "start_time": "2023-06-12T08:40:12.934Z"
   },
   {
    "duration": 139,
    "start_time": "2023-06-12T08:40:13.744Z"
   },
   {
    "duration": 137,
    "start_time": "2023-06-12T08:40:13.884Z"
   },
   {
    "duration": 152,
    "start_time": "2023-06-12T08:40:14.023Z"
   },
   {
    "duration": 257,
    "start_time": "2023-06-12T08:40:14.177Z"
   },
   {
    "duration": 187,
    "start_time": "2023-06-12T08:40:14.436Z"
   },
   {
    "duration": 162,
    "start_time": "2023-06-12T08:40:14.625Z"
   },
   {
    "duration": 24731,
    "start_time": "2023-06-12T08:40:14.789Z"
   },
   {
    "duration": 5,
    "start_time": "2023-06-12T08:40:39.522Z"
   },
   {
    "duration": 5,
    "start_time": "2023-06-12T08:40:39.529Z"
   },
   {
    "duration": 9,
    "start_time": "2023-06-12T08:40:39.536Z"
   },
   {
    "duration": 19,
    "start_time": "2023-06-12T08:40:39.547Z"
   },
   {
    "duration": 7,
    "start_time": "2023-06-12T08:40:39.568Z"
   },
   {
    "duration": 10,
    "start_time": "2023-06-12T08:40:39.577Z"
   },
   {
    "duration": 4,
    "start_time": "2023-06-12T08:40:39.589Z"
   },
   {
    "duration": 10,
    "start_time": "2023-06-12T08:40:39.595Z"
   },
   {
    "duration": 9,
    "start_time": "2023-06-12T08:40:39.607Z"
   },
   {
    "duration": 11,
    "start_time": "2023-06-12T08:40:39.618Z"
   },
   {
    "duration": 64,
    "start_time": "2023-06-12T08:40:39.630Z"
   },
   {
    "duration": 19,
    "start_time": "2023-06-12T08:40:39.695Z"
   },
   {
    "duration": 3,
    "start_time": "2023-06-12T08:40:39.716Z"
   },
   {
    "duration": 9,
    "start_time": "2023-06-12T08:40:39.721Z"
   },
   {
    "duration": 30,
    "start_time": "2023-06-12T08:40:39.732Z"
   },
   {
    "duration": 6,
    "start_time": "2023-06-12T08:40:39.764Z"
   },
   {
    "duration": 5,
    "start_time": "2023-06-12T08:40:39.772Z"
   },
   {
    "duration": 81566,
    "start_time": "2023-06-12T08:40:39.778Z"
   },
   {
    "duration": 10,
    "start_time": "2023-06-12T08:42:01.346Z"
   },
   {
    "duration": 57,
    "start_time": "2023-06-12T08:42:01.363Z"
   },
   {
    "duration": 7235,
    "start_time": "2023-06-12T08:42:01.422Z"
   },
   {
    "duration": 7,
    "start_time": "2023-06-12T08:42:08.659Z"
   },
   {
    "duration": 92,
    "start_time": "2023-06-12T08:42:08.668Z"
   },
   {
    "duration": 441700,
    "start_time": "2023-06-12T08:42:08.762Z"
   },
   {
    "duration": 13,
    "start_time": "2023-06-12T08:49:30.464Z"
   },
   {
    "duration": 51,
    "start_time": "2023-06-12T08:49:30.479Z"
   },
   {
    "duration": 41,
    "start_time": "2023-06-12T08:49:30.532Z"
   },
   {
    "duration": 160,
    "start_time": "2023-06-12T08:49:30.575Z"
   },
   {
    "duration": 0,
    "start_time": "2023-06-12T08:49:30.737Z"
   },
   {
    "duration": 0,
    "start_time": "2023-06-12T08:49:30.738Z"
   },
   {
    "duration": 3441,
    "start_time": "2023-06-12T08:58:57.531Z"
   },
   {
    "duration": 3,
    "start_time": "2023-06-12T08:59:00.974Z"
   },
   {
    "duration": 64,
    "start_time": "2023-06-12T08:59:00.979Z"
   },
   {
    "duration": 22,
    "start_time": "2023-06-12T08:59:01.045Z"
   },
   {
    "duration": 22,
    "start_time": "2023-06-12T08:59:01.069Z"
   },
   {
    "duration": 18,
    "start_time": "2023-06-12T08:59:01.093Z"
   },
   {
    "duration": 31,
    "start_time": "2023-06-12T08:59:01.112Z"
   },
   {
    "duration": 34,
    "start_time": "2023-06-12T08:59:01.145Z"
   },
   {
    "duration": 27,
    "start_time": "2023-06-12T08:59:01.181Z"
   },
   {
    "duration": 43,
    "start_time": "2023-06-12T08:59:01.211Z"
   },
   {
    "duration": 28,
    "start_time": "2023-06-12T08:59:01.256Z"
   },
   {
    "duration": 44,
    "start_time": "2023-06-12T08:59:01.286Z"
   },
   {
    "duration": 34,
    "start_time": "2023-06-12T08:59:01.331Z"
   },
   {
    "duration": 71,
    "start_time": "2023-06-12T08:59:01.367Z"
   },
   {
    "duration": 79,
    "start_time": "2023-06-12T08:59:01.439Z"
   },
   {
    "duration": 82,
    "start_time": "2023-06-12T08:59:01.520Z"
   },
   {
    "duration": 76,
    "start_time": "2023-06-12T08:59:01.604Z"
   },
   {
    "duration": 8,
    "start_time": "2023-06-12T08:59:01.682Z"
   },
   {
    "duration": 46,
    "start_time": "2023-06-12T08:59:01.692Z"
   },
   {
    "duration": 54,
    "start_time": "2023-06-12T08:59:01.740Z"
   },
   {
    "duration": 58,
    "start_time": "2023-06-12T08:59:01.796Z"
   },
   {
    "duration": 58,
    "start_time": "2023-06-12T08:59:01.855Z"
   },
   {
    "duration": 25,
    "start_time": "2023-06-12T08:59:01.916Z"
   },
   {
    "duration": 22,
    "start_time": "2023-06-12T08:59:01.943Z"
   },
   {
    "duration": 24,
    "start_time": "2023-06-12T08:59:01.967Z"
   },
   {
    "duration": 15,
    "start_time": "2023-06-12T08:59:01.993Z"
   },
   {
    "duration": 11,
    "start_time": "2023-06-12T08:59:02.011Z"
   },
   {
    "duration": 9,
    "start_time": "2023-06-12T08:59:02.027Z"
   },
   {
    "duration": 9,
    "start_time": "2023-06-12T08:59:02.037Z"
   },
   {
    "duration": 17,
    "start_time": "2023-06-12T08:59:02.048Z"
   },
   {
    "duration": 15,
    "start_time": "2023-06-12T08:59:02.067Z"
   },
   {
    "duration": 13,
    "start_time": "2023-06-12T08:59:02.084Z"
   },
   {
    "duration": 15,
    "start_time": "2023-06-12T08:59:02.098Z"
   },
   {
    "duration": 41,
    "start_time": "2023-06-12T08:59:02.115Z"
   },
   {
    "duration": 12,
    "start_time": "2023-06-12T08:59:02.158Z"
   },
   {
    "duration": 6,
    "start_time": "2023-06-12T08:59:02.172Z"
   },
   {
    "duration": 16,
    "start_time": "2023-06-12T08:59:02.180Z"
   },
   {
    "duration": 37,
    "start_time": "2023-06-12T08:59:02.198Z"
   },
   {
    "duration": 15,
    "start_time": "2023-06-12T08:59:02.236Z"
   },
   {
    "duration": 11,
    "start_time": "2023-06-12T08:59:02.252Z"
   },
   {
    "duration": 18,
    "start_time": "2023-06-12T08:59:02.264Z"
   },
   {
    "duration": 143,
    "start_time": "2023-06-12T08:59:02.283Z"
   },
   {
    "duration": 8,
    "start_time": "2023-06-12T08:59:02.428Z"
   },
   {
    "duration": 438,
    "start_time": "2023-06-12T08:59:02.438Z"
   },
   {
    "duration": 726,
    "start_time": "2023-06-12T08:59:02.877Z"
   },
   {
    "duration": 118,
    "start_time": "2023-06-12T08:59:03.605Z"
   },
   {
    "duration": 140,
    "start_time": "2023-06-12T08:59:03.724Z"
   },
   {
    "duration": 129,
    "start_time": "2023-06-12T08:59:03.866Z"
   },
   {
    "duration": 214,
    "start_time": "2023-06-12T08:59:03.997Z"
   },
   {
    "duration": 178,
    "start_time": "2023-06-12T08:59:04.213Z"
   },
   {
    "duration": 169,
    "start_time": "2023-06-12T08:59:04.394Z"
   },
   {
    "duration": 23172,
    "start_time": "2023-06-12T08:59:04.564Z"
   },
   {
    "duration": 6,
    "start_time": "2023-06-12T08:59:27.737Z"
   },
   {
    "duration": 16,
    "start_time": "2023-06-12T08:59:27.745Z"
   },
   {
    "duration": 16,
    "start_time": "2023-06-12T08:59:27.763Z"
   },
   {
    "duration": 8,
    "start_time": "2023-06-12T08:59:27.781Z"
   },
   {
    "duration": 8,
    "start_time": "2023-06-12T08:59:27.790Z"
   },
   {
    "duration": 11,
    "start_time": "2023-06-12T08:59:27.800Z"
   },
   {
    "duration": 5,
    "start_time": "2023-06-12T08:59:27.812Z"
   },
   {
    "duration": 5,
    "start_time": "2023-06-12T08:59:27.818Z"
   },
   {
    "duration": 8,
    "start_time": "2023-06-12T08:59:27.825Z"
   },
   {
    "duration": 16,
    "start_time": "2023-06-12T08:59:27.834Z"
   },
   {
    "duration": 29,
    "start_time": "2023-06-12T08:59:27.851Z"
   },
   {
    "duration": 15,
    "start_time": "2023-06-12T08:59:27.882Z"
   },
   {
    "duration": 3,
    "start_time": "2023-06-12T08:59:27.899Z"
   },
   {
    "duration": 16,
    "start_time": "2023-06-12T08:59:27.903Z"
   },
   {
    "duration": 13,
    "start_time": "2023-06-12T08:59:27.921Z"
   },
   {
    "duration": 8,
    "start_time": "2023-06-12T08:59:27.951Z"
   },
   {
    "duration": 13,
    "start_time": "2023-06-12T08:59:27.960Z"
   },
   {
    "duration": 81009,
    "start_time": "2023-06-12T08:59:27.975Z"
   },
   {
    "duration": 3,
    "start_time": "2023-06-12T09:00:48.985Z"
   },
   {
    "duration": 26,
    "start_time": "2023-06-12T09:00:48.990Z"
   },
   {
    "duration": 17737,
    "start_time": "2023-06-12T09:00:49.018Z"
   },
   {
    "duration": 6,
    "start_time": "2023-06-12T09:01:06.758Z"
   },
   {
    "duration": 7,
    "start_time": "2023-06-12T09:01:06.769Z"
   },
   {
    "duration": 3930678,
    "start_time": "2023-06-12T09:01:06.788Z"
   },
   {
    "duration": 9,
    "start_time": "2023-06-12T10:06:37.468Z"
   },
   {
    "duration": 17,
    "start_time": "2023-06-12T10:06:37.479Z"
   },
   {
    "duration": 3,
    "start_time": "2023-06-12T10:06:37.498Z"
   },
   {
    "duration": 8,
    "start_time": "2023-06-12T10:06:37.503Z"
   },
   {
    "duration": 6,
    "start_time": "2023-06-12T10:06:37.513Z"
   },
   {
    "duration": 209,
    "start_time": "2023-06-12T10:06:37.525Z"
   },
   {
    "duration": 3610,
    "start_time": "2023-06-12T10:11:56.358Z"
   },
   {
    "duration": 3,
    "start_time": "2023-06-12T10:11:59.970Z"
   },
   {
    "duration": 44,
    "start_time": "2023-06-12T10:11:59.974Z"
   },
   {
    "duration": 21,
    "start_time": "2023-06-12T10:12:00.020Z"
   },
   {
    "duration": 48,
    "start_time": "2023-06-12T10:12:00.043Z"
   },
   {
    "duration": 37,
    "start_time": "2023-06-12T10:12:00.093Z"
   },
   {
    "duration": 42,
    "start_time": "2023-06-12T10:12:00.131Z"
   },
   {
    "duration": 26,
    "start_time": "2023-06-12T10:12:00.175Z"
   },
   {
    "duration": 36,
    "start_time": "2023-06-12T10:12:00.202Z"
   },
   {
    "duration": 53,
    "start_time": "2023-06-12T10:12:00.240Z"
   },
   {
    "duration": 16,
    "start_time": "2023-06-12T10:12:00.295Z"
   },
   {
    "duration": 26,
    "start_time": "2023-06-12T10:12:00.312Z"
   },
   {
    "duration": 51,
    "start_time": "2023-06-12T10:12:00.340Z"
   },
   {
    "duration": 66,
    "start_time": "2023-06-12T10:12:00.393Z"
   },
   {
    "duration": 37,
    "start_time": "2023-06-12T10:12:00.461Z"
   },
   {
    "duration": 46,
    "start_time": "2023-06-12T10:12:00.500Z"
   },
   {
    "duration": 68,
    "start_time": "2023-06-12T10:12:00.548Z"
   },
   {
    "duration": 33,
    "start_time": "2023-06-12T10:12:00.618Z"
   },
   {
    "duration": 40,
    "start_time": "2023-06-12T10:12:00.653Z"
   },
   {
    "duration": 42,
    "start_time": "2023-06-12T10:12:00.694Z"
   },
   {
    "duration": 21,
    "start_time": "2023-06-12T10:12:00.737Z"
   },
   {
    "duration": 44,
    "start_time": "2023-06-12T10:12:00.760Z"
   },
   {
    "duration": 36,
    "start_time": "2023-06-12T10:12:00.805Z"
   },
   {
    "duration": 27,
    "start_time": "2023-06-12T10:12:00.843Z"
   },
   {
    "duration": 43,
    "start_time": "2023-06-12T10:12:00.872Z"
   },
   {
    "duration": 31,
    "start_time": "2023-06-12T10:12:00.917Z"
   },
   {
    "duration": 34,
    "start_time": "2023-06-12T10:12:00.951Z"
   },
   {
    "duration": 30,
    "start_time": "2023-06-12T10:12:00.992Z"
   },
   {
    "duration": 22,
    "start_time": "2023-06-12T10:12:01.025Z"
   },
   {
    "duration": 37,
    "start_time": "2023-06-12T10:12:01.050Z"
   },
   {
    "duration": 24,
    "start_time": "2023-06-12T10:12:01.090Z"
   },
   {
    "duration": 57,
    "start_time": "2023-06-12T10:12:01.116Z"
   },
   {
    "duration": 36,
    "start_time": "2023-06-12T10:12:01.176Z"
   },
   {
    "duration": 79,
    "start_time": "2023-06-12T10:12:01.214Z"
   },
   {
    "duration": 39,
    "start_time": "2023-06-12T10:12:01.295Z"
   },
   {
    "duration": 63,
    "start_time": "2023-06-12T10:12:01.337Z"
   },
   {
    "duration": 47,
    "start_time": "2023-06-12T10:12:01.402Z"
   },
   {
    "duration": 44,
    "start_time": "2023-06-12T10:12:01.452Z"
   },
   {
    "duration": 34,
    "start_time": "2023-06-12T10:12:01.498Z"
   },
   {
    "duration": 43,
    "start_time": "2023-06-12T10:12:01.534Z"
   },
   {
    "duration": 60,
    "start_time": "2023-06-12T10:12:01.579Z"
   },
   {
    "duration": 172,
    "start_time": "2023-06-12T10:12:01.641Z"
   },
   {
    "duration": 7,
    "start_time": "2023-06-12T10:12:01.815Z"
   },
   {
    "duration": 461,
    "start_time": "2023-06-12T10:12:01.824Z"
   },
   {
    "duration": 793,
    "start_time": "2023-06-12T10:12:02.287Z"
   },
   {
    "duration": 132,
    "start_time": "2023-06-12T10:12:03.082Z"
   },
   {
    "duration": 136,
    "start_time": "2023-06-12T10:12:03.216Z"
   },
   {
    "duration": 138,
    "start_time": "2023-06-12T10:12:03.354Z"
   },
   {
    "duration": 233,
    "start_time": "2023-06-12T10:12:03.494Z"
   },
   {
    "duration": 151,
    "start_time": "2023-06-12T10:12:03.728Z"
   },
   {
    "duration": 151,
    "start_time": "2023-06-12T10:12:03.881Z"
   },
   {
    "duration": 24418,
    "start_time": "2023-06-12T10:12:04.034Z"
   },
   {
    "duration": 6,
    "start_time": "2023-06-12T10:12:28.453Z"
   },
   {
    "duration": 6,
    "start_time": "2023-06-12T10:12:28.461Z"
   },
   {
    "duration": 12,
    "start_time": "2023-06-12T10:12:28.469Z"
   },
   {
    "duration": 9,
    "start_time": "2023-06-12T10:12:28.483Z"
   },
   {
    "duration": 9,
    "start_time": "2023-06-12T10:12:28.494Z"
   },
   {
    "duration": 45,
    "start_time": "2023-06-12T10:12:28.505Z"
   },
   {
    "duration": 4,
    "start_time": "2023-06-12T10:12:28.552Z"
   },
   {
    "duration": 17,
    "start_time": "2023-06-12T10:12:28.558Z"
   },
   {
    "duration": 13,
    "start_time": "2023-06-12T10:12:28.577Z"
   },
   {
    "duration": 10,
    "start_time": "2023-06-12T10:12:28.593Z"
   },
   {
    "duration": 33,
    "start_time": "2023-06-12T10:12:28.605Z"
   },
   {
    "duration": 16,
    "start_time": "2023-06-12T10:12:28.640Z"
   },
   {
    "duration": 6,
    "start_time": "2023-06-12T10:12:28.658Z"
   },
   {
    "duration": 46,
    "start_time": "2023-06-12T10:12:28.666Z"
   },
   {
    "duration": 36,
    "start_time": "2023-06-12T10:12:28.713Z"
   },
   {
    "duration": 22,
    "start_time": "2023-06-12T10:12:28.751Z"
   },
   {
    "duration": 24,
    "start_time": "2023-06-12T10:12:28.775Z"
   },
   {
    "duration": 147332,
    "start_time": "2023-06-12T10:12:28.800Z"
   },
   {
    "duration": 3,
    "start_time": "2023-06-12T10:14:56.134Z"
   },
   {
    "duration": 20,
    "start_time": "2023-06-12T10:14:56.138Z"
   },
   {
    "duration": 19394,
    "start_time": "2023-06-12T10:14:56.160Z"
   },
   {
    "duration": 4,
    "start_time": "2023-06-12T10:15:15.556Z"
   },
   {
    "duration": 116,
    "start_time": "2023-06-12T10:15:15.563Z"
   },
   {
    "duration": 0,
    "start_time": "2023-06-12T10:15:15.681Z"
   },
   {
    "duration": 0,
    "start_time": "2023-06-12T10:15:15.683Z"
   },
   {
    "duration": 0,
    "start_time": "2023-06-12T10:15:15.685Z"
   },
   {
    "duration": 0,
    "start_time": "2023-06-12T10:15:15.686Z"
   },
   {
    "duration": 0,
    "start_time": "2023-06-12T10:15:15.688Z"
   },
   {
    "duration": 0,
    "start_time": "2023-06-12T10:15:15.689Z"
   },
   {
    "duration": 1,
    "start_time": "2023-06-12T10:15:15.690Z"
   },
   {
    "duration": 5,
    "start_time": "2023-06-12T10:16:39.159Z"
   },
   {
    "duration": 193,
    "start_time": "2023-06-12T10:16:40.490Z"
   },
   {
    "duration": 3,
    "start_time": "2023-06-12T10:17:16.173Z"
   },
   {
    "duration": 2165273,
    "start_time": "2023-06-12T10:17:16.810Z"
   },
   {
    "duration": 8,
    "start_time": "2023-06-12T10:53:22.085Z"
   },
   {
    "duration": 9,
    "start_time": "2023-06-12T10:53:22.095Z"
   },
   {
    "duration": 10,
    "start_time": "2023-06-12T10:53:22.106Z"
   },
   {
    "duration": 25,
    "start_time": "2023-06-12T10:53:22.117Z"
   },
   {
    "duration": 18,
    "start_time": "2023-06-12T10:53:22.144Z"
   },
   {
    "duration": 189,
    "start_time": "2023-06-12T10:53:22.164Z"
   },
   {
    "duration": 3545,
    "start_time": "2023-06-12T10:59:28.980Z"
   },
   {
    "duration": 3,
    "start_time": "2023-06-12T10:59:32.528Z"
   },
   {
    "duration": 69,
    "start_time": "2023-06-12T10:59:32.533Z"
   },
   {
    "duration": 21,
    "start_time": "2023-06-12T10:59:32.604Z"
   },
   {
    "duration": 21,
    "start_time": "2023-06-12T10:59:32.627Z"
   },
   {
    "duration": 19,
    "start_time": "2023-06-12T10:59:32.650Z"
   },
   {
    "duration": 19,
    "start_time": "2023-06-12T10:59:32.671Z"
   },
   {
    "duration": 12,
    "start_time": "2023-06-12T10:59:32.692Z"
   },
   {
    "duration": 50,
    "start_time": "2023-06-12T10:59:32.706Z"
   },
   {
    "duration": 25,
    "start_time": "2023-06-12T10:59:32.759Z"
   },
   {
    "duration": 44,
    "start_time": "2023-06-12T10:59:32.786Z"
   },
   {
    "duration": 34,
    "start_time": "2023-06-12T10:59:32.832Z"
   },
   {
    "duration": 32,
    "start_time": "2023-06-12T10:59:32.868Z"
   },
   {
    "duration": 23,
    "start_time": "2023-06-12T10:59:32.902Z"
   },
   {
    "duration": 18,
    "start_time": "2023-06-12T10:59:32.926Z"
   },
   {
    "duration": 11,
    "start_time": "2023-06-12T10:59:32.946Z"
   },
   {
    "duration": 29,
    "start_time": "2023-06-12T10:59:32.959Z"
   },
   {
    "duration": 8,
    "start_time": "2023-06-12T10:59:32.990Z"
   },
   {
    "duration": 22,
    "start_time": "2023-06-12T10:59:33.000Z"
   },
   {
    "duration": 31,
    "start_time": "2023-06-12T10:59:33.024Z"
   },
   {
    "duration": 3,
    "start_time": "2023-06-12T10:59:33.056Z"
   },
   {
    "duration": 7,
    "start_time": "2023-06-12T10:59:33.061Z"
   },
   {
    "duration": 6,
    "start_time": "2023-06-12T10:59:33.070Z"
   },
   {
    "duration": 14,
    "start_time": "2023-06-12T10:59:33.078Z"
   },
   {
    "duration": 19,
    "start_time": "2023-06-12T10:59:33.094Z"
   },
   {
    "duration": 14,
    "start_time": "2023-06-12T10:59:33.116Z"
   },
   {
    "duration": 11,
    "start_time": "2023-06-12T10:59:33.151Z"
   },
   {
    "duration": 9,
    "start_time": "2023-06-12T10:59:33.166Z"
   },
   {
    "duration": 6,
    "start_time": "2023-06-12T10:59:33.177Z"
   },
   {
    "duration": 6,
    "start_time": "2023-06-12T10:59:33.185Z"
   },
   {
    "duration": 9,
    "start_time": "2023-06-12T10:59:33.192Z"
   },
   {
    "duration": 30,
    "start_time": "2023-06-12T10:59:33.202Z"
   },
   {
    "duration": 3,
    "start_time": "2023-06-12T10:59:33.234Z"
   },
   {
    "duration": 24,
    "start_time": "2023-06-12T10:59:33.250Z"
   },
   {
    "duration": 10,
    "start_time": "2023-06-12T10:59:33.276Z"
   },
   {
    "duration": 19,
    "start_time": "2023-06-12T10:59:33.288Z"
   },
   {
    "duration": 21,
    "start_time": "2023-06-12T10:59:33.309Z"
   },
   {
    "duration": 24,
    "start_time": "2023-06-12T10:59:33.332Z"
   },
   {
    "duration": 15,
    "start_time": "2023-06-12T10:59:33.358Z"
   },
   {
    "duration": 25,
    "start_time": "2023-06-12T10:59:33.375Z"
   },
   {
    "duration": 16,
    "start_time": "2023-06-12T10:59:33.402Z"
   },
   {
    "duration": 139,
    "start_time": "2023-06-12T10:59:33.419Z"
   },
   {
    "duration": 7,
    "start_time": "2023-06-12T10:59:33.559Z"
   },
   {
    "duration": 435,
    "start_time": "2023-06-12T10:59:33.567Z"
   },
   {
    "duration": 838,
    "start_time": "2023-06-12T10:59:34.004Z"
   },
   {
    "duration": 121,
    "start_time": "2023-06-12T10:59:34.850Z"
   },
   {
    "duration": 133,
    "start_time": "2023-06-12T10:59:34.973Z"
   },
   {
    "duration": 136,
    "start_time": "2023-06-12T10:59:35.107Z"
   },
   {
    "duration": 219,
    "start_time": "2023-06-12T10:59:35.245Z"
   },
   {
    "duration": 145,
    "start_time": "2023-06-12T10:59:35.465Z"
   },
   {
    "duration": 147,
    "start_time": "2023-06-12T10:59:35.611Z"
   },
   {
    "duration": 23732,
    "start_time": "2023-06-12T10:59:35.760Z"
   },
   {
    "duration": 5,
    "start_time": "2023-06-12T10:59:59.494Z"
   },
   {
    "duration": 5,
    "start_time": "2023-06-12T10:59:59.501Z"
   },
   {
    "duration": 8,
    "start_time": "2023-06-12T10:59:59.507Z"
   },
   {
    "duration": 6,
    "start_time": "2023-06-12T10:59:59.516Z"
   },
   {
    "duration": 7,
    "start_time": "2023-06-12T10:59:59.523Z"
   },
   {
    "duration": 7,
    "start_time": "2023-06-12T10:59:59.531Z"
   },
   {
    "duration": 5,
    "start_time": "2023-06-12T10:59:59.539Z"
   },
   {
    "duration": 8,
    "start_time": "2023-06-12T10:59:59.545Z"
   },
   {
    "duration": 5,
    "start_time": "2023-06-12T10:59:59.555Z"
   },
   {
    "duration": 7,
    "start_time": "2023-06-12T10:59:59.562Z"
   },
   {
    "duration": 35,
    "start_time": "2023-06-12T10:59:59.571Z"
   },
   {
    "duration": 16,
    "start_time": "2023-06-12T10:59:59.608Z"
   },
   {
    "duration": 2,
    "start_time": "2023-06-12T10:59:59.626Z"
   },
   {
    "duration": 26,
    "start_time": "2023-06-12T10:59:59.630Z"
   },
   {
    "duration": 12,
    "start_time": "2023-06-12T10:59:59.658Z"
   },
   {
    "duration": 3,
    "start_time": "2023-06-12T10:59:59.671Z"
   },
   {
    "duration": 13,
    "start_time": "2023-06-12T10:59:59.676Z"
   },
   {
    "duration": 143929,
    "start_time": "2023-06-12T10:59:59.691Z"
   },
   {
    "duration": 3,
    "start_time": "2023-06-12T11:02:23.622Z"
   },
   {
    "duration": 10,
    "start_time": "2023-06-12T11:02:23.626Z"
   },
   {
    "duration": 14613,
    "start_time": "2023-06-12T11:02:23.638Z"
   },
   {
    "duration": 3,
    "start_time": "2023-06-12T11:02:38.253Z"
   },
   {
    "duration": 96,
    "start_time": "2023-06-12T11:02:38.258Z"
   },
   {
    "duration": 2267436,
    "start_time": "2023-06-12T11:02:38.356Z"
   },
   {
    "duration": 9,
    "start_time": "2023-06-12T11:40:25.793Z"
   },
   {
    "duration": 17,
    "start_time": "2023-06-12T11:40:25.803Z"
   },
   {
    "duration": 3,
    "start_time": "2023-06-12T11:40:25.821Z"
   },
   {
    "duration": 28,
    "start_time": "2023-06-12T11:40:25.825Z"
   },
   {
    "duration": 4,
    "start_time": "2023-06-12T11:40:25.855Z"
   },
   {
    "duration": 189,
    "start_time": "2023-06-12T11:40:25.864Z"
   },
   {
    "duration": 3585,
    "start_time": "2023-06-12T13:02:41.358Z"
   },
   {
    "duration": 5,
    "start_time": "2023-06-12T13:02:44.945Z"
   },
   {
    "duration": 63,
    "start_time": "2023-06-12T13:02:44.952Z"
   },
   {
    "duration": 20,
    "start_time": "2023-06-12T13:02:45.017Z"
   },
   {
    "duration": 74,
    "start_time": "2023-06-12T13:02:45.039Z"
   },
   {
    "duration": 34,
    "start_time": "2023-06-12T13:02:45.115Z"
   },
   {
    "duration": 27,
    "start_time": "2023-06-12T13:02:45.151Z"
   },
   {
    "duration": 14,
    "start_time": "2023-06-12T13:02:45.180Z"
   },
   {
    "duration": 40,
    "start_time": "2023-06-12T13:02:45.196Z"
   },
   {
    "duration": 23,
    "start_time": "2023-06-12T13:02:45.240Z"
   },
   {
    "duration": 10,
    "start_time": "2023-06-12T13:02:45.265Z"
   },
   {
    "duration": 18,
    "start_time": "2023-06-12T13:02:45.277Z"
   },
   {
    "duration": 23,
    "start_time": "2023-06-12T13:02:45.296Z"
   },
   {
    "duration": 20,
    "start_time": "2023-06-12T13:02:45.321Z"
   },
   {
    "duration": 15,
    "start_time": "2023-06-12T13:02:45.349Z"
   },
   {
    "duration": 13,
    "start_time": "2023-06-12T13:02:45.366Z"
   },
   {
    "duration": 36,
    "start_time": "2023-06-12T13:02:45.381Z"
   },
   {
    "duration": 11,
    "start_time": "2023-06-12T13:02:45.419Z"
   },
   {
    "duration": 11,
    "start_time": "2023-06-12T13:02:45.449Z"
   },
   {
    "duration": 21,
    "start_time": "2023-06-12T13:02:45.462Z"
   },
   {
    "duration": 17,
    "start_time": "2023-06-12T13:02:45.484Z"
   },
   {
    "duration": 8,
    "start_time": "2023-06-12T13:02:45.502Z"
   },
   {
    "duration": 22,
    "start_time": "2023-06-12T13:02:45.512Z"
   },
   {
    "duration": 14,
    "start_time": "2023-06-12T13:02:45.537Z"
   },
   {
    "duration": 47,
    "start_time": "2023-06-12T13:02:45.552Z"
   },
   {
    "duration": 15,
    "start_time": "2023-06-12T13:02:45.601Z"
   },
   {
    "duration": 9,
    "start_time": "2023-06-12T13:02:45.618Z"
   },
   {
    "duration": 9,
    "start_time": "2023-06-12T13:02:45.633Z"
   },
   {
    "duration": 6,
    "start_time": "2023-06-12T13:02:45.644Z"
   },
   {
    "duration": 28,
    "start_time": "2023-06-12T13:02:45.652Z"
   },
   {
    "duration": 10,
    "start_time": "2023-06-12T13:02:45.682Z"
   },
   {
    "duration": 43,
    "start_time": "2023-06-12T13:02:45.695Z"
   },
   {
    "duration": 9,
    "start_time": "2023-06-12T13:02:45.740Z"
   },
   {
    "duration": 29,
    "start_time": "2023-06-12T13:02:45.751Z"
   },
   {
    "duration": 13,
    "start_time": "2023-06-12T13:02:45.782Z"
   },
   {
    "duration": 36,
    "start_time": "2023-06-12T13:02:45.797Z"
   },
   {
    "duration": 17,
    "start_time": "2023-06-12T13:02:45.834Z"
   },
   {
    "duration": 25,
    "start_time": "2023-06-12T13:02:45.853Z"
   },
   {
    "duration": 17,
    "start_time": "2023-06-12T13:02:45.880Z"
   },
   {
    "duration": 11,
    "start_time": "2023-06-12T13:02:45.899Z"
   },
   {
    "duration": 16,
    "start_time": "2023-06-12T13:02:45.912Z"
   },
   {
    "duration": 137,
    "start_time": "2023-06-12T13:02:45.929Z"
   },
   {
    "duration": 6,
    "start_time": "2023-06-12T13:02:46.069Z"
   },
   {
    "duration": 428,
    "start_time": "2023-06-12T13:02:46.077Z"
   },
   {
    "duration": 790,
    "start_time": "2023-06-12T13:02:46.508Z"
   },
   {
    "duration": 126,
    "start_time": "2023-06-12T13:02:47.300Z"
   },
   {
    "duration": 145,
    "start_time": "2023-06-12T13:02:47.429Z"
   },
   {
    "duration": 140,
    "start_time": "2023-06-12T13:02:47.576Z"
   },
   {
    "duration": 220,
    "start_time": "2023-06-12T13:02:47.718Z"
   },
   {
    "duration": 149,
    "start_time": "2023-06-12T13:02:47.940Z"
   },
   {
    "duration": 146,
    "start_time": "2023-06-12T13:02:48.091Z"
   },
   {
    "duration": 23784,
    "start_time": "2023-06-12T13:02:48.239Z"
   },
   {
    "duration": 6,
    "start_time": "2023-06-12T13:03:12.025Z"
   },
   {
    "duration": 8,
    "start_time": "2023-06-12T13:03:12.032Z"
   },
   {
    "duration": 9,
    "start_time": "2023-06-12T13:03:12.041Z"
   },
   {
    "duration": 6,
    "start_time": "2023-06-12T13:03:12.052Z"
   },
   {
    "duration": 7,
    "start_time": "2023-06-12T13:03:12.060Z"
   },
   {
    "duration": 6,
    "start_time": "2023-06-12T13:03:12.069Z"
   },
   {
    "duration": 4,
    "start_time": "2023-06-12T13:03:12.077Z"
   },
   {
    "duration": 33,
    "start_time": "2023-06-12T13:03:12.083Z"
   },
   {
    "duration": 9,
    "start_time": "2023-06-12T13:03:12.118Z"
   },
   {
    "duration": 9,
    "start_time": "2023-06-12T13:03:12.129Z"
   },
   {
    "duration": 41,
    "start_time": "2023-06-12T13:03:12.140Z"
   },
   {
    "duration": 16,
    "start_time": "2023-06-12T13:03:12.183Z"
   },
   {
    "duration": 2,
    "start_time": "2023-06-12T13:03:12.201Z"
   },
   {
    "duration": 8,
    "start_time": "2023-06-12T13:03:12.205Z"
   },
   {
    "duration": 24,
    "start_time": "2023-06-12T13:03:12.215Z"
   },
   {
    "duration": 9,
    "start_time": "2023-06-12T13:03:12.241Z"
   },
   {
    "duration": 19,
    "start_time": "2023-06-12T13:03:12.252Z"
   },
   {
    "duration": 144856,
    "start_time": "2023-06-12T13:03:12.273Z"
   },
   {
    "duration": 3,
    "start_time": "2023-06-12T13:05:37.131Z"
   },
   {
    "duration": 11,
    "start_time": "2023-06-12T13:05:37.136Z"
   },
   {
    "duration": 22113,
    "start_time": "2023-06-12T13:05:37.150Z"
   },
   {
    "duration": 3,
    "start_time": "2023-06-12T13:05:59.351Z"
   },
   {
    "duration": 95,
    "start_time": "2023-06-12T13:05:59.356Z"
   },
   {
    "duration": 598708,
    "start_time": "2023-06-12T13:05:59.453Z"
   },
   {
    "duration": 11,
    "start_time": "2023-06-12T13:15:58.163Z"
   },
   {
    "duration": 12,
    "start_time": "2023-06-12T13:15:58.176Z"
   },
   {
    "duration": 4,
    "start_time": "2023-06-12T13:15:58.191Z"
   },
   {
    "duration": 11,
    "start_time": "2023-06-12T13:15:58.198Z"
   },
   {
    "duration": 5,
    "start_time": "2023-06-12T13:15:58.212Z"
   },
   {
    "duration": 286,
    "start_time": "2023-06-12T13:15:58.253Z"
   },
   {
    "duration": 10,
    "start_time": "2023-06-12T13:16:48.165Z"
   },
   {
    "duration": 4325,
    "start_time": "2023-06-12T13:17:06.656Z"
   },
   {
    "duration": 3,
    "start_time": "2023-06-12T13:17:10.983Z"
   },
   {
    "duration": 54,
    "start_time": "2023-06-12T13:17:10.988Z"
   },
   {
    "duration": 34,
    "start_time": "2023-06-12T13:17:11.050Z"
   },
   {
    "duration": 24,
    "start_time": "2023-06-12T13:17:11.088Z"
   },
   {
    "duration": 19,
    "start_time": "2023-06-12T13:17:11.114Z"
   },
   {
    "duration": 25,
    "start_time": "2023-06-12T13:17:11.135Z"
   },
   {
    "duration": 23,
    "start_time": "2023-06-12T13:17:11.163Z"
   },
   {
    "duration": 20,
    "start_time": "2023-06-12T13:17:11.188Z"
   },
   {
    "duration": 56,
    "start_time": "2023-06-12T13:17:11.211Z"
   },
   {
    "duration": 17,
    "start_time": "2023-06-12T13:17:11.270Z"
   },
   {
    "duration": 21,
    "start_time": "2023-06-12T13:17:11.291Z"
   },
   {
    "duration": 43,
    "start_time": "2023-06-12T13:17:11.315Z"
   },
   {
    "duration": 24,
    "start_time": "2023-06-12T13:17:11.363Z"
   },
   {
    "duration": 18,
    "start_time": "2023-06-12T13:17:11.390Z"
   },
   {
    "duration": 45,
    "start_time": "2023-06-12T13:17:11.411Z"
   },
   {
    "duration": 70,
    "start_time": "2023-06-12T13:17:11.460Z"
   },
   {
    "duration": 12,
    "start_time": "2023-06-12T13:17:11.532Z"
   },
   {
    "duration": 54,
    "start_time": "2023-06-12T13:17:11.551Z"
   },
   {
    "duration": 20,
    "start_time": "2023-06-12T13:17:11.607Z"
   },
   {
    "duration": 5,
    "start_time": "2023-06-12T13:17:11.630Z"
   },
   {
    "duration": 14,
    "start_time": "2023-06-12T13:17:11.637Z"
   },
   {
    "duration": 7,
    "start_time": "2023-06-12T13:17:11.653Z"
   },
   {
    "duration": 19,
    "start_time": "2023-06-12T13:17:11.662Z"
   },
   {
    "duration": 17,
    "start_time": "2023-06-12T13:17:11.684Z"
   },
   {
    "duration": 13,
    "start_time": "2023-06-12T13:17:11.705Z"
   },
   {
    "duration": 11,
    "start_time": "2023-06-12T13:17:11.720Z"
   },
   {
    "duration": 27,
    "start_time": "2023-06-12T13:17:11.733Z"
   },
   {
    "duration": 8,
    "start_time": "2023-06-12T13:17:11.762Z"
   },
   {
    "duration": 10,
    "start_time": "2023-06-12T13:17:11.772Z"
   },
   {
    "duration": 8,
    "start_time": "2023-06-12T13:17:11.784Z"
   },
   {
    "duration": 13,
    "start_time": "2023-06-12T13:17:11.795Z"
   },
   {
    "duration": 6,
    "start_time": "2023-06-12T13:17:11.810Z"
   },
   {
    "duration": 54,
    "start_time": "2023-06-12T13:17:11.818Z"
   },
   {
    "duration": 9,
    "start_time": "2023-06-12T13:17:11.875Z"
   },
   {
    "duration": 15,
    "start_time": "2023-06-12T13:17:11.888Z"
   },
   {
    "duration": 28,
    "start_time": "2023-06-12T13:17:11.907Z"
   },
   {
    "duration": 33,
    "start_time": "2023-06-12T13:17:11.950Z"
   },
   {
    "duration": 32,
    "start_time": "2023-06-12T13:17:11.987Z"
   },
   {
    "duration": 39,
    "start_time": "2023-06-12T13:17:12.022Z"
   },
   {
    "duration": 26,
    "start_time": "2023-06-12T13:17:12.067Z"
   },
   {
    "duration": 192,
    "start_time": "2023-06-12T13:17:12.095Z"
   },
   {
    "duration": 10,
    "start_time": "2023-06-12T13:17:12.289Z"
   },
   {
    "duration": 806,
    "start_time": "2023-06-12T13:17:12.301Z"
   },
   {
    "duration": 1463,
    "start_time": "2023-06-12T13:17:13.110Z"
   },
   {
    "duration": 180,
    "start_time": "2023-06-12T13:17:14.575Z"
   },
   {
    "duration": 186,
    "start_time": "2023-06-12T13:17:14.757Z"
   },
   {
    "duration": 179,
    "start_time": "2023-06-12T13:17:14.945Z"
   },
   {
    "duration": 270,
    "start_time": "2023-06-12T13:17:15.127Z"
   },
   {
    "duration": 162,
    "start_time": "2023-06-12T13:17:15.399Z"
   },
   {
    "duration": 147,
    "start_time": "2023-06-12T13:17:15.564Z"
   },
   {
    "duration": 25391,
    "start_time": "2023-06-12T13:17:15.713Z"
   },
   {
    "duration": 7,
    "start_time": "2023-06-12T13:17:41.106Z"
   },
   {
    "duration": 13,
    "start_time": "2023-06-12T13:17:41.115Z"
   },
   {
    "duration": 11,
    "start_time": "2023-06-12T13:17:41.130Z"
   },
   {
    "duration": 26,
    "start_time": "2023-06-12T13:17:41.143Z"
   },
   {
    "duration": 13,
    "start_time": "2023-06-12T13:17:41.172Z"
   },
   {
    "duration": 9,
    "start_time": "2023-06-12T13:17:41.189Z"
   },
   {
    "duration": 9,
    "start_time": "2023-06-12T13:17:41.200Z"
   },
   {
    "duration": 5,
    "start_time": "2023-06-12T13:17:41.212Z"
   },
   {
    "duration": 12,
    "start_time": "2023-06-12T13:17:41.219Z"
   },
   {
    "duration": 152,
    "start_time": "2023-06-12T13:17:41.233Z"
   },
   {
    "duration": 0,
    "start_time": "2023-06-12T13:17:41.387Z"
   },
   {
    "duration": 0,
    "start_time": "2023-06-12T13:17:41.390Z"
   },
   {
    "duration": 0,
    "start_time": "2023-06-12T13:17:41.392Z"
   },
   {
    "duration": 0,
    "start_time": "2023-06-12T13:17:41.395Z"
   },
   {
    "duration": 0,
    "start_time": "2023-06-12T13:17:41.396Z"
   },
   {
    "duration": 0,
    "start_time": "2023-06-12T13:17:41.397Z"
   },
   {
    "duration": 0,
    "start_time": "2023-06-12T13:17:41.399Z"
   },
   {
    "duration": 0,
    "start_time": "2023-06-12T13:17:41.401Z"
   },
   {
    "duration": 0,
    "start_time": "2023-06-12T13:17:41.402Z"
   },
   {
    "duration": 0,
    "start_time": "2023-06-12T13:17:41.403Z"
   },
   {
    "duration": 0,
    "start_time": "2023-06-12T13:17:41.404Z"
   },
   {
    "duration": 0,
    "start_time": "2023-06-12T13:17:41.406Z"
   },
   {
    "duration": 0,
    "start_time": "2023-06-12T13:17:41.407Z"
   },
   {
    "duration": 0,
    "start_time": "2023-06-12T13:17:41.408Z"
   },
   {
    "duration": 0,
    "start_time": "2023-06-12T13:17:41.410Z"
   },
   {
    "duration": 0,
    "start_time": "2023-06-12T13:17:41.411Z"
   },
   {
    "duration": 0,
    "start_time": "2023-06-12T13:17:41.450Z"
   },
   {
    "duration": 0,
    "start_time": "2023-06-12T13:17:41.451Z"
   },
   {
    "duration": 0,
    "start_time": "2023-06-12T13:17:41.453Z"
   },
   {
    "duration": 0,
    "start_time": "2023-06-12T13:17:41.454Z"
   },
   {
    "duration": 11,
    "start_time": "2023-06-12T13:18:25.276Z"
   },
   {
    "duration": 54,
    "start_time": "2023-06-12T13:18:26.559Z"
   },
   {
    "duration": 16,
    "start_time": "2023-06-12T13:18:44.387Z"
   },
   {
    "duration": 4,
    "start_time": "2023-06-12T13:18:45.004Z"
   },
   {
    "duration": 8,
    "start_time": "2023-06-12T13:18:45.204Z"
   },
   {
    "duration": 16,
    "start_time": "2023-06-12T13:18:45.388Z"
   },
   {
    "duration": 4,
    "start_time": "2023-06-12T13:18:47.990Z"
   },
   {
    "duration": 4,
    "start_time": "2023-06-12T13:18:48.363Z"
   },
   {
    "duration": 158660,
    "start_time": "2023-06-12T13:18:48.562Z"
   },
   {
    "duration": 3,
    "start_time": "2023-06-12T13:21:27.224Z"
   },
   {
    "duration": 5,
    "start_time": "2023-06-12T13:21:27.229Z"
   },
   {
    "duration": 49120,
    "start_time": "2023-06-12T13:21:27.236Z"
   },
   {
    "duration": 4,
    "start_time": "2023-06-12T13:22:16.358Z"
   },
   {
    "duration": 10,
    "start_time": "2023-06-12T13:22:16.364Z"
   },
   {
    "duration": 668192,
    "start_time": "2023-06-12T13:22:16.377Z"
   },
   {
    "duration": 9,
    "start_time": "2023-06-12T13:33:24.573Z"
   },
   {
    "duration": 12,
    "start_time": "2023-06-12T13:33:24.585Z"
   },
   {
    "duration": 3,
    "start_time": "2023-06-12T13:33:24.600Z"
   },
   {
    "duration": 14,
    "start_time": "2023-06-12T13:33:24.605Z"
   },
   {
    "duration": 5,
    "start_time": "2023-06-12T13:33:24.621Z"
   },
   {
    "duration": 214,
    "start_time": "2023-06-12T13:33:24.628Z"
   },
   {
    "duration": 6,
    "start_time": "2023-06-12T13:37:05.649Z"
   },
   {
    "duration": 4,
    "start_time": "2023-06-12T13:37:12.766Z"
   },
   {
    "duration": 17,
    "start_time": "2023-06-12T13:39:05.571Z"
   },
   {
    "duration": 6,
    "start_time": "2023-06-12T13:39:10.835Z"
   },
   {
    "duration": 191,
    "start_time": "2023-06-12T13:39:11.302Z"
   },
   {
    "duration": 10,
    "start_time": "2023-06-12T13:42:17.757Z"
   },
   {
    "duration": 5,
    "start_time": "2023-06-12T13:42:45.269Z"
   },
   {
    "duration": 190,
    "start_time": "2023-06-12T13:42:45.751Z"
   },
   {
    "duration": 4,
    "start_time": "2023-06-12T13:44:41.554Z"
   },
   {
    "duration": 4,
    "start_time": "2023-06-12T13:44:58.964Z"
   },
   {
    "duration": 4,
    "start_time": "2023-06-12T13:45:06.155Z"
   },
   {
    "duration": 12,
    "start_time": "2023-06-12T13:47:07.055Z"
   },
   {
    "duration": 10,
    "start_time": "2023-06-12T13:47:43.098Z"
   },
   {
    "duration": 181,
    "start_time": "2023-06-12T13:47:43.428Z"
   },
   {
    "duration": 4,
    "start_time": "2023-06-12T13:47:54.091Z"
   },
   {
    "duration": 181,
    "start_time": "2023-06-12T13:47:54.403Z"
   },
   {
    "duration": 183,
    "start_time": "2023-06-12T13:48:01.274Z"
   },
   {
    "duration": 5,
    "start_time": "2023-06-12T13:58:57.447Z"
   },
   {
    "duration": 5,
    "start_time": "2023-06-12T13:58:58.567Z"
   },
   {
    "duration": 189,
    "start_time": "2023-06-12T13:58:59.441Z"
   },
   {
    "duration": 8,
    "start_time": "2023-06-12T13:59:45.638Z"
   },
   {
    "duration": 708,
    "start_time": "2023-06-12T14:15:56.209Z"
   },
   {
    "duration": 3485,
    "start_time": "2023-06-12T14:16:22.766Z"
   },
   {
    "duration": 3,
    "start_time": "2023-06-12T14:16:26.253Z"
   },
   {
    "duration": 72,
    "start_time": "2023-06-12T14:16:26.257Z"
   },
   {
    "duration": 21,
    "start_time": "2023-06-12T14:16:26.331Z"
   },
   {
    "duration": 23,
    "start_time": "2023-06-12T14:16:26.354Z"
   },
   {
    "duration": 17,
    "start_time": "2023-06-12T14:16:26.379Z"
   },
   {
    "duration": 17,
    "start_time": "2023-06-12T14:16:26.398Z"
   },
   {
    "duration": 14,
    "start_time": "2023-06-12T14:16:26.416Z"
   },
   {
    "duration": 11,
    "start_time": "2023-06-12T14:16:26.432Z"
   },
   {
    "duration": 23,
    "start_time": "2023-06-12T14:16:26.450Z"
   },
   {
    "duration": 12,
    "start_time": "2023-06-12T14:16:26.475Z"
   },
   {
    "duration": 15,
    "start_time": "2023-06-12T14:16:26.489Z"
   },
   {
    "duration": 16,
    "start_time": "2023-06-12T14:16:26.506Z"
   },
   {
    "duration": 44,
    "start_time": "2023-06-12T14:16:26.526Z"
   },
   {
    "duration": 19,
    "start_time": "2023-06-12T14:16:26.572Z"
   },
   {
    "duration": 12,
    "start_time": "2023-06-12T14:16:26.593Z"
   },
   {
    "duration": 58,
    "start_time": "2023-06-12T14:16:26.606Z"
   },
   {
    "duration": 8,
    "start_time": "2023-06-12T14:16:26.666Z"
   },
   {
    "duration": 22,
    "start_time": "2023-06-12T14:16:26.675Z"
   },
   {
    "duration": 18,
    "start_time": "2023-06-12T14:16:26.699Z"
   },
   {
    "duration": 4,
    "start_time": "2023-06-12T14:16:26.718Z"
   },
   {
    "duration": 4,
    "start_time": "2023-06-12T14:16:26.724Z"
   },
   {
    "duration": 20,
    "start_time": "2023-06-12T14:16:26.730Z"
   },
   {
    "duration": 5,
    "start_time": "2023-06-12T14:16:26.752Z"
   },
   {
    "duration": 16,
    "start_time": "2023-06-12T14:16:26.758Z"
   },
   {
    "duration": 10,
    "start_time": "2023-06-12T14:16:26.776Z"
   },
   {
    "duration": 26,
    "start_time": "2023-06-12T14:16:26.787Z"
   },
   {
    "duration": 13,
    "start_time": "2023-06-12T14:16:26.815Z"
   },
   {
    "duration": 7,
    "start_time": "2023-06-12T14:16:26.830Z"
   },
   {
    "duration": 19,
    "start_time": "2023-06-12T14:16:26.838Z"
   },
   {
    "duration": 5,
    "start_time": "2023-06-12T14:16:26.858Z"
   },
   {
    "duration": 11,
    "start_time": "2023-06-12T14:16:26.865Z"
   },
   {
    "duration": 5,
    "start_time": "2023-06-12T14:16:26.877Z"
   },
   {
    "duration": 15,
    "start_time": "2023-06-12T14:16:26.884Z"
   },
   {
    "duration": 12,
    "start_time": "2023-06-12T14:16:26.901Z"
   },
   {
    "duration": 5,
    "start_time": "2023-06-12T14:16:26.915Z"
   },
   {
    "duration": 29,
    "start_time": "2023-06-12T14:16:26.921Z"
   },
   {
    "duration": 20,
    "start_time": "2023-06-12T14:16:26.952Z"
   },
   {
    "duration": 17,
    "start_time": "2023-06-12T14:16:26.973Z"
   },
   {
    "duration": 14,
    "start_time": "2023-06-12T14:16:26.992Z"
   },
   {
    "duration": 44,
    "start_time": "2023-06-12T14:16:27.010Z"
   },
   {
    "duration": 135,
    "start_time": "2023-06-12T14:16:27.056Z"
   },
   {
    "duration": 7,
    "start_time": "2023-06-12T14:16:27.193Z"
   },
   {
    "duration": 423,
    "start_time": "2023-06-12T14:16:27.202Z"
   },
   {
    "duration": 753,
    "start_time": "2023-06-12T14:16:27.627Z"
   },
   {
    "duration": 120,
    "start_time": "2023-06-12T14:16:28.381Z"
   },
   {
    "duration": 129,
    "start_time": "2023-06-12T14:16:28.503Z"
   },
   {
    "duration": 136,
    "start_time": "2023-06-12T14:16:28.634Z"
   },
   {
    "duration": 221,
    "start_time": "2023-06-12T14:16:28.771Z"
   },
   {
    "duration": 143,
    "start_time": "2023-06-12T14:16:28.994Z"
   },
   {
    "duration": 142,
    "start_time": "2023-06-12T14:16:29.139Z"
   },
   {
    "duration": 24205,
    "start_time": "2023-06-12T14:16:29.283Z"
   },
   {
    "duration": 5,
    "start_time": "2023-06-12T14:16:53.489Z"
   },
   {
    "duration": 20,
    "start_time": "2023-06-12T14:16:53.496Z"
   },
   {
    "duration": 23,
    "start_time": "2023-06-12T14:16:53.517Z"
   },
   {
    "duration": 11,
    "start_time": "2023-06-12T14:16:53.542Z"
   },
   {
    "duration": 9,
    "start_time": "2023-06-12T14:16:53.554Z"
   },
   {
    "duration": 32,
    "start_time": "2023-06-12T14:16:53.564Z"
   },
   {
    "duration": 24,
    "start_time": "2023-06-12T14:16:53.598Z"
   },
   {
    "duration": 9,
    "start_time": "2023-06-12T14:16:53.624Z"
   },
   {
    "duration": 11,
    "start_time": "2023-06-12T14:16:53.634Z"
   },
   {
    "duration": 18,
    "start_time": "2023-06-12T14:16:53.646Z"
   },
   {
    "duration": 24,
    "start_time": "2023-06-12T14:16:53.665Z"
   },
   {
    "duration": 51,
    "start_time": "2023-06-12T14:16:53.691Z"
   },
   {
    "duration": 17,
    "start_time": "2023-06-12T14:16:53.744Z"
   },
   {
    "duration": 3,
    "start_time": "2023-06-12T14:16:53.763Z"
   },
   {
    "duration": 14,
    "start_time": "2023-06-12T14:16:53.768Z"
   },
   {
    "duration": 17,
    "start_time": "2023-06-12T14:16:53.784Z"
   },
   {
    "duration": 3,
    "start_time": "2023-06-12T14:16:53.803Z"
   },
   {
    "duration": 6,
    "start_time": "2023-06-12T14:16:53.808Z"
   },
   {
    "duration": 139861,
    "start_time": "2023-06-12T14:16:53.816Z"
   },
   {
    "duration": 3,
    "start_time": "2023-06-12T14:19:13.679Z"
   },
   {
    "duration": 11,
    "start_time": "2023-06-12T14:19:13.684Z"
   },
   {
    "duration": 13163,
    "start_time": "2023-06-12T14:19:13.696Z"
   },
   {
    "duration": 91,
    "start_time": "2023-06-12T14:19:26.860Z"
   },
   {
    "duration": 98,
    "start_time": "2023-06-12T14:19:26.953Z"
   },
   {
    "duration": 407661,
    "start_time": "2023-06-12T14:19:27.053Z"
   },
   {
    "duration": 8,
    "start_time": "2023-06-12T14:26:14.716Z"
   },
   {
    "duration": 14,
    "start_time": "2023-06-12T14:26:14.727Z"
   },
   {
    "duration": 11,
    "start_time": "2023-06-12T14:26:14.743Z"
   },
   {
    "duration": 6,
    "start_time": "2023-06-12T14:26:14.756Z"
   },
   {
    "duration": 8,
    "start_time": "2023-06-12T14:26:14.763Z"
   },
   {
    "duration": 191,
    "start_time": "2023-06-12T14:26:14.773Z"
   },
   {
    "duration": 3,
    "start_time": "2023-06-12T14:26:14.966Z"
   },
   {
    "duration": 114,
    "start_time": "2023-06-12T14:27:07.586Z"
   },
   {
    "duration": 6,
    "start_time": "2023-06-12T14:27:14.951Z"
   },
   {
    "duration": 5,
    "start_time": "2023-06-12T14:27:25.253Z"
   },
   {
    "duration": 3464,
    "start_time": "2023-06-12T14:30:43.981Z"
   },
   {
    "duration": 2,
    "start_time": "2023-06-12T14:30:47.447Z"
   },
   {
    "duration": 71,
    "start_time": "2023-06-12T14:30:47.451Z"
   },
   {
    "duration": 21,
    "start_time": "2023-06-12T14:30:48.154Z"
   },
   {
    "duration": 29,
    "start_time": "2023-06-12T14:30:48.323Z"
   },
   {
    "duration": 29,
    "start_time": "2023-06-12T14:30:48.507Z"
   },
   {
    "duration": 19,
    "start_time": "2023-06-12T14:30:49.044Z"
   },
   {
    "duration": 14,
    "start_time": "2023-06-12T14:30:49.221Z"
   },
   {
    "duration": 13,
    "start_time": "2023-06-12T14:30:49.380Z"
   },
   {
    "duration": 26,
    "start_time": "2023-06-12T14:30:49.541Z"
   },
   {
    "duration": 13,
    "start_time": "2023-06-12T14:30:50.052Z"
   },
   {
    "duration": 11,
    "start_time": "2023-06-12T14:30:50.220Z"
   },
   {
    "duration": 12,
    "start_time": "2023-06-12T14:30:50.380Z"
   },
   {
    "duration": 16,
    "start_time": "2023-06-12T14:30:50.540Z"
   },
   {
    "duration": 12,
    "start_time": "2023-06-12T14:30:51.014Z"
   },
   {
    "duration": 12,
    "start_time": "2023-06-12T14:30:51.188Z"
   },
   {
    "duration": 24,
    "start_time": "2023-06-12T14:30:51.377Z"
   },
   {
    "duration": 10,
    "start_time": "2023-06-12T14:30:51.876Z"
   },
   {
    "duration": 10,
    "start_time": "2023-06-12T14:30:52.059Z"
   },
   {
    "duration": 15,
    "start_time": "2023-06-12T14:30:52.219Z"
   },
   {
    "duration": 4,
    "start_time": "2023-06-12T14:30:53.443Z"
   },
   {
    "duration": 3,
    "start_time": "2023-06-12T14:30:53.620Z"
   },
   {
    "duration": 5,
    "start_time": "2023-06-12T14:30:53.804Z"
   },
   {
    "duration": 3,
    "start_time": "2023-06-12T14:30:53.980Z"
   },
   {
    "duration": 12,
    "start_time": "2023-06-12T14:30:54.324Z"
   },
   {
    "duration": 10,
    "start_time": "2023-06-12T14:30:54.841Z"
   },
   {
    "duration": 8,
    "start_time": "2023-06-12T14:30:54.996Z"
   },
   {
    "duration": 8,
    "start_time": "2023-06-12T14:30:55.156Z"
   },
   {
    "duration": 6,
    "start_time": "2023-06-12T14:30:55.324Z"
   },
   {
    "duration": 6,
    "start_time": "2023-06-12T14:30:55.820Z"
   },
   {
    "duration": 4,
    "start_time": "2023-06-12T14:30:56.148Z"
   },
   {
    "duration": 10,
    "start_time": "2023-06-12T14:30:56.315Z"
   },
   {
    "duration": 4,
    "start_time": "2023-06-12T14:30:56.651Z"
   },
   {
    "duration": 16,
    "start_time": "2023-06-12T14:30:57.324Z"
   },
   {
    "duration": 4,
    "start_time": "2023-06-12T14:30:57.671Z"
   },
   {
    "duration": 4,
    "start_time": "2023-06-12T14:30:58.011Z"
   },
   {
    "duration": 12,
    "start_time": "2023-06-12T14:30:58.676Z"
   },
   {
    "duration": 20,
    "start_time": "2023-06-12T14:30:58.843Z"
   },
   {
    "duration": 17,
    "start_time": "2023-06-12T14:30:59.195Z"
   },
   {
    "duration": 18,
    "start_time": "2023-06-12T14:30:59.555Z"
   },
   {
    "duration": 25,
    "start_time": "2023-06-12T14:30:59.733Z"
   },
   {
    "duration": 130,
    "start_time": "2023-06-12T14:31:00.605Z"
   },
   {
    "duration": 7,
    "start_time": "2023-06-12T14:31:00.786Z"
   },
   {
    "duration": 526,
    "start_time": "2023-06-12T14:31:01.855Z"
   },
   {
    "duration": 801,
    "start_time": "2023-06-12T14:31:02.384Z"
   },
   {
    "duration": 127,
    "start_time": "2023-06-12T14:31:03.187Z"
   },
   {
    "duration": 146,
    "start_time": "2023-06-12T14:31:03.316Z"
   },
   {
    "duration": 131,
    "start_time": "2023-06-12T14:31:03.521Z"
   },
   {
    "duration": 268,
    "start_time": "2023-06-12T14:31:04.091Z"
   },
   {
    "duration": 143,
    "start_time": "2023-06-12T14:31:04.903Z"
   },
   {
    "duration": 170,
    "start_time": "2023-06-12T14:31:05.916Z"
   },
   {
    "duration": 6,
    "start_time": "2023-06-12T14:31:08.377Z"
   },
   {
    "duration": 8,
    "start_time": "2023-06-12T14:31:08.876Z"
   },
   {
    "duration": 5,
    "start_time": "2023-06-12T14:31:09.348Z"
   },
   {
    "duration": 4,
    "start_time": "2023-06-12T14:31:45.975Z"
   },
   {
    "duration": 3746,
    "start_time": "2023-06-12T14:34:07.659Z"
   },
   {
    "duration": 2,
    "start_time": "2023-06-12T14:34:11.408Z"
   },
   {
    "duration": 56,
    "start_time": "2023-06-12T14:34:11.412Z"
   },
   {
    "duration": 23,
    "start_time": "2023-06-12T14:34:11.470Z"
   },
   {
    "duration": 22,
    "start_time": "2023-06-12T14:34:11.496Z"
   },
   {
    "duration": 18,
    "start_time": "2023-06-12T14:34:11.520Z"
   },
   {
    "duration": 21,
    "start_time": "2023-06-12T14:34:11.539Z"
   },
   {
    "duration": 14,
    "start_time": "2023-06-12T14:34:11.562Z"
   },
   {
    "duration": 14,
    "start_time": "2023-06-12T14:34:11.578Z"
   },
   {
    "duration": 27,
    "start_time": "2023-06-12T14:34:11.594Z"
   },
   {
    "duration": 37,
    "start_time": "2023-06-12T14:34:11.622Z"
   },
   {
    "duration": 12,
    "start_time": "2023-06-12T14:34:11.661Z"
   },
   {
    "duration": 14,
    "start_time": "2023-06-12T14:34:11.675Z"
   },
   {
    "duration": 17,
    "start_time": "2023-06-12T14:34:11.691Z"
   },
   {
    "duration": 43,
    "start_time": "2023-06-12T14:34:11.710Z"
   },
   {
    "duration": 15,
    "start_time": "2023-06-12T14:34:12.387Z"
   },
   {
    "duration": 29,
    "start_time": "2023-06-12T14:34:12.682Z"
   },
   {
    "duration": 8,
    "start_time": "2023-06-12T14:34:13.859Z"
   },
   {
    "duration": 13,
    "start_time": "2023-06-12T14:34:14.244Z"
   },
   {
    "duration": 19,
    "start_time": "2023-06-12T14:34:14.490Z"
   },
   {
    "duration": 4,
    "start_time": "2023-06-12T14:34:16.394Z"
   },
   {
    "duration": 4,
    "start_time": "2023-06-12T14:34:16.774Z"
   },
   {
    "duration": 3,
    "start_time": "2023-06-12T14:34:17.282Z"
   },
   {
    "duration": 3,
    "start_time": "2023-06-12T14:34:17.555Z"
   },
   {
    "duration": 13,
    "start_time": "2023-06-12T14:34:18.172Z"
   },
   {
    "duration": 14,
    "start_time": "2023-06-12T14:34:24.171Z"
   },
   {
    "duration": 9,
    "start_time": "2023-06-12T14:34:24.418Z"
   },
   {
    "duration": 9,
    "start_time": "2023-06-12T14:34:24.746Z"
   },
   {
    "duration": 6,
    "start_time": "2023-06-12T14:34:25.219Z"
   },
   {
    "duration": 7,
    "start_time": "2023-06-12T14:35:13.247Z"
   },
   {
    "duration": 5,
    "start_time": "2023-06-12T14:35:47.742Z"
   },
   {
    "duration": 5,
    "start_time": "2023-06-12T14:35:56.483Z"
   },
   {
    "duration": 5,
    "start_time": "2023-06-12T14:36:03.379Z"
   },
   {
    "duration": 47,
    "start_time": "2023-06-12T14:37:36.859Z"
   },
   {
    "duration": 6,
    "start_time": "2023-06-12T14:37:44.754Z"
   },
   {
    "duration": 3820,
    "start_time": "2023-06-12T14:38:01.096Z"
   },
   {
    "duration": 3,
    "start_time": "2023-06-12T14:38:04.918Z"
   },
   {
    "duration": 51,
    "start_time": "2023-06-12T14:38:04.923Z"
   },
   {
    "duration": 25,
    "start_time": "2023-06-12T14:38:04.977Z"
   },
   {
    "duration": 35,
    "start_time": "2023-06-12T14:38:05.004Z"
   },
   {
    "duration": 19,
    "start_time": "2023-06-12T14:38:05.041Z"
   },
   {
    "duration": 26,
    "start_time": "2023-06-12T14:38:05.062Z"
   },
   {
    "duration": 30,
    "start_time": "2023-06-12T14:38:05.091Z"
   },
   {
    "duration": 45,
    "start_time": "2023-06-12T14:38:05.124Z"
   },
   {
    "duration": 71,
    "start_time": "2023-06-12T14:38:05.171Z"
   },
   {
    "duration": 11,
    "start_time": "2023-06-12T14:38:05.243Z"
   },
   {
    "duration": 51,
    "start_time": "2023-06-12T14:38:05.256Z"
   },
   {
    "duration": 18,
    "start_time": "2023-06-12T14:38:05.309Z"
   },
   {
    "duration": 17,
    "start_time": "2023-06-12T14:38:05.336Z"
   },
   {
    "duration": 13,
    "start_time": "2023-06-12T14:38:05.836Z"
   },
   {
    "duration": 12,
    "start_time": "2023-06-12T14:38:06.002Z"
   },
   {
    "duration": 30,
    "start_time": "2023-06-12T14:38:06.179Z"
   },
   {
    "duration": 9,
    "start_time": "2023-06-12T14:38:06.700Z"
   },
   {
    "duration": 10,
    "start_time": "2023-06-12T14:38:06.880Z"
   },
   {
    "duration": 16,
    "start_time": "2023-06-12T14:38:07.049Z"
   },
   {
    "duration": 4,
    "start_time": "2023-06-12T14:38:09.538Z"
   },
   {
    "duration": 3,
    "start_time": "2023-06-12T14:38:09.921Z"
   },
   {
    "duration": 3,
    "start_time": "2023-06-12T14:38:10.144Z"
   },
   {
    "duration": 3,
    "start_time": "2023-06-12T14:38:10.313Z"
   },
   {
    "duration": 12,
    "start_time": "2023-06-12T14:38:10.735Z"
   },
   {
    "duration": 11,
    "start_time": "2023-06-12T14:38:11.305Z"
   },
   {
    "duration": 10,
    "start_time": "2023-06-12T14:38:11.480Z"
   },
   {
    "duration": 13,
    "start_time": "2023-06-12T14:38:11.677Z"
   },
   {
    "duration": 6,
    "start_time": "2023-06-12T14:38:11.841Z"
   },
   {
    "duration": 7,
    "start_time": "2023-06-12T14:38:12.409Z"
   },
   {
    "duration": 4,
    "start_time": "2023-06-12T14:38:12.881Z"
   },
   {
    "duration": 10,
    "start_time": "2023-06-12T14:38:13.657Z"
   },
   {
    "duration": 4,
    "start_time": "2023-06-12T14:38:15.625Z"
   },
   {
    "duration": 16,
    "start_time": "2023-06-12T14:38:19.545Z"
   },
   {
    "duration": 4,
    "start_time": "2023-06-12T14:38:21.979Z"
   },
   {
    "duration": 4,
    "start_time": "2023-06-12T14:38:23.097Z"
   },
   {
    "duration": 12,
    "start_time": "2023-06-12T14:38:30.948Z"
   },
   {
    "duration": 19,
    "start_time": "2023-06-12T14:38:31.249Z"
   },
   {
    "duration": 18,
    "start_time": "2023-06-12T14:38:31.754Z"
   },
   {
    "duration": 12,
    "start_time": "2023-06-12T14:38:32.081Z"
   },
   {
    "duration": 18,
    "start_time": "2023-06-12T14:38:32.249Z"
   },
   {
    "duration": 122,
    "start_time": "2023-06-12T14:38:33.097Z"
   },
   {
    "duration": 6,
    "start_time": "2023-06-12T14:38:33.279Z"
   },
   {
    "duration": 467,
    "start_time": "2023-06-12T14:38:33.922Z"
   },
   {
    "duration": 771,
    "start_time": "2023-06-12T14:38:34.391Z"
   },
   {
    "duration": 128,
    "start_time": "2023-06-12T14:38:35.165Z"
   },
   {
    "duration": 141,
    "start_time": "2023-06-12T14:38:35.295Z"
   },
   {
    "duration": 137,
    "start_time": "2023-06-12T14:38:35.439Z"
   },
   {
    "duration": 228,
    "start_time": "2023-06-12T14:38:35.578Z"
   },
   {
    "duration": 135,
    "start_time": "2023-06-12T14:38:36.201Z"
   },
   {
    "duration": 149,
    "start_time": "2023-06-12T14:38:36.740Z"
   },
   {
    "duration": 6,
    "start_time": "2023-06-12T14:38:39.954Z"
   },
   {
    "duration": 7,
    "start_time": "2023-06-12T14:38:41.001Z"
   },
   {
    "duration": 4,
    "start_time": "2023-06-12T14:38:46.753Z"
   },
   {
    "duration": 4,
    "start_time": "2023-06-12T14:38:47.106Z"
   },
   {
    "duration": 3764,
    "start_time": "2023-06-12T14:44:00.479Z"
   },
   {
    "duration": 4,
    "start_time": "2023-06-12T14:44:04.246Z"
   },
   {
    "duration": 66,
    "start_time": "2023-06-12T14:44:04.252Z"
   },
   {
    "duration": 25,
    "start_time": "2023-06-12T14:44:04.321Z"
   },
   {
    "duration": 24,
    "start_time": "2023-06-12T14:44:04.348Z"
   },
   {
    "duration": 19,
    "start_time": "2023-06-12T14:44:04.374Z"
   },
   {
    "duration": 20,
    "start_time": "2023-06-12T14:44:04.396Z"
   },
   {
    "duration": 14,
    "start_time": "2023-06-12T14:44:04.417Z"
   },
   {
    "duration": 23,
    "start_time": "2023-06-12T14:44:04.432Z"
   },
   {
    "duration": 36,
    "start_time": "2023-06-12T14:44:04.459Z"
   },
   {
    "duration": 9,
    "start_time": "2023-06-12T14:44:04.497Z"
   },
   {
    "duration": 13,
    "start_time": "2023-06-12T14:44:04.508Z"
   },
   {
    "duration": 43,
    "start_time": "2023-06-12T14:44:04.523Z"
   },
   {
    "duration": 21,
    "start_time": "2023-06-12T14:44:04.569Z"
   },
   {
    "duration": 12,
    "start_time": "2023-06-12T14:44:04.592Z"
   },
   {
    "duration": 45,
    "start_time": "2023-06-12T14:44:04.606Z"
   },
   {
    "duration": 36,
    "start_time": "2023-06-12T14:44:04.653Z"
   },
   {
    "duration": 9,
    "start_time": "2023-06-12T14:44:04.952Z"
   },
   {
    "duration": 11,
    "start_time": "2023-06-12T14:44:05.120Z"
   },
   {
    "duration": 16,
    "start_time": "2023-06-12T14:44:05.296Z"
   },
   {
    "duration": 4,
    "start_time": "2023-06-12T14:44:06.504Z"
   },
   {
    "duration": 4,
    "start_time": "2023-06-12T14:44:06.680Z"
   },
   {
    "duration": 4,
    "start_time": "2023-06-12T14:44:06.840Z"
   },
   {
    "duration": 4,
    "start_time": "2023-06-12T14:44:07.000Z"
   },
   {
    "duration": 14,
    "start_time": "2023-06-12T14:44:07.320Z"
   },
   {
    "duration": 12,
    "start_time": "2023-06-12T14:44:07.792Z"
   },
   {
    "duration": 8,
    "start_time": "2023-06-12T14:44:07.944Z"
   },
   {
    "duration": 8,
    "start_time": "2023-06-12T14:44:08.105Z"
   },
   {
    "duration": 10,
    "start_time": "2023-06-12T14:44:08.277Z"
   },
   {
    "duration": 7,
    "start_time": "2023-06-12T14:44:09.442Z"
   },
   {
    "duration": 5,
    "start_time": "2023-06-12T14:44:10.494Z"
   },
   {
    "duration": 10,
    "start_time": "2023-06-12T14:44:10.815Z"
   },
   {
    "duration": 5,
    "start_time": "2023-06-12T14:44:11.904Z"
   },
   {
    "duration": 16,
    "start_time": "2023-06-12T14:44:15.745Z"
   },
   {
    "duration": 4,
    "start_time": "2023-06-12T14:44:17.407Z"
   },
   {
    "duration": 5,
    "start_time": "2023-06-12T14:44:18.303Z"
   },
   {
    "duration": 12,
    "start_time": "2023-06-12T14:44:21.600Z"
   },
   {
    "duration": 19,
    "start_time": "2023-06-12T14:44:21.791Z"
   },
   {
    "duration": 16,
    "start_time": "2023-06-12T14:44:22.152Z"
   },
   {
    "duration": 13,
    "start_time": "2023-06-12T14:44:23.376Z"
   },
   {
    "duration": 23,
    "start_time": "2023-06-12T14:44:24.248Z"
   },
   {
    "duration": 113,
    "start_time": "2023-06-12T14:44:26.881Z"
   },
   {
    "duration": 6,
    "start_time": "2023-06-12T14:44:27.096Z"
   },
   {
    "duration": 403,
    "start_time": "2023-06-12T14:44:27.816Z"
   },
   {
    "duration": 756,
    "start_time": "2023-06-12T14:44:28.221Z"
   },
   {
    "duration": 131,
    "start_time": "2023-06-12T14:44:28.980Z"
   },
   {
    "duration": 132,
    "start_time": "2023-06-12T14:44:29.113Z"
   },
   {
    "duration": 118,
    "start_time": "2023-06-12T14:44:29.304Z"
   },
   {
    "duration": 210,
    "start_time": "2023-06-12T14:44:30.480Z"
   },
   {
    "duration": 179,
    "start_time": "2023-06-12T14:44:32.440Z"
   },
   {
    "duration": 157,
    "start_time": "2023-06-12T14:44:34.200Z"
   },
   {
    "duration": 5,
    "start_time": "2023-06-12T14:44:41.144Z"
   },
   {
    "duration": 9,
    "start_time": "2023-06-12T14:44:44.875Z"
   },
   {
    "duration": 4,
    "start_time": "2023-06-12T14:44:45.648Z"
   },
   {
    "duration": 4,
    "start_time": "2023-06-12T14:44:46.275Z"
   },
   {
    "duration": 3425,
    "start_time": "2023-06-12T14:45:19.216Z"
   },
   {
    "duration": 3,
    "start_time": "2023-06-12T14:45:22.643Z"
   },
   {
    "duration": 46,
    "start_time": "2023-06-12T14:45:22.650Z"
   },
   {
    "duration": 20,
    "start_time": "2023-06-12T14:45:22.698Z"
   },
   {
    "duration": 21,
    "start_time": "2023-06-12T14:45:22.719Z"
   },
   {
    "duration": 22,
    "start_time": "2023-06-12T14:45:22.742Z"
   },
   {
    "duration": 17,
    "start_time": "2023-06-12T14:45:22.765Z"
   },
   {
    "duration": 12,
    "start_time": "2023-06-12T14:45:22.784Z"
   },
   {
    "duration": 14,
    "start_time": "2023-06-12T14:45:22.797Z"
   },
   {
    "duration": 21,
    "start_time": "2023-06-12T14:45:22.814Z"
   },
   {
    "duration": 10,
    "start_time": "2023-06-12T14:45:22.851Z"
   },
   {
    "duration": 13,
    "start_time": "2023-06-12T14:45:22.863Z"
   },
   {
    "duration": 13,
    "start_time": "2023-06-12T14:45:22.878Z"
   },
   {
    "duration": 23,
    "start_time": "2023-06-12T14:45:22.893Z"
   },
   {
    "duration": 12,
    "start_time": "2023-06-12T14:45:22.918Z"
   },
   {
    "duration": 12,
    "start_time": "2023-06-12T14:45:22.951Z"
   },
   {
    "duration": 31,
    "start_time": "2023-06-12T14:45:22.965Z"
   },
   {
    "duration": 8,
    "start_time": "2023-06-12T14:45:22.998Z"
   },
   {
    "duration": 11,
    "start_time": "2023-06-12T14:45:23.008Z"
   },
   {
    "duration": 41,
    "start_time": "2023-06-12T14:45:23.020Z"
   },
   {
    "duration": 2,
    "start_time": "2023-06-12T14:45:23.063Z"
   },
   {
    "duration": 7,
    "start_time": "2023-06-12T14:45:23.067Z"
   },
   {
    "duration": 5,
    "start_time": "2023-06-12T14:45:23.075Z"
   },
   {
    "duration": 5,
    "start_time": "2023-06-12T14:45:23.081Z"
   },
   {
    "duration": 14,
    "start_time": "2023-06-12T14:45:23.087Z"
   },
   {
    "duration": 9,
    "start_time": "2023-06-12T14:45:23.103Z"
   },
   {
    "duration": 38,
    "start_time": "2023-06-12T14:45:23.113Z"
   },
   {
    "duration": 9,
    "start_time": "2023-06-12T14:45:23.156Z"
   },
   {
    "duration": 6,
    "start_time": "2023-06-12T14:45:23.166Z"
   },
   {
    "duration": 8,
    "start_time": "2023-06-12T14:45:23.173Z"
   },
   {
    "duration": 4,
    "start_time": "2023-06-12T14:45:23.182Z"
   },
   {
    "duration": 9,
    "start_time": "2023-06-12T14:45:23.187Z"
   },
   {
    "duration": 4,
    "start_time": "2023-06-12T14:45:23.198Z"
   },
   {
    "duration": 47,
    "start_time": "2023-06-12T14:45:23.204Z"
   },
   {
    "duration": 5,
    "start_time": "2023-06-12T14:45:23.253Z"
   },
   {
    "duration": 24,
    "start_time": "2023-06-12T14:45:23.260Z"
   },
   {
    "duration": 14,
    "start_time": "2023-06-12T14:45:23.286Z"
   },
   {
    "duration": 17,
    "start_time": "2023-06-12T14:45:23.302Z"
   },
   {
    "duration": 28,
    "start_time": "2023-06-12T14:45:23.321Z"
   },
   {
    "duration": 11,
    "start_time": "2023-06-12T14:45:23.351Z"
   },
   {
    "duration": 18,
    "start_time": "2023-06-12T14:45:23.364Z"
   },
   {
    "duration": 138,
    "start_time": "2023-06-12T14:45:23.384Z"
   },
   {
    "duration": 6,
    "start_time": "2023-06-12T14:45:23.524Z"
   },
   {
    "duration": 406,
    "start_time": "2023-06-12T14:45:23.531Z"
   },
   {
    "duration": 871,
    "start_time": "2023-06-12T14:45:23.939Z"
   },
   {
    "duration": 126,
    "start_time": "2023-06-12T14:45:24.811Z"
   },
   {
    "duration": 131,
    "start_time": "2023-06-12T14:45:24.939Z"
   },
   {
    "duration": 133,
    "start_time": "2023-06-12T14:45:25.072Z"
   },
   {
    "duration": 199,
    "start_time": "2023-06-12T14:45:25.207Z"
   },
   {
    "duration": 149,
    "start_time": "2023-06-12T14:45:25.408Z"
   },
   {
    "duration": 139,
    "start_time": "2023-06-12T14:45:25.558Z"
   },
   {
    "duration": 4,
    "start_time": "2023-06-12T14:45:25.699Z"
   },
   {
    "duration": 10,
    "start_time": "2023-06-12T14:45:25.705Z"
   },
   {
    "duration": 4,
    "start_time": "2023-06-12T14:45:25.717Z"
   },
   {
    "duration": 40750,
    "start_time": "2023-06-12T14:45:25.722Z"
   },
   {
    "duration": 7,
    "start_time": "2023-06-12T14:46:06.474Z"
   },
   {
    "duration": 16,
    "start_time": "2023-06-12T14:46:06.483Z"
   },
   {
    "duration": 6,
    "start_time": "2023-06-12T14:46:06.500Z"
   },
   {
    "duration": 9,
    "start_time": "2023-06-12T14:46:06.507Z"
   },
   {
    "duration": 7,
    "start_time": "2023-06-12T14:46:06.517Z"
   },
   {
    "duration": 5,
    "start_time": "2023-06-12T14:46:06.526Z"
   },
   {
    "duration": 21,
    "start_time": "2023-06-12T14:46:06.532Z"
   },
   {
    "duration": 6,
    "start_time": "2023-06-12T14:46:06.555Z"
   },
   {
    "duration": 8,
    "start_time": "2023-06-12T14:46:06.563Z"
   },
   {
    "duration": 37,
    "start_time": "2023-06-12T14:46:06.572Z"
   },
   {
    "duration": 38,
    "start_time": "2023-06-12T14:46:06.612Z"
   },
   {
    "duration": 4,
    "start_time": "2023-06-12T14:46:06.652Z"
   },
   {
    "duration": 22,
    "start_time": "2023-06-12T14:46:06.658Z"
   },
   {
    "duration": 15,
    "start_time": "2023-06-12T14:46:06.683Z"
   },
   {
    "duration": 3,
    "start_time": "2023-06-12T14:46:06.700Z"
   },
   {
    "duration": 5,
    "start_time": "2023-06-12T14:46:06.704Z"
   },
   {
    "duration": 141680,
    "start_time": "2023-06-12T14:46:06.711Z"
   },
   {
    "duration": 5,
    "start_time": "2023-06-12T14:48:28.393Z"
   },
   {
    "duration": 10,
    "start_time": "2023-06-12T14:48:28.400Z"
   },
   {
    "duration": 39739,
    "start_time": "2023-06-12T14:48:28.412Z"
   },
   {
    "duration": 3,
    "start_time": "2023-06-12T14:49:08.152Z"
   },
   {
    "duration": 93,
    "start_time": "2023-06-12T14:49:08.157Z"
   },
   {
    "duration": 405915,
    "start_time": "2023-06-12T14:49:08.252Z"
   },
   {
    "duration": 11,
    "start_time": "2023-06-12T14:55:54.168Z"
   },
   {
    "duration": 15,
    "start_time": "2023-06-12T14:55:54.180Z"
   },
   {
    "duration": 12,
    "start_time": "2023-06-12T14:55:54.197Z"
   },
   {
    "duration": 5,
    "start_time": "2023-06-12T14:55:54.215Z"
   },
   {
    "duration": 4,
    "start_time": "2023-06-12T14:55:54.223Z"
   },
   {
    "duration": 218,
    "start_time": "2023-06-12T14:55:54.229Z"
   },
   {
    "duration": 4,
    "start_time": "2023-06-12T14:55:54.449Z"
   },
   {
    "duration": 3555,
    "start_time": "2023-06-12T15:20:18.616Z"
   },
   {
    "duration": 3,
    "start_time": "2023-06-12T15:20:22.173Z"
   },
   {
    "duration": 47,
    "start_time": "2023-06-12T15:20:22.177Z"
   },
   {
    "duration": 22,
    "start_time": "2023-06-12T15:20:22.226Z"
   },
   {
    "duration": 32,
    "start_time": "2023-06-12T15:20:22.249Z"
   },
   {
    "duration": 22,
    "start_time": "2023-06-12T15:20:22.282Z"
   },
   {
    "duration": 27,
    "start_time": "2023-06-12T15:20:22.306Z"
   },
   {
    "duration": 19,
    "start_time": "2023-06-12T15:20:22.335Z"
   },
   {
    "duration": 13,
    "start_time": "2023-06-12T15:20:22.355Z"
   },
   {
    "duration": 24,
    "start_time": "2023-06-12T15:20:22.372Z"
   },
   {
    "duration": 10,
    "start_time": "2023-06-12T15:20:22.398Z"
   },
   {
    "duration": 41,
    "start_time": "2023-06-12T15:20:22.410Z"
   },
   {
    "duration": 16,
    "start_time": "2023-06-12T15:20:22.453Z"
   },
   {
    "duration": 20,
    "start_time": "2023-06-12T15:20:22.470Z"
   },
   {
    "duration": 17,
    "start_time": "2023-06-12T15:20:22.492Z"
   },
   {
    "duration": 38,
    "start_time": "2023-06-12T15:20:22.512Z"
   },
   {
    "duration": 37,
    "start_time": "2023-06-12T15:20:22.551Z"
   },
   {
    "duration": 7,
    "start_time": "2023-06-12T15:20:22.590Z"
   },
   {
    "duration": 10,
    "start_time": "2023-06-12T15:20:22.599Z"
   },
   {
    "duration": 19,
    "start_time": "2023-06-12T15:20:22.611Z"
   },
   {
    "duration": 21,
    "start_time": "2023-06-12T15:20:22.631Z"
   },
   {
    "duration": 15,
    "start_time": "2023-06-12T15:20:22.654Z"
   },
   {
    "duration": 14,
    "start_time": "2023-06-12T15:20:22.671Z"
   },
   {
    "duration": 35,
    "start_time": "2023-06-12T15:20:22.687Z"
   },
   {
    "duration": 16,
    "start_time": "2023-06-12T15:20:22.724Z"
   },
   {
    "duration": 11,
    "start_time": "2023-06-12T15:20:22.742Z"
   },
   {
    "duration": 13,
    "start_time": "2023-06-12T15:20:22.755Z"
   },
   {
    "duration": 15,
    "start_time": "2023-06-12T15:20:22.773Z"
   },
   {
    "duration": 23,
    "start_time": "2023-06-12T15:20:22.790Z"
   },
   {
    "duration": 30,
    "start_time": "2023-06-12T15:20:22.815Z"
   },
   {
    "duration": 12,
    "start_time": "2023-06-12T15:20:22.847Z"
   },
   {
    "duration": 14,
    "start_time": "2023-06-12T15:20:22.860Z"
   },
   {
    "duration": 29,
    "start_time": "2023-06-12T15:20:22.876Z"
   },
   {
    "duration": 33,
    "start_time": "2023-06-12T15:20:22.906Z"
   },
   {
    "duration": 7,
    "start_time": "2023-06-12T15:20:22.941Z"
   },
   {
    "duration": 15,
    "start_time": "2023-06-12T15:20:22.950Z"
   },
   {
    "duration": 13,
    "start_time": "2023-06-12T15:20:22.967Z"
   },
   {
    "duration": 26,
    "start_time": "2023-06-12T15:20:22.982Z"
   },
   {
    "duration": 16,
    "start_time": "2023-06-12T15:20:23.009Z"
   },
   {
    "duration": 32,
    "start_time": "2023-06-12T15:20:23.026Z"
   },
   {
    "duration": 18,
    "start_time": "2023-06-12T15:20:23.060Z"
   },
   {
    "duration": 129,
    "start_time": "2023-06-12T15:20:23.079Z"
   },
   {
    "duration": 7,
    "start_time": "2023-06-12T15:20:23.210Z"
   },
   {
    "duration": 423,
    "start_time": "2023-06-12T15:20:23.218Z"
   },
   {
    "duration": 816,
    "start_time": "2023-06-12T15:20:23.650Z"
   },
   {
    "duration": 125,
    "start_time": "2023-06-12T15:20:24.468Z"
   },
   {
    "duration": 130,
    "start_time": "2023-06-12T15:20:24.595Z"
   },
   {
    "duration": 137,
    "start_time": "2023-06-12T15:20:24.727Z"
   },
   {
    "duration": 227,
    "start_time": "2023-06-12T15:20:24.867Z"
   },
   {
    "duration": 149,
    "start_time": "2023-06-12T15:20:25.096Z"
   },
   {
    "duration": 146,
    "start_time": "2023-06-12T15:20:25.250Z"
   },
   {
    "duration": 8,
    "start_time": "2023-06-12T15:20:25.398Z"
   },
   {
    "duration": 12,
    "start_time": "2023-06-12T15:20:25.408Z"
   },
   {
    "duration": 17,
    "start_time": "2023-06-12T15:20:25.422Z"
   },
   {
    "duration": 43375,
    "start_time": "2023-06-12T15:20:25.441Z"
   },
   {
    "duration": 142,
    "start_time": "2023-06-12T15:21:08.818Z"
   },
   {
    "duration": 0,
    "start_time": "2023-06-12T15:21:08.962Z"
   },
   {
    "duration": 0,
    "start_time": "2023-06-12T15:21:08.964Z"
   },
   {
    "duration": 0,
    "start_time": "2023-06-12T15:21:08.965Z"
   },
   {
    "duration": 0,
    "start_time": "2023-06-12T15:21:08.967Z"
   },
   {
    "duration": 0,
    "start_time": "2023-06-12T15:21:08.968Z"
   },
   {
    "duration": 0,
    "start_time": "2023-06-12T15:21:08.969Z"
   },
   {
    "duration": 0,
    "start_time": "2023-06-12T15:21:08.971Z"
   },
   {
    "duration": 0,
    "start_time": "2023-06-12T15:21:08.972Z"
   },
   {
    "duration": 0,
    "start_time": "2023-06-12T15:21:08.974Z"
   },
   {
    "duration": 0,
    "start_time": "2023-06-12T15:21:08.975Z"
   },
   {
    "duration": 0,
    "start_time": "2023-06-12T15:21:08.977Z"
   },
   {
    "duration": 0,
    "start_time": "2023-06-12T15:21:08.978Z"
   },
   {
    "duration": 0,
    "start_time": "2023-06-12T15:21:08.980Z"
   },
   {
    "duration": 0,
    "start_time": "2023-06-12T15:21:08.981Z"
   },
   {
    "duration": 0,
    "start_time": "2023-06-12T15:21:08.982Z"
   },
   {
    "duration": 0,
    "start_time": "2023-06-12T15:21:08.984Z"
   },
   {
    "duration": 0,
    "start_time": "2023-06-12T15:21:08.985Z"
   },
   {
    "duration": 0,
    "start_time": "2023-06-12T15:21:08.986Z"
   },
   {
    "duration": 0,
    "start_time": "2023-06-12T15:21:08.987Z"
   },
   {
    "duration": 0,
    "start_time": "2023-06-12T15:21:08.988Z"
   },
   {
    "duration": 0,
    "start_time": "2023-06-12T15:21:08.989Z"
   },
   {
    "duration": 0,
    "start_time": "2023-06-12T15:21:08.990Z"
   },
   {
    "duration": 0,
    "start_time": "2023-06-12T15:21:08.991Z"
   },
   {
    "duration": 0,
    "start_time": "2023-06-12T15:21:08.992Z"
   },
   {
    "duration": 0,
    "start_time": "2023-06-12T15:21:08.993Z"
   },
   {
    "duration": 0,
    "start_time": "2023-06-12T15:21:08.994Z"
   },
   {
    "duration": 0,
    "start_time": "2023-06-12T15:21:08.995Z"
   },
   {
    "duration": 0,
    "start_time": "2023-06-12T15:21:09.050Z"
   },
   {
    "duration": 0,
    "start_time": "2023-06-12T15:21:09.052Z"
   },
   {
    "duration": 14,
    "start_time": "2023-06-12T15:21:57.004Z"
   },
   {
    "duration": 6,
    "start_time": "2023-06-12T15:22:06.084Z"
   },
   {
    "duration": 9,
    "start_time": "2023-06-12T15:22:07.843Z"
   },
   {
    "duration": 7,
    "start_time": "2023-06-12T15:22:08.180Z"
   },
   {
    "duration": 7,
    "start_time": "2023-06-12T15:22:08.340Z"
   },
   {
    "duration": 6,
    "start_time": "2023-06-12T15:22:08.507Z"
   },
   {
    "duration": 6,
    "start_time": "2023-06-12T15:22:10.659Z"
   },
   {
    "duration": 3,
    "start_time": "2023-06-12T15:22:11.020Z"
   },
   {
    "duration": 4,
    "start_time": "2023-06-12T15:22:13.396Z"
   },
   {
    "duration": 7,
    "start_time": "2023-06-12T15:22:13.747Z"
   },
   {
    "duration": 45,
    "start_time": "2023-06-12T15:22:14.388Z"
   },
   {
    "duration": 25,
    "start_time": "2023-06-12T15:22:14.987Z"
   },
   {
    "duration": 3,
    "start_time": "2023-06-12T15:22:31.237Z"
   },
   {
    "duration": 8,
    "start_time": "2023-06-12T15:22:31.660Z"
   },
   {
    "duration": 16,
    "start_time": "2023-06-12T15:22:31.908Z"
   },
   {
    "duration": 4,
    "start_time": "2023-06-12T15:22:32.995Z"
   },
   {
    "duration": 3,
    "start_time": "2023-06-12T15:22:33.308Z"
   },
   {
    "duration": 134453,
    "start_time": "2023-06-12T15:22:33.476Z"
   },
   {
    "duration": 3,
    "start_time": "2023-06-12T15:24:47.931Z"
   },
   {
    "duration": 9,
    "start_time": "2023-06-12T15:24:47.935Z"
   },
   {
    "duration": 22208,
    "start_time": "2023-06-12T15:24:47.951Z"
   },
   {
    "duration": 90,
    "start_time": "2023-06-12T15:25:10.162Z"
   },
   {
    "duration": 5,
    "start_time": "2023-06-12T15:25:10.257Z"
   },
   {
    "duration": 417654,
    "start_time": "2023-06-12T15:25:10.264Z"
   },
   {
    "duration": 9,
    "start_time": "2023-06-12T15:32:07.919Z"
   },
   {
    "duration": 8,
    "start_time": "2023-06-12T15:32:07.929Z"
   },
   {
    "duration": 9,
    "start_time": "2023-06-12T15:32:07.940Z"
   },
   {
    "duration": 5,
    "start_time": "2023-06-12T15:32:07.951Z"
   },
   {
    "duration": 4,
    "start_time": "2023-06-12T15:32:07.958Z"
   },
   {
    "duration": 197,
    "start_time": "2023-06-12T15:32:07.964Z"
   },
   {
    "duration": 4,
    "start_time": "2023-06-12T15:32:08.163Z"
   },
   {
    "duration": 3855,
    "start_time": "2023-06-12T15:34:29.828Z"
   },
   {
    "duration": 4,
    "start_time": "2023-06-12T15:34:33.685Z"
   },
   {
    "duration": 55,
    "start_time": "2023-06-12T15:34:33.690Z"
   },
   {
    "duration": 22,
    "start_time": "2023-06-12T15:34:33.749Z"
   },
   {
    "duration": 22,
    "start_time": "2023-06-12T15:34:33.773Z"
   },
   {
    "duration": 19,
    "start_time": "2023-06-12T15:34:33.796Z"
   },
   {
    "duration": 20,
    "start_time": "2023-06-12T15:34:33.816Z"
   },
   {
    "duration": 23,
    "start_time": "2023-06-12T15:34:33.839Z"
   },
   {
    "duration": 33,
    "start_time": "2023-06-12T15:34:33.864Z"
   },
   {
    "duration": 30,
    "start_time": "2023-06-12T15:34:33.900Z"
   },
   {
    "duration": 13,
    "start_time": "2023-06-12T15:34:33.932Z"
   },
   {
    "duration": 18,
    "start_time": "2023-06-12T15:34:33.948Z"
   },
   {
    "duration": 13,
    "start_time": "2023-06-12T15:34:33.968Z"
   },
   {
    "duration": 16,
    "start_time": "2023-06-12T15:34:33.983Z"
   },
   {
    "duration": 40,
    "start_time": "2023-06-12T15:34:34.001Z"
   },
   {
    "duration": 20,
    "start_time": "2023-06-12T15:34:34.050Z"
   },
   {
    "duration": 41,
    "start_time": "2023-06-12T15:34:34.073Z"
   },
   {
    "duration": 34,
    "start_time": "2023-06-12T15:34:34.117Z"
   },
   {
    "duration": 21,
    "start_time": "2023-06-12T15:34:34.153Z"
   },
   {
    "duration": 22,
    "start_time": "2023-06-12T15:34:34.177Z"
   },
   {
    "duration": 4,
    "start_time": "2023-06-12T15:34:34.202Z"
   },
   {
    "duration": 4,
    "start_time": "2023-06-12T15:34:34.208Z"
   },
   {
    "duration": 4,
    "start_time": "2023-06-12T15:34:34.216Z"
   },
   {
    "duration": 28,
    "start_time": "2023-06-12T15:34:34.223Z"
   },
   {
    "duration": 16,
    "start_time": "2023-06-12T15:34:34.253Z"
   },
   {
    "duration": 14,
    "start_time": "2023-06-12T15:34:34.271Z"
   },
   {
    "duration": 12,
    "start_time": "2023-06-12T15:34:34.288Z"
   },
   {
    "duration": 11,
    "start_time": "2023-06-12T15:34:34.306Z"
   },
   {
    "duration": 43,
    "start_time": "2023-06-12T15:34:34.318Z"
   },
   {
    "duration": 15,
    "start_time": "2023-06-12T15:34:34.363Z"
   },
   {
    "duration": 25,
    "start_time": "2023-06-12T15:34:34.379Z"
   },
   {
    "duration": 15,
    "start_time": "2023-06-12T15:34:34.407Z"
   },
   {
    "duration": 20,
    "start_time": "2023-06-12T15:34:34.424Z"
   },
   {
    "duration": 17,
    "start_time": "2023-06-12T15:34:34.446Z"
   },
   {
    "duration": 5,
    "start_time": "2023-06-12T15:34:34.466Z"
   },
   {
    "duration": 11,
    "start_time": "2023-06-12T15:34:34.473Z"
   },
   {
    "duration": 17,
    "start_time": "2023-06-12T15:34:34.487Z"
   },
   {
    "duration": 21,
    "start_time": "2023-06-12T15:34:34.507Z"
   },
   {
    "duration": 23,
    "start_time": "2023-06-12T15:34:34.549Z"
   },
   {
    "duration": 13,
    "start_time": "2023-06-12T15:34:34.574Z"
   },
   {
    "duration": 23,
    "start_time": "2023-06-12T15:34:34.589Z"
   },
   {
    "duration": 195,
    "start_time": "2023-06-12T15:34:34.615Z"
   },
   {
    "duration": 8,
    "start_time": "2023-06-12T15:34:34.812Z"
   },
   {
    "duration": 475,
    "start_time": "2023-06-12T15:34:34.822Z"
   },
   {
    "duration": 828,
    "start_time": "2023-06-12T15:34:35.299Z"
   },
   {
    "duration": 132,
    "start_time": "2023-06-12T15:34:36.128Z"
   },
   {
    "duration": 134,
    "start_time": "2023-06-12T15:34:36.261Z"
   },
   {
    "duration": 141,
    "start_time": "2023-06-12T15:34:36.397Z"
   },
   {
    "duration": 228,
    "start_time": "2023-06-12T15:34:36.541Z"
   },
   {
    "duration": 148,
    "start_time": "2023-06-12T15:34:36.772Z"
   },
   {
    "duration": 187,
    "start_time": "2023-06-12T15:34:36.922Z"
   },
   {
    "duration": 6,
    "start_time": "2023-06-12T15:34:37.111Z"
   },
   {
    "duration": 5,
    "start_time": "2023-06-12T15:34:37.119Z"
   },
   {
    "duration": 5,
    "start_time": "2023-06-12T15:34:37.125Z"
   },
   {
    "duration": 42953,
    "start_time": "2023-06-12T15:34:37.131Z"
   },
   {
    "duration": 5,
    "start_time": "2023-06-12T15:35:20.085Z"
   },
   {
    "duration": 8,
    "start_time": "2023-06-12T15:35:20.092Z"
   },
   {
    "duration": 6,
    "start_time": "2023-06-12T15:35:20.102Z"
   },
   {
    "duration": 11,
    "start_time": "2023-06-12T15:35:20.109Z"
   },
   {
    "duration": 28,
    "start_time": "2023-06-12T15:35:20.122Z"
   },
   {
    "duration": 5,
    "start_time": "2023-06-12T15:35:20.152Z"
   },
   {
    "duration": 10,
    "start_time": "2023-06-12T15:35:20.159Z"
   },
   {
    "duration": 18,
    "start_time": "2023-06-12T15:35:20.171Z"
   },
   {
    "duration": 9,
    "start_time": "2023-06-12T15:35:20.191Z"
   },
   {
    "duration": 35,
    "start_time": "2023-06-12T15:35:20.202Z"
   },
   {
    "duration": 21,
    "start_time": "2023-06-12T15:35:20.238Z"
   },
   {
    "duration": 2,
    "start_time": "2023-06-12T15:35:20.261Z"
   },
   {
    "duration": 19,
    "start_time": "2023-06-12T15:35:20.265Z"
   },
   {
    "duration": 16,
    "start_time": "2023-06-12T15:35:20.285Z"
   },
   {
    "duration": 3,
    "start_time": "2023-06-12T15:35:20.303Z"
   },
   {
    "duration": 6,
    "start_time": "2023-06-12T15:35:20.308Z"
   },
   {
    "duration": 132774,
    "start_time": "2023-06-12T15:35:20.316Z"
   },
   {
    "duration": 3,
    "start_time": "2023-06-12T15:37:33.092Z"
   },
   {
    "duration": 16,
    "start_time": "2023-06-12T15:37:33.096Z"
   },
   {
    "duration": 11238,
    "start_time": "2023-06-12T15:37:33.114Z"
   },
   {
    "duration": 93,
    "start_time": "2023-06-12T15:37:44.356Z"
   },
   {
    "duration": 5,
    "start_time": "2023-06-12T15:37:44.451Z"
   },
   {
    "duration": 389171,
    "start_time": "2023-06-12T15:37:44.457Z"
   },
   {
    "duration": 9,
    "start_time": "2023-06-12T15:44:13.630Z"
   },
   {
    "duration": 10,
    "start_time": "2023-06-12T15:44:13.640Z"
   },
   {
    "duration": 5,
    "start_time": "2023-06-12T15:44:13.652Z"
   },
   {
    "duration": 5,
    "start_time": "2023-06-12T15:44:13.662Z"
   },
   {
    "duration": 4,
    "start_time": "2023-06-12T15:44:13.668Z"
   },
   {
    "duration": 204,
    "start_time": "2023-06-12T15:44:13.673Z"
   },
   {
    "duration": 4,
    "start_time": "2023-06-12T15:44:13.879Z"
   },
   {
    "duration": 14,
    "start_time": "2023-06-12T15:44:49.964Z"
   },
   {
    "duration": 8,
    "start_time": "2023-06-12T15:45:17.013Z"
   },
   {
    "duration": 3392,
    "start_time": "2023-06-12T15:50:04.969Z"
   },
   {
    "duration": 3,
    "start_time": "2023-06-12T15:50:08.363Z"
   },
   {
    "duration": 43,
    "start_time": "2023-06-12T15:50:08.368Z"
   },
   {
    "duration": 21,
    "start_time": "2023-06-12T15:50:08.413Z"
   },
   {
    "duration": 21,
    "start_time": "2023-06-12T15:50:08.436Z"
   },
   {
    "duration": 24,
    "start_time": "2023-06-12T15:50:08.459Z"
   },
   {
    "duration": 25,
    "start_time": "2023-06-12T15:50:08.485Z"
   },
   {
    "duration": 14,
    "start_time": "2023-06-12T15:50:08.512Z"
   },
   {
    "duration": 23,
    "start_time": "2023-06-12T15:50:08.527Z"
   },
   {
    "duration": 30,
    "start_time": "2023-06-12T15:50:08.553Z"
   },
   {
    "duration": 10,
    "start_time": "2023-06-12T15:50:08.585Z"
   },
   {
    "duration": 11,
    "start_time": "2023-06-12T15:50:08.597Z"
   },
   {
    "duration": 13,
    "start_time": "2023-06-12T15:50:08.609Z"
   },
   {
    "duration": 17,
    "start_time": "2023-06-12T15:50:08.651Z"
   },
   {
    "duration": 12,
    "start_time": "2023-06-12T15:50:08.669Z"
   },
   {
    "duration": 12,
    "start_time": "2023-06-12T15:50:08.682Z"
   },
   {
    "duration": 74,
    "start_time": "2023-06-12T15:50:08.696Z"
   },
   {
    "duration": 8,
    "start_time": "2023-06-12T15:50:08.772Z"
   },
   {
    "duration": 12,
    "start_time": "2023-06-12T15:50:08.782Z"
   },
   {
    "duration": 18,
    "start_time": "2023-06-12T15:50:08.796Z"
   },
   {
    "duration": 7,
    "start_time": "2023-06-12T15:50:08.816Z"
   },
   {
    "duration": 25,
    "start_time": "2023-06-12T15:50:08.825Z"
   },
   {
    "duration": 13,
    "start_time": "2023-06-12T15:50:08.852Z"
   },
   {
    "duration": 6,
    "start_time": "2023-06-12T15:50:08.867Z"
   },
   {
    "duration": 13,
    "start_time": "2023-06-12T15:50:08.875Z"
   },
   {
    "duration": 12,
    "start_time": "2023-06-12T15:50:08.890Z"
   },
   {
    "duration": 8,
    "start_time": "2023-06-12T15:50:08.903Z"
   },
   {
    "duration": 9,
    "start_time": "2023-06-12T15:50:08.915Z"
   },
   {
    "duration": 30,
    "start_time": "2023-06-12T15:50:08.925Z"
   },
   {
    "duration": 14,
    "start_time": "2023-06-12T15:50:08.957Z"
   },
   {
    "duration": 4,
    "start_time": "2023-06-12T15:50:08.973Z"
   },
   {
    "duration": 15,
    "start_time": "2023-06-12T15:50:08.978Z"
   },
   {
    "duration": 3,
    "start_time": "2023-06-12T15:50:08.995Z"
   },
   {
    "duration": 15,
    "start_time": "2023-06-12T15:50:09.001Z"
   },
   {
    "duration": 5,
    "start_time": "2023-06-12T15:50:09.018Z"
   },
   {
    "duration": 5,
    "start_time": "2023-06-12T15:50:09.025Z"
   },
   {
    "duration": 14,
    "start_time": "2023-06-12T15:50:09.050Z"
   },
   {
    "duration": 25,
    "start_time": "2023-06-12T15:50:09.066Z"
   },
   {
    "duration": 17,
    "start_time": "2023-06-12T15:50:09.093Z"
   },
   {
    "duration": 12,
    "start_time": "2023-06-12T15:50:09.112Z"
   },
   {
    "duration": 18,
    "start_time": "2023-06-12T15:50:09.149Z"
   },
   {
    "duration": 129,
    "start_time": "2023-06-12T15:50:09.168Z"
   },
   {
    "duration": 6,
    "start_time": "2023-06-12T15:50:09.299Z"
   },
   {
    "duration": 428,
    "start_time": "2023-06-12T15:50:09.306Z"
   },
   {
    "duration": 741,
    "start_time": "2023-06-12T15:50:09.736Z"
   },
   {
    "duration": 167,
    "start_time": "2023-06-12T15:50:10.478Z"
   },
   {
    "duration": 131,
    "start_time": "2023-06-12T15:50:10.650Z"
   },
   {
    "duration": 135,
    "start_time": "2023-06-12T15:50:10.783Z"
   },
   {
    "duration": 232,
    "start_time": "2023-06-12T15:50:10.920Z"
   },
   {
    "duration": 144,
    "start_time": "2023-06-12T15:50:11.154Z"
   },
   {
    "duration": 142,
    "start_time": "2023-06-12T15:50:11.300Z"
   },
   {
    "duration": 9,
    "start_time": "2023-06-12T15:50:11.443Z"
   },
   {
    "duration": 6,
    "start_time": "2023-06-12T15:50:11.453Z"
   },
   {
    "duration": 4,
    "start_time": "2023-06-12T15:50:11.460Z"
   },
   {
    "duration": 40699,
    "start_time": "2023-06-12T15:50:11.465Z"
   },
   {
    "duration": 5,
    "start_time": "2023-06-12T15:50:52.166Z"
   },
   {
    "duration": 16,
    "start_time": "2023-06-12T15:50:52.172Z"
   },
   {
    "duration": 8,
    "start_time": "2023-06-12T15:50:52.189Z"
   },
   {
    "duration": 6,
    "start_time": "2023-06-12T15:50:52.199Z"
   },
   {
    "duration": 10,
    "start_time": "2023-06-12T15:50:52.207Z"
   },
   {
    "duration": 17,
    "start_time": "2023-06-12T15:50:52.219Z"
   },
   {
    "duration": 13,
    "start_time": "2023-06-12T15:50:52.238Z"
   },
   {
    "duration": 6,
    "start_time": "2023-06-12T15:50:52.252Z"
   },
   {
    "duration": 6,
    "start_time": "2023-06-12T15:50:52.260Z"
   },
   {
    "duration": 11,
    "start_time": "2023-06-12T15:50:52.268Z"
   },
   {
    "duration": 32,
    "start_time": "2023-06-12T15:50:52.281Z"
   },
   {
    "duration": 15,
    "start_time": "2023-06-12T15:50:52.315Z"
   },
   {
    "duration": 19,
    "start_time": "2023-06-12T15:50:52.332Z"
   },
   {
    "duration": 11,
    "start_time": "2023-06-12T15:50:52.353Z"
   },
   {
    "duration": 11,
    "start_time": "2023-06-12T15:50:52.366Z"
   },
   {
    "duration": 3,
    "start_time": "2023-06-12T15:50:52.379Z"
   },
   {
    "duration": 5,
    "start_time": "2023-06-12T15:50:52.383Z"
   },
   {
    "duration": 130325,
    "start_time": "2023-06-12T15:50:52.389Z"
   },
   {
    "duration": 2,
    "start_time": "2023-06-12T15:53:02.716Z"
   },
   {
    "duration": 16,
    "start_time": "2023-06-12T15:53:02.720Z"
   },
   {
    "duration": 10113,
    "start_time": "2023-06-12T15:53:02.738Z"
   },
   {
    "duration": 4,
    "start_time": "2023-06-12T15:53:12.853Z"
   },
   {
    "duration": 95,
    "start_time": "2023-06-12T15:53:12.858Z"
   },
   {
    "duration": 384493,
    "start_time": "2023-06-12T15:53:12.955Z"
   },
   {
    "duration": 8,
    "start_time": "2023-06-12T15:59:37.450Z"
   },
   {
    "duration": 41,
    "start_time": "2023-06-12T15:59:37.460Z"
   },
   {
    "duration": 6,
    "start_time": "2023-06-12T15:59:37.507Z"
   },
   {
    "duration": 5,
    "start_time": "2023-06-12T15:59:37.514Z"
   },
   {
    "duration": 3,
    "start_time": "2023-06-12T15:59:37.521Z"
   },
   {
    "duration": 173,
    "start_time": "2023-06-12T15:59:37.526Z"
   },
   {
    "duration": 3427,
    "start_time": "2023-06-12T16:05:41.910Z"
   },
   {
    "duration": 3,
    "start_time": "2023-06-12T16:05:45.339Z"
   },
   {
    "duration": 43,
    "start_time": "2023-06-12T16:05:45.344Z"
   },
   {
    "duration": 21,
    "start_time": "2023-06-12T16:05:45.389Z"
   },
   {
    "duration": 22,
    "start_time": "2023-06-12T16:05:45.412Z"
   },
   {
    "duration": 20,
    "start_time": "2023-06-12T16:05:45.436Z"
   },
   {
    "duration": 18,
    "start_time": "2023-06-12T16:05:45.457Z"
   },
   {
    "duration": 13,
    "start_time": "2023-06-12T16:05:45.477Z"
   },
   {
    "duration": 10,
    "start_time": "2023-06-12T16:05:45.492Z"
   },
   {
    "duration": 21,
    "start_time": "2023-06-12T16:05:45.505Z"
   },
   {
    "duration": 9,
    "start_time": "2023-06-12T16:05:45.550Z"
   },
   {
    "duration": 19,
    "start_time": "2023-06-12T16:05:45.561Z"
   },
   {
    "duration": 10,
    "start_time": "2023-06-12T16:05:45.581Z"
   },
   {
    "duration": 15,
    "start_time": "2023-06-12T16:05:45.592Z"
   },
   {
    "duration": 12,
    "start_time": "2023-06-12T16:05:45.608Z"
   },
   {
    "duration": 35,
    "start_time": "2023-06-12T16:05:45.622Z"
   },
   {
    "duration": 30,
    "start_time": "2023-06-12T16:05:45.659Z"
   },
   {
    "duration": 8,
    "start_time": "2023-06-12T16:05:45.690Z"
   },
   {
    "duration": 17,
    "start_time": "2023-06-12T16:05:45.699Z"
   },
   {
    "duration": 33,
    "start_time": "2023-06-12T16:05:45.717Z"
   },
   {
    "duration": 3,
    "start_time": "2023-06-12T16:05:45.751Z"
   },
   {
    "duration": 6,
    "start_time": "2023-06-12T16:05:45.756Z"
   },
   {
    "duration": 8,
    "start_time": "2023-06-12T16:05:45.763Z"
   },
   {
    "duration": 5,
    "start_time": "2023-06-12T16:05:45.772Z"
   },
   {
    "duration": 17,
    "start_time": "2023-06-12T16:05:45.779Z"
   },
   {
    "duration": 9,
    "start_time": "2023-06-12T16:05:45.798Z"
   },
   {
    "duration": 7,
    "start_time": "2023-06-12T16:05:45.809Z"
   },
   {
    "duration": 36,
    "start_time": "2023-06-12T16:05:45.820Z"
   },
   {
    "duration": 6,
    "start_time": "2023-06-12T16:05:45.858Z"
   },
   {
    "duration": 14,
    "start_time": "2023-06-12T16:05:45.865Z"
   },
   {
    "duration": 11,
    "start_time": "2023-06-12T16:05:45.881Z"
   },
   {
    "duration": 25,
    "start_time": "2023-06-12T16:05:45.893Z"
   },
   {
    "duration": 4,
    "start_time": "2023-06-12T16:05:45.919Z"
   },
   {
    "duration": 30,
    "start_time": "2023-06-12T16:05:45.924Z"
   },
   {
    "duration": 13,
    "start_time": "2023-06-12T16:05:45.956Z"
   },
   {
    "duration": 18,
    "start_time": "2023-06-12T16:05:45.971Z"
   },
   {
    "duration": 14,
    "start_time": "2023-06-12T16:05:45.991Z"
   },
   {
    "duration": 22,
    "start_time": "2023-06-12T16:05:46.007Z"
   },
   {
    "duration": 16,
    "start_time": "2023-06-12T16:05:46.031Z"
   },
   {
    "duration": 15,
    "start_time": "2023-06-12T16:05:46.049Z"
   },
   {
    "duration": 15,
    "start_time": "2023-06-12T16:05:46.066Z"
   },
   {
    "duration": 125,
    "start_time": "2023-06-12T16:05:46.082Z"
   },
   {
    "duration": 6,
    "start_time": "2023-06-12T16:05:46.208Z"
   },
   {
    "duration": 427,
    "start_time": "2023-06-12T16:05:46.215Z"
   },
   {
    "duration": 753,
    "start_time": "2023-06-12T16:05:46.644Z"
   },
   {
    "duration": 122,
    "start_time": "2023-06-12T16:05:47.399Z"
   },
   {
    "duration": 135,
    "start_time": "2023-06-12T16:05:47.523Z"
   },
   {
    "duration": 148,
    "start_time": "2023-06-12T16:05:47.660Z"
   },
   {
    "duration": 220,
    "start_time": "2023-06-12T16:05:47.810Z"
   },
   {
    "duration": 156,
    "start_time": "2023-06-12T16:05:48.032Z"
   },
   {
    "duration": 152,
    "start_time": "2023-06-12T16:05:48.190Z"
   },
   {
    "duration": 8,
    "start_time": "2023-06-12T16:05:48.344Z"
   },
   {
    "duration": 4,
    "start_time": "2023-06-12T16:05:48.354Z"
   },
   {
    "duration": 4,
    "start_time": "2023-06-12T16:05:48.359Z"
   },
   {
    "duration": 39516,
    "start_time": "2023-06-12T16:05:48.364Z"
   },
   {
    "duration": 5,
    "start_time": "2023-06-12T16:06:27.882Z"
   },
   {
    "duration": 25,
    "start_time": "2023-06-12T16:06:27.889Z"
   },
   {
    "duration": 9,
    "start_time": "2023-06-12T16:06:27.916Z"
   },
   {
    "duration": 9,
    "start_time": "2023-06-12T16:06:27.927Z"
   },
   {
    "duration": 10,
    "start_time": "2023-06-12T16:06:27.937Z"
   },
   {
    "duration": 7,
    "start_time": "2023-06-12T16:06:27.950Z"
   },
   {
    "duration": 4,
    "start_time": "2023-06-12T16:06:27.959Z"
   },
   {
    "duration": 7,
    "start_time": "2023-06-12T16:06:27.964Z"
   },
   {
    "duration": 10,
    "start_time": "2023-06-12T16:06:27.973Z"
   },
   {
    "duration": 7,
    "start_time": "2023-06-12T16:06:27.984Z"
   },
   {
    "duration": 23,
    "start_time": "2023-06-12T16:06:27.993Z"
   },
   {
    "duration": 32,
    "start_time": "2023-06-12T16:06:28.018Z"
   },
   {
    "duration": 3,
    "start_time": "2023-06-12T16:06:28.052Z"
   },
   {
    "duration": 9,
    "start_time": "2023-06-12T16:06:28.056Z"
   },
   {
    "duration": 21,
    "start_time": "2023-06-12T16:06:28.066Z"
   },
   {
    "duration": 3,
    "start_time": "2023-06-12T16:06:28.089Z"
   },
   {
    "duration": 4,
    "start_time": "2023-06-12T16:06:28.093Z"
   },
   {
    "duration": 178095,
    "start_time": "2023-06-12T16:06:28.100Z"
   },
   {
    "duration": 3,
    "start_time": "2023-06-12T16:09:26.196Z"
   },
   {
    "duration": 10,
    "start_time": "2023-06-12T16:09:26.201Z"
   },
   {
    "duration": 14641,
    "start_time": "2023-06-12T16:09:26.212Z"
   },
   {
    "duration": 3,
    "start_time": "2023-06-12T16:09:40.855Z"
   },
   {
    "duration": 94,
    "start_time": "2023-06-12T16:09:40.860Z"
   },
   {
    "duration": 2001511,
    "start_time": "2023-06-12T16:09:40.956Z"
   },
   {
    "duration": 10,
    "start_time": "2023-06-12T16:43:02.469Z"
   },
   {
    "duration": 10,
    "start_time": "2023-06-12T16:43:02.481Z"
   },
   {
    "duration": 7,
    "start_time": "2023-06-12T16:43:02.496Z"
   },
   {
    "duration": 5,
    "start_time": "2023-06-12T16:43:02.505Z"
   },
   {
    "duration": 6,
    "start_time": "2023-06-12T16:43:02.512Z"
   },
   {
    "duration": 198,
    "start_time": "2023-06-12T16:43:02.520Z"
   },
   {
    "duration": 10902,
    "start_time": "2023-06-12T16:45:39.204Z"
   },
   {
    "duration": 3,
    "start_time": "2023-06-12T16:45:50.108Z"
   },
   {
    "duration": 55,
    "start_time": "2023-06-12T16:45:50.113Z"
   },
   {
    "duration": 21,
    "start_time": "2023-06-12T16:45:50.171Z"
   },
   {
    "duration": 24,
    "start_time": "2023-06-12T16:45:50.194Z"
   },
   {
    "duration": 18,
    "start_time": "2023-06-12T16:45:50.219Z"
   },
   {
    "duration": 30,
    "start_time": "2023-06-12T16:45:50.239Z"
   },
   {
    "duration": 18,
    "start_time": "2023-06-12T16:45:50.271Z"
   },
   {
    "duration": 16,
    "start_time": "2023-06-12T16:45:50.291Z"
   },
   {
    "duration": 28,
    "start_time": "2023-06-12T16:45:50.309Z"
   },
   {
    "duration": 20,
    "start_time": "2023-06-12T16:45:50.338Z"
   },
   {
    "duration": 15,
    "start_time": "2023-06-12T16:45:50.360Z"
   },
   {
    "duration": 13,
    "start_time": "2023-06-12T16:45:50.376Z"
   },
   {
    "duration": 17,
    "start_time": "2023-06-12T16:45:50.390Z"
   },
   {
    "duration": 13,
    "start_time": "2023-06-12T16:45:50.408Z"
   },
   {
    "duration": 35,
    "start_time": "2023-06-12T16:45:50.422Z"
   },
   {
    "duration": 29,
    "start_time": "2023-06-12T16:45:50.459Z"
   },
   {
    "duration": 9,
    "start_time": "2023-06-12T16:45:50.489Z"
   },
   {
    "duration": 19,
    "start_time": "2023-06-12T16:45:50.499Z"
   },
   {
    "duration": 36,
    "start_time": "2023-06-12T16:45:50.520Z"
   },
   {
    "duration": 3,
    "start_time": "2023-06-12T16:45:50.558Z"
   },
   {
    "duration": 20,
    "start_time": "2023-06-12T16:45:50.563Z"
   },
   {
    "duration": 26,
    "start_time": "2023-06-12T16:45:50.585Z"
   },
   {
    "duration": 5,
    "start_time": "2023-06-12T16:45:50.612Z"
   },
   {
    "duration": 14,
    "start_time": "2023-06-12T16:45:50.618Z"
   },
   {
    "duration": 10,
    "start_time": "2023-06-12T16:45:50.633Z"
   },
   {
    "duration": 7,
    "start_time": "2023-06-12T16:45:50.644Z"
   },
   {
    "duration": 17,
    "start_time": "2023-06-12T16:45:50.655Z"
   },
   {
    "duration": 8,
    "start_time": "2023-06-12T16:45:50.674Z"
   },
   {
    "duration": 11,
    "start_time": "2023-06-12T16:45:50.684Z"
   },
   {
    "duration": 10,
    "start_time": "2023-06-12T16:45:50.697Z"
   },
   {
    "duration": 10,
    "start_time": "2023-06-12T16:45:50.709Z"
   },
   {
    "duration": 4,
    "start_time": "2023-06-12T16:45:50.720Z"
   },
   {
    "duration": 25,
    "start_time": "2023-06-12T16:45:50.726Z"
   },
   {
    "duration": 9,
    "start_time": "2023-06-12T16:45:50.752Z"
   },
   {
    "duration": 5,
    "start_time": "2023-06-12T16:45:50.763Z"
   },
   {
    "duration": 18,
    "start_time": "2023-06-12T16:45:50.770Z"
   },
   {
    "duration": 22,
    "start_time": "2023-06-12T16:45:50.790Z"
   },
   {
    "duration": 17,
    "start_time": "2023-06-12T16:45:50.813Z"
   },
   {
    "duration": 13,
    "start_time": "2023-06-12T16:45:50.849Z"
   },
   {
    "duration": 17,
    "start_time": "2023-06-12T16:45:50.864Z"
   },
   {
    "duration": 133,
    "start_time": "2023-06-12T16:45:50.883Z"
   },
   {
    "duration": 6,
    "start_time": "2023-06-12T16:45:51.018Z"
   },
   {
    "duration": 399,
    "start_time": "2023-06-12T16:45:51.026Z"
   },
   {
    "duration": 748,
    "start_time": "2023-06-12T16:45:51.427Z"
   },
   {
    "duration": 143,
    "start_time": "2023-06-12T16:45:52.177Z"
   },
   {
    "duration": 170,
    "start_time": "2023-06-12T16:45:52.322Z"
   },
   {
    "duration": 145,
    "start_time": "2023-06-12T16:45:52.495Z"
   },
   {
    "duration": 217,
    "start_time": "2023-06-12T16:45:52.642Z"
   },
   {
    "duration": 146,
    "start_time": "2023-06-12T16:45:52.861Z"
   },
   {
    "duration": 151,
    "start_time": "2023-06-12T16:45:53.009Z"
   },
   {
    "duration": 3,
    "start_time": "2023-06-12T16:45:53.162Z"
   },
   {
    "duration": 4,
    "start_time": "2023-06-12T16:45:53.167Z"
   },
   {
    "duration": 9,
    "start_time": "2023-06-12T16:45:53.173Z"
   },
   {
    "duration": 23136,
    "start_time": "2023-06-12T16:45:53.184Z"
   },
   {
    "duration": 5,
    "start_time": "2023-06-12T16:46:16.321Z"
   },
   {
    "duration": 23,
    "start_time": "2023-06-12T16:46:16.328Z"
   },
   {
    "duration": 6,
    "start_time": "2023-06-12T16:46:16.353Z"
   },
   {
    "duration": 10,
    "start_time": "2023-06-12T16:46:16.360Z"
   },
   {
    "duration": 5,
    "start_time": "2023-06-12T16:46:16.372Z"
   },
   {
    "duration": 7,
    "start_time": "2023-06-12T16:46:16.379Z"
   },
   {
    "duration": 6,
    "start_time": "2023-06-12T16:46:16.387Z"
   },
   {
    "duration": 5,
    "start_time": "2023-06-12T16:46:16.394Z"
   },
   {
    "duration": 5,
    "start_time": "2023-06-12T16:46:16.400Z"
   },
   {
    "duration": 6,
    "start_time": "2023-06-12T16:46:16.407Z"
   },
   {
    "duration": 138,
    "start_time": "2023-06-12T16:46:16.414Z"
   },
   {
    "duration": 0,
    "start_time": "2023-06-12T16:46:16.553Z"
   },
   {
    "duration": 0,
    "start_time": "2023-06-12T16:46:16.555Z"
   },
   {
    "duration": 0,
    "start_time": "2023-06-12T16:46:16.555Z"
   },
   {
    "duration": 0,
    "start_time": "2023-06-12T16:46:16.557Z"
   },
   {
    "duration": 0,
    "start_time": "2023-06-12T16:46:16.558Z"
   },
   {
    "duration": 0,
    "start_time": "2023-06-12T16:46:16.559Z"
   },
   {
    "duration": 0,
    "start_time": "2023-06-12T16:46:16.560Z"
   },
   {
    "duration": 0,
    "start_time": "2023-06-12T16:46:16.561Z"
   },
   {
    "duration": 0,
    "start_time": "2023-06-12T16:46:16.563Z"
   },
   {
    "duration": 0,
    "start_time": "2023-06-12T16:46:16.564Z"
   },
   {
    "duration": 0,
    "start_time": "2023-06-12T16:46:16.565Z"
   },
   {
    "duration": 0,
    "start_time": "2023-06-12T16:46:16.567Z"
   },
   {
    "duration": 0,
    "start_time": "2023-06-12T16:46:16.568Z"
   },
   {
    "duration": 0,
    "start_time": "2023-06-12T16:46:16.570Z"
   },
   {
    "duration": 0,
    "start_time": "2023-06-12T16:46:16.572Z"
   },
   {
    "duration": 0,
    "start_time": "2023-06-12T16:46:16.574Z"
   },
   {
    "duration": 0,
    "start_time": "2023-06-12T16:46:16.575Z"
   },
   {
    "duration": 0,
    "start_time": "2023-06-12T16:46:16.576Z"
   },
   {
    "duration": 0,
    "start_time": "2023-06-12T16:46:16.578Z"
   },
   {
    "duration": 20,
    "start_time": "2023-06-12T16:47:49.555Z"
   },
   {
    "duration": 13,
    "start_time": "2023-06-12T16:47:50.280Z"
   },
   {
    "duration": 2,
    "start_time": "2023-06-12T16:47:50.841Z"
   },
   {
    "duration": 6,
    "start_time": "2023-06-12T16:47:51.201Z"
   },
   {
    "duration": 9,
    "start_time": "2023-06-12T16:47:51.337Z"
   },
   {
    "duration": 3,
    "start_time": "2023-06-12T16:47:53.280Z"
   },
   {
    "duration": 3,
    "start_time": "2023-06-12T16:47:53.688Z"
   },
   {
    "duration": 93032,
    "start_time": "2023-06-12T16:47:53.889Z"
   },
   {
    "duration": 2,
    "start_time": "2023-06-12T16:49:26.923Z"
   },
   {
    "duration": 5,
    "start_time": "2023-06-12T16:49:26.927Z"
   },
   {
    "duration": 10417,
    "start_time": "2023-06-12T16:49:26.935Z"
   },
   {
    "duration": 6,
    "start_time": "2023-06-12T16:49:37.353Z"
   },
   {
    "duration": 95,
    "start_time": "2023-06-12T16:49:37.360Z"
   },
   {
    "duration": 382686,
    "start_time": "2023-06-12T16:49:37.457Z"
   },
   {
    "duration": 12,
    "start_time": "2023-06-12T16:56:00.145Z"
   },
   {
    "duration": 31,
    "start_time": "2023-06-12T16:56:00.159Z"
   },
   {
    "duration": 20,
    "start_time": "2023-06-12T16:56:00.194Z"
   },
   {
    "duration": 32,
    "start_time": "2023-06-12T16:56:00.216Z"
   },
   {
    "duration": 23,
    "start_time": "2023-06-12T16:56:00.249Z"
   },
   {
    "duration": 214,
    "start_time": "2023-06-12T16:56:00.274Z"
   },
   {
    "duration": 5566,
    "start_time": "2023-06-12T16:57:26.033Z"
   },
   {
    "duration": 3,
    "start_time": "2023-06-12T16:57:31.602Z"
   },
   {
    "duration": 78,
    "start_time": "2023-06-12T16:57:31.606Z"
   },
   {
    "duration": 22,
    "start_time": "2023-06-12T16:57:31.686Z"
   },
   {
    "duration": 34,
    "start_time": "2023-06-12T16:57:31.710Z"
   },
   {
    "duration": 20,
    "start_time": "2023-06-12T16:57:31.747Z"
   },
   {
    "duration": 33,
    "start_time": "2023-06-12T16:57:31.769Z"
   },
   {
    "duration": 24,
    "start_time": "2023-06-12T16:57:31.804Z"
   },
   {
    "duration": 41,
    "start_time": "2023-06-12T16:57:31.830Z"
   },
   {
    "duration": 36,
    "start_time": "2023-06-12T16:57:31.874Z"
   },
   {
    "duration": 46,
    "start_time": "2023-06-12T16:57:31.911Z"
   },
   {
    "duration": 34,
    "start_time": "2023-06-12T16:57:31.959Z"
   },
   {
    "duration": 22,
    "start_time": "2023-06-12T16:57:31.995Z"
   },
   {
    "duration": 32,
    "start_time": "2023-06-12T16:57:32.019Z"
   },
   {
    "duration": 20,
    "start_time": "2023-06-12T16:57:32.054Z"
   },
   {
    "duration": 25,
    "start_time": "2023-06-12T16:57:32.077Z"
   },
   {
    "duration": 28,
    "start_time": "2023-06-12T16:57:32.104Z"
   },
   {
    "duration": 8,
    "start_time": "2023-06-12T16:57:32.134Z"
   },
   {
    "duration": 20,
    "start_time": "2023-06-12T16:57:32.144Z"
   },
   {
    "duration": 22,
    "start_time": "2023-06-12T16:57:32.165Z"
   },
   {
    "duration": 5,
    "start_time": "2023-06-12T16:57:32.190Z"
   },
   {
    "duration": 22,
    "start_time": "2023-06-12T16:57:32.197Z"
   },
   {
    "duration": 14,
    "start_time": "2023-06-12T16:57:32.220Z"
   },
   {
    "duration": 39,
    "start_time": "2023-06-12T16:57:32.236Z"
   },
   {
    "duration": 105,
    "start_time": "2023-06-12T16:57:32.277Z"
   },
   {
    "duration": 30,
    "start_time": "2023-06-12T16:57:32.384Z"
   },
   {
    "duration": 18,
    "start_time": "2023-06-12T16:57:32.416Z"
   },
   {
    "duration": 34,
    "start_time": "2023-06-12T16:57:32.439Z"
   },
   {
    "duration": 20,
    "start_time": "2023-06-12T16:57:32.474Z"
   },
   {
    "duration": 16,
    "start_time": "2023-06-12T16:57:32.496Z"
   },
   {
    "duration": 21,
    "start_time": "2023-06-12T16:57:32.514Z"
   },
   {
    "duration": 11,
    "start_time": "2023-06-12T16:57:32.537Z"
   },
   {
    "duration": 19,
    "start_time": "2023-06-12T16:57:32.549Z"
   },
   {
    "duration": 19,
    "start_time": "2023-06-12T16:57:32.569Z"
   },
   {
    "duration": 6,
    "start_time": "2023-06-12T16:57:32.589Z"
   },
   {
    "duration": 20,
    "start_time": "2023-06-12T16:57:32.597Z"
   },
   {
    "duration": 17,
    "start_time": "2023-06-12T16:57:32.619Z"
   },
   {
    "duration": 22,
    "start_time": "2023-06-12T16:57:32.639Z"
   },
   {
    "duration": 18,
    "start_time": "2023-06-12T16:57:32.663Z"
   },
   {
    "duration": 14,
    "start_time": "2023-06-12T16:57:32.683Z"
   },
   {
    "duration": 36,
    "start_time": "2023-06-12T16:57:32.699Z"
   },
   {
    "duration": 133,
    "start_time": "2023-06-12T16:57:32.737Z"
   },
   {
    "duration": 7,
    "start_time": "2023-06-12T16:57:32.871Z"
   },
   {
    "duration": 472,
    "start_time": "2023-06-12T16:57:32.879Z"
   },
   {
    "duration": 797,
    "start_time": "2023-06-12T16:57:33.353Z"
   },
   {
    "duration": 185,
    "start_time": "2023-06-12T16:57:34.152Z"
   },
   {
    "duration": 149,
    "start_time": "2023-06-12T16:57:34.339Z"
   },
   {
    "duration": 153,
    "start_time": "2023-06-12T16:57:34.490Z"
   },
   {
    "duration": 242,
    "start_time": "2023-06-12T16:57:34.644Z"
   },
   {
    "duration": 162,
    "start_time": "2023-06-12T16:57:34.888Z"
   },
   {
    "duration": 149,
    "start_time": "2023-06-12T16:57:35.051Z"
   },
   {
    "duration": 5,
    "start_time": "2023-06-12T16:57:35.202Z"
   },
   {
    "duration": 18,
    "start_time": "2023-06-12T16:57:35.208Z"
   },
   {
    "duration": 34,
    "start_time": "2023-06-12T16:57:35.228Z"
   },
   {
    "duration": 40191,
    "start_time": "2023-06-12T16:57:35.264Z"
   },
   {
    "duration": 5,
    "start_time": "2023-06-12T16:58:15.457Z"
   },
   {
    "duration": 19,
    "start_time": "2023-06-12T16:58:15.464Z"
   },
   {
    "duration": 7,
    "start_time": "2023-06-12T16:58:15.484Z"
   },
   {
    "duration": 18,
    "start_time": "2023-06-12T16:58:15.493Z"
   },
   {
    "duration": 8,
    "start_time": "2023-06-12T16:58:15.513Z"
   },
   {
    "duration": 14,
    "start_time": "2023-06-12T16:58:15.522Z"
   },
   {
    "duration": 4,
    "start_time": "2023-06-12T16:58:15.538Z"
   },
   {
    "duration": 3,
    "start_time": "2023-06-12T16:58:15.550Z"
   },
   {
    "duration": 7,
    "start_time": "2023-06-12T16:58:15.555Z"
   },
   {
    "duration": 6,
    "start_time": "2023-06-12T16:58:15.563Z"
   },
   {
    "duration": 21,
    "start_time": "2023-06-12T16:58:15.570Z"
   },
   {
    "duration": 12,
    "start_time": "2023-06-12T16:58:15.592Z"
   },
   {
    "duration": 2,
    "start_time": "2023-06-12T16:58:15.606Z"
   },
   {
    "duration": 14,
    "start_time": "2023-06-12T16:58:15.610Z"
   },
   {
    "duration": 32,
    "start_time": "2023-06-12T16:58:15.626Z"
   },
   {
    "duration": 3,
    "start_time": "2023-06-12T16:58:15.659Z"
   },
   {
    "duration": 5,
    "start_time": "2023-06-12T16:58:15.664Z"
   },
   {
    "duration": 95767,
    "start_time": "2023-06-12T16:58:15.670Z"
   },
   {
    "duration": 3,
    "start_time": "2023-06-12T16:59:51.438Z"
   },
   {
    "duration": 8,
    "start_time": "2023-06-12T16:59:51.450Z"
   },
   {
    "duration": 11897,
    "start_time": "2023-06-12T16:59:51.459Z"
   },
   {
    "duration": 93,
    "start_time": "2023-06-12T17:00:03.358Z"
   },
   {
    "duration": 103,
    "start_time": "2023-06-12T17:00:03.453Z"
   },
   {
    "duration": 392299,
    "start_time": "2023-06-12T17:00:03.558Z"
   },
   {
    "duration": 7,
    "start_time": "2023-06-12T17:06:35.859Z"
   },
   {
    "duration": 9,
    "start_time": "2023-06-12T17:06:35.868Z"
   },
   {
    "duration": 6,
    "start_time": "2023-06-12T17:06:35.882Z"
   },
   {
    "duration": 9,
    "start_time": "2023-06-12T17:06:35.889Z"
   },
   {
    "duration": 5,
    "start_time": "2023-06-12T17:06:35.900Z"
   },
   {
    "duration": 187,
    "start_time": "2023-06-12T17:06:35.907Z"
   },
   {
    "duration": 3,
    "start_time": "2023-06-12T17:09:50.204Z"
   },
   {
    "duration": 5230,
    "start_time": "2023-06-12T17:10:33.493Z"
   },
   {
    "duration": 3,
    "start_time": "2023-06-12T17:10:38.724Z"
   },
   {
    "duration": 55,
    "start_time": "2023-06-12T17:10:38.729Z"
   },
   {
    "duration": 21,
    "start_time": "2023-06-12T17:10:38.786Z"
   },
   {
    "duration": 21,
    "start_time": "2023-06-12T17:10:38.809Z"
   },
   {
    "duration": 20,
    "start_time": "2023-06-12T17:10:38.831Z"
   },
   {
    "duration": 18,
    "start_time": "2023-06-12T17:10:38.852Z"
   },
   {
    "duration": 13,
    "start_time": "2023-06-12T17:10:38.873Z"
   },
   {
    "duration": 13,
    "start_time": "2023-06-12T17:10:38.887Z"
   },
   {
    "duration": 54,
    "start_time": "2023-06-12T17:10:38.903Z"
   },
   {
    "duration": 11,
    "start_time": "2023-06-12T17:10:38.959Z"
   },
   {
    "duration": 23,
    "start_time": "2023-06-12T17:10:38.971Z"
   },
   {
    "duration": 23,
    "start_time": "2023-06-12T17:10:38.996Z"
   },
   {
    "duration": 32,
    "start_time": "2023-06-12T17:10:39.021Z"
   },
   {
    "duration": 16,
    "start_time": "2023-06-12T17:10:39.056Z"
   },
   {
    "duration": 14,
    "start_time": "2023-06-12T17:10:39.074Z"
   },
   {
    "duration": 36,
    "start_time": "2023-06-12T17:10:39.090Z"
   },
   {
    "duration": 29,
    "start_time": "2023-06-12T17:10:39.128Z"
   },
   {
    "duration": 10,
    "start_time": "2023-06-12T17:10:39.159Z"
   },
   {
    "duration": 17,
    "start_time": "2023-06-12T17:10:39.171Z"
   },
   {
    "duration": 3,
    "start_time": "2023-06-12T17:10:39.190Z"
   },
   {
    "duration": 6,
    "start_time": "2023-06-12T17:10:39.195Z"
   },
   {
    "duration": 5,
    "start_time": "2023-06-12T17:10:39.203Z"
   },
   {
    "duration": 4,
    "start_time": "2023-06-12T17:10:39.210Z"
   },
   {
    "duration": 13,
    "start_time": "2023-06-12T17:10:39.250Z"
   },
   {
    "duration": 11,
    "start_time": "2023-06-12T17:10:39.264Z"
   },
   {
    "duration": 8,
    "start_time": "2023-06-12T17:10:39.277Z"
   },
   {
    "duration": 9,
    "start_time": "2023-06-12T17:10:39.289Z"
   },
   {
    "duration": 9,
    "start_time": "2023-06-12T17:10:39.299Z"
   },
   {
    "duration": 43,
    "start_time": "2023-06-12T17:10:39.309Z"
   },
   {
    "duration": 4,
    "start_time": "2023-06-12T17:10:39.354Z"
   },
   {
    "duration": 10,
    "start_time": "2023-06-12T17:10:39.359Z"
   },
   {
    "duration": 4,
    "start_time": "2023-06-12T17:10:39.370Z"
   },
   {
    "duration": 19,
    "start_time": "2023-06-12T17:10:39.375Z"
   },
   {
    "duration": 4,
    "start_time": "2023-06-12T17:10:39.396Z"
   },
   {
    "duration": 5,
    "start_time": "2023-06-12T17:10:39.402Z"
   },
   {
    "duration": 44,
    "start_time": "2023-06-12T17:10:39.409Z"
   },
   {
    "duration": 19,
    "start_time": "2023-06-12T17:10:39.455Z"
   },
   {
    "duration": 17,
    "start_time": "2023-06-12T17:10:39.476Z"
   },
   {
    "duration": 11,
    "start_time": "2023-06-12T17:10:39.495Z"
   },
   {
    "duration": 45,
    "start_time": "2023-06-12T17:10:39.508Z"
   },
   {
    "duration": 120,
    "start_time": "2023-06-12T17:10:39.555Z"
   },
   {
    "duration": 6,
    "start_time": "2023-06-12T17:10:39.677Z"
   },
   {
    "duration": 423,
    "start_time": "2023-06-12T17:10:39.685Z"
   },
   {
    "duration": 787,
    "start_time": "2023-06-12T17:10:40.110Z"
   },
   {
    "duration": 134,
    "start_time": "2023-06-12T17:10:40.899Z"
   },
   {
    "duration": 135,
    "start_time": "2023-06-12T17:10:41.035Z"
   },
   {
    "duration": 126,
    "start_time": "2023-06-12T17:10:41.172Z"
   },
   {
    "duration": 222,
    "start_time": "2023-06-12T17:10:41.300Z"
   },
   {
    "duration": 141,
    "start_time": "2023-06-12T17:10:41.524Z"
   },
   {
    "duration": 168,
    "start_time": "2023-06-12T17:10:41.667Z"
   },
   {
    "duration": 5,
    "start_time": "2023-06-12T17:10:41.836Z"
   },
   {
    "duration": 2,
    "start_time": "2023-06-12T17:10:41.850Z"
   },
   {
    "duration": 6,
    "start_time": "2023-06-12T17:10:41.853Z"
   },
   {
    "duration": 39999,
    "start_time": "2023-06-12T17:10:41.861Z"
   },
   {
    "duration": 116,
    "start_time": "2023-06-12T17:11:21.862Z"
   },
   {
    "duration": 0,
    "start_time": "2023-06-12T17:11:21.979Z"
   },
   {
    "duration": 0,
    "start_time": "2023-06-12T17:11:21.981Z"
   },
   {
    "duration": 0,
    "start_time": "2023-06-12T17:11:21.983Z"
   },
   {
    "duration": 0,
    "start_time": "2023-06-12T17:11:21.984Z"
   },
   {
    "duration": 0,
    "start_time": "2023-06-12T17:11:21.986Z"
   },
   {
    "duration": 0,
    "start_time": "2023-06-12T17:11:21.987Z"
   },
   {
    "duration": 0,
    "start_time": "2023-06-12T17:11:21.989Z"
   },
   {
    "duration": 0,
    "start_time": "2023-06-12T17:11:21.990Z"
   },
   {
    "duration": 0,
    "start_time": "2023-06-12T17:11:21.991Z"
   },
   {
    "duration": 0,
    "start_time": "2023-06-12T17:11:21.992Z"
   },
   {
    "duration": 0,
    "start_time": "2023-06-12T17:11:21.993Z"
   },
   {
    "duration": 0,
    "start_time": "2023-06-12T17:11:21.995Z"
   },
   {
    "duration": 0,
    "start_time": "2023-06-12T17:11:21.996Z"
   },
   {
    "duration": 1,
    "start_time": "2023-06-12T17:11:21.996Z"
   },
   {
    "duration": 0,
    "start_time": "2023-06-12T17:11:21.997Z"
   },
   {
    "duration": 0,
    "start_time": "2023-06-12T17:11:21.999Z"
   },
   {
    "duration": 0,
    "start_time": "2023-06-12T17:11:22.001Z"
   },
   {
    "duration": 0,
    "start_time": "2023-06-12T17:11:22.002Z"
   },
   {
    "duration": 0,
    "start_time": "2023-06-12T17:11:22.004Z"
   },
   {
    "duration": 0,
    "start_time": "2023-06-12T17:11:22.005Z"
   },
   {
    "duration": 0,
    "start_time": "2023-06-12T17:11:22.050Z"
   },
   {
    "duration": 0,
    "start_time": "2023-06-12T17:11:22.052Z"
   },
   {
    "duration": 0,
    "start_time": "2023-06-12T17:11:22.053Z"
   },
   {
    "duration": 0,
    "start_time": "2023-06-12T17:11:22.054Z"
   },
   {
    "duration": 0,
    "start_time": "2023-06-12T17:11:22.055Z"
   },
   {
    "duration": 0,
    "start_time": "2023-06-12T17:11:22.056Z"
   },
   {
    "duration": 0,
    "start_time": "2023-06-12T17:11:22.057Z"
   },
   {
    "duration": 0,
    "start_time": "2023-06-12T17:11:22.058Z"
   },
   {
    "duration": 0,
    "start_time": "2023-06-12T17:11:22.059Z"
   },
   {
    "duration": 49,
    "start_time": "2023-06-12T17:14:14.731Z"
   },
   {
    "duration": 5,
    "start_time": "2023-06-12T17:14:23.690Z"
   },
   {
    "duration": 15,
    "start_time": "2023-06-12T17:14:24.245Z"
   },
   {
    "duration": 7,
    "start_time": "2023-06-12T17:14:28.545Z"
   },
   {
    "duration": 6,
    "start_time": "2023-06-12T17:14:28.892Z"
   },
   {
    "duration": 6,
    "start_time": "2023-06-12T17:14:29.025Z"
   },
   {
    "duration": 7,
    "start_time": "2023-06-12T17:14:29.188Z"
   },
   {
    "duration": 4,
    "start_time": "2023-06-12T17:14:29.506Z"
   },
   {
    "duration": 5,
    "start_time": "2023-06-12T17:14:29.692Z"
   },
   {
    "duration": 5,
    "start_time": "2023-06-12T17:14:30.161Z"
   },
   {
    "duration": 8,
    "start_time": "2023-06-12T17:14:30.320Z"
   },
   {
    "duration": 21,
    "start_time": "2023-06-12T17:14:30.494Z"
   },
   {
    "duration": 13,
    "start_time": "2023-06-12T17:14:30.641Z"
   },
   {
    "duration": 3,
    "start_time": "2023-06-12T17:14:30.964Z"
   },
   {
    "duration": 7,
    "start_time": "2023-06-12T17:14:31.113Z"
   },
   {
    "duration": 12,
    "start_time": "2023-06-12T17:14:31.273Z"
   },
   {
    "duration": 3,
    "start_time": "2023-06-12T17:14:32.153Z"
   },
   {
    "duration": 4,
    "start_time": "2023-06-12T17:14:32.450Z"
   },
   {
    "duration": 84492,
    "start_time": "2023-06-12T17:14:32.594Z"
   },
   {
    "duration": 3,
    "start_time": "2023-06-12T17:15:57.088Z"
   },
   {
    "duration": 7,
    "start_time": "2023-06-12T17:15:57.092Z"
   },
   {
    "duration": 10757,
    "start_time": "2023-06-12T17:15:57.101Z"
   },
   {
    "duration": 91,
    "start_time": "2023-06-12T17:16:07.860Z"
   },
   {
    "duration": 102,
    "start_time": "2023-06-12T17:16:07.953Z"
   },
   {
    "duration": 389855,
    "start_time": "2023-06-12T17:16:08.057Z"
   },
   {
    "duration": 10,
    "start_time": "2023-06-12T17:22:37.915Z"
   },
   {
    "duration": 9,
    "start_time": "2023-06-12T17:22:37.927Z"
   },
   {
    "duration": 7,
    "start_time": "2023-06-12T17:22:37.939Z"
   },
   {
    "duration": 6,
    "start_time": "2023-06-12T17:22:37.947Z"
   },
   {
    "duration": 9,
    "start_time": "2023-06-12T17:22:37.955Z"
   },
   {
    "duration": 197,
    "start_time": "2023-06-12T17:22:37.966Z"
   },
   {
    "duration": 5612,
    "start_time": "2023-06-12T17:27:32.058Z"
   },
   {
    "duration": 3,
    "start_time": "2023-06-12T17:27:37.674Z"
   },
   {
    "duration": 42,
    "start_time": "2023-06-12T17:27:37.678Z"
   },
   {
    "duration": 20,
    "start_time": "2023-06-12T17:27:37.723Z"
   },
   {
    "duration": 22,
    "start_time": "2023-06-12T17:27:37.745Z"
   },
   {
    "duration": 18,
    "start_time": "2023-06-12T17:27:37.768Z"
   },
   {
    "duration": 19,
    "start_time": "2023-06-12T17:27:37.787Z"
   },
   {
    "duration": 11,
    "start_time": "2023-06-12T17:27:37.808Z"
   },
   {
    "duration": 10,
    "start_time": "2023-06-12T17:27:37.821Z"
   },
   {
    "duration": 28,
    "start_time": "2023-06-12T17:27:37.833Z"
   },
   {
    "duration": 9,
    "start_time": "2023-06-12T17:27:37.863Z"
   },
   {
    "duration": 12,
    "start_time": "2023-06-12T17:27:37.873Z"
   },
   {
    "duration": 13,
    "start_time": "2023-06-12T17:27:37.887Z"
   },
   {
    "duration": 16,
    "start_time": "2023-06-12T17:27:37.901Z"
   },
   {
    "duration": 33,
    "start_time": "2023-06-12T17:27:37.918Z"
   },
   {
    "duration": 12,
    "start_time": "2023-06-12T17:27:37.953Z"
   },
   {
    "duration": 36,
    "start_time": "2023-06-12T17:27:37.966Z"
   },
   {
    "duration": 8,
    "start_time": "2023-06-12T17:27:38.004Z"
   },
   {
    "duration": 15,
    "start_time": "2023-06-12T17:27:38.014Z"
   },
   {
    "duration": 32,
    "start_time": "2023-06-12T17:27:38.030Z"
   },
   {
    "duration": 3,
    "start_time": "2023-06-12T17:27:38.064Z"
   },
   {
    "duration": 9,
    "start_time": "2023-06-12T17:27:38.068Z"
   },
   {
    "duration": 5,
    "start_time": "2023-06-12T17:27:38.078Z"
   },
   {
    "duration": 9,
    "start_time": "2023-06-12T17:27:38.084Z"
   },
   {
    "duration": 15,
    "start_time": "2023-06-12T17:27:38.094Z"
   },
   {
    "duration": 9,
    "start_time": "2023-06-12T17:27:38.111Z"
   },
   {
    "duration": 7,
    "start_time": "2023-06-12T17:27:38.122Z"
   },
   {
    "duration": 9,
    "start_time": "2023-06-12T17:27:38.153Z"
   },
   {
    "duration": 8,
    "start_time": "2023-06-12T17:27:38.164Z"
   },
   {
    "duration": 22,
    "start_time": "2023-06-12T17:27:38.174Z"
   },
   {
    "duration": 9,
    "start_time": "2023-06-12T17:27:38.198Z"
   },
   {
    "duration": 11,
    "start_time": "2023-06-12T17:27:38.208Z"
   },
   {
    "duration": 5,
    "start_time": "2023-06-12T17:27:38.220Z"
   },
   {
    "duration": 32,
    "start_time": "2023-06-12T17:27:38.227Z"
   },
   {
    "duration": 9,
    "start_time": "2023-06-12T17:27:38.261Z"
   },
   {
    "duration": 6,
    "start_time": "2023-06-12T17:27:38.272Z"
   },
   {
    "duration": 13,
    "start_time": "2023-06-12T17:27:38.280Z"
   },
   {
    "duration": 19,
    "start_time": "2023-06-12T17:27:38.295Z"
   },
   {
    "duration": 36,
    "start_time": "2023-06-12T17:27:38.315Z"
   },
   {
    "duration": 12,
    "start_time": "2023-06-12T17:27:38.352Z"
   },
   {
    "duration": 16,
    "start_time": "2023-06-12T17:27:38.366Z"
   },
   {
    "duration": 142,
    "start_time": "2023-06-12T17:27:38.383Z"
   },
   {
    "duration": 6,
    "start_time": "2023-06-12T17:27:38.527Z"
   },
   {
    "duration": 417,
    "start_time": "2023-06-12T17:27:38.534Z"
   },
   {
    "duration": 737,
    "start_time": "2023-06-12T17:27:38.953Z"
   },
   {
    "duration": 124,
    "start_time": "2023-06-12T17:27:39.692Z"
   },
   {
    "duration": 128,
    "start_time": "2023-06-12T17:27:39.818Z"
   },
   {
    "duration": 133,
    "start_time": "2023-06-12T17:27:39.947Z"
   },
   {
    "duration": 216,
    "start_time": "2023-06-12T17:27:40.082Z"
   },
   {
    "duration": 152,
    "start_time": "2023-06-12T17:27:40.300Z"
   },
   {
    "duration": 162,
    "start_time": "2023-06-12T17:27:40.454Z"
   },
   {
    "duration": 6,
    "start_time": "2023-06-12T17:27:40.618Z"
   },
   {
    "duration": 13,
    "start_time": "2023-06-12T17:27:40.626Z"
   },
   {
    "duration": 10,
    "start_time": "2023-06-12T17:27:40.641Z"
   },
   {
    "duration": 39610,
    "start_time": "2023-06-12T17:27:40.653Z"
   },
   {
    "duration": 5,
    "start_time": "2023-06-12T17:28:20.265Z"
   },
   {
    "duration": 31,
    "start_time": "2023-06-12T17:28:20.272Z"
   },
   {
    "duration": 9,
    "start_time": "2023-06-12T17:28:20.305Z"
   },
   {
    "duration": 16,
    "start_time": "2023-06-12T17:28:20.316Z"
   },
   {
    "duration": 14,
    "start_time": "2023-06-12T17:28:20.333Z"
   },
   {
    "duration": 11,
    "start_time": "2023-06-12T17:28:20.348Z"
   },
   {
    "duration": 5,
    "start_time": "2023-06-12T17:28:20.361Z"
   },
   {
    "duration": 6,
    "start_time": "2023-06-12T17:28:20.367Z"
   },
   {
    "duration": 10,
    "start_time": "2023-06-12T17:28:20.374Z"
   },
   {
    "duration": 21,
    "start_time": "2023-06-12T17:28:20.386Z"
   },
   {
    "duration": 29,
    "start_time": "2023-06-12T17:28:20.408Z"
   },
   {
    "duration": 14,
    "start_time": "2023-06-12T17:28:20.438Z"
   },
   {
    "duration": 3,
    "start_time": "2023-06-12T17:28:20.453Z"
   },
   {
    "duration": 8,
    "start_time": "2023-06-12T17:28:20.458Z"
   },
   {
    "duration": 19,
    "start_time": "2023-06-12T17:28:20.468Z"
   },
   {
    "duration": 4,
    "start_time": "2023-06-12T17:28:20.489Z"
   },
   {
    "duration": 5,
    "start_time": "2023-06-12T17:28:20.494Z"
   },
   {
    "duration": 90721,
    "start_time": "2023-06-12T17:28:20.501Z"
   },
   {
    "duration": 3,
    "start_time": "2023-06-12T17:29:51.223Z"
   },
   {
    "duration": 13,
    "start_time": "2023-06-12T17:29:51.228Z"
   },
   {
    "duration": 47517,
    "start_time": "2023-06-12T17:29:51.242Z"
   },
   {
    "duration": 3,
    "start_time": "2023-06-12T17:30:38.852Z"
   },
   {
    "duration": 92,
    "start_time": "2023-06-12T17:30:38.860Z"
   },
   {
    "duration": 397787,
    "start_time": "2023-06-12T17:30:38.953Z"
   },
   {
    "duration": 9,
    "start_time": "2023-06-12T17:37:16.743Z"
   },
   {
    "duration": 10,
    "start_time": "2023-06-12T17:37:16.754Z"
   },
   {
    "duration": 7,
    "start_time": "2023-06-12T17:37:16.770Z"
   },
   {
    "duration": 6,
    "start_time": "2023-06-12T17:37:16.778Z"
   },
   {
    "duration": 6,
    "start_time": "2023-06-12T17:37:16.785Z"
   },
   {
    "duration": 206,
    "start_time": "2023-06-12T17:37:16.793Z"
   },
   {
    "duration": 11134,
    "start_time": "2023-06-12T18:07:53.396Z"
   },
   {
    "duration": 3,
    "start_time": "2023-06-12T18:08:04.532Z"
   },
   {
    "duration": 355,
    "start_time": "2023-06-12T18:08:04.536Z"
   },
   {
    "duration": 58,
    "start_time": "2023-06-12T18:08:04.893Z"
   },
   {
    "duration": 185,
    "start_time": "2023-06-12T18:08:04.953Z"
   },
   {
    "duration": 87,
    "start_time": "2023-06-12T18:08:05.140Z"
   },
   {
    "duration": 326,
    "start_time": "2023-06-12T18:08:05.228Z"
   },
   {
    "duration": 270,
    "start_time": "2023-06-12T18:08:05.556Z"
   },
   {
    "duration": 30,
    "start_time": "2023-06-12T18:08:05.828Z"
   },
   {
    "duration": 22,
    "start_time": "2023-06-12T18:08:05.861Z"
   },
   {
    "duration": 9,
    "start_time": "2023-06-12T18:08:05.884Z"
   },
   {
    "duration": 52,
    "start_time": "2023-06-12T18:08:05.895Z"
   },
   {
    "duration": 26,
    "start_time": "2023-06-12T18:08:05.949Z"
   },
   {
    "duration": 58,
    "start_time": "2023-06-12T18:08:05.976Z"
   },
   {
    "duration": 37,
    "start_time": "2023-06-12T18:08:06.035Z"
   },
   {
    "duration": 40,
    "start_time": "2023-06-12T18:08:06.073Z"
   },
   {
    "duration": 47,
    "start_time": "2023-06-12T18:08:06.117Z"
   },
   {
    "duration": 31,
    "start_time": "2023-06-12T18:08:06.165Z"
   },
   {
    "duration": 28,
    "start_time": "2023-06-12T18:08:06.197Z"
   },
   {
    "duration": 29,
    "start_time": "2023-06-12T18:08:06.227Z"
   },
   {
    "duration": 12,
    "start_time": "2023-06-12T18:08:06.257Z"
   },
   {
    "duration": 27,
    "start_time": "2023-06-12T18:08:06.270Z"
   },
   {
    "duration": 26,
    "start_time": "2023-06-12T18:08:06.299Z"
   },
   {
    "duration": 26,
    "start_time": "2023-06-12T18:08:06.327Z"
   },
   {
    "duration": 47,
    "start_time": "2023-06-12T18:08:06.354Z"
   },
   {
    "duration": 9,
    "start_time": "2023-06-12T18:08:06.403Z"
   },
   {
    "duration": 16,
    "start_time": "2023-06-12T18:08:06.413Z"
   },
   {
    "duration": 16,
    "start_time": "2023-06-12T18:08:06.434Z"
   },
   {
    "duration": 35,
    "start_time": "2023-06-12T18:08:06.451Z"
   },
   {
    "duration": 7,
    "start_time": "2023-06-12T18:08:06.488Z"
   },
   {
    "duration": 19,
    "start_time": "2023-06-12T18:08:06.496Z"
   },
   {
    "duration": 26,
    "start_time": "2023-06-12T18:08:06.516Z"
   },
   {
    "duration": 3,
    "start_time": "2023-06-12T18:08:06.544Z"
   },
   {
    "duration": 19,
    "start_time": "2023-06-12T18:08:06.549Z"
   },
   {
    "duration": 3,
    "start_time": "2023-06-12T18:08:06.569Z"
   },
   {
    "duration": 7,
    "start_time": "2023-06-12T18:08:06.574Z"
   },
   {
    "duration": 16,
    "start_time": "2023-06-12T18:08:06.583Z"
   },
   {
    "duration": 26,
    "start_time": "2023-06-12T18:08:06.600Z"
   },
   {
    "duration": 14,
    "start_time": "2023-06-12T18:08:06.627Z"
   },
   {
    "duration": 12,
    "start_time": "2023-06-12T18:08:06.642Z"
   },
   {
    "duration": 15,
    "start_time": "2023-06-12T18:08:06.656Z"
   },
   {
    "duration": 115,
    "start_time": "2023-06-12T18:08:06.672Z"
   },
   {
    "duration": 5,
    "start_time": "2023-06-12T18:08:06.789Z"
   },
   {
    "duration": 360,
    "start_time": "2023-06-12T18:08:06.795Z"
   },
   {
    "duration": 663,
    "start_time": "2023-06-12T18:08:07.157Z"
   },
   {
    "duration": 109,
    "start_time": "2023-06-12T18:08:07.822Z"
   },
   {
    "duration": 108,
    "start_time": "2023-06-12T18:08:07.933Z"
   },
   {
    "duration": 122,
    "start_time": "2023-06-12T18:08:08.043Z"
   },
   {
    "duration": 194,
    "start_time": "2023-06-12T18:08:08.167Z"
   },
   {
    "duration": 167,
    "start_time": "2023-06-12T18:08:08.362Z"
   },
   {
    "duration": 129,
    "start_time": "2023-06-12T18:08:08.530Z"
   },
   {
    "duration": 4,
    "start_time": "2023-06-12T18:08:08.661Z"
   },
   {
    "duration": 25,
    "start_time": "2023-06-12T18:08:08.667Z"
   },
   {
    "duration": 28,
    "start_time": "2023-06-12T18:08:08.693Z"
   },
   {
    "duration": 36030,
    "start_time": "2023-06-12T18:08:08.722Z"
   },
   {
    "duration": 5,
    "start_time": "2023-06-12T18:08:44.754Z"
   },
   {
    "duration": 23,
    "start_time": "2023-06-12T18:08:44.760Z"
   },
   {
    "duration": 5,
    "start_time": "2023-06-12T18:08:44.785Z"
   },
   {
    "duration": 27,
    "start_time": "2023-06-12T18:08:44.792Z"
   },
   {
    "duration": 14,
    "start_time": "2023-06-12T18:08:44.821Z"
   },
   {
    "duration": 19,
    "start_time": "2023-06-12T18:08:44.836Z"
   },
   {
    "duration": 9,
    "start_time": "2023-06-12T18:08:44.857Z"
   },
   {
    "duration": 16,
    "start_time": "2023-06-12T18:08:44.867Z"
   },
   {
    "duration": 40,
    "start_time": "2023-06-12T18:08:44.884Z"
   },
   {
    "duration": 19,
    "start_time": "2023-06-12T18:08:44.925Z"
   },
   {
    "duration": 35,
    "start_time": "2023-06-12T18:08:44.945Z"
   },
   {
    "duration": 13,
    "start_time": "2023-06-12T18:08:44.981Z"
   },
   {
    "duration": 2,
    "start_time": "2023-06-12T18:08:44.995Z"
   },
   {
    "duration": 32,
    "start_time": "2023-06-12T18:08:44.999Z"
   },
   {
    "duration": 21,
    "start_time": "2023-06-12T18:08:45.032Z"
   },
   {
    "duration": 4,
    "start_time": "2023-06-12T18:08:45.054Z"
   },
   {
    "duration": 24,
    "start_time": "2023-06-12T18:08:45.059Z"
   },
   {
    "duration": 81344,
    "start_time": "2023-06-12T18:08:45.085Z"
   },
   {
    "duration": 2,
    "start_time": "2023-06-12T18:10:06.431Z"
   },
   {
    "duration": 8,
    "start_time": "2023-06-12T18:10:06.435Z"
   },
   {
    "duration": 18582,
    "start_time": "2023-06-12T18:10:06.444Z"
   },
   {
    "duration": 3,
    "start_time": "2023-06-12T18:10:25.027Z"
   },
   {
    "duration": 92,
    "start_time": "2023-06-12T18:10:25.031Z"
   },
   {
    "duration": 377773,
    "start_time": "2023-06-12T18:10:25.126Z"
   },
   {
    "duration": 9,
    "start_time": "2023-06-12T18:16:42.901Z"
   },
   {
    "duration": 24,
    "start_time": "2023-06-12T18:16:42.911Z"
   },
   {
    "duration": 119,
    "start_time": "2023-06-12T18:16:42.941Z"
   },
   {
    "duration": 0,
    "start_time": "2023-06-12T18:16:43.061Z"
   },
   {
    "duration": 0,
    "start_time": "2023-06-12T18:16:43.062Z"
   },
   {
    "duration": 7,
    "start_time": "2023-06-12T18:17:06.235Z"
   },
   {
    "duration": 4,
    "start_time": "2023-06-12T18:19:59.007Z"
   },
   {
    "duration": 152,
    "start_time": "2023-06-12T18:19:59.468Z"
   },
   {
    "duration": 6,
    "start_time": "2023-06-12T18:25:54.398Z"
   },
   {
    "duration": 6,
    "start_time": "2023-06-12T18:26:21.119Z"
   },
   {
    "duration": 245,
    "start_time": "2023-06-12T18:28:03.474Z"
   },
   {
    "duration": 218,
    "start_time": "2023-06-12T18:28:55.253Z"
   },
   {
    "duration": 281,
    "start_time": "2023-06-12T18:29:03.078Z"
   },
   {
    "duration": 287,
    "start_time": "2023-06-12T18:33:49.777Z"
   },
   {
    "duration": 241,
    "start_time": "2023-06-12T18:33:57.325Z"
   },
   {
    "duration": 261,
    "start_time": "2023-06-12T18:34:01.820Z"
   },
   {
    "duration": 245,
    "start_time": "2023-06-12T18:34:44.124Z"
   },
   {
    "duration": 332,
    "start_time": "2023-06-12T18:35:53.029Z"
   },
   {
    "duration": 221,
    "start_time": "2023-06-12T18:36:43.850Z"
   },
   {
    "duration": 4814,
    "start_time": "2023-06-12T18:56:37.935Z"
   },
   {
    "duration": 2,
    "start_time": "2023-06-12T18:56:42.751Z"
   },
   {
    "duration": 39,
    "start_time": "2023-06-12T18:56:42.755Z"
   },
   {
    "duration": 20,
    "start_time": "2023-06-12T18:56:42.796Z"
   },
   {
    "duration": 24,
    "start_time": "2023-06-12T18:56:42.818Z"
   },
   {
    "duration": 16,
    "start_time": "2023-06-12T18:56:42.844Z"
   },
   {
    "duration": 14,
    "start_time": "2023-06-12T18:56:42.862Z"
   },
   {
    "duration": 16,
    "start_time": "2023-06-12T18:56:42.878Z"
   },
   {
    "duration": 11,
    "start_time": "2023-06-12T18:56:42.895Z"
   },
   {
    "duration": 20,
    "start_time": "2023-06-12T18:56:42.909Z"
   },
   {
    "duration": 9,
    "start_time": "2023-06-12T18:56:42.930Z"
   },
   {
    "duration": 19,
    "start_time": "2023-06-12T18:56:42.940Z"
   },
   {
    "duration": 10,
    "start_time": "2023-06-12T18:56:42.960Z"
   },
   {
    "duration": 14,
    "start_time": "2023-06-12T18:56:42.971Z"
   },
   {
    "duration": 33,
    "start_time": "2023-06-12T18:56:42.986Z"
   },
   {
    "duration": 14,
    "start_time": "2023-06-12T18:56:43.020Z"
   },
   {
    "duration": 27,
    "start_time": "2023-06-12T18:56:43.036Z"
   },
   {
    "duration": 7,
    "start_time": "2023-06-12T18:56:43.064Z"
   },
   {
    "duration": 12,
    "start_time": "2023-06-12T18:56:43.072Z"
   },
   {
    "duration": 29,
    "start_time": "2023-06-12T18:56:43.085Z"
   },
   {
    "duration": 3,
    "start_time": "2023-06-12T18:56:43.115Z"
   },
   {
    "duration": 4,
    "start_time": "2023-06-12T18:56:43.119Z"
   },
   {
    "duration": 5,
    "start_time": "2023-06-12T18:56:43.124Z"
   },
   {
    "duration": 6,
    "start_time": "2023-06-12T18:56:43.130Z"
   },
   {
    "duration": 11,
    "start_time": "2023-06-12T18:56:43.137Z"
   },
   {
    "duration": 8,
    "start_time": "2023-06-12T18:56:43.149Z"
   },
   {
    "duration": 7,
    "start_time": "2023-06-12T18:56:43.158Z"
   },
   {
    "duration": 8,
    "start_time": "2023-06-12T18:56:43.168Z"
   },
   {
    "duration": 7,
    "start_time": "2023-06-12T18:56:43.207Z"
   },
   {
    "duration": 6,
    "start_time": "2023-06-12T18:56:43.215Z"
   },
   {
    "duration": 10,
    "start_time": "2023-06-12T18:56:43.222Z"
   },
   {
    "duration": 20,
    "start_time": "2023-06-12T18:56:43.233Z"
   },
   {
    "duration": 6,
    "start_time": "2023-06-12T18:56:43.254Z"
   },
   {
    "duration": 14,
    "start_time": "2023-06-12T18:56:43.262Z"
   },
   {
    "duration": 5,
    "start_time": "2023-06-12T18:56:43.277Z"
   },
   {
    "duration": 5,
    "start_time": "2023-06-12T18:56:43.284Z"
   },
   {
    "duration": 10,
    "start_time": "2023-06-12T18:56:43.306Z"
   },
   {
    "duration": 16,
    "start_time": "2023-06-12T18:56:43.318Z"
   },
   {
    "duration": 15,
    "start_time": "2023-06-12T18:56:43.335Z"
   },
   {
    "duration": 24,
    "start_time": "2023-06-12T18:56:43.351Z"
   },
   {
    "duration": 17,
    "start_time": "2023-06-12T18:56:43.377Z"
   },
   {
    "duration": 104,
    "start_time": "2023-06-12T18:56:43.406Z"
   },
   {
    "duration": 6,
    "start_time": "2023-06-12T18:56:43.512Z"
   },
   {
    "duration": 367,
    "start_time": "2023-06-12T18:56:43.519Z"
   },
   {
    "duration": 686,
    "start_time": "2023-06-12T18:56:43.888Z"
   },
   {
    "duration": 115,
    "start_time": "2023-06-12T18:56:44.575Z"
   },
   {
    "duration": 116,
    "start_time": "2023-06-12T18:56:44.692Z"
   },
   {
    "duration": 107,
    "start_time": "2023-06-12T18:56:44.809Z"
   },
   {
    "duration": 195,
    "start_time": "2023-06-12T18:56:44.918Z"
   },
   {
    "duration": 125,
    "start_time": "2023-06-12T18:56:45.114Z"
   },
   {
    "duration": 120,
    "start_time": "2023-06-12T18:56:45.240Z"
   },
   {
    "duration": 5,
    "start_time": "2023-06-12T18:56:45.361Z"
   },
   {
    "duration": 35286,
    "start_time": "2023-06-12T18:56:45.367Z"
   },
   {
    "duration": 5,
    "start_time": "2023-06-12T18:57:20.654Z"
   },
   {
    "duration": 20,
    "start_time": "2023-06-12T18:57:20.660Z"
   },
   {
    "duration": 10,
    "start_time": "2023-06-12T18:57:20.681Z"
   },
   {
    "duration": 8,
    "start_time": "2023-06-12T18:57:20.692Z"
   },
   {
    "duration": 15,
    "start_time": "2023-06-12T18:57:20.702Z"
   },
   {
    "duration": 31,
    "start_time": "2023-06-12T18:57:20.719Z"
   },
   {
    "duration": 33,
    "start_time": "2023-06-12T18:57:20.751Z"
   },
   {
    "duration": 12,
    "start_time": "2023-06-12T18:57:20.785Z"
   },
   {
    "duration": 12,
    "start_time": "2023-06-12T18:57:20.798Z"
   },
   {
    "duration": 12,
    "start_time": "2023-06-12T18:57:20.812Z"
   },
   {
    "duration": 39,
    "start_time": "2023-06-12T18:57:20.826Z"
   },
   {
    "duration": 13,
    "start_time": "2023-06-12T18:57:20.866Z"
   },
   {
    "duration": 3,
    "start_time": "2023-06-12T18:57:20.880Z"
   },
   {
    "duration": 12,
    "start_time": "2023-06-12T18:57:20.884Z"
   },
   {
    "duration": 17,
    "start_time": "2023-06-12T18:57:20.897Z"
   },
   {
    "duration": 3,
    "start_time": "2023-06-12T18:57:20.915Z"
   },
   {
    "duration": 8,
    "start_time": "2023-06-12T18:57:20.920Z"
   },
   {
    "duration": 78877,
    "start_time": "2023-06-12T18:57:20.929Z"
   },
   {
    "duration": 2,
    "start_time": "2023-06-12T18:58:39.808Z"
   },
   {
    "duration": 17,
    "start_time": "2023-06-12T18:58:39.812Z"
   },
   {
    "duration": 10385,
    "start_time": "2023-06-12T18:58:39.831Z"
   },
   {
    "duration": 92,
    "start_time": "2023-06-12T18:58:50.217Z"
   },
   {
    "duration": 102,
    "start_time": "2023-06-12T18:58:50.312Z"
   },
   {
    "duration": 370034,
    "start_time": "2023-06-12T18:58:50.416Z"
   },
   {
    "duration": 9,
    "start_time": "2023-06-12T19:05:00.451Z"
   },
   {
    "duration": 38,
    "start_time": "2023-06-12T19:05:00.462Z"
   },
   {
    "duration": 47,
    "start_time": "2023-06-12T19:05:00.502Z"
   },
   {
    "duration": 26,
    "start_time": "2023-06-12T19:05:00.551Z"
   },
   {
    "duration": 188,
    "start_time": "2023-06-12T19:05:00.584Z"
   },
   {
    "duration": 6,
    "start_time": "2023-06-12T19:05:00.774Z"
   },
   {
    "duration": 286,
    "start_time": "2023-06-12T19:05:00.782Z"
   },
   {
    "duration": 174,
    "start_time": "2023-06-13T05:16:10.357Z"
   },
   {
    "duration": 106,
    "start_time": "2023-06-13T05:17:39.421Z"
   },
   {
    "duration": 145,
    "start_time": "2023-06-13T05:20:08.546Z"
   },
   {
    "duration": 138,
    "start_time": "2023-06-13T16:04:42.530Z"
   },
   {
    "duration": 117,
    "start_time": "2023-06-13T16:05:04.598Z"
   }
  ],
  "kernelspec": {
   "display_name": "Python 3 (ipykernel)",
   "language": "python",
   "name": "python3"
  },
  "language_info": {
   "codemirror_mode": {
    "name": "ipython",
    "version": 3
   },
   "file_extension": ".py",
   "mimetype": "text/x-python",
   "name": "python",
   "nbconvert_exporter": "python",
   "pygments_lexer": "ipython3",
   "version": "3.9.13"
  },
  "toc": {
   "base_numbering": 1,
   "nav_menu": {},
   "number_sections": true,
   "sideBar": true,
   "skip_h1_title": true,
   "title_cell": "Содержание",
   "title_sidebar": "Contents",
   "toc_cell": true,
   "toc_position": {
    "height": "calc(100% - 180px)",
    "left": "10px",
    "top": "150px",
    "width": "259px"
   },
   "toc_section_display": true,
   "toc_window_display": false
  }
 },
 "nbformat": 4,
 "nbformat_minor": 2
}
