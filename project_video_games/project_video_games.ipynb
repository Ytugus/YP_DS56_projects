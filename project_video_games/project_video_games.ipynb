{
 "cells": [
  {
   "cell_type": "markdown",
   "metadata": {},
   "source": [
    "# Сборный проект: Исследование и анализ рынка видеоигр"
   ]
  },
  {
   "cell_type": "markdown",
   "metadata": {},
   "source": [
    "# Описание проекта\n",
    "\n",
    "Вы работаете в интернет-магазине «Стримчик», который продаёт по всему миру компьютерные игры. Из открытых источников доступны исторические данные о продажах игр, оценки пользователей и экспертов, жанры и платформы (например, Xbox или PlayStation). Вам нужно выявить определяющие успешность игры закономерности. Это позволит сделать ставку на потенциально популярный продукт и спланировать рекламные кампании."
   ]
  },
  {
   "cell_type": "markdown",
   "metadata": {},
   "source": [
    "# Цель проекта\n",
    "\n",
    "Исследовать предоставленные данные и сделать план рекламной кампании для магазина «Стримчик»."
   ]
  },
  {
   "cell_type": "markdown",
   "metadata": {},
   "source": [
    "# Описание данных\n",
    "\n",
    "- Name — название игры\n",
    "- Platform — платформа\n",
    "- Year_of_Release — год выпуска\n",
    "- Genre — жанр игры\n",
    "- NA_sales — продажи в Северной Америке (миллионы проданных копий)\n",
    "- EU_sales — продажи в Европе (миллионы проданных копий)\n",
    "- JP_sales — продажи в Японии (миллионы проданных копий)\n",
    "- Other_sales — продажи в других странах (миллионы проданных копий)\n",
    "- Critic_Score — оценка критиков (максимум 100)\n",
    "- User_Score — оценка пользователей (максимум 10)\n",
    "- Rating — рейтинг от организации ESRB (англ. Entertainment Software Rating Board). Эта ассоциация определяет рейтинг компьютерных игр и присваивает им подходящую возрастную категорию.\n",
    "\n",
    "Представленны данные до 2016 включительно."
   ]
  },
  {
   "cell_type": "markdown",
   "metadata": {},
   "source": [
    "# Содержание проекта\n",
    "\n",
    "*  1. Открытие файла с данными и изучение общей информации\n",
    " * 1.1 Вывод\n",
    "*  2. Подготовка данных\n",
    " * 2.1. Первичная обработка\n",
    " * 2.2. Обработка пропущенный значений и изменение типа данных\n",
    " * 2.3. Посчитаем суммарные продажи и запишим в отдельный столбец\n",
    " * 2.4. Вывод\n",
    "*  3. Проведение исследовательского анализа данных\n",
    " * 3.1. Количество игр выпускаемых в разные года\n",
    " * 3.2. Продажи игр выпускаемых на разных платформах\n",
    " * 3.3. Продажи игр выпускаемых на разных платформах c 2013 года\n",
    " * 3.4. График «ящик с усами» по глобальным продажам игр в разбивке по платформам\n",
    " * 3.5. Посмотрим, как влияют на продажи внутри одной популярной платформы отзывы пользователей и критиков\n",
    " * 3.6.Посмотрим, как влияют на продажи внутри остальных платформ отзывы пользователей и критиков и соотнесем с результатами прошлого пункта\n",
    " * 3.7. Посмотрите на общее распределение игр по жанрам\n",
    " * 3.8.Вывод\n",
    "\n",
    "*  4. Составление портрета пользователя каждого региона (NA, EU, JP)\n",
    " * 4.1. Самые популярные платформы (топ-5)\n",
    " * 4.2. Самые популярные жанры (топ-5)\n",
    " * 4.3. Влияет ли рейтинг ESRB на продажи в отдельном регионе\n",
    " * 4.4. Вывод\n",
    "*  5. Проверка гипотез\n",
    " * 5.1. Средние пользовательские рейтинги платформ Xbox One и PC одинаковые\n",
    " * 5.2. Cредние пользовательские рейтинги жанров Action и Sports разные\n",
    "*  6. Общий вывод\n"
   ]
  },
  {
   "cell_type": "markdown",
   "metadata": {},
   "source": [
    "## Открытие файла с данными и изучение общей информации"
   ]
  },
  {
   "cell_type": "markdown",
   "metadata": {},
   "source": [
    "Импортируем все необходимые библиотеки"
   ]
  },
  {
   "cell_type": "code",
   "execution_count": 1,
   "metadata": {},
   "outputs": [],
   "source": [
    "import pandas as pd\n",
    "import matplotlib.pyplot as plt\n",
    "import seaborn as sns\n",
    "import numpy as np\n",
    "from scipy import stats as st\n",
    "import warnings\n",
    "\n",
    "warnings.filterwarnings(action='ignore')"
   ]
  },
  {
   "cell_type": "markdown",
   "metadata": {},
   "source": [
    "Запишем данные в переменную, посмотрим на первые несколько строк и выведим info"
   ]
  },
  {
   "cell_type": "code",
   "execution_count": 2,
   "metadata": {},
   "outputs": [],
   "source": [
    "data = pd.read_csv('/datasets/games.csv')"
   ]
  },
  {
   "cell_type": "code",
   "execution_count": 3,
   "metadata": {},
   "outputs": [
    {
     "data": {
      "text/html": [
       "<div>\n",
       "<style scoped>\n",
       "    .dataframe tbody tr th:only-of-type {\n",
       "        vertical-align: middle;\n",
       "    }\n",
       "\n",
       "    .dataframe tbody tr th {\n",
       "        vertical-align: top;\n",
       "    }\n",
       "\n",
       "    .dataframe thead th {\n",
       "        text-align: right;\n",
       "    }\n",
       "</style>\n",
       "<table border=\"1\" class=\"dataframe\">\n",
       "  <thead>\n",
       "    <tr style=\"text-align: right;\">\n",
       "      <th></th>\n",
       "      <th>Name</th>\n",
       "      <th>Platform</th>\n",
       "      <th>Year_of_Release</th>\n",
       "      <th>Genre</th>\n",
       "      <th>NA_sales</th>\n",
       "      <th>EU_sales</th>\n",
       "      <th>JP_sales</th>\n",
       "      <th>Other_sales</th>\n",
       "      <th>Critic_Score</th>\n",
       "      <th>User_Score</th>\n",
       "      <th>Rating</th>\n",
       "    </tr>\n",
       "  </thead>\n",
       "  <tbody>\n",
       "    <tr>\n",
       "      <th>0</th>\n",
       "      <td>Wii Sports</td>\n",
       "      <td>Wii</td>\n",
       "      <td>2006.0</td>\n",
       "      <td>Sports</td>\n",
       "      <td>41.36</td>\n",
       "      <td>28.96</td>\n",
       "      <td>3.77</td>\n",
       "      <td>8.45</td>\n",
       "      <td>76.0</td>\n",
       "      <td>8</td>\n",
       "      <td>E</td>\n",
       "    </tr>\n",
       "    <tr>\n",
       "      <th>1</th>\n",
       "      <td>Super Mario Bros.</td>\n",
       "      <td>NES</td>\n",
       "      <td>1985.0</td>\n",
       "      <td>Platform</td>\n",
       "      <td>29.08</td>\n",
       "      <td>3.58</td>\n",
       "      <td>6.81</td>\n",
       "      <td>0.77</td>\n",
       "      <td>NaN</td>\n",
       "      <td>NaN</td>\n",
       "      <td>NaN</td>\n",
       "    </tr>\n",
       "    <tr>\n",
       "      <th>2</th>\n",
       "      <td>Mario Kart Wii</td>\n",
       "      <td>Wii</td>\n",
       "      <td>2008.0</td>\n",
       "      <td>Racing</td>\n",
       "      <td>15.68</td>\n",
       "      <td>12.76</td>\n",
       "      <td>3.79</td>\n",
       "      <td>3.29</td>\n",
       "      <td>82.0</td>\n",
       "      <td>8.3</td>\n",
       "      <td>E</td>\n",
       "    </tr>\n",
       "    <tr>\n",
       "      <th>3</th>\n",
       "      <td>Wii Sports Resort</td>\n",
       "      <td>Wii</td>\n",
       "      <td>2009.0</td>\n",
       "      <td>Sports</td>\n",
       "      <td>15.61</td>\n",
       "      <td>10.93</td>\n",
       "      <td>3.28</td>\n",
       "      <td>2.95</td>\n",
       "      <td>80.0</td>\n",
       "      <td>8</td>\n",
       "      <td>E</td>\n",
       "    </tr>\n",
       "    <tr>\n",
       "      <th>4</th>\n",
       "      <td>Pokemon Red/Pokemon Blue</td>\n",
       "      <td>GB</td>\n",
       "      <td>1996.0</td>\n",
       "      <td>Role-Playing</td>\n",
       "      <td>11.27</td>\n",
       "      <td>8.89</td>\n",
       "      <td>10.22</td>\n",
       "      <td>1.00</td>\n",
       "      <td>NaN</td>\n",
       "      <td>NaN</td>\n",
       "      <td>NaN</td>\n",
       "    </tr>\n",
       "    <tr>\n",
       "      <th>5</th>\n",
       "      <td>Tetris</td>\n",
       "      <td>GB</td>\n",
       "      <td>1989.0</td>\n",
       "      <td>Puzzle</td>\n",
       "      <td>23.20</td>\n",
       "      <td>2.26</td>\n",
       "      <td>4.22</td>\n",
       "      <td>0.58</td>\n",
       "      <td>NaN</td>\n",
       "      <td>NaN</td>\n",
       "      <td>NaN</td>\n",
       "    </tr>\n",
       "    <tr>\n",
       "      <th>6</th>\n",
       "      <td>New Super Mario Bros.</td>\n",
       "      <td>DS</td>\n",
       "      <td>2006.0</td>\n",
       "      <td>Platform</td>\n",
       "      <td>11.28</td>\n",
       "      <td>9.14</td>\n",
       "      <td>6.50</td>\n",
       "      <td>2.88</td>\n",
       "      <td>89.0</td>\n",
       "      <td>8.5</td>\n",
       "      <td>E</td>\n",
       "    </tr>\n",
       "    <tr>\n",
       "      <th>7</th>\n",
       "      <td>Wii Play</td>\n",
       "      <td>Wii</td>\n",
       "      <td>2006.0</td>\n",
       "      <td>Misc</td>\n",
       "      <td>13.96</td>\n",
       "      <td>9.18</td>\n",
       "      <td>2.93</td>\n",
       "      <td>2.84</td>\n",
       "      <td>58.0</td>\n",
       "      <td>6.6</td>\n",
       "      <td>E</td>\n",
       "    </tr>\n",
       "    <tr>\n",
       "      <th>8</th>\n",
       "      <td>New Super Mario Bros. Wii</td>\n",
       "      <td>Wii</td>\n",
       "      <td>2009.0</td>\n",
       "      <td>Platform</td>\n",
       "      <td>14.44</td>\n",
       "      <td>6.94</td>\n",
       "      <td>4.70</td>\n",
       "      <td>2.24</td>\n",
       "      <td>87.0</td>\n",
       "      <td>8.4</td>\n",
       "      <td>E</td>\n",
       "    </tr>\n",
       "    <tr>\n",
       "      <th>9</th>\n",
       "      <td>Duck Hunt</td>\n",
       "      <td>NES</td>\n",
       "      <td>1984.0</td>\n",
       "      <td>Shooter</td>\n",
       "      <td>26.93</td>\n",
       "      <td>0.63</td>\n",
       "      <td>0.28</td>\n",
       "      <td>0.47</td>\n",
       "      <td>NaN</td>\n",
       "      <td>NaN</td>\n",
       "      <td>NaN</td>\n",
       "    </tr>\n",
       "    <tr>\n",
       "      <th>10</th>\n",
       "      <td>Nintendogs</td>\n",
       "      <td>DS</td>\n",
       "      <td>2005.0</td>\n",
       "      <td>Simulation</td>\n",
       "      <td>9.05</td>\n",
       "      <td>10.95</td>\n",
       "      <td>1.93</td>\n",
       "      <td>2.74</td>\n",
       "      <td>NaN</td>\n",
       "      <td>NaN</td>\n",
       "      <td>NaN</td>\n",
       "    </tr>\n",
       "    <tr>\n",
       "      <th>11</th>\n",
       "      <td>Mario Kart DS</td>\n",
       "      <td>DS</td>\n",
       "      <td>2005.0</td>\n",
       "      <td>Racing</td>\n",
       "      <td>9.71</td>\n",
       "      <td>7.47</td>\n",
       "      <td>4.13</td>\n",
       "      <td>1.90</td>\n",
       "      <td>91.0</td>\n",
       "      <td>8.6</td>\n",
       "      <td>E</td>\n",
       "    </tr>\n",
       "    <tr>\n",
       "      <th>12</th>\n",
       "      <td>Pokemon Gold/Pokemon Silver</td>\n",
       "      <td>GB</td>\n",
       "      <td>1999.0</td>\n",
       "      <td>Role-Playing</td>\n",
       "      <td>9.00</td>\n",
       "      <td>6.18</td>\n",
       "      <td>7.20</td>\n",
       "      <td>0.71</td>\n",
       "      <td>NaN</td>\n",
       "      <td>NaN</td>\n",
       "      <td>NaN</td>\n",
       "    </tr>\n",
       "    <tr>\n",
       "      <th>13</th>\n",
       "      <td>Wii Fit</td>\n",
       "      <td>Wii</td>\n",
       "      <td>2007.0</td>\n",
       "      <td>Sports</td>\n",
       "      <td>8.92</td>\n",
       "      <td>8.03</td>\n",
       "      <td>3.60</td>\n",
       "      <td>2.15</td>\n",
       "      <td>80.0</td>\n",
       "      <td>7.7</td>\n",
       "      <td>E</td>\n",
       "    </tr>\n",
       "    <tr>\n",
       "      <th>14</th>\n",
       "      <td>Kinect Adventures!</td>\n",
       "      <td>X360</td>\n",
       "      <td>2010.0</td>\n",
       "      <td>Misc</td>\n",
       "      <td>15.00</td>\n",
       "      <td>4.89</td>\n",
       "      <td>0.24</td>\n",
       "      <td>1.69</td>\n",
       "      <td>61.0</td>\n",
       "      <td>6.3</td>\n",
       "      <td>E</td>\n",
       "    </tr>\n",
       "    <tr>\n",
       "      <th>15</th>\n",
       "      <td>Wii Fit Plus</td>\n",
       "      <td>Wii</td>\n",
       "      <td>2009.0</td>\n",
       "      <td>Sports</td>\n",
       "      <td>9.01</td>\n",
       "      <td>8.49</td>\n",
       "      <td>2.53</td>\n",
       "      <td>1.77</td>\n",
       "      <td>80.0</td>\n",
       "      <td>7.4</td>\n",
       "      <td>E</td>\n",
       "    </tr>\n",
       "    <tr>\n",
       "      <th>16</th>\n",
       "      <td>Grand Theft Auto V</td>\n",
       "      <td>PS3</td>\n",
       "      <td>2013.0</td>\n",
       "      <td>Action</td>\n",
       "      <td>7.02</td>\n",
       "      <td>9.09</td>\n",
       "      <td>0.98</td>\n",
       "      <td>3.96</td>\n",
       "      <td>97.0</td>\n",
       "      <td>8.2</td>\n",
       "      <td>M</td>\n",
       "    </tr>\n",
       "    <tr>\n",
       "      <th>17</th>\n",
       "      <td>Grand Theft Auto: San Andreas</td>\n",
       "      <td>PS2</td>\n",
       "      <td>2004.0</td>\n",
       "      <td>Action</td>\n",
       "      <td>9.43</td>\n",
       "      <td>0.40</td>\n",
       "      <td>0.41</td>\n",
       "      <td>10.57</td>\n",
       "      <td>95.0</td>\n",
       "      <td>9</td>\n",
       "      <td>M</td>\n",
       "    </tr>\n",
       "    <tr>\n",
       "      <th>18</th>\n",
       "      <td>Super Mario World</td>\n",
       "      <td>SNES</td>\n",
       "      <td>1990.0</td>\n",
       "      <td>Platform</td>\n",
       "      <td>12.78</td>\n",
       "      <td>3.75</td>\n",
       "      <td>3.54</td>\n",
       "      <td>0.55</td>\n",
       "      <td>NaN</td>\n",
       "      <td>NaN</td>\n",
       "      <td>NaN</td>\n",
       "    </tr>\n",
       "    <tr>\n",
       "      <th>19</th>\n",
       "      <td>Brain Age: Train Your Brain in Minutes a Day</td>\n",
       "      <td>DS</td>\n",
       "      <td>2005.0</td>\n",
       "      <td>Misc</td>\n",
       "      <td>4.74</td>\n",
       "      <td>9.20</td>\n",
       "      <td>4.16</td>\n",
       "      <td>2.04</td>\n",
       "      <td>77.0</td>\n",
       "      <td>7.9</td>\n",
       "      <td>E</td>\n",
       "    </tr>\n",
       "  </tbody>\n",
       "</table>\n",
       "</div>"
      ],
      "text/plain": [
       "                                            Name Platform  Year_of_Release  \\\n",
       "0                                     Wii Sports      Wii           2006.0   \n",
       "1                              Super Mario Bros.      NES           1985.0   \n",
       "2                                 Mario Kart Wii      Wii           2008.0   \n",
       "3                              Wii Sports Resort      Wii           2009.0   \n",
       "4                       Pokemon Red/Pokemon Blue       GB           1996.0   \n",
       "5                                         Tetris       GB           1989.0   \n",
       "6                          New Super Mario Bros.       DS           2006.0   \n",
       "7                                       Wii Play      Wii           2006.0   \n",
       "8                      New Super Mario Bros. Wii      Wii           2009.0   \n",
       "9                                      Duck Hunt      NES           1984.0   \n",
       "10                                    Nintendogs       DS           2005.0   \n",
       "11                                 Mario Kart DS       DS           2005.0   \n",
       "12                   Pokemon Gold/Pokemon Silver       GB           1999.0   \n",
       "13                                       Wii Fit      Wii           2007.0   \n",
       "14                            Kinect Adventures!     X360           2010.0   \n",
       "15                                  Wii Fit Plus      Wii           2009.0   \n",
       "16                            Grand Theft Auto V      PS3           2013.0   \n",
       "17                 Grand Theft Auto: San Andreas      PS2           2004.0   \n",
       "18                             Super Mario World     SNES           1990.0   \n",
       "19  Brain Age: Train Your Brain in Minutes a Day       DS           2005.0   \n",
       "\n",
       "           Genre  NA_sales  EU_sales  JP_sales  Other_sales  Critic_Score  \\\n",
       "0         Sports     41.36     28.96      3.77         8.45          76.0   \n",
       "1       Platform     29.08      3.58      6.81         0.77           NaN   \n",
       "2         Racing     15.68     12.76      3.79         3.29          82.0   \n",
       "3         Sports     15.61     10.93      3.28         2.95          80.0   \n",
       "4   Role-Playing     11.27      8.89     10.22         1.00           NaN   \n",
       "5         Puzzle     23.20      2.26      4.22         0.58           NaN   \n",
       "6       Platform     11.28      9.14      6.50         2.88          89.0   \n",
       "7           Misc     13.96      9.18      2.93         2.84          58.0   \n",
       "8       Platform     14.44      6.94      4.70         2.24          87.0   \n",
       "9        Shooter     26.93      0.63      0.28         0.47           NaN   \n",
       "10    Simulation      9.05     10.95      1.93         2.74           NaN   \n",
       "11        Racing      9.71      7.47      4.13         1.90          91.0   \n",
       "12  Role-Playing      9.00      6.18      7.20         0.71           NaN   \n",
       "13        Sports      8.92      8.03      3.60         2.15          80.0   \n",
       "14          Misc     15.00      4.89      0.24         1.69          61.0   \n",
       "15        Sports      9.01      8.49      2.53         1.77          80.0   \n",
       "16        Action      7.02      9.09      0.98         3.96          97.0   \n",
       "17        Action      9.43      0.40      0.41        10.57          95.0   \n",
       "18      Platform     12.78      3.75      3.54         0.55           NaN   \n",
       "19          Misc      4.74      9.20      4.16         2.04          77.0   \n",
       "\n",
       "   User_Score Rating  \n",
       "0           8      E  \n",
       "1         NaN    NaN  \n",
       "2         8.3      E  \n",
       "3           8      E  \n",
       "4         NaN    NaN  \n",
       "5         NaN    NaN  \n",
       "6         8.5      E  \n",
       "7         6.6      E  \n",
       "8         8.4      E  \n",
       "9         NaN    NaN  \n",
       "10        NaN    NaN  \n",
       "11        8.6      E  \n",
       "12        NaN    NaN  \n",
       "13        7.7      E  \n",
       "14        6.3      E  \n",
       "15        7.4      E  \n",
       "16        8.2      M  \n",
       "17          9      M  \n",
       "18        NaN    NaN  \n",
       "19        7.9      E  "
      ]
     },
     "execution_count": 3,
     "metadata": {},
     "output_type": "execute_result"
    }
   ],
   "source": [
    "data.head(20)"
   ]
  },
  {
   "cell_type": "code",
   "execution_count": 4,
   "metadata": {},
   "outputs": [
    {
     "name": "stdout",
     "output_type": "stream",
     "text": [
      "<class 'pandas.core.frame.DataFrame'>\n",
      "RangeIndex: 16715 entries, 0 to 16714\n",
      "Data columns (total 11 columns):\n",
      " #   Column           Non-Null Count  Dtype  \n",
      "---  ------           --------------  -----  \n",
      " 0   Name             16713 non-null  object \n",
      " 1   Platform         16715 non-null  object \n",
      " 2   Year_of_Release  16446 non-null  float64\n",
      " 3   Genre            16713 non-null  object \n",
      " 4   NA_sales         16715 non-null  float64\n",
      " 5   EU_sales         16715 non-null  float64\n",
      " 6   JP_sales         16715 non-null  float64\n",
      " 7   Other_sales      16715 non-null  float64\n",
      " 8   Critic_Score     8137 non-null   float64\n",
      " 9   User_Score       10014 non-null  object \n",
      " 10  Rating           9949 non-null   object \n",
      "dtypes: float64(6), object(5)\n",
      "memory usage: 1.4+ MB\n"
     ]
    }
   ],
   "source": [
    "data.info()"
   ]
  },
  {
   "cell_type": "markdown",
   "metadata": {},
   "source": [
    "### Вывод"
   ]
  },
  {
   "cell_type": "markdown",
   "metadata": {},
   "source": [
    "**В ходе знакомства с данными данных:** Мы ознакомились с датафреймом, отметили его особенноси, например наименование столбцов с верхним регистром и неподходящим типом данных для user_score, определили какие шаги будут проведены в подготовке данных"
   ]
  },
  {
   "cell_type": "markdown",
   "metadata": {},
   "source": [
    "## Подготовка данных"
   ]
  },
  {
   "cell_type": "markdown",
   "metadata": {},
   "source": [
    "### Первичная обработка"
   ]
  },
  {
   "cell_type": "markdown",
   "metadata": {},
   "source": [
    "Проверим данный на дубликаты"
   ]
  },
  {
   "cell_type": "code",
   "execution_count": 5,
   "metadata": {},
   "outputs": [
    {
     "data": {
      "text/plain": [
       "0"
      ]
     },
     "execution_count": 5,
     "metadata": {},
     "output_type": "execute_result"
    }
   ],
   "source": [
    "data.duplicated().sum()"
   ]
  },
  {
   "cell_type": "markdown",
   "metadata": {},
   "source": [
    "Для удобства приведем значения в столбцах к нижнему регистру"
   ]
  },
  {
   "cell_type": "code",
   "execution_count": 6,
   "metadata": {},
   "outputs": [],
   "source": [
    "data.columns = [column.lower() for column in data.columns]"
   ]
  },
  {
   "cell_type": "code",
   "execution_count": 7,
   "metadata": {},
   "outputs": [
    {
     "data": {
      "text/plain": [
       "Index(['name', 'platform', 'year_of_release', 'genre', 'na_sales', 'eu_sales',\n",
       "       'jp_sales', 'other_sales', 'critic_score', 'user_score', 'rating'],\n",
       "      dtype='object')"
      ]
     },
     "execution_count": 7,
     "metadata": {},
     "output_type": "execute_result"
    }
   ],
   "source": [
    "data.columns"
   ]
  },
  {
   "cell_type": "code",
   "execution_count": 8,
   "metadata": {},
   "outputs": [
    {
     "name": "stdout",
     "output_type": "stream",
     "text": [
      "<class 'pandas.core.frame.DataFrame'>\n",
      "RangeIndex: 16715 entries, 0 to 16714\n",
      "Data columns (total 11 columns):\n",
      " #   Column           Non-Null Count  Dtype  \n",
      "---  ------           --------------  -----  \n",
      " 0   name             16713 non-null  object \n",
      " 1   platform         16715 non-null  object \n",
      " 2   year_of_release  16446 non-null  float64\n",
      " 3   genre            16713 non-null  object \n",
      " 4   na_sales         16715 non-null  float64\n",
      " 5   eu_sales         16715 non-null  float64\n",
      " 6   jp_sales         16715 non-null  float64\n",
      " 7   other_sales      16715 non-null  float64\n",
      " 8   critic_score     8137 non-null   float64\n",
      " 9   user_score       10014 non-null  object \n",
      " 10  rating           9949 non-null   object \n",
      "dtypes: float64(6), object(5)\n",
      "memory usage: 1.4+ MB\n"
     ]
    }
   ],
   "source": [
    "data.info()"
   ]
  },
  {
   "cell_type": "markdown",
   "metadata": {},
   "source": [
    "В инфо заметили, что User_Score имеет тип object хотя должен float64, проверим"
   ]
  },
  {
   "cell_type": "code",
   "execution_count": 9,
   "metadata": {},
   "outputs": [
    {
     "data": {
      "text/plain": [
       "array(['8', nan, '8.3', '8.5', '6.6', '8.4', '8.6', '7.7', '6.3', '7.4',\n",
       "       '8.2', '9', '7.9', '8.1', '8.7', '7.1', '3.4', '5.3', '4.8', '3.2',\n",
       "       '8.9', '6.4', '7.8', '7.5', '2.6', '7.2', '9.2', '7', '7.3', '4.3',\n",
       "       '7.6', '5.7', '5', '9.1', '6.5', 'tbd', '8.8', '6.9', '9.4', '6.8',\n",
       "       '6.1', '6.7', '5.4', '4', '4.9', '4.5', '9.3', '6.2', '4.2', '6',\n",
       "       '3.7', '4.1', '5.8', '5.6', '5.5', '4.4', '4.6', '5.9', '3.9',\n",
       "       '3.1', '2.9', '5.2', '3.3', '4.7', '5.1', '3.5', '2.5', '1.9', '3',\n",
       "       '2.7', '2.2', '2', '9.5', '2.1', '3.6', '2.8', '1.8', '3.8', '0',\n",
       "       '1.6', '9.6', '2.4', '1.7', '1.1', '0.3', '1.5', '0.7', '1.2',\n",
       "       '2.3', '0.5', '1.3', '0.2', '0.6', '1.4', '0.9', '1', '9.7'],\n",
       "      dtype=object)"
      ]
     },
     "execution_count": 9,
     "metadata": {},
     "output_type": "execute_result"
    }
   ],
   "source": [
    "data['user_score'].unique()"
   ]
  },
  {
   "cell_type": "markdown",
   "metadata": {},
   "source": [
    "tbd - с англ. \"Подлежащий решению\", в дальнейшем заменю их на NaN\n",
    "\n",
    "Так же обратим внимание, что оценка критиков записана целым числом по 100 бальной шкале, в отличии от 10 бальной, но с десятичными долями, у пользователей. Можно будет поделить на 10 оценку критиков"
   ]
  },
  {
   "cell_type": "markdown",
   "metadata": {},
   "source": [
    "### Обработка пропущенный значений и изменение типа данных"
   ]
  },
  {
   "cell_type": "markdown",
   "metadata": {},
   "source": [
    "Посмотрим на общее количество пропущенных значений по столбцам"
   ]
  },
  {
   "cell_type": "code",
   "execution_count": 10,
   "metadata": {},
   "outputs": [
    {
     "data": {
      "text/plain": [
       "name                  2\n",
       "platform              0\n",
       "year_of_release     269\n",
       "genre                 2\n",
       "na_sales              0\n",
       "eu_sales              0\n",
       "jp_sales              0\n",
       "other_sales           0\n",
       "critic_score       8578\n",
       "user_score         6701\n",
       "rating             6766\n",
       "dtype: int64"
      ]
     },
     "execution_count": 10,
     "metadata": {},
     "output_type": "execute_result"
    }
   ],
   "source": [
    "data.isna().sum()"
   ]
  },
  {
   "cell_type": "markdown",
   "metadata": {},
   "source": [
    "Решаю удалить по 2 пропуска в name и genre тк в сумме не изменят общую картину"
   ]
  },
  {
   "cell_type": "code",
   "execution_count": 11,
   "metadata": {},
   "outputs": [
    {
     "data": {
      "text/plain": [
       "name                  0\n",
       "platform              0\n",
       "year_of_release     269\n",
       "genre                 0\n",
       "na_sales              0\n",
       "eu_sales              0\n",
       "jp_sales              0\n",
       "other_sales           0\n",
       "critic_score       8576\n",
       "user_score         6699\n",
       "rating             6764\n",
       "dtype: int64"
      ]
     },
     "execution_count": 11,
     "metadata": {},
     "output_type": "execute_result"
    }
   ],
   "source": [
    "data = data.dropna(subset=['name','genre'])\n",
    "data.isna().sum()"
   ]
  },
  {
   "cell_type": "markdown",
   "metadata": {},
   "source": [
    "С пропусками в year_of_release (год выхода игры) сделать на данном этапе ничего нельзя, нужно либо самим вручную вбиать, либо подключать парсер для автоматического поиска + добавления из интернета, но мы пока не проходили эту тему =)\n",
    "\n",
    "Думаю удаление 269 из 16715 (1.6%) из датасета приемлемо"
   ]
  },
  {
   "cell_type": "code",
   "execution_count": 12,
   "metadata": {},
   "outputs": [
    {
     "data": {
      "text/plain": [
       "name                  0\n",
       "platform              0\n",
       "year_of_release       0\n",
       "genre                 0\n",
       "na_sales              0\n",
       "eu_sales              0\n",
       "jp_sales              0\n",
       "other_sales           0\n",
       "critic_score       8461\n",
       "user_score         6605\n",
       "rating             6676\n",
       "dtype: int64"
      ]
     },
     "execution_count": 12,
     "metadata": {},
     "output_type": "execute_result"
    }
   ],
   "source": [
    "data = data.dropna(subset=['year_of_release'])\n",
    "data.isna().sum()"
   ]
  },
  {
   "cell_type": "markdown",
   "metadata": {},
   "source": [
    "Переведем значения \"tbd\" из user_score в значения \"NaN\", чтобы затем перевести весь столбец с object на float"
   ]
  },
  {
   "cell_type": "code",
   "execution_count": 13,
   "metadata": {},
   "outputs": [],
   "source": [
    "data.loc[data['user_score'] == 'tbd','user_score'] = np.nan"
   ]
  },
  {
   "cell_type": "code",
   "execution_count": 14,
   "metadata": {},
   "outputs": [
    {
     "data": {
      "text/plain": [
       "array(['8', nan, '8.3', '8.5', '6.6', '8.4', '8.6', '7.7', '6.3', '7.4',\n",
       "       '8.2', '9', '7.9', '8.1', '8.7', '7.1', '3.4', '5.3', '4.8', '3.2',\n",
       "       '8.9', '6.4', '7.8', '7.5', '2.6', '7.2', '9.2', '7', '7.3', '4.3',\n",
       "       '7.6', '5.7', '5', '9.1', '6.5', '8.8', '6.9', '9.4', '6.8', '6.1',\n",
       "       '6.7', '5.4', '4', '4.9', '4.5', '9.3', '6.2', '4.2', '6', '3.7',\n",
       "       '4.1', '5.8', '5.6', '5.5', '4.4', '4.6', '5.9', '3.9', '3.1',\n",
       "       '2.9', '5.2', '3.3', '4.7', '5.1', '3.5', '2.5', '1.9', '3', '2.7',\n",
       "       '2.2', '2', '9.5', '2.1', '3.6', '2.8', '1.8', '3.8', '0', '1.6',\n",
       "       '9.6', '2.4', '1.7', '1.1', '0.3', '1.5', '0.7', '1.2', '2.3',\n",
       "       '0.5', '1.3', '0.2', '0.6', '1.4', '0.9', '1', '9.7'], dtype=object)"
      ]
     },
     "execution_count": 14,
     "metadata": {},
     "output_type": "execute_result"
    }
   ],
   "source": [
    "data['user_score'].unique()"
   ]
  },
  {
   "cell_type": "code",
   "execution_count": 15,
   "metadata": {},
   "outputs": [
    {
     "name": "stdout",
     "output_type": "stream",
     "text": [
      "<class 'pandas.core.frame.DataFrame'>\n",
      "Int64Index: 16444 entries, 0 to 16714\n",
      "Data columns (total 11 columns):\n",
      " #   Column           Non-Null Count  Dtype  \n",
      "---  ------           --------------  -----  \n",
      " 0   name             16444 non-null  object \n",
      " 1   platform         16444 non-null  object \n",
      " 2   year_of_release  16444 non-null  float64\n",
      " 3   genre            16444 non-null  object \n",
      " 4   na_sales         16444 non-null  float64\n",
      " 5   eu_sales         16444 non-null  float64\n",
      " 6   jp_sales         16444 non-null  float64\n",
      " 7   other_sales      16444 non-null  float64\n",
      " 8   critic_score     7983 non-null   float64\n",
      " 9   user_score       7463 non-null   float64\n",
      " 10  rating           9768 non-null   object \n",
      "dtypes: float64(7), object(4)\n",
      "memory usage: 1.5+ MB\n"
     ]
    }
   ],
   "source": [
    "data['user_score'] = data['user_score'].astype('float')\n",
    "data.info()"
   ]
  },
  {
   "cell_type": "markdown",
   "metadata": {},
   "source": [
    "Переведем year_of_release с float на int"
   ]
  },
  {
   "cell_type": "code",
   "execution_count": 16,
   "metadata": {},
   "outputs": [],
   "source": [
    "data['year_of_release'] = data['year_of_release'].astype('int')"
   ]
  },
  {
   "cell_type": "markdown",
   "metadata": {},
   "source": [
    "Разделим значения critic_score на десять, чтобы совпадала разрядностью с user_score"
   ]
  },
  {
   "cell_type": "code",
   "execution_count": 17,
   "metadata": {},
   "outputs": [],
   "source": [
    "data['critic_score'] = data['critic_score'] / 10"
   ]
  },
  {
   "cell_type": "markdown",
   "metadata": {},
   "source": [
    "Обработка пропусков в столбцах critic_score и user_score проводить не стал, тк замена на медианные значения серьезно испортит статистику для дальнейшего подсчета корреляций, а удаление строк приведет к серьезному вмешательству в датафрейм, тк пропущенных значений в обоих столбцах примерно половина от всего датафрейма"
   ]
  },
  {
   "cell_type": "markdown",
   "metadata": {},
   "source": [
    "### Посчитаем суммарные продажи и запишим в отдельный столбец"
   ]
  },
  {
   "cell_type": "code",
   "execution_count": 18,
   "metadata": {},
   "outputs": [
    {
     "data": {
      "text/html": [
       "<div>\n",
       "<style scoped>\n",
       "    .dataframe tbody tr th:only-of-type {\n",
       "        vertical-align: middle;\n",
       "    }\n",
       "\n",
       "    .dataframe tbody tr th {\n",
       "        vertical-align: top;\n",
       "    }\n",
       "\n",
       "    .dataframe thead th {\n",
       "        text-align: right;\n",
       "    }\n",
       "</style>\n",
       "<table border=\"1\" class=\"dataframe\">\n",
       "  <thead>\n",
       "    <tr style=\"text-align: right;\">\n",
       "      <th></th>\n",
       "      <th>name</th>\n",
       "      <th>platform</th>\n",
       "      <th>year_of_release</th>\n",
       "      <th>genre</th>\n",
       "      <th>na_sales</th>\n",
       "      <th>eu_sales</th>\n",
       "      <th>jp_sales</th>\n",
       "      <th>other_sales</th>\n",
       "      <th>critic_score</th>\n",
       "      <th>user_score</th>\n",
       "      <th>rating</th>\n",
       "      <th>world_sales</th>\n",
       "    </tr>\n",
       "  </thead>\n",
       "  <tbody>\n",
       "    <tr>\n",
       "      <th>0</th>\n",
       "      <td>Wii Sports</td>\n",
       "      <td>Wii</td>\n",
       "      <td>2006</td>\n",
       "      <td>Sports</td>\n",
       "      <td>41.36</td>\n",
       "      <td>28.96</td>\n",
       "      <td>3.77</td>\n",
       "      <td>8.45</td>\n",
       "      <td>7.6</td>\n",
       "      <td>8.0</td>\n",
       "      <td>E</td>\n",
       "      <td>82.54</td>\n",
       "    </tr>\n",
       "    <tr>\n",
       "      <th>1</th>\n",
       "      <td>Super Mario Bros.</td>\n",
       "      <td>NES</td>\n",
       "      <td>1985</td>\n",
       "      <td>Platform</td>\n",
       "      <td>29.08</td>\n",
       "      <td>3.58</td>\n",
       "      <td>6.81</td>\n",
       "      <td>0.77</td>\n",
       "      <td>NaN</td>\n",
       "      <td>NaN</td>\n",
       "      <td>NaN</td>\n",
       "      <td>40.24</td>\n",
       "    </tr>\n",
       "    <tr>\n",
       "      <th>2</th>\n",
       "      <td>Mario Kart Wii</td>\n",
       "      <td>Wii</td>\n",
       "      <td>2008</td>\n",
       "      <td>Racing</td>\n",
       "      <td>15.68</td>\n",
       "      <td>12.76</td>\n",
       "      <td>3.79</td>\n",
       "      <td>3.29</td>\n",
       "      <td>8.2</td>\n",
       "      <td>8.3</td>\n",
       "      <td>E</td>\n",
       "      <td>35.52</td>\n",
       "    </tr>\n",
       "    <tr>\n",
       "      <th>3</th>\n",
       "      <td>Wii Sports Resort</td>\n",
       "      <td>Wii</td>\n",
       "      <td>2009</td>\n",
       "      <td>Sports</td>\n",
       "      <td>15.61</td>\n",
       "      <td>10.93</td>\n",
       "      <td>3.28</td>\n",
       "      <td>2.95</td>\n",
       "      <td>8.0</td>\n",
       "      <td>8.0</td>\n",
       "      <td>E</td>\n",
       "      <td>32.77</td>\n",
       "    </tr>\n",
       "    <tr>\n",
       "      <th>4</th>\n",
       "      <td>Pokemon Red/Pokemon Blue</td>\n",
       "      <td>GB</td>\n",
       "      <td>1996</td>\n",
       "      <td>Role-Playing</td>\n",
       "      <td>11.27</td>\n",
       "      <td>8.89</td>\n",
       "      <td>10.22</td>\n",
       "      <td>1.00</td>\n",
       "      <td>NaN</td>\n",
       "      <td>NaN</td>\n",
       "      <td>NaN</td>\n",
       "      <td>31.38</td>\n",
       "    </tr>\n",
       "  </tbody>\n",
       "</table>\n",
       "</div>"
      ],
      "text/plain": [
       "                       name platform  year_of_release         genre  na_sales  \\\n",
       "0                Wii Sports      Wii             2006        Sports     41.36   \n",
       "1         Super Mario Bros.      NES             1985      Platform     29.08   \n",
       "2            Mario Kart Wii      Wii             2008        Racing     15.68   \n",
       "3         Wii Sports Resort      Wii             2009        Sports     15.61   \n",
       "4  Pokemon Red/Pokemon Blue       GB             1996  Role-Playing     11.27   \n",
       "\n",
       "   eu_sales  jp_sales  other_sales  critic_score  user_score rating  \\\n",
       "0     28.96      3.77         8.45           7.6         8.0      E   \n",
       "1      3.58      6.81         0.77           NaN         NaN    NaN   \n",
       "2     12.76      3.79         3.29           8.2         8.3      E   \n",
       "3     10.93      3.28         2.95           8.0         8.0      E   \n",
       "4      8.89     10.22         1.00           NaN         NaN    NaN   \n",
       "\n",
       "   world_sales  \n",
       "0        82.54  \n",
       "1        40.24  \n",
       "2        35.52  \n",
       "3        32.77  \n",
       "4        31.38  "
      ]
     },
     "execution_count": 18,
     "metadata": {},
     "output_type": "execute_result"
    }
   ],
   "source": [
    "data['world_sales'] = data['na_sales'] + data['eu_sales'] + data['jp_sales'] + data['other_sales']\n",
    "data.head()"
   ]
  },
  {
   "cell_type": "markdown",
   "metadata": {},
   "source": [
    "### Вывод"
   ]
  },
  {
   "cell_type": "markdown",
   "metadata": {},
   "source": [
    "**В ходе подготовки данных:** Проверили датафрейм на дубликаты\n",
    "\n",
    "Мы удалили в сумме 237 строки из 16715 (~1.6%) из столбцов \"name\", \"year_of_release\" и \"genre\".\n",
    "\n",
    "Заменили в user_score значения c \"tbd\" на \"NaN\", а значения critic_score разделили на 10 для сходства с user_score.\n",
    "\n",
    "Обработку пропусков в столбцах critic_score и user_score проводить не стал, тк замена на медианные значения серьезно испортит статистику для дальнейшего подсчета корреляций, а удаление строк приведет к серьезному вмешательству в датафрейм, тк пропущенных значений в обоих столбцах примерно половина от всего датафрейма\n",
    "\n",
    "Заменили типы данных в year_of_release и user_score на более подходящий.\n",
    "\n",
    "Добавили в таблицу столбец world_sales с суммарными продажами из \"na_sales\", \"eu_sales\", \"jp_sales\" и \"other_sales\".\n"
   ]
  },
  {
   "cell_type": "markdown",
   "metadata": {},
   "source": [
    "## Проведение исследовательского анализа данных"
   ]
  },
  {
   "cell_type": "markdown",
   "metadata": {},
   "source": [
    "### Количество игр выпускаемых в разные года"
   ]
  },
  {
   "cell_type": "markdown",
   "metadata": {},
   "source": [
    "Создадим сводную таблицу по годам по сумме выходивших игр и визуализируев в графике"
   ]
  },
  {
   "cell_type": "code",
   "execution_count": 19,
   "metadata": {},
   "outputs": [
    {
     "data": {
      "image/png": "[encoded data removed]",
      "text/plain": [
       "<Figure size 720x720 with 1 Axes>"
      ]
     },
     "metadata": {
      "needs_background": "light"
     },
     "output_type": "display_data"
    }
   ],
   "source": [
    "year_of_release_pivot = data.pivot_table(index='year_of_release', values='name', aggfunc='count')\n",
    "year_of_release_pivot.plot(kind='bar', figsize=(10, 10));\n",
    "plt.xlabel('Год');\n",
    "plt.ylabel('Суммарное кол-во игр');"
   ]
  },
  {
   "cell_type": "markdown",
   "metadata": {},
   "source": [
    "На графике виден рост игровой индустрии до 2008 и 2009 годов и резкий спад, связать это можно с мировым кризисом 2008 года который затронул все сферы бизнеса экономики, включая игровую.\n",
    "\n",
    "Думаю актуальными можно назвать данные начиная с 2012 года, когда резкий спад остановился."
   ]
  },
  {
   "cell_type": "markdown",
   "metadata": {},
   "source": [
    "### Продажи игр выпускаемых на разных платформах"
   ]
  },
  {
   "cell_type": "markdown",
   "metadata": {},
   "source": [
    "Создадим сводную таблицу по платформам по суммарным продажам игр и визуализируев в графике"
   ]
  },
  {
   "cell_type": "code",
   "execution_count": 20,
   "metadata": {},
   "outputs": [
    {
     "data": {
      "image/png": "[encoded data removed]",
      "text/plain": [
       "<Figure size 720x720 with 1 Axes>"
      ]
     },
     "metadata": {
      "needs_background": "light"
     },
     "output_type": "display_data"
    }
   ],
   "source": [
    "platform_pivot = (data\n",
    "    .pivot_table(index='platform', values='world_sales', aggfunc='sum')\n",
    "    .sort_values(by='world_sales', ascending=False)\n",
    ")\n",
    "platform_pivot.plot(kind='bar', figsize=(10, 10));\n",
    "plt.xlabel('Платформа');\n",
    "plt.ylabel('Продажи по миру (млн копий)');"
   ]
  },
  {
   "cell_type": "markdown",
   "metadata": {},
   "source": [
    "Рассмотрим 4 платформы с наибольшими суммарными продажами и построем их распределение по годам."
   ]
  },
  {
   "cell_type": "code",
   "execution_count": 21,
   "metadata": {},
   "outputs": [
    {
     "data": {
      "image/png": "[encoded data removed]",
      "text/plain": [
       "<Figure size 720x720 with 1 Axes>"
      ]
     },
     "metadata": {
      "needs_background": "light"
     },
     "output_type": "display_data"
    }
   ],
   "source": [
    "ps2_pivot = data[data['platform']=='PS2'].pivot_table(index='year_of_release', values='world_sales', aggfunc='sum')\n",
    "ps2_pivot.plot(kind='bar', figsize=(10, 10));\n",
    "plt.xlabel('Год');\n",
    "plt.ylabel('Продажи по миру (млн копий)');\n",
    "plt.title('PS2');"
   ]
  },
  {
   "cell_type": "code",
   "execution_count": 22,
   "metadata": {},
   "outputs": [
    {
     "data": {
      "image/png": "[encoded data removed]",
      "text/plain": [
       "<Figure size 720x720 with 1 Axes>"
      ]
     },
     "metadata": {
      "needs_background": "light"
     },
     "output_type": "display_data"
    }
   ],
   "source": [
    "x360_pivot = data[data['platform']=='X360'].pivot_table(index='year_of_release', values='world_sales', aggfunc='sum')\n",
    "x360_pivot.plot(kind='bar', figsize=(10, 10));\n",
    "plt.xlabel('Год');\n",
    "plt.ylabel('Продажи по миру (млн копий)');\n",
    "plt.title('X360');"
   ]
  },
  {
   "cell_type": "code",
   "execution_count": 23,
   "metadata": {},
   "outputs": [
    {
     "data": {
      "image/png": "[encoded data removed]",
      "text/plain": [
       "<Figure size 720x720 with 1 Axes>"
      ]
     },
     "metadata": {
      "needs_background": "light"
     },
     "output_type": "display_data"
    }
   ],
   "source": [
    "ps3_pivot = data[data['platform']=='PS3'].pivot_table(index='year_of_release', values='world_sales', aggfunc='sum')\n",
    "ps3_pivot.plot(kind='bar', figsize=(10, 10));\n",
    "plt.xlabel('Год');\n",
    "plt.ylabel('Продажи по миру (млн копий)');\n",
    "plt.title('PS3');"
   ]
  },
  {
   "cell_type": "code",
   "execution_count": 24,
   "metadata": {},
   "outputs": [
    {
     "data": {
      "image/png": "[encoded data removed]",
      "text/plain": [
       "<Figure size 720x720 with 1 Axes>"
      ]
     },
     "metadata": {
      "needs_background": "light"
     },
     "output_type": "display_data"
    }
   ],
   "source": [
    "wii_pivot = data[data['platform']=='Wii'].pivot_table(index='year_of_release', values='world_sales', aggfunc='sum')\n",
    "wii_pivot.plot(kind='bar', figsize=(10, 10));\n",
    "plt.xlabel('Год');\n",
    "plt.ylabel('Продажи по миру (млн копий)');\n",
    "plt.title('Wii');"
   ]
  },
  {
   "cell_type": "markdown",
   "metadata": {},
   "source": [
    "По графикам видно, что срок \"службы\" платформ составляет примерно 9-10 лет, пик продаж приходится на 4-5 год платформы. На графиках присутствуют сменяющие друг друга поколения платформы PS2 и PS3. В 2006 году идет спад продаж PS2, в этот же момент появляется PS3, которая достигает пика продаж в 2010-2011 годах, когда продажи PS2 прекращаются\n",
    "\n",
    "Думаю изходя из всех данных самым актуальными для прогноза на 2017 год можно считать 2013 год и так каждые 4 года"
   ]
  },
  {
   "cell_type": "markdown",
   "metadata": {},
   "source": [
    "### Продажи игр выпускаемых на разных платформах c 2013 года"
   ]
  },
  {
   "cell_type": "markdown",
   "metadata": {},
   "source": [
    "Создадим новый датафрейм со срезом с 2013 году в year_of_release"
   ]
  },
  {
   "cell_type": "code",
   "execution_count": 25,
   "metadata": {},
   "outputs": [
    {
     "data": {
      "text/html": [
       "<div>\n",
       "<style scoped>\n",
       "    .dataframe tbody tr th:only-of-type {\n",
       "        vertical-align: middle;\n",
       "    }\n",
       "\n",
       "    .dataframe tbody tr th {\n",
       "        vertical-align: top;\n",
       "    }\n",
       "\n",
       "    .dataframe thead th {\n",
       "        text-align: right;\n",
       "    }\n",
       "</style>\n",
       "<table border=\"1\" class=\"dataframe\">\n",
       "  <thead>\n",
       "    <tr style=\"text-align: right;\">\n",
       "      <th></th>\n",
       "      <th>name</th>\n",
       "      <th>platform</th>\n",
       "      <th>year_of_release</th>\n",
       "      <th>genre</th>\n",
       "      <th>na_sales</th>\n",
       "      <th>eu_sales</th>\n",
       "      <th>jp_sales</th>\n",
       "      <th>other_sales</th>\n",
       "      <th>critic_score</th>\n",
       "      <th>user_score</th>\n",
       "      <th>rating</th>\n",
       "      <th>world_sales</th>\n",
       "    </tr>\n",
       "  </thead>\n",
       "  <tbody>\n",
       "    <tr>\n",
       "      <th>16</th>\n",
       "      <td>Grand Theft Auto V</td>\n",
       "      <td>PS3</td>\n",
       "      <td>2013</td>\n",
       "      <td>Action</td>\n",
       "      <td>7.02</td>\n",
       "      <td>9.09</td>\n",
       "      <td>0.98</td>\n",
       "      <td>3.96</td>\n",
       "      <td>9.7</td>\n",
       "      <td>8.2</td>\n",
       "      <td>M</td>\n",
       "      <td>21.05</td>\n",
       "    </tr>\n",
       "    <tr>\n",
       "      <th>23</th>\n",
       "      <td>Grand Theft Auto V</td>\n",
       "      <td>X360</td>\n",
       "      <td>2013</td>\n",
       "      <td>Action</td>\n",
       "      <td>9.66</td>\n",
       "      <td>5.14</td>\n",
       "      <td>0.06</td>\n",
       "      <td>1.41</td>\n",
       "      <td>9.7</td>\n",
       "      <td>8.1</td>\n",
       "      <td>M</td>\n",
       "      <td>16.27</td>\n",
       "    </tr>\n",
       "    <tr>\n",
       "      <th>31</th>\n",
       "      <td>Call of Duty: Black Ops 3</td>\n",
       "      <td>PS4</td>\n",
       "      <td>2015</td>\n",
       "      <td>Shooter</td>\n",
       "      <td>6.03</td>\n",
       "      <td>5.86</td>\n",
       "      <td>0.36</td>\n",
       "      <td>2.38</td>\n",
       "      <td>NaN</td>\n",
       "      <td>NaN</td>\n",
       "      <td>NaN</td>\n",
       "      <td>14.63</td>\n",
       "    </tr>\n",
       "    <tr>\n",
       "      <th>33</th>\n",
       "      <td>Pokemon X/Pokemon Y</td>\n",
       "      <td>3DS</td>\n",
       "      <td>2013</td>\n",
       "      <td>Role-Playing</td>\n",
       "      <td>5.28</td>\n",
       "      <td>4.19</td>\n",
       "      <td>4.35</td>\n",
       "      <td>0.78</td>\n",
       "      <td>NaN</td>\n",
       "      <td>NaN</td>\n",
       "      <td>NaN</td>\n",
       "      <td>14.60</td>\n",
       "    </tr>\n",
       "    <tr>\n",
       "      <th>42</th>\n",
       "      <td>Grand Theft Auto V</td>\n",
       "      <td>PS4</td>\n",
       "      <td>2014</td>\n",
       "      <td>Action</td>\n",
       "      <td>3.96</td>\n",
       "      <td>6.31</td>\n",
       "      <td>0.38</td>\n",
       "      <td>1.97</td>\n",
       "      <td>9.7</td>\n",
       "      <td>8.3</td>\n",
       "      <td>M</td>\n",
       "      <td>12.62</td>\n",
       "    </tr>\n",
       "  </tbody>\n",
       "</table>\n",
       "</div>"
      ],
      "text/plain": [
       "                         name platform  year_of_release         genre  \\\n",
       "16         Grand Theft Auto V      PS3             2013        Action   \n",
       "23         Grand Theft Auto V     X360             2013        Action   \n",
       "31  Call of Duty: Black Ops 3      PS4             2015       Shooter   \n",
       "33        Pokemon X/Pokemon Y      3DS             2013  Role-Playing   \n",
       "42         Grand Theft Auto V      PS4             2014        Action   \n",
       "\n",
       "    na_sales  eu_sales  jp_sales  other_sales  critic_score  user_score  \\\n",
       "16      7.02      9.09      0.98         3.96           9.7         8.2   \n",
       "23      9.66      5.14      0.06         1.41           9.7         8.1   \n",
       "31      6.03      5.86      0.36         2.38           NaN         NaN   \n",
       "33      5.28      4.19      4.35         0.78           NaN         NaN   \n",
       "42      3.96      6.31      0.38         1.97           9.7         8.3   \n",
       "\n",
       "   rating  world_sales  \n",
       "16      M        21.05  \n",
       "23      M        16.27  \n",
       "31    NaN        14.63  \n",
       "33    NaN        14.60  \n",
       "42      M        12.62  "
      ]
     },
     "execution_count": 25,
     "metadata": {},
     "output_type": "execute_result"
    }
   ],
   "source": [
    "data_actual = data.query('year_of_release >= 2013')\n",
    "data_actual.head()"
   ]
  },
  {
   "cell_type": "markdown",
   "metadata": {},
   "source": [
    "Создадим сводные таблицы по платформам от суммы мировых продаж по актуальным годам и построим графики "
   ]
  },
  {
   "cell_type": "code",
   "execution_count": 26,
   "metadata": {},
   "outputs": [
    {
     "data": {
      "image/png": "[encoded data removed]",
      "text/plain": [
       "<Figure size 360x360 with 1 Axes>"
      ]
     },
     "metadata": {
      "needs_background": "light"
     },
     "output_type": "display_data"
    },
    {
     "data": {
      "image/png": "[encoded data removed]",
      "text/plain": [
       "<Figure size 360x360 with 1 Axes>"
      ]
     },
     "metadata": {
      "needs_background": "light"
     },
     "output_type": "display_data"
    },
    {
     "data": {
      "image/png": "[encoded data removed]",
      "text/plain": [
       "<Figure size 360x360 with 1 Axes>"
      ]
     },
     "metadata": {
      "needs_background": "light"
     },
     "output_type": "display_data"
    },
    {
     "data": {
      "image/png": "[encoded data removed]",
      "text/plain": [
       "<Figure size 360x360 with 1 Axes>"
      ]
     },
     "metadata": {
      "needs_background": "light"
     },
     "output_type": "display_data"
    }
   ],
   "source": [
    "platform_2013_pivot = (data_actual[data_actual['year_of_release']==2013]\n",
    "    .pivot_table(index='platform', values='world_sales', aggfunc='sum')\n",
    "    .sort_values(by='world_sales', ascending=False)\n",
    ")\n",
    "platform_2013_pivot.plot(kind='bar', figsize=(5, 5));\n",
    "plt.xlabel('Платформа');\n",
    "plt.ylabel('Продажи по миру (млн копий)');\n",
    "plt.title('2013');\n",
    "\n",
    "platform_2014_pivot = (data_actual[data_actual['year_of_release']==2014]\n",
    "    .pivot_table(index='platform', values='world_sales', aggfunc='sum')\n",
    "    .sort_values(by='world_sales', ascending=False)\n",
    ")\n",
    "platform_2014_pivot.plot(kind='bar', figsize=(5, 5));\n",
    "plt.xlabel('Платформа');\n",
    "plt.ylabel('Продажи по миру (млн копий)');\n",
    "plt.title('2014');\n",
    "\n",
    "platform_2015_pivot = (data_actual[data_actual['year_of_release']==2015]\n",
    "    .pivot_table(index='platform', values='world_sales', aggfunc='sum')\n",
    "    .sort_values(by='world_sales', ascending=False)\n",
    ")\n",
    "platform_2015_pivot.plot(kind='bar', figsize=(5, 5));\n",
    "plt.xlabel('Платформа');\n",
    "plt.ylabel('Продажи по миру (млн копий)');\n",
    "plt.title('2015');\n",
    "\n",
    "platform_2016_pivot = (data_actual[data_actual['year_of_release']==2016]\n",
    "    .pivot_table(index='platform', values='world_sales', aggfunc='sum')\n",
    "    .sort_values(by='world_sales', ascending=False)\n",
    ")\n",
    "platform_2016_pivot.plot(kind='bar', figsize=(5, 5));\n",
    "plt.xlabel('Платформа');\n",
    "plt.ylabel('Продажи по миру (млн копий)');\n",
    "plt.title('2016');"
   ]
  },
  {
   "cell_type": "markdown",
   "metadata": {},
   "source": [
    "Потенциально прибыльными платформами можно назвать платформы PS4 и XOne. Хорошо видно, как эти плотформы на графиках 2013-2014 годов обгоняют своих же предшественников PS3 и X360. В последующее годы 2015-2016 они тоже не смещаются со своих позиций"
   ]
  },
  {
   "cell_type": "markdown",
   "metadata": {},
   "source": [
    "### График «ящик с усами» по глобальным продажам игр в разбивке по платформам"
   ]
  },
  {
   "cell_type": "markdown",
   "metadata": {},
   "source": [
    "Построим график по актульным данным из data_actual по platform и world_sales"
   ]
  },
  {
   "cell_type": "code",
   "execution_count": 27,
   "metadata": {},
   "outputs": [
    {
     "data": {
      "image/png": "[encoded data removed]",
      "text/plain": [
       "<Figure size 1080x1080 with 1 Axes>"
      ]
     },
     "metadata": {
      "needs_background": "light"
     },
     "output_type": "display_data"
    }
   ],
   "source": [
    "plt.figure(figsize=(15,15))\n",
    "sns.boxplot(x='platform', y='world_sales', data=data_actual)\n",
    "plt.xlabel('Платформа');\n",
    "plt.ylabel('Продажи по миру (млн копий)');\n",
    "plt.title('2013 - 2016');"
   ]
  },
  {
   "cell_type": "markdown",
   "metadata": {},
   "source": [
    "Ограничим график по оси y чтобы лучше рассмотреть"
   ]
  },
  {
   "cell_type": "code",
   "execution_count": 28,
   "metadata": {},
   "outputs": [
    {
     "data": {
      "image/png": "[encoded data removed]",
      "text/plain": [
       "<Figure size 1080x1080 with 1 Axes>"
      ]
     },
     "metadata": {
      "needs_background": "light"
     },
     "output_type": "display_data"
    }
   ],
   "source": [
    "plt.figure(figsize=(15,15))\n",
    "sns.boxplot(x='platform', y='world_sales', data=data_actual)\n",
    "plt.xlabel('Платформа');\n",
    "plt.ylabel('Продажи по миру (млн копий)');\n",
    "plt.title('2013 - 2016');\n",
    "plt.ylim([0, 3]);"
   ]
  },
  {
   "cell_type": "markdown",
   "metadata": {},
   "source": [
    "Диаграмма размаха сильно скошенна вправо, большое количество вбросов, что вполне объяснимо, некоторые игры в несколько раз более продоваемы, чем остальные. Медианные значения мировых продаж у \"фаворитов\" не достигают и полумиллиона."
   ]
  },
  {
   "cell_type": "markdown",
   "metadata": {},
   "source": [
    "### Посмотрим, как влияют на продажи внутри одной популярной платформы отзывы пользователей и критиков"
   ]
  },
  {
   "cell_type": "markdown",
   "metadata": {},
   "source": [
    "Создадим новый датафрейм по срезом по platform == PS4 оставив в ней только столбцы с critic_score, user_score и world_sales"
   ]
  },
  {
   "cell_type": "code",
   "execution_count": 29,
   "metadata": {},
   "outputs": [
    {
     "data": {
      "text/html": [
       "<div>\n",
       "<style scoped>\n",
       "    .dataframe tbody tr th:only-of-type {\n",
       "        vertical-align: middle;\n",
       "    }\n",
       "\n",
       "    .dataframe tbody tr th {\n",
       "        vertical-align: top;\n",
       "    }\n",
       "\n",
       "    .dataframe thead th {\n",
       "        text-align: right;\n",
       "    }\n",
       "</style>\n",
       "<table border=\"1\" class=\"dataframe\">\n",
       "  <thead>\n",
       "    <tr style=\"text-align: right;\">\n",
       "      <th></th>\n",
       "      <th>world_sales</th>\n",
       "      <th>critic_score</th>\n",
       "      <th>user_score</th>\n",
       "    </tr>\n",
       "  </thead>\n",
       "  <tbody>\n",
       "    <tr>\n",
       "      <th>31</th>\n",
       "      <td>14.63</td>\n",
       "      <td>NaN</td>\n",
       "      <td>NaN</td>\n",
       "    </tr>\n",
       "    <tr>\n",
       "      <th>42</th>\n",
       "      <td>12.62</td>\n",
       "      <td>9.7</td>\n",
       "      <td>8.3</td>\n",
       "    </tr>\n",
       "    <tr>\n",
       "      <th>77</th>\n",
       "      <td>8.58</td>\n",
       "      <td>8.2</td>\n",
       "      <td>4.3</td>\n",
       "    </tr>\n",
       "    <tr>\n",
       "      <th>87</th>\n",
       "      <td>7.98</td>\n",
       "      <td>NaN</td>\n",
       "      <td>NaN</td>\n",
       "    </tr>\n",
       "    <tr>\n",
       "      <th>92</th>\n",
       "      <td>7.66</td>\n",
       "      <td>8.3</td>\n",
       "      <td>5.7</td>\n",
       "    </tr>\n",
       "  </tbody>\n",
       "</table>\n",
       "</div>"
      ],
      "text/plain": [
       "    world_sales  critic_score  user_score\n",
       "31        14.63           NaN         NaN\n",
       "42        12.62           9.7         8.3\n",
       "77         8.58           8.2         4.3\n",
       "87         7.98           NaN         NaN\n",
       "92         7.66           8.3         5.7"
      ]
     },
     "execution_count": 29,
     "metadata": {},
     "output_type": "execute_result"
    }
   ],
   "source": [
    "data_actual_ps4 = data_actual[data_actual['platform']=='PS4']\n",
    "data_actual_ps4 = data_actual_ps4[['world_sales', 'critic_score', 'user_score']]\n",
    "data_actual_ps4.head()"
   ]
  },
  {
   "cell_type": "code",
   "execution_count": 30,
   "metadata": {},
   "outputs": [
    {
     "data": {
      "image/png": "[encoded data removed]",
      "text/plain": [
       "<Figure size 648x648 with 9 Axes>"
      ]
     },
     "metadata": {
      "needs_background": "light"
     },
     "output_type": "display_data"
    }
   ],
   "source": [
    "pd.plotting.scatter_matrix(data_actual_ps4, figsize=(9, 9));"
   ]
  },
  {
   "cell_type": "code",
   "execution_count": 31,
   "metadata": {},
   "outputs": [
    {
     "data": {
      "text/html": [
       "<div>\n",
       "<style scoped>\n",
       "    .dataframe tbody tr th:only-of-type {\n",
       "        vertical-align: middle;\n",
       "    }\n",
       "\n",
       "    .dataframe tbody tr th {\n",
       "        vertical-align: top;\n",
       "    }\n",
       "\n",
       "    .dataframe thead th {\n",
       "        text-align: right;\n",
       "    }\n",
       "</style>\n",
       "<table border=\"1\" class=\"dataframe\">\n",
       "  <thead>\n",
       "    <tr style=\"text-align: right;\">\n",
       "      <th></th>\n",
       "      <th>world_sales</th>\n",
       "      <th>critic_score</th>\n",
       "      <th>user_score</th>\n",
       "    </tr>\n",
       "  </thead>\n",
       "  <tbody>\n",
       "    <tr>\n",
       "      <th>world_sales</th>\n",
       "      <td>1.000000</td>\n",
       "      <td>0.406568</td>\n",
       "      <td>-0.031957</td>\n",
       "    </tr>\n",
       "    <tr>\n",
       "      <th>critic_score</th>\n",
       "      <td>0.406568</td>\n",
       "      <td>1.000000</td>\n",
       "      <td>0.557654</td>\n",
       "    </tr>\n",
       "    <tr>\n",
       "      <th>user_score</th>\n",
       "      <td>-0.031957</td>\n",
       "      <td>0.557654</td>\n",
       "      <td>1.000000</td>\n",
       "    </tr>\n",
       "  </tbody>\n",
       "</table>\n",
       "</div>"
      ],
      "text/plain": [
       "              world_sales  critic_score  user_score\n",
       "world_sales      1.000000      0.406568   -0.031957\n",
       "critic_score     0.406568      1.000000    0.557654\n",
       "user_score      -0.031957      0.557654    1.000000"
      ]
     },
     "execution_count": 31,
     "metadata": {},
     "output_type": "execute_result"
    }
   ],
   "source": [
    "data_actual_ps4.corr()"
   ]
  },
  {
   "cell_type": "markdown",
   "metadata": {},
   "source": [
    "Есть некоторая корреляция между оценками критиков и мировыми продажами и совсем нет корреляции от оценки пользователей."
   ]
  },
  {
   "cell_type": "markdown",
   "metadata": {},
   "source": [
    "### Посмотрим, как влияют на продажи внутри остальных платформ отзывы пользователей и критиков и соотнесем с результатами прошлого пункта"
   ]
  },
  {
   "cell_type": "markdown",
   "metadata": {},
   "source": [
    "Создадим новую таблицу по срезом по platform != PS4 оставив в ней только столбцы с critic_score, user_score и world_sales"
   ]
  },
  {
   "cell_type": "code",
   "execution_count": 32,
   "metadata": {},
   "outputs": [
    {
     "data": {
      "text/html": [
       "<div>\n",
       "<style scoped>\n",
       "    .dataframe tbody tr th:only-of-type {\n",
       "        vertical-align: middle;\n",
       "    }\n",
       "\n",
       "    .dataframe tbody tr th {\n",
       "        vertical-align: top;\n",
       "    }\n",
       "\n",
       "    .dataframe thead th {\n",
       "        text-align: right;\n",
       "    }\n",
       "</style>\n",
       "<table border=\"1\" class=\"dataframe\">\n",
       "  <thead>\n",
       "    <tr style=\"text-align: right;\">\n",
       "      <th></th>\n",
       "      <th>world_sales</th>\n",
       "      <th>critic_score</th>\n",
       "      <th>user_score</th>\n",
       "    </tr>\n",
       "  </thead>\n",
       "  <tbody>\n",
       "    <tr>\n",
       "      <th>16</th>\n",
       "      <td>21.05</td>\n",
       "      <td>9.7</td>\n",
       "      <td>8.2</td>\n",
       "    </tr>\n",
       "    <tr>\n",
       "      <th>23</th>\n",
       "      <td>16.27</td>\n",
       "      <td>9.7</td>\n",
       "      <td>8.1</td>\n",
       "    </tr>\n",
       "    <tr>\n",
       "      <th>33</th>\n",
       "      <td>14.60</td>\n",
       "      <td>NaN</td>\n",
       "      <td>NaN</td>\n",
       "    </tr>\n",
       "    <tr>\n",
       "      <th>47</th>\n",
       "      <td>11.68</td>\n",
       "      <td>NaN</td>\n",
       "      <td>NaN</td>\n",
       "    </tr>\n",
       "    <tr>\n",
       "      <th>60</th>\n",
       "      <td>10.24</td>\n",
       "      <td>7.3</td>\n",
       "      <td>2.6</td>\n",
       "    </tr>\n",
       "  </tbody>\n",
       "</table>\n",
       "</div>"
      ],
      "text/plain": [
       "    world_sales  critic_score  user_score\n",
       "16        21.05           9.7         8.2\n",
       "23        16.27           9.7         8.1\n",
       "33        14.60           NaN         NaN\n",
       "47        11.68           NaN         NaN\n",
       "60        10.24           7.3         2.6"
      ]
     },
     "execution_count": 32,
     "metadata": {},
     "output_type": "execute_result"
    }
   ],
   "source": [
    "data_actual_other = data_actual[data_actual['platform']!='PS4']\n",
    "data_actual_other = data_actual_other[['world_sales', 'critic_score', 'user_score']]\n",
    "data_actual_other.head()"
   ]
  },
  {
   "cell_type": "code",
   "execution_count": 33,
   "metadata": {},
   "outputs": [
    {
     "data": {
      "image/png": "[encoded data removed]",
      "text/plain": [
       "<Figure size 648x648 with 9 Axes>"
      ]
     },
     "metadata": {
      "needs_background": "light"
     },
     "output_type": "display_data"
    }
   ],
   "source": [
    "pd.plotting.scatter_matrix(data_actual_other, figsize=(9, 9));"
   ]
  },
  {
   "cell_type": "markdown",
   "metadata": {},
   "source": [
    "Для наглядности также выведем еще раз график для PS4 и численные значения корреляции и визуально сравним их"
   ]
  },
  {
   "cell_type": "code",
   "execution_count": 34,
   "metadata": {},
   "outputs": [
    {
     "data": {
      "image/png": "[encoded data removed]",
      "text/plain": [
       "<Figure size 648x648 with 9 Axes>"
      ]
     },
     "metadata": {
      "needs_background": "light"
     },
     "output_type": "display_data"
    }
   ],
   "source": [
    "pd.plotting.scatter_matrix(data_actual_ps4, figsize=(9, 9));"
   ]
  },
  {
   "cell_type": "code",
   "execution_count": 35,
   "metadata": {},
   "outputs": [
    {
     "data": {
      "text/html": [
       "<div>\n",
       "<style scoped>\n",
       "    .dataframe tbody tr th:only-of-type {\n",
       "        vertical-align: middle;\n",
       "    }\n",
       "\n",
       "    .dataframe tbody tr th {\n",
       "        vertical-align: top;\n",
       "    }\n",
       "\n",
       "    .dataframe thead th {\n",
       "        text-align: right;\n",
       "    }\n",
       "</style>\n",
       "<table border=\"1\" class=\"dataframe\">\n",
       "  <thead>\n",
       "    <tr style=\"text-align: right;\">\n",
       "      <th></th>\n",
       "      <th>world_sales</th>\n",
       "      <th>critic_score</th>\n",
       "      <th>user_score</th>\n",
       "    </tr>\n",
       "  </thead>\n",
       "  <tbody>\n",
       "    <tr>\n",
       "      <th>world_sales</th>\n",
       "      <td>1.000000</td>\n",
       "      <td>0.406568</td>\n",
       "      <td>-0.031957</td>\n",
       "    </tr>\n",
       "    <tr>\n",
       "      <th>critic_score</th>\n",
       "      <td>0.406568</td>\n",
       "      <td>1.000000</td>\n",
       "      <td>0.557654</td>\n",
       "    </tr>\n",
       "    <tr>\n",
       "      <th>user_score</th>\n",
       "      <td>-0.031957</td>\n",
       "      <td>0.557654</td>\n",
       "      <td>1.000000</td>\n",
       "    </tr>\n",
       "  </tbody>\n",
       "</table>\n",
       "</div>"
      ],
      "text/plain": [
       "              world_sales  critic_score  user_score\n",
       "world_sales      1.000000      0.406568   -0.031957\n",
       "critic_score     0.406568      1.000000    0.557654\n",
       "user_score      -0.031957      0.557654    1.000000"
      ]
     },
     "execution_count": 35,
     "metadata": {},
     "output_type": "execute_result"
    }
   ],
   "source": [
    "data_actual_ps4.corr()"
   ]
  },
  {
   "cell_type": "markdown",
   "metadata": {},
   "source": [
    "Граффики визуально схожи, данные корреляции такие же небольшие, но чуть-чуть отличаются, у critic_score на PS4 0.40, на остальных платформах 0.28, user_score в обоих случаях околонулевой"
   ]
  },
  {
   "cell_type": "code",
   "execution_count": 36,
   "metadata": {},
   "outputs": [
    {
     "data": {
      "text/html": [
       "<div>\n",
       "<style scoped>\n",
       "    .dataframe tbody tr th:only-of-type {\n",
       "        vertical-align: middle;\n",
       "    }\n",
       "\n",
       "    .dataframe tbody tr th {\n",
       "        vertical-align: top;\n",
       "    }\n",
       "\n",
       "    .dataframe thead th {\n",
       "        text-align: right;\n",
       "    }\n",
       "</style>\n",
       "<table border=\"1\" class=\"dataframe\">\n",
       "  <thead>\n",
       "    <tr style=\"text-align: right;\">\n",
       "      <th></th>\n",
       "      <th>world_sales</th>\n",
       "      <th>critic_score</th>\n",
       "      <th>user_score</th>\n",
       "    </tr>\n",
       "  </thead>\n",
       "  <tbody>\n",
       "    <tr>\n",
       "      <th>world_sales</th>\n",
       "      <td>1.000000</td>\n",
       "      <td>0.281251</td>\n",
       "      <td>-0.001122</td>\n",
       "    </tr>\n",
       "    <tr>\n",
       "      <th>critic_score</th>\n",
       "      <td>0.281251</td>\n",
       "      <td>1.000000</td>\n",
       "      <td>0.484554</td>\n",
       "    </tr>\n",
       "    <tr>\n",
       "      <th>user_score</th>\n",
       "      <td>-0.001122</td>\n",
       "      <td>0.484554</td>\n",
       "      <td>1.000000</td>\n",
       "    </tr>\n",
       "  </tbody>\n",
       "</table>\n",
       "</div>"
      ],
      "text/plain": [
       "              world_sales  critic_score  user_score\n",
       "world_sales      1.000000      0.281251   -0.001122\n",
       "critic_score     0.281251      1.000000    0.484554\n",
       "user_score      -0.001122      0.484554    1.000000"
      ]
     },
     "execution_count": 36,
     "metadata": {},
     "output_type": "execute_result"
    }
   ],
   "source": [
    "data_actual_other.corr()"
   ]
  },
  {
   "cell_type": "markdown",
   "metadata": {},
   "source": [
    "Практически идентичный результат, корреляция у критиков упала с 0.40 до 0.28, у пользователей все такая же околонулевая."
   ]
  },
  {
   "cell_type": "markdown",
   "metadata": {},
   "source": [
    "### Посмотрите на общее распределение игр по жанрам"
   ]
  },
  {
   "cell_type": "markdown",
   "metadata": {},
   "source": [
    "Создадим сводную таблицу по жанрам от суммы мировых продаж и построим график"
   ]
  },
  {
   "cell_type": "code",
   "execution_count": 37,
   "metadata": {},
   "outputs": [
    {
     "data": {
      "image/png": "[encoded data removed]",
      "text/plain": [
       "<Figure size 720x720 with 1 Axes>"
      ]
     },
     "metadata": {
      "needs_background": "light"
     },
     "output_type": "display_data"
    }
   ],
   "source": [
    "genre_pivot_world_sales = (data_actual\n",
    "    .pivot_table(index='genre', values='world_sales', aggfunc='sum')\n",
    "    .sort_values(by='world_sales', ascending=False)\n",
    ")\n",
    "genre_pivot_world_sales.plot(kind='bar', figsize=(10, 10));\n",
    "plt.xlabel('Жанр');\n",
    "plt.ylabel('Продажи по миру (млн копий)');\n",
    "plt.title('2013-2016');"
   ]
  },
  {
   "cell_type": "markdown",
   "metadata": {},
   "source": [
    "Построим график размаха по жанрам от суммы мировых продаж"
   ]
  },
  {
   "cell_type": "code",
   "execution_count": 38,
   "metadata": {},
   "outputs": [
    {
     "data": {
      "image/png": "[encoded data removed]",
      "text/plain": [
       "<Figure size 1080x1080 with 1 Axes>"
      ]
     },
     "metadata": {
      "needs_background": "light"
     },
     "output_type": "display_data"
    }
   ],
   "source": [
    "plt.figure(figsize=(15,15))\n",
    "sns.boxplot(x='genre', y='world_sales', data=data_actual)\n",
    "plt.xlabel('Жанр');\n",
    "plt.ylabel('Продажи по миру (млн копий)');\n",
    "plt.title('2013 - 2016');\n",
    "plt.ylim([0, 3]);"
   ]
  },
  {
   "cell_type": "markdown",
   "metadata": {},
   "source": [
    "Создадим сводную таблицу по жанрам от общей суммы выходивших игр и построим график"
   ]
  },
  {
   "cell_type": "code",
   "execution_count": 39,
   "metadata": {},
   "outputs": [
    {
     "data": {
      "image/png": "[encoded data removed]",
      "text/plain": [
       "<Figure size 720x720 with 1 Axes>"
      ]
     },
     "metadata": {
      "needs_background": "light"
     },
     "output_type": "display_data"
    }
   ],
   "source": [
    "genre_pivot_name = (data_actual\n",
    "    .pivot_table(index='genre', values='name', aggfunc='count')\n",
    "    .sort_values(by='name', ascending=False)\n",
    ")\n",
    "genre_pivot_name.plot(kind='bar', figsize=(10, 10));\n",
    "plt.xlabel('Жанр');\n",
    "plt.ylabel('Суммарное кол-во игр');\n",
    "plt.title('2013-2016');"
   ]
  },
  {
   "cell_type": "markdown",
   "metadata": {},
   "source": [
    "Видно по графикам, что и по количеству проданных копий, и по количеству вышедших игр лидирует жанр \"Action\", но что интересно, вторым местом по продажам идёт \"Shooter\", а вот по количеству игр аж на пятом\n",
    "\n",
    "Посчитаем соотношение \"ценности\" одной игры по жанрам"
   ]
  },
  {
   "cell_type": "code",
   "execution_count": 40,
   "metadata": {},
   "outputs": [
    {
     "data": {
      "text/plain": [
       "genre\n",
       "Action          0.420196\n",
       "Adventure       0.096490\n",
       "Fighting        0.441375\n",
       "Misc            0.405290\n",
       "Platform        0.576081\n",
       "Puzzle          0.186471\n",
       "Racing          0.469294\n",
       "Role-Playing    0.499623\n",
       "Shooter         1.245882\n",
       "Simulation      0.350968\n",
       "Sports          0.703972\n",
       "Strategy        0.180000\n",
       "dtype: float64"
      ]
     },
     "execution_count": 40,
     "metadata": {},
     "output_type": "execute_result"
    }
   ],
   "source": [
    "fun_stat = genre_pivot_world_sales['world_sales'] / genre_pivot_name['name']\n",
    "fun_stat"
   ]
  },
  {
   "cell_type": "markdown",
   "metadata": {},
   "source": [
    "Построим график соотношений по жанрам"
   ]
  },
  {
   "cell_type": "code",
   "execution_count": 41,
   "metadata": {},
   "outputs": [
    {
     "data": {
      "image/png": "[encoded data removed]",
      "text/plain": [
       "<Figure size 720x720 with 1 Axes>"
      ]
     },
     "metadata": {
      "needs_background": "light"
     },
     "output_type": "display_data"
    }
   ],
   "source": [
    "(fun_stat\n",
    "    .sort_values(ascending=False)\n",
    "    .plot(kind='bar', figsize=(10, 10))\n",
    ");\n",
    "plt.xlabel('Жанр');\n",
    "plt.ylabel('Соотношение');\n",
    "plt.title('2013-2016');"
   ]
  },
  {
   "cell_type": "markdown",
   "metadata": {},
   "source": [
    "В итоге в соотношении продажи копий по миру к общей сумме игр по жанрам выгоднее \"Shooter\", а \"Action\" не входит даже в пятерку лучших"
   ]
  },
  {
   "cell_type": "markdown",
   "metadata": {},
   "source": [
    "### Вывод"
   ]
  },
  {
   "cell_type": "markdown",
   "metadata": {},
   "source": [
    "**В ходе проведения исследовательского анализа данных:** Были выявленны некоторые закономерности. По общей сумме игр и мировых продаж лидирует две платформы, PS и XBOX в каждом поклении. Поколения консолей сменяют друг друга в среднем каждые 9 лет, пик продаж приходится на 3-5 год \"жизни\" платформы. Менее успешными можно назвать портативные платформы, платформы предыдущих покалений и персноальный компьютер\n",
    "\n",
    "Оценик критиков в целом не сильно влияют на продажи игр, что на лучшей платформе, что на остальных, от 0.28 до 0.40 коэффициент корреляции. Оценки же пользователей вообще не влияют на продажи, коэффициент близок к нулю\n",
    "\n",
    "Общее распределение игр по жанрам выявило некоторую интересность, самый продаваемый и самый многочисленный по играм жанр \"Action\" в соотношении продаж к количеству игр находится на 7 месте с 0.42 миллионами копий на игру, а его предшественник по продажам жанр \"Shooter\" имеет соотношение 1.24 миллионами копий на игру тк общее количество игр этого жанра мало, на пятом месте. Самым убыточным жанром по графикам является \"Adventure\"\n",
    "\n"
   ]
  },
  {
   "cell_type": "markdown",
   "metadata": {},
   "source": [
    "## Составление портрета пользователя каждого региона (NA, EU, JP)"
   ]
  },
  {
   "cell_type": "markdown",
   "metadata": {},
   "source": [
    "### Самые популярные платформы (топ-5)"
   ]
  },
  {
   "cell_type": "markdown",
   "metadata": {},
   "source": [
    "Создадим сводные таблици по платформам по продажам игр в Северной Америке, Европе и Японии и визуализируев в графиках"
   ]
  },
  {
   "cell_type": "code",
   "execution_count": 42,
   "metadata": {},
   "outputs": [
    {
     "data": {
      "image/png": "[encoded data removed]",
      "text/plain": [
       "<Figure size 720x720 with 1 Axes>"
      ]
     },
     "metadata": {
      "needs_background": "light"
     },
     "output_type": "display_data"
    }
   ],
   "source": [
    "na_platform_pivot = (data_actual\n",
    "    .pivot_table(index='platform', values='na_sales', aggfunc='sum')\n",
    "    .sort_values(by='na_sales', ascending=False)\n",
    ")\n",
    "na_platform_pivot.plot(kind='bar', figsize=(10, 10));\n",
    "plt.xlabel('Платформа');\n",
    "plt.ylabel('Продажи по Северной Америке (млн копий)');\n",
    "plt.title('Северная Америка');"
   ]
  },
  {
   "cell_type": "markdown",
   "metadata": {},
   "source": [
    "В Северной Америке преобладает PS4 и чуть отстает XOne\n",
    "\n"
   ]
  },
  {
   "cell_type": "code",
   "execution_count": 43,
   "metadata": {},
   "outputs": [
    {
     "data": {
      "image/png": "[encoded data removed]",
      "text/plain": [
       "<Figure size 720x720 with 1 Axes>"
      ]
     },
     "metadata": {
      "needs_background": "light"
     },
     "output_type": "display_data"
    }
   ],
   "source": [
    "eu_platform_pivot = (data_actual\n",
    "    .pivot_table(index='platform', values='eu_sales', aggfunc='sum')\n",
    "    .sort_values(by='eu_sales', ascending=False)\n",
    ")\n",
    "eu_platform_pivot.plot(kind='bar', figsize=(10, 10));\n",
    "plt.xlabel('Платформа');\n",
    "plt.ylabel('Продажи по Европе (млн копий)');\n",
    "plt.title('Европа');"
   ]
  },
  {
   "cell_type": "markdown",
   "metadata": {},
   "source": [
    "В Европе также преобладает PS4, за ней её предшественница PS3, XOne за ними"
   ]
  },
  {
   "cell_type": "code",
   "execution_count": 44,
   "metadata": {},
   "outputs": [
    {
     "data": {
      "image/png": "[encoded data removed]",
      "text/plain": [
       "<Figure size 720x720 with 1 Axes>"
      ]
     },
     "metadata": {
      "needs_background": "light"
     },
     "output_type": "display_data"
    }
   ],
   "source": [
    "jp_platform_pivot = (data_actual\n",
    "    .pivot_table(index='platform', values='jp_sales', aggfunc='sum')\n",
    "    .sort_values(by='jp_sales', ascending=False)\n",
    ")\n",
    "jp_platform_pivot.plot(kind='bar', figsize=(10, 10));\n",
    "plt.xlabel('Платформа');\n",
    "plt.ylabel('Продажи по Японии (млн копий)');\n",
    "plt.title('Япония');"
   ]
  },
  {
   "cell_type": "markdown",
   "metadata": {},
   "source": [
    "Интересно, что народине PS в Японии она не на первом месте, на первом 3DS. Видимо японцы препочитают портативные платформы"
   ]
  },
  {
   "cell_type": "markdown",
   "metadata": {},
   "source": [
    "### Самые популярные жанры (топ-5)"
   ]
  },
  {
   "cell_type": "markdown",
   "metadata": {},
   "source": [
    "Создадим сводные таблици по жанрам по продажам игр в Северной Америке, Европе и Японии и визуализируев в графиках"
   ]
  },
  {
   "cell_type": "code",
   "execution_count": 45,
   "metadata": {},
   "outputs": [
    {
     "data": {
      "image/png": "[encoded data removed]",
      "text/plain": [
       "<Figure size 720x720 with 1 Axes>"
      ]
     },
     "metadata": {
      "needs_background": "light"
     },
     "output_type": "display_data"
    }
   ],
   "source": [
    "na_genre_pivot = (data_actual\n",
    "    .pivot_table(index='genre', values='na_sales', aggfunc='sum')\n",
    "    .sort_values(by='na_sales', ascending=False)\n",
    ")\n",
    "na_genre_pivot.plot(kind='bar', figsize=(10, 10));\n",
    "plt.xlabel('Жанр');\n",
    "plt.ylabel('Продажи по Северной Америке (млн копий)');\n",
    "plt.title('Северная Америка');"
   ]
  },
  {
   "cell_type": "markdown",
   "metadata": {},
   "source": [
    "Жанровые предпочтения американцев очень сходи с тем, что мы видели в пункту 3.7"
   ]
  },
  {
   "cell_type": "code",
   "execution_count": 51,
   "metadata": {},
   "outputs": [
    {
     "data": {
      "image/png": "[encoded data removed]",
      "text/plain": [
       "<Figure size 720x720 with 1 Axes>"
      ]
     },
     "metadata": {
      "needs_background": "light"
     },
     "output_type": "display_data"
    }
   ],
   "source": [
    "eu_genre_pivot = (data_actual\n",
    "    .pivot_table(index='genre', values='eu_sales', aggfunc='sum')\n",
    "    .sort_values(by='eu_sales', ascending=False)\n",
    ")\n",
    "eu_genre_pivot.plot(kind='bar', figsize=(10, 10));\n",
    "plt.xlabel('Жанр');\n",
    "plt.ylabel('Продажи по Европе (млн копий)');\n",
    "plt.title('Европа');"
   ]
  },
  {
   "cell_type": "markdown",
   "metadata": {},
   "source": [
    "Как и прошлом пункте европейцы мало чем отличаются от амриканцев, меньше жанра \"Shooter\" и \"Racing\" в топ 5 попал"
   ]
  },
  {
   "cell_type": "code",
   "execution_count": 47,
   "metadata": {},
   "outputs": [
    {
     "data": {
      "image/png": "[encoded data removed]",
      "text/plain": [
       "<Figure size 720x720 with 1 Axes>"
      ]
     },
     "metadata": {
      "needs_background": "light"
     },
     "output_type": "display_data"
    }
   ],
   "source": [
    "jp_genre_pivot = (data_actual\n",
    "    .pivot_table(index='genre', values='jp_sales', aggfunc='sum')\n",
    "    .sort_values(by='jp_sales', ascending=False)\n",
    ")\n",
    "jp_genre_pivot.plot(kind='bar', figsize=(10, 10));\n",
    "plt.xlabel('Жанр');\n",
    "plt.ylabel('Продажи по Японии (млн копий)');\n",
    "plt.title('Япония');"
   ]
  },
  {
   "cell_type": "markdown",
   "metadata": {},
   "source": [
    "Японцы снова удивили, у них на перовом месте жанр занимающий 4 место у соседей - \"Role-Playing\""
   ]
  },
  {
   "cell_type": "markdown",
   "metadata": {},
   "source": [
    "### Влияет ли рейтинг ESRB на продажи в отдельном регионе"
   ]
  },
  {
   "cell_type": "markdown",
   "metadata": {},
   "source": [
    "Создадим сводные таблици по рейтингу по продажам игр в Северной Америке, Европе и Японии и визуализируев в графиках"
   ]
  },
  {
   "cell_type": "code",
   "execution_count": 48,
   "metadata": {},
   "outputs": [
    {
     "data": {
      "image/png": "[encoded data removed]",
      "text/plain": [
       "<Figure size 720x720 with 1 Axes>"
      ]
     },
     "metadata": {
      "needs_background": "light"
     },
     "output_type": "display_data"
    }
   ],
   "source": [
    "na_rating_pivot = (data_actual\n",
    "    .pivot_table(index='rating', values='na_sales', aggfunc='sum')\n",
    "    .sort_values(by='na_sales', ascending=False)\n",
    ")\n",
    "na_rating_pivot.plot(kind='bar', figsize=(10, 10));\n",
    "plt.xlabel('Рейтинг');\n",
    "plt.ylabel('Продажи по Северной Америке (млн копий)');\n",
    "plt.title('Северная Америка');"
   ]
  },
  {
   "cell_type": "markdown",
   "metadata": {},
   "source": [
    "В Северной Америке превалирует рейтинг \"M\" - от 17 лет и старше (старший подросток)"
   ]
  },
  {
   "cell_type": "code",
   "execution_count": 49,
   "metadata": {},
   "outputs": [
    {
     "data": {
      "image/png": "[encoded data removed]",
      "text/plain": [
       "<Figure size 720x720 with 1 Axes>"
      ]
     },
     "metadata": {
      "needs_background": "light"
     },
     "output_type": "display_data"
    }
   ],
   "source": [
    "eu_rating_pivot = (data_actual\n",
    "    .pivot_table(index='rating', values='eu_sales', aggfunc='sum')\n",
    "    .sort_values(by='eu_sales', ascending=False)\n",
    ")\n",
    "eu_rating_pivot.plot(kind='bar', figsize=(10, 10));\n",
    "plt.xlabel('Рейтинг');\n",
    "plt.ylabel('Продажи по Европе (млн копий)');\n",
    "plt.title('Европа');"
   ]
  },
  {
   "cell_type": "markdown",
   "metadata": {},
   "source": [
    "В Европе тоже превалирует рейтинг \"M\" - от 17 лет и старше (старший подросток)"
   ]
  },
  {
   "cell_type": "code",
   "execution_count": 50,
   "metadata": {},
   "outputs": [
    {
     "data": {
      "image/png": "[encoded data removed]",
      "text/plain": [
       "<Figure size 720x720 with 1 Axes>"
      ]
     },
     "metadata": {
      "needs_background": "light"
     },
     "output_type": "display_data"
    }
   ],
   "source": [
    "jp_rating_pivot = (data_actual\n",
    "    .pivot_table(index='rating', values='jp_sales', aggfunc='sum')\n",
    "    .sort_values(by='jp_sales', ascending=False)\n",
    ")\n",
    "jp_rating_pivot.plot(kind='bar', figsize=(10, 10));\n",
    "plt.xlabel('Рейтинг');\n",
    "plt.ylabel('Продажи по Японии (млн копий)');\n",
    "plt.title('Япония');"
   ]
  },
  {
   "cell_type": "markdown",
   "metadata": {},
   "source": [
    "И здесь Япония отличилась, превалирует рейтинг \"T\" - для лиц от 13 лет и старше (младший подросток)"
   ]
  },
  {
   "cell_type": "markdown",
   "metadata": {},
   "source": [
    "### Вывод"
   ]
  },
  {
   "cell_type": "markdown",
   "metadata": {},
   "source": [
    "**Результат работы по составлению портрета пользователя по регионом:** Отмечу, что картина для Европы и Северной Америки очень схожа, буквально одно лицо, средний пользователь играет на платформе PS4, американец еще чуть реже в XOne, в игры жанра \"Shooter\" или \"Action\" с рейтингом \"M\" - от 17 лет и старше (старший подросток)\n",
    "\n",
    "Япония держится особняком вокруг своей культуры, поэтому их средней пользователь играет на платформе в игры жанра \"Role-Playing\" с рейтингом \"T\" - для лиц от 13 лет и старше (младший подросток)\n",
    "\n",
    "Реже всего во всех категориях можно встретить пользователя с платформы ПК играющего в игры жанра \"Puzzle\" с рейтингом \"E10+\" - от 10 лет и старше (ребёнок)"
   ]
  },
  {
   "cell_type": "markdown",
   "metadata": {},
   "source": [
    "## Проверка гипотез"
   ]
  },
  {
   "cell_type": "markdown",
   "metadata": {},
   "source": [
    "### Средние пользовательские рейтинги платформ Xbox One и PC одинаковые"
   ]
  },
  {
   "cell_type": "markdown",
   "metadata": {},
   "source": [
    "Для начала сформулируев гипотезы\n",
    "\n",
    "H_0: Средний пользовательский рейтинг на платформе XOne = Средний пользовательский рейтинг на платформе PC\n",
    "\n",
    "H_1: Средний пользовательский рейтинг на платформе XOne != Средний пользовательский рейтинг на платформе PC\n",
    "\n",
    "alpha = 0.05"
   ]
  },
  {
   "cell_type": "markdown",
   "metadata": {},
   "source": [
    "Создаем отдельные таблицы с пользовательским рейтингом на платформах"
   ]
  },
  {
   "cell_type": "code",
   "execution_count": 51,
   "metadata": {},
   "outputs": [],
   "source": [
    "pc_user_score = data_actual[data_actual['platform']=='PC']\n",
    "pc_user_score = pc_user_score[pc_user_score['user_score'].isnull() == False]"
   ]
  },
  {
   "cell_type": "code",
   "execution_count": 52,
   "metadata": {},
   "outputs": [],
   "source": [
    "xone_user_score = data_actual[data_actual['platform']=='XOne']\n",
    "xone_user_score = xone_user_score[xone_user_score['user_score'].isnull() == False]"
   ]
  },
  {
   "cell_type": "markdown",
   "metadata": {},
   "source": [
    "Вызываю метод для проверки двусторонней гипотезы"
   ]
  },
  {
   "cell_type": "code",
   "execution_count": 53,
   "metadata": {},
   "outputs": [],
   "source": [
    "alpha = 0.05"
   ]
  },
  {
   "cell_type": "code",
   "execution_count": 54,
   "metadata": {},
   "outputs": [],
   "source": [
    "results = st.ttest_ind(pc_user_score['user_score'], xone_user_score['user_score'], equal_var = False)"
   ]
  },
  {
   "cell_type": "code",
   "execution_count": 55,
   "metadata": {},
   "outputs": [
    {
     "data": {
      "text/plain": [
       "0.14759594013430463"
      ]
     },
     "execution_count": 55,
     "metadata": {},
     "output_type": "execute_result"
    }
   ],
   "source": [
    "results.pvalue"
   ]
  },
  {
   "cell_type": "code",
   "execution_count": 56,
   "metadata": {},
   "outputs": [
    {
     "name": "stdout",
     "output_type": "stream",
     "text": [
      "Не получилось отвергнуть нулевую гипотезу\n"
     ]
    }
   ],
   "source": [
    "if results.pvalue < alpha:\n",
    "    print('Отвергаем нулевую гипотезу')\n",
    "else:\n",
    "    print('Не получилось отвергнуть нулевую гипотезу')"
   ]
  },
  {
   "cell_type": "markdown",
   "metadata": {},
   "source": [
    "Метод t-тест показал, что мы не можем отвергнуть нулевую гипотезу, следовательно средние пользовательские рейтинги обоих плотформ равны"
   ]
  },
  {
   "cell_type": "markdown",
   "metadata": {},
   "source": [
    "### Cредние пользовательские рейтинги жанров Action и Sports разные"
   ]
  },
  {
   "cell_type": "markdown",
   "metadata": {},
   "source": [
    "Для начала сформулируев гипотезы\n",
    "\n",
    "H_0: Средний пользовательский рейтинг Action = Средний пользовательский рейтинг Sports\n",
    "\n",
    "H_1: Средний пользовательский рейтинг Action != Средний пользовательский рейтинг Sports\n",
    "\n",
    "alpha = 0.05"
   ]
  },
  {
   "cell_type": "markdown",
   "metadata": {},
   "source": [
    "Создаем отдельные таблицы с пользовательским рейтингом жанров"
   ]
  },
  {
   "cell_type": "code",
   "execution_count": 57,
   "metadata": {},
   "outputs": [],
   "source": [
    "аction_user_score = data_actual[data_actual['genre']=='Action']\n",
    "аction_user_score = аction_user_score[аction_user_score['user_score'].isnull() == False]"
   ]
  },
  {
   "cell_type": "code",
   "execution_count": 58,
   "metadata": {},
   "outputs": [],
   "source": [
    "sports_user_score = data_actual[data_actual['genre']=='Sports']\n",
    "sports_user_score = sports_user_score[sports_user_score['user_score'].isnull() == False]"
   ]
  },
  {
   "cell_type": "markdown",
   "metadata": {},
   "source": [
    "Вызываю метод для проверки двусторонней гипотезы"
   ]
  },
  {
   "cell_type": "code",
   "execution_count": 59,
   "metadata": {},
   "outputs": [],
   "source": [
    "alpha = 0.05"
   ]
  },
  {
   "cell_type": "code",
   "execution_count": 60,
   "metadata": {},
   "outputs": [],
   "source": [
    "results = st.ttest_ind(аction_user_score['user_score'], sports_user_score['user_score'], equal_var = False)"
   ]
  },
  {
   "cell_type": "code",
   "execution_count": 61,
   "metadata": {},
   "outputs": [
    {
     "data": {
      "text/plain": [
       "1.4460039700704315e-20"
      ]
     },
     "execution_count": 61,
     "metadata": {},
     "output_type": "execute_result"
    }
   ],
   "source": [
    "results.pvalue"
   ]
  },
  {
   "cell_type": "code",
   "execution_count": 62,
   "metadata": {},
   "outputs": [
    {
     "name": "stdout",
     "output_type": "stream",
     "text": [
      "Отвергаем нулевую гипотезу\n"
     ]
    }
   ],
   "source": [
    "if results.pvalue < alpha:\n",
    "    print('Отвергаем нулевую гипотезу')\n",
    "else:\n",
    "    print('Не получилось отвергнуть нулевую гипотезу')"
   ]
  },
  {
   "cell_type": "markdown",
   "metadata": {},
   "source": [
    "Метод t-тест показал, что мы можем отвергнуть нулевую гипотезу, следовательно средние пользовательские рейтинги обоих жанров не равны"
   ]
  },
  {
   "cell_type": "markdown",
   "metadata": {},
   "source": [
    "### Вывод"
   ]
  },
  {
   "cell_type": "markdown",
   "metadata": {},
   "source": [
    "**В ходе проведения проверки гипотез:** Можно заключить, что метод t-теста показал, что средние пользовательские рейтинги платформ Xbox one и PC одинаковые и что средние пользовательские рейтинги жанров Action и Sports разные"
   ]
  },
  {
   "cell_type": "markdown",
   "metadata": {},
   "source": [
    "## Общий вывод"
   ]
  },
  {
   "cell_type": "markdown",
   "metadata": {},
   "source": [
    "В ходе работы мы обработали датафрейм, удалины ненужные строки, изменен тип данных. От изначального количества строк в датафрейме(16715) было в общей сумме удалено 237 строк, что составляет примерно1.6%.  Был добавлен в таблицу столбец world_sales с суммарными продажами из \"na_sales\", \"eu_sales\", \"jp_sales\" и \"other_sales\".\n",
    "\n",
    "Был проведен исследовательский анализ данных в ходе которых были обнаруженны некоторые закономерности. По общей сумме игр и мировых продаж лидирует две платформы, PS и XBOX в каждом поклении. Поколения консолей сменяют друг друга в среднем каждые 9 лет, пик продаж приходится на 3-5 год \"жизни\" платформы. Менее успешными можно назвать портативные платформы, платформы предыдущих покалений и персональный компьютер.\n",
    "\n",
    "Оценик критиков в целом не сильно влияют на продажи игр, что на лучшей платформе, что на остальных, от 0.28 до 0.40 коэффициент корреляции. Оценки же пользователей вообще не влияют на продажи, коэффициент близок к нулю\n",
    "\n",
    "Общее распределение игр по жанрам выявило некоторую интересность, самый продаваемый и самый многочисленный по играм жанр \"Action\" в соотношении продаж к количеству игр находится на 7 месте с 0.42 миллионами копий на игру, а его предшественник по продажам жанр \"Shooter\" имеет соотношение 1.24 миллионами копий на игру тк общее количество игр этого жанра мало, на пятом месте. Самым убыточным жанром по графикам является \"Adventure\"\n",
    "\n",
    "Были определенны целевые пользователи по разным регионам мира. Американский и европейский пользователи похож, играют в основном с платформы PS4 в \"Shooter\" и \"Action\" игры, рейтинг предпочитают \"M\". Японский пользователь сдержаннее, играет с платформы 3DS в \"Role-Playing\" игры, рейтинг предпочитают \"Т\". Все пользователи мало обращают внимания на игры жанра \"Puzzle\" и платформу ПК\n",
    "\n",
    "Метод t-теста показал, что средние пользовательские рейтинги платформ Xbox one и PC одинаковые и что средние пользовательские рейтинги жанров Action и Sports разные\n",
    "\n",
    "Отвечая на запрос бизнеса по плану на рекламную компанию 2017 года хочу посоветовать:\n",
    "* Обратить внимание в первую очередь на рынок платформы PS4, а в дальнейшем и её приемника, тк этот рынок самый большой в Европе и Северной америке\n",
    "* Опираться на 3 популярных жанрах \"Action\", \"Shooter\" и \"Role-Playing\", на \"Shooter\" в первую очередь тк соотношение проданные к количеству игр жанра больше, чем у кого-либо\n",
    "* Не сильно доверять оценке критиков и не доверять оценке пользователей вовсе =)"
   ]
  },
  {
   "cell_type": "code",
   "execution_count": null,
   "metadata": {},
   "outputs": [],
   "source": []
  }
 ],
 "metadata": {
  "ExecuteTimeLog": [
   {
    "duration": 1084,
    "start_time": "2022-12-23T10:34:11.428Z"
   },
   {
    "duration": 138,
    "start_time": "2022-12-23T10:36:44.280Z"
   },
   {
    "duration": 46,
    "start_time": "2022-12-23T10:37:33.885Z"
   },
   {
    "duration": 449,
    "start_time": "2022-12-23T10:37:47.825Z"
   },
   {
    "duration": 1073,
    "start_time": "2022-12-23T10:37:56.023Z"
   },
   {
    "duration": 54,
    "start_time": "2022-12-23T10:37:57.098Z"
   },
   {
    "duration": 23,
    "start_time": "2022-12-23T10:38:14.351Z"
   },
   {
    "duration": 14,
    "start_time": "2022-12-23T10:38:24.582Z"
   },
   {
    "duration": 101,
    "start_time": "2022-12-23T10:45:34.982Z"
   },
   {
    "duration": 3,
    "start_time": "2022-12-23T10:46:11.007Z"
   },
   {
    "duration": 4,
    "start_time": "2022-12-23T10:46:38.653Z"
   },
   {
    "duration": 4,
    "start_time": "2022-12-23T10:47:26.181Z"
   },
   {
    "duration": 5,
    "start_time": "2022-12-23T10:47:27.324Z"
   },
   {
    "duration": 3,
    "start_time": "2022-12-23T10:48:59.316Z"
   },
   {
    "duration": 4,
    "start_time": "2022-12-23T10:48:59.708Z"
   },
   {
    "duration": 13,
    "start_time": "2022-12-23T10:56:11.882Z"
   },
   {
    "duration": 12,
    "start_time": "2022-12-23T10:56:47.361Z"
   },
   {
    "duration": 1170,
    "start_time": "2022-12-23T10:57:42.034Z"
   },
   {
    "duration": 55,
    "start_time": "2022-12-23T10:57:43.206Z"
   },
   {
    "duration": 24,
    "start_time": "2022-12-23T10:57:43.262Z"
   },
   {
    "duration": 15,
    "start_time": "2022-12-23T10:57:43.433Z"
   },
   {
    "duration": 3,
    "start_time": "2022-12-23T10:57:44.961Z"
   },
   {
    "duration": 4,
    "start_time": "2022-12-23T10:57:45.265Z"
   },
   {
    "duration": 13,
    "start_time": "2022-12-23T10:57:45.841Z"
   },
   {
    "duration": 111,
    "start_time": "2022-12-23T10:57:47.296Z"
   },
   {
    "duration": 3,
    "start_time": "2022-12-23T10:59:34.745Z"
   },
   {
    "duration": 9,
    "start_time": "2022-12-23T10:59:37.665Z"
   },
   {
    "duration": 6,
    "start_time": "2022-12-23T11:01:21.328Z"
   },
   {
    "duration": 5,
    "start_time": "2022-12-23T11:05:26.559Z"
   },
   {
    "duration": 6,
    "start_time": "2022-12-23T11:05:31.559Z"
   },
   {
    "duration": 18,
    "start_time": "2022-12-23T11:13:20.147Z"
   },
   {
    "duration": 9,
    "start_time": "2022-12-23T11:18:29.315Z"
   },
   {
    "duration": 9,
    "start_time": "2022-12-23T11:21:58.554Z"
   },
   {
    "duration": 15,
    "start_time": "2022-12-23T11:25:47.873Z"
   },
   {
    "duration": 28,
    "start_time": "2022-12-23T11:28:46.585Z"
   },
   {
    "duration": 27,
    "start_time": "2022-12-23T11:28:52.874Z"
   },
   {
    "duration": 24,
    "start_time": "2022-12-23T11:31:20.746Z"
   },
   {
    "duration": 13,
    "start_time": "2022-12-23T11:31:34.153Z"
   },
   {
    "duration": 17,
    "start_time": "2022-12-23T11:32:27.499Z"
   },
   {
    "duration": 5,
    "start_time": "2022-12-23T11:32:41.672Z"
   },
   {
    "duration": 6,
    "start_time": "2022-12-23T11:33:21.816Z"
   },
   {
    "duration": 29,
    "start_time": "2022-12-23T11:37:29.880Z"
   },
   {
    "duration": 27,
    "start_time": "2022-12-23T11:37:34.103Z"
   },
   {
    "duration": 3,
    "start_time": "2022-12-23T11:37:50.759Z"
   },
   {
    "duration": 23,
    "start_time": "2022-12-23T11:38:30.248Z"
   },
   {
    "duration": 10,
    "start_time": "2022-12-23T11:38:42.417Z"
   },
   {
    "duration": 7,
    "start_time": "2022-12-23T11:49:22.134Z"
   },
   {
    "duration": 15,
    "start_time": "2022-12-23T11:49:29.229Z"
   },
   {
    "duration": 7,
    "start_time": "2022-12-23T11:56:01.422Z"
   },
   {
    "duration": 5,
    "start_time": "2022-12-23T11:56:37.605Z"
   },
   {
    "duration": 22,
    "start_time": "2022-12-23T11:57:13.354Z"
   },
   {
    "duration": 5,
    "start_time": "2022-12-23T11:57:16.304Z"
   },
   {
    "duration": 5,
    "start_time": "2022-12-23T12:00:55.851Z"
   },
   {
    "duration": 4,
    "start_time": "2022-12-23T12:00:57.778Z"
   },
   {
    "duration": 5,
    "start_time": "2022-12-23T12:03:05.806Z"
   },
   {
    "duration": 6,
    "start_time": "2022-12-23T12:03:06.233Z"
   },
   {
    "duration": 6,
    "start_time": "2022-12-23T12:03:55.330Z"
   },
   {
    "duration": 9,
    "start_time": "2022-12-23T12:04:15.902Z"
   },
   {
    "duration": 12,
    "start_time": "2022-12-23T12:04:28.917Z"
   },
   {
    "duration": 5,
    "start_time": "2022-12-23T12:05:18.722Z"
   },
   {
    "duration": 7,
    "start_time": "2022-12-23T12:05:19.098Z"
   },
   {
    "duration": 4,
    "start_time": "2022-12-23T12:06:13.013Z"
   },
   {
    "duration": 15,
    "start_time": "2022-12-23T12:06:17.425Z"
   },
   {
    "duration": 29,
    "start_time": "2022-12-23T12:13:33.326Z"
   },
   {
    "duration": 4,
    "start_time": "2022-12-23T12:16:40.713Z"
   },
   {
    "duration": 8,
    "start_time": "2022-12-23T12:17:24.574Z"
   },
   {
    "duration": 8,
    "start_time": "2022-12-23T12:17:31.610Z"
   },
   {
    "duration": 31,
    "start_time": "2022-12-23T12:17:41.295Z"
   },
   {
    "duration": 10,
    "start_time": "2022-12-23T12:26:02.181Z"
   },
   {
    "duration": 5,
    "start_time": "2022-12-23T12:26:06.404Z"
   },
   {
    "duration": 14,
    "start_time": "2022-12-23T12:26:39.644Z"
   },
   {
    "duration": 15,
    "start_time": "2022-12-23T12:38:36.862Z"
   },
   {
    "duration": 13,
    "start_time": "2022-12-23T13:22:07.714Z"
   },
   {
    "duration": 259,
    "start_time": "2022-12-23T13:24:21.902Z"
   },
   {
    "duration": 150,
    "start_time": "2022-12-23T13:24:45.706Z"
   },
   {
    "duration": 337,
    "start_time": "2022-12-23T13:33:19.841Z"
   },
   {
    "duration": 307,
    "start_time": "2022-12-23T13:33:34.072Z"
   },
   {
    "duration": 414,
    "start_time": "2022-12-23T13:35:24.472Z"
   },
   {
    "duration": 280,
    "start_time": "2022-12-23T13:59:07.012Z"
   },
   {
    "duration": 16,
    "start_time": "2022-12-23T14:01:12.829Z"
   },
   {
    "duration": 14,
    "start_time": "2022-12-23T14:01:26.486Z"
   },
   {
    "duration": 70,
    "start_time": "2022-12-23T14:01:56.620Z"
   },
   {
    "duration": 289,
    "start_time": "2022-12-23T14:02:01.091Z"
   },
   {
    "duration": 74,
    "start_time": "2022-12-23T14:02:18.108Z"
   },
   {
    "duration": 292,
    "start_time": "2022-12-23T14:02:28.516Z"
   },
   {
    "duration": 17,
    "start_time": "2022-12-23T14:02:54.940Z"
   },
   {
    "duration": 17,
    "start_time": "2022-12-23T14:03:10.443Z"
   },
   {
    "duration": 335,
    "start_time": "2022-12-23T14:03:22.282Z"
   },
   {
    "duration": 311,
    "start_time": "2022-12-23T14:03:38.950Z"
   },
   {
    "duration": 424,
    "start_time": "2022-12-23T14:03:58.308Z"
   },
   {
    "duration": 328,
    "start_time": "2022-12-23T14:04:18.644Z"
   },
   {
    "duration": 315,
    "start_time": "2022-12-23T14:04:28.691Z"
   },
   {
    "duration": 304,
    "start_time": "2022-12-23T14:04:34.828Z"
   },
   {
    "duration": 285,
    "start_time": "2022-12-23T14:04:46.586Z"
   },
   {
    "duration": 9,
    "start_time": "2022-12-23T14:29:16.743Z"
   },
   {
    "duration": 12,
    "start_time": "2022-12-23T14:29:26.462Z"
   },
   {
    "duration": 220,
    "start_time": "2022-12-23T14:30:02.447Z"
   },
   {
    "duration": 202,
    "start_time": "2022-12-23T14:31:35.967Z"
   },
   {
    "duration": 191,
    "start_time": "2022-12-23T14:31:46.327Z"
   },
   {
    "duration": 308,
    "start_time": "2022-12-23T14:32:43.807Z"
   },
   {
    "duration": 192,
    "start_time": "2022-12-23T14:32:45.077Z"
   },
   {
    "duration": 207,
    "start_time": "2022-12-23T14:32:46.145Z"
   },
   {
    "duration": 207,
    "start_time": "2022-12-23T14:33:12.193Z"
   },
   {
    "duration": 197,
    "start_time": "2022-12-23T14:33:17.599Z"
   },
   {
    "duration": 189,
    "start_time": "2022-12-23T14:33:21.805Z"
   },
   {
    "duration": 6,
    "start_time": "2022-12-23T15:00:08.576Z"
   },
   {
    "duration": 17,
    "start_time": "2022-12-23T15:00:22.697Z"
   },
   {
    "duration": 17,
    "start_time": "2022-12-23T15:03:58.664Z"
   },
   {
    "duration": 16,
    "start_time": "2022-12-23T15:04:13.944Z"
   },
   {
    "duration": 48,
    "start_time": "2022-12-23T15:15:49.733Z"
   },
   {
    "duration": 8,
    "start_time": "2022-12-23T15:16:31.737Z"
   },
   {
    "duration": 1332,
    "start_time": "2022-12-23T15:16:43.072Z"
   },
   {
    "duration": 1114,
    "start_time": "2022-12-23T15:18:15.977Z"
   },
   {
    "duration": 97,
    "start_time": "2022-12-23T15:18:38.654Z"
   },
   {
    "duration": 25,
    "start_time": "2022-12-23T15:18:39.542Z"
   },
   {
    "duration": 14,
    "start_time": "2022-12-23T15:18:40.228Z"
   },
   {
    "duration": 16,
    "start_time": "2022-12-23T15:18:42.045Z"
   },
   {
    "duration": 4,
    "start_time": "2022-12-23T15:18:42.844Z"
   },
   {
    "duration": 4,
    "start_time": "2022-12-23T15:18:43.318Z"
   },
   {
    "duration": 14,
    "start_time": "2022-12-23T15:18:43.773Z"
   },
   {
    "duration": 5,
    "start_time": "2022-12-23T15:18:44.974Z"
   },
   {
    "duration": 10,
    "start_time": "2022-12-23T15:18:46.821Z"
   },
   {
    "duration": 15,
    "start_time": "2022-12-23T15:18:47.661Z"
   },
   {
    "duration": 13,
    "start_time": "2022-12-23T15:18:48.496Z"
   },
   {
    "duration": 6,
    "start_time": "2022-12-23T15:18:49.333Z"
   },
   {
    "duration": 5,
    "start_time": "2022-12-23T15:18:49.725Z"
   },
   {
    "duration": 16,
    "start_time": "2022-12-23T15:18:50.189Z"
   },
   {
    "duration": 4,
    "start_time": "2022-12-23T15:18:51.013Z"
   },
   {
    "duration": 4,
    "start_time": "2022-12-23T15:18:51.741Z"
   },
   {
    "duration": 17,
    "start_time": "2022-12-23T15:18:52.957Z"
   },
   {
    "duration": 324,
    "start_time": "2022-12-23T15:18:55.193Z"
   },
   {
    "duration": 276,
    "start_time": "2022-12-23T15:18:57.262Z"
   },
   {
    "duration": 196,
    "start_time": "2022-12-23T15:18:58.588Z"
   },
   {
    "duration": 185,
    "start_time": "2022-12-23T15:18:59.141Z"
   },
   {
    "duration": 185,
    "start_time": "2022-12-23T15:19:01.229Z"
   },
   {
    "duration": 199,
    "start_time": "2022-12-23T15:19:02.997Z"
   },
   {
    "duration": 17,
    "start_time": "2022-12-23T15:19:06.399Z"
   },
   {
    "duration": 254,
    "start_time": "2022-12-23T15:19:14.293Z"
   },
   {
    "duration": 372,
    "start_time": "2022-12-23T15:20:26.806Z"
   },
   {
    "duration": 688,
    "start_time": "2022-12-23T15:21:28.306Z"
   },
   {
    "duration": 572,
    "start_time": "2022-12-23T15:21:52.972Z"
   },
   {
    "duration": 17,
    "start_time": "2022-12-23T15:24:28.406Z"
   },
   {
    "duration": 695,
    "start_time": "2022-12-23T15:24:29.441Z"
   },
   {
    "duration": 17,
    "start_time": "2022-12-23T15:35:34.977Z"
   },
   {
    "duration": 209,
    "start_time": "2022-12-23T15:37:25.649Z"
   },
   {
    "duration": 56,
    "start_time": "2022-12-23T15:38:22.342Z"
   },
   {
    "duration": 384,
    "start_time": "2022-12-23T15:38:28.544Z"
   },
   {
    "duration": 309,
    "start_time": "2022-12-23T15:38:46.505Z"
   },
   {
    "duration": 285,
    "start_time": "2022-12-23T15:39:58.809Z"
   },
   {
    "duration": 292,
    "start_time": "2022-12-23T15:40:05.105Z"
   },
   {
    "duration": 403,
    "start_time": "2022-12-23T15:40:16.464Z"
   },
   {
    "duration": 297,
    "start_time": "2022-12-23T15:40:30.706Z"
   },
   {
    "duration": 270,
    "start_time": "2022-12-23T15:53:40.765Z"
   },
   {
    "duration": 329,
    "start_time": "2022-12-23T15:55:13.210Z"
   },
   {
    "duration": 15,
    "start_time": "2022-12-23T16:07:18.606Z"
   },
   {
    "duration": 10,
    "start_time": "2022-12-23T16:16:25.589Z"
   },
   {
    "duration": 593,
    "start_time": "2022-12-23T16:17:14.212Z"
   },
   {
    "duration": 487,
    "start_time": "2022-12-23T16:18:08.556Z"
   },
   {
    "duration": 12,
    "start_time": "2022-12-23T16:21:03.949Z"
   },
   {
    "duration": 508,
    "start_time": "2022-12-23T16:21:14.699Z"
   },
   {
    "duration": 11,
    "start_time": "2022-12-23T16:21:34.542Z"
   },
   {
    "duration": 8,
    "start_time": "2022-12-23T16:22:56.418Z"
   },
   {
    "duration": 13,
    "start_time": "2022-12-23T16:30:21.999Z"
   },
   {
    "duration": 664,
    "start_time": "2022-12-23T16:30:49.313Z"
   },
   {
    "duration": 11,
    "start_time": "2022-12-23T16:30:59.719Z"
   },
   {
    "duration": 10,
    "start_time": "2022-12-23T16:31:10.264Z"
   },
   {
    "duration": 210,
    "start_time": "2022-12-23T16:44:33.518Z"
   },
   {
    "duration": 208,
    "start_time": "2022-12-23T16:44:41.308Z"
   },
   {
    "duration": 109,
    "start_time": "2022-12-23T16:52:59.039Z"
   },
   {
    "duration": 31313,
    "start_time": "2022-12-23T16:56:07.635Z"
   },
   {
    "duration": 332,
    "start_time": "2022-12-23T16:56:38.951Z"
   },
   {
    "duration": 266,
    "start_time": "2022-12-23T16:58:13.849Z"
   },
   {
    "duration": 382,
    "start_time": "2022-12-23T16:58:57.318Z"
   },
   {
    "duration": 22,
    "start_time": "2022-12-23T17:01:57.854Z"
   },
   {
    "duration": 214,
    "start_time": "2022-12-23T17:03:01.014Z"
   },
   {
    "duration": 268,
    "start_time": "2022-12-23T17:03:05.875Z"
   },
   {
    "duration": 270,
    "start_time": "2022-12-23T17:04:07.018Z"
   },
   {
    "duration": 7,
    "start_time": "2022-12-23T17:15:00.158Z"
   },
   {
    "duration": 7,
    "start_time": "2022-12-23T17:16:31.974Z"
   },
   {
    "duration": 5,
    "start_time": "2022-12-23T17:18:28.920Z"
   },
   {
    "duration": 6,
    "start_time": "2022-12-23T17:18:39.167Z"
   },
   {
    "duration": 10,
    "start_time": "2022-12-23T17:18:44.204Z"
   },
   {
    "duration": 16,
    "start_time": "2022-12-23T17:21:52.174Z"
   },
   {
    "duration": 13,
    "start_time": "2022-12-23T17:22:53.164Z"
   },
   {
    "duration": 8,
    "start_time": "2022-12-23T17:23:30.020Z"
   },
   {
    "duration": 229,
    "start_time": "2022-12-23T17:27:21.259Z"
   },
   {
    "duration": 58,
    "start_time": "2022-12-23T17:28:30.619Z"
   },
   {
    "duration": 13,
    "start_time": "2022-12-23T17:28:41.904Z"
   },
   {
    "duration": 323,
    "start_time": "2022-12-23T17:29:09.317Z"
   },
   {
    "duration": 302,
    "start_time": "2022-12-23T17:32:03.721Z"
   },
   {
    "duration": 18,
    "start_time": "2022-12-23T18:22:31.722Z"
   },
   {
    "duration": 155,
    "start_time": "2022-12-23T18:22:44.723Z"
   },
   {
    "duration": 174,
    "start_time": "2022-12-23T18:23:38.361Z"
   },
   {
    "duration": 193,
    "start_time": "2022-12-23T18:24:11.998Z"
   },
   {
    "duration": 185,
    "start_time": "2022-12-23T18:27:24.475Z"
   },
   {
    "duration": 215,
    "start_time": "2022-12-23T18:28:04.248Z"
   },
   {
    "duration": 185,
    "start_time": "2022-12-23T18:30:10.743Z"
   },
   {
    "duration": 204,
    "start_time": "2022-12-23T18:34:32.826Z"
   },
   {
    "duration": 192,
    "start_time": "2022-12-23T18:34:35.325Z"
   },
   {
    "duration": 197,
    "start_time": "2022-12-23T18:34:38.565Z"
   },
   {
    "duration": 222,
    "start_time": "2022-12-23T18:36:20.919Z"
   },
   {
    "duration": 196,
    "start_time": "2022-12-23T18:36:58.075Z"
   },
   {
    "duration": 205,
    "start_time": "2022-12-23T18:37:27.721Z"
   },
   {
    "duration": 57,
    "start_time": "2022-12-23T18:38:47.510Z"
   },
   {
    "duration": 160,
    "start_time": "2022-12-23T19:05:38.248Z"
   },
   {
    "duration": 161,
    "start_time": "2022-12-23T19:05:58.714Z"
   },
   {
    "duration": 161,
    "start_time": "2022-12-23T19:06:01.554Z"
   },
   {
    "duration": 3,
    "start_time": "2022-12-23T19:40:53.255Z"
   },
   {
    "duration": 4,
    "start_time": "2022-12-23T20:43:45.368Z"
   },
   {
    "duration": 4,
    "start_time": "2022-12-23T20:43:46.980Z"
   },
   {
    "duration": 5,
    "start_time": "2022-12-23T20:45:17.854Z"
   },
   {
    "duration": 4,
    "start_time": "2022-12-23T20:45:24.025Z"
   },
   {
    "duration": 23,
    "start_time": "2022-12-23T20:45:32.683Z"
   },
   {
    "duration": 5,
    "start_time": "2022-12-23T20:45:45.886Z"
   },
   {
    "duration": 9,
    "start_time": "2022-12-23T20:48:21.958Z"
   },
   {
    "duration": 14,
    "start_time": "2022-12-23T20:48:32.721Z"
   },
   {
    "duration": 9,
    "start_time": "2022-12-23T20:50:30.422Z"
   },
   {
    "duration": 60,
    "start_time": "2022-12-23T20:51:23.561Z"
   },
   {
    "duration": 6,
    "start_time": "2022-12-23T20:52:52.778Z"
   },
   {
    "duration": 7,
    "start_time": "2022-12-23T20:54:59.266Z"
   },
   {
    "duration": 10,
    "start_time": "2022-12-23T20:55:31.710Z"
   },
   {
    "duration": 2,
    "start_time": "2022-12-23T20:55:50.825Z"
   },
   {
    "duration": 9,
    "start_time": "2022-12-23T20:55:53.418Z"
   },
   {
    "duration": 2,
    "start_time": "2022-12-23T20:56:34.302Z"
   },
   {
    "duration": 5,
    "start_time": "2022-12-23T20:56:34.522Z"
   },
   {
    "duration": 6,
    "start_time": "2022-12-23T20:56:35.148Z"
   },
   {
    "duration": 10,
    "start_time": "2022-12-23T20:56:35.462Z"
   },
   {
    "duration": 10,
    "start_time": "2022-12-23T20:57:50.222Z"
   },
   {
    "duration": 4,
    "start_time": "2022-12-23T20:58:54.089Z"
   },
   {
    "duration": 4,
    "start_time": "2022-12-23T20:58:54.673Z"
   },
   {
    "duration": 48,
    "start_time": "2022-12-23T20:58:55.807Z"
   },
   {
    "duration": 4,
    "start_time": "2022-12-23T20:59:01.865Z"
   },
   {
    "duration": 6,
    "start_time": "2022-12-23T21:09:57.412Z"
   },
   {
    "duration": 5,
    "start_time": "2022-12-23T21:09:57.761Z"
   },
   {
    "duration": 5,
    "start_time": "2022-12-23T21:12:47.713Z"
   },
   {
    "duration": 4,
    "start_time": "2022-12-23T21:13:09.751Z"
   },
   {
    "duration": 4,
    "start_time": "2022-12-23T21:13:15.458Z"
   },
   {
    "duration": 4,
    "start_time": "2022-12-23T21:13:24.952Z"
   },
   {
    "duration": 5,
    "start_time": "2022-12-23T21:14:03.319Z"
   },
   {
    "duration": 3,
    "start_time": "2022-12-23T21:14:08.214Z"
   },
   {
    "duration": 5,
    "start_time": "2022-12-23T21:15:09.656Z"
   },
   {
    "duration": 5,
    "start_time": "2022-12-23T21:15:09.959Z"
   },
   {
    "duration": 2,
    "start_time": "2022-12-23T21:15:10.556Z"
   },
   {
    "duration": 3,
    "start_time": "2022-12-23T21:15:11.310Z"
   },
   {
    "duration": 3,
    "start_time": "2022-12-23T21:15:11.720Z"
   },
   {
    "duration": 5,
    "start_time": "2022-12-23T21:15:12.615Z"
   },
   {
    "duration": 1125,
    "start_time": "2022-12-23T21:46:11.207Z"
   },
   {
    "duration": 53,
    "start_time": "2022-12-23T21:46:15.538Z"
   },
   {
    "duration": 24,
    "start_time": "2022-12-23T21:46:16.506Z"
   },
   {
    "duration": 15,
    "start_time": "2022-12-23T21:46:17.104Z"
   },
   {
    "duration": 16,
    "start_time": "2022-12-23T21:46:19.048Z"
   },
   {
    "duration": 3,
    "start_time": "2022-12-23T21:46:19.897Z"
   },
   {
    "duration": 4,
    "start_time": "2022-12-23T21:46:20.355Z"
   },
   {
    "duration": 14,
    "start_time": "2022-12-23T21:46:20.907Z"
   },
   {
    "duration": 5,
    "start_time": "2022-12-23T21:46:21.872Z"
   },
   {
    "duration": 10,
    "start_time": "2022-12-23T21:46:23.951Z"
   },
   {
    "duration": 14,
    "start_time": "2022-12-23T21:46:24.824Z"
   },
   {
    "duration": 12,
    "start_time": "2022-12-23T21:46:25.659Z"
   },
   {
    "duration": 5,
    "start_time": "2022-12-23T21:46:26.471Z"
   },
   {
    "duration": 5,
    "start_time": "2022-12-23T21:46:26.872Z"
   },
   {
    "duration": 14,
    "start_time": "2022-12-23T21:46:27.416Z"
   },
   {
    "duration": 4,
    "start_time": "2022-12-23T21:46:28.390Z"
   },
   {
    "duration": 4,
    "start_time": "2022-12-23T21:46:29.105Z"
   },
   {
    "duration": 15,
    "start_time": "2022-12-23T21:46:29.807Z"
   },
   {
    "duration": 335,
    "start_time": "2022-12-23T21:46:31.944Z"
   },
   {
    "duration": 292,
    "start_time": "2022-12-23T21:46:36.920Z"
   },
   {
    "duration": 190,
    "start_time": "2022-12-23T21:46:38.354Z"
   },
   {
    "duration": 188,
    "start_time": "2022-12-23T21:46:40.057Z"
   },
   {
    "duration": 186,
    "start_time": "2022-12-23T21:46:40.548Z"
   },
   {
    "duration": 186,
    "start_time": "2022-12-23T21:46:41.451Z"
   },
   {
    "duration": 17,
    "start_time": "2022-12-23T21:46:44.157Z"
   },
   {
    "duration": 700,
    "start_time": "2022-12-23T21:46:45.321Z"
   },
   {
    "duration": 287,
    "start_time": "2022-12-23T21:46:48.248Z"
   },
   {
    "duration": 301,
    "start_time": "2022-12-23T21:46:49.444Z"
   },
   {
    "duration": 11,
    "start_time": "2022-12-23T21:46:51.355Z"
   },
   {
    "duration": 650,
    "start_time": "2022-12-23T21:46:52.403Z"
   },
   {
    "duration": 9,
    "start_time": "2022-12-23T21:46:53.768Z"
   },
   {
    "duration": 12,
    "start_time": "2022-12-23T21:46:55.775Z"
   },
   {
    "duration": 598,
    "start_time": "2022-12-23T21:46:57.252Z"
   },
   {
    "duration": 8,
    "start_time": "2022-12-23T21:46:58.544Z"
   },
   {
    "duration": 198,
    "start_time": "2022-12-23T21:47:00.499Z"
   },
   {
    "duration": 353,
    "start_time": "2022-12-23T21:47:02.051Z"
   },
   {
    "duration": 204,
    "start_time": "2022-12-23T21:47:03.449Z"
   },
   {
    "duration": 94,
    "start_time": "2022-12-23T21:47:05.607Z"
   },
   {
    "duration": 6,
    "start_time": "2022-12-23T21:47:37.016Z"
   },
   {
    "duration": 6,
    "start_time": "2022-12-23T21:47:41.956Z"
   },
   {
    "duration": 168,
    "start_time": "2022-12-23T21:47:50.154Z"
   },
   {
    "duration": 181,
    "start_time": "2022-12-23T21:47:54.056Z"
   },
   {
    "duration": 198,
    "start_time": "2022-12-23T21:47:55.245Z"
   },
   {
    "duration": 309,
    "start_time": "2022-12-23T21:47:56.575Z"
   },
   {
    "duration": 195,
    "start_time": "2022-12-23T21:47:58.647Z"
   },
   {
    "duration": 196,
    "start_time": "2022-12-23T21:47:59.706Z"
   },
   {
    "duration": 205,
    "start_time": "2022-12-23T21:48:00.760Z"
   },
   {
    "duration": 176,
    "start_time": "2022-12-23T21:48:02.744Z"
   },
   {
    "duration": 160,
    "start_time": "2022-12-23T21:48:03.760Z"
   },
   {
    "duration": 160,
    "start_time": "2022-12-23T21:48:04.899Z"
   },
   {
    "duration": 5,
    "start_time": "2022-12-23T21:48:07.748Z"
   },
   {
    "duration": 4,
    "start_time": "2022-12-23T21:48:08.055Z"
   },
   {
    "duration": 3,
    "start_time": "2022-12-23T21:48:08.743Z"
   },
   {
    "duration": 4,
    "start_time": "2022-12-23T21:48:09.096Z"
   },
   {
    "duration": 3,
    "start_time": "2022-12-23T21:48:09.448Z"
   },
   {
    "duration": 4,
    "start_time": "2022-12-23T21:48:09.863Z"
   },
   {
    "duration": 6,
    "start_time": "2022-12-23T21:48:11.701Z"
   },
   {
    "duration": 4,
    "start_time": "2022-12-23T21:48:12.049Z"
   },
   {
    "duration": 2,
    "start_time": "2022-12-23T21:48:12.906Z"
   },
   {
    "duration": 4,
    "start_time": "2022-12-23T21:48:13.264Z"
   },
   {
    "duration": 4,
    "start_time": "2022-12-23T21:48:13.604Z"
   },
   {
    "duration": 3,
    "start_time": "2022-12-23T21:48:13.955Z"
   },
   {
    "duration": 65,
    "start_time": "2022-12-24T10:49:37.381Z"
   },
   {
    "duration": 50,
    "start_time": "2022-12-24T11:33:25.940Z"
   },
   {
    "duration": 43,
    "start_time": "2022-12-24T11:33:53.161Z"
   },
   {
    "duration": 1367,
    "start_time": "2022-12-24T11:34:01.390Z"
   },
   {
    "duration": 98,
    "start_time": "2022-12-24T11:34:02.760Z"
   },
   {
    "duration": 24,
    "start_time": "2022-12-24T11:34:02.860Z"
   },
   {
    "duration": 23,
    "start_time": "2022-12-24T11:34:02.886Z"
   },
   {
    "duration": 44,
    "start_time": "2022-12-24T11:34:04.056Z"
   },
   {
    "duration": 203,
    "start_time": "2022-12-24T11:35:03.031Z"
   },
   {
    "duration": 92,
    "start_time": "2022-12-24T11:48:34.038Z"
   },
   {
    "duration": 1073,
    "start_time": "2022-12-24T11:48:54.743Z"
   },
   {
    "duration": 50,
    "start_time": "2022-12-24T11:48:55.818Z"
   },
   {
    "duration": 21,
    "start_time": "2022-12-24T11:48:55.870Z"
   },
   {
    "duration": 13,
    "start_time": "2022-12-24T11:48:55.968Z"
   },
   {
    "duration": 16,
    "start_time": "2022-12-24T11:48:59.819Z"
   },
   {
    "duration": 3,
    "start_time": "2022-12-24T11:49:00.747Z"
   },
   {
    "duration": 4,
    "start_time": "2022-12-24T11:49:01.100Z"
   },
   {
    "duration": 13,
    "start_time": "2022-12-24T11:49:01.836Z"
   },
   {
    "duration": 6,
    "start_time": "2022-12-24T11:49:02.524Z"
   },
   {
    "duration": 9,
    "start_time": "2022-12-24T11:49:03.852Z"
   },
   {
    "duration": 15,
    "start_time": "2022-12-24T11:49:04.796Z"
   },
   {
    "duration": 12,
    "start_time": "2022-12-24T11:49:05.445Z"
   },
   {
    "duration": 5,
    "start_time": "2022-12-24T11:49:06.628Z"
   },
   {
    "duration": 5,
    "start_time": "2022-12-24T11:49:07.077Z"
   },
   {
    "duration": 16,
    "start_time": "2022-12-24T11:49:30.375Z"
   },
   {
    "duration": 4,
    "start_time": "2022-12-24T11:49:31.172Z"
   },
   {
    "duration": 4,
    "start_time": "2022-12-24T11:49:32.315Z"
   },
   {
    "duration": 16,
    "start_time": "2022-12-24T11:49:34.059Z"
   },
   {
    "duration": 344,
    "start_time": "2022-12-24T11:49:36.339Z"
   },
   {
    "duration": 284,
    "start_time": "2022-12-24T11:49:38.715Z"
   },
   {
    "duration": 192,
    "start_time": "2022-12-24T11:49:40.059Z"
   },
   {
    "duration": 182,
    "start_time": "2022-12-24T11:49:40.716Z"
   },
   {
    "duration": 174,
    "start_time": "2022-12-24T11:49:41.564Z"
   },
   {
    "duration": 214,
    "start_time": "2022-12-24T11:49:42.564Z"
   },
   {
    "duration": 16,
    "start_time": "2022-12-24T11:49:45.084Z"
   },
   {
    "duration": 712,
    "start_time": "2022-12-24T11:49:46.644Z"
   },
   {
    "duration": 291,
    "start_time": "2022-12-24T11:49:49.491Z"
   },
   {
    "duration": 294,
    "start_time": "2022-12-24T11:49:50.643Z"
   },
   {
    "duration": 10,
    "start_time": "2022-12-24T11:49:59.091Z"
   },
   {
    "duration": 553,
    "start_time": "2022-12-24T11:50:00.476Z"
   },
   {
    "duration": 10,
    "start_time": "2022-12-24T11:50:02.380Z"
   },
   {
    "duration": 11,
    "start_time": "2022-12-24T11:50:03.877Z"
   },
   {
    "duration": 626,
    "start_time": "2022-12-24T11:50:05.085Z"
   },
   {
    "duration": 555,
    "start_time": "2022-12-24T11:50:07.083Z"
   },
   {
    "duration": 9,
    "start_time": "2022-12-24T11:50:53.756Z"
   },
   {
    "duration": 9,
    "start_time": "2022-12-24T11:55:57.012Z"
   },
   {
    "duration": 208,
    "start_time": "2022-12-24T11:56:00.754Z"
   },
   {
    "duration": 408,
    "start_time": "2022-12-24T11:56:02.234Z"
   },
   {
    "duration": 332,
    "start_time": "2022-12-24T11:56:03.755Z"
   },
   {
    "duration": 7,
    "start_time": "2022-12-24T11:56:04.994Z"
   },
   {
    "duration": 178,
    "start_time": "2022-12-24T11:56:06.178Z"
   },
   {
    "duration": 175,
    "start_time": "2022-12-24T11:56:09.314Z"
   },
   {
    "duration": 176,
    "start_time": "2022-12-24T11:56:10.282Z"
   },
   {
    "duration": 175,
    "start_time": "2022-12-24T11:56:11.274Z"
   },
   {
    "duration": 211,
    "start_time": "2022-12-24T11:56:13.850Z"
   },
   {
    "duration": 204,
    "start_time": "2022-12-24T11:56:14.929Z"
   },
   {
    "duration": 192,
    "start_time": "2022-12-24T11:56:18.274Z"
   },
   {
    "duration": 164,
    "start_time": "2022-12-24T11:56:20.387Z"
   },
   {
    "duration": 160,
    "start_time": "2022-12-24T11:56:21.266Z"
   },
   {
    "duration": 171,
    "start_time": "2022-12-24T11:56:22.066Z"
   },
   {
    "duration": 313,
    "start_time": "2022-12-24T11:56:58.598Z"
   }
  ],
  "kernelspec": {
   "display_name": "Python 3 (ipykernel)",
   "language": "python",
   "name": "python3"
  },
  "language_info": {
   "codemirror_mode": {
    "name": "ipython",
    "version": 3
   },
   "file_extension": ".py",
   "mimetype": "text/x-python",
   "name": "python",
   "nbconvert_exporter": "python",
   "pygments_lexer": "ipython3",
   "version": "3.9.13"
  },
  "toc": {
   "base_numbering": 1,
   "nav_menu": {},
   "number_sections": true,
   "sideBar": true,
   "skip_h1_title": true,
   "title_cell": "Table of Contents",
   "title_sidebar": "Contents",
   "toc_cell": false,
   "toc_position": {},
   "toc_section_display": true,
   "toc_window_display": false
  }
 },
 "nbformat": 4,
 "nbformat_minor": 2
}
